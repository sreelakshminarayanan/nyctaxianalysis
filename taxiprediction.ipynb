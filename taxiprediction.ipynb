{
 "cells": [
  {
   "cell_type": "code",
   "execution_count": 19,
   "metadata": {},
   "outputs": [],
   "source": [
    "# Initial Python environment setup...\n",
    "import numpy as np # linear algebra\n",
    "import pandas as pd # CSV file I/O (e.g. pd.read_csv)\n",
    "import os # reading the input files we have access to"
   ]
  },
  {
   "cell_type": "code",
   "execution_count": 20,
   "metadata": {},
   "outputs": [],
   "source": [
    "from haversine import haversine\n",
    "# packages for mapping\n"
   ]
  },
  {
   "cell_type": "code",
   "execution_count": 21,
   "metadata": {},
   "outputs": [
    {
     "data": {
      "text/plain": [
       "key                   object\n",
       "fare_amount          float64\n",
       "pickup_datetime       object\n",
       "pickup_longitude     float64\n",
       "pickup_latitude      float64\n",
       "dropoff_longitude    float64\n",
       "dropoff_latitude     float64\n",
       "passenger_count        int64\n",
       "dtype: object"
      ]
     },
     "execution_count": 21,
     "metadata": {},
     "output_type": "execute_result"
    }
   ],
   "source": [
    "train_df =  pd.read_csv('train.csv', nrows = 10_000_00)\n",
    "train_df.dtypes"
   ]
  },
  {
   "cell_type": "code",
   "execution_count": 22,
   "metadata": {},
   "outputs": [
    {
     "data": {
      "text/html": [
       "<div>\n",
       "<style scoped>\n",
       "    .dataframe tbody tr th:only-of-type {\n",
       "        vertical-align: middle;\n",
       "    }\n",
       "\n",
       "    .dataframe tbody tr th {\n",
       "        vertical-align: top;\n",
       "    }\n",
       "\n",
       "    .dataframe thead th {\n",
       "        text-align: right;\n",
       "    }\n",
       "</style>\n",
       "<table border=\"1\" class=\"dataframe\">\n",
       "  <thead>\n",
       "    <tr style=\"text-align: right;\">\n",
       "      <th></th>\n",
       "      <th>key</th>\n",
       "      <th>fare_amount</th>\n",
       "      <th>pickup_datetime</th>\n",
       "      <th>pickup_longitude</th>\n",
       "      <th>pickup_latitude</th>\n",
       "      <th>dropoff_longitude</th>\n",
       "      <th>dropoff_latitude</th>\n",
       "      <th>passenger_count</th>\n",
       "    </tr>\n",
       "  </thead>\n",
       "  <tbody>\n",
       "    <tr>\n",
       "      <th>0</th>\n",
       "      <td>2009-06-15 17:26:21.0000001</td>\n",
       "      <td>4.5</td>\n",
       "      <td>2009-06-15 17:26:21 UTC</td>\n",
       "      <td>-73.844311</td>\n",
       "      <td>40.721319</td>\n",
       "      <td>-73.841610</td>\n",
       "      <td>40.712278</td>\n",
       "      <td>1</td>\n",
       "    </tr>\n",
       "    <tr>\n",
       "      <th>1</th>\n",
       "      <td>2010-01-05 16:52:16.0000002</td>\n",
       "      <td>16.9</td>\n",
       "      <td>2010-01-05 16:52:16 UTC</td>\n",
       "      <td>-74.016048</td>\n",
       "      <td>40.711303</td>\n",
       "      <td>-73.979268</td>\n",
       "      <td>40.782004</td>\n",
       "      <td>1</td>\n",
       "    </tr>\n",
       "    <tr>\n",
       "      <th>2</th>\n",
       "      <td>2011-08-18 00:35:00.00000049</td>\n",
       "      <td>5.7</td>\n",
       "      <td>2011-08-18 00:35:00 UTC</td>\n",
       "      <td>-73.982738</td>\n",
       "      <td>40.761270</td>\n",
       "      <td>-73.991242</td>\n",
       "      <td>40.750562</td>\n",
       "      <td>2</td>\n",
       "    </tr>\n",
       "    <tr>\n",
       "      <th>3</th>\n",
       "      <td>2012-04-21 04:30:42.0000001</td>\n",
       "      <td>7.7</td>\n",
       "      <td>2012-04-21 04:30:42 UTC</td>\n",
       "      <td>-73.987130</td>\n",
       "      <td>40.733143</td>\n",
       "      <td>-73.991567</td>\n",
       "      <td>40.758092</td>\n",
       "      <td>1</td>\n",
       "    </tr>\n",
       "    <tr>\n",
       "      <th>4</th>\n",
       "      <td>2010-03-09 07:51:00.000000135</td>\n",
       "      <td>5.3</td>\n",
       "      <td>2010-03-09 07:51:00 UTC</td>\n",
       "      <td>-73.968095</td>\n",
       "      <td>40.768008</td>\n",
       "      <td>-73.956655</td>\n",
       "      <td>40.783762</td>\n",
       "      <td>1</td>\n",
       "    </tr>\n",
       "  </tbody>\n",
       "</table>\n",
       "</div>"
      ],
      "text/plain": [
       "                             key  fare_amount          pickup_datetime  \\\n",
       "0    2009-06-15 17:26:21.0000001          4.5  2009-06-15 17:26:21 UTC   \n",
       "1    2010-01-05 16:52:16.0000002         16.9  2010-01-05 16:52:16 UTC   \n",
       "2   2011-08-18 00:35:00.00000049          5.7  2011-08-18 00:35:00 UTC   \n",
       "3    2012-04-21 04:30:42.0000001          7.7  2012-04-21 04:30:42 UTC   \n",
       "4  2010-03-09 07:51:00.000000135          5.3  2010-03-09 07:51:00 UTC   \n",
       "\n",
       "   pickup_longitude  pickup_latitude  dropoff_longitude  dropoff_latitude  \\\n",
       "0        -73.844311        40.721319         -73.841610         40.712278   \n",
       "1        -74.016048        40.711303         -73.979268         40.782004   \n",
       "2        -73.982738        40.761270         -73.991242         40.750562   \n",
       "3        -73.987130        40.733143         -73.991567         40.758092   \n",
       "4        -73.968095        40.768008         -73.956655         40.783762   \n",
       "\n",
       "   passenger_count  \n",
       "0                1  \n",
       "1                1  \n",
       "2                2  \n",
       "3                1  \n",
       "4                1  "
      ]
     },
     "execution_count": 22,
     "metadata": {},
     "output_type": "execute_result"
    }
   ],
   "source": [
    "train_df.head()"
   ]
  },
  {
   "cell_type": "code",
   "execution_count": 23,
   "metadata": {},
   "outputs": [],
   "source": [
    "import matplotlib.pyplot as plt\n",
    "import plotly.figure_factory as ff\n",
    "from plotly.offline import init_notebook_mode, iplot\n",
    "import plotly.graph_objs as go\n",
    "import plotly.plotly as py\n",
    "from plotly import tools\n",
    "%matplotlib inline"
   ]
  },
  {
   "cell_type": "code",
   "execution_count": 24,
   "metadata": {},
   "outputs": [],
   "source": [
    "train_df['pickup_datetime']= pd.to_datetime(train_df['pickup_datetime'])\n"
   ]
  },
  {
   "cell_type": "code",
   "execution_count": 25,
   "metadata": {},
   "outputs": [],
   "source": [
    "train_df['pickup_day_of_week']=train_df['pickup_datetime'].dt.dayofweek"
   ]
  },
  {
   "cell_type": "code",
   "execution_count": 26,
   "metadata": {},
   "outputs": [],
   "source": [
    "train_df['pickup_month']=train_df['pickup_datetime'].dt.month"
   ]
  },
  {
   "cell_type": "code",
   "execution_count": 27,
   "metadata": {},
   "outputs": [
    {
     "data": {
      "text/html": [
       "<div>\n",
       "<style scoped>\n",
       "    .dataframe tbody tr th:only-of-type {\n",
       "        vertical-align: middle;\n",
       "    }\n",
       "\n",
       "    .dataframe tbody tr th {\n",
       "        vertical-align: top;\n",
       "    }\n",
       "\n",
       "    .dataframe thead th {\n",
       "        text-align: right;\n",
       "    }\n",
       "</style>\n",
       "<table border=\"1\" class=\"dataframe\">\n",
       "  <thead>\n",
       "    <tr style=\"text-align: right;\">\n",
       "      <th></th>\n",
       "      <th>key</th>\n",
       "      <th>fare_amount</th>\n",
       "      <th>pickup_datetime</th>\n",
       "      <th>pickup_longitude</th>\n",
       "      <th>pickup_latitude</th>\n",
       "      <th>dropoff_longitude</th>\n",
       "      <th>dropoff_latitude</th>\n",
       "      <th>passenger_count</th>\n",
       "      <th>pickup_day_of_week</th>\n",
       "      <th>pickup_month</th>\n",
       "    </tr>\n",
       "  </thead>\n",
       "  <tbody>\n",
       "    <tr>\n",
       "      <th>999995</th>\n",
       "      <td>2014-09-13 21:44:38.0000001</td>\n",
       "      <td>7.0</td>\n",
       "      <td>2014-09-13 21:44:38</td>\n",
       "      <td>-73.976676</td>\n",
       "      <td>40.785630</td>\n",
       "      <td>-73.959196</td>\n",
       "      <td>40.775114</td>\n",
       "      <td>1</td>\n",
       "      <td>5</td>\n",
       "      <td>9</td>\n",
       "    </tr>\n",
       "    <tr>\n",
       "      <th>999996</th>\n",
       "      <td>2010-09-20 14:50:37.0000002</td>\n",
       "      <td>7.3</td>\n",
       "      <td>2010-09-20 14:50:37</td>\n",
       "      <td>-73.992103</td>\n",
       "      <td>40.671385</td>\n",
       "      <td>-73.992103</td>\n",
       "      <td>40.671385</td>\n",
       "      <td>2</td>\n",
       "      <td>0</td>\n",
       "      <td>9</td>\n",
       "    </tr>\n",
       "    <tr>\n",
       "      <th>999997</th>\n",
       "      <td>2013-04-26 14:03:00.000000118</td>\n",
       "      <td>10.5</td>\n",
       "      <td>2013-04-26 14:03:00</td>\n",
       "      <td>-73.978423</td>\n",
       "      <td>40.751135</td>\n",
       "      <td>-73.993397</td>\n",
       "      <td>40.762197</td>\n",
       "      <td>5</td>\n",
       "      <td>4</td>\n",
       "      <td>4</td>\n",
       "    </tr>\n",
       "    <tr>\n",
       "      <th>999998</th>\n",
       "      <td>2011-07-08 00:29:00.00000099</td>\n",
       "      <td>6.9</td>\n",
       "      <td>2011-07-08 00:29:00</td>\n",
       "      <td>-73.980317</td>\n",
       "      <td>40.759482</td>\n",
       "      <td>-73.976832</td>\n",
       "      <td>40.743122</td>\n",
       "      <td>1</td>\n",
       "      <td>4</td>\n",
       "      <td>7</td>\n",
       "    </tr>\n",
       "    <tr>\n",
       "      <th>999999</th>\n",
       "      <td>2009-12-31 14:30:00.00000021</td>\n",
       "      <td>4.1</td>\n",
       "      <td>2009-12-31 14:30:00</td>\n",
       "      <td>-74.006635</td>\n",
       "      <td>40.741598</td>\n",
       "      <td>-73.999450</td>\n",
       "      <td>40.745702</td>\n",
       "      <td>1</td>\n",
       "      <td>3</td>\n",
       "      <td>12</td>\n",
       "    </tr>\n",
       "  </tbody>\n",
       "</table>\n",
       "</div>"
      ],
      "text/plain": [
       "                                  key  fare_amount     pickup_datetime  \\\n",
       "999995    2014-09-13 21:44:38.0000001          7.0 2014-09-13 21:44:38   \n",
       "999996    2010-09-20 14:50:37.0000002          7.3 2010-09-20 14:50:37   \n",
       "999997  2013-04-26 14:03:00.000000118         10.5 2013-04-26 14:03:00   \n",
       "999998   2011-07-08 00:29:00.00000099          6.9 2011-07-08 00:29:00   \n",
       "999999   2009-12-31 14:30:00.00000021          4.1 2009-12-31 14:30:00   \n",
       "\n",
       "        pickup_longitude  pickup_latitude  dropoff_longitude  \\\n",
       "999995        -73.976676        40.785630         -73.959196   \n",
       "999996        -73.992103        40.671385         -73.992103   \n",
       "999997        -73.978423        40.751135         -73.993397   \n",
       "999998        -73.980317        40.759482         -73.976832   \n",
       "999999        -74.006635        40.741598         -73.999450   \n",
       "\n",
       "        dropoff_latitude  passenger_count  pickup_day_of_week  pickup_month  \n",
       "999995         40.775114                1                   5             9  \n",
       "999996         40.671385                2                   0             9  \n",
       "999997         40.762197                5                   4             4  \n",
       "999998         40.743122                1                   4             7  \n",
       "999999         40.745702                1                   3            12  "
      ]
     },
     "execution_count": 27,
     "metadata": {},
     "output_type": "execute_result"
    }
   ],
   "source": [
    "train_df.tail()"
   ]
  },
  {
   "cell_type": "code",
   "execution_count": 28,
   "metadata": {},
   "outputs": [],
   "source": [
    "train_df['pickup_date']=train_df['pickup_datetime'].dt.date"
   ]
  },
  {
   "cell_type": "code",
   "execution_count": 29,
   "metadata": {},
   "outputs": [
    {
     "data": {
      "text/plain": [
       "array(['2009-06-15 17:26:21.0000001', '2010-01-05 16:52:16.0000002',\n",
       "       '2011-08-18 00:35:00.00000049', ...,\n",
       "       '2013-04-26 14:03:00.000000118', '2011-07-08 00:29:00.00000099',\n",
       "       '2009-12-31 14:30:00.00000021'], dtype=object)"
      ]
     },
     "execution_count": 29,
     "metadata": {},
     "output_type": "execute_result"
    }
   ],
   "source": [
    "train_df['key'].unique()\n"
   ]
  },
  {
   "cell_type": "code",
   "execution_count": 30,
   "metadata": {},
   "outputs": [
    {
     "data": {
      "text/html": [
       "<div>\n",
       "<style scoped>\n",
       "    .dataframe tbody tr th:only-of-type {\n",
       "        vertical-align: middle;\n",
       "    }\n",
       "\n",
       "    .dataframe tbody tr th {\n",
       "        vertical-align: top;\n",
       "    }\n",
       "\n",
       "    .dataframe thead th {\n",
       "        text-align: right;\n",
       "    }\n",
       "</style>\n",
       "<table border=\"1\" class=\"dataframe\">\n",
       "  <thead>\n",
       "    <tr style=\"text-align: right;\">\n",
       "      <th></th>\n",
       "      <th>key</th>\n",
       "      <th>fare_amount</th>\n",
       "      <th>pickup_datetime</th>\n",
       "      <th>pickup_longitude</th>\n",
       "      <th>pickup_latitude</th>\n",
       "      <th>dropoff_longitude</th>\n",
       "      <th>dropoff_latitude</th>\n",
       "      <th>passenger_count</th>\n",
       "      <th>pickup_day_of_week</th>\n",
       "      <th>pickup_month</th>\n",
       "      <th>pickup_date</th>\n",
       "    </tr>\n",
       "  </thead>\n",
       "  <tbody>\n",
       "  </tbody>\n",
       "</table>\n",
       "</div>"
      ],
      "text/plain": [
       "Empty DataFrame\n",
       "Columns: [key, fare_amount, pickup_datetime, pickup_longitude, pickup_latitude, dropoff_longitude, dropoff_latitude, passenger_count, pickup_day_of_week, pickup_month, pickup_date]\n",
       "Index: []"
      ]
     },
     "execution_count": 30,
     "metadata": {},
     "output_type": "execute_result"
    }
   ],
   "source": [
    "train_df.loc[train_df[\"pickup_date\"] == \"2009-12-31\"]"
   ]
  },
  {
   "cell_type": "code",
   "execution_count": 31,
   "metadata": {},
   "outputs": [
    {
     "data": {
      "text/html": [
       "<div>\n",
       "<style scoped>\n",
       "    .dataframe tbody tr th:only-of-type {\n",
       "        vertical-align: middle;\n",
       "    }\n",
       "\n",
       "    .dataframe tbody tr th {\n",
       "        vertical-align: top;\n",
       "    }\n",
       "\n",
       "    .dataframe thead th {\n",
       "        text-align: right;\n",
       "    }\n",
       "</style>\n",
       "<table border=\"1\" class=\"dataframe\">\n",
       "  <thead>\n",
       "    <tr style=\"text-align: right;\">\n",
       "      <th></th>\n",
       "      <th>key</th>\n",
       "      <th>fare_amount</th>\n",
       "      <th>pickup_datetime</th>\n",
       "      <th>pickup_longitude</th>\n",
       "      <th>pickup_latitude</th>\n",
       "      <th>dropoff_longitude</th>\n",
       "      <th>dropoff_latitude</th>\n",
       "      <th>passenger_count</th>\n",
       "      <th>pickup_day_of_week</th>\n",
       "      <th>pickup_month</th>\n",
       "      <th>pickup_date</th>\n",
       "    </tr>\n",
       "  </thead>\n",
       "  <tbody>\n",
       "  </tbody>\n",
       "</table>\n",
       "</div>"
      ],
      "text/plain": [
       "Empty DataFrame\n",
       "Columns: [key, fare_amount, pickup_datetime, pickup_longitude, pickup_latitude, dropoff_longitude, dropoff_latitude, passenger_count, pickup_day_of_week, pickup_month, pickup_date]\n",
       "Index: []"
      ]
     },
     "execution_count": 31,
     "metadata": {},
     "output_type": "execute_result"
    }
   ],
   "source": [
    "train_df.loc[train_df[\"key\"] == \"756707\"]"
   ]
  },
  {
   "cell_type": "code",
   "execution_count": 32,
   "metadata": {},
   "outputs": [
    {
     "data": {
      "text/plain": [
       "key                           object\n",
       "fare_amount                  float64\n",
       "pickup_datetime       datetime64[ns]\n",
       "pickup_longitude             float64\n",
       "pickup_latitude              float64\n",
       "dropoff_longitude            float64\n",
       "dropoff_latitude             float64\n",
       "passenger_count                int64\n",
       "pickup_day_of_week             int64\n",
       "pickup_month                   int64\n",
       "pickup_date                   object\n",
       "dtype: object"
      ]
     },
     "execution_count": 32,
     "metadata": {},
     "output_type": "execute_result"
    }
   ],
   "source": [
    "train_df.dtypes"
   ]
  },
  {
   "cell_type": "code",
   "execution_count": 33,
   "metadata": {},
   "outputs": [],
   "source": [
    "train_df['pickup_date'] =train_df['pickup_date'].astype(str)\n"
   ]
  },
  {
   "cell_type": "code",
   "execution_count": 34,
   "metadata": {},
   "outputs": [
    {
     "data": {
      "text/plain": [
       "key                           object\n",
       "fare_amount                  float64\n",
       "pickup_datetime       datetime64[ns]\n",
       "pickup_longitude             float64\n",
       "pickup_latitude              float64\n",
       "dropoff_longitude            float64\n",
       "dropoff_latitude             float64\n",
       "passenger_count                int64\n",
       "pickup_day_of_week             int64\n",
       "pickup_month                   int64\n",
       "pickup_date                   object\n",
       "dtype: object"
      ]
     },
     "execution_count": 34,
     "metadata": {},
     "output_type": "execute_result"
    }
   ],
   "source": [
    "train_df.dtypes"
   ]
  },
  {
   "cell_type": "code",
   "execution_count": 35,
   "metadata": {},
   "outputs": [
    {
     "data": {
      "text/plain": [
       "<matplotlib.axes._subplots.AxesSubplot at 0x2d190860>"
      ]
     },
     "execution_count": 35,
     "metadata": {},
     "output_type": "execute_result"
    },
    {
     "data": {
      "image/png": "[encoded data removed]",
      "text/plain": [
       "<Figure size 432x288 with 1 Axes>"
      ]
     },
     "metadata": {
      "needs_background": "light"
     },
     "output_type": "display_data"
    }
   ],
   "source": [
    "train_df[\"pickup_month\"].value_counts().sort_index().plot()"
   ]
  },
  {
   "cell_type": "code",
   "execution_count": 36,
   "metadata": {},
   "outputs": [],
   "source": [
    "train_df.sort_values('pickup_day_of_week', ascending = True, inplace= True)"
   ]
  },
  {
   "cell_type": "code",
   "execution_count": 37,
   "metadata": {},
   "outputs": [
    {
     "data": {
      "text/plain": [
       "<matplotlib.axes._subplots.AxesSubplot at 0x27064860>"
      ]
     },
     "execution_count": 37,
     "metadata": {},
     "output_type": "execute_result"
    },
    {
     "data": {
      "image/png": "[encoded data removed]",
      "text/plain": [
       "<Figure size 432x288 with 1 Axes>"
      ]
     },
     "metadata": {
      "needs_background": "light"
     },
     "output_type": "display_data"
    }
   ],
   "source": [
    "train_df[\"pickup_day_of_week\"].value_counts().sort_index().plot()"
   ]
  },
  {
   "cell_type": "code",
   "execution_count": 38,
   "metadata": {},
   "outputs": [],
   "source": [
    "train_df['pickup_hour']=train_df['pickup_datetime'].dt.hour"
   ]
  },
  {
   "cell_type": "code",
   "execution_count": 39,
   "metadata": {},
   "outputs": [
    {
     "data": {
      "text/plain": [
       "<matplotlib.axes._subplots.AxesSubplot at 0x256a87f0>"
      ]
     },
     "execution_count": 39,
     "metadata": {},
     "output_type": "execute_result"
    },
    {
     "data": {
      "image/png": "[encoded data removed]",
      "text/plain": [
       "<Figure size 432x288 with 1 Axes>"
      ]
     },
     "metadata": {
      "needs_background": "light"
     },
     "output_type": "display_data"
    }
   ],
   "source": [
    "train_df['pickup_hour'].value_counts().sort_index().plot()"
   ]
  },
  {
   "cell_type": "code",
   "execution_count": 40,
   "metadata": {},
   "outputs": [],
   "source": [
    "train_df['pickup_year']=train_df['pickup_datetime'].dt.year"
   ]
  },
  {
   "cell_type": "code",
   "execution_count": 41,
   "metadata": {},
   "outputs": [
    {
     "data": {
      "text/plain": [
       "<matplotlib.axes._subplots.AxesSubplot at 0x25702eb8>"
      ]
     },
     "execution_count": 41,
     "metadata": {},
     "output_type": "execute_result"
    },
    {
     "data": {
      "image/png": "[encoded data removed]",
      "text/plain": [
       "<Figure size 432x288 with 1 Axes>"
      ]
     },
     "metadata": {
      "needs_background": "light"
     },
     "output_type": "display_data"
    }
   ],
   "source": [
    "train_df['pickup_year'].value_counts().sort_index().plot()"
   ]
  },
  {
   "cell_type": "code",
   "execution_count": 42,
   "metadata": {},
   "outputs": [
    {
     "data": {
      "text/plain": [
       "<matplotlib.axes._subplots.AxesSubplot at 0x24eb1b70>"
      ]
     },
     "execution_count": 42,
     "metadata": {},
     "output_type": "execute_result"
    },
    {
     "data": {
      "image/png": "[encoded data removed]",
      "text/plain": [
       "<Figure size 432x288 with 1 Axes>"
      ]
     },
     "metadata": {
      "needs_background": "light"
     },
     "output_type": "display_data"
    }
   ],
   "source": [
    "train_df.groupby('pickup_hour')['fare_amount'].mean().plot()"
   ]
  },
  {
   "cell_type": "code",
   "execution_count": 43,
   "metadata": {},
   "outputs": [
    {
     "data": {
      "text/plain": [
       "<matplotlib.axes._subplots.AxesSubplot at 0x257b35f8>"
      ]
     },
     "execution_count": 43,
     "metadata": {},
     "output_type": "execute_result"
    },
    {
     "data": {
      "image/png": "[encoded data removed]",
      "text/plain": [
       "<Figure size 432x288 with 1 Axes>"
      ]
     },
     "metadata": {
      "needs_background": "light"
     },
     "output_type": "display_data"
    }
   ],
   "source": [
    "train_df.groupby('pickup_day_of_week')['fare_amount'].mean().plot()"
   ]
  },
  {
   "cell_type": "code",
   "execution_count": 44,
   "metadata": {},
   "outputs": [
    {
     "data": {
      "text/plain": [
       "<matplotlib.axes._subplots.AxesSubplot at 0x2580d908>"
      ]
     },
     "execution_count": 44,
     "metadata": {},
     "output_type": "execute_result"
    },
    {
     "data": {
      "image/png": "[encoded data removed]",
      "text/plain": [
       "<Figure size 432x288 with 1 Axes>"
      ]
     },
     "metadata": {
      "needs_background": "light"
     },
     "output_type": "display_data"
    }
   ],
   "source": [
    "train_df.groupby('pickup_month')['fare_amount'].mean().plot()"
   ]
  },
  {
   "cell_type": "code",
   "execution_count": 45,
   "metadata": {},
   "outputs": [
    {
     "name": "stdout",
     "output_type": "stream",
     "text": [
      "<class 'pandas.core.frame.DataFrame'>\n",
      "Int64Index: 1000000 entries, 0 to 305517\n",
      "Data columns (total 13 columns):\n",
      "key                   1000000 non-null object\n",
      "fare_amount           1000000 non-null float64\n",
      "pickup_datetime       1000000 non-null datetime64[ns]\n",
      "pickup_longitude      1000000 non-null float64\n",
      "pickup_latitude       1000000 non-null float64\n",
      "dropoff_longitude     999990 non-null float64\n",
      "dropoff_latitude      999990 non-null float64\n",
      "passenger_count       1000000 non-null int64\n",
      "pickup_day_of_week    1000000 non-null int64\n",
      "pickup_month          1000000 non-null int64\n",
      "pickup_date           1000000 non-null object\n",
      "pickup_hour           1000000 non-null int64\n",
      "pickup_year           1000000 non-null int64\n",
      "dtypes: datetime64[ns](1), float64(5), int64(5), object(2)\n",
      "memory usage: 106.8+ MB\n"
     ]
    }
   ],
   "source": [
    "train_df.info()"
   ]
  },
  {
   "cell_type": "code",
   "execution_count": 46,
   "metadata": {},
   "outputs": [
    {
     "data": {
      "text/html": [
       "<div>\n",
       "<style scoped>\n",
       "    .dataframe tbody tr th:only-of-type {\n",
       "        vertical-align: middle;\n",
       "    }\n",
       "\n",
       "    .dataframe tbody tr th {\n",
       "        vertical-align: top;\n",
       "    }\n",
       "\n",
       "    .dataframe thead th {\n",
       "        text-align: right;\n",
       "    }\n",
       "</style>\n",
       "<table border=\"1\" class=\"dataframe\">\n",
       "  <thead>\n",
       "    <tr style=\"text-align: right;\">\n",
       "      <th></th>\n",
       "      <th>fare_amount</th>\n",
       "      <th>pickup_longitude</th>\n",
       "      <th>pickup_latitude</th>\n",
       "      <th>dropoff_longitude</th>\n",
       "      <th>dropoff_latitude</th>\n",
       "      <th>passenger_count</th>\n",
       "      <th>pickup_day_of_week</th>\n",
       "      <th>pickup_month</th>\n",
       "      <th>pickup_hour</th>\n",
       "      <th>pickup_year</th>\n",
       "    </tr>\n",
       "  </thead>\n",
       "  <tbody>\n",
       "    <tr>\n",
       "      <th>count</th>\n",
       "      <td>1000000.000000</td>\n",
       "      <td>1000000.000000</td>\n",
       "      <td>1000000.000000</td>\n",
       "      <td>999990.000000</td>\n",
       "      <td>999990.000000</td>\n",
       "      <td>1000000.000000</td>\n",
       "      <td>1000000.000000</td>\n",
       "      <td>1000000.000000</td>\n",
       "      <td>1000000.000000</td>\n",
       "      <td>1000000.000000</td>\n",
       "    </tr>\n",
       "    <tr>\n",
       "      <th>mean</th>\n",
       "      <td>11.348079</td>\n",
       "      <td>-72.526640</td>\n",
       "      <td>39.929008</td>\n",
       "      <td>-72.527860</td>\n",
       "      <td>39.919954</td>\n",
       "      <td>1.684924</td>\n",
       "      <td>3.039856</td>\n",
       "      <td>6.267875</td>\n",
       "      <td>13.509477</td>\n",
       "      <td>2011.741106</td>\n",
       "    </tr>\n",
       "    <tr>\n",
       "      <th>std</th>\n",
       "      <td>9.822090</td>\n",
       "      <td>12.057937</td>\n",
       "      <td>7.626154</td>\n",
       "      <td>11.324494</td>\n",
       "      <td>8.201418</td>\n",
       "      <td>1.323911</td>\n",
       "      <td>1.949970</td>\n",
       "      <td>3.436243</td>\n",
       "      <td>6.513840</td>\n",
       "      <td>1.860754</td>\n",
       "    </tr>\n",
       "    <tr>\n",
       "      <th>min</th>\n",
       "      <td>-44.900000</td>\n",
       "      <td>-3377.680935</td>\n",
       "      <td>-3116.285383</td>\n",
       "      <td>-3383.296608</td>\n",
       "      <td>-3114.338567</td>\n",
       "      <td>0.000000</td>\n",
       "      <td>0.000000</td>\n",
       "      <td>1.000000</td>\n",
       "      <td>0.000000</td>\n",
       "      <td>2009.000000</td>\n",
       "    </tr>\n",
       "    <tr>\n",
       "      <th>25%</th>\n",
       "      <td>6.000000</td>\n",
       "      <td>-73.992060</td>\n",
       "      <td>40.734965</td>\n",
       "      <td>-73.991385</td>\n",
       "      <td>40.734046</td>\n",
       "      <td>1.000000</td>\n",
       "      <td>1.000000</td>\n",
       "      <td>3.000000</td>\n",
       "      <td>9.000000</td>\n",
       "      <td>2010.000000</td>\n",
       "    </tr>\n",
       "    <tr>\n",
       "      <th>50%</th>\n",
       "      <td>8.500000</td>\n",
       "      <td>-73.981792</td>\n",
       "      <td>40.752695</td>\n",
       "      <td>-73.980135</td>\n",
       "      <td>40.753166</td>\n",
       "      <td>1.000000</td>\n",
       "      <td>3.000000</td>\n",
       "      <td>6.000000</td>\n",
       "      <td>14.000000</td>\n",
       "      <td>2012.000000</td>\n",
       "    </tr>\n",
       "    <tr>\n",
       "      <th>75%</th>\n",
       "      <td>12.500000</td>\n",
       "      <td>-73.967094</td>\n",
       "      <td>40.767154</td>\n",
       "      <td>-73.963654</td>\n",
       "      <td>40.768129</td>\n",
       "      <td>2.000000</td>\n",
       "      <td>5.000000</td>\n",
       "      <td>9.000000</td>\n",
       "      <td>19.000000</td>\n",
       "      <td>2013.000000</td>\n",
       "    </tr>\n",
       "    <tr>\n",
       "      <th>max</th>\n",
       "      <td>500.000000</td>\n",
       "      <td>2522.271325</td>\n",
       "      <td>2621.628430</td>\n",
       "      <td>45.581619</td>\n",
       "      <td>1651.553433</td>\n",
       "      <td>208.000000</td>\n",
       "      <td>6.000000</td>\n",
       "      <td>12.000000</td>\n",
       "      <td>23.000000</td>\n",
       "      <td>2015.000000</td>\n",
       "    </tr>\n",
       "  </tbody>\n",
       "</table>\n",
       "</div>"
      ],
      "text/plain": [
       "          fare_amount  pickup_longitude  pickup_latitude  dropoff_longitude  \\\n",
       "count  1000000.000000    1000000.000000   1000000.000000      999990.000000   \n",
       "mean        11.348079        -72.526640        39.929008         -72.527860   \n",
       "std          9.822090         12.057937         7.626154          11.324494   \n",
       "min        -44.900000      -3377.680935     -3116.285383       -3383.296608   \n",
       "25%          6.000000        -73.992060        40.734965         -73.991385   \n",
       "50%          8.500000        -73.981792        40.752695         -73.980135   \n",
       "75%         12.500000        -73.967094        40.767154         -73.963654   \n",
       "max        500.000000       2522.271325      2621.628430          45.581619   \n",
       "\n",
       "       dropoff_latitude  passenger_count  pickup_day_of_week    pickup_month  \\\n",
       "count     999990.000000   1000000.000000      1000000.000000  1000000.000000   \n",
       "mean          39.919954         1.684924            3.039856        6.267875   \n",
       "std            8.201418         1.323911            1.949970        3.436243   \n",
       "min        -3114.338567         0.000000            0.000000        1.000000   \n",
       "25%           40.734046         1.000000            1.000000        3.000000   \n",
       "50%           40.753166         1.000000            3.000000        6.000000   \n",
       "75%           40.768129         2.000000            5.000000        9.000000   \n",
       "max         1651.553433       208.000000            6.000000       12.000000   \n",
       "\n",
       "          pickup_hour     pickup_year  \n",
       "count  1000000.000000  1000000.000000  \n",
       "mean        13.509477     2011.741106  \n",
       "std          6.513840        1.860754  \n",
       "min          0.000000     2009.000000  \n",
       "25%          9.000000     2010.000000  \n",
       "50%         14.000000     2012.000000  \n",
       "75%         19.000000     2013.000000  \n",
       "max         23.000000     2015.000000  "
      ]
     },
     "execution_count": 46,
     "metadata": {},
     "output_type": "execute_result"
    }
   ],
   "source": [
    "train_df.describe()"
   ]
  },
  {
   "cell_type": "code",
   "execution_count": 47,
   "metadata": {},
   "outputs": [
    {
     "data": {
      "text/plain": [
       "<matplotlib.axes._subplots.AxesSubplot at 0x2588e710>"
      ]
     },
     "execution_count": 47,
     "metadata": {},
     "output_type": "execute_result"
    },
    {
     "data": {
      "image/png": "[encoded data removed]",
      "text/plain": [
       "<Figure size 1152x360 with 1 Axes>"
      ]
     },
     "metadata": {
      "needs_background": "light"
     },
     "output_type": "display_data"
    }
   ],
   "source": [
    "train_df[\"fare_amount\"].plot.box(figsize=(16,5))  "
   ]
  },
  {
   "cell_type": "code",
   "execution_count": 48,
   "metadata": {},
   "outputs": [],
   "source": [
    "train_df['id'] = train_df.index"
   ]
  },
  {
   "cell_type": "code",
   "execution_count": 49,
   "metadata": {},
   "outputs": [],
   "source": [
    "new =train_df.groupby(pd.Grouper(key='pickup_datetime', freq='15T')).apply(lambda x: x['id'])"
   ]
  },
  {
   "cell_type": "code",
   "execution_count": 50,
   "metadata": {},
   "outputs": [],
   "source": [
    "train_df['id'] = train_df.index"
   ]
  },
  {
   "cell_type": "code",
   "execution_count": 51,
   "metadata": {},
   "outputs": [
    {
     "data": {
      "text/plain": [
       "pickup_datetime            \n",
       "2009-01-01 00:00:00  880228    880228\n",
       "                     661006    661006\n",
       "                     756707    756707\n",
       "                     745620    745620\n",
       "2009-01-01 00:15:00  964259    964259\n",
       "                     915988    915988\n",
       "2009-01-01 00:30:00  297860    297860\n",
       "                     124750    124750\n",
       "                     876677    876677\n",
       "                     82469      82469\n",
       "2009-01-01 00:45:00  124445    124445\n",
       "                     973236    973236\n",
       "                     965480    965480\n",
       "2009-01-01 01:00:00  760438    760438\n",
       "                     894290    894290\n",
       "                     766885    766885\n",
       "2009-01-01 01:15:00  945037    945037\n",
       "                     76195      76195\n",
       "                     102243    102243\n",
       "                     773755    773755\n",
       "                     542263    542263\n",
       "2009-01-01 01:30:00  12739      12739\n",
       "2009-01-01 01:45:00  709206    709206\n",
       "                     307980    307980\n",
       "                     674362    674362\n",
       "2009-01-01 02:00:00  17546      17546\n",
       "                     25687      25687\n",
       "2009-01-01 02:15:00  719299    719299\n",
       "                     542248    542248\n",
       "                     304112    304112\n",
       "                                ...  \n",
       "2015-06-30 22:30:00  990467    990467\n",
       "                     525126    525126\n",
       "                     701682    701682\n",
       "                     392244    392244\n",
       "                     475897    475897\n",
       "                     569474    569474\n",
       "                     1428        1428\n",
       "                     828099    828099\n",
       "                     194700    194700\n",
       "2015-06-30 22:45:00  114820    114820\n",
       "                     391489    391489\n",
       "                     98082      98082\n",
       "2015-06-30 23:00:00  939905    939905\n",
       "                     337140    337140\n",
       "2015-06-30 23:15:00  450764    450764\n",
       "                     841675    841675\n",
       "                     350061    350061\n",
       "                     179298    179298\n",
       "                     647613    647613\n",
       "                     362807    362807\n",
       "                     182743    182743\n",
       "2015-06-30 23:30:00  506007    506007\n",
       "                     751978    751978\n",
       "                     240182    240182\n",
       "                     323864    323864\n",
       "                     286276    286276\n",
       "2015-06-30 23:45:00  955575    955575\n",
       "                     915826    915826\n",
       "                     751350    751350\n",
       "                     785182    785182\n",
       "Name: id, Length: 1000000, dtype: int64"
      ]
     },
     "execution_count": 51,
     "metadata": {},
     "output_type": "execute_result"
    }
   ],
   "source": [
    "new"
   ]
  },
  {
   "cell_type": "code",
   "execution_count": 52,
   "metadata": {},
   "outputs": [
    {
     "data": {
      "text/plain": [
       "TimeGrouper(key='pickup_datetime', freq=<15 * MonthEnds>, axis=0, sort=True, closed='right', label='right', how='mean', convention='e', base=0)"
      ]
     },
     "execution_count": 52,
     "metadata": {},
     "output_type": "execute_result"
    }
   ],
   "source": [
    "pd.Grouper(key='pickup_datetime', freq='15m')"
   ]
  },
  {
   "cell_type": "code",
   "execution_count": 53,
   "metadata": {},
   "outputs": [
    {
     "data": {
      "text/plain": [
       "DatetimeIndex(['2009-01-01 00:00:00', '2009-01-01 00:00:00',\n",
       "               '2009-01-01 00:00:00', '2009-01-01 00:00:00',\n",
       "               '2009-01-01 00:15:00', '2009-01-01 00:15:00',\n",
       "               '2009-01-01 00:30:00', '2009-01-01 00:30:00',\n",
       "               '2009-01-01 00:30:00', '2009-01-01 00:30:00',\n",
       "               ...\n",
       "               '2015-06-30 23:15:00', '2015-06-30 23:30:00',\n",
       "               '2015-06-30 23:30:00', '2015-06-30 23:30:00',\n",
       "               '2015-06-30 23:30:00', '2015-06-30 23:30:00',\n",
       "               '2015-06-30 23:45:00', '2015-06-30 23:45:00',\n",
       "               '2015-06-30 23:45:00', '2015-06-30 23:45:00'],\n",
       "              dtype='datetime64[ns]', name='pickup_datetime', length=1000000, freq='15T')"
      ]
     },
     "execution_count": 53,
     "metadata": {},
     "output_type": "execute_result"
    }
   ],
   "source": [
    "new.index.get_level_values('pickup_datetime')"
   ]
  },
  {
   "cell_type": "code",
   "execution_count": 54,
   "metadata": {},
   "outputs": [
    {
     "data": {
      "text/html": [
       "<div>\n",
       "<style scoped>\n",
       "    .dataframe tbody tr th:only-of-type {\n",
       "        vertical-align: middle;\n",
       "    }\n",
       "\n",
       "    .dataframe tbody tr th {\n",
       "        vertical-align: top;\n",
       "    }\n",
       "\n",
       "    .dataframe thead th {\n",
       "        text-align: right;\n",
       "    }\n",
       "</style>\n",
       "<table border=\"1\" class=\"dataframe\">\n",
       "  <thead>\n",
       "    <tr style=\"text-align: right;\">\n",
       "      <th></th>\n",
       "      <th>key</th>\n",
       "      <th>fare_amount</th>\n",
       "      <th>pickup_datetime</th>\n",
       "      <th>pickup_longitude</th>\n",
       "      <th>pickup_latitude</th>\n",
       "      <th>dropoff_longitude</th>\n",
       "      <th>dropoff_latitude</th>\n",
       "      <th>passenger_count</th>\n",
       "      <th>pickup_day_of_week</th>\n",
       "      <th>pickup_month</th>\n",
       "      <th>pickup_date</th>\n",
       "      <th>pickup_hour</th>\n",
       "      <th>pickup_year</th>\n",
       "      <th>id</th>\n",
       "    </tr>\n",
       "  </thead>\n",
       "  <tbody>\n",
       "  </tbody>\n",
       "</table>\n",
       "</div>"
      ],
      "text/plain": [
       "Empty DataFrame\n",
       "Columns: [key, fare_amount, pickup_datetime, pickup_longitude, pickup_latitude, dropoff_longitude, dropoff_latitude, passenger_count, pickup_day_of_week, pickup_month, pickup_date, pickup_hour, pickup_year, id]\n",
       "Index: []"
      ]
     },
     "execution_count": 54,
     "metadata": {},
     "output_type": "execute_result"
    }
   ],
   "source": [
    "train_df.loc[train_df[\"key\"] == '799435' ]"
   ]
  },
  {
   "cell_type": "code",
   "execution_count": 55,
   "metadata": {},
   "outputs": [
    {
     "data": {
      "text/plain": [
       "key                           object\n",
       "fare_amount                  float64\n",
       "pickup_datetime       datetime64[ns]\n",
       "pickup_longitude             float64\n",
       "pickup_latitude              float64\n",
       "dropoff_longitude            float64\n",
       "dropoff_latitude             float64\n",
       "passenger_count                int64\n",
       "pickup_day_of_week             int64\n",
       "pickup_month                   int64\n",
       "pickup_date                   object\n",
       "pickup_hour                    int64\n",
       "pickup_year                    int64\n",
       "id                             int64\n",
       "dtype: object"
      ]
     },
     "execution_count": 55,
     "metadata": {},
     "output_type": "execute_result"
    }
   ],
   "source": [
    "train_df.dtypes"
   ]
  },
  {
   "cell_type": "code",
   "execution_count": 56,
   "metadata": {},
   "outputs": [],
   "source": [
    "interval_df=pd.DataFrame({'interval':new.index.get_level_values(0), 'id':new.index.get_level_values(1)})"
   ]
  },
  {
   "cell_type": "code",
   "execution_count": 57,
   "metadata": {},
   "outputs": [
    {
     "data": {
      "text/plain": [
       "Int64Index([880228, 661006, 756707, 745620, 964259, 915988, 297860, 124750,\n",
       "            876677,  82469,\n",
       "            ...\n",
       "            182743, 506007, 751978, 240182, 323864, 286276, 955575, 915826,\n",
       "            751350, 785182],\n",
       "           dtype='int64', length=1000000)"
      ]
     },
     "execution_count": 57,
     "metadata": {},
     "output_type": "execute_result"
    }
   ],
   "source": [
    "new.index.get_level_values(1)"
   ]
  },
  {
   "cell_type": "code",
   "execution_count": 58,
   "metadata": {},
   "outputs": [
    {
     "data": {
      "text/plain": [
       "interval    datetime64[ns]\n",
       "id                   int64\n",
       "dtype: object"
      ]
     },
     "execution_count": 58,
     "metadata": {},
     "output_type": "execute_result"
    }
   ],
   "source": [
    "interval_df.dtypes"
   ]
  },
  {
   "cell_type": "code",
   "execution_count": 59,
   "metadata": {},
   "outputs": [
    {
     "data": {
      "text/html": [
       "<div>\n",
       "<style scoped>\n",
       "    .dataframe tbody tr th:only-of-type {\n",
       "        vertical-align: middle;\n",
       "    }\n",
       "\n",
       "    .dataframe tbody tr th {\n",
       "        vertical-align: top;\n",
       "    }\n",
       "\n",
       "    .dataframe thead th {\n",
       "        text-align: right;\n",
       "    }\n",
       "</style>\n",
       "<table border=\"1\" class=\"dataframe\">\n",
       "  <thead>\n",
       "    <tr style=\"text-align: right;\">\n",
       "      <th></th>\n",
       "      <th>interval</th>\n",
       "      <th>id</th>\n",
       "    </tr>\n",
       "  </thead>\n",
       "  <tbody>\n",
       "    <tr>\n",
       "      <th>999995</th>\n",
       "      <td>2015-06-30 23:30:00</td>\n",
       "      <td>286276</td>\n",
       "    </tr>\n",
       "    <tr>\n",
       "      <th>999996</th>\n",
       "      <td>2015-06-30 23:45:00</td>\n",
       "      <td>955575</td>\n",
       "    </tr>\n",
       "    <tr>\n",
       "      <th>999997</th>\n",
       "      <td>2015-06-30 23:45:00</td>\n",
       "      <td>915826</td>\n",
       "    </tr>\n",
       "    <tr>\n",
       "      <th>999998</th>\n",
       "      <td>2015-06-30 23:45:00</td>\n",
       "      <td>751350</td>\n",
       "    </tr>\n",
       "    <tr>\n",
       "      <th>999999</th>\n",
       "      <td>2015-06-30 23:45:00</td>\n",
       "      <td>785182</td>\n",
       "    </tr>\n",
       "  </tbody>\n",
       "</table>\n",
       "</div>"
      ],
      "text/plain": [
       "                  interval      id\n",
       "999995 2015-06-30 23:30:00  286276\n",
       "999996 2015-06-30 23:45:00  955575\n",
       "999997 2015-06-30 23:45:00  915826\n",
       "999998 2015-06-30 23:45:00  751350\n",
       "999999 2015-06-30 23:45:00  785182"
      ]
     },
     "execution_count": 59,
     "metadata": {},
     "output_type": "execute_result"
    }
   ],
   "source": [
    "interval_df.tail()"
   ]
  },
  {
   "cell_type": "code",
   "execution_count": 60,
   "metadata": {},
   "outputs": [
    {
     "data": {
      "text/html": [
       "<div>\n",
       "<style scoped>\n",
       "    .dataframe tbody tr th:only-of-type {\n",
       "        vertical-align: middle;\n",
       "    }\n",
       "\n",
       "    .dataframe tbody tr th {\n",
       "        vertical-align: top;\n",
       "    }\n",
       "\n",
       "    .dataframe thead th {\n",
       "        text-align: right;\n",
       "    }\n",
       "</style>\n",
       "<table border=\"1\" class=\"dataframe\">\n",
       "  <thead>\n",
       "    <tr style=\"text-align: right;\">\n",
       "      <th></th>\n",
       "      <th>key</th>\n",
       "      <th>fare_amount</th>\n",
       "      <th>pickup_datetime</th>\n",
       "      <th>pickup_longitude</th>\n",
       "      <th>pickup_latitude</th>\n",
       "      <th>dropoff_longitude</th>\n",
       "      <th>dropoff_latitude</th>\n",
       "      <th>passenger_count</th>\n",
       "      <th>pickup_day_of_week</th>\n",
       "      <th>pickup_month</th>\n",
       "      <th>pickup_date</th>\n",
       "      <th>pickup_hour</th>\n",
       "      <th>pickup_year</th>\n",
       "      <th>id</th>\n",
       "    </tr>\n",
       "  </thead>\n",
       "  <tbody>\n",
       "    <tr>\n",
       "      <th>751350</th>\n",
       "      <td>2015-06-30 23:53:23.0000002</td>\n",
       "      <td>3.5</td>\n",
       "      <td>2015-06-30 23:53:23</td>\n",
       "      <td>-73.97802</td>\n",
       "      <td>40.757439</td>\n",
       "      <td>-73.980705</td>\n",
       "      <td>40.753544</td>\n",
       "      <td>1</td>\n",
       "      <td>1</td>\n",
       "      <td>6</td>\n",
       "      <td>2015-06-30</td>\n",
       "      <td>23</td>\n",
       "      <td>2015</td>\n",
       "      <td>751350</td>\n",
       "    </tr>\n",
       "  </tbody>\n",
       "</table>\n",
       "</div>"
      ],
      "text/plain": [
       "                                key  fare_amount     pickup_datetime  \\\n",
       "751350  2015-06-30 23:53:23.0000002          3.5 2015-06-30 23:53:23   \n",
       "\n",
       "        pickup_longitude  pickup_latitude  dropoff_longitude  \\\n",
       "751350         -73.97802        40.757439         -73.980705   \n",
       "\n",
       "        dropoff_latitude  passenger_count  pickup_day_of_week  pickup_month  \\\n",
       "751350         40.753544                1                   1             6   \n",
       "\n",
       "       pickup_date  pickup_hour  pickup_year      id  \n",
       "751350  2015-06-30           23         2015  751350  "
      ]
     },
     "execution_count": 60,
     "metadata": {},
     "output_type": "execute_result"
    }
   ],
   "source": [
    "train_df.loc[train_df[\"id\"] == 751350]"
   ]
  },
  {
   "cell_type": "code",
   "execution_count": 61,
   "metadata": {},
   "outputs": [],
   "source": [
    "train_df=pd.merge(train_df, interval_df, left_on = 'id', right_on = 'id', how = 'inner')"
   ]
  },
  {
   "cell_type": "code",
   "execution_count": 62,
   "metadata": {},
   "outputs": [
    {
     "data": {
      "text/html": [
       "<div>\n",
       "<style scoped>\n",
       "    .dataframe tbody tr th:only-of-type {\n",
       "        vertical-align: middle;\n",
       "    }\n",
       "\n",
       "    .dataframe tbody tr th {\n",
       "        vertical-align: top;\n",
       "    }\n",
       "\n",
       "    .dataframe thead th {\n",
       "        text-align: right;\n",
       "    }\n",
       "</style>\n",
       "<table border=\"1\" class=\"dataframe\">\n",
       "  <thead>\n",
       "    <tr style=\"text-align: right;\">\n",
       "      <th></th>\n",
       "      <th>key</th>\n",
       "      <th>fare_amount</th>\n",
       "      <th>pickup_datetime</th>\n",
       "      <th>pickup_longitude</th>\n",
       "      <th>pickup_latitude</th>\n",
       "      <th>dropoff_longitude</th>\n",
       "      <th>dropoff_latitude</th>\n",
       "      <th>passenger_count</th>\n",
       "      <th>pickup_day_of_week</th>\n",
       "      <th>pickup_month</th>\n",
       "      <th>pickup_date</th>\n",
       "      <th>pickup_hour</th>\n",
       "      <th>pickup_year</th>\n",
       "      <th>id</th>\n",
       "      <th>interval</th>\n",
       "    </tr>\n",
       "  </thead>\n",
       "  <tbody>\n",
       "    <tr>\n",
       "      <th>0</th>\n",
       "      <td>2009-06-15 17:26:21.0000001</td>\n",
       "      <td>4.5</td>\n",
       "      <td>2009-06-15 17:26:21</td>\n",
       "      <td>-73.844311</td>\n",
       "      <td>40.721319</td>\n",
       "      <td>-73.841610</td>\n",
       "      <td>40.712278</td>\n",
       "      <td>1</td>\n",
       "      <td>0</td>\n",
       "      <td>6</td>\n",
       "      <td>2009-06-15</td>\n",
       "      <td>17</td>\n",
       "      <td>2009</td>\n",
       "      <td>0</td>\n",
       "      <td>2009-06-15 17:15:00</td>\n",
       "    </tr>\n",
       "    <tr>\n",
       "      <th>1</th>\n",
       "      <td>2009-08-03 23:01:00.00000077</td>\n",
       "      <td>4.5</td>\n",
       "      <td>2009-08-03 23:01:00</td>\n",
       "      <td>-73.992147</td>\n",
       "      <td>40.762532</td>\n",
       "      <td>-73.984915</td>\n",
       "      <td>40.768142</td>\n",
       "      <td>5</td>\n",
       "      <td>0</td>\n",
       "      <td>8</td>\n",
       "      <td>2009-08-03</td>\n",
       "      <td>23</td>\n",
       "      <td>2009</td>\n",
       "      <td>410475</td>\n",
       "      <td>2009-08-03 23:00:00</td>\n",
       "    </tr>\n",
       "    <tr>\n",
       "      <th>2</th>\n",
       "      <td>2011-07-11 13:08:09.0000001</td>\n",
       "      <td>10.9</td>\n",
       "      <td>2011-07-11 13:08:09</td>\n",
       "      <td>-73.993900</td>\n",
       "      <td>40.750800</td>\n",
       "      <td>-74.014800</td>\n",
       "      <td>40.718000</td>\n",
       "      <td>1</td>\n",
       "      <td>0</td>\n",
       "      <td>7</td>\n",
       "      <td>2011-07-11</td>\n",
       "      <td>13</td>\n",
       "      <td>2011</td>\n",
       "      <td>410487</td>\n",
       "      <td>2011-07-11 13:00:00</td>\n",
       "    </tr>\n",
       "    <tr>\n",
       "      <th>3</th>\n",
       "      <td>2012-12-17 22:58:00.000000163</td>\n",
       "      <td>29.0</td>\n",
       "      <td>2012-12-17 22:58:00</td>\n",
       "      <td>-73.979827</td>\n",
       "      <td>40.766015</td>\n",
       "      <td>-73.962497</td>\n",
       "      <td>40.677382</td>\n",
       "      <td>3</td>\n",
       "      <td>0</td>\n",
       "      <td>12</td>\n",
       "      <td>2012-12-17</td>\n",
       "      <td>22</td>\n",
       "      <td>2012</td>\n",
       "      <td>410491</td>\n",
       "      <td>2012-12-17 22:45:00</td>\n",
       "    </tr>\n",
       "    <tr>\n",
       "      <th>4</th>\n",
       "      <td>2011-02-28 22:03:00.000000115</td>\n",
       "      <td>6.1</td>\n",
       "      <td>2011-02-28 22:03:00</td>\n",
       "      <td>-73.995742</td>\n",
       "      <td>40.726778</td>\n",
       "      <td>-73.978080</td>\n",
       "      <td>40.721325</td>\n",
       "      <td>1</td>\n",
       "      <td>0</td>\n",
       "      <td>2</td>\n",
       "      <td>2011-02-28</td>\n",
       "      <td>22</td>\n",
       "      <td>2011</td>\n",
       "      <td>410493</td>\n",
       "      <td>2011-02-28 22:00:00</td>\n",
       "    </tr>\n",
       "  </tbody>\n",
       "</table>\n",
       "</div>"
      ],
      "text/plain": [
       "                             key  fare_amount     pickup_datetime  \\\n",
       "0    2009-06-15 17:26:21.0000001          4.5 2009-06-15 17:26:21   \n",
       "1   2009-08-03 23:01:00.00000077          4.5 2009-08-03 23:01:00   \n",
       "2    2011-07-11 13:08:09.0000001         10.9 2011-07-11 13:08:09   \n",
       "3  2012-12-17 22:58:00.000000163         29.0 2012-12-17 22:58:00   \n",
       "4  2011-02-28 22:03:00.000000115          6.1 2011-02-28 22:03:00   \n",
       "\n",
       "   pickup_longitude  pickup_latitude  dropoff_longitude  dropoff_latitude  \\\n",
       "0        -73.844311        40.721319         -73.841610         40.712278   \n",
       "1        -73.992147        40.762532         -73.984915         40.768142   \n",
       "2        -73.993900        40.750800         -74.014800         40.718000   \n",
       "3        -73.979827        40.766015         -73.962497         40.677382   \n",
       "4        -73.995742        40.726778         -73.978080         40.721325   \n",
       "\n",
       "   passenger_count  pickup_day_of_week  pickup_month pickup_date  pickup_hour  \\\n",
       "0                1                   0             6  2009-06-15           17   \n",
       "1                5                   0             8  2009-08-03           23   \n",
       "2                1                   0             7  2011-07-11           13   \n",
       "3                3                   0            12  2012-12-17           22   \n",
       "4                1                   0             2  2011-02-28           22   \n",
       "\n",
       "   pickup_year      id            interval  \n",
       "0         2009       0 2009-06-15 17:15:00  \n",
       "1         2009  410475 2009-08-03 23:00:00  \n",
       "2         2011  410487 2011-07-11 13:00:00  \n",
       "3         2012  410491 2012-12-17 22:45:00  \n",
       "4         2011  410493 2011-02-28 22:00:00  "
      ]
     },
     "execution_count": 62,
     "metadata": {},
     "output_type": "execute_result"
    }
   ],
   "source": [
    "train_df.head()"
   ]
  },
  {
   "cell_type": "code",
   "execution_count": 63,
   "metadata": {},
   "outputs": [],
   "source": [
    "train_df['interval_time']=train_df['interval'].dt.time"
   ]
  },
  {
   "cell_type": "code",
   "execution_count": 64,
   "metadata": {},
   "outputs": [
    {
     "data": {
      "text/html": [
       "<div>\n",
       "<style scoped>\n",
       "    .dataframe tbody tr th:only-of-type {\n",
       "        vertical-align: middle;\n",
       "    }\n",
       "\n",
       "    .dataframe tbody tr th {\n",
       "        vertical-align: top;\n",
       "    }\n",
       "\n",
       "    .dataframe thead th {\n",
       "        text-align: right;\n",
       "    }\n",
       "</style>\n",
       "<table border=\"1\" class=\"dataframe\">\n",
       "  <thead>\n",
       "    <tr style=\"text-align: right;\">\n",
       "      <th></th>\n",
       "      <th>key</th>\n",
       "      <th>fare_amount</th>\n",
       "      <th>pickup_datetime</th>\n",
       "      <th>pickup_longitude</th>\n",
       "      <th>pickup_latitude</th>\n",
       "      <th>dropoff_longitude</th>\n",
       "      <th>dropoff_latitude</th>\n",
       "      <th>passenger_count</th>\n",
       "      <th>pickup_day_of_week</th>\n",
       "      <th>pickup_month</th>\n",
       "      <th>pickup_date</th>\n",
       "      <th>pickup_hour</th>\n",
       "      <th>pickup_year</th>\n",
       "      <th>id</th>\n",
       "      <th>interval</th>\n",
       "      <th>interval_time</th>\n",
       "    </tr>\n",
       "  </thead>\n",
       "  <tbody>\n",
       "    <tr>\n",
       "      <th>0</th>\n",
       "      <td>2009-06-15 17:26:21.0000001</td>\n",
       "      <td>4.5</td>\n",
       "      <td>2009-06-15 17:26:21</td>\n",
       "      <td>-73.844311</td>\n",
       "      <td>40.721319</td>\n",
       "      <td>-73.841610</td>\n",
       "      <td>40.712278</td>\n",
       "      <td>1</td>\n",
       "      <td>0</td>\n",
       "      <td>6</td>\n",
       "      <td>2009-06-15</td>\n",
       "      <td>17</td>\n",
       "      <td>2009</td>\n",
       "      <td>0</td>\n",
       "      <td>2009-06-15 17:15:00</td>\n",
       "      <td>17:15:00</td>\n",
       "    </tr>\n",
       "    <tr>\n",
       "      <th>1</th>\n",
       "      <td>2009-08-03 23:01:00.00000077</td>\n",
       "      <td>4.5</td>\n",
       "      <td>2009-08-03 23:01:00</td>\n",
       "      <td>-73.992147</td>\n",
       "      <td>40.762532</td>\n",
       "      <td>-73.984915</td>\n",
       "      <td>40.768142</td>\n",
       "      <td>5</td>\n",
       "      <td>0</td>\n",
       "      <td>8</td>\n",
       "      <td>2009-08-03</td>\n",
       "      <td>23</td>\n",
       "      <td>2009</td>\n",
       "      <td>410475</td>\n",
       "      <td>2009-08-03 23:00:00</td>\n",
       "      <td>23:00:00</td>\n",
       "    </tr>\n",
       "    <tr>\n",
       "      <th>2</th>\n",
       "      <td>2011-07-11 13:08:09.0000001</td>\n",
       "      <td>10.9</td>\n",
       "      <td>2011-07-11 13:08:09</td>\n",
       "      <td>-73.993900</td>\n",
       "      <td>40.750800</td>\n",
       "      <td>-74.014800</td>\n",
       "      <td>40.718000</td>\n",
       "      <td>1</td>\n",
       "      <td>0</td>\n",
       "      <td>7</td>\n",
       "      <td>2011-07-11</td>\n",
       "      <td>13</td>\n",
       "      <td>2011</td>\n",
       "      <td>410487</td>\n",
       "      <td>2011-07-11 13:00:00</td>\n",
       "      <td>13:00:00</td>\n",
       "    </tr>\n",
       "    <tr>\n",
       "      <th>3</th>\n",
       "      <td>2012-12-17 22:58:00.000000163</td>\n",
       "      <td>29.0</td>\n",
       "      <td>2012-12-17 22:58:00</td>\n",
       "      <td>-73.979827</td>\n",
       "      <td>40.766015</td>\n",
       "      <td>-73.962497</td>\n",
       "      <td>40.677382</td>\n",
       "      <td>3</td>\n",
       "      <td>0</td>\n",
       "      <td>12</td>\n",
       "      <td>2012-12-17</td>\n",
       "      <td>22</td>\n",
       "      <td>2012</td>\n",
       "      <td>410491</td>\n",
       "      <td>2012-12-17 22:45:00</td>\n",
       "      <td>22:45:00</td>\n",
       "    </tr>\n",
       "    <tr>\n",
       "      <th>4</th>\n",
       "      <td>2011-02-28 22:03:00.000000115</td>\n",
       "      <td>6.1</td>\n",
       "      <td>2011-02-28 22:03:00</td>\n",
       "      <td>-73.995742</td>\n",
       "      <td>40.726778</td>\n",
       "      <td>-73.978080</td>\n",
       "      <td>40.721325</td>\n",
       "      <td>1</td>\n",
       "      <td>0</td>\n",
       "      <td>2</td>\n",
       "      <td>2011-02-28</td>\n",
       "      <td>22</td>\n",
       "      <td>2011</td>\n",
       "      <td>410493</td>\n",
       "      <td>2011-02-28 22:00:00</td>\n",
       "      <td>22:00:00</td>\n",
       "    </tr>\n",
       "  </tbody>\n",
       "</table>\n",
       "</div>"
      ],
      "text/plain": [
       "                             key  fare_amount     pickup_datetime  \\\n",
       "0    2009-06-15 17:26:21.0000001          4.5 2009-06-15 17:26:21   \n",
       "1   2009-08-03 23:01:00.00000077          4.5 2009-08-03 23:01:00   \n",
       "2    2011-07-11 13:08:09.0000001         10.9 2011-07-11 13:08:09   \n",
       "3  2012-12-17 22:58:00.000000163         29.0 2012-12-17 22:58:00   \n",
       "4  2011-02-28 22:03:00.000000115          6.1 2011-02-28 22:03:00   \n",
       "\n",
       "   pickup_longitude  pickup_latitude  dropoff_longitude  dropoff_latitude  \\\n",
       "0        -73.844311        40.721319         -73.841610         40.712278   \n",
       "1        -73.992147        40.762532         -73.984915         40.768142   \n",
       "2        -73.993900        40.750800         -74.014800         40.718000   \n",
       "3        -73.979827        40.766015         -73.962497         40.677382   \n",
       "4        -73.995742        40.726778         -73.978080         40.721325   \n",
       "\n",
       "   passenger_count  pickup_day_of_week  pickup_month pickup_date  pickup_hour  \\\n",
       "0                1                   0             6  2009-06-15           17   \n",
       "1                5                   0             8  2009-08-03           23   \n",
       "2                1                   0             7  2011-07-11           13   \n",
       "3                3                   0            12  2012-12-17           22   \n",
       "4                1                   0             2  2011-02-28           22   \n",
       "\n",
       "   pickup_year      id            interval interval_time  \n",
       "0         2009       0 2009-06-15 17:15:00      17:15:00  \n",
       "1         2009  410475 2009-08-03 23:00:00      23:00:00  \n",
       "2         2011  410487 2011-07-11 13:00:00      13:00:00  \n",
       "3         2012  410491 2012-12-17 22:45:00      22:45:00  \n",
       "4         2011  410493 2011-02-28 22:00:00      22:00:00  "
      ]
     },
     "execution_count": 64,
     "metadata": {},
     "output_type": "execute_result"
    }
   ],
   "source": [
    "train_df.head()"
   ]
  },
  {
   "cell_type": "code",
   "execution_count": 65,
   "metadata": {},
   "outputs": [
    {
     "data": {
      "text/plain": [
       "<matplotlib.axes._subplots.AxesSubplot at 0x2587ea58>"
      ]
     },
     "execution_count": 65,
     "metadata": {},
     "output_type": "execute_result"
    },
    {
     "data": {
      "image/png": "[encoded data removed]",
      "text/plain": [
       "<Figure size 432x288 with 1 Axes>"
      ]
     },
     "metadata": {
      "needs_background": "light"
     },
     "output_type": "display_data"
    }
   ],
   "source": [
    "train_df['interval_time'].value_counts().sort_index().plot()"
   ]
  },
  {
   "cell_type": "code",
   "execution_count": 66,
   "metadata": {},
   "outputs": [],
   "source": [
    "train_df[\"pickup_longitude\"] = train_df['pickup_longitude'].apply(lambda x:round(x,2))\n"
   ]
  },
  {
   "cell_type": "code",
   "execution_count": 67,
   "metadata": {},
   "outputs": [],
   "source": [
    "train_df[\"pickup_latitude\"] = train_df['pickup_latitude'].apply(lambda x:round(x,2))\n"
   ]
  },
  {
   "cell_type": "code",
   "execution_count": 68,
   "metadata": {},
   "outputs": [
    {
     "data": {
      "text/html": [
       "<div>\n",
       "<style scoped>\n",
       "    .dataframe tbody tr th:only-of-type {\n",
       "        vertical-align: middle;\n",
       "    }\n",
       "\n",
       "    .dataframe tbody tr th {\n",
       "        vertical-align: top;\n",
       "    }\n",
       "\n",
       "    .dataframe thead th {\n",
       "        text-align: right;\n",
       "    }\n",
       "</style>\n",
       "<table border=\"1\" class=\"dataframe\">\n",
       "  <thead>\n",
       "    <tr style=\"text-align: right;\">\n",
       "      <th></th>\n",
       "      <th>key</th>\n",
       "      <th>fare_amount</th>\n",
       "      <th>pickup_datetime</th>\n",
       "      <th>pickup_longitude</th>\n",
       "      <th>pickup_latitude</th>\n",
       "      <th>dropoff_longitude</th>\n",
       "      <th>dropoff_latitude</th>\n",
       "      <th>passenger_count</th>\n",
       "      <th>pickup_day_of_week</th>\n",
       "      <th>pickup_month</th>\n",
       "      <th>pickup_date</th>\n",
       "      <th>pickup_hour</th>\n",
       "      <th>pickup_year</th>\n",
       "      <th>id</th>\n",
       "      <th>interval</th>\n",
       "      <th>interval_time</th>\n",
       "    </tr>\n",
       "  </thead>\n",
       "  <tbody>\n",
       "    <tr>\n",
       "      <th>0</th>\n",
       "      <td>2009-06-15 17:26:21.0000001</td>\n",
       "      <td>4.5</td>\n",
       "      <td>2009-06-15 17:26:21</td>\n",
       "      <td>-73.84</td>\n",
       "      <td>40.72</td>\n",
       "      <td>-73.841610</td>\n",
       "      <td>40.712278</td>\n",
       "      <td>1</td>\n",
       "      <td>0</td>\n",
       "      <td>6</td>\n",
       "      <td>2009-06-15</td>\n",
       "      <td>17</td>\n",
       "      <td>2009</td>\n",
       "      <td>0</td>\n",
       "      <td>2009-06-15 17:15:00</td>\n",
       "      <td>17:15:00</td>\n",
       "    </tr>\n",
       "    <tr>\n",
       "      <th>1</th>\n",
       "      <td>2009-08-03 23:01:00.00000077</td>\n",
       "      <td>4.5</td>\n",
       "      <td>2009-08-03 23:01:00</td>\n",
       "      <td>-73.99</td>\n",
       "      <td>40.76</td>\n",
       "      <td>-73.984915</td>\n",
       "      <td>40.768142</td>\n",
       "      <td>5</td>\n",
       "      <td>0</td>\n",
       "      <td>8</td>\n",
       "      <td>2009-08-03</td>\n",
       "      <td>23</td>\n",
       "      <td>2009</td>\n",
       "      <td>410475</td>\n",
       "      <td>2009-08-03 23:00:00</td>\n",
       "      <td>23:00:00</td>\n",
       "    </tr>\n",
       "    <tr>\n",
       "      <th>2</th>\n",
       "      <td>2011-07-11 13:08:09.0000001</td>\n",
       "      <td>10.9</td>\n",
       "      <td>2011-07-11 13:08:09</td>\n",
       "      <td>-73.99</td>\n",
       "      <td>40.75</td>\n",
       "      <td>-74.014800</td>\n",
       "      <td>40.718000</td>\n",
       "      <td>1</td>\n",
       "      <td>0</td>\n",
       "      <td>7</td>\n",
       "      <td>2011-07-11</td>\n",
       "      <td>13</td>\n",
       "      <td>2011</td>\n",
       "      <td>410487</td>\n",
       "      <td>2011-07-11 13:00:00</td>\n",
       "      <td>13:00:00</td>\n",
       "    </tr>\n",
       "    <tr>\n",
       "      <th>3</th>\n",
       "      <td>2012-12-17 22:58:00.000000163</td>\n",
       "      <td>29.0</td>\n",
       "      <td>2012-12-17 22:58:00</td>\n",
       "      <td>-73.98</td>\n",
       "      <td>40.77</td>\n",
       "      <td>-73.962497</td>\n",
       "      <td>40.677382</td>\n",
       "      <td>3</td>\n",
       "      <td>0</td>\n",
       "      <td>12</td>\n",
       "      <td>2012-12-17</td>\n",
       "      <td>22</td>\n",
       "      <td>2012</td>\n",
       "      <td>410491</td>\n",
       "      <td>2012-12-17 22:45:00</td>\n",
       "      <td>22:45:00</td>\n",
       "    </tr>\n",
       "    <tr>\n",
       "      <th>4</th>\n",
       "      <td>2011-02-28 22:03:00.000000115</td>\n",
       "      <td>6.1</td>\n",
       "      <td>2011-02-28 22:03:00</td>\n",
       "      <td>-74.00</td>\n",
       "      <td>40.73</td>\n",
       "      <td>-73.978080</td>\n",
       "      <td>40.721325</td>\n",
       "      <td>1</td>\n",
       "      <td>0</td>\n",
       "      <td>2</td>\n",
       "      <td>2011-02-28</td>\n",
       "      <td>22</td>\n",
       "      <td>2011</td>\n",
       "      <td>410493</td>\n",
       "      <td>2011-02-28 22:00:00</td>\n",
       "      <td>22:00:00</td>\n",
       "    </tr>\n",
       "  </tbody>\n",
       "</table>\n",
       "</div>"
      ],
      "text/plain": [
       "                             key  fare_amount     pickup_datetime  \\\n",
       "0    2009-06-15 17:26:21.0000001          4.5 2009-06-15 17:26:21   \n",
       "1   2009-08-03 23:01:00.00000077          4.5 2009-08-03 23:01:00   \n",
       "2    2011-07-11 13:08:09.0000001         10.9 2011-07-11 13:08:09   \n",
       "3  2012-12-17 22:58:00.000000163         29.0 2012-12-17 22:58:00   \n",
       "4  2011-02-28 22:03:00.000000115          6.1 2011-02-28 22:03:00   \n",
       "\n",
       "   pickup_longitude  pickup_latitude  dropoff_longitude  dropoff_latitude  \\\n",
       "0            -73.84            40.72         -73.841610         40.712278   \n",
       "1            -73.99            40.76         -73.984915         40.768142   \n",
       "2            -73.99            40.75         -74.014800         40.718000   \n",
       "3            -73.98            40.77         -73.962497         40.677382   \n",
       "4            -74.00            40.73         -73.978080         40.721325   \n",
       "\n",
       "   passenger_count  pickup_day_of_week  pickup_month pickup_date  pickup_hour  \\\n",
       "0                1                   0             6  2009-06-15           17   \n",
       "1                5                   0             8  2009-08-03           23   \n",
       "2                1                   0             7  2011-07-11           13   \n",
       "3                3                   0            12  2012-12-17           22   \n",
       "4                1                   0             2  2011-02-28           22   \n",
       "\n",
       "   pickup_year      id            interval interval_time  \n",
       "0         2009       0 2009-06-15 17:15:00      17:15:00  \n",
       "1         2009  410475 2009-08-03 23:00:00      23:00:00  \n",
       "2         2011  410487 2011-07-11 13:00:00      13:00:00  \n",
       "3         2012  410491 2012-12-17 22:45:00      22:45:00  \n",
       "4         2011  410493 2011-02-28 22:00:00      22:00:00  "
      ]
     },
     "execution_count": 68,
     "metadata": {},
     "output_type": "execute_result"
    }
   ],
   "source": [
    "train_df.head()"
   ]
  },
  {
   "cell_type": "code",
   "execution_count": 69,
   "metadata": {},
   "outputs": [],
   "source": [
    "train_df['demand']=train_df.groupby(['interval','pickup_longitude','pickup_latitude'])['interval'].transform('count')"
   ]
  },
  {
   "cell_type": "code",
   "execution_count": 70,
   "metadata": {},
   "outputs": [
    {
     "data": {
      "text/html": [
       "<div>\n",
       "<style scoped>\n",
       "    .dataframe tbody tr th:only-of-type {\n",
       "        vertical-align: middle;\n",
       "    }\n",
       "\n",
       "    .dataframe tbody tr th {\n",
       "        vertical-align: top;\n",
       "    }\n",
       "\n",
       "    .dataframe thead th {\n",
       "        text-align: right;\n",
       "    }\n",
       "</style>\n",
       "<table border=\"1\" class=\"dataframe\">\n",
       "  <thead>\n",
       "    <tr style=\"text-align: right;\">\n",
       "      <th></th>\n",
       "      <th>key</th>\n",
       "      <th>fare_amount</th>\n",
       "      <th>pickup_datetime</th>\n",
       "      <th>pickup_longitude</th>\n",
       "      <th>pickup_latitude</th>\n",
       "      <th>dropoff_longitude</th>\n",
       "      <th>dropoff_latitude</th>\n",
       "      <th>passenger_count</th>\n",
       "      <th>pickup_day_of_week</th>\n",
       "      <th>pickup_month</th>\n",
       "      <th>pickup_date</th>\n",
       "      <th>pickup_hour</th>\n",
       "      <th>pickup_year</th>\n",
       "      <th>id</th>\n",
       "      <th>interval</th>\n",
       "      <th>interval_time</th>\n",
       "      <th>demand</th>\n",
       "    </tr>\n",
       "  </thead>\n",
       "  <tbody>\n",
       "    <tr>\n",
       "      <th>0</th>\n",
       "      <td>2009-06-15 17:26:21.0000001</td>\n",
       "      <td>4.5</td>\n",
       "      <td>2009-06-15 17:26:21</td>\n",
       "      <td>-73.84</td>\n",
       "      <td>40.72</td>\n",
       "      <td>-73.841610</td>\n",
       "      <td>40.712278</td>\n",
       "      <td>1</td>\n",
       "      <td>0</td>\n",
       "      <td>6</td>\n",
       "      <td>2009-06-15</td>\n",
       "      <td>17</td>\n",
       "      <td>2009</td>\n",
       "      <td>0</td>\n",
       "      <td>2009-06-15 17:15:00</td>\n",
       "      <td>17:15:00</td>\n",
       "      <td>1</td>\n",
       "    </tr>\n",
       "    <tr>\n",
       "      <th>1</th>\n",
       "      <td>2009-08-03 23:01:00.00000077</td>\n",
       "      <td>4.5</td>\n",
       "      <td>2009-08-03 23:01:00</td>\n",
       "      <td>-73.99</td>\n",
       "      <td>40.76</td>\n",
       "      <td>-73.984915</td>\n",
       "      <td>40.768142</td>\n",
       "      <td>5</td>\n",
       "      <td>0</td>\n",
       "      <td>8</td>\n",
       "      <td>2009-08-03</td>\n",
       "      <td>23</td>\n",
       "      <td>2009</td>\n",
       "      <td>410475</td>\n",
       "      <td>2009-08-03 23:00:00</td>\n",
       "      <td>23:00:00</td>\n",
       "      <td>1</td>\n",
       "    </tr>\n",
       "    <tr>\n",
       "      <th>2</th>\n",
       "      <td>2011-07-11 13:08:09.0000001</td>\n",
       "      <td>10.9</td>\n",
       "      <td>2011-07-11 13:08:09</td>\n",
       "      <td>-73.99</td>\n",
       "      <td>40.75</td>\n",
       "      <td>-74.014800</td>\n",
       "      <td>40.718000</td>\n",
       "      <td>1</td>\n",
       "      <td>0</td>\n",
       "      <td>7</td>\n",
       "      <td>2011-07-11</td>\n",
       "      <td>13</td>\n",
       "      <td>2011</td>\n",
       "      <td>410487</td>\n",
       "      <td>2011-07-11 13:00:00</td>\n",
       "      <td>13:00:00</td>\n",
       "      <td>3</td>\n",
       "    </tr>\n",
       "    <tr>\n",
       "      <th>3</th>\n",
       "      <td>2012-12-17 22:58:00.000000163</td>\n",
       "      <td>29.0</td>\n",
       "      <td>2012-12-17 22:58:00</td>\n",
       "      <td>-73.98</td>\n",
       "      <td>40.77</td>\n",
       "      <td>-73.962497</td>\n",
       "      <td>40.677382</td>\n",
       "      <td>3</td>\n",
       "      <td>0</td>\n",
       "      <td>12</td>\n",
       "      <td>2012-12-17</td>\n",
       "      <td>22</td>\n",
       "      <td>2012</td>\n",
       "      <td>410491</td>\n",
       "      <td>2012-12-17 22:45:00</td>\n",
       "      <td>22:45:00</td>\n",
       "      <td>1</td>\n",
       "    </tr>\n",
       "    <tr>\n",
       "      <th>4</th>\n",
       "      <td>2011-02-28 22:03:00.000000115</td>\n",
       "      <td>6.1</td>\n",
       "      <td>2011-02-28 22:03:00</td>\n",
       "      <td>-74.00</td>\n",
       "      <td>40.73</td>\n",
       "      <td>-73.978080</td>\n",
       "      <td>40.721325</td>\n",
       "      <td>1</td>\n",
       "      <td>0</td>\n",
       "      <td>2</td>\n",
       "      <td>2011-02-28</td>\n",
       "      <td>22</td>\n",
       "      <td>2011</td>\n",
       "      <td>410493</td>\n",
       "      <td>2011-02-28 22:00:00</td>\n",
       "      <td>22:00:00</td>\n",
       "      <td>1</td>\n",
       "    </tr>\n",
       "  </tbody>\n",
       "</table>\n",
       "</div>"
      ],
      "text/plain": [
       "                             key  fare_amount     pickup_datetime  \\\n",
       "0    2009-06-15 17:26:21.0000001          4.5 2009-06-15 17:26:21   \n",
       "1   2009-08-03 23:01:00.00000077          4.5 2009-08-03 23:01:00   \n",
       "2    2011-07-11 13:08:09.0000001         10.9 2011-07-11 13:08:09   \n",
       "3  2012-12-17 22:58:00.000000163         29.0 2012-12-17 22:58:00   \n",
       "4  2011-02-28 22:03:00.000000115          6.1 2011-02-28 22:03:00   \n",
       "\n",
       "   pickup_longitude  pickup_latitude  dropoff_longitude  dropoff_latitude  \\\n",
       "0            -73.84            40.72         -73.841610         40.712278   \n",
       "1            -73.99            40.76         -73.984915         40.768142   \n",
       "2            -73.99            40.75         -74.014800         40.718000   \n",
       "3            -73.98            40.77         -73.962497         40.677382   \n",
       "4            -74.00            40.73         -73.978080         40.721325   \n",
       "\n",
       "   passenger_count  pickup_day_of_week  pickup_month pickup_date  pickup_hour  \\\n",
       "0                1                   0             6  2009-06-15           17   \n",
       "1                5                   0             8  2009-08-03           23   \n",
       "2                1                   0             7  2011-07-11           13   \n",
       "3                3                   0            12  2012-12-17           22   \n",
       "4                1                   0             2  2011-02-28           22   \n",
       "\n",
       "   pickup_year      id            interval interval_time  demand  \n",
       "0         2009       0 2009-06-15 17:15:00      17:15:00       1  \n",
       "1         2009  410475 2009-08-03 23:00:00      23:00:00       1  \n",
       "2         2011  410487 2011-07-11 13:00:00      13:00:00       3  \n",
       "3         2012  410491 2012-12-17 22:45:00      22:45:00       1  \n",
       "4         2011  410493 2011-02-28 22:00:00      22:00:00       1  "
      ]
     },
     "execution_count": 70,
     "metadata": {},
     "output_type": "execute_result"
    }
   ],
   "source": [
    "train_df.head()"
   ]
  },
  {
   "cell_type": "code",
   "execution_count": 71,
   "metadata": {},
   "outputs": [
    {
     "data": {
      "text/plain": [
       "<matplotlib.axes._subplots.AxesSubplot at 0x5e317b38>"
      ]
     },
     "execution_count": 71,
     "metadata": {},
     "output_type": "execute_result"
    },
    {
     "data": {
      "image/png": "[encoded data removed]",
      "text/plain": [
       "<Figure size 432x288 with 1 Axes>"
      ]
     },
     "metadata": {
      "needs_background": "light"
     },
     "output_type": "display_data"
    }
   ],
   "source": [
    "train_df['demand'].value_counts().sort_index().plot()"
   ]
  },
  {
   "cell_type": "code",
   "execution_count": 72,
   "metadata": {},
   "outputs": [
    {
     "data": {
      "text/plain": [
       "<matplotlib.axes._subplots.AxesSubplot at 0x35b212e8>"
      ]
     },
     "execution_count": 72,
     "metadata": {},
     "output_type": "execute_result"
    },
    {
     "data": {
      "image/png": "[encoded data removed]",
      "text/plain": [
       "<Figure size 432x288 with 1 Axes>"
      ]
     },
     "metadata": {
      "needs_background": "light"
     },
     "output_type": "display_data"
    }
   ],
   "source": [
    "train_df.groupby('demand')['fare_amount'].mean().plot()"
   ]
  },
  {
   "cell_type": "code",
   "execution_count": 73,
   "metadata": {},
   "outputs": [],
   "source": [
    "def distance(lat1, lon1, lat2, lon2):\n",
    "    \"\"\"\n",
    "    calculates the Manhattan distance between 2 points using their coordinates   \n",
    "    Returns\n",
    "    -------\n",
    "    d: float\n",
    "        The Manhattan distance between the two points in kilometers\n",
    "    \"\"\"\n",
    "    d = haversine((lat1, lon1), (lat2, lon1)) + haversine((lat2, lon1), (lat2, lon2))\n",
    "    return d\n",
    "\n",
    "# The distance is calculated in kilometers\n",
    "train_df[\"distance\"] = train_df.apply(lambda row: distance(row[\"pickup_latitude\"], \n",
    "                                               row[\"pickup_longitude\"], \n",
    "                                               row[\"dropoff_latitude\"], \n",
    "                                               row[\"dropoff_longitude\"]), axis=1)"
   ]
  },
  {
   "cell_type": "code",
   "execution_count": 74,
   "metadata": {},
   "outputs": [
    {
     "data": {
      "text/plain": [
       "0          0.994348\n",
       "1          1.333581\n",
       "2          5.648338\n",
       "3         11.774684\n",
       "4          2.811899\n",
       "5          2.236873\n",
       "6          1.916328\n",
       "7          2.848470\n",
       "8          5.543908\n",
       "9          0.307994\n",
       "10         1.779232\n",
       "11         9.505639\n",
       "12         1.700778\n",
       "13         2.724473\n",
       "14         3.071089\n",
       "15        21.839867\n",
       "16         2.755513\n",
       "17         4.304596\n",
       "18         0.542047\n",
       "19         0.701315\n",
       "20         1.481350\n",
       "21         3.030238\n",
       "22         6.008949\n",
       "23         2.902709\n",
       "24         9.485814\n",
       "25         0.582736\n",
       "26         1.227529\n",
       "27         4.691100\n",
       "28         4.743672\n",
       "29         0.000000\n",
       "            ...    \n",
       "999970     8.208024\n",
       "999971     5.758488\n",
       "999972     5.287813\n",
       "999973     1.778609\n",
       "999974     0.823994\n",
       "999975     3.533078\n",
       "999976     1.085037\n",
       "999977    34.915028\n",
       "999978     7.348836\n",
       "999979     0.982604\n",
       "999980    23.386542\n",
       "999981     8.747947\n",
       "999982     1.553576\n",
       "999983     1.728682\n",
       "999984     2.445260\n",
       "999985     1.607214\n",
       "999986     3.056351\n",
       "999987    15.560204\n",
       "999988     7.503730\n",
       "999989     6.343163\n",
       "999990     5.495309\n",
       "999991     2.917594\n",
       "999992     8.636808\n",
       "999993    10.314731\n",
       "999994     0.940635\n",
       "999995     4.114250\n",
       "999996     4.432105\n",
       "999997     7.178145\n",
       "999998     1.260764\n",
       "999999     1.695467\n",
       "Name: distance, Length: 1000000, dtype: float64"
      ]
     },
     "execution_count": 74,
     "metadata": {},
     "output_type": "execute_result"
    }
   ],
   "source": [
    "train_df[\"distance\"]"
   ]
  },
  {
   "cell_type": "code",
   "execution_count": 78,
   "metadata": {},
   "outputs": [
    {
     "data": {
      "text/plain": [
       "<matplotlib.axes._subplots.AxesSubplot at 0x5716fcc0>"
      ]
     },
     "execution_count": 78,
     "metadata": {},
     "output_type": "execute_result"
    },
    {
     "data": {
      "image/png": "[encoded data removed]",
      "text/plain": [
       "<Figure size 432x288 with 1 Axes>"
      ]
     },
     "metadata": {
      "needs_background": "light"
     },
     "output_type": "display_data"
    }
   ],
   "source": [
    "train_df.groupby('distance')['fare_amount'].mean().plot()"
   ]
  },
  {
   "cell_type": "code",
   "execution_count": 79,
   "metadata": {},
   "outputs": [
    {
     "data": {
      "text/plain": [
       "0          4.50\n",
       "1          4.50\n",
       "2         10.90\n",
       "3         29.00\n",
       "4          6.10\n",
       "5          6.90\n",
       "6          6.10\n",
       "7          7.70\n",
       "8          8.10\n",
       "9         56.80\n",
       "10         4.50\n",
       "11        22.89\n",
       "12         4.10\n",
       "13        13.50\n",
       "14         6.10\n",
       "15        44.00\n",
       "16         6.90\n",
       "17         7.30\n",
       "18         5.00\n",
       "19         4.50\n",
       "20         4.90\n",
       "21         7.00\n",
       "22        14.00\n",
       "23         6.50\n",
       "24        16.10\n",
       "25         6.50\n",
       "26         7.50\n",
       "27         9.70\n",
       "28        10.50\n",
       "29         4.90\n",
       "          ...  \n",
       "999970    15.50\n",
       "999971    15.00\n",
       "999972    11.00\n",
       "999973     7.00\n",
       "999974     4.50\n",
       "999975     8.90\n",
       "999976     7.30\n",
       "999977    57.33\n",
       "999978    12.10\n",
       "999979     4.90\n",
       "999980    48.33\n",
       "999981    15.70\n",
       "999982     6.50\n",
       "999983     6.50\n",
       "999984     6.50\n",
       "999985     5.30\n",
       "999986    10.00\n",
       "999987    17.30\n",
       "999988    10.90\n",
       "999989    10.10\n",
       "999990    13.70\n",
       "999991     9.50\n",
       "999992    31.83\n",
       "999993    19.30\n",
       "999994     3.70\n",
       "999995    14.90\n",
       "999996    11.50\n",
       "999997    24.00\n",
       "999998     4.90\n",
       "999999     7.50\n",
       "Name: fare_amount, Length: 1000000, dtype: float64"
      ]
     },
     "execution_count": 79,
     "metadata": {},
     "output_type": "execute_result"
    }
   ],
   "source": [
    "train_df[\"fare_amount\"]"
   ]
  },
  {
   "cell_type": "code",
   "execution_count": 80,
   "metadata": {},
   "outputs": [
    {
     "data": {
      "text/plain": [
       "22139.91139709688"
      ]
     },
     "execution_count": 80,
     "metadata": {},
     "output_type": "execute_result"
    }
   ],
   "source": [
    "train_df['distance'].max()"
   ]
  },
  {
   "cell_type": "code",
   "execution_count": 81,
   "metadata": {},
   "outputs": [],
   "source": [
    "train_df.to_csv(\"train_formatted.csv\")"
   ]
  },
  {
   "cell_type": "code",
   "execution_count": 82,
   "metadata": {},
   "outputs": [
    {
     "data": {
      "text/html": [
       "<div>\n",
       "<style scoped>\n",
       "    .dataframe tbody tr th:only-of-type {\n",
       "        vertical-align: middle;\n",
       "    }\n",
       "\n",
       "    .dataframe tbody tr th {\n",
       "        vertical-align: top;\n",
       "    }\n",
       "\n",
       "    .dataframe thead th {\n",
       "        text-align: right;\n",
       "    }\n",
       "</style>\n",
       "<table border=\"1\" class=\"dataframe\">\n",
       "  <thead>\n",
       "    <tr style=\"text-align: right;\">\n",
       "      <th></th>\n",
       "      <th>count</th>\n",
       "      <th>mean</th>\n",
       "      <th>std</th>\n",
       "      <th>min</th>\n",
       "      <th>25%</th>\n",
       "      <th>50%</th>\n",
       "      <th>75%</th>\n",
       "      <th>max</th>\n",
       "    </tr>\n",
       "  </thead>\n",
       "  <tbody>\n",
       "    <tr>\n",
       "      <th>fare_amount</th>\n",
       "      <td>1000000.0</td>\n",
       "      <td>11.348079</td>\n",
       "      <td>9.822090</td>\n",
       "      <td>-44.900000</td>\n",
       "      <td>6.000000</td>\n",
       "      <td>8.500000</td>\n",
       "      <td>12.500000</td>\n",
       "      <td>500.000000</td>\n",
       "    </tr>\n",
       "    <tr>\n",
       "      <th>pickup_longitude</th>\n",
       "      <td>1000000.0</td>\n",
       "      <td>-72.526588</td>\n",
       "      <td>12.057929</td>\n",
       "      <td>-3377.680000</td>\n",
       "      <td>-73.990000</td>\n",
       "      <td>-73.980000</td>\n",
       "      <td>-73.970000</td>\n",
       "      <td>2522.270000</td>\n",
       "    </tr>\n",
       "    <tr>\n",
       "      <th>pickup_latitude</th>\n",
       "      <td>1000000.0</td>\n",
       "      <td>39.928901</td>\n",
       "      <td>7.626147</td>\n",
       "      <td>-3116.290000</td>\n",
       "      <td>40.730000</td>\n",
       "      <td>40.750000</td>\n",
       "      <td>40.770000</td>\n",
       "      <td>2621.630000</td>\n",
       "    </tr>\n",
       "    <tr>\n",
       "      <th>dropoff_longitude</th>\n",
       "      <td>999990.0</td>\n",
       "      <td>-72.527860</td>\n",
       "      <td>11.324494</td>\n",
       "      <td>-3383.296608</td>\n",
       "      <td>-73.991385</td>\n",
       "      <td>-73.980135</td>\n",
       "      <td>-73.963654</td>\n",
       "      <td>45.581619</td>\n",
       "    </tr>\n",
       "    <tr>\n",
       "      <th>dropoff_latitude</th>\n",
       "      <td>999990.0</td>\n",
       "      <td>39.919954</td>\n",
       "      <td>8.201418</td>\n",
       "      <td>-3114.338567</td>\n",
       "      <td>40.734046</td>\n",
       "      <td>40.753166</td>\n",
       "      <td>40.768129</td>\n",
       "      <td>1651.553433</td>\n",
       "    </tr>\n",
       "    <tr>\n",
       "      <th>passenger_count</th>\n",
       "      <td>1000000.0</td>\n",
       "      <td>1.684924</td>\n",
       "      <td>1.323911</td>\n",
       "      <td>0.000000</td>\n",
       "      <td>1.000000</td>\n",
       "      <td>1.000000</td>\n",
       "      <td>2.000000</td>\n",
       "      <td>208.000000</td>\n",
       "    </tr>\n",
       "    <tr>\n",
       "      <th>pickup_day_of_week</th>\n",
       "      <td>1000000.0</td>\n",
       "      <td>3.039856</td>\n",
       "      <td>1.949970</td>\n",
       "      <td>0.000000</td>\n",
       "      <td>1.000000</td>\n",
       "      <td>3.000000</td>\n",
       "      <td>5.000000</td>\n",
       "      <td>6.000000</td>\n",
       "    </tr>\n",
       "    <tr>\n",
       "      <th>pickup_month</th>\n",
       "      <td>1000000.0</td>\n",
       "      <td>6.267875</td>\n",
       "      <td>3.436243</td>\n",
       "      <td>1.000000</td>\n",
       "      <td>3.000000</td>\n",
       "      <td>6.000000</td>\n",
       "      <td>9.000000</td>\n",
       "      <td>12.000000</td>\n",
       "    </tr>\n",
       "    <tr>\n",
       "      <th>pickup_hour</th>\n",
       "      <td>1000000.0</td>\n",
       "      <td>13.509477</td>\n",
       "      <td>6.513840</td>\n",
       "      <td>0.000000</td>\n",
       "      <td>9.000000</td>\n",
       "      <td>14.000000</td>\n",
       "      <td>19.000000</td>\n",
       "      <td>23.000000</td>\n",
       "    </tr>\n",
       "    <tr>\n",
       "      <th>pickup_year</th>\n",
       "      <td>1000000.0</td>\n",
       "      <td>2011.741106</td>\n",
       "      <td>1.860754</td>\n",
       "      <td>2009.000000</td>\n",
       "      <td>2010.000000</td>\n",
       "      <td>2012.000000</td>\n",
       "      <td>2013.000000</td>\n",
       "      <td>2015.000000</td>\n",
       "    </tr>\n",
       "    <tr>\n",
       "      <th>id</th>\n",
       "      <td>1000000.0</td>\n",
       "      <td>499999.500000</td>\n",
       "      <td>288675.278933</td>\n",
       "      <td>0.000000</td>\n",
       "      <td>249999.750000</td>\n",
       "      <td>499999.500000</td>\n",
       "      <td>749999.250000</td>\n",
       "      <td>999999.000000</td>\n",
       "    </tr>\n",
       "    <tr>\n",
       "      <th>demand</th>\n",
       "      <td>1000000.0</td>\n",
       "      <td>1.178272</td>\n",
       "      <td>0.446575</td>\n",
       "      <td>1.000000</td>\n",
       "      <td>1.000000</td>\n",
       "      <td>1.000000</td>\n",
       "      <td>1.000000</td>\n",
       "      <td>6.000000</td>\n",
       "    </tr>\n",
       "    <tr>\n",
       "      <th>distance</th>\n",
       "      <td>999990.0</td>\n",
       "      <td>24.987805</td>\n",
       "      <td>482.911957</td>\n",
       "      <td>0.000000</td>\n",
       "      <td>1.576720</td>\n",
       "      <td>2.764460</td>\n",
       "      <td>5.039720</td>\n",
       "      <td>22139.911397</td>\n",
       "    </tr>\n",
       "  </tbody>\n",
       "</table>\n",
       "</div>"
      ],
      "text/plain": [
       "                        count           mean            std          min  \\\n",
       "fare_amount         1000000.0      11.348079       9.822090   -44.900000   \n",
       "pickup_longitude    1000000.0     -72.526588      12.057929 -3377.680000   \n",
       "pickup_latitude     1000000.0      39.928901       7.626147 -3116.290000   \n",
       "dropoff_longitude    999990.0     -72.527860      11.324494 -3383.296608   \n",
       "dropoff_latitude     999990.0      39.919954       8.201418 -3114.338567   \n",
       "passenger_count     1000000.0       1.684924       1.323911     0.000000   \n",
       "pickup_day_of_week  1000000.0       3.039856       1.949970     0.000000   \n",
       "pickup_month        1000000.0       6.267875       3.436243     1.000000   \n",
       "pickup_hour         1000000.0      13.509477       6.513840     0.000000   \n",
       "pickup_year         1000000.0    2011.741106       1.860754  2009.000000   \n",
       "id                  1000000.0  499999.500000  288675.278933     0.000000   \n",
       "demand              1000000.0       1.178272       0.446575     1.000000   \n",
       "distance             999990.0      24.987805     482.911957     0.000000   \n",
       "\n",
       "                              25%            50%            75%            max  \n",
       "fare_amount              6.000000       8.500000      12.500000     500.000000  \n",
       "pickup_longitude       -73.990000     -73.980000     -73.970000    2522.270000  \n",
       "pickup_latitude         40.730000      40.750000      40.770000    2621.630000  \n",
       "dropoff_longitude      -73.991385     -73.980135     -73.963654      45.581619  \n",
       "dropoff_latitude        40.734046      40.753166      40.768129    1651.553433  \n",
       "passenger_count          1.000000       1.000000       2.000000     208.000000  \n",
       "pickup_day_of_week       1.000000       3.000000       5.000000       6.000000  \n",
       "pickup_month             3.000000       6.000000       9.000000      12.000000  \n",
       "pickup_hour              9.000000      14.000000      19.000000      23.000000  \n",
       "pickup_year           2010.000000    2012.000000    2013.000000    2015.000000  \n",
       "id                  249999.750000  499999.500000  749999.250000  999999.000000  \n",
       "demand                   1.000000       1.000000       1.000000       6.000000  \n",
       "distance                 1.576720       2.764460       5.039720   22139.911397  "
      ]
     },
     "execution_count": 82,
     "metadata": {},
     "output_type": "execute_result"
    }
   ],
   "source": [
    "train_df.describe().transpose()"
   ]
  },
  {
   "cell_type": "code",
   "execution_count": 83,
   "metadata": {},
   "outputs": [
    {
     "data": {
      "text/plain": [
       "0        2009-06-15 17:15:00\n",
       "1        2009-08-03 23:00:00\n",
       "2        2011-07-11 13:00:00\n",
       "3        2012-12-17 22:45:00\n",
       "4        2011-02-28 22:00:00\n",
       "5        2010-03-29 13:00:00\n",
       "6        2012-03-26 02:00:00\n",
       "7        2011-04-18 14:00:00\n",
       "8        2012-07-02 22:30:00\n",
       "9        2012-10-01 00:15:00\n",
       "10       2009-09-21 20:45:00\n",
       "11       2012-06-18 21:45:00\n",
       "12       2009-06-15 14:45:00\n",
       "13       2013-05-06 07:30:00\n",
       "14       2010-01-11 17:00:00\n",
       "15       2013-06-17 16:15:00\n",
       "16       2012-03-26 17:15:00\n",
       "17       2009-05-04 15:30:00\n",
       "18       2015-02-02 10:30:00\n",
       "19       2015-06-15 15:30:00\n",
       "20       2011-02-07 09:15:00\n",
       "21       2012-09-10 22:30:00\n",
       "22       2014-10-27 17:15:00\n",
       "23       2009-03-16 10:15:00\n",
       "24       2009-08-31 01:00:00\n",
       "25       2013-02-11 09:00:00\n",
       "26       2015-03-02 13:30:00\n",
       "27       2012-04-02 22:00:00\n",
       "28       2010-02-22 09:45:00\n",
       "29       2009-12-28 20:15:00\n",
       "                 ...        \n",
       "999970   2014-02-09 20:45:00\n",
       "999971   2014-05-11 16:15:00\n",
       "999972   2014-06-01 12:15:00\n",
       "999973   2013-12-08 21:15:00\n",
       "999974   2014-11-02 00:00:00\n",
       "999975   2012-06-03 19:45:00\n",
       "999976   2009-04-19 17:15:00\n",
       "999977   2014-02-23 17:45:00\n",
       "999978   2010-01-03 15:15:00\n",
       "999979   2012-04-29 15:45:00\n",
       "999980   2013-10-13 15:30:00\n",
       "999981   2010-02-28 06:45:00\n",
       "999982   2015-02-08 11:30:00\n",
       "999983   2011-12-25 11:15:00\n",
       "999984   2012-01-29 00:30:00\n",
       "999985   2011-07-31 03:45:00\n",
       "999986   2012-11-18 01:15:00\n",
       "999987   2009-04-19 23:45:00\n",
       "999988   2011-09-18 15:15:00\n",
       "999989   2011-10-09 23:30:00\n",
       "999990   2012-08-12 17:15:00\n",
       "999991   2014-08-03 20:00:00\n",
       "999992   2015-03-08 23:00:00\n",
       "999993   2011-11-20 12:15:00\n",
       "999994   2009-07-26 06:30:00\n",
       "999995   2012-06-24 15:45:00\n",
       "999996   2012-09-30 04:00:00\n",
       "999997   2012-10-07 12:30:00\n",
       "999998   2011-04-17 20:30:00\n",
       "999999   2015-05-10 13:00:00\n",
       "Name: interval, Length: 1000000, dtype: datetime64[ns]"
      ]
     },
     "execution_count": 83,
     "metadata": {},
     "output_type": "execute_result"
    }
   ],
   "source": [
    "train_df[\"interval\"]"
   ]
  },
  {
   "cell_type": "code",
   "execution_count": 84,
   "metadata": {},
   "outputs": [
    {
     "name": "stdout",
     "output_type": "stream",
     "text": [
      "<class 'pandas.core.frame.DataFrame'>\n",
      "Int64Index: 1000000 entries, 0 to 999999\n",
      "Data columns (total 18 columns):\n",
      "key                   1000000 non-null object\n",
      "fare_amount           1000000 non-null float64\n",
      "pickup_datetime       1000000 non-null datetime64[ns]\n",
      "pickup_longitude      1000000 non-null float64\n",
      "pickup_latitude       1000000 non-null float64\n",
      "dropoff_longitude     999990 non-null float64\n",
      "dropoff_latitude      999990 non-null float64\n",
      "passenger_count       1000000 non-null int64\n",
      "pickup_day_of_week    1000000 non-null int64\n",
      "pickup_month          1000000 non-null int64\n",
      "pickup_date           1000000 non-null object\n",
      "pickup_hour           1000000 non-null int64\n",
      "pickup_year           1000000 non-null int64\n",
      "id                    1000000 non-null int64\n",
      "interval              1000000 non-null datetime64[ns]\n",
      "interval_time         1000000 non-null object\n",
      "demand                1000000 non-null int64\n",
      "distance              999990 non-null float64\n",
      "dtypes: datetime64[ns](2), float64(6), int64(7), object(3)\n",
      "memory usage: 145.0+ MB\n"
     ]
    }
   ],
   "source": [
    "train_df.info()"
   ]
  },
  {
   "cell_type": "code",
   "execution_count": 85,
   "metadata": {},
   "outputs": [],
   "source": [
    "train_df.to_csv(\"formatted.csv\")"
   ]
  },
  {
   "cell_type": "code",
   "execution_count": 226,
   "metadata": {},
   "outputs": [],
   "source": [
    "df = pd.read_csv('formatted.csv')"
   ]
  },
  {
   "cell_type": "code",
   "execution_count": 228,
   "metadata": {},
   "outputs": [
    {
     "name": "stdout",
     "output_type": "stream",
     "text": [
      "<class 'pandas.core.frame.DataFrame'>\n",
      "RangeIndex: 1000000 entries, 0 to 999999\n",
      "Data columns (total 19 columns):\n",
      "Unnamed: 0            1000000 non-null int64\n",
      "key                   1000000 non-null object\n",
      "fare_amount           1000000 non-null float64\n",
      "pickup_datetime       1000000 non-null object\n",
      "pickup_longitude      1000000 non-null float64\n",
      "pickup_latitude       1000000 non-null float64\n",
      "dropoff_longitude     999990 non-null float64\n",
      "dropoff_latitude      999990 non-null float64\n",
      "passenger_count       1000000 non-null int64\n",
      "pickup_day_of_week    1000000 non-null int64\n",
      "pickup_month          1000000 non-null int64\n",
      "pickup_date           1000000 non-null object\n",
      "pickup_hour           1000000 non-null int64\n",
      "pickup_year           1000000 non-null int64\n",
      "id                    1000000 non-null int64\n",
      "interval              1000000 non-null object\n",
      "interval_time         1000000 non-null object\n",
      "demand                1000000 non-null int64\n",
      "distance              999990 non-null float64\n",
      "dtypes: float64(6), int64(8), object(5)\n",
      "memory usage: 145.0+ MB\n"
     ]
    }
   ],
   "source": [
    "df.info()"
   ]
  },
  {
   "cell_type": "code",
   "execution_count": 229,
   "metadata": {},
   "outputs": [],
   "source": [
    "\n",
    "df = df[[\"interval\",\"fare_amount\",\"distance\",\"pickup_longitude\",\"pickup_latitude\",\"dropoff_latitude\",\"dropoff_latitude\"]]"
   ]
  },
  {
   "cell_type": "code",
   "execution_count": 230,
   "metadata": {},
   "outputs": [],
   "source": [
    "df.interval = pd.to_datetime(df.interval)"
   ]
  },
  {
   "cell_type": "code",
   "execution_count": 231,
   "metadata": {},
   "outputs": [],
   "source": [
    "df =df.loc[df.pickup_longitude<80]"
   ]
  },
  {
   "cell_type": "code",
   "execution_count": 232,
   "metadata": {},
   "outputs": [],
   "source": [
    "df=df.loc[df.distance<100]"
   ]
  },
  {
   "cell_type": "code",
   "execution_count": 233,
   "metadata": {},
   "outputs": [
    {
     "data": {
      "text/html": [
       "<div>\n",
       "<style scoped>\n",
       "    .dataframe tbody tr th:only-of-type {\n",
       "        vertical-align: middle;\n",
       "    }\n",
       "\n",
       "    .dataframe tbody tr th {\n",
       "        vertical-align: top;\n",
       "    }\n",
       "\n",
       "    .dataframe thead th {\n",
       "        text-align: right;\n",
       "    }\n",
       "</style>\n",
       "<table border=\"1\" class=\"dataframe\">\n",
       "  <thead>\n",
       "    <tr style=\"text-align: right;\">\n",
       "      <th></th>\n",
       "      <th>fare_amount</th>\n",
       "      <th>distance</th>\n",
       "      <th>pickup_longitude</th>\n",
       "      <th>pickup_latitude</th>\n",
       "      <th>dropoff_latitude</th>\n",
       "      <th>dropoff_latitude</th>\n",
       "    </tr>\n",
       "  </thead>\n",
       "  <tbody>\n",
       "    <tr>\n",
       "      <th>count</th>\n",
       "      <td>997697.000000</td>\n",
       "      <td>997697.000000</td>\n",
       "      <td>997697.000000</td>\n",
       "      <td>997697.000000</td>\n",
       "      <td>997697.000000</td>\n",
       "      <td>997697.000000</td>\n",
       "    </tr>\n",
       "    <tr>\n",
       "      <th>mean</th>\n",
       "      <td>11.337867</td>\n",
       "      <td>4.225106</td>\n",
       "      <td>-72.582701</td>\n",
       "      <td>39.959192</td>\n",
       "      <td>39.959322</td>\n",
       "      <td>39.959322</td>\n",
       "    </tr>\n",
       "    <tr>\n",
       "      <th>std</th>\n",
       "      <td>9.772840</td>\n",
       "      <td>4.731724</td>\n",
       "      <td>10.168047</td>\n",
       "      <td>5.996480</td>\n",
       "      <td>5.985616</td>\n",
       "      <td>5.985616</td>\n",
       "    </tr>\n",
       "    <tr>\n",
       "      <th>min</th>\n",
       "      <td>-44.900000</td>\n",
       "      <td>0.000000</td>\n",
       "      <td>-121.390000</td>\n",
       "      <td>-74.020000</td>\n",
       "      <td>-74.035197</td>\n",
       "      <td>-74.035197</td>\n",
       "    </tr>\n",
       "    <tr>\n",
       "      <th>25%</th>\n",
       "      <td>6.000000</td>\n",
       "      <td>1.574384</td>\n",
       "      <td>-73.990000</td>\n",
       "      <td>40.740000</td>\n",
       "      <td>40.734110</td>\n",
       "      <td>40.734110</td>\n",
       "    </tr>\n",
       "    <tr>\n",
       "      <th>50%</th>\n",
       "      <td>8.500000</td>\n",
       "      <td>2.757260</td>\n",
       "      <td>-73.980000</td>\n",
       "      <td>40.750000</td>\n",
       "      <td>40.753196</td>\n",
       "      <td>40.753196</td>\n",
       "    </tr>\n",
       "    <tr>\n",
       "      <th>75%</th>\n",
       "      <td>12.500000</td>\n",
       "      <td>5.013622</td>\n",
       "      <td>-73.970000</td>\n",
       "      <td>40.770000</td>\n",
       "      <td>40.768145</td>\n",
       "      <td>40.768145</td>\n",
       "    </tr>\n",
       "    <tr>\n",
       "      <th>max</th>\n",
       "      <td>500.000000</td>\n",
       "      <td>98.419500</td>\n",
       "      <td>40.850000</td>\n",
       "      <td>401.080000</td>\n",
       "      <td>47.890090</td>\n",
       "      <td>47.890090</td>\n",
       "    </tr>\n",
       "  </tbody>\n",
       "</table>\n",
       "</div>"
      ],
      "text/plain": [
       "         fare_amount       distance  pickup_longitude  pickup_latitude  \\\n",
       "count  997697.000000  997697.000000     997697.000000    997697.000000   \n",
       "mean       11.337867       4.225106        -72.582701        39.959192   \n",
       "std         9.772840       4.731724         10.168047         5.996480   \n",
       "min       -44.900000       0.000000       -121.390000       -74.020000   \n",
       "25%         6.000000       1.574384        -73.990000        40.740000   \n",
       "50%         8.500000       2.757260        -73.980000        40.750000   \n",
       "75%        12.500000       5.013622        -73.970000        40.770000   \n",
       "max       500.000000      98.419500         40.850000       401.080000   \n",
       "\n",
       "       dropoff_latitude  dropoff_latitude  \n",
       "count     997697.000000     997697.000000  \n",
       "mean          39.959322         39.959322  \n",
       "std            5.985616          5.985616  \n",
       "min          -74.035197        -74.035197  \n",
       "25%           40.734110         40.734110  \n",
       "50%           40.753196         40.753196  \n",
       "75%           40.768145         40.768145  \n",
       "max           47.890090         47.890090  "
      ]
     },
     "execution_count": 233,
     "metadata": {},
     "output_type": "execute_result"
    }
   ],
   "source": [
    "df.describe()"
   ]
  },
  {
   "cell_type": "code",
   "execution_count": 234,
   "metadata": {},
   "outputs": [],
   "source": [
    "df.index = df.interval"
   ]
  },
  {
   "cell_type": "code",
   "execution_count": 378,
   "metadata": {},
   "outputs": [],
   "source": [
    "df = df.resample(rule='60T', closed='left', label='left', base=17).mean()"
   ]
  },
  {
   "cell_type": "code",
   "execution_count": 235,
   "metadata": {},
   "outputs": [
    {
     "data": {
      "text/html": [
       "<div>\n",
       "<style scoped>\n",
       "    .dataframe tbody tr th:only-of-type {\n",
       "        vertical-align: middle;\n",
       "    }\n",
       "\n",
       "    .dataframe tbody tr th {\n",
       "        vertical-align: top;\n",
       "    }\n",
       "\n",
       "    .dataframe thead th {\n",
       "        text-align: right;\n",
       "    }\n",
       "</style>\n",
       "<table border=\"1\" class=\"dataframe\">\n",
       "  <thead>\n",
       "    <tr style=\"text-align: right;\">\n",
       "      <th></th>\n",
       "      <th>interval</th>\n",
       "      <th>fare_amount</th>\n",
       "      <th>distance</th>\n",
       "      <th>pickup_longitude</th>\n",
       "      <th>pickup_latitude</th>\n",
       "      <th>dropoff_latitude</th>\n",
       "      <th>dropoff_latitude</th>\n",
       "    </tr>\n",
       "    <tr>\n",
       "      <th>interval</th>\n",
       "      <th></th>\n",
       "      <th></th>\n",
       "      <th></th>\n",
       "      <th></th>\n",
       "      <th></th>\n",
       "      <th></th>\n",
       "      <th></th>\n",
       "    </tr>\n",
       "  </thead>\n",
       "  <tbody>\n",
       "    <tr>\n",
       "      <th>2009-06-15 17:15:00</th>\n",
       "      <td>2009-06-15 17:15:00</td>\n",
       "      <td>4.5</td>\n",
       "      <td>0.994348</td>\n",
       "      <td>-73.84</td>\n",
       "      <td>40.72</td>\n",
       "      <td>40.712278</td>\n",
       "      <td>40.712278</td>\n",
       "    </tr>\n",
       "    <tr>\n",
       "      <th>2009-08-03 23:00:00</th>\n",
       "      <td>2009-08-03 23:00:00</td>\n",
       "      <td>4.5</td>\n",
       "      <td>1.333581</td>\n",
       "      <td>-73.99</td>\n",
       "      <td>40.76</td>\n",
       "      <td>40.768142</td>\n",
       "      <td>40.768142</td>\n",
       "    </tr>\n",
       "    <tr>\n",
       "      <th>2011-07-11 13:00:00</th>\n",
       "      <td>2011-07-11 13:00:00</td>\n",
       "      <td>10.9</td>\n",
       "      <td>5.648338</td>\n",
       "      <td>-73.99</td>\n",
       "      <td>40.75</td>\n",
       "      <td>40.718000</td>\n",
       "      <td>40.718000</td>\n",
       "    </tr>\n",
       "    <tr>\n",
       "      <th>2012-12-17 22:45:00</th>\n",
       "      <td>2012-12-17 22:45:00</td>\n",
       "      <td>29.0</td>\n",
       "      <td>11.774684</td>\n",
       "      <td>-73.98</td>\n",
       "      <td>40.77</td>\n",
       "      <td>40.677382</td>\n",
       "      <td>40.677382</td>\n",
       "    </tr>\n",
       "    <tr>\n",
       "      <th>2011-02-28 22:00:00</th>\n",
       "      <td>2011-02-28 22:00:00</td>\n",
       "      <td>6.1</td>\n",
       "      <td>2.811899</td>\n",
       "      <td>-74.00</td>\n",
       "      <td>40.73</td>\n",
       "      <td>40.721325</td>\n",
       "      <td>40.721325</td>\n",
       "    </tr>\n",
       "  </tbody>\n",
       "</table>\n",
       "</div>"
      ],
      "text/plain": [
       "                               interval  fare_amount   distance  \\\n",
       "interval                                                          \n",
       "2009-06-15 17:15:00 2009-06-15 17:15:00          4.5   0.994348   \n",
       "2009-08-03 23:00:00 2009-08-03 23:00:00          4.5   1.333581   \n",
       "2011-07-11 13:00:00 2011-07-11 13:00:00         10.9   5.648338   \n",
       "2012-12-17 22:45:00 2012-12-17 22:45:00         29.0  11.774684   \n",
       "2011-02-28 22:00:00 2011-02-28 22:00:00          6.1   2.811899   \n",
       "\n",
       "                     pickup_longitude  pickup_latitude  dropoff_latitude  \\\n",
       "interval                                                                   \n",
       "2009-06-15 17:15:00            -73.84            40.72         40.712278   \n",
       "2009-08-03 23:00:00            -73.99            40.76         40.768142   \n",
       "2011-07-11 13:00:00            -73.99            40.75         40.718000   \n",
       "2012-12-17 22:45:00            -73.98            40.77         40.677382   \n",
       "2011-02-28 22:00:00            -74.00            40.73         40.721325   \n",
       "\n",
       "                     dropoff_latitude  \n",
       "interval                               \n",
       "2009-06-15 17:15:00         40.712278  \n",
       "2009-08-03 23:00:00         40.768142  \n",
       "2011-07-11 13:00:00         40.718000  \n",
       "2012-12-17 22:45:00         40.677382  \n",
       "2011-02-28 22:00:00         40.721325  "
      ]
     },
     "execution_count": 235,
     "metadata": {},
     "output_type": "execute_result"
    }
   ],
   "source": [
    "df.head()"
   ]
  },
  {
   "cell_type": "code",
   "execution_count": 236,
   "metadata": {},
   "outputs": [
    {
     "data": {
      "text/plain": [
       "(997697, 7)"
      ]
     },
     "execution_count": 236,
     "metadata": {},
     "output_type": "execute_result"
    }
   ],
   "source": [
    "df.shape"
   ]
  },
  {
   "cell_type": "code",
   "execution_count": 237,
   "metadata": {},
   "outputs": [
    {
     "data": {
      "text/html": [
       "<div>\n",
       "<style scoped>\n",
       "    .dataframe tbody tr th:only-of-type {\n",
       "        vertical-align: middle;\n",
       "    }\n",
       "\n",
       "    .dataframe tbody tr th {\n",
       "        vertical-align: top;\n",
       "    }\n",
       "\n",
       "    .dataframe thead th {\n",
       "        text-align: right;\n",
       "    }\n",
       "</style>\n",
       "<table border=\"1\" class=\"dataframe\">\n",
       "  <thead>\n",
       "    <tr style=\"text-align: right;\">\n",
       "      <th></th>\n",
       "      <th>interval</th>\n",
       "      <th>fare_amount</th>\n",
       "      <th>distance</th>\n",
       "      <th>pickup_longitude</th>\n",
       "      <th>pickup_latitude</th>\n",
       "      <th>dropoff_latitude</th>\n",
       "      <th>dropoff_latitude</th>\n",
       "    </tr>\n",
       "    <tr>\n",
       "      <th>interval</th>\n",
       "      <th></th>\n",
       "      <th></th>\n",
       "      <th></th>\n",
       "      <th></th>\n",
       "      <th></th>\n",
       "      <th></th>\n",
       "      <th></th>\n",
       "    </tr>\n",
       "  </thead>\n",
       "  <tbody>\n",
       "    <tr>\n",
       "      <th>2009-06-15 17:15:00</th>\n",
       "      <td>2009-06-15 17:15:00</td>\n",
       "      <td>4.5</td>\n",
       "      <td>0.994348</td>\n",
       "      <td>-73.84</td>\n",
       "      <td>40.72</td>\n",
       "      <td>40.712278</td>\n",
       "      <td>40.712278</td>\n",
       "    </tr>\n",
       "    <tr>\n",
       "      <th>2009-08-03 23:00:00</th>\n",
       "      <td>2009-08-03 23:00:00</td>\n",
       "      <td>4.5</td>\n",
       "      <td>1.333581</td>\n",
       "      <td>-73.99</td>\n",
       "      <td>40.76</td>\n",
       "      <td>40.768142</td>\n",
       "      <td>40.768142</td>\n",
       "    </tr>\n",
       "    <tr>\n",
       "      <th>2011-07-11 13:00:00</th>\n",
       "      <td>2011-07-11 13:00:00</td>\n",
       "      <td>10.9</td>\n",
       "      <td>5.648338</td>\n",
       "      <td>-73.99</td>\n",
       "      <td>40.75</td>\n",
       "      <td>40.718000</td>\n",
       "      <td>40.718000</td>\n",
       "    </tr>\n",
       "    <tr>\n",
       "      <th>2012-12-17 22:45:00</th>\n",
       "      <td>2012-12-17 22:45:00</td>\n",
       "      <td>29.0</td>\n",
       "      <td>11.774684</td>\n",
       "      <td>-73.98</td>\n",
       "      <td>40.77</td>\n",
       "      <td>40.677382</td>\n",
       "      <td>40.677382</td>\n",
       "    </tr>\n",
       "    <tr>\n",
       "      <th>2011-02-28 22:00:00</th>\n",
       "      <td>2011-02-28 22:00:00</td>\n",
       "      <td>6.1</td>\n",
       "      <td>2.811899</td>\n",
       "      <td>-74.00</td>\n",
       "      <td>40.73</td>\n",
       "      <td>40.721325</td>\n",
       "      <td>40.721325</td>\n",
       "    </tr>\n",
       "  </tbody>\n",
       "</table>\n",
       "</div>"
      ],
      "text/plain": [
       "                               interval  fare_amount   distance  \\\n",
       "interval                                                          \n",
       "2009-06-15 17:15:00 2009-06-15 17:15:00          4.5   0.994348   \n",
       "2009-08-03 23:00:00 2009-08-03 23:00:00          4.5   1.333581   \n",
       "2011-07-11 13:00:00 2011-07-11 13:00:00         10.9   5.648338   \n",
       "2012-12-17 22:45:00 2012-12-17 22:45:00         29.0  11.774684   \n",
       "2011-02-28 22:00:00 2011-02-28 22:00:00          6.1   2.811899   \n",
       "\n",
       "                     pickup_longitude  pickup_latitude  dropoff_latitude  \\\n",
       "interval                                                                   \n",
       "2009-06-15 17:15:00            -73.84            40.72         40.712278   \n",
       "2009-08-03 23:00:00            -73.99            40.76         40.768142   \n",
       "2011-07-11 13:00:00            -73.99            40.75         40.718000   \n",
       "2012-12-17 22:45:00            -73.98            40.77         40.677382   \n",
       "2011-02-28 22:00:00            -74.00            40.73         40.721325   \n",
       "\n",
       "                     dropoff_latitude  \n",
       "interval                               \n",
       "2009-06-15 17:15:00         40.712278  \n",
       "2009-08-03 23:00:00         40.768142  \n",
       "2011-07-11 13:00:00         40.718000  \n",
       "2012-12-17 22:45:00         40.677382  \n",
       "2011-02-28 22:00:00         40.721325  "
      ]
     },
     "execution_count": 237,
     "metadata": {},
     "output_type": "execute_result"
    }
   ],
   "source": [
    "df.head()"
   ]
  },
  {
   "cell_type": "code",
   "execution_count": 238,
   "metadata": {},
   "outputs": [],
   "source": [
    "train_size = int(len(df) * 0.80)\n",
    "train, test = df[0:train_size], df[train_size:len(df)]"
   ]
  },
  {
   "cell_type": "code",
   "execution_count": 239,
   "metadata": {},
   "outputs": [
    {
     "data": {
      "text/html": [
       "<div>\n",
       "<style scoped>\n",
       "    .dataframe tbody tr th:only-of-type {\n",
       "        vertical-align: middle;\n",
       "    }\n",
       "\n",
       "    .dataframe tbody tr th {\n",
       "        vertical-align: top;\n",
       "    }\n",
       "\n",
       "    .dataframe thead th {\n",
       "        text-align: right;\n",
       "    }\n",
       "</style>\n",
       "<table border=\"1\" class=\"dataframe\">\n",
       "  <thead>\n",
       "    <tr style=\"text-align: right;\">\n",
       "      <th></th>\n",
       "      <th>interval</th>\n",
       "      <th>fare_amount</th>\n",
       "      <th>distance</th>\n",
       "      <th>pickup_longitude</th>\n",
       "      <th>pickup_latitude</th>\n",
       "      <th>dropoff_latitude</th>\n",
       "      <th>dropoff_latitude</th>\n",
       "    </tr>\n",
       "    <tr>\n",
       "      <th>interval</th>\n",
       "      <th></th>\n",
       "      <th></th>\n",
       "      <th></th>\n",
       "      <th></th>\n",
       "      <th></th>\n",
       "      <th></th>\n",
       "      <th></th>\n",
       "    </tr>\n",
       "  </thead>\n",
       "  <tbody>\n",
       "    <tr>\n",
       "      <th>2009-06-15 17:15:00</th>\n",
       "      <td>2009-06-15 17:15:00</td>\n",
       "      <td>4.5</td>\n",
       "      <td>0.994348</td>\n",
       "      <td>-73.84</td>\n",
       "      <td>40.72</td>\n",
       "      <td>40.712278</td>\n",
       "      <td>40.712278</td>\n",
       "    </tr>\n",
       "    <tr>\n",
       "      <th>2009-08-03 23:00:00</th>\n",
       "      <td>2009-08-03 23:00:00</td>\n",
       "      <td>4.5</td>\n",
       "      <td>1.333581</td>\n",
       "      <td>-73.99</td>\n",
       "      <td>40.76</td>\n",
       "      <td>40.768142</td>\n",
       "      <td>40.768142</td>\n",
       "    </tr>\n",
       "    <tr>\n",
       "      <th>2011-07-11 13:00:00</th>\n",
       "      <td>2011-07-11 13:00:00</td>\n",
       "      <td>10.9</td>\n",
       "      <td>5.648338</td>\n",
       "      <td>-73.99</td>\n",
       "      <td>40.75</td>\n",
       "      <td>40.718000</td>\n",
       "      <td>40.718000</td>\n",
       "    </tr>\n",
       "    <tr>\n",
       "      <th>2012-12-17 22:45:00</th>\n",
       "      <td>2012-12-17 22:45:00</td>\n",
       "      <td>29.0</td>\n",
       "      <td>11.774684</td>\n",
       "      <td>-73.98</td>\n",
       "      <td>40.77</td>\n",
       "      <td>40.677382</td>\n",
       "      <td>40.677382</td>\n",
       "    </tr>\n",
       "    <tr>\n",
       "      <th>2011-02-28 22:00:00</th>\n",
       "      <td>2011-02-28 22:00:00</td>\n",
       "      <td>6.1</td>\n",
       "      <td>2.811899</td>\n",
       "      <td>-74.00</td>\n",
       "      <td>40.73</td>\n",
       "      <td>40.721325</td>\n",
       "      <td>40.721325</td>\n",
       "    </tr>\n",
       "  </tbody>\n",
       "</table>\n",
       "</div>"
      ],
      "text/plain": [
       "                               interval  fare_amount   distance  \\\n",
       "interval                                                          \n",
       "2009-06-15 17:15:00 2009-06-15 17:15:00          4.5   0.994348   \n",
       "2009-08-03 23:00:00 2009-08-03 23:00:00          4.5   1.333581   \n",
       "2011-07-11 13:00:00 2011-07-11 13:00:00         10.9   5.648338   \n",
       "2012-12-17 22:45:00 2012-12-17 22:45:00         29.0  11.774684   \n",
       "2011-02-28 22:00:00 2011-02-28 22:00:00          6.1   2.811899   \n",
       "\n",
       "                     pickup_longitude  pickup_latitude  dropoff_latitude  \\\n",
       "interval                                                                   \n",
       "2009-06-15 17:15:00            -73.84            40.72         40.712278   \n",
       "2009-08-03 23:00:00            -73.99            40.76         40.768142   \n",
       "2011-07-11 13:00:00            -73.99            40.75         40.718000   \n",
       "2012-12-17 22:45:00            -73.98            40.77         40.677382   \n",
       "2011-02-28 22:00:00            -74.00            40.73         40.721325   \n",
       "\n",
       "                     dropoff_latitude  \n",
       "interval                               \n",
       "2009-06-15 17:15:00         40.712278  \n",
       "2009-08-03 23:00:00         40.768142  \n",
       "2011-07-11 13:00:00         40.718000  \n",
       "2012-12-17 22:45:00         40.677382  \n",
       "2011-02-28 22:00:00         40.721325  "
      ]
     },
     "execution_count": 239,
     "metadata": {},
     "output_type": "execute_result"
    }
   ],
   "source": [
    "train.head()"
   ]
  },
  {
   "cell_type": "code",
   "execution_count": 240,
   "metadata": {},
   "outputs": [
    {
     "data": {
      "text/html": [
       "<div>\n",
       "<style scoped>\n",
       "    .dataframe tbody tr th:only-of-type {\n",
       "        vertical-align: middle;\n",
       "    }\n",
       "\n",
       "    .dataframe tbody tr th {\n",
       "        vertical-align: top;\n",
       "    }\n",
       "\n",
       "    .dataframe thead th {\n",
       "        text-align: right;\n",
       "    }\n",
       "</style>\n",
       "<table border=\"1\" class=\"dataframe\">\n",
       "  <thead>\n",
       "    <tr style=\"text-align: right;\">\n",
       "      <th></th>\n",
       "      <th>interval</th>\n",
       "      <th>fare_amount</th>\n",
       "      <th>distance</th>\n",
       "      <th>pickup_longitude</th>\n",
       "      <th>pickup_latitude</th>\n",
       "      <th>dropoff_latitude</th>\n",
       "      <th>dropoff_latitude</th>\n",
       "    </tr>\n",
       "    <tr>\n",
       "      <th>interval</th>\n",
       "      <th></th>\n",
       "      <th></th>\n",
       "      <th></th>\n",
       "      <th></th>\n",
       "      <th></th>\n",
       "      <th></th>\n",
       "      <th></th>\n",
       "    </tr>\n",
       "  </thead>\n",
       "  <tbody>\n",
       "    <tr>\n",
       "      <th>2011-05-07 17:00:00</th>\n",
       "      <td>2011-05-07 17:00:00</td>\n",
       "      <td>11.3</td>\n",
       "      <td>4.118125</td>\n",
       "      <td>-73.99</td>\n",
       "      <td>40.76</td>\n",
       "      <td>40.724836</td>\n",
       "      <td>40.724836</td>\n",
       "    </tr>\n",
       "    <tr>\n",
       "      <th>2010-01-09 13:15:00</th>\n",
       "      <td>2010-01-09 13:15:00</td>\n",
       "      <td>4.9</td>\n",
       "      <td>1.463854</td>\n",
       "      <td>-73.96</td>\n",
       "      <td>40.77</td>\n",
       "      <td>40.772723</td>\n",
       "      <td>40.772723</td>\n",
       "    </tr>\n",
       "    <tr>\n",
       "      <th>2013-10-05 16:15:00</th>\n",
       "      <td>2013-10-05 16:15:00</td>\n",
       "      <td>11.0</td>\n",
       "      <td>3.075642</td>\n",
       "      <td>-73.99</td>\n",
       "      <td>40.73</td>\n",
       "      <td>40.747496</td>\n",
       "      <td>40.747496</td>\n",
       "    </tr>\n",
       "    <tr>\n",
       "      <th>2014-09-27 01:30:00</th>\n",
       "      <td>2014-09-27 01:30:00</td>\n",
       "      <td>22.0</td>\n",
       "      <td>8.466655</td>\n",
       "      <td>-73.99</td>\n",
       "      <td>40.73</td>\n",
       "      <td>40.754887</td>\n",
       "      <td>40.754887</td>\n",
       "    </tr>\n",
       "    <tr>\n",
       "      <th>2015-02-21 18:30:00</th>\n",
       "      <td>2015-02-21 18:30:00</td>\n",
       "      <td>9.0</td>\n",
       "      <td>1.722331</td>\n",
       "      <td>-73.99</td>\n",
       "      <td>40.73</td>\n",
       "      <td>40.725651</td>\n",
       "      <td>40.725651</td>\n",
       "    </tr>\n",
       "  </tbody>\n",
       "</table>\n",
       "</div>"
      ],
      "text/plain": [
       "                               interval  fare_amount  distance  \\\n",
       "interval                                                         \n",
       "2011-05-07 17:00:00 2011-05-07 17:00:00         11.3  4.118125   \n",
       "2010-01-09 13:15:00 2010-01-09 13:15:00          4.9  1.463854   \n",
       "2013-10-05 16:15:00 2013-10-05 16:15:00         11.0  3.075642   \n",
       "2014-09-27 01:30:00 2014-09-27 01:30:00         22.0  8.466655   \n",
       "2015-02-21 18:30:00 2015-02-21 18:30:00          9.0  1.722331   \n",
       "\n",
       "                     pickup_longitude  pickup_latitude  dropoff_latitude  \\\n",
       "interval                                                                   \n",
       "2011-05-07 17:00:00            -73.99            40.76         40.724836   \n",
       "2010-01-09 13:15:00            -73.96            40.77         40.772723   \n",
       "2013-10-05 16:15:00            -73.99            40.73         40.747496   \n",
       "2014-09-27 01:30:00            -73.99            40.73         40.754887   \n",
       "2015-02-21 18:30:00            -73.99            40.73         40.725651   \n",
       "\n",
       "                     dropoff_latitude  \n",
       "interval                               \n",
       "2011-05-07 17:00:00         40.724836  \n",
       "2010-01-09 13:15:00         40.772723  \n",
       "2013-10-05 16:15:00         40.747496  \n",
       "2014-09-27 01:30:00         40.754887  \n",
       "2015-02-21 18:30:00         40.725651  "
      ]
     },
     "execution_count": 240,
     "metadata": {},
     "output_type": "execute_result"
    }
   ],
   "source": [
    "train.tail()"
   ]
  },
  {
   "cell_type": "code",
   "execution_count": 241,
   "metadata": {},
   "outputs": [
    {
     "data": {
      "text/html": [
       "<div>\n",
       "<style scoped>\n",
       "    .dataframe tbody tr th:only-of-type {\n",
       "        vertical-align: middle;\n",
       "    }\n",
       "\n",
       "    .dataframe tbody tr th {\n",
       "        vertical-align: top;\n",
       "    }\n",
       "\n",
       "    .dataframe thead th {\n",
       "        text-align: right;\n",
       "    }\n",
       "</style>\n",
       "<table border=\"1\" class=\"dataframe\">\n",
       "  <thead>\n",
       "    <tr style=\"text-align: right;\">\n",
       "      <th></th>\n",
       "      <th>interval</th>\n",
       "      <th>fare_amount</th>\n",
       "      <th>distance</th>\n",
       "      <th>pickup_longitude</th>\n",
       "      <th>pickup_latitude</th>\n",
       "      <th>dropoff_latitude</th>\n",
       "      <th>dropoff_latitude</th>\n",
       "    </tr>\n",
       "    <tr>\n",
       "      <th>interval</th>\n",
       "      <th></th>\n",
       "      <th></th>\n",
       "      <th></th>\n",
       "      <th></th>\n",
       "      <th></th>\n",
       "      <th></th>\n",
       "      <th></th>\n",
       "    </tr>\n",
       "  </thead>\n",
       "  <tbody>\n",
       "    <tr>\n",
       "      <th>2012-06-24 15:45:00</th>\n",
       "      <td>2012-06-24 15:45:00</td>\n",
       "      <td>14.9</td>\n",
       "      <td>4.114250</td>\n",
       "      <td>-74.01</td>\n",
       "      <td>40.73</td>\n",
       "      <td>40.750437</td>\n",
       "      <td>40.750437</td>\n",
       "    </tr>\n",
       "    <tr>\n",
       "      <th>2012-09-30 04:00:00</th>\n",
       "      <td>2012-09-30 04:00:00</td>\n",
       "      <td>11.5</td>\n",
       "      <td>4.432105</td>\n",
       "      <td>-73.97</td>\n",
       "      <td>40.76</td>\n",
       "      <td>40.744792</td>\n",
       "      <td>40.744792</td>\n",
       "    </tr>\n",
       "    <tr>\n",
       "      <th>2012-10-07 12:30:00</th>\n",
       "      <td>2012-10-07 12:30:00</td>\n",
       "      <td>24.0</td>\n",
       "      <td>7.178145</td>\n",
       "      <td>-73.78</td>\n",
       "      <td>40.65</td>\n",
       "      <td>40.709547</td>\n",
       "      <td>40.709547</td>\n",
       "    </tr>\n",
       "    <tr>\n",
       "      <th>2011-04-17 20:30:00</th>\n",
       "      <td>2011-04-17 20:30:00</td>\n",
       "      <td>4.9</td>\n",
       "      <td>1.260764</td>\n",
       "      <td>-73.99</td>\n",
       "      <td>40.73</td>\n",
       "      <td>40.734530</td>\n",
       "      <td>40.734530</td>\n",
       "    </tr>\n",
       "    <tr>\n",
       "      <th>2015-05-10 13:00:00</th>\n",
       "      <td>2015-05-10 13:00:00</td>\n",
       "      <td>7.5</td>\n",
       "      <td>1.695467</td>\n",
       "      <td>-73.95</td>\n",
       "      <td>40.77</td>\n",
       "      <td>40.772377</td>\n",
       "      <td>40.772377</td>\n",
       "    </tr>\n",
       "  </tbody>\n",
       "</table>\n",
       "</div>"
      ],
      "text/plain": [
       "                               interval  fare_amount  distance  \\\n",
       "interval                                                         \n",
       "2012-06-24 15:45:00 2012-06-24 15:45:00         14.9  4.114250   \n",
       "2012-09-30 04:00:00 2012-09-30 04:00:00         11.5  4.432105   \n",
       "2012-10-07 12:30:00 2012-10-07 12:30:00         24.0  7.178145   \n",
       "2011-04-17 20:30:00 2011-04-17 20:30:00          4.9  1.260764   \n",
       "2015-05-10 13:00:00 2015-05-10 13:00:00          7.5  1.695467   \n",
       "\n",
       "                     pickup_longitude  pickup_latitude  dropoff_latitude  \\\n",
       "interval                                                                   \n",
       "2012-06-24 15:45:00            -74.01            40.73         40.750437   \n",
       "2012-09-30 04:00:00            -73.97            40.76         40.744792   \n",
       "2012-10-07 12:30:00            -73.78            40.65         40.709547   \n",
       "2011-04-17 20:30:00            -73.99            40.73         40.734530   \n",
       "2015-05-10 13:00:00            -73.95            40.77         40.772377   \n",
       "\n",
       "                     dropoff_latitude  \n",
       "interval                               \n",
       "2012-06-24 15:45:00         40.750437  \n",
       "2012-09-30 04:00:00         40.744792  \n",
       "2012-10-07 12:30:00         40.709547  \n",
       "2011-04-17 20:30:00         40.734530  \n",
       "2015-05-10 13:00:00         40.772377  "
      ]
     },
     "execution_count": 241,
     "metadata": {},
     "output_type": "execute_result"
    }
   ],
   "source": [
    "test.tail()"
   ]
  },
  {
   "cell_type": "code",
   "execution_count": 242,
   "metadata": {},
   "outputs": [
    {
     "data": {
      "text/plain": [
       "<matplotlib.axes._subplots.AxesSubplot at 0xa58ddcf8>"
      ]
     },
     "execution_count": 242,
     "metadata": {},
     "output_type": "execute_result"
    },
    {
     "data": {
      "image/png": "[encoded data removed]",
      "text/plain": [
       "<Figure size 1080x576 with 1 Axes>"
      ]
     },
     "metadata": {
      "needs_background": "light"
     },
     "output_type": "display_data"
    }
   ],
   "source": [
    "df.fare_amount.plot(figsize=(15,8), title= 'Daily Ridership', fontsize=14)"
   ]
  },
  {
   "cell_type": "code",
   "execution_count": 243,
   "metadata": {},
   "outputs": [
    {
     "data": {
      "text/html": [
       "<div>\n",
       "<style scoped>\n",
       "    .dataframe tbody tr th:only-of-type {\n",
       "        vertical-align: middle;\n",
       "    }\n",
       "\n",
       "    .dataframe tbody tr th {\n",
       "        vertical-align: top;\n",
       "    }\n",
       "\n",
       "    .dataframe thead th {\n",
       "        text-align: right;\n",
       "    }\n",
       "</style>\n",
       "<table border=\"1\" class=\"dataframe\">\n",
       "  <thead>\n",
       "    <tr style=\"text-align: right;\">\n",
       "      <th></th>\n",
       "      <th>interval</th>\n",
       "      <th>fare_amount</th>\n",
       "      <th>distance</th>\n",
       "      <th>pickup_longitude</th>\n",
       "      <th>pickup_latitude</th>\n",
       "      <th>dropoff_latitude</th>\n",
       "      <th>dropoff_latitude</th>\n",
       "    </tr>\n",
       "    <tr>\n",
       "      <th>interval</th>\n",
       "      <th></th>\n",
       "      <th></th>\n",
       "      <th></th>\n",
       "      <th></th>\n",
       "      <th></th>\n",
       "      <th></th>\n",
       "      <th></th>\n",
       "    </tr>\n",
       "  </thead>\n",
       "  <tbody>\n",
       "    <tr>\n",
       "      <th>2012-06-24 15:45:00</th>\n",
       "      <td>2012-06-24 15:45:00</td>\n",
       "      <td>14.9</td>\n",
       "      <td>4.114250</td>\n",
       "      <td>-74.01</td>\n",
       "      <td>40.73</td>\n",
       "      <td>40.750437</td>\n",
       "      <td>40.750437</td>\n",
       "    </tr>\n",
       "    <tr>\n",
       "      <th>2012-09-30 04:00:00</th>\n",
       "      <td>2012-09-30 04:00:00</td>\n",
       "      <td>11.5</td>\n",
       "      <td>4.432105</td>\n",
       "      <td>-73.97</td>\n",
       "      <td>40.76</td>\n",
       "      <td>40.744792</td>\n",
       "      <td>40.744792</td>\n",
       "    </tr>\n",
       "    <tr>\n",
       "      <th>2012-10-07 12:30:00</th>\n",
       "      <td>2012-10-07 12:30:00</td>\n",
       "      <td>24.0</td>\n",
       "      <td>7.178145</td>\n",
       "      <td>-73.78</td>\n",
       "      <td>40.65</td>\n",
       "      <td>40.709547</td>\n",
       "      <td>40.709547</td>\n",
       "    </tr>\n",
       "    <tr>\n",
       "      <th>2011-04-17 20:30:00</th>\n",
       "      <td>2011-04-17 20:30:00</td>\n",
       "      <td>4.9</td>\n",
       "      <td>1.260764</td>\n",
       "      <td>-73.99</td>\n",
       "      <td>40.73</td>\n",
       "      <td>40.734530</td>\n",
       "      <td>40.734530</td>\n",
       "    </tr>\n",
       "    <tr>\n",
       "      <th>2015-05-10 13:00:00</th>\n",
       "      <td>2015-05-10 13:00:00</td>\n",
       "      <td>7.5</td>\n",
       "      <td>1.695467</td>\n",
       "      <td>-73.95</td>\n",
       "      <td>40.77</td>\n",
       "      <td>40.772377</td>\n",
       "      <td>40.772377</td>\n",
       "    </tr>\n",
       "  </tbody>\n",
       "</table>\n",
       "</div>"
      ],
      "text/plain": [
       "                               interval  fare_amount  distance  \\\n",
       "interval                                                         \n",
       "2012-06-24 15:45:00 2012-06-24 15:45:00         14.9  4.114250   \n",
       "2012-09-30 04:00:00 2012-09-30 04:00:00         11.5  4.432105   \n",
       "2012-10-07 12:30:00 2012-10-07 12:30:00         24.0  7.178145   \n",
       "2011-04-17 20:30:00 2011-04-17 20:30:00          4.9  1.260764   \n",
       "2015-05-10 13:00:00 2015-05-10 13:00:00          7.5  1.695467   \n",
       "\n",
       "                     pickup_longitude  pickup_latitude  dropoff_latitude  \\\n",
       "interval                                                                   \n",
       "2012-06-24 15:45:00            -74.01            40.73         40.750437   \n",
       "2012-09-30 04:00:00            -73.97            40.76         40.744792   \n",
       "2012-10-07 12:30:00            -73.78            40.65         40.709547   \n",
       "2011-04-17 20:30:00            -73.99            40.73         40.734530   \n",
       "2015-05-10 13:00:00            -73.95            40.77         40.772377   \n",
       "\n",
       "                     dropoff_latitude  \n",
       "interval                               \n",
       "2012-06-24 15:45:00         40.750437  \n",
       "2012-09-30 04:00:00         40.744792  \n",
       "2012-10-07 12:30:00         40.709547  \n",
       "2011-04-17 20:30:00         40.734530  \n",
       "2015-05-10 13:00:00         40.772377  "
      ]
     },
     "execution_count": 243,
     "metadata": {},
     "output_type": "execute_result"
    }
   ],
   "source": [
    "test.tail()"
   ]
  },
  {
   "cell_type": "code",
   "execution_count": 244,
   "metadata": {},
   "outputs": [
    {
     "data": {
      "text/plain": [
       "<matplotlib.axes._subplots.AxesSubplot at 0xc46d6240>"
      ]
     },
     "execution_count": 244,
     "metadata": {},
     "output_type": "execute_result"
    },
    {
     "data": {
      "image/png": "[encoded data removed]",
      "text/plain": [
       "<Figure size 1080x576 with 1 Axes>"
      ]
     },
     "metadata": {
      "needs_background": "light"
     },
     "output_type": "display_data"
    }
   ],
   "source": [
    "train.fare_amount.plot(figsize=(15,8), title= 'Daily Ridership', fontsize=14)"
   ]
  },
  {
   "cell_type": "code",
   "execution_count": 245,
   "metadata": {},
   "outputs": [
    {
     "data": {
      "text/plain": [
       "<matplotlib.axes._subplots.AxesSubplot at 0xa58a7978>"
      ]
     },
     "execution_count": 245,
     "metadata": {},
     "output_type": "execute_result"
    },
    {
     "data": {
      "image/png": "[encoded data removed]",
      "text/plain": [
       "<Figure size 1080x576 with 1 Axes>"
      ]
     },
     "metadata": {
      "needs_background": "light"
     },
     "output_type": "display_data"
    }
   ],
   "source": [
    "test.fare_amount.plot(figsize=(15,8), title= 'Daily Ridership', fontsize=14)"
   ]
  },
  {
   "cell_type": "code",
   "execution_count": 246,
   "metadata": {},
   "outputs": [
    {
     "data": {
      "text/html": [
       "<div>\n",
       "<style scoped>\n",
       "    .dataframe tbody tr th:only-of-type {\n",
       "        vertical-align: middle;\n",
       "    }\n",
       "\n",
       "    .dataframe tbody tr th {\n",
       "        vertical-align: top;\n",
       "    }\n",
       "\n",
       "    .dataframe thead th {\n",
       "        text-align: right;\n",
       "    }\n",
       "</style>\n",
       "<table border=\"1\" class=\"dataframe\">\n",
       "  <thead>\n",
       "    <tr style=\"text-align: right;\">\n",
       "      <th></th>\n",
       "      <th>interval</th>\n",
       "      <th>fare_amount</th>\n",
       "      <th>distance</th>\n",
       "      <th>pickup_longitude</th>\n",
       "      <th>pickup_latitude</th>\n",
       "      <th>dropoff_latitude</th>\n",
       "      <th>dropoff_latitude</th>\n",
       "    </tr>\n",
       "    <tr>\n",
       "      <th>interval</th>\n",
       "      <th></th>\n",
       "      <th></th>\n",
       "      <th></th>\n",
       "      <th></th>\n",
       "      <th></th>\n",
       "      <th></th>\n",
       "      <th></th>\n",
       "    </tr>\n",
       "  </thead>\n",
       "  <tbody>\n",
       "    <tr>\n",
       "      <th>2009-06-15 17:15:00</th>\n",
       "      <td>2009-06-15 17:15:00</td>\n",
       "      <td>4.5</td>\n",
       "      <td>0.994348</td>\n",
       "      <td>-73.84</td>\n",
       "      <td>40.72</td>\n",
       "      <td>40.712278</td>\n",
       "      <td>40.712278</td>\n",
       "    </tr>\n",
       "    <tr>\n",
       "      <th>2009-08-03 23:00:00</th>\n",
       "      <td>2009-08-03 23:00:00</td>\n",
       "      <td>4.5</td>\n",
       "      <td>1.333581</td>\n",
       "      <td>-73.99</td>\n",
       "      <td>40.76</td>\n",
       "      <td>40.768142</td>\n",
       "      <td>40.768142</td>\n",
       "    </tr>\n",
       "    <tr>\n",
       "      <th>2011-07-11 13:00:00</th>\n",
       "      <td>2011-07-11 13:00:00</td>\n",
       "      <td>10.9</td>\n",
       "      <td>5.648338</td>\n",
       "      <td>-73.99</td>\n",
       "      <td>40.75</td>\n",
       "      <td>40.718000</td>\n",
       "      <td>40.718000</td>\n",
       "    </tr>\n",
       "    <tr>\n",
       "      <th>2012-12-17 22:45:00</th>\n",
       "      <td>2012-12-17 22:45:00</td>\n",
       "      <td>29.0</td>\n",
       "      <td>11.774684</td>\n",
       "      <td>-73.98</td>\n",
       "      <td>40.77</td>\n",
       "      <td>40.677382</td>\n",
       "      <td>40.677382</td>\n",
       "    </tr>\n",
       "    <tr>\n",
       "      <th>2011-02-28 22:00:00</th>\n",
       "      <td>2011-02-28 22:00:00</td>\n",
       "      <td>6.1</td>\n",
       "      <td>2.811899</td>\n",
       "      <td>-74.00</td>\n",
       "      <td>40.73</td>\n",
       "      <td>40.721325</td>\n",
       "      <td>40.721325</td>\n",
       "    </tr>\n",
       "  </tbody>\n",
       "</table>\n",
       "</div>"
      ],
      "text/plain": [
       "                               interval  fare_amount   distance  \\\n",
       "interval                                                          \n",
       "2009-06-15 17:15:00 2009-06-15 17:15:00          4.5   0.994348   \n",
       "2009-08-03 23:00:00 2009-08-03 23:00:00          4.5   1.333581   \n",
       "2011-07-11 13:00:00 2011-07-11 13:00:00         10.9   5.648338   \n",
       "2012-12-17 22:45:00 2012-12-17 22:45:00         29.0  11.774684   \n",
       "2011-02-28 22:00:00 2011-02-28 22:00:00          6.1   2.811899   \n",
       "\n",
       "                     pickup_longitude  pickup_latitude  dropoff_latitude  \\\n",
       "interval                                                                   \n",
       "2009-06-15 17:15:00            -73.84            40.72         40.712278   \n",
       "2009-08-03 23:00:00            -73.99            40.76         40.768142   \n",
       "2011-07-11 13:00:00            -73.99            40.75         40.718000   \n",
       "2012-12-17 22:45:00            -73.98            40.77         40.677382   \n",
       "2011-02-28 22:00:00            -74.00            40.73         40.721325   \n",
       "\n",
       "                     dropoff_latitude  \n",
       "interval                               \n",
       "2009-06-15 17:15:00         40.712278  \n",
       "2009-08-03 23:00:00         40.768142  \n",
       "2011-07-11 13:00:00         40.718000  \n",
       "2012-12-17 22:45:00         40.677382  \n",
       "2011-02-28 22:00:00         40.721325  "
      ]
     },
     "execution_count": 246,
     "metadata": {},
     "output_type": "execute_result"
    }
   ],
   "source": [
    "df.head()"
   ]
  },
  {
   "cell_type": "code",
   "execution_count": 247,
   "metadata": {},
   "outputs": [],
   "source": [
    "from sklearn.linear_model import LinearRegression"
   ]
  },
  {
   "cell_type": "code",
   "execution_count": 248,
   "metadata": {},
   "outputs": [],
   "source": [
    "x_train = train.drop(['fare_amount','interval'], axis=1)\n",
    "x_test = test.drop(['fare_amount','interval'], axis=1)\n",
    "y_train = train[['fare_amount']]\n",
    "y_test = test[['fare_amount']]"
   ]
  },
  {
   "cell_type": "code",
   "execution_count": 249,
   "metadata": {},
   "outputs": [],
   "source": [
    "y_train= y_train.apply(np.int64)"
   ]
  },
  {
   "cell_type": "code",
   "execution_count": 250,
   "metadata": {},
   "outputs": [],
   "source": [
    "y_test= y_test.apply(np.int64)"
   ]
  },
  {
   "cell_type": "code",
   "execution_count": 251,
   "metadata": {},
   "outputs": [],
   "source": [
    "from statsmodels.tsa.vector_ar.var_model import VAR\n"
   ]
  },
  {
   "cell_type": "code",
   "execution_count": 252,
   "metadata": {},
   "outputs": [
    {
     "data": {
      "text/html": [
       "<div>\n",
       "<style scoped>\n",
       "    .dataframe tbody tr th:only-of-type {\n",
       "        vertical-align: middle;\n",
       "    }\n",
       "\n",
       "    .dataframe tbody tr th {\n",
       "        vertical-align: top;\n",
       "    }\n",
       "\n",
       "    .dataframe thead th {\n",
       "        text-align: right;\n",
       "    }\n",
       "</style>\n",
       "<table border=\"1\" class=\"dataframe\">\n",
       "  <thead>\n",
       "    <tr style=\"text-align: right;\">\n",
       "      <th></th>\n",
       "      <th>distance</th>\n",
       "      <th>pickup_longitude</th>\n",
       "      <th>pickup_latitude</th>\n",
       "      <th>dropoff_latitude</th>\n",
       "      <th>dropoff_latitude</th>\n",
       "    </tr>\n",
       "    <tr>\n",
       "      <th>interval</th>\n",
       "      <th></th>\n",
       "      <th></th>\n",
       "      <th></th>\n",
       "      <th></th>\n",
       "      <th></th>\n",
       "    </tr>\n",
       "  </thead>\n",
       "  <tbody>\n",
       "    <tr>\n",
       "      <th>2009-06-15 17:15:00</th>\n",
       "      <td>0.994348</td>\n",
       "      <td>-73.84</td>\n",
       "      <td>40.72</td>\n",
       "      <td>40.712278</td>\n",
       "      <td>40.712278</td>\n",
       "    </tr>\n",
       "    <tr>\n",
       "      <th>2009-08-03 23:00:00</th>\n",
       "      <td>1.333581</td>\n",
       "      <td>-73.99</td>\n",
       "      <td>40.76</td>\n",
       "      <td>40.768142</td>\n",
       "      <td>40.768142</td>\n",
       "    </tr>\n",
       "    <tr>\n",
       "      <th>2011-07-11 13:00:00</th>\n",
       "      <td>5.648338</td>\n",
       "      <td>-73.99</td>\n",
       "      <td>40.75</td>\n",
       "      <td>40.718000</td>\n",
       "      <td>40.718000</td>\n",
       "    </tr>\n",
       "    <tr>\n",
       "      <th>2012-12-17 22:45:00</th>\n",
       "      <td>11.774684</td>\n",
       "      <td>-73.98</td>\n",
       "      <td>40.77</td>\n",
       "      <td>40.677382</td>\n",
       "      <td>40.677382</td>\n",
       "    </tr>\n",
       "    <tr>\n",
       "      <th>2011-02-28 22:00:00</th>\n",
       "      <td>2.811899</td>\n",
       "      <td>-74.00</td>\n",
       "      <td>40.73</td>\n",
       "      <td>40.721325</td>\n",
       "      <td>40.721325</td>\n",
       "    </tr>\n",
       "  </tbody>\n",
       "</table>\n",
       "</div>"
      ],
      "text/plain": [
       "                      distance  pickup_longitude  pickup_latitude  \\\n",
       "interval                                                            \n",
       "2009-06-15 17:15:00   0.994348            -73.84            40.72   \n",
       "2009-08-03 23:00:00   1.333581            -73.99            40.76   \n",
       "2011-07-11 13:00:00   5.648338            -73.99            40.75   \n",
       "2012-12-17 22:45:00  11.774684            -73.98            40.77   \n",
       "2011-02-28 22:00:00   2.811899            -74.00            40.73   \n",
       "\n",
       "                     dropoff_latitude  dropoff_latitude  \n",
       "interval                                                 \n",
       "2009-06-15 17:15:00         40.712278         40.712278  \n",
       "2009-08-03 23:00:00         40.768142         40.768142  \n",
       "2011-07-11 13:00:00         40.718000         40.718000  \n",
       "2012-12-17 22:45:00         40.677382         40.677382  \n",
       "2011-02-28 22:00:00         40.721325         40.721325  "
      ]
     },
     "execution_count": 252,
     "metadata": {},
     "output_type": "execute_result"
    }
   ],
   "source": [
    "x_train.head()"
   ]
  },
  {
   "cell_type": "code",
   "execution_count": 253,
   "metadata": {},
   "outputs": [
    {
     "data": {
      "text/plain": [
       "distance            float64\n",
       "pickup_longitude    float64\n",
       "pickup_latitude     float64\n",
       "dropoff_latitude    float64\n",
       "dropoff_latitude    float64\n",
       "dtype: object"
      ]
     },
     "execution_count": 253,
     "metadata": {},
     "output_type": "execute_result"
    }
   ],
   "source": [
    "x_train.dtypes"
   ]
  },
  {
   "cell_type": "code",
   "execution_count": 254,
   "metadata": {},
   "outputs": [
    {
     "data": {
      "text/html": [
       "<div>\n",
       "<style scoped>\n",
       "    .dataframe tbody tr th:only-of-type {\n",
       "        vertical-align: middle;\n",
       "    }\n",
       "\n",
       "    .dataframe tbody tr th {\n",
       "        vertical-align: top;\n",
       "    }\n",
       "\n",
       "    .dataframe thead th {\n",
       "        text-align: right;\n",
       "    }\n",
       "</style>\n",
       "<table border=\"1\" class=\"dataframe\">\n",
       "  <thead>\n",
       "    <tr style=\"text-align: right;\">\n",
       "      <th></th>\n",
       "      <th>distance</th>\n",
       "      <th>pickup_longitude</th>\n",
       "      <th>pickup_latitude</th>\n",
       "      <th>dropoff_latitude</th>\n",
       "      <th>dropoff_latitude</th>\n",
       "    </tr>\n",
       "  </thead>\n",
       "  <tbody>\n",
       "    <tr>\n",
       "      <th>count</th>\n",
       "      <td>798157.000000</td>\n",
       "      <td>798157.000000</td>\n",
       "      <td>798157.000000</td>\n",
       "      <td>798157.000000</td>\n",
       "      <td>798157.000000</td>\n",
       "    </tr>\n",
       "    <tr>\n",
       "      <th>mean</th>\n",
       "      <td>4.169488</td>\n",
       "      <td>-72.590643</td>\n",
       "      <td>39.964698</td>\n",
       "      <td>39.964592</td>\n",
       "      <td>39.964592</td>\n",
       "    </tr>\n",
       "    <tr>\n",
       "      <th>std</th>\n",
       "      <td>4.701105</td>\n",
       "      <td>10.137820</td>\n",
       "      <td>5.977154</td>\n",
       "      <td>5.963513</td>\n",
       "      <td>5.963513</td>\n",
       "    </tr>\n",
       "    <tr>\n",
       "      <th>min</th>\n",
       "      <td>0.000000</td>\n",
       "      <td>-121.390000</td>\n",
       "      <td>-74.020000</td>\n",
       "      <td>-74.035197</td>\n",
       "      <td>-74.035197</td>\n",
       "    </tr>\n",
       "    <tr>\n",
       "      <th>25%</th>\n",
       "      <td>1.554230</td>\n",
       "      <td>-73.990000</td>\n",
       "      <td>40.740000</td>\n",
       "      <td>40.734932</td>\n",
       "      <td>40.734932</td>\n",
       "    </tr>\n",
       "    <tr>\n",
       "      <th>50%</th>\n",
       "      <td>2.709729</td>\n",
       "      <td>-73.980000</td>\n",
       "      <td>40.750000</td>\n",
       "      <td>40.753753</td>\n",
       "      <td>40.753753</td>\n",
       "    </tr>\n",
       "    <tr>\n",
       "      <th>75%</th>\n",
       "      <td>4.916724</td>\n",
       "      <td>-73.970000</td>\n",
       "      <td>40.770000</td>\n",
       "      <td>40.768153</td>\n",
       "      <td>40.768153</td>\n",
       "    </tr>\n",
       "    <tr>\n",
       "      <th>max</th>\n",
       "      <td>98.419500</td>\n",
       "      <td>40.850000</td>\n",
       "      <td>401.080000</td>\n",
       "      <td>47.890090</td>\n",
       "      <td>47.890090</td>\n",
       "    </tr>\n",
       "  </tbody>\n",
       "</table>\n",
       "</div>"
      ],
      "text/plain": [
       "            distance  pickup_longitude  pickup_latitude  dropoff_latitude  \\\n",
       "count  798157.000000     798157.000000    798157.000000     798157.000000   \n",
       "mean        4.169488        -72.590643        39.964698         39.964592   \n",
       "std         4.701105         10.137820         5.977154          5.963513   \n",
       "min         0.000000       -121.390000       -74.020000        -74.035197   \n",
       "25%         1.554230        -73.990000        40.740000         40.734932   \n",
       "50%         2.709729        -73.980000        40.750000         40.753753   \n",
       "75%         4.916724        -73.970000        40.770000         40.768153   \n",
       "max        98.419500         40.850000       401.080000         47.890090   \n",
       "\n",
       "       dropoff_latitude  \n",
       "count     798157.000000  \n",
       "mean          39.964592  \n",
       "std            5.963513  \n",
       "min          -74.035197  \n",
       "25%           40.734932  \n",
       "50%           40.753753  \n",
       "75%           40.768153  \n",
       "max           47.890090  "
      ]
     },
     "execution_count": 254,
     "metadata": {},
     "output_type": "execute_result"
    }
   ],
   "source": [
    "x_train.describe()"
   ]
  },
  {
   "cell_type": "code",
   "execution_count": 255,
   "metadata": {},
   "outputs": [
    {
     "data": {
      "text/html": [
       "<div>\n",
       "<style scoped>\n",
       "    .dataframe tbody tr th:only-of-type {\n",
       "        vertical-align: middle;\n",
       "    }\n",
       "\n",
       "    .dataframe tbody tr th {\n",
       "        vertical-align: top;\n",
       "    }\n",
       "\n",
       "    .dataframe thead th {\n",
       "        text-align: right;\n",
       "    }\n",
       "</style>\n",
       "<table border=\"1\" class=\"dataframe\">\n",
       "  <thead>\n",
       "    <tr style=\"text-align: right;\">\n",
       "      <th></th>\n",
       "      <th>interval</th>\n",
       "      <th>fare_amount</th>\n",
       "      <th>distance</th>\n",
       "      <th>pickup_longitude</th>\n",
       "      <th>pickup_latitude</th>\n",
       "      <th>dropoff_latitude</th>\n",
       "      <th>dropoff_latitude</th>\n",
       "    </tr>\n",
       "    <tr>\n",
       "      <th>interval</th>\n",
       "      <th></th>\n",
       "      <th></th>\n",
       "      <th></th>\n",
       "      <th></th>\n",
       "      <th></th>\n",
       "      <th></th>\n",
       "      <th></th>\n",
       "    </tr>\n",
       "  </thead>\n",
       "  <tbody>\n",
       "    <tr>\n",
       "      <th>2013-01-28 21:30:00</th>\n",
       "      <td>2013-01-28 21:30:00</td>\n",
       "      <td>210.00</td>\n",
       "      <td>0.741964</td>\n",
       "      <td>-74.41</td>\n",
       "      <td>40.85</td>\n",
       "      <td>40.854787</td>\n",
       "      <td>40.854787</td>\n",
       "    </tr>\n",
       "    <tr>\n",
       "      <th>2012-08-06 02:30:00</th>\n",
       "      <td>2012-08-06 02:30:00</td>\n",
       "      <td>225.00</td>\n",
       "      <td>0.452913</td>\n",
       "      <td>-73.54</td>\n",
       "      <td>41.05</td>\n",
       "      <td>41.047218</td>\n",
       "      <td>41.047218</td>\n",
       "    </tr>\n",
       "    <tr>\n",
       "      <th>2014-05-19 10:00:00</th>\n",
       "      <td>2014-05-19 10:00:00</td>\n",
       "      <td>263.25</td>\n",
       "      <td>0.366801</td>\n",
       "      <td>-74.41</td>\n",
       "      <td>40.48</td>\n",
       "      <td>40.479165</td>\n",
       "      <td>40.479165</td>\n",
       "    </tr>\n",
       "    <tr>\n",
       "      <th>2013-04-22 15:15:00</th>\n",
       "      <td>2013-04-22 15:15:00</td>\n",
       "      <td>203.50</td>\n",
       "      <td>64.897208</td>\n",
       "      <td>-73.87</td>\n",
       "      <td>40.77</td>\n",
       "      <td>40.787527</td>\n",
       "      <td>40.787527</td>\n",
       "    </tr>\n",
       "    <tr>\n",
       "      <th>2013-07-22 22:30:00</th>\n",
       "      <td>2013-07-22 22:30:00</td>\n",
       "      <td>220.00</td>\n",
       "      <td>0.377280</td>\n",
       "      <td>-73.49</td>\n",
       "      <td>41.06</td>\n",
       "      <td>41.059311</td>\n",
       "      <td>41.059311</td>\n",
       "    </tr>\n",
       "    <tr>\n",
       "      <th>2011-09-12 09:30:00</th>\n",
       "      <td>2011-09-12 09:30:00</td>\n",
       "      <td>500.00</td>\n",
       "      <td>0.406956</td>\n",
       "      <td>-73.97</td>\n",
       "      <td>40.64</td>\n",
       "      <td>40.640595</td>\n",
       "      <td>40.640595</td>\n",
       "    </tr>\n",
       "    <tr>\n",
       "      <th>2012-10-30 20:30:00</th>\n",
       "      <td>2012-10-30 20:30:00</td>\n",
       "      <td>255.00</td>\n",
       "      <td>0.261119</td>\n",
       "      <td>-73.92</td>\n",
       "      <td>40.74</td>\n",
       "      <td>40.741577</td>\n",
       "      <td>40.741577</td>\n",
       "    </tr>\n",
       "    <tr>\n",
       "      <th>2015-02-10 12:00:00</th>\n",
       "      <td>2015-02-10 12:00:00</td>\n",
       "      <td>245.41</td>\n",
       "      <td>96.015606</td>\n",
       "      <td>-73.79</td>\n",
       "      <td>40.65</td>\n",
       "      <td>40.314682</td>\n",
       "      <td>40.314682</td>\n",
       "    </tr>\n",
       "    <tr>\n",
       "      <th>2014-04-30 20:45:00</th>\n",
       "      <td>2014-04-30 20:45:00</td>\n",
       "      <td>207.05</td>\n",
       "      <td>60.979248</td>\n",
       "      <td>-73.88</td>\n",
       "      <td>40.77</td>\n",
       "      <td>40.536990</td>\n",
       "      <td>40.536990</td>\n",
       "    </tr>\n",
       "    <tr>\n",
       "      <th>2014-01-22 00:30:00</th>\n",
       "      <td>2014-01-22 00:30:00</td>\n",
       "      <td>214.33</td>\n",
       "      <td>70.945832</td>\n",
       "      <td>-73.79</td>\n",
       "      <td>40.64</td>\n",
       "      <td>41.102332</td>\n",
       "      <td>41.102332</td>\n",
       "    </tr>\n",
       "    <tr>\n",
       "      <th>2015-03-11 16:15:00</th>\n",
       "      <td>2015-03-11 16:15:00</td>\n",
       "      <td>450.00</td>\n",
       "      <td>0.350584</td>\n",
       "      <td>-73.91</td>\n",
       "      <td>40.78</td>\n",
       "      <td>40.777607</td>\n",
       "      <td>40.777607</td>\n",
       "    </tr>\n",
       "    <tr>\n",
       "      <th>2014-12-24 00:00:00</th>\n",
       "      <td>2014-12-24 00:00:00</td>\n",
       "      <td>205.00</td>\n",
       "      <td>0.649675</td>\n",
       "      <td>-73.87</td>\n",
       "      <td>41.18</td>\n",
       "      <td>41.176727</td>\n",
       "      <td>41.176727</td>\n",
       "    </tr>\n",
       "    <tr>\n",
       "      <th>2013-06-19 12:30:00</th>\n",
       "      <td>2013-06-19 12:30:00</td>\n",
       "      <td>250.25</td>\n",
       "      <td>0.143873</td>\n",
       "      <td>-73.97</td>\n",
       "      <td>40.80</td>\n",
       "      <td>40.800792</td>\n",
       "      <td>40.800792</td>\n",
       "    </tr>\n",
       "    <tr>\n",
       "      <th>2014-06-19 02:15:00</th>\n",
       "      <td>2014-06-19 02:15:00</td>\n",
       "      <td>215.00</td>\n",
       "      <td>0.248272</td>\n",
       "      <td>-73.01</td>\n",
       "      <td>40.92</td>\n",
       "      <td>40.919110</td>\n",
       "      <td>40.919110</td>\n",
       "    </tr>\n",
       "    <tr>\n",
       "      <th>2014-06-26 19:15:00</th>\n",
       "      <td>2014-06-26 19:15:00</td>\n",
       "      <td>217.00</td>\n",
       "      <td>0.000000</td>\n",
       "      <td>0.00</td>\n",
       "      <td>0.00</td>\n",
       "      <td>0.000000</td>\n",
       "      <td>0.000000</td>\n",
       "    </tr>\n",
       "    <tr>\n",
       "      <th>2014-04-24 09:45:00</th>\n",
       "      <td>2014-04-24 09:45:00</td>\n",
       "      <td>215.00</td>\n",
       "      <td>0.364022</td>\n",
       "      <td>-73.25</td>\n",
       "      <td>40.81</td>\n",
       "      <td>40.811402</td>\n",
       "      <td>40.811402</td>\n",
       "    </tr>\n",
       "    <tr>\n",
       "      <th>2013-05-16 17:00:00</th>\n",
       "      <td>2013-05-16 17:00:00</td>\n",
       "      <td>201.00</td>\n",
       "      <td>90.079843</td>\n",
       "      <td>-73.78</td>\n",
       "      <td>40.65</td>\n",
       "      <td>40.964322</td>\n",
       "      <td>40.964322</td>\n",
       "    </tr>\n",
       "    <tr>\n",
       "      <th>2012-10-11 23:15:00</th>\n",
       "      <td>2012-10-11 23:15:00</td>\n",
       "      <td>250.00</td>\n",
       "      <td>1.354284</td>\n",
       "      <td>-73.79</td>\n",
       "      <td>40.65</td>\n",
       "      <td>40.661087</td>\n",
       "      <td>40.661087</td>\n",
       "    </tr>\n",
       "    <tr>\n",
       "      <th>2011-05-05 08:30:00</th>\n",
       "      <td>2011-05-05 08:30:00</td>\n",
       "      <td>400.00</td>\n",
       "      <td>0.455617</td>\n",
       "      <td>-73.85</td>\n",
       "      <td>40.90</td>\n",
       "      <td>40.897923</td>\n",
       "      <td>40.897923</td>\n",
       "    </tr>\n",
       "    <tr>\n",
       "      <th>2012-09-20 23:30:00</th>\n",
       "      <td>2012-09-20 23:30:00</td>\n",
       "      <td>208.80</td>\n",
       "      <td>75.540730</td>\n",
       "      <td>-73.79</td>\n",
       "      <td>40.64</td>\n",
       "      <td>41.071885</td>\n",
       "      <td>41.071885</td>\n",
       "    </tr>\n",
       "    <tr>\n",
       "      <th>2013-03-08 13:30:00</th>\n",
       "      <td>2013-03-08 13:30:00</td>\n",
       "      <td>211.44</td>\n",
       "      <td>72.386793</td>\n",
       "      <td>-73.98</td>\n",
       "      <td>40.76</td>\n",
       "      <td>41.096117</td>\n",
       "      <td>41.096117</td>\n",
       "    </tr>\n",
       "    <tr>\n",
       "      <th>2011-07-29 14:15:00</th>\n",
       "      <td>2011-07-29 14:15:00</td>\n",
       "      <td>450.00</td>\n",
       "      <td>0.425413</td>\n",
       "      <td>-73.96</td>\n",
       "      <td>40.81</td>\n",
       "      <td>40.810323</td>\n",
       "      <td>40.810323</td>\n",
       "    </tr>\n",
       "    <tr>\n",
       "      <th>2015-01-02 11:45:00</th>\n",
       "      <td>2015-01-02 11:45:00</td>\n",
       "      <td>235.00</td>\n",
       "      <td>0.344441</td>\n",
       "      <td>-73.86</td>\n",
       "      <td>40.77</td>\n",
       "      <td>40.769272</td>\n",
       "      <td>40.769272</td>\n",
       "    </tr>\n",
       "    <tr>\n",
       "      <th>2014-05-30 23:00:00</th>\n",
       "      <td>2014-05-30 23:00:00</td>\n",
       "      <td>212.00</td>\n",
       "      <td>0.000000</td>\n",
       "      <td>0.00</td>\n",
       "      <td>0.00</td>\n",
       "      <td>0.000000</td>\n",
       "      <td>0.000000</td>\n",
       "    </tr>\n",
       "    <tr>\n",
       "      <th>2013-05-04 12:00:00</th>\n",
       "      <td>2013-05-04 12:00:00</td>\n",
       "      <td>210.00</td>\n",
       "      <td>0.000000</td>\n",
       "      <td>0.00</td>\n",
       "      <td>0.00</td>\n",
       "      <td>0.000000</td>\n",
       "      <td>0.000000</td>\n",
       "    </tr>\n",
       "    <tr>\n",
       "      <th>2015-03-21 05:15:00</th>\n",
       "      <td>2015-03-21 05:15:00</td>\n",
       "      <td>243.00</td>\n",
       "      <td>0.000000</td>\n",
       "      <td>0.00</td>\n",
       "      <td>0.00</td>\n",
       "      <td>0.000000</td>\n",
       "      <td>0.000000</td>\n",
       "    </tr>\n",
       "    <tr>\n",
       "      <th>2011-10-15 03:45:00</th>\n",
       "      <td>2011-10-15 03:45:00</td>\n",
       "      <td>215.00</td>\n",
       "      <td>0.350248</td>\n",
       "      <td>-73.41</td>\n",
       "      <td>40.89</td>\n",
       "      <td>40.891232</td>\n",
       "      <td>40.891232</td>\n",
       "    </tr>\n",
       "    <tr>\n",
       "      <th>2015-03-21 06:15:00</th>\n",
       "      <td>2015-03-21 06:15:00</td>\n",
       "      <td>208.00</td>\n",
       "      <td>0.625671</td>\n",
       "      <td>-74.58</td>\n",
       "      <td>40.56</td>\n",
       "      <td>40.564869</td>\n",
       "      <td>40.564869</td>\n",
       "    </tr>\n",
       "    <tr>\n",
       "      <th>2011-10-08 05:15:00</th>\n",
       "      <td>2011-10-08 05:15:00</td>\n",
       "      <td>400.00</td>\n",
       "      <td>0.515636</td>\n",
       "      <td>-73.94</td>\n",
       "      <td>40.71</td>\n",
       "      <td>40.708141</td>\n",
       "      <td>40.708141</td>\n",
       "    </tr>\n",
       "    <tr>\n",
       "      <th>2015-04-04 11:00:00</th>\n",
       "      <td>2015-04-04 11:00:00</td>\n",
       "      <td>262.04</td>\n",
       "      <td>87.148938</td>\n",
       "      <td>-73.78</td>\n",
       "      <td>40.64</td>\n",
       "      <td>40.351589</td>\n",
       "      <td>40.351589</td>\n",
       "    </tr>\n",
       "    <tr>\n",
       "      <th>2012-05-06 11:00:00</th>\n",
       "      <td>2012-05-06 11:00:00</td>\n",
       "      <td>240.00</td>\n",
       "      <td>0.000000</td>\n",
       "      <td>0.00</td>\n",
       "      <td>0.00</td>\n",
       "      <td>0.000000</td>\n",
       "      <td>0.000000</td>\n",
       "    </tr>\n",
       "    <tr>\n",
       "      <th>2012-09-30 05:45:00</th>\n",
       "      <td>2012-09-30 05:45:00</td>\n",
       "      <td>220.00</td>\n",
       "      <td>0.611580</td>\n",
       "      <td>-73.68</td>\n",
       "      <td>40.99</td>\n",
       "      <td>40.986372</td>\n",
       "      <td>40.986372</td>\n",
       "    </tr>\n",
       "    <tr>\n",
       "      <th>2012-10-28 14:00:00</th>\n",
       "      <td>2012-10-28 14:00:00</td>\n",
       "      <td>450.00</td>\n",
       "      <td>1.147196</td>\n",
       "      <td>-73.93</td>\n",
       "      <td>40.79</td>\n",
       "      <td>40.799672</td>\n",
       "      <td>40.799672</td>\n",
       "    </tr>\n",
       "    <tr>\n",
       "      <th>2014-06-29 03:15:00</th>\n",
       "      <td>2014-06-29 03:15:00</td>\n",
       "      <td>206.00</td>\n",
       "      <td>48.985052</td>\n",
       "      <td>-74.00</td>\n",
       "      <td>40.77</td>\n",
       "      <td>41.094582</td>\n",
       "      <td>41.094582</td>\n",
       "    </tr>\n",
       "  </tbody>\n",
       "</table>\n",
       "</div>"
      ],
      "text/plain": [
       "                               interval  fare_amount   distance  \\\n",
       "interval                                                          \n",
       "2013-01-28 21:30:00 2013-01-28 21:30:00       210.00   0.741964   \n",
       "2012-08-06 02:30:00 2012-08-06 02:30:00       225.00   0.452913   \n",
       "2014-05-19 10:00:00 2014-05-19 10:00:00       263.25   0.366801   \n",
       "2013-04-22 15:15:00 2013-04-22 15:15:00       203.50  64.897208   \n",
       "2013-07-22 22:30:00 2013-07-22 22:30:00       220.00   0.377280   \n",
       "2011-09-12 09:30:00 2011-09-12 09:30:00       500.00   0.406956   \n",
       "2012-10-30 20:30:00 2012-10-30 20:30:00       255.00   0.261119   \n",
       "2015-02-10 12:00:00 2015-02-10 12:00:00       245.41  96.015606   \n",
       "2014-04-30 20:45:00 2014-04-30 20:45:00       207.05  60.979248   \n",
       "2014-01-22 00:30:00 2014-01-22 00:30:00       214.33  70.945832   \n",
       "2015-03-11 16:15:00 2015-03-11 16:15:00       450.00   0.350584   \n",
       "2014-12-24 00:00:00 2014-12-24 00:00:00       205.00   0.649675   \n",
       "2013-06-19 12:30:00 2013-06-19 12:30:00       250.25   0.143873   \n",
       "2014-06-19 02:15:00 2014-06-19 02:15:00       215.00   0.248272   \n",
       "2014-06-26 19:15:00 2014-06-26 19:15:00       217.00   0.000000   \n",
       "2014-04-24 09:45:00 2014-04-24 09:45:00       215.00   0.364022   \n",
       "2013-05-16 17:00:00 2013-05-16 17:00:00       201.00  90.079843   \n",
       "2012-10-11 23:15:00 2012-10-11 23:15:00       250.00   1.354284   \n",
       "2011-05-05 08:30:00 2011-05-05 08:30:00       400.00   0.455617   \n",
       "2012-09-20 23:30:00 2012-09-20 23:30:00       208.80  75.540730   \n",
       "2013-03-08 13:30:00 2013-03-08 13:30:00       211.44  72.386793   \n",
       "2011-07-29 14:15:00 2011-07-29 14:15:00       450.00   0.425413   \n",
       "2015-01-02 11:45:00 2015-01-02 11:45:00       235.00   0.344441   \n",
       "2014-05-30 23:00:00 2014-05-30 23:00:00       212.00   0.000000   \n",
       "2013-05-04 12:00:00 2013-05-04 12:00:00       210.00   0.000000   \n",
       "2015-03-21 05:15:00 2015-03-21 05:15:00       243.00   0.000000   \n",
       "2011-10-15 03:45:00 2011-10-15 03:45:00       215.00   0.350248   \n",
       "2015-03-21 06:15:00 2015-03-21 06:15:00       208.00   0.625671   \n",
       "2011-10-08 05:15:00 2011-10-08 05:15:00       400.00   0.515636   \n",
       "2015-04-04 11:00:00 2015-04-04 11:00:00       262.04  87.148938   \n",
       "2012-05-06 11:00:00 2012-05-06 11:00:00       240.00   0.000000   \n",
       "2012-09-30 05:45:00 2012-09-30 05:45:00       220.00   0.611580   \n",
       "2012-10-28 14:00:00 2012-10-28 14:00:00       450.00   1.147196   \n",
       "2014-06-29 03:15:00 2014-06-29 03:15:00       206.00  48.985052   \n",
       "\n",
       "                     pickup_longitude  pickup_latitude  dropoff_latitude  \\\n",
       "interval                                                                   \n",
       "2013-01-28 21:30:00            -74.41            40.85         40.854787   \n",
       "2012-08-06 02:30:00            -73.54            41.05         41.047218   \n",
       "2014-05-19 10:00:00            -74.41            40.48         40.479165   \n",
       "2013-04-22 15:15:00            -73.87            40.77         40.787527   \n",
       "2013-07-22 22:30:00            -73.49            41.06         41.059311   \n",
       "2011-09-12 09:30:00            -73.97            40.64         40.640595   \n",
       "2012-10-30 20:30:00            -73.92            40.74         40.741577   \n",
       "2015-02-10 12:00:00            -73.79            40.65         40.314682   \n",
       "2014-04-30 20:45:00            -73.88            40.77         40.536990   \n",
       "2014-01-22 00:30:00            -73.79            40.64         41.102332   \n",
       "2015-03-11 16:15:00            -73.91            40.78         40.777607   \n",
       "2014-12-24 00:00:00            -73.87            41.18         41.176727   \n",
       "2013-06-19 12:30:00            -73.97            40.80         40.800792   \n",
       "2014-06-19 02:15:00            -73.01            40.92         40.919110   \n",
       "2014-06-26 19:15:00              0.00             0.00          0.000000   \n",
       "2014-04-24 09:45:00            -73.25            40.81         40.811402   \n",
       "2013-05-16 17:00:00            -73.78            40.65         40.964322   \n",
       "2012-10-11 23:15:00            -73.79            40.65         40.661087   \n",
       "2011-05-05 08:30:00            -73.85            40.90         40.897923   \n",
       "2012-09-20 23:30:00            -73.79            40.64         41.071885   \n",
       "2013-03-08 13:30:00            -73.98            40.76         41.096117   \n",
       "2011-07-29 14:15:00            -73.96            40.81         40.810323   \n",
       "2015-01-02 11:45:00            -73.86            40.77         40.769272   \n",
       "2014-05-30 23:00:00              0.00             0.00          0.000000   \n",
       "2013-05-04 12:00:00              0.00             0.00          0.000000   \n",
       "2015-03-21 05:15:00              0.00             0.00          0.000000   \n",
       "2011-10-15 03:45:00            -73.41            40.89         40.891232   \n",
       "2015-03-21 06:15:00            -74.58            40.56         40.564869   \n",
       "2011-10-08 05:15:00            -73.94            40.71         40.708141   \n",
       "2015-04-04 11:00:00            -73.78            40.64         40.351589   \n",
       "2012-05-06 11:00:00              0.00             0.00          0.000000   \n",
       "2012-09-30 05:45:00            -73.68            40.99         40.986372   \n",
       "2012-10-28 14:00:00            -73.93            40.79         40.799672   \n",
       "2014-06-29 03:15:00            -74.00            40.77         41.094582   \n",
       "\n",
       "                     dropoff_latitude  \n",
       "interval                               \n",
       "2013-01-28 21:30:00         40.854787  \n",
       "2012-08-06 02:30:00         41.047218  \n",
       "2014-05-19 10:00:00         40.479165  \n",
       "2013-04-22 15:15:00         40.787527  \n",
       "2013-07-22 22:30:00         41.059311  \n",
       "2011-09-12 09:30:00         40.640595  \n",
       "2012-10-30 20:30:00         40.741577  \n",
       "2015-02-10 12:00:00         40.314682  \n",
       "2014-04-30 20:45:00         40.536990  \n",
       "2014-01-22 00:30:00         41.102332  \n",
       "2015-03-11 16:15:00         40.777607  \n",
       "2014-12-24 00:00:00         41.176727  \n",
       "2013-06-19 12:30:00         40.800792  \n",
       "2014-06-19 02:15:00         40.919110  \n",
       "2014-06-26 19:15:00          0.000000  \n",
       "2014-04-24 09:45:00         40.811402  \n",
       "2013-05-16 17:00:00         40.964322  \n",
       "2012-10-11 23:15:00         40.661087  \n",
       "2011-05-05 08:30:00         40.897923  \n",
       "2012-09-20 23:30:00         41.071885  \n",
       "2013-03-08 13:30:00         41.096117  \n",
       "2011-07-29 14:15:00         40.810323  \n",
       "2015-01-02 11:45:00         40.769272  \n",
       "2014-05-30 23:00:00          0.000000  \n",
       "2013-05-04 12:00:00          0.000000  \n",
       "2015-03-21 05:15:00          0.000000  \n",
       "2011-10-15 03:45:00         40.891232  \n",
       "2015-03-21 06:15:00         40.564869  \n",
       "2011-10-08 05:15:00         40.708141  \n",
       "2015-04-04 11:00:00         40.351589  \n",
       "2012-05-06 11:00:00          0.000000  \n",
       "2012-09-30 05:45:00         40.986372  \n",
       "2012-10-28 14:00:00         40.799672  \n",
       "2014-06-29 03:15:00         41.094582  "
      ]
     },
     "execution_count": 255,
     "metadata": {},
     "output_type": "execute_result"
    }
   ],
   "source": [
    "df.loc[df[\"fare_amount\"] > 200]"
   ]
  },
  {
   "cell_type": "code",
   "execution_count": 256,
   "metadata": {},
   "outputs": [],
   "source": [
    "from sklearn import datasets, linear_model\n",
    "from sklearn.metrics import mean_squared_error, r2_score"
   ]
  },
  {
   "cell_type": "code",
   "execution_count": 257,
   "metadata": {},
   "outputs": [],
   "source": [
    "# Create linear regression object\n",
    "regr = linear_model.LinearRegression()"
   ]
  },
  {
   "cell_type": "code",
   "execution_count": 258,
   "metadata": {},
   "outputs": [
    {
     "data": {
      "text/plain": [
       "LinearRegression(copy_X=True, fit_intercept=True, n_jobs=1, normalize=False)"
      ]
     },
     "execution_count": 258,
     "metadata": {},
     "output_type": "execute_result"
    }
   ],
   "source": [
    "regr.fit(x_train, y_train)\n"
   ]
  },
  {
   "cell_type": "code",
   "execution_count": 259,
   "metadata": {},
   "outputs": [],
   "source": [
    "y_pred = regr.predict(x_test)\n"
   ]
  },
  {
   "cell_type": "code",
   "execution_count": 260,
   "metadata": {},
   "outputs": [
    {
     "name": "stdout",
     "output_type": "stream",
     "text": [
      "Coefficients: \n",
      " [[ 1.72414571  0.19134137 -0.08718418  0.12279938  0.12279938]]\n"
     ]
    }
   ],
   "source": [
    "# The coefficients\n",
    "print('Coefficients: \\n', regr.coef_)"
   ]
  },
  {
   "cell_type": "code",
   "execution_count": 261,
   "metadata": {},
   "outputs": [
    {
     "name": "stdout",
     "output_type": "stream",
     "text": [
      "Mean squared error: 30.42\n",
      "Variance score: 0.68\n"
     ]
    }
   ],
   "source": [
    "print(\"Mean squared error: %.2f\"\n",
    "      % mean_squared_error(y_test, y_pred))\n",
    "# Explained variance score: 1 is perfect prediction\n",
    "print('Variance score: %.2f' % r2_score(y_test, y_pred))"
   ]
  },
  {
   "cell_type": "code",
   "execution_count": 262,
   "metadata": {},
   "outputs": [
    {
     "name": "stdout",
     "output_type": "stream",
     "text": [
      "68.48736824438828 %\n"
     ]
    }
   ],
   "source": [
    "accuracy = regr.score(x_test,y_test)\n",
    "print(accuracy*100,'%')"
   ]
  },
  {
   "cell_type": "code",
   "execution_count": 274,
   "metadata": {},
   "outputs": [
    {
     "data": {
      "text/html": [
       "<div>\n",
       "<style scoped>\n",
       "    .dataframe tbody tr th:only-of-type {\n",
       "        vertical-align: middle;\n",
       "    }\n",
       "\n",
       "    .dataframe tbody tr th {\n",
       "        vertical-align: top;\n",
       "    }\n",
       "\n",
       "    .dataframe thead th {\n",
       "        text-align: right;\n",
       "    }\n",
       "</style>\n",
       "<table border=\"1\" class=\"dataframe\">\n",
       "  <thead>\n",
       "    <tr style=\"text-align: right;\">\n",
       "      <th></th>\n",
       "      <th>fare_amount</th>\n",
       "      <th>distance</th>\n",
       "      <th>pickup_longitude</th>\n",
       "      <th>pickup_latitude</th>\n",
       "      <th>dropoff_latitude</th>\n",
       "      <th>dropoff_latitude</th>\n",
       "    </tr>\n",
       "    <tr>\n",
       "      <th>interval</th>\n",
       "      <th></th>\n",
       "      <th></th>\n",
       "      <th></th>\n",
       "      <th></th>\n",
       "      <th></th>\n",
       "      <th></th>\n",
       "    </tr>\n",
       "  </thead>\n",
       "  <tbody>\n",
       "    <tr>\n",
       "      <th>2009-06-15 17:15:00</th>\n",
       "      <td>4.5</td>\n",
       "      <td>0.994348</td>\n",
       "      <td>-73.84</td>\n",
       "      <td>40.72</td>\n",
       "      <td>40.712278</td>\n",
       "      <td>40.712278</td>\n",
       "    </tr>\n",
       "    <tr>\n",
       "      <th>2009-08-03 23:00:00</th>\n",
       "      <td>4.5</td>\n",
       "      <td>1.333581</td>\n",
       "      <td>-73.99</td>\n",
       "      <td>40.76</td>\n",
       "      <td>40.768142</td>\n",
       "      <td>40.768142</td>\n",
       "    </tr>\n",
       "    <tr>\n",
       "      <th>2011-07-11 13:00:00</th>\n",
       "      <td>10.9</td>\n",
       "      <td>5.648338</td>\n",
       "      <td>-73.99</td>\n",
       "      <td>40.75</td>\n",
       "      <td>40.718000</td>\n",
       "      <td>40.718000</td>\n",
       "    </tr>\n",
       "    <tr>\n",
       "      <th>2012-12-17 22:45:00</th>\n",
       "      <td>29.0</td>\n",
       "      <td>11.774684</td>\n",
       "      <td>-73.98</td>\n",
       "      <td>40.77</td>\n",
       "      <td>40.677382</td>\n",
       "      <td>40.677382</td>\n",
       "    </tr>\n",
       "    <tr>\n",
       "      <th>2011-02-28 22:00:00</th>\n",
       "      <td>6.1</td>\n",
       "      <td>2.811899</td>\n",
       "      <td>-74.00</td>\n",
       "      <td>40.73</td>\n",
       "      <td>40.721325</td>\n",
       "      <td>40.721325</td>\n",
       "    </tr>\n",
       "  </tbody>\n",
       "</table>\n",
       "</div>"
      ],
      "text/plain": [
       "                     fare_amount   distance  pickup_longitude  \\\n",
       "interval                                                        \n",
       "2009-06-15 17:15:00          4.5   0.994348            -73.84   \n",
       "2009-08-03 23:00:00          4.5   1.333581            -73.99   \n",
       "2011-07-11 13:00:00         10.9   5.648338            -73.99   \n",
       "2012-12-17 22:45:00         29.0  11.774684            -73.98   \n",
       "2011-02-28 22:00:00          6.1   2.811899            -74.00   \n",
       "\n",
       "                     pickup_latitude  dropoff_latitude  dropoff_latitude  \n",
       "interval                                                                  \n",
       "2009-06-15 17:15:00            40.72         40.712278         40.712278  \n",
       "2009-08-03 23:00:00            40.76         40.768142         40.768142  \n",
       "2011-07-11 13:00:00            40.75         40.718000         40.718000  \n",
       "2012-12-17 22:45:00            40.77         40.677382         40.677382  \n",
       "2011-02-28 22:00:00            40.73         40.721325         40.721325  "
      ]
     },
     "execution_count": 274,
     "metadata": {},
     "output_type": "execute_result"
    }
   ],
   "source": [
    "var_train.head()"
   ]
  },
  {
   "cell_type": "code",
   "execution_count": 269,
   "metadata": {},
   "outputs": [],
   "source": [
    "var_train = train.drop(['interval'], axis=1)\n",
    "var_test = test.drop(['interval'], axis=1)"
   ]
  },
  {
   "cell_type": "code",
   "execution_count": 270,
   "metadata": {},
   "outputs": [
    {
     "name": "stderr",
     "output_type": "stream",
     "text": [
      "C:\\Users\\user\\Anaconda\\lib\\site-packages\\statsmodels\\tsa\\base\\tsa_model.py:225: ValueWarning:\n",
      "\n",
      "A date index has been provided, but it has no associated frequency information and so will be ignored when e.g. forecasting.\n",
      "\n"
     ]
    }
   ],
   "source": [
    "model = VAR(endog=var_train)\n"
   ]
  },
  {
   "cell_type": "code",
   "execution_count": 271,
   "metadata": {},
   "outputs": [],
   "source": [
    "model_fit = model.fit()\n"
   ]
  },
  {
   "cell_type": "code",
   "execution_count": 272,
   "metadata": {},
   "outputs": [],
   "source": [
    "prediction = model_fit.forecast(model_fit.y, steps=len(y_test))"
   ]
  },
  {
   "cell_type": "code",
   "execution_count": 273,
   "metadata": {},
   "outputs": [
    {
     "data": {
      "text/plain": [
       "array([[ 11.31739338,   4.16889947, -72.58485593,  39.96074393,\n",
       "         39.96054669,  39.96054669],\n",
       "       [ 11.31433776,   4.16948668, -72.59062782,  39.96468873,\n",
       "         39.96458304,  39.96458304],\n",
       "       [ 11.31432975,   4.16949202, -72.59064092,  39.96469655,\n",
       "         39.96459081,  39.96459081],\n",
       "       ...,\n",
       "       [ 11.31432973,   4.16949204, -72.59064095,  39.96469657,\n",
       "         39.96459083,  39.96459083],\n",
       "       [ 11.31432973,   4.16949204, -72.59064095,  39.96469657,\n",
       "         39.96459083,  39.96459083],\n",
       "       [ 11.31432973,   4.16949204, -72.59064095,  39.96469657,\n",
       "         39.96459083,  39.96459083]])"
      ]
     },
     "execution_count": 273,
     "metadata": {},
     "output_type": "execute_result"
    }
   ],
   "source": [
    "prediction"
   ]
  },
  {
   "cell_type": "code",
   "execution_count": 278,
   "metadata": {},
   "outputs": [],
   "source": [
    "cols=var_train.columns.values"
   ]
  },
  {
   "cell_type": "code",
   "execution_count": 284,
   "metadata": {
    "scrolled": true
   },
   "outputs": [],
   "source": [
    "#converting predictions to dataframe\n",
    "pred = pd.DataFrame(index=range(0,len(prediction)),columns=[cols])\n",
    "for j in range(0,6):\n",
    "    for i in range(0, len(prediction)):\n",
    "       pred.iloc[i][j] = prediction[i][j]\n",
    "\n"
   ]
  },
  {
   "cell_type": "code",
   "execution_count": 285,
   "metadata": {},
   "outputs": [],
   "source": [
    "import math"
   ]
  },
  {
   "cell_type": "code",
   "execution_count": 287,
   "metadata": {},
   "outputs": [
    {
     "name": "stdout",
     "output_type": "stream",
     "text": [
      "rmse value for fare_amount is :  9.813337136151583\n",
      "rmse value for distance is :  4.853859555353904\n",
      "rmse value for pickup_longitude is :  10.288082711516017\n",
      "rmse value for pickup_latitude is :  6.073181353735921\n",
      "rmse value for dropoff_latitude is :  6.073232760382862\n",
      "rmse value for dropoff_latitude is :  6.073232760382862\n"
     ]
    }
   ],
   "source": [
    "#check rmse\n",
    "for i in cols:\n",
    "    print('rmse value for', i, 'is : ', math.sqrt(mean_squared_error(pred[i], test[i])))"
   ]
  },
  {
   "cell_type": "code",
   "execution_count": null,
   "metadata": {},
   "outputs": [],
   "source": [
    "#converting predictions to dataframe\n",
    "pred = pd.DataFrame(index=range(0,len(prediction)),columns=[cols])\n",
    "for j in range(0,13):\n",
    "    for i in range(0, len(prediction)):\n",
    "       pred.iloc[i][j] = prediction[i][j]\n",
    "\n",
    "#check rmse\n",
    "for i in cols:\n",
    "    print('rmse value for', i, 'is : ', sqrt(mean_squared_error(pred[i], valid[i])))"
   ]
  },
  {
   "cell_type": "code",
   "execution_count": 420,
   "metadata": {},
   "outputs": [],
   "source": [
    "y_hat_avg = test.copy()\n",
    "y_hat_avg['t_fare_amount'] = train['fare_amount'].mean()"
   ]
  },
  {
   "cell_type": "code",
   "execution_count": 421,
   "metadata": {},
   "outputs": [
    {
     "data": {
      "text/plain": [
       "<matplotlib.legend.Legend at 0x9fa20470>"
      ]
     },
     "execution_count": 421,
     "metadata": {},
     "output_type": "execute_result"
    },
    {
     "data": {
      "image/png": "[encoded data removed]",
      "text/plain": [
       "<Figure size 864x576 with 1 Axes>"
      ]
     },
     "metadata": {
      "needs_background": "light"
     },
     "output_type": "display_data"
    }
   ],
   "source": [
    "plt.figure(figsize=(12,8))\n",
    "plt.plot(train['fare_amount'], label='Train')\n",
    "plt.plot(test['fare_amount'], label='Test')\n",
    "plt.plot(y_hat_avg['t_fare_amount'], label='Average Forecast')\n",
    "plt.legend(loc='best')"
   ]
  },
  {
   "cell_type": "code",
   "execution_count": 422,
   "metadata": {},
   "outputs": [],
   "source": [
    "df1 = df.copy()"
   ]
  },
  {
   "cell_type": "code",
   "execution_count": 423,
   "metadata": {},
   "outputs": [],
   "source": [
    "df1['moving_avg_forecast'] = df['fare_amount'].rolling(60).mean()"
   ]
  },
  {
   "cell_type": "code",
   "execution_count": 439,
   "metadata": {},
   "outputs": [],
   "source": [
    "y_hat_avg = test.copy()"
   ]
  },
  {
   "cell_type": "code",
   "execution_count": 433,
   "metadata": {},
   "outputs": [],
   "source": [
    "train_size = int(len(df1) * 0.80)\n",
    "train, test = df1[0:train_size], df1[train_size:len(df)]"
   ]
  },
  {
   "cell_type": "code",
   "execution_count": 436,
   "metadata": {},
   "outputs": [
    {
     "data": {
      "text/html": [
       "<div>\n",
       "<style scoped>\n",
       "    .dataframe tbody tr th:only-of-type {\n",
       "        vertical-align: middle;\n",
       "    }\n",
       "\n",
       "    .dataframe tbody tr th {\n",
       "        vertical-align: top;\n",
       "    }\n",
       "\n",
       "    .dataframe thead th {\n",
       "        text-align: right;\n",
       "    }\n",
       "</style>\n",
       "<table border=\"1\" class=\"dataframe\">\n",
       "  <thead>\n",
       "    <tr style=\"text-align: right;\">\n",
       "      <th></th>\n",
       "      <th>fare_amount</th>\n",
       "      <th>id</th>\n",
       "      <th>moving_avg_forecast</th>\n",
       "    </tr>\n",
       "    <tr>\n",
       "      <th>interval</th>\n",
       "      <th></th>\n",
       "      <th></th>\n",
       "      <th></th>\n",
       "    </tr>\n",
       "  </thead>\n",
       "  <tbody>\n",
       "    <tr>\n",
       "      <th>2014-03-13 14:17:00</th>\n",
       "      <td>10.741500</td>\n",
       "      <td>45544</td>\n",
       "      <td>NaN</td>\n",
       "    </tr>\n",
       "    <tr>\n",
       "      <th>2014-03-13 15:17:00</th>\n",
       "      <td>12.135000</td>\n",
       "      <td>45545</td>\n",
       "      <td>NaN</td>\n",
       "    </tr>\n",
       "    <tr>\n",
       "      <th>2014-03-13 16:17:00</th>\n",
       "      <td>14.221905</td>\n",
       "      <td>45546</td>\n",
       "      <td>NaN</td>\n",
       "    </tr>\n",
       "    <tr>\n",
       "      <th>2014-03-13 17:17:00</th>\n",
       "      <td>10.644783</td>\n",
       "      <td>45547</td>\n",
       "      <td>NaN</td>\n",
       "    </tr>\n",
       "    <tr>\n",
       "      <th>2014-03-13 18:17:00</th>\n",
       "      <td>13.266571</td>\n",
       "      <td>45548</td>\n",
       "      <td>NaN</td>\n",
       "    </tr>\n",
       "  </tbody>\n",
       "</table>\n",
       "</div>"
      ],
      "text/plain": [
       "                     fare_amount     id  moving_avg_forecast\n",
       "interval                                                    \n",
       "2014-03-13 14:17:00    10.741500  45544                  NaN\n",
       "2014-03-13 15:17:00    12.135000  45545                  NaN\n",
       "2014-03-13 16:17:00    14.221905  45546                  NaN\n",
       "2014-03-13 17:17:00    10.644783  45547                  NaN\n",
       "2014-03-13 18:17:00    13.266571  45548                  NaN"
      ]
     },
     "execution_count": 436,
     "metadata": {},
     "output_type": "execute_result"
    }
   ],
   "source": [
    "test.head()"
   ]
  },
  {
   "cell_type": "code",
   "execution_count": 440,
   "metadata": {},
   "outputs": [
    {
     "data": {
      "text/plain": [
       "<matplotlib.legend.Legend at 0xa1a27358>"
      ]
     },
     "execution_count": 440,
     "metadata": {},
     "output_type": "execute_result"
    },
    {
     "data": {
      "image/png": "[encoded data removed]",
      "text/plain": [
       "<Figure size 1152x576 with 1 Axes>"
      ]
     },
     "metadata": {
      "needs_background": "light"
     },
     "output_type": "display_data"
    }
   ],
   "source": [
    "plt.figure(figsize=(16,8))\n",
    "plt.plot(train['fare_amount'], label='Train')\n",
    "plt.plot(test['fare_amount'], label='Test')\n",
    "plt.plot(y_hat_avg['moving_avg_forecast'], label='Moving Average Forecast')\n",
    "plt.legend(loc='best')"
   ]
  },
  {
   "cell_type": "code",
   "execution_count": 441,
   "metadata": {},
   "outputs": [],
   "source": [
    "from statsmodels.tsa.api import ExponentialSmoothing, SimpleExpSmoothing, Holt"
   ]
  },
  {
   "cell_type": "code",
   "execution_count": 482,
   "metadata": {},
   "outputs": [
    {
     "data": {
      "text/plain": [
       "299"
      ]
     },
     "execution_count": 482,
     "metadata": {},
     "output_type": "execute_result"
    }
   ],
   "source": [
    "train['fare_amount'].isnull().sum()"
   ]
  },
  {
   "cell_type": "code",
   "execution_count": 481,
   "metadata": {},
   "outputs": [
    {
     "data": {
      "text/plain": [
       "interval\n",
       "2008-12-31 23:17:00    11.666667\n",
       "2009-01-01 00:17:00     9.666667\n",
       "2009-01-01 01:17:00     8.800000\n",
       "2009-01-01 02:17:00    12.811111\n",
       "2009-01-01 03:17:00     8.470000\n",
       "2009-01-01 04:17:00     8.711111\n",
       "2009-01-01 05:17:00     8.166667\n",
       "2009-01-01 06:17:00    11.318574\n",
       "2009-01-01 07:17:00    18.200000\n",
       "2009-01-01 08:17:00     5.700000\n",
       "2009-01-01 09:17:00    16.300000\n",
       "2009-01-01 10:17:00     9.328571\n",
       "2009-01-01 11:17:00    11.700000\n",
       "2009-01-01 12:17:00    10.520000\n",
       "2009-01-01 13:17:00    10.344118\n",
       "2009-01-01 14:17:00     7.490909\n",
       "2009-01-01 15:17:00     7.646667\n",
       "2009-01-01 16:17:00     7.866667\n",
       "2009-01-01 17:17:00    13.138889\n",
       "2009-01-01 18:17:00    11.758696\n",
       "2009-01-01 19:17:00    11.025000\n",
       "2009-01-01 20:17:00     6.427273\n",
       "2009-01-01 21:17:00     8.390000\n",
       "2009-01-01 22:17:00     8.035294\n",
       "2009-01-01 23:17:00    12.406250\n",
       "2009-01-02 00:17:00     7.450000\n",
       "2009-01-02 01:17:00    12.266667\n",
       "2009-01-02 02:17:00    11.200000\n",
       "2009-01-02 03:17:00    11.318574\n",
       "2009-01-02 04:17:00    10.700000\n",
       "                         ...    \n",
       "2014-03-12 08:17:00    11.945946\n",
       "2014-03-12 09:17:00    12.220000\n",
       "2014-03-12 10:17:00    13.459600\n",
       "2014-03-12 11:17:00    13.070385\n",
       "2014-03-12 12:17:00    13.478750\n",
       "2014-03-12 13:17:00    14.626667\n",
       "2014-03-12 14:17:00    14.698095\n",
       "2014-03-12 15:17:00    15.011429\n",
       "2014-03-12 16:17:00    15.543684\n",
       "2014-03-12 17:17:00    11.806400\n",
       "2014-03-12 18:17:00    12.176875\n",
       "2014-03-12 19:17:00    10.807692\n",
       "2014-03-12 20:17:00    14.542903\n",
       "2014-03-12 21:17:00    11.194333\n",
       "2014-03-12 22:17:00    10.779643\n",
       "2014-03-12 23:17:00    12.050769\n",
       "2014-03-13 00:17:00    21.333333\n",
       "2014-03-13 01:17:00     9.642857\n",
       "2014-03-13 02:17:00    12.666667\n",
       "2014-03-13 03:17:00    13.333333\n",
       "2014-03-13 04:17:00    11.318574\n",
       "2014-03-13 05:17:00     8.400000\n",
       "2014-03-13 06:17:00    20.177333\n",
       "2014-03-13 07:17:00    13.171935\n",
       "2014-03-13 08:17:00    11.719787\n",
       "2014-03-13 09:17:00    10.479167\n",
       "2014-03-13 10:17:00    12.461818\n",
       "2014-03-13 11:17:00    10.300000\n",
       "2014-03-13 12:17:00    14.833000\n",
       "2014-03-13 13:17:00    21.054667\n",
       "Freq: 60T, Name: fare_amount, Length: 45543, dtype: float64"
      ]
     },
     "execution_count": 481,
     "metadata": {},
     "output_type": "execute_result"
    }
   ],
   "source": [
    "train['fare_amount'].fillna(train['fare_amount'].mean())"
   ]
  },
  {
   "cell_type": "code",
   "execution_count": 487,
   "metadata": {},
   "outputs": [],
   "source": [
    "# create class\n",
    "model = SimpleExpSmoothing(train['fare_amount'])"
   ]
  },
  {
   "cell_type": "code",
   "execution_count": 488,
   "metadata": {},
   "outputs": [],
   "source": [
    "# fit model\n",
    "model_fit = model.fit(smoothing_level=0.6,optimized=False)"
   ]
  },
  {
   "cell_type": "code",
   "execution_count": 489,
   "metadata": {},
   "outputs": [],
   "source": [
    "y_hat_avg = test.copy()"
   ]
  },
  {
   "cell_type": "code",
   "execution_count": 490,
   "metadata": {},
   "outputs": [
    {
     "data": {
      "text/plain": [
       "2014-03-13 14:17:00   NaN\n",
       "2014-03-13 15:17:00   NaN\n",
       "2014-03-13 16:17:00   NaN\n",
       "2014-03-13 17:17:00   NaN\n",
       "2014-03-13 18:17:00   NaN\n",
       "2014-03-13 19:17:00   NaN\n",
       "2014-03-13 20:17:00   NaN\n",
       "2014-03-13 21:17:00   NaN\n",
       "2014-03-13 22:17:00   NaN\n",
       "2014-03-13 23:17:00   NaN\n",
       "2014-03-14 00:17:00   NaN\n",
       "2014-03-14 01:17:00   NaN\n",
       "2014-03-14 02:17:00   NaN\n",
       "2014-03-14 03:17:00   NaN\n",
       "2014-03-14 04:17:00   NaN\n",
       "2014-03-14 05:17:00   NaN\n",
       "2014-03-14 06:17:00   NaN\n",
       "2014-03-14 07:17:00   NaN\n",
       "2014-03-14 08:17:00   NaN\n",
       "2014-03-14 09:17:00   NaN\n",
       "2014-03-14 10:17:00   NaN\n",
       "2014-03-14 11:17:00   NaN\n",
       "2014-03-14 12:17:00   NaN\n",
       "2014-03-14 13:17:00   NaN\n",
       "2014-03-14 14:17:00   NaN\n",
       "2014-03-14 15:17:00   NaN\n",
       "2014-03-14 16:17:00   NaN\n",
       "2014-03-14 17:17:00   NaN\n",
       "2014-03-14 18:17:00   NaN\n",
       "2014-03-14 19:17:00   NaN\n",
       "                       ..\n",
       "2015-06-25 14:17:00   NaN\n",
       "2015-06-25 15:17:00   NaN\n",
       "2015-06-25 16:17:00   NaN\n",
       "2015-06-25 17:17:00   NaN\n",
       "2015-06-25 18:17:00   NaN\n",
       "2015-06-25 19:17:00   NaN\n",
       "2015-06-25 20:17:00   NaN\n",
       "2015-06-25 21:17:00   NaN\n",
       "2015-06-25 22:17:00   NaN\n",
       "2015-06-25 23:17:00   NaN\n",
       "2015-06-26 00:17:00   NaN\n",
       "2015-06-26 01:17:00   NaN\n",
       "2015-06-26 02:17:00   NaN\n",
       "2015-06-26 03:17:00   NaN\n",
       "2015-06-26 04:17:00   NaN\n",
       "2015-06-26 05:17:00   NaN\n",
       "2015-06-26 06:17:00   NaN\n",
       "2015-06-26 07:17:00   NaN\n",
       "2015-06-26 08:17:00   NaN\n",
       "2015-06-26 09:17:00   NaN\n",
       "2015-06-26 10:17:00   NaN\n",
       "2015-06-26 11:17:00   NaN\n",
       "2015-06-26 12:17:00   NaN\n",
       "2015-06-26 13:17:00   NaN\n",
       "2015-06-26 14:17:00   NaN\n",
       "2015-06-26 15:17:00   NaN\n",
       "2015-06-26 16:17:00   NaN\n",
       "2015-06-26 17:17:00   NaN\n",
       "2015-06-26 18:17:00   NaN\n",
       "2015-06-26 19:17:00   NaN\n",
       "Freq: 60T, Length: 11286, dtype: float64"
      ]
     },
     "execution_count": 490,
     "metadata": {},
     "output_type": "execute_result"
    }
   ],
   "source": [
    "model_fit.forecast(len(test['fare_amount'])-100)"
   ]
  },
  {
   "cell_type": "code",
   "execution_count": 491,
   "metadata": {},
   "outputs": [
    {
     "ename": "KeyError",
     "evalue": "'SES'",
     "output_type": "error",
     "traceback": [
      "\u001b[1;31m---------------------------------------------------------------------------\u001b[0m",
      "\u001b[1;31mKeyError\u001b[0m                                  Traceback (most recent call last)",
      "\u001b[1;32m~\\Anaconda\\lib\\site-packages\\pandas\\core\\indexes\\base.py\u001b[0m in \u001b[0;36mget_loc\u001b[1;34m(self, key, method, tolerance)\u001b[0m\n\u001b[0;32m   3077\u001b[0m             \u001b[1;32mtry\u001b[0m\u001b[1;33m:\u001b[0m\u001b[1;33m\u001b[0m\u001b[0m\n\u001b[1;32m-> 3078\u001b[1;33m                 \u001b[1;32mreturn\u001b[0m \u001b[0mself\u001b[0m\u001b[1;33m.\u001b[0m\u001b[0m_engine\u001b[0m\u001b[1;33m.\u001b[0m\u001b[0mget_loc\u001b[0m\u001b[1;33m(\u001b[0m\u001b[0mkey\u001b[0m\u001b[1;33m)\u001b[0m\u001b[1;33m\u001b[0m\u001b[0m\n\u001b[0m\u001b[0;32m   3079\u001b[0m             \u001b[1;32mexcept\u001b[0m \u001b[0mKeyError\u001b[0m\u001b[1;33m:\u001b[0m\u001b[1;33m\u001b[0m\u001b[0m\n",
      "\u001b[1;32mpandas\\_libs\\index.pyx\u001b[0m in \u001b[0;36mpandas._libs.index.IndexEngine.get_loc\u001b[1;34m()\u001b[0m\n",
      "\u001b[1;32mpandas\\_libs\\index.pyx\u001b[0m in \u001b[0;36mpandas._libs.index.IndexEngine.get_loc\u001b[1;34m()\u001b[0m\n",
      "\u001b[1;32mpandas\\_libs\\hashtable_class_helper.pxi\u001b[0m in \u001b[0;36mpandas._libs.hashtable.PyObjectHashTable.get_item\u001b[1;34m()\u001b[0m\n",
      "\u001b[1;32mpandas\\_libs\\hashtable_class_helper.pxi\u001b[0m in \u001b[0;36mpandas._libs.hashtable.PyObjectHashTable.get_item\u001b[1;34m()\u001b[0m\n",
      "\u001b[1;31mKeyError\u001b[0m: 'SES'",
      "\nDuring handling of the above exception, another exception occurred:\n",
      "\u001b[1;31mKeyError\u001b[0m                                  Traceback (most recent call last)",
      "\u001b[1;32m<ipython-input-491-8890bcf82e59>\u001b[0m in \u001b[0;36m<module>\u001b[1;34m()\u001b[0m\n\u001b[1;32m----> 1\u001b[1;33m \u001b[0my_hat_avg\u001b[0m\u001b[1;33m[\u001b[0m\u001b[1;34m'SES'\u001b[0m\u001b[1;33m]\u001b[0m\u001b[1;33m\u001b[0m\u001b[0m\n\u001b[0m",
      "\u001b[1;32m~\\Anaconda\\lib\\site-packages\\pandas\\core\\frame.py\u001b[0m in \u001b[0;36m__getitem__\u001b[1;34m(self, key)\u001b[0m\n\u001b[0;32m   2686\u001b[0m             \u001b[1;32mreturn\u001b[0m \u001b[0mself\u001b[0m\u001b[1;33m.\u001b[0m\u001b[0m_getitem_multilevel\u001b[0m\u001b[1;33m(\u001b[0m\u001b[0mkey\u001b[0m\u001b[1;33m)\u001b[0m\u001b[1;33m\u001b[0m\u001b[0m\n\u001b[0;32m   2687\u001b[0m         \u001b[1;32melse\u001b[0m\u001b[1;33m:\u001b[0m\u001b[1;33m\u001b[0m\u001b[0m\n\u001b[1;32m-> 2688\u001b[1;33m             \u001b[1;32mreturn\u001b[0m \u001b[0mself\u001b[0m\u001b[1;33m.\u001b[0m\u001b[0m_getitem_column\u001b[0m\u001b[1;33m(\u001b[0m\u001b[0mkey\u001b[0m\u001b[1;33m)\u001b[0m\u001b[1;33m\u001b[0m\u001b[0m\n\u001b[0m\u001b[0;32m   2689\u001b[0m \u001b[1;33m\u001b[0m\u001b[0m\n\u001b[0;32m   2690\u001b[0m     \u001b[1;32mdef\u001b[0m \u001b[0m_getitem_column\u001b[0m\u001b[1;33m(\u001b[0m\u001b[0mself\u001b[0m\u001b[1;33m,\u001b[0m \u001b[0mkey\u001b[0m\u001b[1;33m)\u001b[0m\u001b[1;33m:\u001b[0m\u001b[1;33m\u001b[0m\u001b[0m\n",
      "\u001b[1;32m~\\Anaconda\\lib\\site-packages\\pandas\\core\\frame.py\u001b[0m in \u001b[0;36m_getitem_column\u001b[1;34m(self, key)\u001b[0m\n\u001b[0;32m   2693\u001b[0m         \u001b[1;31m# get column\u001b[0m\u001b[1;33m\u001b[0m\u001b[1;33m\u001b[0m\u001b[0m\n\u001b[0;32m   2694\u001b[0m         \u001b[1;32mif\u001b[0m \u001b[0mself\u001b[0m\u001b[1;33m.\u001b[0m\u001b[0mcolumns\u001b[0m\u001b[1;33m.\u001b[0m\u001b[0mis_unique\u001b[0m\u001b[1;33m:\u001b[0m\u001b[1;33m\u001b[0m\u001b[0m\n\u001b[1;32m-> 2695\u001b[1;33m             \u001b[1;32mreturn\u001b[0m \u001b[0mself\u001b[0m\u001b[1;33m.\u001b[0m\u001b[0m_get_item_cache\u001b[0m\u001b[1;33m(\u001b[0m\u001b[0mkey\u001b[0m\u001b[1;33m)\u001b[0m\u001b[1;33m\u001b[0m\u001b[0m\n\u001b[0m\u001b[0;32m   2696\u001b[0m \u001b[1;33m\u001b[0m\u001b[0m\n\u001b[0;32m   2697\u001b[0m         \u001b[1;31m# duplicate columns & possible reduce dimensionality\u001b[0m\u001b[1;33m\u001b[0m\u001b[1;33m\u001b[0m\u001b[0m\n",
      "\u001b[1;32m~\\Anaconda\\lib\\site-packages\\pandas\\core\\generic.py\u001b[0m in \u001b[0;36m_get_item_cache\u001b[1;34m(self, item)\u001b[0m\n\u001b[0;32m   2487\u001b[0m         \u001b[0mres\u001b[0m \u001b[1;33m=\u001b[0m \u001b[0mcache\u001b[0m\u001b[1;33m.\u001b[0m\u001b[0mget\u001b[0m\u001b[1;33m(\u001b[0m\u001b[0mitem\u001b[0m\u001b[1;33m)\u001b[0m\u001b[1;33m\u001b[0m\u001b[0m\n\u001b[0;32m   2488\u001b[0m         \u001b[1;32mif\u001b[0m \u001b[0mres\u001b[0m \u001b[1;32mis\u001b[0m \u001b[1;32mNone\u001b[0m\u001b[1;33m:\u001b[0m\u001b[1;33m\u001b[0m\u001b[0m\n\u001b[1;32m-> 2489\u001b[1;33m             \u001b[0mvalues\u001b[0m \u001b[1;33m=\u001b[0m \u001b[0mself\u001b[0m\u001b[1;33m.\u001b[0m\u001b[0m_data\u001b[0m\u001b[1;33m.\u001b[0m\u001b[0mget\u001b[0m\u001b[1;33m(\u001b[0m\u001b[0mitem\u001b[0m\u001b[1;33m)\u001b[0m\u001b[1;33m\u001b[0m\u001b[0m\n\u001b[0m\u001b[0;32m   2490\u001b[0m             \u001b[0mres\u001b[0m \u001b[1;33m=\u001b[0m \u001b[0mself\u001b[0m\u001b[1;33m.\u001b[0m\u001b[0m_box_item_values\u001b[0m\u001b[1;33m(\u001b[0m\u001b[0mitem\u001b[0m\u001b[1;33m,\u001b[0m \u001b[0mvalues\u001b[0m\u001b[1;33m)\u001b[0m\u001b[1;33m\u001b[0m\u001b[0m\n\u001b[0;32m   2491\u001b[0m             \u001b[0mcache\u001b[0m\u001b[1;33m[\u001b[0m\u001b[0mitem\u001b[0m\u001b[1;33m]\u001b[0m \u001b[1;33m=\u001b[0m \u001b[0mres\u001b[0m\u001b[1;33m\u001b[0m\u001b[0m\n",
      "\u001b[1;32m~\\Anaconda\\lib\\site-packages\\pandas\\core\\internals.py\u001b[0m in \u001b[0;36mget\u001b[1;34m(self, item, fastpath)\u001b[0m\n\u001b[0;32m   4113\u001b[0m \u001b[1;33m\u001b[0m\u001b[0m\n\u001b[0;32m   4114\u001b[0m             \u001b[1;32mif\u001b[0m \u001b[1;32mnot\u001b[0m \u001b[0misna\u001b[0m\u001b[1;33m(\u001b[0m\u001b[0mitem\u001b[0m\u001b[1;33m)\u001b[0m\u001b[1;33m:\u001b[0m\u001b[1;33m\u001b[0m\u001b[0m\n\u001b[1;32m-> 4115\u001b[1;33m                 \u001b[0mloc\u001b[0m \u001b[1;33m=\u001b[0m \u001b[0mself\u001b[0m\u001b[1;33m.\u001b[0m\u001b[0mitems\u001b[0m\u001b[1;33m.\u001b[0m\u001b[0mget_loc\u001b[0m\u001b[1;33m(\u001b[0m\u001b[0mitem\u001b[0m\u001b[1;33m)\u001b[0m\u001b[1;33m\u001b[0m\u001b[0m\n\u001b[0m\u001b[0;32m   4116\u001b[0m             \u001b[1;32melse\u001b[0m\u001b[1;33m:\u001b[0m\u001b[1;33m\u001b[0m\u001b[0m\n\u001b[0;32m   4117\u001b[0m                 \u001b[0mindexer\u001b[0m \u001b[1;33m=\u001b[0m \u001b[0mnp\u001b[0m\u001b[1;33m.\u001b[0m\u001b[0marange\u001b[0m\u001b[1;33m(\u001b[0m\u001b[0mlen\u001b[0m\u001b[1;33m(\u001b[0m\u001b[0mself\u001b[0m\u001b[1;33m.\u001b[0m\u001b[0mitems\u001b[0m\u001b[1;33m)\u001b[0m\u001b[1;33m)\u001b[0m\u001b[1;33m[\u001b[0m\u001b[0misna\u001b[0m\u001b[1;33m(\u001b[0m\u001b[0mself\u001b[0m\u001b[1;33m.\u001b[0m\u001b[0mitems\u001b[0m\u001b[1;33m)\u001b[0m\u001b[1;33m]\u001b[0m\u001b[1;33m\u001b[0m\u001b[0m\n",
      "\u001b[1;32m~\\Anaconda\\lib\\site-packages\\pandas\\core\\indexes\\base.py\u001b[0m in \u001b[0;36mget_loc\u001b[1;34m(self, key, method, tolerance)\u001b[0m\n\u001b[0;32m   3078\u001b[0m                 \u001b[1;32mreturn\u001b[0m \u001b[0mself\u001b[0m\u001b[1;33m.\u001b[0m\u001b[0m_engine\u001b[0m\u001b[1;33m.\u001b[0m\u001b[0mget_loc\u001b[0m\u001b[1;33m(\u001b[0m\u001b[0mkey\u001b[0m\u001b[1;33m)\u001b[0m\u001b[1;33m\u001b[0m\u001b[0m\n\u001b[0;32m   3079\u001b[0m             \u001b[1;32mexcept\u001b[0m \u001b[0mKeyError\u001b[0m\u001b[1;33m:\u001b[0m\u001b[1;33m\u001b[0m\u001b[0m\n\u001b[1;32m-> 3080\u001b[1;33m                 \u001b[1;32mreturn\u001b[0m \u001b[0mself\u001b[0m\u001b[1;33m.\u001b[0m\u001b[0m_engine\u001b[0m\u001b[1;33m.\u001b[0m\u001b[0mget_loc\u001b[0m\u001b[1;33m(\u001b[0m\u001b[0mself\u001b[0m\u001b[1;33m.\u001b[0m\u001b[0m_maybe_cast_indexer\u001b[0m\u001b[1;33m(\u001b[0m\u001b[0mkey\u001b[0m\u001b[1;33m)\u001b[0m\u001b[1;33m)\u001b[0m\u001b[1;33m\u001b[0m\u001b[0m\n\u001b[0m\u001b[0;32m   3081\u001b[0m \u001b[1;33m\u001b[0m\u001b[0m\n\u001b[0;32m   3082\u001b[0m         \u001b[0mindexer\u001b[0m \u001b[1;33m=\u001b[0m \u001b[0mself\u001b[0m\u001b[1;33m.\u001b[0m\u001b[0mget_indexer\u001b[0m\u001b[1;33m(\u001b[0m\u001b[1;33m[\u001b[0m\u001b[0mkey\u001b[0m\u001b[1;33m]\u001b[0m\u001b[1;33m,\u001b[0m \u001b[0mmethod\u001b[0m\u001b[1;33m=\u001b[0m\u001b[0mmethod\u001b[0m\u001b[1;33m,\u001b[0m \u001b[0mtolerance\u001b[0m\u001b[1;33m=\u001b[0m\u001b[0mtolerance\u001b[0m\u001b[1;33m)\u001b[0m\u001b[1;33m\u001b[0m\u001b[0m\n",
      "\u001b[1;32mpandas\\_libs\\index.pyx\u001b[0m in \u001b[0;36mpandas._libs.index.IndexEngine.get_loc\u001b[1;34m()\u001b[0m\n",
      "\u001b[1;32mpandas\\_libs\\index.pyx\u001b[0m in \u001b[0;36mpandas._libs.index.IndexEngine.get_loc\u001b[1;34m()\u001b[0m\n",
      "\u001b[1;32mpandas\\_libs\\hashtable_class_helper.pxi\u001b[0m in \u001b[0;36mpandas._libs.hashtable.PyObjectHashTable.get_item\u001b[1;34m()\u001b[0m\n",
      "\u001b[1;32mpandas\\_libs\\hashtable_class_helper.pxi\u001b[0m in \u001b[0;36mpandas._libs.hashtable.PyObjectHashTable.get_item\u001b[1;34m()\u001b[0m\n",
      "\u001b[1;31mKeyError\u001b[0m: 'SES'"
     ]
    }
   ],
   "source": [
    "y_hat_avg['SES']"
   ]
  },
  {
   "cell_type": "code",
   "execution_count": 446,
   "metadata": {},
   "outputs": [
    {
     "data": {
      "text/plain": [
       "<matplotlib.legend.Legend at 0x77f4fc88>"
      ]
     },
     "execution_count": 446,
     "metadata": {},
     "output_type": "execute_result"
    },
    {
     "data": {
      "image/png": "[encoded data removed]",
      "text/plain": [
       "<Figure size 1152x576 with 1 Axes>"
      ]
     },
     "metadata": {
      "needs_background": "light"
     },
     "output_type": "display_data"
    }
   ],
   "source": [
    "plt.figure(figsize=(16,8))\n",
    "plt.plot(train['fare_amount'], label='Train')\n",
    "plt.plot(test['fare_amount'], label='Test')\n",
    "plt.plot(y_hat_avg['SES'], label='SES')\n",
    "plt.legend(loc='best')"
   ]
  },
  {
   "cell_type": "code",
   "execution_count": null,
   "metadata": {},
   "outputs": [],
   "source": []
  }
 ],
 "metadata": {
  "kernelspec": {
   "display_name": "Python 3",
   "language": "python",
   "name": "python3"
  },
  "language_info": {
   "codemirror_mode": {
    "name": "ipython",
    "version": 3
   },
   "file_extension": ".py",
   "mimetype": "text/x-python",
   "name": "python",
   "nbconvert_exporter": "python",
   "pygments_lexer": "ipython3",
   "version": "3.7.0"
  }
 },
 "nbformat": 4,
 "nbformat_minor": 2
}
