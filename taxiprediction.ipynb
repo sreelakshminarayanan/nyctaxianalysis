{
 "cells": [
  {
   "cell_type": "code",
   "execution_count": 2,
   "metadata": {},
   "outputs": [],
   "source": [
    "# Initial Python environment setup...\n",
    "import numpy as np # linear algebra\n",
    "import pandas as pd # CSV file I/O (e.g. pd.read_csv)\n",
    "import os # reading the input files we have access to"
   ]
  },
  {
   "cell_type": "code",
   "execution_count": 20,
   "metadata": {},
   "outputs": [],
   "source": [
    "from haversine import haversine\n",
    "# packages for mapping\n"
   ]
  },
  {
   "cell_type": "code",
   "execution_count": 21,
   "metadata": {},
   "outputs": [
    {
     "data": {
      "text/plain": [
       "key                   object\n",
       "fare_amount          float64\n",
       "pickup_datetime       object\n",
       "pickup_longitude     float64\n",
       "pickup_latitude      float64\n",
       "dropoff_longitude    float64\n",
       "dropoff_latitude     float64\n",
       "passenger_count        int64\n",
       "dtype: object"
      ]
     },
     "execution_count": 21,
     "metadata": {},
     "output_type": "execute_result"
    }
   ],
   "source": [
    "train_df =  pd.read_csv('train.csv', nrows = 10_000_00)\n",
    "train_df.dtypes"
   ]
  },
  {
   "cell_type": "code",
   "execution_count": 22,
   "metadata": {},
   "outputs": [
    {
     "data": {
      "text/html": [
       "<div>\n",
       "<style scoped>\n",
       "    .dataframe tbody tr th:only-of-type {\n",
       "        vertical-align: middle;\n",
       "    }\n",
       "\n",
       "    .dataframe tbody tr th {\n",
       "        vertical-align: top;\n",
       "    }\n",
       "\n",
       "    .dataframe thead th {\n",
       "        text-align: right;\n",
       "    }\n",
       "</style>\n",
       "<table border=\"1\" class=\"dataframe\">\n",
       "  <thead>\n",
       "    <tr style=\"text-align: right;\">\n",
       "      <th></th>\n",
       "      <th>key</th>\n",
       "      <th>fare_amount</th>\n",
       "      <th>pickup_datetime</th>\n",
       "      <th>pickup_longitude</th>\n",
       "      <th>pickup_latitude</th>\n",
       "      <th>dropoff_longitude</th>\n",
       "      <th>dropoff_latitude</th>\n",
       "      <th>passenger_count</th>\n",
       "    </tr>\n",
       "  </thead>\n",
       "  <tbody>\n",
       "    <tr>\n",
       "      <th>0</th>\n",
       "      <td>2009-06-15 17:26:21.0000001</td>\n",
       "      <td>4.5</td>\n",
       "      <td>2009-06-15 17:26:21 UTC</td>\n",
       "      <td>-73.844311</td>\n",
       "      <td>40.721319</td>\n",
       "      <td>-73.841610</td>\n",
       "      <td>40.712278</td>\n",
       "      <td>1</td>\n",
       "    </tr>\n",
       "    <tr>\n",
       "      <th>1</th>\n",
       "      <td>2010-01-05 16:52:16.0000002</td>\n",
       "      <td>16.9</td>\n",
       "      <td>2010-01-05 16:52:16 UTC</td>\n",
       "      <td>-74.016048</td>\n",
       "      <td>40.711303</td>\n",
       "      <td>-73.979268</td>\n",
       "      <td>40.782004</td>\n",
       "      <td>1</td>\n",
       "    </tr>\n",
       "    <tr>\n",
       "      <th>2</th>\n",
       "      <td>2011-08-18 00:35:00.00000049</td>\n",
       "      <td>5.7</td>\n",
       "      <td>2011-08-18 00:35:00 UTC</td>\n",
       "      <td>-73.982738</td>\n",
       "      <td>40.761270</td>\n",
       "      <td>-73.991242</td>\n",
       "      <td>40.750562</td>\n",
       "      <td>2</td>\n",
       "    </tr>\n",
       "    <tr>\n",
       "      <th>3</th>\n",
       "      <td>2012-04-21 04:30:42.0000001</td>\n",
       "      <td>7.7</td>\n",
       "      <td>2012-04-21 04:30:42 UTC</td>\n",
       "      <td>-73.987130</td>\n",
       "      <td>40.733143</td>\n",
       "      <td>-73.991567</td>\n",
       "      <td>40.758092</td>\n",
       "      <td>1</td>\n",
       "    </tr>\n",
       "    <tr>\n",
       "      <th>4</th>\n",
       "      <td>2010-03-09 07:51:00.000000135</td>\n",
       "      <td>5.3</td>\n",
       "      <td>2010-03-09 07:51:00 UTC</td>\n",
       "      <td>-73.968095</td>\n",
       "      <td>40.768008</td>\n",
       "      <td>-73.956655</td>\n",
       "      <td>40.783762</td>\n",
       "      <td>1</td>\n",
       "    </tr>\n",
       "  </tbody>\n",
       "</table>\n",
       "</div>"
      ],
      "text/plain": [
       "                             key  fare_amount          pickup_datetime  \\\n",
       "0    2009-06-15 17:26:21.0000001          4.5  2009-06-15 17:26:21 UTC   \n",
       "1    2010-01-05 16:52:16.0000002         16.9  2010-01-05 16:52:16 UTC   \n",
       "2   2011-08-18 00:35:00.00000049          5.7  2011-08-18 00:35:00 UTC   \n",
       "3    2012-04-21 04:30:42.0000001          7.7  2012-04-21 04:30:42 UTC   \n",
       "4  2010-03-09 07:51:00.000000135          5.3  2010-03-09 07:51:00 UTC   \n",
       "\n",
       "   pickup_longitude  pickup_latitude  dropoff_longitude  dropoff_latitude  \\\n",
       "0        -73.844311        40.721319         -73.841610         40.712278   \n",
       "1        -74.016048        40.711303         -73.979268         40.782004   \n",
       "2        -73.982738        40.761270         -73.991242         40.750562   \n",
       "3        -73.987130        40.733143         -73.991567         40.758092   \n",
       "4        -73.968095        40.768008         -73.956655         40.783762   \n",
       "\n",
       "   passenger_count  \n",
       "0                1  \n",
       "1                1  \n",
       "2                2  \n",
       "3                1  \n",
       "4                1  "
      ]
     },
     "execution_count": 22,
     "metadata": {},
     "output_type": "execute_result"
    }
   ],
   "source": [
    "train_df.head()"
   ]
  },
  {
   "cell_type": "code",
   "execution_count": 3,
   "metadata": {},
   "outputs": [],
   "source": [
    "import matplotlib.pyplot as plt\n",
    "import plotly.figure_factory as ff\n",
    "from plotly.offline import init_notebook_mode, iplot\n",
    "import plotly.graph_objs as go\n",
    "import plotly.plotly as py\n",
    "from plotly import tools\n",
    "%matplotlib inline"
   ]
  },
  {
   "cell_type": "code",
   "execution_count": 24,
   "metadata": {},
   "outputs": [],
   "source": [
    "train_df['pickup_datetime']= pd.to_datetime(train_df['pickup_datetime'])\n"
   ]
  },
  {
   "cell_type": "code",
   "execution_count": 25,
   "metadata": {},
   "outputs": [],
   "source": [
    "train_df['pickup_day_of_week']=train_df['pickup_datetime'].dt.dayofweek"
   ]
  },
  {
   "cell_type": "code",
   "execution_count": 26,
   "metadata": {},
   "outputs": [],
   "source": [
    "train_df['pickup_month']=train_df['pickup_datetime'].dt.month"
   ]
  },
  {
   "cell_type": "code",
   "execution_count": 27,
   "metadata": {},
   "outputs": [
    {
     "data": {
      "text/html": [
       "<div>\n",
       "<style scoped>\n",
       "    .dataframe tbody tr th:only-of-type {\n",
       "        vertical-align: middle;\n",
       "    }\n",
       "\n",
       "    .dataframe tbody tr th {\n",
       "        vertical-align: top;\n",
       "    }\n",
       "\n",
       "    .dataframe thead th {\n",
       "        text-align: right;\n",
       "    }\n",
       "</style>\n",
       "<table border=\"1\" class=\"dataframe\">\n",
       "  <thead>\n",
       "    <tr style=\"text-align: right;\">\n",
       "      <th></th>\n",
       "      <th>key</th>\n",
       "      <th>fare_amount</th>\n",
       "      <th>pickup_datetime</th>\n",
       "      <th>pickup_longitude</th>\n",
       "      <th>pickup_latitude</th>\n",
       "      <th>dropoff_longitude</th>\n",
       "      <th>dropoff_latitude</th>\n",
       "      <th>passenger_count</th>\n",
       "      <th>pickup_day_of_week</th>\n",
       "      <th>pickup_month</th>\n",
       "    </tr>\n",
       "  </thead>\n",
       "  <tbody>\n",
       "    <tr>\n",
       "      <th>999995</th>\n",
       "      <td>2014-09-13 21:44:38.0000001</td>\n",
       "      <td>7.0</td>\n",
       "      <td>2014-09-13 21:44:38</td>\n",
       "      <td>-73.976676</td>\n",
       "      <td>40.785630</td>\n",
       "      <td>-73.959196</td>\n",
       "      <td>40.775114</td>\n",
       "      <td>1</td>\n",
       "      <td>5</td>\n",
       "      <td>9</td>\n",
       "    </tr>\n",
       "    <tr>\n",
       "      <th>999996</th>\n",
       "      <td>2010-09-20 14:50:37.0000002</td>\n",
       "      <td>7.3</td>\n",
       "      <td>2010-09-20 14:50:37</td>\n",
       "      <td>-73.992103</td>\n",
       "      <td>40.671385</td>\n",
       "      <td>-73.992103</td>\n",
       "      <td>40.671385</td>\n",
       "      <td>2</td>\n",
       "      <td>0</td>\n",
       "      <td>9</td>\n",
       "    </tr>\n",
       "    <tr>\n",
       "      <th>999997</th>\n",
       "      <td>2013-04-26 14:03:00.000000118</td>\n",
       "      <td>10.5</td>\n",
       "      <td>2013-04-26 14:03:00</td>\n",
       "      <td>-73.978423</td>\n",
       "      <td>40.751135</td>\n",
       "      <td>-73.993397</td>\n",
       "      <td>40.762197</td>\n",
       "      <td>5</td>\n",
       "      <td>4</td>\n",
       "      <td>4</td>\n",
       "    </tr>\n",
       "    <tr>\n",
       "      <th>999998</th>\n",
       "      <td>2011-07-08 00:29:00.00000099</td>\n",
       "      <td>6.9</td>\n",
       "      <td>2011-07-08 00:29:00</td>\n",
       "      <td>-73.980317</td>\n",
       "      <td>40.759482</td>\n",
       "      <td>-73.976832</td>\n",
       "      <td>40.743122</td>\n",
       "      <td>1</td>\n",
       "      <td>4</td>\n",
       "      <td>7</td>\n",
       "    </tr>\n",
       "    <tr>\n",
       "      <th>999999</th>\n",
       "      <td>2009-12-31 14:30:00.00000021</td>\n",
       "      <td>4.1</td>\n",
       "      <td>2009-12-31 14:30:00</td>\n",
       "      <td>-74.006635</td>\n",
       "      <td>40.741598</td>\n",
       "      <td>-73.999450</td>\n",
       "      <td>40.745702</td>\n",
       "      <td>1</td>\n",
       "      <td>3</td>\n",
       "      <td>12</td>\n",
       "    </tr>\n",
       "  </tbody>\n",
       "</table>\n",
       "</div>"
      ],
      "text/plain": [
       "                                  key  fare_amount     pickup_datetime  \\\n",
       "999995    2014-09-13 21:44:38.0000001          7.0 2014-09-13 21:44:38   \n",
       "999996    2010-09-20 14:50:37.0000002          7.3 2010-09-20 14:50:37   \n",
       "999997  2013-04-26 14:03:00.000000118         10.5 2013-04-26 14:03:00   \n",
       "999998   2011-07-08 00:29:00.00000099          6.9 2011-07-08 00:29:00   \n",
       "999999   2009-12-31 14:30:00.00000021          4.1 2009-12-31 14:30:00   \n",
       "\n",
       "        pickup_longitude  pickup_latitude  dropoff_longitude  \\\n",
       "999995        -73.976676        40.785630         -73.959196   \n",
       "999996        -73.992103        40.671385         -73.992103   \n",
       "999997        -73.978423        40.751135         -73.993397   \n",
       "999998        -73.980317        40.759482         -73.976832   \n",
       "999999        -74.006635        40.741598         -73.999450   \n",
       "\n",
       "        dropoff_latitude  passenger_count  pickup_day_of_week  pickup_month  \n",
       "999995         40.775114                1                   5             9  \n",
       "999996         40.671385                2                   0             9  \n",
       "999997         40.762197                5                   4             4  \n",
       "999998         40.743122                1                   4             7  \n",
       "999999         40.745702                1                   3            12  "
      ]
     },
     "execution_count": 27,
     "metadata": {},
     "output_type": "execute_result"
    }
   ],
   "source": [
    "train_df.tail()"
   ]
  },
  {
   "cell_type": "code",
   "execution_count": 28,
   "metadata": {},
   "outputs": [],
   "source": [
    "train_df['pickup_date']=train_df['pickup_datetime'].dt.date"
   ]
  },
  {
   "cell_type": "code",
   "execution_count": 29,
   "metadata": {},
   "outputs": [
    {
     "data": {
      "text/plain": [
       "array(['2009-06-15 17:26:21.0000001', '2010-01-05 16:52:16.0000002',\n",
       "       '2011-08-18 00:35:00.00000049', ...,\n",
       "       '2013-04-26 14:03:00.000000118', '2011-07-08 00:29:00.00000099',\n",
       "       '2009-12-31 14:30:00.00000021'], dtype=object)"
      ]
     },
     "execution_count": 29,
     "metadata": {},
     "output_type": "execute_result"
    }
   ],
   "source": [
    "train_df['key'].unique()\n"
   ]
  },
  {
   "cell_type": "code",
   "execution_count": 30,
   "metadata": {},
   "outputs": [
    {
     "data": {
      "text/html": [
       "<div>\n",
       "<style scoped>\n",
       "    .dataframe tbody tr th:only-of-type {\n",
       "        vertical-align: middle;\n",
       "    }\n",
       "\n",
       "    .dataframe tbody tr th {\n",
       "        vertical-align: top;\n",
       "    }\n",
       "\n",
       "    .dataframe thead th {\n",
       "        text-align: right;\n",
       "    }\n",
       "</style>\n",
       "<table border=\"1\" class=\"dataframe\">\n",
       "  <thead>\n",
       "    <tr style=\"text-align: right;\">\n",
       "      <th></th>\n",
       "      <th>key</th>\n",
       "      <th>fare_amount</th>\n",
       "      <th>pickup_datetime</th>\n",
       "      <th>pickup_longitude</th>\n",
       "      <th>pickup_latitude</th>\n",
       "      <th>dropoff_longitude</th>\n",
       "      <th>dropoff_latitude</th>\n",
       "      <th>passenger_count</th>\n",
       "      <th>pickup_day_of_week</th>\n",
       "      <th>pickup_month</th>\n",
       "      <th>pickup_date</th>\n",
       "    </tr>\n",
       "  </thead>\n",
       "  <tbody>\n",
       "  </tbody>\n",
       "</table>\n",
       "</div>"
      ],
      "text/plain": [
       "Empty DataFrame\n",
       "Columns: [key, fare_amount, pickup_datetime, pickup_longitude, pickup_latitude, dropoff_longitude, dropoff_latitude, passenger_count, pickup_day_of_week, pickup_month, pickup_date]\n",
       "Index: []"
      ]
     },
     "execution_count": 30,
     "metadata": {},
     "output_type": "execute_result"
    }
   ],
   "source": [
    "train_df.loc[train_df[\"pickup_date\"] == \"2009-12-31\"]"
   ]
  },
  {
   "cell_type": "code",
   "execution_count": 31,
   "metadata": {},
   "outputs": [
    {
     "data": {
      "text/html": [
       "<div>\n",
       "<style scoped>\n",
       "    .dataframe tbody tr th:only-of-type {\n",
       "        vertical-align: middle;\n",
       "    }\n",
       "\n",
       "    .dataframe tbody tr th {\n",
       "        vertical-align: top;\n",
       "    }\n",
       "\n",
       "    .dataframe thead th {\n",
       "        text-align: right;\n",
       "    }\n",
       "</style>\n",
       "<table border=\"1\" class=\"dataframe\">\n",
       "  <thead>\n",
       "    <tr style=\"text-align: right;\">\n",
       "      <th></th>\n",
       "      <th>key</th>\n",
       "      <th>fare_amount</th>\n",
       "      <th>pickup_datetime</th>\n",
       "      <th>pickup_longitude</th>\n",
       "      <th>pickup_latitude</th>\n",
       "      <th>dropoff_longitude</th>\n",
       "      <th>dropoff_latitude</th>\n",
       "      <th>passenger_count</th>\n",
       "      <th>pickup_day_of_week</th>\n",
       "      <th>pickup_month</th>\n",
       "      <th>pickup_date</th>\n",
       "    </tr>\n",
       "  </thead>\n",
       "  <tbody>\n",
       "  </tbody>\n",
       "</table>\n",
       "</div>"
      ],
      "text/plain": [
       "Empty DataFrame\n",
       "Columns: [key, fare_amount, pickup_datetime, pickup_longitude, pickup_latitude, dropoff_longitude, dropoff_latitude, passenger_count, pickup_day_of_week, pickup_month, pickup_date]\n",
       "Index: []"
      ]
     },
     "execution_count": 31,
     "metadata": {},
     "output_type": "execute_result"
    }
   ],
   "source": [
    "train_df.loc[train_df[\"key\"] == \"756707\"]"
   ]
  },
  {
   "cell_type": "code",
   "execution_count": 32,
   "metadata": {},
   "outputs": [
    {
     "data": {
      "text/plain": [
       "key                           object\n",
       "fare_amount                  float64\n",
       "pickup_datetime       datetime64[ns]\n",
       "pickup_longitude             float64\n",
       "pickup_latitude              float64\n",
       "dropoff_longitude            float64\n",
       "dropoff_latitude             float64\n",
       "passenger_count                int64\n",
       "pickup_day_of_week             int64\n",
       "pickup_month                   int64\n",
       "pickup_date                   object\n",
       "dtype: object"
      ]
     },
     "execution_count": 32,
     "metadata": {},
     "output_type": "execute_result"
    }
   ],
   "source": [
    "train_df.dtypes"
   ]
  },
  {
   "cell_type": "code",
   "execution_count": 33,
   "metadata": {},
   "outputs": [],
   "source": [
    "train_df['pickup_date'] =train_df['pickup_date'].astype(str)\n"
   ]
  },
  {
   "cell_type": "code",
   "execution_count": 34,
   "metadata": {},
   "outputs": [
    {
     "data": {
      "text/plain": [
       "key                           object\n",
       "fare_amount                  float64\n",
       "pickup_datetime       datetime64[ns]\n",
       "pickup_longitude             float64\n",
       "pickup_latitude              float64\n",
       "dropoff_longitude            float64\n",
       "dropoff_latitude             float64\n",
       "passenger_count                int64\n",
       "pickup_day_of_week             int64\n",
       "pickup_month                   int64\n",
       "pickup_date                   object\n",
       "dtype: object"
      ]
     },
     "execution_count": 34,
     "metadata": {},
     "output_type": "execute_result"
    }
   ],
   "source": [
    "train_df.dtypes"
   ]
  },
  {
   "cell_type": "code",
   "execution_count": 35,
   "metadata": {},
   "outputs": [
    {
     "data": {
      "text/plain": [
       "<matplotlib.axes._subplots.AxesSubplot at 0x2d190860>"
      ]
     },
     "execution_count": 35,
     "metadata": {},
     "output_type": "execute_result"
    },
    {
     "data": {
      "image/png": "[encoded data removed]",
      "text/plain": [
       "<Figure size 432x288 with 1 Axes>"
      ]
     },
     "metadata": {
      "needs_background": "light"
     },
     "output_type": "display_data"
    }
   ],
   "source": [
    "train_df[\"pickup_month\"].value_counts().sort_index().plot()"
   ]
  },
  {
   "cell_type": "code",
   "execution_count": 36,
   "metadata": {},
   "outputs": [],
   "source": [
    "train_df.sort_values('pickup_day_of_week', ascending = True, inplace= True)"
   ]
  },
  {
   "cell_type": "code",
   "execution_count": 37,
   "metadata": {},
   "outputs": [
    {
     "data": {
      "text/plain": [
       "<matplotlib.axes._subplots.AxesSubplot at 0x27064860>"
      ]
     },
     "execution_count": 37,
     "metadata": {},
     "output_type": "execute_result"
    },
    {
     "data": {
      "image/png": "[encoded data removed]",
      "text/plain": [
       "<Figure size 432x288 with 1 Axes>"
      ]
     },
     "metadata": {
      "needs_background": "light"
     },
     "output_type": "display_data"
    }
   ],
   "source": [
    "train_df[\"pickup_day_of_week\"].value_counts().sort_index().plot()"
   ]
  },
  {
   "cell_type": "code",
   "execution_count": 38,
   "metadata": {},
   "outputs": [],
   "source": [
    "train_df['pickup_hour']=train_df['pickup_datetime'].dt.hour"
   ]
  },
  {
   "cell_type": "code",
   "execution_count": 39,
   "metadata": {},
   "outputs": [
    {
     "data": {
      "text/plain": [
       "<matplotlib.axes._subplots.AxesSubplot at 0x256a87f0>"
      ]
     },
     "execution_count": 39,
     "metadata": {},
     "output_type": "execute_result"
    },
    {
     "data": {
      "image/png": "[encoded data removed]",
      "text/plain": [
       "<Figure size 432x288 with 1 Axes>"
      ]
     },
     "metadata": {
      "needs_background": "light"
     },
     "output_type": "display_data"
    }
   ],
   "source": [
    "train_df['pickup_hour'].value_counts().sort_index().plot()"
   ]
  },
  {
   "cell_type": "code",
   "execution_count": 40,
   "metadata": {},
   "outputs": [],
   "source": [
    "train_df['pickup_year']=train_df['pickup_datetime'].dt.year"
   ]
  },
  {
   "cell_type": "code",
   "execution_count": 41,
   "metadata": {},
   "outputs": [
    {
     "data": {
      "text/plain": [
       "<matplotlib.axes._subplots.AxesSubplot at 0x25702eb8>"
      ]
     },
     "execution_count": 41,
     "metadata": {},
     "output_type": "execute_result"
    },
    {
     "data": {
      "image/png": "[encoded data removed]",
      "text/plain": [
       "<Figure size 432x288 with 1 Axes>"
      ]
     },
     "metadata": {
      "needs_background": "light"
     },
     "output_type": "display_data"
    }
   ],
   "source": [
    "train_df['pickup_year'].value_counts().sort_index().plot()"
   ]
  },
  {
   "cell_type": "code",
   "execution_count": 42,
   "metadata": {},
   "outputs": [
    {
     "data": {
      "text/plain": [
       "<matplotlib.axes._subplots.AxesSubplot at 0x24eb1b70>"
      ]
     },
     "execution_count": 42,
     "metadata": {},
     "output_type": "execute_result"
    },
    {
     "data": {
      "image/png": "[encoded data removed]",
      "text/plain": [
       "<Figure size 432x288 with 1 Axes>"
      ]
     },
     "metadata": {
      "needs_background": "light"
     },
     "output_type": "display_data"
    }
   ],
   "source": [
    "train_df.groupby('pickup_hour')['fare_amount'].mean().plot()"
   ]
  },
  {
   "cell_type": "code",
   "execution_count": 43,
   "metadata": {},
   "outputs": [
    {
     "data": {
      "text/plain": [
       "<matplotlib.axes._subplots.AxesSubplot at 0x257b35f8>"
      ]
     },
     "execution_count": 43,
     "metadata": {},
     "output_type": "execute_result"
    },
    {
     "data": {
      "image/png": "[encoded data removed]",
      "text/plain": [
       "<Figure size 432x288 with 1 Axes>"
      ]
     },
     "metadata": {
      "needs_background": "light"
     },
     "output_type": "display_data"
    }
   ],
   "source": [
    "train_df.groupby('pickup_day_of_week')['fare_amount'].mean().plot()"
   ]
  },
  {
   "cell_type": "code",
   "execution_count": 44,
   "metadata": {},
   "outputs": [
    {
     "data": {
      "text/plain": [
       "<matplotlib.axes._subplots.AxesSubplot at 0x2580d908>"
      ]
     },
     "execution_count": 44,
     "metadata": {},
     "output_type": "execute_result"
    },
    {
     "data": {
      "image/png": "[encoded data removed]",
      "text/plain": [
       "<Figure size 432x288 with 1 Axes>"
      ]
     },
     "metadata": {
      "needs_background": "light"
     },
     "output_type": "display_data"
    }
   ],
   "source": [
    "train_df.groupby('pickup_month')['fare_amount'].mean().plot()"
   ]
  },
  {
   "cell_type": "code",
   "execution_count": 45,
   "metadata": {},
   "outputs": [
    {
     "name": "stdout",
     "output_type": "stream",
     "text": [
      "<class 'pandas.core.frame.DataFrame'>\n",
      "Int64Index: 1000000 entries, 0 to 305517\n",
      "Data columns (total 13 columns):\n",
      "key                   1000000 non-null object\n",
      "fare_amount           1000000 non-null float64\n",
      "pickup_datetime       1000000 non-null datetime64[ns]\n",
      "pickup_longitude      1000000 non-null float64\n",
      "pickup_latitude       1000000 non-null float64\n",
      "dropoff_longitude     999990 non-null float64\n",
      "dropoff_latitude      999990 non-null float64\n",
      "passenger_count       1000000 non-null int64\n",
      "pickup_day_of_week    1000000 non-null int64\n",
      "pickup_month          1000000 non-null int64\n",
      "pickup_date           1000000 non-null object\n",
      "pickup_hour           1000000 non-null int64\n",
      "pickup_year           1000000 non-null int64\n",
      "dtypes: datetime64[ns](1), float64(5), int64(5), object(2)\n",
      "memory usage: 106.8+ MB\n"
     ]
    }
   ],
   "source": [
    "train_df.info()"
   ]
  },
  {
   "cell_type": "code",
   "execution_count": 46,
   "metadata": {},
   "outputs": [
    {
     "data": {
      "text/html": [
       "<div>\n",
       "<style scoped>\n",
       "    .dataframe tbody tr th:only-of-type {\n",
       "        vertical-align: middle;\n",
       "    }\n",
       "\n",
       "    .dataframe tbody tr th {\n",
       "        vertical-align: top;\n",
       "    }\n",
       "\n",
       "    .dataframe thead th {\n",
       "        text-align: right;\n",
       "    }\n",
       "</style>\n",
       "<table border=\"1\" class=\"dataframe\">\n",
       "  <thead>\n",
       "    <tr style=\"text-align: right;\">\n",
       "      <th></th>\n",
       "      <th>fare_amount</th>\n",
       "      <th>pickup_longitude</th>\n",
       "      <th>pickup_latitude</th>\n",
       "      <th>dropoff_longitude</th>\n",
       "      <th>dropoff_latitude</th>\n",
       "      <th>passenger_count</th>\n",
       "      <th>pickup_day_of_week</th>\n",
       "      <th>pickup_month</th>\n",
       "      <th>pickup_hour</th>\n",
       "      <th>pickup_year</th>\n",
       "    </tr>\n",
       "  </thead>\n",
       "  <tbody>\n",
       "    <tr>\n",
       "      <th>count</th>\n",
       "      <td>1000000.000000</td>\n",
       "      <td>1000000.000000</td>\n",
       "      <td>1000000.000000</td>\n",
       "      <td>999990.000000</td>\n",
       "      <td>999990.000000</td>\n",
       "      <td>1000000.000000</td>\n",
       "      <td>1000000.000000</td>\n",
       "      <td>1000000.000000</td>\n",
       "      <td>1000000.000000</td>\n",
       "      <td>1000000.000000</td>\n",
       "    </tr>\n",
       "    <tr>\n",
       "      <th>mean</th>\n",
       "      <td>11.348079</td>\n",
       "      <td>-72.526640</td>\n",
       "      <td>39.929008</td>\n",
       "      <td>-72.527860</td>\n",
       "      <td>39.919954</td>\n",
       "      <td>1.684924</td>\n",
       "      <td>3.039856</td>\n",
       "      <td>6.267875</td>\n",
       "      <td>13.509477</td>\n",
       "      <td>2011.741106</td>\n",
       "    </tr>\n",
       "    <tr>\n",
       "      <th>std</th>\n",
       "      <td>9.822090</td>\n",
       "      <td>12.057937</td>\n",
       "      <td>7.626154</td>\n",
       "      <td>11.324494</td>\n",
       "      <td>8.201418</td>\n",
       "      <td>1.323911</td>\n",
       "      <td>1.949970</td>\n",
       "      <td>3.436243</td>\n",
       "      <td>6.513840</td>\n",
       "      <td>1.860754</td>\n",
       "    </tr>\n",
       "    <tr>\n",
       "      <th>min</th>\n",
       "      <td>-44.900000</td>\n",
       "      <td>-3377.680935</td>\n",
       "      <td>-3116.285383</td>\n",
       "      <td>-3383.296608</td>\n",
       "      <td>-3114.338567</td>\n",
       "      <td>0.000000</td>\n",
       "      <td>0.000000</td>\n",
       "      <td>1.000000</td>\n",
       "      <td>0.000000</td>\n",
       "      <td>2009.000000</td>\n",
       "    </tr>\n",
       "    <tr>\n",
       "      <th>25%</th>\n",
       "      <td>6.000000</td>\n",
       "      <td>-73.992060</td>\n",
       "      <td>40.734965</td>\n",
       "      <td>-73.991385</td>\n",
       "      <td>40.734046</td>\n",
       "      <td>1.000000</td>\n",
       "      <td>1.000000</td>\n",
       "      <td>3.000000</td>\n",
       "      <td>9.000000</td>\n",
       "      <td>2010.000000</td>\n",
       "    </tr>\n",
       "    <tr>\n",
       "      <th>50%</th>\n",
       "      <td>8.500000</td>\n",
       "      <td>-73.981792</td>\n",
       "      <td>40.752695</td>\n",
       "      <td>-73.980135</td>\n",
       "      <td>40.753166</td>\n",
       "      <td>1.000000</td>\n",
       "      <td>3.000000</td>\n",
       "      <td>6.000000</td>\n",
       "      <td>14.000000</td>\n",
       "      <td>2012.000000</td>\n",
       "    </tr>\n",
       "    <tr>\n",
       "      <th>75%</th>\n",
       "      <td>12.500000</td>\n",
       "      <td>-73.967094</td>\n",
       "      <td>40.767154</td>\n",
       "      <td>-73.963654</td>\n",
       "      <td>40.768129</td>\n",
       "      <td>2.000000</td>\n",
       "      <td>5.000000</td>\n",
       "      <td>9.000000</td>\n",
       "      <td>19.000000</td>\n",
       "      <td>2013.000000</td>\n",
       "    </tr>\n",
       "    <tr>\n",
       "      <th>max</th>\n",
       "      <td>500.000000</td>\n",
       "      <td>2522.271325</td>\n",
       "      <td>2621.628430</td>\n",
       "      <td>45.581619</td>\n",
       "      <td>1651.553433</td>\n",
       "      <td>208.000000</td>\n",
       "      <td>6.000000</td>\n",
       "      <td>12.000000</td>\n",
       "      <td>23.000000</td>\n",
       "      <td>2015.000000</td>\n",
       "    </tr>\n",
       "  </tbody>\n",
       "</table>\n",
       "</div>"
      ],
      "text/plain": [
       "          fare_amount  pickup_longitude  pickup_latitude  dropoff_longitude  \\\n",
       "count  1000000.000000    1000000.000000   1000000.000000      999990.000000   \n",
       "mean        11.348079        -72.526640        39.929008         -72.527860   \n",
       "std          9.822090         12.057937         7.626154          11.324494   \n",
       "min        -44.900000      -3377.680935     -3116.285383       -3383.296608   \n",
       "25%          6.000000        -73.992060        40.734965         -73.991385   \n",
       "50%          8.500000        -73.981792        40.752695         -73.980135   \n",
       "75%         12.500000        -73.967094        40.767154         -73.963654   \n",
       "max        500.000000       2522.271325      2621.628430          45.581619   \n",
       "\n",
       "       dropoff_latitude  passenger_count  pickup_day_of_week    pickup_month  \\\n",
       "count     999990.000000   1000000.000000      1000000.000000  1000000.000000   \n",
       "mean          39.919954         1.684924            3.039856        6.267875   \n",
       "std            8.201418         1.323911            1.949970        3.436243   \n",
       "min        -3114.338567         0.000000            0.000000        1.000000   \n",
       "25%           40.734046         1.000000            1.000000        3.000000   \n",
       "50%           40.753166         1.000000            3.000000        6.000000   \n",
       "75%           40.768129         2.000000            5.000000        9.000000   \n",
       "max         1651.553433       208.000000            6.000000       12.000000   \n",
       "\n",
       "          pickup_hour     pickup_year  \n",
       "count  1000000.000000  1000000.000000  \n",
       "mean        13.509477     2011.741106  \n",
       "std          6.513840        1.860754  \n",
       "min          0.000000     2009.000000  \n",
       "25%          9.000000     2010.000000  \n",
       "50%         14.000000     2012.000000  \n",
       "75%         19.000000     2013.000000  \n",
       "max         23.000000     2015.000000  "
      ]
     },
     "execution_count": 46,
     "metadata": {},
     "output_type": "execute_result"
    }
   ],
   "source": [
    "train_df.describe()"
   ]
  },
  {
   "cell_type": "code",
   "execution_count": 47,
   "metadata": {},
   "outputs": [
    {
     "data": {
      "text/plain": [
       "<matplotlib.axes._subplots.AxesSubplot at 0x2588e710>"
      ]
     },
     "execution_count": 47,
     "metadata": {},
     "output_type": "execute_result"
    },
    {
     "data": {
      "image/png": "[encoded data removed]",
      "text/plain": [
       "<Figure size 1152x360 with 1 Axes>"
      ]
     },
     "metadata": {
      "needs_background": "light"
     },
     "output_type": "display_data"
    }
   ],
   "source": [
    "train_df[\"fare_amount\"].plot.box(figsize=(16,5))  "
   ]
  },
  {
   "cell_type": "code",
   "execution_count": 48,
   "metadata": {},
   "outputs": [],
   "source": [
    "train_df['id'] = train_df.index"
   ]
  },
  {
   "cell_type": "code",
   "execution_count": 49,
   "metadata": {},
   "outputs": [],
   "source": [
    "new =train_df.groupby(pd.Grouper(key='pickup_datetime', freq='15T')).apply(lambda x: x['id'])"
   ]
  },
  {
   "cell_type": "code",
   "execution_count": 50,
   "metadata": {},
   "outputs": [],
   "source": [
    "train_df['id'] = train_df.index"
   ]
  },
  {
   "cell_type": "code",
   "execution_count": 51,
   "metadata": {},
   "outputs": [
    {
     "data": {
      "text/plain": [
       "pickup_datetime            \n",
       "2009-01-01 00:00:00  880228    880228\n",
       "                     661006    661006\n",
       "                     756707    756707\n",
       "                     745620    745620\n",
       "2009-01-01 00:15:00  964259    964259\n",
       "                     915988    915988\n",
       "2009-01-01 00:30:00  297860    297860\n",
       "                     124750    124750\n",
       "                     876677    876677\n",
       "                     82469      82469\n",
       "2009-01-01 00:45:00  124445    124445\n",
       "                     973236    973236\n",
       "                     965480    965480\n",
       "2009-01-01 01:00:00  760438    760438\n",
       "                     894290    894290\n",
       "                     766885    766885\n",
       "2009-01-01 01:15:00  945037    945037\n",
       "                     76195      76195\n",
       "                     102243    102243\n",
       "                     773755    773755\n",
       "                     542263    542263\n",
       "2009-01-01 01:30:00  12739      12739\n",
       "2009-01-01 01:45:00  709206    709206\n",
       "                     307980    307980\n",
       "                     674362    674362\n",
       "2009-01-01 02:00:00  17546      17546\n",
       "                     25687      25687\n",
       "2009-01-01 02:15:00  719299    719299\n",
       "                     542248    542248\n",
       "                     304112    304112\n",
       "                                ...  \n",
       "2015-06-30 22:30:00  990467    990467\n",
       "                     525126    525126\n",
       "                     701682    701682\n",
       "                     392244    392244\n",
       "                     475897    475897\n",
       "                     569474    569474\n",
       "                     1428        1428\n",
       "                     828099    828099\n",
       "                     194700    194700\n",
       "2015-06-30 22:45:00  114820    114820\n",
       "                     391489    391489\n",
       "                     98082      98082\n",
       "2015-06-30 23:00:00  939905    939905\n",
       "                     337140    337140\n",
       "2015-06-30 23:15:00  450764    450764\n",
       "                     841675    841675\n",
       "                     350061    350061\n",
       "                     179298    179298\n",
       "                     647613    647613\n",
       "                     362807    362807\n",
       "                     182743    182743\n",
       "2015-06-30 23:30:00  506007    506007\n",
       "                     751978    751978\n",
       "                     240182    240182\n",
       "                     323864    323864\n",
       "                     286276    286276\n",
       "2015-06-30 23:45:00  955575    955575\n",
       "                     915826    915826\n",
       "                     751350    751350\n",
       "                     785182    785182\n",
       "Name: id, Length: 1000000, dtype: int64"
      ]
     },
     "execution_count": 51,
     "metadata": {},
     "output_type": "execute_result"
    }
   ],
   "source": [
    "new"
   ]
  },
  {
   "cell_type": "code",
   "execution_count": 52,
   "metadata": {},
   "outputs": [
    {
     "data": {
      "text/plain": [
       "TimeGrouper(key='pickup_datetime', freq=<15 * MonthEnds>, axis=0, sort=True, closed='right', label='right', how='mean', convention='e', base=0)"
      ]
     },
     "execution_count": 52,
     "metadata": {},
     "output_type": "execute_result"
    }
   ],
   "source": [
    "pd.Grouper(key='pickup_datetime', freq='15m')"
   ]
  },
  {
   "cell_type": "code",
   "execution_count": 53,
   "metadata": {},
   "outputs": [
    {
     "data": {
      "text/plain": [
       "DatetimeIndex(['2009-01-01 00:00:00', '2009-01-01 00:00:00',\n",
       "               '2009-01-01 00:00:00', '2009-01-01 00:00:00',\n",
       "               '2009-01-01 00:15:00', '2009-01-01 00:15:00',\n",
       "               '2009-01-01 00:30:00', '2009-01-01 00:30:00',\n",
       "               '2009-01-01 00:30:00', '2009-01-01 00:30:00',\n",
       "               ...\n",
       "               '2015-06-30 23:15:00', '2015-06-30 23:30:00',\n",
       "               '2015-06-30 23:30:00', '2015-06-30 23:30:00',\n",
       "               '2015-06-30 23:30:00', '2015-06-30 23:30:00',\n",
       "               '2015-06-30 23:45:00', '2015-06-30 23:45:00',\n",
       "               '2015-06-30 23:45:00', '2015-06-30 23:45:00'],\n",
       "              dtype='datetime64[ns]', name='pickup_datetime', length=1000000, freq='15T')"
      ]
     },
     "execution_count": 53,
     "metadata": {},
     "output_type": "execute_result"
    }
   ],
   "source": [
    "new.index.get_level_values('pickup_datetime')"
   ]
  },
  {
   "cell_type": "code",
   "execution_count": 54,
   "metadata": {},
   "outputs": [
    {
     "data": {
      "text/html": [
       "<div>\n",
       "<style scoped>\n",
       "    .dataframe tbody tr th:only-of-type {\n",
       "        vertical-align: middle;\n",
       "    }\n",
       "\n",
       "    .dataframe tbody tr th {\n",
       "        vertical-align: top;\n",
       "    }\n",
       "\n",
       "    .dataframe thead th {\n",
       "        text-align: right;\n",
       "    }\n",
       "</style>\n",
       "<table border=\"1\" class=\"dataframe\">\n",
       "  <thead>\n",
       "    <tr style=\"text-align: right;\">\n",
       "      <th></th>\n",
       "      <th>key</th>\n",
       "      <th>fare_amount</th>\n",
       "      <th>pickup_datetime</th>\n",
       "      <th>pickup_longitude</th>\n",
       "      <th>pickup_latitude</th>\n",
       "      <th>dropoff_longitude</th>\n",
       "      <th>dropoff_latitude</th>\n",
       "      <th>passenger_count</th>\n",
       "      <th>pickup_day_of_week</th>\n",
       "      <th>pickup_month</th>\n",
       "      <th>pickup_date</th>\n",
       "      <th>pickup_hour</th>\n",
       "      <th>pickup_year</th>\n",
       "      <th>id</th>\n",
       "    </tr>\n",
       "  </thead>\n",
       "  <tbody>\n",
       "  </tbody>\n",
       "</table>\n",
       "</div>"
      ],
      "text/plain": [
       "Empty DataFrame\n",
       "Columns: [key, fare_amount, pickup_datetime, pickup_longitude, pickup_latitude, dropoff_longitude, dropoff_latitude, passenger_count, pickup_day_of_week, pickup_month, pickup_date, pickup_hour, pickup_year, id]\n",
       "Index: []"
      ]
     },
     "execution_count": 54,
     "metadata": {},
     "output_type": "execute_result"
    }
   ],
   "source": [
    "train_df.loc[train_df[\"key\"] == '799435' ]"
   ]
  },
  {
   "cell_type": "code",
   "execution_count": 55,
   "metadata": {},
   "outputs": [
    {
     "data": {
      "text/plain": [
       "key                           object\n",
       "fare_amount                  float64\n",
       "pickup_datetime       datetime64[ns]\n",
       "pickup_longitude             float64\n",
       "pickup_latitude              float64\n",
       "dropoff_longitude            float64\n",
       "dropoff_latitude             float64\n",
       "passenger_count                int64\n",
       "pickup_day_of_week             int64\n",
       "pickup_month                   int64\n",
       "pickup_date                   object\n",
       "pickup_hour                    int64\n",
       "pickup_year                    int64\n",
       "id                             int64\n",
       "dtype: object"
      ]
     },
     "execution_count": 55,
     "metadata": {},
     "output_type": "execute_result"
    }
   ],
   "source": [
    "train_df.dtypes"
   ]
  },
  {
   "cell_type": "code",
   "execution_count": 56,
   "metadata": {},
   "outputs": [],
   "source": [
    "interval_df=pd.DataFrame({'interval':new.index.get_level_values(0), 'id':new.index.get_level_values(1)})"
   ]
  },
  {
   "cell_type": "code",
   "execution_count": 57,
   "metadata": {},
   "outputs": [
    {
     "data": {
      "text/plain": [
       "Int64Index([880228, 661006, 756707, 745620, 964259, 915988, 297860, 124750,\n",
       "            876677,  82469,\n",
       "            ...\n",
       "            182743, 506007, 751978, 240182, 323864, 286276, 955575, 915826,\n",
       "            751350, 785182],\n",
       "           dtype='int64', length=1000000)"
      ]
     },
     "execution_count": 57,
     "metadata": {},
     "output_type": "execute_result"
    }
   ],
   "source": [
    "new.index.get_level_values(1)"
   ]
  },
  {
   "cell_type": "code",
   "execution_count": 58,
   "metadata": {},
   "outputs": [
    {
     "data": {
      "text/plain": [
       "interval    datetime64[ns]\n",
       "id                   int64\n",
       "dtype: object"
      ]
     },
     "execution_count": 58,
     "metadata": {},
     "output_type": "execute_result"
    }
   ],
   "source": [
    "interval_df.dtypes"
   ]
  },
  {
   "cell_type": "code",
   "execution_count": 59,
   "metadata": {},
   "outputs": [
    {
     "data": {
      "text/html": [
       "<div>\n",
       "<style scoped>\n",
       "    .dataframe tbody tr th:only-of-type {\n",
       "        vertical-align: middle;\n",
       "    }\n",
       "\n",
       "    .dataframe tbody tr th {\n",
       "        vertical-align: top;\n",
       "    }\n",
       "\n",
       "    .dataframe thead th {\n",
       "        text-align: right;\n",
       "    }\n",
       "</style>\n",
       "<table border=\"1\" class=\"dataframe\">\n",
       "  <thead>\n",
       "    <tr style=\"text-align: right;\">\n",
       "      <th></th>\n",
       "      <th>interval</th>\n",
       "      <th>id</th>\n",
       "    </tr>\n",
       "  </thead>\n",
       "  <tbody>\n",
       "    <tr>\n",
       "      <th>999995</th>\n",
       "      <td>2015-06-30 23:30:00</td>\n",
       "      <td>286276</td>\n",
       "    </tr>\n",
       "    <tr>\n",
       "      <th>999996</th>\n",
       "      <td>2015-06-30 23:45:00</td>\n",
       "      <td>955575</td>\n",
       "    </tr>\n",
       "    <tr>\n",
       "      <th>999997</th>\n",
       "      <td>2015-06-30 23:45:00</td>\n",
       "      <td>915826</td>\n",
       "    </tr>\n",
       "    <tr>\n",
       "      <th>999998</th>\n",
       "      <td>2015-06-30 23:45:00</td>\n",
       "      <td>751350</td>\n",
       "    </tr>\n",
       "    <tr>\n",
       "      <th>999999</th>\n",
       "      <td>2015-06-30 23:45:00</td>\n",
       "      <td>785182</td>\n",
       "    </tr>\n",
       "  </tbody>\n",
       "</table>\n",
       "</div>"
      ],
      "text/plain": [
       "                  interval      id\n",
       "999995 2015-06-30 23:30:00  286276\n",
       "999996 2015-06-30 23:45:00  955575\n",
       "999997 2015-06-30 23:45:00  915826\n",
       "999998 2015-06-30 23:45:00  751350\n",
       "999999 2015-06-30 23:45:00  785182"
      ]
     },
     "execution_count": 59,
     "metadata": {},
     "output_type": "execute_result"
    }
   ],
   "source": [
    "interval_df.tail()"
   ]
  },
  {
   "cell_type": "code",
   "execution_count": 60,
   "metadata": {},
   "outputs": [
    {
     "data": {
      "text/html": [
       "<div>\n",
       "<style scoped>\n",
       "    .dataframe tbody tr th:only-of-type {\n",
       "        vertical-align: middle;\n",
       "    }\n",
       "\n",
       "    .dataframe tbody tr th {\n",
       "        vertical-align: top;\n",
       "    }\n",
       "\n",
       "    .dataframe thead th {\n",
       "        text-align: right;\n",
       "    }\n",
       "</style>\n",
       "<table border=\"1\" class=\"dataframe\">\n",
       "  <thead>\n",
       "    <tr style=\"text-align: right;\">\n",
       "      <th></th>\n",
       "      <th>key</th>\n",
       "      <th>fare_amount</th>\n",
       "      <th>pickup_datetime</th>\n",
       "      <th>pickup_longitude</th>\n",
       "      <th>pickup_latitude</th>\n",
       "      <th>dropoff_longitude</th>\n",
       "      <th>dropoff_latitude</th>\n",
       "      <th>passenger_count</th>\n",
       "      <th>pickup_day_of_week</th>\n",
       "      <th>pickup_month</th>\n",
       "      <th>pickup_date</th>\n",
       "      <th>pickup_hour</th>\n",
       "      <th>pickup_year</th>\n",
       "      <th>id</th>\n",
       "    </tr>\n",
       "  </thead>\n",
       "  <tbody>\n",
       "    <tr>\n",
       "      <th>751350</th>\n",
       "      <td>2015-06-30 23:53:23.0000002</td>\n",
       "      <td>3.5</td>\n",
       "      <td>2015-06-30 23:53:23</td>\n",
       "      <td>-73.97802</td>\n",
       "      <td>40.757439</td>\n",
       "      <td>-73.980705</td>\n",
       "      <td>40.753544</td>\n",
       "      <td>1</td>\n",
       "      <td>1</td>\n",
       "      <td>6</td>\n",
       "      <td>2015-06-30</td>\n",
       "      <td>23</td>\n",
       "      <td>2015</td>\n",
       "      <td>751350</td>\n",
       "    </tr>\n",
       "  </tbody>\n",
       "</table>\n",
       "</div>"
      ],
      "text/plain": [
       "                                key  fare_amount     pickup_datetime  \\\n",
       "751350  2015-06-30 23:53:23.0000002          3.5 2015-06-30 23:53:23   \n",
       "\n",
       "        pickup_longitude  pickup_latitude  dropoff_longitude  \\\n",
       "751350         -73.97802        40.757439         -73.980705   \n",
       "\n",
       "        dropoff_latitude  passenger_count  pickup_day_of_week  pickup_month  \\\n",
       "751350         40.753544                1                   1             6   \n",
       "\n",
       "       pickup_date  pickup_hour  pickup_year      id  \n",
       "751350  2015-06-30           23         2015  751350  "
      ]
     },
     "execution_count": 60,
     "metadata": {},
     "output_type": "execute_result"
    }
   ],
   "source": [
    "train_df.loc[train_df[\"id\"] == 751350]"
   ]
  },
  {
   "cell_type": "code",
   "execution_count": 61,
   "metadata": {},
   "outputs": [],
   "source": [
    "train_df=pd.merge(train_df, interval_df, left_on = 'id', right_on = 'id', how = 'inner')"
   ]
  },
  {
   "cell_type": "code",
   "execution_count": 62,
   "metadata": {},
   "outputs": [
    {
     "data": {
      "text/html": [
       "<div>\n",
       "<style scoped>\n",
       "    .dataframe tbody tr th:only-of-type {\n",
       "        vertical-align: middle;\n",
       "    }\n",
       "\n",
       "    .dataframe tbody tr th {\n",
       "        vertical-align: top;\n",
       "    }\n",
       "\n",
       "    .dataframe thead th {\n",
       "        text-align: right;\n",
       "    }\n",
       "</style>\n",
       "<table border=\"1\" class=\"dataframe\">\n",
       "  <thead>\n",
       "    <tr style=\"text-align: right;\">\n",
       "      <th></th>\n",
       "      <th>key</th>\n",
       "      <th>fare_amount</th>\n",
       "      <th>pickup_datetime</th>\n",
       "      <th>pickup_longitude</th>\n",
       "      <th>pickup_latitude</th>\n",
       "      <th>dropoff_longitude</th>\n",
       "      <th>dropoff_latitude</th>\n",
       "      <th>passenger_count</th>\n",
       "      <th>pickup_day_of_week</th>\n",
       "      <th>pickup_month</th>\n",
       "      <th>pickup_date</th>\n",
       "      <th>pickup_hour</th>\n",
       "      <th>pickup_year</th>\n",
       "      <th>id</th>\n",
       "      <th>interval</th>\n",
       "    </tr>\n",
       "  </thead>\n",
       "  <tbody>\n",
       "    <tr>\n",
       "      <th>0</th>\n",
       "      <td>2009-06-15 17:26:21.0000001</td>\n",
       "      <td>4.5</td>\n",
       "      <td>2009-06-15 17:26:21</td>\n",
       "      <td>-73.844311</td>\n",
       "      <td>40.721319</td>\n",
       "      <td>-73.841610</td>\n",
       "      <td>40.712278</td>\n",
       "      <td>1</td>\n",
       "      <td>0</td>\n",
       "      <td>6</td>\n",
       "      <td>2009-06-15</td>\n",
       "      <td>17</td>\n",
       "      <td>2009</td>\n",
       "      <td>0</td>\n",
       "      <td>2009-06-15 17:15:00</td>\n",
       "    </tr>\n",
       "    <tr>\n",
       "      <th>1</th>\n",
       "      <td>2009-08-03 23:01:00.00000077</td>\n",
       "      <td>4.5</td>\n",
       "      <td>2009-08-03 23:01:00</td>\n",
       "      <td>-73.992147</td>\n",
       "      <td>40.762532</td>\n",
       "      <td>-73.984915</td>\n",
       "      <td>40.768142</td>\n",
       "      <td>5</td>\n",
       "      <td>0</td>\n",
       "      <td>8</td>\n",
       "      <td>2009-08-03</td>\n",
       "      <td>23</td>\n",
       "      <td>2009</td>\n",
       "      <td>410475</td>\n",
       "      <td>2009-08-03 23:00:00</td>\n",
       "    </tr>\n",
       "    <tr>\n",
       "      <th>2</th>\n",
       "      <td>2011-07-11 13:08:09.0000001</td>\n",
       "      <td>10.9</td>\n",
       "      <td>2011-07-11 13:08:09</td>\n",
       "      <td>-73.993900</td>\n",
       "      <td>40.750800</td>\n",
       "      <td>-74.014800</td>\n",
       "      <td>40.718000</td>\n",
       "      <td>1</td>\n",
       "      <td>0</td>\n",
       "      <td>7</td>\n",
       "      <td>2011-07-11</td>\n",
       "      <td>13</td>\n",
       "      <td>2011</td>\n",
       "      <td>410487</td>\n",
       "      <td>2011-07-11 13:00:00</td>\n",
       "    </tr>\n",
       "    <tr>\n",
       "      <th>3</th>\n",
       "      <td>2012-12-17 22:58:00.000000163</td>\n",
       "      <td>29.0</td>\n",
       "      <td>2012-12-17 22:58:00</td>\n",
       "      <td>-73.979827</td>\n",
       "      <td>40.766015</td>\n",
       "      <td>-73.962497</td>\n",
       "      <td>40.677382</td>\n",
       "      <td>3</td>\n",
       "      <td>0</td>\n",
       "      <td>12</td>\n",
       "      <td>2012-12-17</td>\n",
       "      <td>22</td>\n",
       "      <td>2012</td>\n",
       "      <td>410491</td>\n",
       "      <td>2012-12-17 22:45:00</td>\n",
       "    </tr>\n",
       "    <tr>\n",
       "      <th>4</th>\n",
       "      <td>2011-02-28 22:03:00.000000115</td>\n",
       "      <td>6.1</td>\n",
       "      <td>2011-02-28 22:03:00</td>\n",
       "      <td>-73.995742</td>\n",
       "      <td>40.726778</td>\n",
       "      <td>-73.978080</td>\n",
       "      <td>40.721325</td>\n",
       "      <td>1</td>\n",
       "      <td>0</td>\n",
       "      <td>2</td>\n",
       "      <td>2011-02-28</td>\n",
       "      <td>22</td>\n",
       "      <td>2011</td>\n",
       "      <td>410493</td>\n",
       "      <td>2011-02-28 22:00:00</td>\n",
       "    </tr>\n",
       "  </tbody>\n",
       "</table>\n",
       "</div>"
      ],
      "text/plain": [
       "                             key  fare_amount     pickup_datetime  \\\n",
       "0    2009-06-15 17:26:21.0000001          4.5 2009-06-15 17:26:21   \n",
       "1   2009-08-03 23:01:00.00000077          4.5 2009-08-03 23:01:00   \n",
       "2    2011-07-11 13:08:09.0000001         10.9 2011-07-11 13:08:09   \n",
       "3  2012-12-17 22:58:00.000000163         29.0 2012-12-17 22:58:00   \n",
       "4  2011-02-28 22:03:00.000000115          6.1 2011-02-28 22:03:00   \n",
       "\n",
       "   pickup_longitude  pickup_latitude  dropoff_longitude  dropoff_latitude  \\\n",
       "0        -73.844311        40.721319         -73.841610         40.712278   \n",
       "1        -73.992147        40.762532         -73.984915         40.768142   \n",
       "2        -73.993900        40.750800         -74.014800         40.718000   \n",
       "3        -73.979827        40.766015         -73.962497         40.677382   \n",
       "4        -73.995742        40.726778         -73.978080         40.721325   \n",
       "\n",
       "   passenger_count  pickup_day_of_week  pickup_month pickup_date  pickup_hour  \\\n",
       "0                1                   0             6  2009-06-15           17   \n",
       "1                5                   0             8  2009-08-03           23   \n",
       "2                1                   0             7  2011-07-11           13   \n",
       "3                3                   0            12  2012-12-17           22   \n",
       "4                1                   0             2  2011-02-28           22   \n",
       "\n",
       "   pickup_year      id            interval  \n",
       "0         2009       0 2009-06-15 17:15:00  \n",
       "1         2009  410475 2009-08-03 23:00:00  \n",
       "2         2011  410487 2011-07-11 13:00:00  \n",
       "3         2012  410491 2012-12-17 22:45:00  \n",
       "4         2011  410493 2011-02-28 22:00:00  "
      ]
     },
     "execution_count": 62,
     "metadata": {},
     "output_type": "execute_result"
    }
   ],
   "source": [
    "train_df.head()"
   ]
  },
  {
   "cell_type": "code",
   "execution_count": 63,
   "metadata": {},
   "outputs": [],
   "source": [
    "train_df['interval_time']=train_df['interval'].dt.time"
   ]
  },
  {
   "cell_type": "code",
   "execution_count": 64,
   "metadata": {},
   "outputs": [
    {
     "data": {
      "text/html": [
       "<div>\n",
       "<style scoped>\n",
       "    .dataframe tbody tr th:only-of-type {\n",
       "        vertical-align: middle;\n",
       "    }\n",
       "\n",
       "    .dataframe tbody tr th {\n",
       "        vertical-align: top;\n",
       "    }\n",
       "\n",
       "    .dataframe thead th {\n",
       "        text-align: right;\n",
       "    }\n",
       "</style>\n",
       "<table border=\"1\" class=\"dataframe\">\n",
       "  <thead>\n",
       "    <tr style=\"text-align: right;\">\n",
       "      <th></th>\n",
       "      <th>key</th>\n",
       "      <th>fare_amount</th>\n",
       "      <th>pickup_datetime</th>\n",
       "      <th>pickup_longitude</th>\n",
       "      <th>pickup_latitude</th>\n",
       "      <th>dropoff_longitude</th>\n",
       "      <th>dropoff_latitude</th>\n",
       "      <th>passenger_count</th>\n",
       "      <th>pickup_day_of_week</th>\n",
       "      <th>pickup_month</th>\n",
       "      <th>pickup_date</th>\n",
       "      <th>pickup_hour</th>\n",
       "      <th>pickup_year</th>\n",
       "      <th>id</th>\n",
       "      <th>interval</th>\n",
       "      <th>interval_time</th>\n",
       "    </tr>\n",
       "  </thead>\n",
       "  <tbody>\n",
       "    <tr>\n",
       "      <th>0</th>\n",
       "      <td>2009-06-15 17:26:21.0000001</td>\n",
       "      <td>4.5</td>\n",
       "      <td>2009-06-15 17:26:21</td>\n",
       "      <td>-73.844311</td>\n",
       "      <td>40.721319</td>\n",
       "      <td>-73.841610</td>\n",
       "      <td>40.712278</td>\n",
       "      <td>1</td>\n",
       "      <td>0</td>\n",
       "      <td>6</td>\n",
       "      <td>2009-06-15</td>\n",
       "      <td>17</td>\n",
       "      <td>2009</td>\n",
       "      <td>0</td>\n",
       "      <td>2009-06-15 17:15:00</td>\n",
       "      <td>17:15:00</td>\n",
       "    </tr>\n",
       "    <tr>\n",
       "      <th>1</th>\n",
       "      <td>2009-08-03 23:01:00.00000077</td>\n",
       "      <td>4.5</td>\n",
       "      <td>2009-08-03 23:01:00</td>\n",
       "      <td>-73.992147</td>\n",
       "      <td>40.762532</td>\n",
       "      <td>-73.984915</td>\n",
       "      <td>40.768142</td>\n",
       "      <td>5</td>\n",
       "      <td>0</td>\n",
       "      <td>8</td>\n",
       "      <td>2009-08-03</td>\n",
       "      <td>23</td>\n",
       "      <td>2009</td>\n",
       "      <td>410475</td>\n",
       "      <td>2009-08-03 23:00:00</td>\n",
       "      <td>23:00:00</td>\n",
       "    </tr>\n",
       "    <tr>\n",
       "      <th>2</th>\n",
       "      <td>2011-07-11 13:08:09.0000001</td>\n",
       "      <td>10.9</td>\n",
       "      <td>2011-07-11 13:08:09</td>\n",
       "      <td>-73.993900</td>\n",
       "      <td>40.750800</td>\n",
       "      <td>-74.014800</td>\n",
       "      <td>40.718000</td>\n",
       "      <td>1</td>\n",
       "      <td>0</td>\n",
       "      <td>7</td>\n",
       "      <td>2011-07-11</td>\n",
       "      <td>13</td>\n",
       "      <td>2011</td>\n",
       "      <td>410487</td>\n",
       "      <td>2011-07-11 13:00:00</td>\n",
       "      <td>13:00:00</td>\n",
       "    </tr>\n",
       "    <tr>\n",
       "      <th>3</th>\n",
       "      <td>2012-12-17 22:58:00.000000163</td>\n",
       "      <td>29.0</td>\n",
       "      <td>2012-12-17 22:58:00</td>\n",
       "      <td>-73.979827</td>\n",
       "      <td>40.766015</td>\n",
       "      <td>-73.962497</td>\n",
       "      <td>40.677382</td>\n",
       "      <td>3</td>\n",
       "      <td>0</td>\n",
       "      <td>12</td>\n",
       "      <td>2012-12-17</td>\n",
       "      <td>22</td>\n",
       "      <td>2012</td>\n",
       "      <td>410491</td>\n",
       "      <td>2012-12-17 22:45:00</td>\n",
       "      <td>22:45:00</td>\n",
       "    </tr>\n",
       "    <tr>\n",
       "      <th>4</th>\n",
       "      <td>2011-02-28 22:03:00.000000115</td>\n",
       "      <td>6.1</td>\n",
       "      <td>2011-02-28 22:03:00</td>\n",
       "      <td>-73.995742</td>\n",
       "      <td>40.726778</td>\n",
       "      <td>-73.978080</td>\n",
       "      <td>40.721325</td>\n",
       "      <td>1</td>\n",
       "      <td>0</td>\n",
       "      <td>2</td>\n",
       "      <td>2011-02-28</td>\n",
       "      <td>22</td>\n",
       "      <td>2011</td>\n",
       "      <td>410493</td>\n",
       "      <td>2011-02-28 22:00:00</td>\n",
       "      <td>22:00:00</td>\n",
       "    </tr>\n",
       "  </tbody>\n",
       "</table>\n",
       "</div>"
      ],
      "text/plain": [
       "                             key  fare_amount     pickup_datetime  \\\n",
       "0    2009-06-15 17:26:21.0000001          4.5 2009-06-15 17:26:21   \n",
       "1   2009-08-03 23:01:00.00000077          4.5 2009-08-03 23:01:00   \n",
       "2    2011-07-11 13:08:09.0000001         10.9 2011-07-11 13:08:09   \n",
       "3  2012-12-17 22:58:00.000000163         29.0 2012-12-17 22:58:00   \n",
       "4  2011-02-28 22:03:00.000000115          6.1 2011-02-28 22:03:00   \n",
       "\n",
       "   pickup_longitude  pickup_latitude  dropoff_longitude  dropoff_latitude  \\\n",
       "0        -73.844311        40.721319         -73.841610         40.712278   \n",
       "1        -73.992147        40.762532         -73.984915         40.768142   \n",
       "2        -73.993900        40.750800         -74.014800         40.718000   \n",
       "3        -73.979827        40.766015         -73.962497         40.677382   \n",
       "4        -73.995742        40.726778         -73.978080         40.721325   \n",
       "\n",
       "   passenger_count  pickup_day_of_week  pickup_month pickup_date  pickup_hour  \\\n",
       "0                1                   0             6  2009-06-15           17   \n",
       "1                5                   0             8  2009-08-03           23   \n",
       "2                1                   0             7  2011-07-11           13   \n",
       "3                3                   0            12  2012-12-17           22   \n",
       "4                1                   0             2  2011-02-28           22   \n",
       "\n",
       "   pickup_year      id            interval interval_time  \n",
       "0         2009       0 2009-06-15 17:15:00      17:15:00  \n",
       "1         2009  410475 2009-08-03 23:00:00      23:00:00  \n",
       "2         2011  410487 2011-07-11 13:00:00      13:00:00  \n",
       "3         2012  410491 2012-12-17 22:45:00      22:45:00  \n",
       "4         2011  410493 2011-02-28 22:00:00      22:00:00  "
      ]
     },
     "execution_count": 64,
     "metadata": {},
     "output_type": "execute_result"
    }
   ],
   "source": [
    "train_df.head()"
   ]
  },
  {
   "cell_type": "code",
   "execution_count": 65,
   "metadata": {},
   "outputs": [
    {
     "data": {
      "text/plain": [
       "<matplotlib.axes._subplots.AxesSubplot at 0x2587ea58>"
      ]
     },
     "execution_count": 65,
     "metadata": {},
     "output_type": "execute_result"
    },
    {
     "data": {
      "image/png": "[encoded data removed]",
      "text/plain": [
       "<Figure size 432x288 with 1 Axes>"
      ]
     },
     "metadata": {
      "needs_background": "light"
     },
     "output_type": "display_data"
    }
   ],
   "source": [
    "train_df['interval_time'].value_counts().sort_index().plot()"
   ]
  },
  {
   "cell_type": "code",
   "execution_count": 66,
   "metadata": {},
   "outputs": [],
   "source": [
    "train_df[\"pickup_longitude\"] = train_df['pickup_longitude'].apply(lambda x:round(x,2))\n"
   ]
  },
  {
   "cell_type": "code",
   "execution_count": 67,
   "metadata": {},
   "outputs": [],
   "source": [
    "train_df[\"pickup_latitude\"] = train_df['pickup_latitude'].apply(lambda x:round(x,2))\n"
   ]
  },
  {
   "cell_type": "code",
   "execution_count": 68,
   "metadata": {},
   "outputs": [
    {
     "data": {
      "text/html": [
       "<div>\n",
       "<style scoped>\n",
       "    .dataframe tbody tr th:only-of-type {\n",
       "        vertical-align: middle;\n",
       "    }\n",
       "\n",
       "    .dataframe tbody tr th {\n",
       "        vertical-align: top;\n",
       "    }\n",
       "\n",
       "    .dataframe thead th {\n",
       "        text-align: right;\n",
       "    }\n",
       "</style>\n",
       "<table border=\"1\" class=\"dataframe\">\n",
       "  <thead>\n",
       "    <tr style=\"text-align: right;\">\n",
       "      <th></th>\n",
       "      <th>key</th>\n",
       "      <th>fare_amount</th>\n",
       "      <th>pickup_datetime</th>\n",
       "      <th>pickup_longitude</th>\n",
       "      <th>pickup_latitude</th>\n",
       "      <th>dropoff_longitude</th>\n",
       "      <th>dropoff_latitude</th>\n",
       "      <th>passenger_count</th>\n",
       "      <th>pickup_day_of_week</th>\n",
       "      <th>pickup_month</th>\n",
       "      <th>pickup_date</th>\n",
       "      <th>pickup_hour</th>\n",
       "      <th>pickup_year</th>\n",
       "      <th>id</th>\n",
       "      <th>interval</th>\n",
       "      <th>interval_time</th>\n",
       "    </tr>\n",
       "  </thead>\n",
       "  <tbody>\n",
       "    <tr>\n",
       "      <th>0</th>\n",
       "      <td>2009-06-15 17:26:21.0000001</td>\n",
       "      <td>4.5</td>\n",
       "      <td>2009-06-15 17:26:21</td>\n",
       "      <td>-73.84</td>\n",
       "      <td>40.72</td>\n",
       "      <td>-73.841610</td>\n",
       "      <td>40.712278</td>\n",
       "      <td>1</td>\n",
       "      <td>0</td>\n",
       "      <td>6</td>\n",
       "      <td>2009-06-15</td>\n",
       "      <td>17</td>\n",
       "      <td>2009</td>\n",
       "      <td>0</td>\n",
       "      <td>2009-06-15 17:15:00</td>\n",
       "      <td>17:15:00</td>\n",
       "    </tr>\n",
       "    <tr>\n",
       "      <th>1</th>\n",
       "      <td>2009-08-03 23:01:00.00000077</td>\n",
       "      <td>4.5</td>\n",
       "      <td>2009-08-03 23:01:00</td>\n",
       "      <td>-73.99</td>\n",
       "      <td>40.76</td>\n",
       "      <td>-73.984915</td>\n",
       "      <td>40.768142</td>\n",
       "      <td>5</td>\n",
       "      <td>0</td>\n",
       "      <td>8</td>\n",
       "      <td>2009-08-03</td>\n",
       "      <td>23</td>\n",
       "      <td>2009</td>\n",
       "      <td>410475</td>\n",
       "      <td>2009-08-03 23:00:00</td>\n",
       "      <td>23:00:00</td>\n",
       "    </tr>\n",
       "    <tr>\n",
       "      <th>2</th>\n",
       "      <td>2011-07-11 13:08:09.0000001</td>\n",
       "      <td>10.9</td>\n",
       "      <td>2011-07-11 13:08:09</td>\n",
       "      <td>-73.99</td>\n",
       "      <td>40.75</td>\n",
       "      <td>-74.014800</td>\n",
       "      <td>40.718000</td>\n",
       "      <td>1</td>\n",
       "      <td>0</td>\n",
       "      <td>7</td>\n",
       "      <td>2011-07-11</td>\n",
       "      <td>13</td>\n",
       "      <td>2011</td>\n",
       "      <td>410487</td>\n",
       "      <td>2011-07-11 13:00:00</td>\n",
       "      <td>13:00:00</td>\n",
       "    </tr>\n",
       "    <tr>\n",
       "      <th>3</th>\n",
       "      <td>2012-12-17 22:58:00.000000163</td>\n",
       "      <td>29.0</td>\n",
       "      <td>2012-12-17 22:58:00</td>\n",
       "      <td>-73.98</td>\n",
       "      <td>40.77</td>\n",
       "      <td>-73.962497</td>\n",
       "      <td>40.677382</td>\n",
       "      <td>3</td>\n",
       "      <td>0</td>\n",
       "      <td>12</td>\n",
       "      <td>2012-12-17</td>\n",
       "      <td>22</td>\n",
       "      <td>2012</td>\n",
       "      <td>410491</td>\n",
       "      <td>2012-12-17 22:45:00</td>\n",
       "      <td>22:45:00</td>\n",
       "    </tr>\n",
       "    <tr>\n",
       "      <th>4</th>\n",
       "      <td>2011-02-28 22:03:00.000000115</td>\n",
       "      <td>6.1</td>\n",
       "      <td>2011-02-28 22:03:00</td>\n",
       "      <td>-74.00</td>\n",
       "      <td>40.73</td>\n",
       "      <td>-73.978080</td>\n",
       "      <td>40.721325</td>\n",
       "      <td>1</td>\n",
       "      <td>0</td>\n",
       "      <td>2</td>\n",
       "      <td>2011-02-28</td>\n",
       "      <td>22</td>\n",
       "      <td>2011</td>\n",
       "      <td>410493</td>\n",
       "      <td>2011-02-28 22:00:00</td>\n",
       "      <td>22:00:00</td>\n",
       "    </tr>\n",
       "  </tbody>\n",
       "</table>\n",
       "</div>"
      ],
      "text/plain": [
       "                             key  fare_amount     pickup_datetime  \\\n",
       "0    2009-06-15 17:26:21.0000001          4.5 2009-06-15 17:26:21   \n",
       "1   2009-08-03 23:01:00.00000077          4.5 2009-08-03 23:01:00   \n",
       "2    2011-07-11 13:08:09.0000001         10.9 2011-07-11 13:08:09   \n",
       "3  2012-12-17 22:58:00.000000163         29.0 2012-12-17 22:58:00   \n",
       "4  2011-02-28 22:03:00.000000115          6.1 2011-02-28 22:03:00   \n",
       "\n",
       "   pickup_longitude  pickup_latitude  dropoff_longitude  dropoff_latitude  \\\n",
       "0            -73.84            40.72         -73.841610         40.712278   \n",
       "1            -73.99            40.76         -73.984915         40.768142   \n",
       "2            -73.99            40.75         -74.014800         40.718000   \n",
       "3            -73.98            40.77         -73.962497         40.677382   \n",
       "4            -74.00            40.73         -73.978080         40.721325   \n",
       "\n",
       "   passenger_count  pickup_day_of_week  pickup_month pickup_date  pickup_hour  \\\n",
       "0                1                   0             6  2009-06-15           17   \n",
       "1                5                   0             8  2009-08-03           23   \n",
       "2                1                   0             7  2011-07-11           13   \n",
       "3                3                   0            12  2012-12-17           22   \n",
       "4                1                   0             2  2011-02-28           22   \n",
       "\n",
       "   pickup_year      id            interval interval_time  \n",
       "0         2009       0 2009-06-15 17:15:00      17:15:00  \n",
       "1         2009  410475 2009-08-03 23:00:00      23:00:00  \n",
       "2         2011  410487 2011-07-11 13:00:00      13:00:00  \n",
       "3         2012  410491 2012-12-17 22:45:00      22:45:00  \n",
       "4         2011  410493 2011-02-28 22:00:00      22:00:00  "
      ]
     },
     "execution_count": 68,
     "metadata": {},
     "output_type": "execute_result"
    }
   ],
   "source": [
    "train_df.head()"
   ]
  },
  {
   "cell_type": "code",
   "execution_count": 69,
   "metadata": {},
   "outputs": [],
   "source": [
    "train_df['demand']=train_df.groupby(['interval','pickup_longitude','pickup_latitude'])['interval'].transform('count')"
   ]
  },
  {
   "cell_type": "code",
   "execution_count": 70,
   "metadata": {},
   "outputs": [
    {
     "data": {
      "text/html": [
       "<div>\n",
       "<style scoped>\n",
       "    .dataframe tbody tr th:only-of-type {\n",
       "        vertical-align: middle;\n",
       "    }\n",
       "\n",
       "    .dataframe tbody tr th {\n",
       "        vertical-align: top;\n",
       "    }\n",
       "\n",
       "    .dataframe thead th {\n",
       "        text-align: right;\n",
       "    }\n",
       "</style>\n",
       "<table border=\"1\" class=\"dataframe\">\n",
       "  <thead>\n",
       "    <tr style=\"text-align: right;\">\n",
       "      <th></th>\n",
       "      <th>key</th>\n",
       "      <th>fare_amount</th>\n",
       "      <th>pickup_datetime</th>\n",
       "      <th>pickup_longitude</th>\n",
       "      <th>pickup_latitude</th>\n",
       "      <th>dropoff_longitude</th>\n",
       "      <th>dropoff_latitude</th>\n",
       "      <th>passenger_count</th>\n",
       "      <th>pickup_day_of_week</th>\n",
       "      <th>pickup_month</th>\n",
       "      <th>pickup_date</th>\n",
       "      <th>pickup_hour</th>\n",
       "      <th>pickup_year</th>\n",
       "      <th>id</th>\n",
       "      <th>interval</th>\n",
       "      <th>interval_time</th>\n",
       "      <th>demand</th>\n",
       "    </tr>\n",
       "  </thead>\n",
       "  <tbody>\n",
       "    <tr>\n",
       "      <th>0</th>\n",
       "      <td>2009-06-15 17:26:21.0000001</td>\n",
       "      <td>4.5</td>\n",
       "      <td>2009-06-15 17:26:21</td>\n",
       "      <td>-73.84</td>\n",
       "      <td>40.72</td>\n",
       "      <td>-73.841610</td>\n",
       "      <td>40.712278</td>\n",
       "      <td>1</td>\n",
       "      <td>0</td>\n",
       "      <td>6</td>\n",
       "      <td>2009-06-15</td>\n",
       "      <td>17</td>\n",
       "      <td>2009</td>\n",
       "      <td>0</td>\n",
       "      <td>2009-06-15 17:15:00</td>\n",
       "      <td>17:15:00</td>\n",
       "      <td>1</td>\n",
       "    </tr>\n",
       "    <tr>\n",
       "      <th>1</th>\n",
       "      <td>2009-08-03 23:01:00.00000077</td>\n",
       "      <td>4.5</td>\n",
       "      <td>2009-08-03 23:01:00</td>\n",
       "      <td>-73.99</td>\n",
       "      <td>40.76</td>\n",
       "      <td>-73.984915</td>\n",
       "      <td>40.768142</td>\n",
       "      <td>5</td>\n",
       "      <td>0</td>\n",
       "      <td>8</td>\n",
       "      <td>2009-08-03</td>\n",
       "      <td>23</td>\n",
       "      <td>2009</td>\n",
       "      <td>410475</td>\n",
       "      <td>2009-08-03 23:00:00</td>\n",
       "      <td>23:00:00</td>\n",
       "      <td>1</td>\n",
       "    </tr>\n",
       "    <tr>\n",
       "      <th>2</th>\n",
       "      <td>2011-07-11 13:08:09.0000001</td>\n",
       "      <td>10.9</td>\n",
       "      <td>2011-07-11 13:08:09</td>\n",
       "      <td>-73.99</td>\n",
       "      <td>40.75</td>\n",
       "      <td>-74.014800</td>\n",
       "      <td>40.718000</td>\n",
       "      <td>1</td>\n",
       "      <td>0</td>\n",
       "      <td>7</td>\n",
       "      <td>2011-07-11</td>\n",
       "      <td>13</td>\n",
       "      <td>2011</td>\n",
       "      <td>410487</td>\n",
       "      <td>2011-07-11 13:00:00</td>\n",
       "      <td>13:00:00</td>\n",
       "      <td>3</td>\n",
       "    </tr>\n",
       "    <tr>\n",
       "      <th>3</th>\n",
       "      <td>2012-12-17 22:58:00.000000163</td>\n",
       "      <td>29.0</td>\n",
       "      <td>2012-12-17 22:58:00</td>\n",
       "      <td>-73.98</td>\n",
       "      <td>40.77</td>\n",
       "      <td>-73.962497</td>\n",
       "      <td>40.677382</td>\n",
       "      <td>3</td>\n",
       "      <td>0</td>\n",
       "      <td>12</td>\n",
       "      <td>2012-12-17</td>\n",
       "      <td>22</td>\n",
       "      <td>2012</td>\n",
       "      <td>410491</td>\n",
       "      <td>2012-12-17 22:45:00</td>\n",
       "      <td>22:45:00</td>\n",
       "      <td>1</td>\n",
       "    </tr>\n",
       "    <tr>\n",
       "      <th>4</th>\n",
       "      <td>2011-02-28 22:03:00.000000115</td>\n",
       "      <td>6.1</td>\n",
       "      <td>2011-02-28 22:03:00</td>\n",
       "      <td>-74.00</td>\n",
       "      <td>40.73</td>\n",
       "      <td>-73.978080</td>\n",
       "      <td>40.721325</td>\n",
       "      <td>1</td>\n",
       "      <td>0</td>\n",
       "      <td>2</td>\n",
       "      <td>2011-02-28</td>\n",
       "      <td>22</td>\n",
       "      <td>2011</td>\n",
       "      <td>410493</td>\n",
       "      <td>2011-02-28 22:00:00</td>\n",
       "      <td>22:00:00</td>\n",
       "      <td>1</td>\n",
       "    </tr>\n",
       "  </tbody>\n",
       "</table>\n",
       "</div>"
      ],
      "text/plain": [
       "                             key  fare_amount     pickup_datetime  \\\n",
       "0    2009-06-15 17:26:21.0000001          4.5 2009-06-15 17:26:21   \n",
       "1   2009-08-03 23:01:00.00000077          4.5 2009-08-03 23:01:00   \n",
       "2    2011-07-11 13:08:09.0000001         10.9 2011-07-11 13:08:09   \n",
       "3  2012-12-17 22:58:00.000000163         29.0 2012-12-17 22:58:00   \n",
       "4  2011-02-28 22:03:00.000000115          6.1 2011-02-28 22:03:00   \n",
       "\n",
       "   pickup_longitude  pickup_latitude  dropoff_longitude  dropoff_latitude  \\\n",
       "0            -73.84            40.72         -73.841610         40.712278   \n",
       "1            -73.99            40.76         -73.984915         40.768142   \n",
       "2            -73.99            40.75         -74.014800         40.718000   \n",
       "3            -73.98            40.77         -73.962497         40.677382   \n",
       "4            -74.00            40.73         -73.978080         40.721325   \n",
       "\n",
       "   passenger_count  pickup_day_of_week  pickup_month pickup_date  pickup_hour  \\\n",
       "0                1                   0             6  2009-06-15           17   \n",
       "1                5                   0             8  2009-08-03           23   \n",
       "2                1                   0             7  2011-07-11           13   \n",
       "3                3                   0            12  2012-12-17           22   \n",
       "4                1                   0             2  2011-02-28           22   \n",
       "\n",
       "   pickup_year      id            interval interval_time  demand  \n",
       "0         2009       0 2009-06-15 17:15:00      17:15:00       1  \n",
       "1         2009  410475 2009-08-03 23:00:00      23:00:00       1  \n",
       "2         2011  410487 2011-07-11 13:00:00      13:00:00       3  \n",
       "3         2012  410491 2012-12-17 22:45:00      22:45:00       1  \n",
       "4         2011  410493 2011-02-28 22:00:00      22:00:00       1  "
      ]
     },
     "execution_count": 70,
     "metadata": {},
     "output_type": "execute_result"
    }
   ],
   "source": [
    "train_df.head()"
   ]
  },
  {
   "cell_type": "code",
   "execution_count": 71,
   "metadata": {},
   "outputs": [
    {
     "data": {
      "text/plain": [
       "<matplotlib.axes._subplots.AxesSubplot at 0x5e317b38>"
      ]
     },
     "execution_count": 71,
     "metadata": {},
     "output_type": "execute_result"
    },
    {
     "data": {
      "image/png": "[encoded data removed]",
      "text/plain": [
       "<Figure size 432x288 with 1 Axes>"
      ]
     },
     "metadata": {
      "needs_background": "light"
     },
     "output_type": "display_data"
    }
   ],
   "source": [
    "train_df['demand'].value_counts().sort_index().plot()"
   ]
  },
  {
   "cell_type": "code",
   "execution_count": 72,
   "metadata": {},
   "outputs": [
    {
     "data": {
      "text/plain": [
       "<matplotlib.axes._subplots.AxesSubplot at 0x35b212e8>"
      ]
     },
     "execution_count": 72,
     "metadata": {},
     "output_type": "execute_result"
    },
    {
     "data": {
      "image/png": "[encoded data removed]",
      "text/plain": [
       "<Figure size 432x288 with 1 Axes>"
      ]
     },
     "metadata": {
      "needs_background": "light"
     },
     "output_type": "display_data"
    }
   ],
   "source": [
    "train_df.groupby('demand')['fare_amount'].mean().plot()"
   ]
  },
  {
   "cell_type": "code",
   "execution_count": 73,
   "metadata": {},
   "outputs": [],
   "source": [
    "def distance(lat1, lon1, lat2, lon2):\n",
    "    \"\"\"\n",
    "    calculates the Manhattan distance between 2 points using their coordinates   \n",
    "    Returns\n",
    "    -------\n",
    "    d: float\n",
    "        The Manhattan distance between the two points in kilometers\n",
    "    \"\"\"\n",
    "    d = haversine((lat1, lon1), (lat2, lon1)) + haversine((lat2, lon1), (lat2, lon2))\n",
    "    return d\n",
    "\n",
    "# The distance is calculated in kilometers\n",
    "train_df[\"distance\"] = train_df.apply(lambda row: distance(row[\"pickup_latitude\"], \n",
    "                                               row[\"pickup_longitude\"], \n",
    "                                               row[\"dropoff_latitude\"], \n",
    "                                               row[\"dropoff_longitude\"]), axis=1)"
   ]
  },
  {
   "cell_type": "code",
   "execution_count": 74,
   "metadata": {},
   "outputs": [
    {
     "data": {
      "text/plain": [
       "0          0.994348\n",
       "1          1.333581\n",
       "2          5.648338\n",
       "3         11.774684\n",
       "4          2.811899\n",
       "5          2.236873\n",
       "6          1.916328\n",
       "7          2.848470\n",
       "8          5.543908\n",
       "9          0.307994\n",
       "10         1.779232\n",
       "11         9.505639\n",
       "12         1.700778\n",
       "13         2.724473\n",
       "14         3.071089\n",
       "15        21.839867\n",
       "16         2.755513\n",
       "17         4.304596\n",
       "18         0.542047\n",
       "19         0.701315\n",
       "20         1.481350\n",
       "21         3.030238\n",
       "22         6.008949\n",
       "23         2.902709\n",
       "24         9.485814\n",
       "25         0.582736\n",
       "26         1.227529\n",
       "27         4.691100\n",
       "28         4.743672\n",
       "29         0.000000\n",
       "            ...    \n",
       "999970     8.208024\n",
       "999971     5.758488\n",
       "999972     5.287813\n",
       "999973     1.778609\n",
       "999974     0.823994\n",
       "999975     3.533078\n",
       "999976     1.085037\n",
       "999977    34.915028\n",
       "999978     7.348836\n",
       "999979     0.982604\n",
       "999980    23.386542\n",
       "999981     8.747947\n",
       "999982     1.553576\n",
       "999983     1.728682\n",
       "999984     2.445260\n",
       "999985     1.607214\n",
       "999986     3.056351\n",
       "999987    15.560204\n",
       "999988     7.503730\n",
       "999989     6.343163\n",
       "999990     5.495309\n",
       "999991     2.917594\n",
       "999992     8.636808\n",
       "999993    10.314731\n",
       "999994     0.940635\n",
       "999995     4.114250\n",
       "999996     4.432105\n",
       "999997     7.178145\n",
       "999998     1.260764\n",
       "999999     1.695467\n",
       "Name: distance, Length: 1000000, dtype: float64"
      ]
     },
     "execution_count": 74,
     "metadata": {},
     "output_type": "execute_result"
    }
   ],
   "source": [
    "train_df[\"distance\"]"
   ]
  },
  {
   "cell_type": "code",
   "execution_count": 78,
   "metadata": {},
   "outputs": [
    {
     "data": {
      "text/plain": [
       "<matplotlib.axes._subplots.AxesSubplot at 0x5716fcc0>"
      ]
     },
     "execution_count": 78,
     "metadata": {},
     "output_type": "execute_result"
    },
    {
     "data": {
      "image/png": "[encoded data removed]",
      "text/plain": [
       "<Figure size 432x288 with 1 Axes>"
      ]
     },
     "metadata": {
      "needs_background": "light"
     },
     "output_type": "display_data"
    }
   ],
   "source": [
    "train_df.groupby('distance')['fare_amount'].mean().plot()"
   ]
  },
  {
   "cell_type": "code",
   "execution_count": 79,
   "metadata": {},
   "outputs": [
    {
     "data": {
      "text/plain": [
       "0          4.50\n",
       "1          4.50\n",
       "2         10.90\n",
       "3         29.00\n",
       "4          6.10\n",
       "5          6.90\n",
       "6          6.10\n",
       "7          7.70\n",
       "8          8.10\n",
       "9         56.80\n",
       "10         4.50\n",
       "11        22.89\n",
       "12         4.10\n",
       "13        13.50\n",
       "14         6.10\n",
       "15        44.00\n",
       "16         6.90\n",
       "17         7.30\n",
       "18         5.00\n",
       "19         4.50\n",
       "20         4.90\n",
       "21         7.00\n",
       "22        14.00\n",
       "23         6.50\n",
       "24        16.10\n",
       "25         6.50\n",
       "26         7.50\n",
       "27         9.70\n",
       "28        10.50\n",
       "29         4.90\n",
       "          ...  \n",
       "999970    15.50\n",
       "999971    15.00\n",
       "999972    11.00\n",
       "999973     7.00\n",
       "999974     4.50\n",
       "999975     8.90\n",
       "999976     7.30\n",
       "999977    57.33\n",
       "999978    12.10\n",
       "999979     4.90\n",
       "999980    48.33\n",
       "999981    15.70\n",
       "999982     6.50\n",
       "999983     6.50\n",
       "999984     6.50\n",
       "999985     5.30\n",
       "999986    10.00\n",
       "999987    17.30\n",
       "999988    10.90\n",
       "999989    10.10\n",
       "999990    13.70\n",
       "999991     9.50\n",
       "999992    31.83\n",
       "999993    19.30\n",
       "999994     3.70\n",
       "999995    14.90\n",
       "999996    11.50\n",
       "999997    24.00\n",
       "999998     4.90\n",
       "999999     7.50\n",
       "Name: fare_amount, Length: 1000000, dtype: float64"
      ]
     },
     "execution_count": 79,
     "metadata": {},
     "output_type": "execute_result"
    }
   ],
   "source": [
    "train_df[\"fare_amount\"]"
   ]
  },
  {
   "cell_type": "code",
   "execution_count": 80,
   "metadata": {},
   "outputs": [
    {
     "data": {
      "text/plain": [
       "22139.91139709688"
      ]
     },
     "execution_count": 80,
     "metadata": {},
     "output_type": "execute_result"
    }
   ],
   "source": [
    "train_df['distance'].max()"
   ]
  },
  {
   "cell_type": "code",
   "execution_count": 81,
   "metadata": {},
   "outputs": [],
   "source": [
    "train_df.to_csv(\"train_formatted.csv\")"
   ]
  },
  {
   "cell_type": "code",
   "execution_count": 82,
   "metadata": {},
   "outputs": [
    {
     "data": {
      "text/html": [
       "<div>\n",
       "<style scoped>\n",
       "    .dataframe tbody tr th:only-of-type {\n",
       "        vertical-align: middle;\n",
       "    }\n",
       "\n",
       "    .dataframe tbody tr th {\n",
       "        vertical-align: top;\n",
       "    }\n",
       "\n",
       "    .dataframe thead th {\n",
       "        text-align: right;\n",
       "    }\n",
       "</style>\n",
       "<table border=\"1\" class=\"dataframe\">\n",
       "  <thead>\n",
       "    <tr style=\"text-align: right;\">\n",
       "      <th></th>\n",
       "      <th>count</th>\n",
       "      <th>mean</th>\n",
       "      <th>std</th>\n",
       "      <th>min</th>\n",
       "      <th>25%</th>\n",
       "      <th>50%</th>\n",
       "      <th>75%</th>\n",
       "      <th>max</th>\n",
       "    </tr>\n",
       "  </thead>\n",
       "  <tbody>\n",
       "    <tr>\n",
       "      <th>fare_amount</th>\n",
       "      <td>1000000.0</td>\n",
       "      <td>11.348079</td>\n",
       "      <td>9.822090</td>\n",
       "      <td>-44.900000</td>\n",
       "      <td>6.000000</td>\n",
       "      <td>8.500000</td>\n",
       "      <td>12.500000</td>\n",
       "      <td>500.000000</td>\n",
       "    </tr>\n",
       "    <tr>\n",
       "      <th>pickup_longitude</th>\n",
       "      <td>1000000.0</td>\n",
       "      <td>-72.526588</td>\n",
       "      <td>12.057929</td>\n",
       "      <td>-3377.680000</td>\n",
       "      <td>-73.990000</td>\n",
       "      <td>-73.980000</td>\n",
       "      <td>-73.970000</td>\n",
       "      <td>2522.270000</td>\n",
       "    </tr>\n",
       "    <tr>\n",
       "      <th>pickup_latitude</th>\n",
       "      <td>1000000.0</td>\n",
       "      <td>39.928901</td>\n",
       "      <td>7.626147</td>\n",
       "      <td>-3116.290000</td>\n",
       "      <td>40.730000</td>\n",
       "      <td>40.750000</td>\n",
       "      <td>40.770000</td>\n",
       "      <td>2621.630000</td>\n",
       "    </tr>\n",
       "    <tr>\n",
       "      <th>dropoff_longitude</th>\n",
       "      <td>999990.0</td>\n",
       "      <td>-72.527860</td>\n",
       "      <td>11.324494</td>\n",
       "      <td>-3383.296608</td>\n",
       "      <td>-73.991385</td>\n",
       "      <td>-73.980135</td>\n",
       "      <td>-73.963654</td>\n",
       "      <td>45.581619</td>\n",
       "    </tr>\n",
       "    <tr>\n",
       "      <th>dropoff_latitude</th>\n",
       "      <td>999990.0</td>\n",
       "      <td>39.919954</td>\n",
       "      <td>8.201418</td>\n",
       "      <td>-3114.338567</td>\n",
       "      <td>40.734046</td>\n",
       "      <td>40.753166</td>\n",
       "      <td>40.768129</td>\n",
       "      <td>1651.553433</td>\n",
       "    </tr>\n",
       "    <tr>\n",
       "      <th>passenger_count</th>\n",
       "      <td>1000000.0</td>\n",
       "      <td>1.684924</td>\n",
       "      <td>1.323911</td>\n",
       "      <td>0.000000</td>\n",
       "      <td>1.000000</td>\n",
       "      <td>1.000000</td>\n",
       "      <td>2.000000</td>\n",
       "      <td>208.000000</td>\n",
       "    </tr>\n",
       "    <tr>\n",
       "      <th>pickup_day_of_week</th>\n",
       "      <td>1000000.0</td>\n",
       "      <td>3.039856</td>\n",
       "      <td>1.949970</td>\n",
       "      <td>0.000000</td>\n",
       "      <td>1.000000</td>\n",
       "      <td>3.000000</td>\n",
       "      <td>5.000000</td>\n",
       "      <td>6.000000</td>\n",
       "    </tr>\n",
       "    <tr>\n",
       "      <th>pickup_month</th>\n",
       "      <td>1000000.0</td>\n",
       "      <td>6.267875</td>\n",
       "      <td>3.436243</td>\n",
       "      <td>1.000000</td>\n",
       "      <td>3.000000</td>\n",
       "      <td>6.000000</td>\n",
       "      <td>9.000000</td>\n",
       "      <td>12.000000</td>\n",
       "    </tr>\n",
       "    <tr>\n",
       "      <th>pickup_hour</th>\n",
       "      <td>1000000.0</td>\n",
       "      <td>13.509477</td>\n",
       "      <td>6.513840</td>\n",
       "      <td>0.000000</td>\n",
       "      <td>9.000000</td>\n",
       "      <td>14.000000</td>\n",
       "      <td>19.000000</td>\n",
       "      <td>23.000000</td>\n",
       "    </tr>\n",
       "    <tr>\n",
       "      <th>pickup_year</th>\n",
       "      <td>1000000.0</td>\n",
       "      <td>2011.741106</td>\n",
       "      <td>1.860754</td>\n",
       "      <td>2009.000000</td>\n",
       "      <td>2010.000000</td>\n",
       "      <td>2012.000000</td>\n",
       "      <td>2013.000000</td>\n",
       "      <td>2015.000000</td>\n",
       "    </tr>\n",
       "    <tr>\n",
       "      <th>id</th>\n",
       "      <td>1000000.0</td>\n",
       "      <td>499999.500000</td>\n",
       "      <td>288675.278933</td>\n",
       "      <td>0.000000</td>\n",
       "      <td>249999.750000</td>\n",
       "      <td>499999.500000</td>\n",
       "      <td>749999.250000</td>\n",
       "      <td>999999.000000</td>\n",
       "    </tr>\n",
       "    <tr>\n",
       "      <th>demand</th>\n",
       "      <td>1000000.0</td>\n",
       "      <td>1.178272</td>\n",
       "      <td>0.446575</td>\n",
       "      <td>1.000000</td>\n",
       "      <td>1.000000</td>\n",
       "      <td>1.000000</td>\n",
       "      <td>1.000000</td>\n",
       "      <td>6.000000</td>\n",
       "    </tr>\n",
       "    <tr>\n",
       "      <th>distance</th>\n",
       "      <td>999990.0</td>\n",
       "      <td>24.987805</td>\n",
       "      <td>482.911957</td>\n",
       "      <td>0.000000</td>\n",
       "      <td>1.576720</td>\n",
       "      <td>2.764460</td>\n",
       "      <td>5.039720</td>\n",
       "      <td>22139.911397</td>\n",
       "    </tr>\n",
       "  </tbody>\n",
       "</table>\n",
       "</div>"
      ],
      "text/plain": [
       "                        count           mean            std          min  \\\n",
       "fare_amount         1000000.0      11.348079       9.822090   -44.900000   \n",
       "pickup_longitude    1000000.0     -72.526588      12.057929 -3377.680000   \n",
       "pickup_latitude     1000000.0      39.928901       7.626147 -3116.290000   \n",
       "dropoff_longitude    999990.0     -72.527860      11.324494 -3383.296608   \n",
       "dropoff_latitude     999990.0      39.919954       8.201418 -3114.338567   \n",
       "passenger_count     1000000.0       1.684924       1.323911     0.000000   \n",
       "pickup_day_of_week  1000000.0       3.039856       1.949970     0.000000   \n",
       "pickup_month        1000000.0       6.267875       3.436243     1.000000   \n",
       "pickup_hour         1000000.0      13.509477       6.513840     0.000000   \n",
       "pickup_year         1000000.0    2011.741106       1.860754  2009.000000   \n",
       "id                  1000000.0  499999.500000  288675.278933     0.000000   \n",
       "demand              1000000.0       1.178272       0.446575     1.000000   \n",
       "distance             999990.0      24.987805     482.911957     0.000000   \n",
       "\n",
       "                              25%            50%            75%            max  \n",
       "fare_amount              6.000000       8.500000      12.500000     500.000000  \n",
       "pickup_longitude       -73.990000     -73.980000     -73.970000    2522.270000  \n",
       "pickup_latitude         40.730000      40.750000      40.770000    2621.630000  \n",
       "dropoff_longitude      -73.991385     -73.980135     -73.963654      45.581619  \n",
       "dropoff_latitude        40.734046      40.753166      40.768129    1651.553433  \n",
       "passenger_count          1.000000       1.000000       2.000000     208.000000  \n",
       "pickup_day_of_week       1.000000       3.000000       5.000000       6.000000  \n",
       "pickup_month             3.000000       6.000000       9.000000      12.000000  \n",
       "pickup_hour              9.000000      14.000000      19.000000      23.000000  \n",
       "pickup_year           2010.000000    2012.000000    2013.000000    2015.000000  \n",
       "id                  249999.750000  499999.500000  749999.250000  999999.000000  \n",
       "demand                   1.000000       1.000000       1.000000       6.000000  \n",
       "distance                 1.576720       2.764460       5.039720   22139.911397  "
      ]
     },
     "execution_count": 82,
     "metadata": {},
     "output_type": "execute_result"
    }
   ],
   "source": [
    "train_df.describe().transpose()"
   ]
  },
  {
   "cell_type": "code",
   "execution_count": 83,
   "metadata": {},
   "outputs": [
    {
     "data": {
      "text/plain": [
       "0        2009-06-15 17:15:00\n",
       "1        2009-08-03 23:00:00\n",
       "2        2011-07-11 13:00:00\n",
       "3        2012-12-17 22:45:00\n",
       "4        2011-02-28 22:00:00\n",
       "5        2010-03-29 13:00:00\n",
       "6        2012-03-26 02:00:00\n",
       "7        2011-04-18 14:00:00\n",
       "8        2012-07-02 22:30:00\n",
       "9        2012-10-01 00:15:00\n",
       "10       2009-09-21 20:45:00\n",
       "11       2012-06-18 21:45:00\n",
       "12       2009-06-15 14:45:00\n",
       "13       2013-05-06 07:30:00\n",
       "14       2010-01-11 17:00:00\n",
       "15       2013-06-17 16:15:00\n",
       "16       2012-03-26 17:15:00\n",
       "17       2009-05-04 15:30:00\n",
       "18       2015-02-02 10:30:00\n",
       "19       2015-06-15 15:30:00\n",
       "20       2011-02-07 09:15:00\n",
       "21       2012-09-10 22:30:00\n",
       "22       2014-10-27 17:15:00\n",
       "23       2009-03-16 10:15:00\n",
       "24       2009-08-31 01:00:00\n",
       "25       2013-02-11 09:00:00\n",
       "26       2015-03-02 13:30:00\n",
       "27       2012-04-02 22:00:00\n",
       "28       2010-02-22 09:45:00\n",
       "29       2009-12-28 20:15:00\n",
       "                 ...        \n",
       "999970   2014-02-09 20:45:00\n",
       "999971   2014-05-11 16:15:00\n",
       "999972   2014-06-01 12:15:00\n",
       "999973   2013-12-08 21:15:00\n",
       "999974   2014-11-02 00:00:00\n",
       "999975   2012-06-03 19:45:00\n",
       "999976   2009-04-19 17:15:00\n",
       "999977   2014-02-23 17:45:00\n",
       "999978   2010-01-03 15:15:00\n",
       "999979   2012-04-29 15:45:00\n",
       "999980   2013-10-13 15:30:00\n",
       "999981   2010-02-28 06:45:00\n",
       "999982   2015-02-08 11:30:00\n",
       "999983   2011-12-25 11:15:00\n",
       "999984   2012-01-29 00:30:00\n",
       "999985   2011-07-31 03:45:00\n",
       "999986   2012-11-18 01:15:00\n",
       "999987   2009-04-19 23:45:00\n",
       "999988   2011-09-18 15:15:00\n",
       "999989   2011-10-09 23:30:00\n",
       "999990   2012-08-12 17:15:00\n",
       "999991   2014-08-03 20:00:00\n",
       "999992   2015-03-08 23:00:00\n",
       "999993   2011-11-20 12:15:00\n",
       "999994   2009-07-26 06:30:00\n",
       "999995   2012-06-24 15:45:00\n",
       "999996   2012-09-30 04:00:00\n",
       "999997   2012-10-07 12:30:00\n",
       "999998   2011-04-17 20:30:00\n",
       "999999   2015-05-10 13:00:00\n",
       "Name: interval, Length: 1000000, dtype: datetime64[ns]"
      ]
     },
     "execution_count": 83,
     "metadata": {},
     "output_type": "execute_result"
    }
   ],
   "source": [
    "train_df[\"interval\"]"
   ]
  },
  {
   "cell_type": "code",
   "execution_count": 84,
   "metadata": {},
   "outputs": [
    {
     "name": "stdout",
     "output_type": "stream",
     "text": [
      "<class 'pandas.core.frame.DataFrame'>\n",
      "Int64Index: 1000000 entries, 0 to 999999\n",
      "Data columns (total 18 columns):\n",
      "key                   1000000 non-null object\n",
      "fare_amount           1000000 non-null float64\n",
      "pickup_datetime       1000000 non-null datetime64[ns]\n",
      "pickup_longitude      1000000 non-null float64\n",
      "pickup_latitude       1000000 non-null float64\n",
      "dropoff_longitude     999990 non-null float64\n",
      "dropoff_latitude      999990 non-null float64\n",
      "passenger_count       1000000 non-null int64\n",
      "pickup_day_of_week    1000000 non-null int64\n",
      "pickup_month          1000000 non-null int64\n",
      "pickup_date           1000000 non-null object\n",
      "pickup_hour           1000000 non-null int64\n",
      "pickup_year           1000000 non-null int64\n",
      "id                    1000000 non-null int64\n",
      "interval              1000000 non-null datetime64[ns]\n",
      "interval_time         1000000 non-null object\n",
      "demand                1000000 non-null int64\n",
      "distance              999990 non-null float64\n",
      "dtypes: datetime64[ns](2), float64(6), int64(7), object(3)\n",
      "memory usage: 145.0+ MB\n"
     ]
    }
   ],
   "source": [
    "train_df.info()"
   ]
  },
  {
   "cell_type": "code",
   "execution_count": 85,
   "metadata": {},
   "outputs": [],
   "source": [
    "train_df.to_csv(\"formatted.csv\")"
   ]
  },
  {
   "cell_type": "code",
   "execution_count": 117,
   "metadata": {},
   "outputs": [],
   "source": [
    "df = pd.read_csv('formatted.csv')"
   ]
  },
  {
   "cell_type": "code",
   "execution_count": 118,
   "metadata": {},
   "outputs": [
    {
     "name": "stdout",
     "output_type": "stream",
     "text": [
      "<class 'pandas.core.frame.DataFrame'>\n",
      "RangeIndex: 1000000 entries, 0 to 999999\n",
      "Data columns (total 19 columns):\n",
      "Unnamed: 0            1000000 non-null int64\n",
      "key                   1000000 non-null object\n",
      "fare_amount           1000000 non-null float64\n",
      "pickup_datetime       1000000 non-null object\n",
      "pickup_longitude      1000000 non-null float64\n",
      "pickup_latitude       1000000 non-null float64\n",
      "dropoff_longitude     999990 non-null float64\n",
      "dropoff_latitude      999990 non-null float64\n",
      "passenger_count       1000000 non-null int64\n",
      "pickup_day_of_week    1000000 non-null int64\n",
      "pickup_month          1000000 non-null int64\n",
      "pickup_date           1000000 non-null object\n",
      "pickup_hour           1000000 non-null int64\n",
      "pickup_year           1000000 non-null int64\n",
      "id                    1000000 non-null int64\n",
      "interval              1000000 non-null object\n",
      "interval_time         1000000 non-null object\n",
      "demand                1000000 non-null int64\n",
      "distance              999990 non-null float64\n",
      "dtypes: float64(6), int64(8), object(5)\n",
      "memory usage: 145.0+ MB\n"
     ]
    }
   ],
   "source": [
    "df.info()"
   ]
  },
  {
   "cell_type": "code",
   "execution_count": 119,
   "metadata": {},
   "outputs": [],
   "source": [
    "\n",
    "df = df[[\"interval\",\"fare_amount\",\"distance\",\"pickup_longitude\",\"pickup_latitude\",\"dropoff_latitude\",\"dropoff_latitude\",\"pickup_hour\",\"pickup_month\"]]"
   ]
  },
  {
   "cell_type": "code",
   "execution_count": 124,
   "metadata": {},
   "outputs": [],
   "source": [
    "df.interval = pd.to_datetime(df.interval)"
   ]
  },
  {
   "cell_type": "code",
   "execution_count": 125,
   "metadata": {},
   "outputs": [],
   "source": [
    "df =df.loc[df.pickup_longitude<80]"
   ]
  },
  {
   "cell_type": "code",
   "execution_count": 126,
   "metadata": {},
   "outputs": [],
   "source": [
    "df=df.loc[df.distance<100]"
   ]
  },
  {
   "cell_type": "code",
   "execution_count": 127,
   "metadata": {},
   "outputs": [
    {
     "data": {
      "text/html": [
       "<div>\n",
       "<style scoped>\n",
       "    .dataframe tbody tr th:only-of-type {\n",
       "        vertical-align: middle;\n",
       "    }\n",
       "\n",
       "    .dataframe tbody tr th {\n",
       "        vertical-align: top;\n",
       "    }\n",
       "\n",
       "    .dataframe thead th {\n",
       "        text-align: right;\n",
       "    }\n",
       "</style>\n",
       "<table border=\"1\" class=\"dataframe\">\n",
       "  <thead>\n",
       "    <tr style=\"text-align: right;\">\n",
       "      <th></th>\n",
       "      <th>fare_amount</th>\n",
       "      <th>distance</th>\n",
       "      <th>pickup_longitude</th>\n",
       "      <th>pickup_latitude</th>\n",
       "      <th>dropoff_latitude</th>\n",
       "      <th>dropoff_latitude</th>\n",
       "      <th>pickup_hour</th>\n",
       "      <th>pickup_month</th>\n",
       "    </tr>\n",
       "  </thead>\n",
       "  <tbody>\n",
       "    <tr>\n",
       "      <th>count</th>\n",
       "      <td>997697.000000</td>\n",
       "      <td>997697.000000</td>\n",
       "      <td>997697.000000</td>\n",
       "      <td>997697.000000</td>\n",
       "      <td>997697.000000</td>\n",
       "      <td>997697.000000</td>\n",
       "      <td>997697.000000</td>\n",
       "      <td>997697.000000</td>\n",
       "    </tr>\n",
       "    <tr>\n",
       "      <th>mean</th>\n",
       "      <td>11.337867</td>\n",
       "      <td>4.225106</td>\n",
       "      <td>-72.582701</td>\n",
       "      <td>39.959192</td>\n",
       "      <td>39.959322</td>\n",
       "      <td>39.959322</td>\n",
       "      <td>13.509368</td>\n",
       "      <td>6.268318</td>\n",
       "    </tr>\n",
       "    <tr>\n",
       "      <th>std</th>\n",
       "      <td>9.772840</td>\n",
       "      <td>4.731724</td>\n",
       "      <td>10.168047</td>\n",
       "      <td>5.996480</td>\n",
       "      <td>5.985616</td>\n",
       "      <td>5.985616</td>\n",
       "      <td>6.514183</td>\n",
       "      <td>3.436555</td>\n",
       "    </tr>\n",
       "    <tr>\n",
       "      <th>min</th>\n",
       "      <td>-44.900000</td>\n",
       "      <td>0.000000</td>\n",
       "      <td>-121.390000</td>\n",
       "      <td>-74.020000</td>\n",
       "      <td>-74.035197</td>\n",
       "      <td>-74.035197</td>\n",
       "      <td>0.000000</td>\n",
       "      <td>1.000000</td>\n",
       "    </tr>\n",
       "    <tr>\n",
       "      <th>25%</th>\n",
       "      <td>6.000000</td>\n",
       "      <td>1.574384</td>\n",
       "      <td>-73.990000</td>\n",
       "      <td>40.740000</td>\n",
       "      <td>40.734110</td>\n",
       "      <td>40.734110</td>\n",
       "      <td>9.000000</td>\n",
       "      <td>3.000000</td>\n",
       "    </tr>\n",
       "    <tr>\n",
       "      <th>50%</th>\n",
       "      <td>8.500000</td>\n",
       "      <td>2.757260</td>\n",
       "      <td>-73.980000</td>\n",
       "      <td>40.750000</td>\n",
       "      <td>40.753196</td>\n",
       "      <td>40.753196</td>\n",
       "      <td>14.000000</td>\n",
       "      <td>6.000000</td>\n",
       "    </tr>\n",
       "    <tr>\n",
       "      <th>75%</th>\n",
       "      <td>12.500000</td>\n",
       "      <td>5.013622</td>\n",
       "      <td>-73.970000</td>\n",
       "      <td>40.770000</td>\n",
       "      <td>40.768145</td>\n",
       "      <td>40.768145</td>\n",
       "      <td>19.000000</td>\n",
       "      <td>9.000000</td>\n",
       "    </tr>\n",
       "    <tr>\n",
       "      <th>max</th>\n",
       "      <td>500.000000</td>\n",
       "      <td>98.419500</td>\n",
       "      <td>40.850000</td>\n",
       "      <td>401.080000</td>\n",
       "      <td>47.890090</td>\n",
       "      <td>47.890090</td>\n",
       "      <td>23.000000</td>\n",
       "      <td>12.000000</td>\n",
       "    </tr>\n",
       "  </tbody>\n",
       "</table>\n",
       "</div>"
      ],
      "text/plain": [
       "         fare_amount       distance  pickup_longitude  pickup_latitude  \\\n",
       "count  997697.000000  997697.000000     997697.000000    997697.000000   \n",
       "mean       11.337867       4.225106        -72.582701        39.959192   \n",
       "std         9.772840       4.731724         10.168047         5.996480   \n",
       "min       -44.900000       0.000000       -121.390000       -74.020000   \n",
       "25%         6.000000       1.574384        -73.990000        40.740000   \n",
       "50%         8.500000       2.757260        -73.980000        40.750000   \n",
       "75%        12.500000       5.013622        -73.970000        40.770000   \n",
       "max       500.000000      98.419500         40.850000       401.080000   \n",
       "\n",
       "       dropoff_latitude  dropoff_latitude    pickup_hour   pickup_month  \n",
       "count     997697.000000     997697.000000  997697.000000  997697.000000  \n",
       "mean          39.959322         39.959322      13.509368       6.268318  \n",
       "std            5.985616          5.985616       6.514183       3.436555  \n",
       "min          -74.035197        -74.035197       0.000000       1.000000  \n",
       "25%           40.734110         40.734110       9.000000       3.000000  \n",
       "50%           40.753196         40.753196      14.000000       6.000000  \n",
       "75%           40.768145         40.768145      19.000000       9.000000  \n",
       "max           47.890090         47.890090      23.000000      12.000000  "
      ]
     },
     "execution_count": 127,
     "metadata": {},
     "output_type": "execute_result"
    }
   ],
   "source": [
    "df.describe()"
   ]
  },
  {
   "cell_type": "code",
   "execution_count": 128,
   "metadata": {},
   "outputs": [],
   "source": [
    "df.index = df.interval"
   ]
  },
  {
   "cell_type": "code",
   "execution_count": null,
   "metadata": {},
   "outputs": [],
   "source": []
  },
  {
   "cell_type": "code",
   "execution_count": 129,
   "metadata": {},
   "outputs": [
    {
     "data": {
      "text/html": [
       "<div>\n",
       "<style scoped>\n",
       "    .dataframe tbody tr th:only-of-type {\n",
       "        vertical-align: middle;\n",
       "    }\n",
       "\n",
       "    .dataframe tbody tr th {\n",
       "        vertical-align: top;\n",
       "    }\n",
       "\n",
       "    .dataframe thead th {\n",
       "        text-align: right;\n",
       "    }\n",
       "</style>\n",
       "<table border=\"1\" class=\"dataframe\">\n",
       "  <thead>\n",
       "    <tr style=\"text-align: right;\">\n",
       "      <th></th>\n",
       "      <th>interval</th>\n",
       "      <th>fare_amount</th>\n",
       "      <th>distance</th>\n",
       "      <th>pickup_longitude</th>\n",
       "      <th>pickup_latitude</th>\n",
       "      <th>dropoff_latitude</th>\n",
       "      <th>dropoff_latitude</th>\n",
       "      <th>pickup_hour</th>\n",
       "      <th>pickup_month</th>\n",
       "    </tr>\n",
       "    <tr>\n",
       "      <th>interval</th>\n",
       "      <th></th>\n",
       "      <th></th>\n",
       "      <th></th>\n",
       "      <th></th>\n",
       "      <th></th>\n",
       "      <th></th>\n",
       "      <th></th>\n",
       "      <th></th>\n",
       "      <th></th>\n",
       "    </tr>\n",
       "  </thead>\n",
       "  <tbody>\n",
       "    <tr>\n",
       "      <th>2009-06-15 17:15:00</th>\n",
       "      <td>2009-06-15 17:15:00</td>\n",
       "      <td>4.5</td>\n",
       "      <td>0.994348</td>\n",
       "      <td>-73.84</td>\n",
       "      <td>40.72</td>\n",
       "      <td>40.712278</td>\n",
       "      <td>40.712278</td>\n",
       "      <td>17</td>\n",
       "      <td>6</td>\n",
       "    </tr>\n",
       "    <tr>\n",
       "      <th>2009-08-03 23:00:00</th>\n",
       "      <td>2009-08-03 23:00:00</td>\n",
       "      <td>4.5</td>\n",
       "      <td>1.333581</td>\n",
       "      <td>-73.99</td>\n",
       "      <td>40.76</td>\n",
       "      <td>40.768142</td>\n",
       "      <td>40.768142</td>\n",
       "      <td>23</td>\n",
       "      <td>8</td>\n",
       "    </tr>\n",
       "    <tr>\n",
       "      <th>2011-07-11 13:00:00</th>\n",
       "      <td>2011-07-11 13:00:00</td>\n",
       "      <td>10.9</td>\n",
       "      <td>5.648338</td>\n",
       "      <td>-73.99</td>\n",
       "      <td>40.75</td>\n",
       "      <td>40.718000</td>\n",
       "      <td>40.718000</td>\n",
       "      <td>13</td>\n",
       "      <td>7</td>\n",
       "    </tr>\n",
       "    <tr>\n",
       "      <th>2012-12-17 22:45:00</th>\n",
       "      <td>2012-12-17 22:45:00</td>\n",
       "      <td>29.0</td>\n",
       "      <td>11.774684</td>\n",
       "      <td>-73.98</td>\n",
       "      <td>40.77</td>\n",
       "      <td>40.677382</td>\n",
       "      <td>40.677382</td>\n",
       "      <td>22</td>\n",
       "      <td>12</td>\n",
       "    </tr>\n",
       "    <tr>\n",
       "      <th>2011-02-28 22:00:00</th>\n",
       "      <td>2011-02-28 22:00:00</td>\n",
       "      <td>6.1</td>\n",
       "      <td>2.811899</td>\n",
       "      <td>-74.00</td>\n",
       "      <td>40.73</td>\n",
       "      <td>40.721325</td>\n",
       "      <td>40.721325</td>\n",
       "      <td>22</td>\n",
       "      <td>2</td>\n",
       "    </tr>\n",
       "  </tbody>\n",
       "</table>\n",
       "</div>"
      ],
      "text/plain": [
       "                               interval  fare_amount   distance  \\\n",
       "interval                                                          \n",
       "2009-06-15 17:15:00 2009-06-15 17:15:00          4.5   0.994348   \n",
       "2009-08-03 23:00:00 2009-08-03 23:00:00          4.5   1.333581   \n",
       "2011-07-11 13:00:00 2011-07-11 13:00:00         10.9   5.648338   \n",
       "2012-12-17 22:45:00 2012-12-17 22:45:00         29.0  11.774684   \n",
       "2011-02-28 22:00:00 2011-02-28 22:00:00          6.1   2.811899   \n",
       "\n",
       "                     pickup_longitude  pickup_latitude  dropoff_latitude  \\\n",
       "interval                                                                   \n",
       "2009-06-15 17:15:00            -73.84            40.72         40.712278   \n",
       "2009-08-03 23:00:00            -73.99            40.76         40.768142   \n",
       "2011-07-11 13:00:00            -73.99            40.75         40.718000   \n",
       "2012-12-17 22:45:00            -73.98            40.77         40.677382   \n",
       "2011-02-28 22:00:00            -74.00            40.73         40.721325   \n",
       "\n",
       "                     dropoff_latitude  pickup_hour  pickup_month  \n",
       "interval                                                          \n",
       "2009-06-15 17:15:00         40.712278           17             6  \n",
       "2009-08-03 23:00:00         40.768142           23             8  \n",
       "2011-07-11 13:00:00         40.718000           13             7  \n",
       "2012-12-17 22:45:00         40.677382           22            12  \n",
       "2011-02-28 22:00:00         40.721325           22             2  "
      ]
     },
     "execution_count": 129,
     "metadata": {},
     "output_type": "execute_result"
    }
   ],
   "source": [
    "df.head()"
   ]
  },
  {
   "cell_type": "code",
   "execution_count": 107,
   "metadata": {},
   "outputs": [
    {
     "data": {
      "text/plain": [
       "(997697, 9)"
      ]
     },
     "execution_count": 107,
     "metadata": {},
     "output_type": "execute_result"
    }
   ],
   "source": [
    "df.shape"
   ]
  },
  {
   "cell_type": "code",
   "execution_count": 108,
   "metadata": {},
   "outputs": [
    {
     "data": {
      "text/html": [
       "<div>\n",
       "<style scoped>\n",
       "    .dataframe tbody tr th:only-of-type {\n",
       "        vertical-align: middle;\n",
       "    }\n",
       "\n",
       "    .dataframe tbody tr th {\n",
       "        vertical-align: top;\n",
       "    }\n",
       "\n",
       "    .dataframe thead th {\n",
       "        text-align: right;\n",
       "    }\n",
       "</style>\n",
       "<table border=\"1\" class=\"dataframe\">\n",
       "  <thead>\n",
       "    <tr style=\"text-align: right;\">\n",
       "      <th></th>\n",
       "      <th>interval</th>\n",
       "      <th>fare_amount</th>\n",
       "      <th>distance</th>\n",
       "      <th>pickup_longitude</th>\n",
       "      <th>pickup_latitude</th>\n",
       "      <th>dropoff_latitude</th>\n",
       "      <th>dropoff_latitude</th>\n",
       "      <th>pickup_hour</th>\n",
       "      <th>pickup_month</th>\n",
       "    </tr>\n",
       "    <tr>\n",
       "      <th>interval</th>\n",
       "      <th></th>\n",
       "      <th></th>\n",
       "      <th></th>\n",
       "      <th></th>\n",
       "      <th></th>\n",
       "      <th></th>\n",
       "      <th></th>\n",
       "      <th></th>\n",
       "      <th></th>\n",
       "    </tr>\n",
       "  </thead>\n",
       "  <tbody>\n",
       "    <tr>\n",
       "      <th>2009-06-15 17:15:00</th>\n",
       "      <td>2009-06-15 17:15:00</td>\n",
       "      <td>4.5</td>\n",
       "      <td>0.994348</td>\n",
       "      <td>-73.84</td>\n",
       "      <td>40.72</td>\n",
       "      <td>40.712278</td>\n",
       "      <td>40.712278</td>\n",
       "      <td>17</td>\n",
       "      <td>6</td>\n",
       "    </tr>\n",
       "    <tr>\n",
       "      <th>2009-08-03 23:00:00</th>\n",
       "      <td>2009-08-03 23:00:00</td>\n",
       "      <td>4.5</td>\n",
       "      <td>1.333581</td>\n",
       "      <td>-73.99</td>\n",
       "      <td>40.76</td>\n",
       "      <td>40.768142</td>\n",
       "      <td>40.768142</td>\n",
       "      <td>23</td>\n",
       "      <td>8</td>\n",
       "    </tr>\n",
       "    <tr>\n",
       "      <th>2011-07-11 13:00:00</th>\n",
       "      <td>2011-07-11 13:00:00</td>\n",
       "      <td>10.9</td>\n",
       "      <td>5.648338</td>\n",
       "      <td>-73.99</td>\n",
       "      <td>40.75</td>\n",
       "      <td>40.718000</td>\n",
       "      <td>40.718000</td>\n",
       "      <td>13</td>\n",
       "      <td>7</td>\n",
       "    </tr>\n",
       "    <tr>\n",
       "      <th>2012-12-17 22:45:00</th>\n",
       "      <td>2012-12-17 22:45:00</td>\n",
       "      <td>29.0</td>\n",
       "      <td>11.774684</td>\n",
       "      <td>-73.98</td>\n",
       "      <td>40.77</td>\n",
       "      <td>40.677382</td>\n",
       "      <td>40.677382</td>\n",
       "      <td>22</td>\n",
       "      <td>12</td>\n",
       "    </tr>\n",
       "    <tr>\n",
       "      <th>2011-02-28 22:00:00</th>\n",
       "      <td>2011-02-28 22:00:00</td>\n",
       "      <td>6.1</td>\n",
       "      <td>2.811899</td>\n",
       "      <td>-74.00</td>\n",
       "      <td>40.73</td>\n",
       "      <td>40.721325</td>\n",
       "      <td>40.721325</td>\n",
       "      <td>22</td>\n",
       "      <td>2</td>\n",
       "    </tr>\n",
       "  </tbody>\n",
       "</table>\n",
       "</div>"
      ],
      "text/plain": [
       "                               interval  fare_amount   distance  \\\n",
       "interval                                                          \n",
       "2009-06-15 17:15:00 2009-06-15 17:15:00          4.5   0.994348   \n",
       "2009-08-03 23:00:00 2009-08-03 23:00:00          4.5   1.333581   \n",
       "2011-07-11 13:00:00 2011-07-11 13:00:00         10.9   5.648338   \n",
       "2012-12-17 22:45:00 2012-12-17 22:45:00         29.0  11.774684   \n",
       "2011-02-28 22:00:00 2011-02-28 22:00:00          6.1   2.811899   \n",
       "\n",
       "                     pickup_longitude  pickup_latitude  dropoff_latitude  \\\n",
       "interval                                                                   \n",
       "2009-06-15 17:15:00            -73.84            40.72         40.712278   \n",
       "2009-08-03 23:00:00            -73.99            40.76         40.768142   \n",
       "2011-07-11 13:00:00            -73.99            40.75         40.718000   \n",
       "2012-12-17 22:45:00            -73.98            40.77         40.677382   \n",
       "2011-02-28 22:00:00            -74.00            40.73         40.721325   \n",
       "\n",
       "                     dropoff_latitude  pickup_hour  pickup_month  \n",
       "interval                                                          \n",
       "2009-06-15 17:15:00         40.712278           17             6  \n",
       "2009-08-03 23:00:00         40.768142           23             8  \n",
       "2011-07-11 13:00:00         40.718000           13             7  \n",
       "2012-12-17 22:45:00         40.677382           22            12  \n",
       "2011-02-28 22:00:00         40.721325           22             2  "
      ]
     },
     "execution_count": 108,
     "metadata": {},
     "output_type": "execute_result"
    }
   ],
   "source": [
    "df.head()"
   ]
  },
  {
   "cell_type": "code",
   "execution_count": 130,
   "metadata": {},
   "outputs": [],
   "source": [
    "df = df.resample(rule='60T', closed='left', label='left', base=17).mean()"
   ]
  },
  {
   "cell_type": "code",
   "execution_count": 131,
   "metadata": {},
   "outputs": [],
   "source": [
    "df = df[np.isfinite(df['pickup_month'])]"
   ]
  },
  {
   "cell_type": "code",
   "execution_count": 139,
   "metadata": {},
   "outputs": [
    {
     "data": {
      "text/html": [
       "<div>\n",
       "<style scoped>\n",
       "    .dataframe tbody tr th:only-of-type {\n",
       "        vertical-align: middle;\n",
       "    }\n",
       "\n",
       "    .dataframe tbody tr th {\n",
       "        vertical-align: top;\n",
       "    }\n",
       "\n",
       "    .dataframe thead th {\n",
       "        text-align: right;\n",
       "    }\n",
       "</style>\n",
       "<table border=\"1\" class=\"dataframe\">\n",
       "  <thead>\n",
       "    <tr style=\"text-align: right;\">\n",
       "      <th></th>\n",
       "      <th>fare_amount</th>\n",
       "      <th>distance</th>\n",
       "      <th>pickup_longitude</th>\n",
       "      <th>pickup_latitude</th>\n",
       "      <th>dropoff_latitude</th>\n",
       "      <th>dropoff_latitude</th>\n",
       "      <th>pickup_hour</th>\n",
       "      <th>pickup_month</th>\n",
       "    </tr>\n",
       "    <tr>\n",
       "      <th>interval</th>\n",
       "      <th></th>\n",
       "      <th></th>\n",
       "      <th></th>\n",
       "      <th></th>\n",
       "      <th></th>\n",
       "      <th></th>\n",
       "      <th></th>\n",
       "      <th></th>\n",
       "    </tr>\n",
       "  </thead>\n",
       "  <tbody>\n",
       "    <tr>\n",
       "      <th>2015-06-30 19:17:00</th>\n",
       "      <td>9.653846</td>\n",
       "      <td>3.365400</td>\n",
       "      <td>-71.138077</td>\n",
       "      <td>39.185000</td>\n",
       "      <td>39.192348</td>\n",
       "      <td>39.192348</td>\n",
       "      <td>19.423077</td>\n",
       "      <td>6.0</td>\n",
       "    </tr>\n",
       "    <tr>\n",
       "      <th>2015-06-30 20:17:00</th>\n",
       "      <td>12.933333</td>\n",
       "      <td>5.198684</td>\n",
       "      <td>-73.971333</td>\n",
       "      <td>40.745333</td>\n",
       "      <td>40.747388</td>\n",
       "      <td>40.747388</td>\n",
       "      <td>20.533333</td>\n",
       "      <td>6.0</td>\n",
       "    </tr>\n",
       "    <tr>\n",
       "      <th>2015-06-30 21:17:00</th>\n",
       "      <td>16.556842</td>\n",
       "      <td>7.095467</td>\n",
       "      <td>-70.070000</td>\n",
       "      <td>38.613158</td>\n",
       "      <td>38.621968</td>\n",
       "      <td>38.621968</td>\n",
       "      <td>21.473684</td>\n",
       "      <td>6.0</td>\n",
       "    </tr>\n",
       "    <tr>\n",
       "      <th>2015-06-30 22:17:00</th>\n",
       "      <td>14.522500</td>\n",
       "      <td>4.562739</td>\n",
       "      <td>-70.894167</td>\n",
       "      <td>39.040417</td>\n",
       "      <td>39.036360</td>\n",
       "      <td>39.036360</td>\n",
       "      <td>22.375000</td>\n",
       "      <td>6.0</td>\n",
       "    </tr>\n",
       "    <tr>\n",
       "      <th>2015-06-30 23:17:00</th>\n",
       "      <td>12.625000</td>\n",
       "      <td>4.963497</td>\n",
       "      <td>-73.987500</td>\n",
       "      <td>40.747500</td>\n",
       "      <td>40.737871</td>\n",
       "      <td>40.737871</td>\n",
       "      <td>23.000000</td>\n",
       "      <td>6.0</td>\n",
       "    </tr>\n",
       "  </tbody>\n",
       "</table>\n",
       "</div>"
      ],
      "text/plain": [
       "                     fare_amount  distance  pickup_longitude  pickup_latitude  \\\n",
       "interval                                                                        \n",
       "2015-06-30 19:17:00     9.653846  3.365400        -71.138077        39.185000   \n",
       "2015-06-30 20:17:00    12.933333  5.198684        -73.971333        40.745333   \n",
       "2015-06-30 21:17:00    16.556842  7.095467        -70.070000        38.613158   \n",
       "2015-06-30 22:17:00    14.522500  4.562739        -70.894167        39.040417   \n",
       "2015-06-30 23:17:00    12.625000  4.963497        -73.987500        40.747500   \n",
       "\n",
       "                     dropoff_latitude  dropoff_latitude  pickup_hour  \\\n",
       "interval                                                               \n",
       "2015-06-30 19:17:00         39.192348         39.192348    19.423077   \n",
       "2015-06-30 20:17:00         40.747388         40.747388    20.533333   \n",
       "2015-06-30 21:17:00         38.621968         38.621968    21.473684   \n",
       "2015-06-30 22:17:00         39.036360         39.036360    22.375000   \n",
       "2015-06-30 23:17:00         40.737871         40.737871    23.000000   \n",
       "\n",
       "                     pickup_month  \n",
       "interval                           \n",
       "2015-06-30 19:17:00           6.0  \n",
       "2015-06-30 20:17:00           6.0  \n",
       "2015-06-30 21:17:00           6.0  \n",
       "2015-06-30 22:17:00           6.0  \n",
       "2015-06-30 23:17:00           6.0  "
      ]
     },
     "execution_count": 139,
     "metadata": {},
     "output_type": "execute_result"
    }
   ],
   "source": [
    "df.tail()"
   ]
  },
  {
   "cell_type": "code",
   "execution_count": 144,
   "metadata": {},
   "outputs": [],
   "source": [
    "train_size = int(len(df) * 0.80)\n",
    "train, test = df[0:train_size], df[train_size:len(df)]"
   ]
  },
  {
   "cell_type": "code",
   "execution_count": 145,
   "metadata": {},
   "outputs": [
    {
     "data": {
      "text/html": [
       "<div>\n",
       "<style scoped>\n",
       "    .dataframe tbody tr th:only-of-type {\n",
       "        vertical-align: middle;\n",
       "    }\n",
       "\n",
       "    .dataframe tbody tr th {\n",
       "        vertical-align: top;\n",
       "    }\n",
       "\n",
       "    .dataframe thead th {\n",
       "        text-align: right;\n",
       "    }\n",
       "</style>\n",
       "<table border=\"1\" class=\"dataframe\">\n",
       "  <thead>\n",
       "    <tr style=\"text-align: right;\">\n",
       "      <th></th>\n",
       "      <th>fare_amount</th>\n",
       "      <th>distance</th>\n",
       "      <th>pickup_longitude</th>\n",
       "      <th>pickup_latitude</th>\n",
       "      <th>dropoff_latitude</th>\n",
       "      <th>dropoff_latitude</th>\n",
       "      <th>pickup_hour</th>\n",
       "      <th>pickup_month</th>\n",
       "    </tr>\n",
       "    <tr>\n",
       "      <th>interval</th>\n",
       "      <th></th>\n",
       "      <th></th>\n",
       "      <th></th>\n",
       "      <th></th>\n",
       "      <th></th>\n",
       "      <th></th>\n",
       "      <th></th>\n",
       "      <th></th>\n",
       "    </tr>\n",
       "  </thead>\n",
       "  <tbody>\n",
       "    <tr>\n",
       "      <th>2008-12-31 23:17:00</th>\n",
       "      <td>11.666667</td>\n",
       "      <td>6.226503</td>\n",
       "      <td>-73.975000</td>\n",
       "      <td>40.768333</td>\n",
       "      <td>40.773620</td>\n",
       "      <td>40.773620</td>\n",
       "      <td>0.000000</td>\n",
       "      <td>1.0</td>\n",
       "    </tr>\n",
       "    <tr>\n",
       "      <th>2009-01-01 00:17:00</th>\n",
       "      <td>9.666667</td>\n",
       "      <td>3.980113</td>\n",
       "      <td>-73.975333</td>\n",
       "      <td>40.754667</td>\n",
       "      <td>40.753529</td>\n",
       "      <td>40.753529</td>\n",
       "      <td>0.533333</td>\n",
       "      <td>1.0</td>\n",
       "    </tr>\n",
       "    <tr>\n",
       "      <th>2009-01-01 01:17:00</th>\n",
       "      <td>8.800000</td>\n",
       "      <td>3.161337</td>\n",
       "      <td>-73.984000</td>\n",
       "      <td>40.729000</td>\n",
       "      <td>40.740373</td>\n",
       "      <td>40.740373</td>\n",
       "      <td>1.600000</td>\n",
       "      <td>1.0</td>\n",
       "    </tr>\n",
       "    <tr>\n",
       "      <th>2009-01-01 02:17:00</th>\n",
       "      <td>12.811111</td>\n",
       "      <td>4.917250</td>\n",
       "      <td>-73.968889</td>\n",
       "      <td>40.763333</td>\n",
       "      <td>40.739729</td>\n",
       "      <td>40.739729</td>\n",
       "      <td>2.555556</td>\n",
       "      <td>1.0</td>\n",
       "    </tr>\n",
       "    <tr>\n",
       "      <th>2009-01-01 03:17:00</th>\n",
       "      <td>8.470000</td>\n",
       "      <td>3.011235</td>\n",
       "      <td>-73.989000</td>\n",
       "      <td>40.735000</td>\n",
       "      <td>40.739308</td>\n",
       "      <td>40.739308</td>\n",
       "      <td>3.600000</td>\n",
       "      <td>1.0</td>\n",
       "    </tr>\n",
       "  </tbody>\n",
       "</table>\n",
       "</div>"
      ],
      "text/plain": [
       "                     fare_amount  distance  pickup_longitude  pickup_latitude  \\\n",
       "interval                                                                        \n",
       "2008-12-31 23:17:00    11.666667  6.226503        -73.975000        40.768333   \n",
       "2009-01-01 00:17:00     9.666667  3.980113        -73.975333        40.754667   \n",
       "2009-01-01 01:17:00     8.800000  3.161337        -73.984000        40.729000   \n",
       "2009-01-01 02:17:00    12.811111  4.917250        -73.968889        40.763333   \n",
       "2009-01-01 03:17:00     8.470000  3.011235        -73.989000        40.735000   \n",
       "\n",
       "                     dropoff_latitude  dropoff_latitude  pickup_hour  \\\n",
       "interval                                                               \n",
       "2008-12-31 23:17:00         40.773620         40.773620     0.000000   \n",
       "2009-01-01 00:17:00         40.753529         40.753529     0.533333   \n",
       "2009-01-01 01:17:00         40.740373         40.740373     1.600000   \n",
       "2009-01-01 02:17:00         40.739729         40.739729     2.555556   \n",
       "2009-01-01 03:17:00         40.739308         40.739308     3.600000   \n",
       "\n",
       "                     pickup_month  \n",
       "interval                           \n",
       "2008-12-31 23:17:00           1.0  \n",
       "2009-01-01 00:17:00           1.0  \n",
       "2009-01-01 01:17:00           1.0  \n",
       "2009-01-01 02:17:00           1.0  \n",
       "2009-01-01 03:17:00           1.0  "
      ]
     },
     "execution_count": 145,
     "metadata": {},
     "output_type": "execute_result"
    }
   ],
   "source": [
    "train.head()"
   ]
  },
  {
   "cell_type": "code",
   "execution_count": 146,
   "metadata": {},
   "outputs": [
    {
     "data": {
      "text/html": [
       "<div>\n",
       "<style scoped>\n",
       "    .dataframe tbody tr th:only-of-type {\n",
       "        vertical-align: middle;\n",
       "    }\n",
       "\n",
       "    .dataframe tbody tr th {\n",
       "        vertical-align: top;\n",
       "    }\n",
       "\n",
       "    .dataframe thead th {\n",
       "        text-align: right;\n",
       "    }\n",
       "</style>\n",
       "<table border=\"1\" class=\"dataframe\">\n",
       "  <thead>\n",
       "    <tr style=\"text-align: right;\">\n",
       "      <th></th>\n",
       "      <th>fare_amount</th>\n",
       "      <th>distance</th>\n",
       "      <th>pickup_longitude</th>\n",
       "      <th>pickup_latitude</th>\n",
       "      <th>dropoff_latitude</th>\n",
       "      <th>dropoff_latitude</th>\n",
       "      <th>pickup_hour</th>\n",
       "      <th>pickup_month</th>\n",
       "    </tr>\n",
       "    <tr>\n",
       "      <th>interval</th>\n",
       "      <th></th>\n",
       "      <th></th>\n",
       "      <th></th>\n",
       "      <th></th>\n",
       "      <th></th>\n",
       "      <th></th>\n",
       "      <th></th>\n",
       "      <th></th>\n",
       "    </tr>\n",
       "  </thead>\n",
       "  <tbody>\n",
       "    <tr>\n",
       "      <th>2014-03-12 23:17:00</th>\n",
       "      <td>12.050769</td>\n",
       "      <td>5.444319</td>\n",
       "      <td>-73.967692</td>\n",
       "      <td>40.753846</td>\n",
       "      <td>40.735417</td>\n",
       "      <td>40.735417</td>\n",
       "      <td>10.615385</td>\n",
       "      <td>3.0</td>\n",
       "    </tr>\n",
       "    <tr>\n",
       "      <th>2014-03-13 00:17:00</th>\n",
       "      <td>21.333333</td>\n",
       "      <td>5.094521</td>\n",
       "      <td>-73.980000</td>\n",
       "      <td>40.761667</td>\n",
       "      <td>40.780526</td>\n",
       "      <td>40.780526</td>\n",
       "      <td>0.500000</td>\n",
       "      <td>3.0</td>\n",
       "    </tr>\n",
       "    <tr>\n",
       "      <th>2014-03-13 01:17:00</th>\n",
       "      <td>9.642857</td>\n",
       "      <td>2.898148</td>\n",
       "      <td>-73.967143</td>\n",
       "      <td>40.734286</td>\n",
       "      <td>40.741007</td>\n",
       "      <td>40.741007</td>\n",
       "      <td>1.428571</td>\n",
       "      <td>3.0</td>\n",
       "    </tr>\n",
       "    <tr>\n",
       "      <th>2014-03-13 02:17:00</th>\n",
       "      <td>12.666667</td>\n",
       "      <td>4.608577</td>\n",
       "      <td>-73.990000</td>\n",
       "      <td>40.740000</td>\n",
       "      <td>40.719707</td>\n",
       "      <td>40.719707</td>\n",
       "      <td>2.666667</td>\n",
       "      <td>3.0</td>\n",
       "    </tr>\n",
       "    <tr>\n",
       "      <th>2014-03-13 03:17:00</th>\n",
       "      <td>13.333333</td>\n",
       "      <td>2.410286</td>\n",
       "      <td>-73.903333</td>\n",
       "      <td>40.736667</td>\n",
       "      <td>40.741414</td>\n",
       "      <td>40.741414</td>\n",
       "      <td>3.666667</td>\n",
       "      <td>3.0</td>\n",
       "    </tr>\n",
       "  </tbody>\n",
       "</table>\n",
       "</div>"
      ],
      "text/plain": [
       "                     fare_amount  distance  pickup_longitude  pickup_latitude  \\\n",
       "interval                                                                        \n",
       "2014-03-12 23:17:00    12.050769  5.444319        -73.967692        40.753846   \n",
       "2014-03-13 00:17:00    21.333333  5.094521        -73.980000        40.761667   \n",
       "2014-03-13 01:17:00     9.642857  2.898148        -73.967143        40.734286   \n",
       "2014-03-13 02:17:00    12.666667  4.608577        -73.990000        40.740000   \n",
       "2014-03-13 03:17:00    13.333333  2.410286        -73.903333        40.736667   \n",
       "\n",
       "                     dropoff_latitude  dropoff_latitude  pickup_hour  \\\n",
       "interval                                                               \n",
       "2014-03-12 23:17:00         40.735417         40.735417    10.615385   \n",
       "2014-03-13 00:17:00         40.780526         40.780526     0.500000   \n",
       "2014-03-13 01:17:00         40.741007         40.741007     1.428571   \n",
       "2014-03-13 02:17:00         40.719707         40.719707     2.666667   \n",
       "2014-03-13 03:17:00         40.741414         40.741414     3.666667   \n",
       "\n",
       "                     pickup_month  \n",
       "interval                           \n",
       "2014-03-12 23:17:00           3.0  \n",
       "2014-03-13 00:17:00           3.0  \n",
       "2014-03-13 01:17:00           3.0  \n",
       "2014-03-13 02:17:00           3.0  \n",
       "2014-03-13 03:17:00           3.0  "
      ]
     },
     "execution_count": 146,
     "metadata": {},
     "output_type": "execute_result"
    }
   ],
   "source": [
    "train.tail()"
   ]
  },
  {
   "cell_type": "code",
   "execution_count": 147,
   "metadata": {},
   "outputs": [
    {
     "data": {
      "text/html": [
       "<div>\n",
       "<style scoped>\n",
       "    .dataframe tbody tr th:only-of-type {\n",
       "        vertical-align: middle;\n",
       "    }\n",
       "\n",
       "    .dataframe tbody tr th {\n",
       "        vertical-align: top;\n",
       "    }\n",
       "\n",
       "    .dataframe thead th {\n",
       "        text-align: right;\n",
       "    }\n",
       "</style>\n",
       "<table border=\"1\" class=\"dataframe\">\n",
       "  <thead>\n",
       "    <tr style=\"text-align: right;\">\n",
       "      <th></th>\n",
       "      <th>fare_amount</th>\n",
       "      <th>distance</th>\n",
       "      <th>pickup_longitude</th>\n",
       "      <th>pickup_latitude</th>\n",
       "      <th>dropoff_latitude</th>\n",
       "      <th>dropoff_latitude</th>\n",
       "      <th>pickup_hour</th>\n",
       "      <th>pickup_month</th>\n",
       "    </tr>\n",
       "    <tr>\n",
       "      <th>interval</th>\n",
       "      <th></th>\n",
       "      <th></th>\n",
       "      <th></th>\n",
       "      <th></th>\n",
       "      <th></th>\n",
       "      <th></th>\n",
       "      <th></th>\n",
       "      <th></th>\n",
       "    </tr>\n",
       "  </thead>\n",
       "  <tbody>\n",
       "    <tr>\n",
       "      <th>2015-06-30 19:17:00</th>\n",
       "      <td>9.653846</td>\n",
       "      <td>3.365400</td>\n",
       "      <td>-71.138077</td>\n",
       "      <td>39.185000</td>\n",
       "      <td>39.192348</td>\n",
       "      <td>39.192348</td>\n",
       "      <td>19.423077</td>\n",
       "      <td>6.0</td>\n",
       "    </tr>\n",
       "    <tr>\n",
       "      <th>2015-06-30 20:17:00</th>\n",
       "      <td>12.933333</td>\n",
       "      <td>5.198684</td>\n",
       "      <td>-73.971333</td>\n",
       "      <td>40.745333</td>\n",
       "      <td>40.747388</td>\n",
       "      <td>40.747388</td>\n",
       "      <td>20.533333</td>\n",
       "      <td>6.0</td>\n",
       "    </tr>\n",
       "    <tr>\n",
       "      <th>2015-06-30 21:17:00</th>\n",
       "      <td>16.556842</td>\n",
       "      <td>7.095467</td>\n",
       "      <td>-70.070000</td>\n",
       "      <td>38.613158</td>\n",
       "      <td>38.621968</td>\n",
       "      <td>38.621968</td>\n",
       "      <td>21.473684</td>\n",
       "      <td>6.0</td>\n",
       "    </tr>\n",
       "    <tr>\n",
       "      <th>2015-06-30 22:17:00</th>\n",
       "      <td>14.522500</td>\n",
       "      <td>4.562739</td>\n",
       "      <td>-70.894167</td>\n",
       "      <td>39.040417</td>\n",
       "      <td>39.036360</td>\n",
       "      <td>39.036360</td>\n",
       "      <td>22.375000</td>\n",
       "      <td>6.0</td>\n",
       "    </tr>\n",
       "    <tr>\n",
       "      <th>2015-06-30 23:17:00</th>\n",
       "      <td>12.625000</td>\n",
       "      <td>4.963497</td>\n",
       "      <td>-73.987500</td>\n",
       "      <td>40.747500</td>\n",
       "      <td>40.737871</td>\n",
       "      <td>40.737871</td>\n",
       "      <td>23.000000</td>\n",
       "      <td>6.0</td>\n",
       "    </tr>\n",
       "  </tbody>\n",
       "</table>\n",
       "</div>"
      ],
      "text/plain": [
       "                     fare_amount  distance  pickup_longitude  pickup_latitude  \\\n",
       "interval                                                                        \n",
       "2015-06-30 19:17:00     9.653846  3.365400        -71.138077        39.185000   \n",
       "2015-06-30 20:17:00    12.933333  5.198684        -73.971333        40.745333   \n",
       "2015-06-30 21:17:00    16.556842  7.095467        -70.070000        38.613158   \n",
       "2015-06-30 22:17:00    14.522500  4.562739        -70.894167        39.040417   \n",
       "2015-06-30 23:17:00    12.625000  4.963497        -73.987500        40.747500   \n",
       "\n",
       "                     dropoff_latitude  dropoff_latitude  pickup_hour  \\\n",
       "interval                                                               \n",
       "2015-06-30 19:17:00         39.192348         39.192348    19.423077   \n",
       "2015-06-30 20:17:00         40.747388         40.747388    20.533333   \n",
       "2015-06-30 21:17:00         38.621968         38.621968    21.473684   \n",
       "2015-06-30 22:17:00         39.036360         39.036360    22.375000   \n",
       "2015-06-30 23:17:00         40.737871         40.737871    23.000000   \n",
       "\n",
       "                     pickup_month  \n",
       "interval                           \n",
       "2015-06-30 19:17:00           6.0  \n",
       "2015-06-30 20:17:00           6.0  \n",
       "2015-06-30 21:17:00           6.0  \n",
       "2015-06-30 22:17:00           6.0  \n",
       "2015-06-30 23:17:00           6.0  "
      ]
     },
     "execution_count": 147,
     "metadata": {},
     "output_type": "execute_result"
    }
   ],
   "source": [
    "test.tail()"
   ]
  },
  {
   "cell_type": "code",
   "execution_count": 148,
   "metadata": {},
   "outputs": [
    {
     "data": {
      "text/plain": [
       "<matplotlib.axes._subplots.AxesSubplot at 0x46d18668>"
      ]
     },
     "execution_count": 148,
     "metadata": {},
     "output_type": "execute_result"
    },
    {
     "data": {
      "image/png": "[encoded data removed]",
      "text/plain": [
       "<Figure size 1080x576 with 1 Axes>"
      ]
     },
     "metadata": {
      "needs_background": "light"
     },
     "output_type": "display_data"
    }
   ],
   "source": [
    "df.fare_amount.plot(figsize=(15,8), title= 'Daily Ridership', fontsize=14)"
   ]
  },
  {
   "cell_type": "code",
   "execution_count": 149,
   "metadata": {},
   "outputs": [
    {
     "data": {
      "text/html": [
       "<div>\n",
       "<style scoped>\n",
       "    .dataframe tbody tr th:only-of-type {\n",
       "        vertical-align: middle;\n",
       "    }\n",
       "\n",
       "    .dataframe tbody tr th {\n",
       "        vertical-align: top;\n",
       "    }\n",
       "\n",
       "    .dataframe thead th {\n",
       "        text-align: right;\n",
       "    }\n",
       "</style>\n",
       "<table border=\"1\" class=\"dataframe\">\n",
       "  <thead>\n",
       "    <tr style=\"text-align: right;\">\n",
       "      <th></th>\n",
       "      <th>fare_amount</th>\n",
       "      <th>distance</th>\n",
       "      <th>pickup_longitude</th>\n",
       "      <th>pickup_latitude</th>\n",
       "      <th>dropoff_latitude</th>\n",
       "      <th>dropoff_latitude</th>\n",
       "      <th>pickup_hour</th>\n",
       "      <th>pickup_month</th>\n",
       "    </tr>\n",
       "    <tr>\n",
       "      <th>interval</th>\n",
       "      <th></th>\n",
       "      <th></th>\n",
       "      <th></th>\n",
       "      <th></th>\n",
       "      <th></th>\n",
       "      <th></th>\n",
       "      <th></th>\n",
       "      <th></th>\n",
       "    </tr>\n",
       "  </thead>\n",
       "  <tbody>\n",
       "    <tr>\n",
       "      <th>2015-06-30 19:17:00</th>\n",
       "      <td>9.653846</td>\n",
       "      <td>3.365400</td>\n",
       "      <td>-71.138077</td>\n",
       "      <td>39.185000</td>\n",
       "      <td>39.192348</td>\n",
       "      <td>39.192348</td>\n",
       "      <td>19.423077</td>\n",
       "      <td>6.0</td>\n",
       "    </tr>\n",
       "    <tr>\n",
       "      <th>2015-06-30 20:17:00</th>\n",
       "      <td>12.933333</td>\n",
       "      <td>5.198684</td>\n",
       "      <td>-73.971333</td>\n",
       "      <td>40.745333</td>\n",
       "      <td>40.747388</td>\n",
       "      <td>40.747388</td>\n",
       "      <td>20.533333</td>\n",
       "      <td>6.0</td>\n",
       "    </tr>\n",
       "    <tr>\n",
       "      <th>2015-06-30 21:17:00</th>\n",
       "      <td>16.556842</td>\n",
       "      <td>7.095467</td>\n",
       "      <td>-70.070000</td>\n",
       "      <td>38.613158</td>\n",
       "      <td>38.621968</td>\n",
       "      <td>38.621968</td>\n",
       "      <td>21.473684</td>\n",
       "      <td>6.0</td>\n",
       "    </tr>\n",
       "    <tr>\n",
       "      <th>2015-06-30 22:17:00</th>\n",
       "      <td>14.522500</td>\n",
       "      <td>4.562739</td>\n",
       "      <td>-70.894167</td>\n",
       "      <td>39.040417</td>\n",
       "      <td>39.036360</td>\n",
       "      <td>39.036360</td>\n",
       "      <td>22.375000</td>\n",
       "      <td>6.0</td>\n",
       "    </tr>\n",
       "    <tr>\n",
       "      <th>2015-06-30 23:17:00</th>\n",
       "      <td>12.625000</td>\n",
       "      <td>4.963497</td>\n",
       "      <td>-73.987500</td>\n",
       "      <td>40.747500</td>\n",
       "      <td>40.737871</td>\n",
       "      <td>40.737871</td>\n",
       "      <td>23.000000</td>\n",
       "      <td>6.0</td>\n",
       "    </tr>\n",
       "  </tbody>\n",
       "</table>\n",
       "</div>"
      ],
      "text/plain": [
       "                     fare_amount  distance  pickup_longitude  pickup_latitude  \\\n",
       "interval                                                                        \n",
       "2015-06-30 19:17:00     9.653846  3.365400        -71.138077        39.185000   \n",
       "2015-06-30 20:17:00    12.933333  5.198684        -73.971333        40.745333   \n",
       "2015-06-30 21:17:00    16.556842  7.095467        -70.070000        38.613158   \n",
       "2015-06-30 22:17:00    14.522500  4.562739        -70.894167        39.040417   \n",
       "2015-06-30 23:17:00    12.625000  4.963497        -73.987500        40.747500   \n",
       "\n",
       "                     dropoff_latitude  dropoff_latitude  pickup_hour  \\\n",
       "interval                                                               \n",
       "2015-06-30 19:17:00         39.192348         39.192348    19.423077   \n",
       "2015-06-30 20:17:00         40.747388         40.747388    20.533333   \n",
       "2015-06-30 21:17:00         38.621968         38.621968    21.473684   \n",
       "2015-06-30 22:17:00         39.036360         39.036360    22.375000   \n",
       "2015-06-30 23:17:00         40.737871         40.737871    23.000000   \n",
       "\n",
       "                     pickup_month  \n",
       "interval                           \n",
       "2015-06-30 19:17:00           6.0  \n",
       "2015-06-30 20:17:00           6.0  \n",
       "2015-06-30 21:17:00           6.0  \n",
       "2015-06-30 22:17:00           6.0  \n",
       "2015-06-30 23:17:00           6.0  "
      ]
     },
     "execution_count": 149,
     "metadata": {},
     "output_type": "execute_result"
    }
   ],
   "source": [
    "test.tail()"
   ]
  },
  {
   "cell_type": "code",
   "execution_count": 150,
   "metadata": {},
   "outputs": [
    {
     "data": {
      "text/plain": [
       "<matplotlib.axes._subplots.AxesSubplot at 0x21749748>"
      ]
     },
     "execution_count": 150,
     "metadata": {},
     "output_type": "execute_result"
    },
    {
     "data": {
      "image/png": "[encoded data removed]",
      "text/plain": [
       "<Figure size 1080x576 with 1 Axes>"
      ]
     },
     "metadata": {
      "needs_background": "light"
     },
     "output_type": "display_data"
    }
   ],
   "source": [
    "train.fare_amount.plot(figsize=(15,8), title= 'Daily Ridership', fontsize=14)"
   ]
  },
  {
   "cell_type": "code",
   "execution_count": 151,
   "metadata": {},
   "outputs": [
    {
     "data": {
      "text/plain": [
       "<matplotlib.axes._subplots.AxesSubplot at 0x1b26d390>"
      ]
     },
     "execution_count": 151,
     "metadata": {},
     "output_type": "execute_result"
    },
    {
     "data": {
      "image/png": "[encoded data removed]",
      "text/plain": [
       "<Figure size 1080x576 with 1 Axes>"
      ]
     },
     "metadata": {
      "needs_background": "light"
     },
     "output_type": "display_data"
    }
   ],
   "source": [
    "test.fare_amount.plot(figsize=(15,8), title= 'Daily Ridership', fontsize=14)"
   ]
  },
  {
   "cell_type": "code",
   "execution_count": 152,
   "metadata": {},
   "outputs": [
    {
     "data": {
      "text/html": [
       "<div>\n",
       "<style scoped>\n",
       "    .dataframe tbody tr th:only-of-type {\n",
       "        vertical-align: middle;\n",
       "    }\n",
       "\n",
       "    .dataframe tbody tr th {\n",
       "        vertical-align: top;\n",
       "    }\n",
       "\n",
       "    .dataframe thead th {\n",
       "        text-align: right;\n",
       "    }\n",
       "</style>\n",
       "<table border=\"1\" class=\"dataframe\">\n",
       "  <thead>\n",
       "    <tr style=\"text-align: right;\">\n",
       "      <th></th>\n",
       "      <th>fare_amount</th>\n",
       "      <th>distance</th>\n",
       "      <th>pickup_longitude</th>\n",
       "      <th>pickup_latitude</th>\n",
       "      <th>dropoff_latitude</th>\n",
       "      <th>dropoff_latitude</th>\n",
       "      <th>pickup_hour</th>\n",
       "      <th>pickup_month</th>\n",
       "    </tr>\n",
       "    <tr>\n",
       "      <th>interval</th>\n",
       "      <th></th>\n",
       "      <th></th>\n",
       "      <th></th>\n",
       "      <th></th>\n",
       "      <th></th>\n",
       "      <th></th>\n",
       "      <th></th>\n",
       "      <th></th>\n",
       "    </tr>\n",
       "  </thead>\n",
       "  <tbody>\n",
       "    <tr>\n",
       "      <th>2008-12-31 23:17:00</th>\n",
       "      <td>11.666667</td>\n",
       "      <td>6.226503</td>\n",
       "      <td>-73.975000</td>\n",
       "      <td>40.768333</td>\n",
       "      <td>40.773620</td>\n",
       "      <td>40.773620</td>\n",
       "      <td>0.000000</td>\n",
       "      <td>1.0</td>\n",
       "    </tr>\n",
       "    <tr>\n",
       "      <th>2009-01-01 00:17:00</th>\n",
       "      <td>9.666667</td>\n",
       "      <td>3.980113</td>\n",
       "      <td>-73.975333</td>\n",
       "      <td>40.754667</td>\n",
       "      <td>40.753529</td>\n",
       "      <td>40.753529</td>\n",
       "      <td>0.533333</td>\n",
       "      <td>1.0</td>\n",
       "    </tr>\n",
       "    <tr>\n",
       "      <th>2009-01-01 01:17:00</th>\n",
       "      <td>8.800000</td>\n",
       "      <td>3.161337</td>\n",
       "      <td>-73.984000</td>\n",
       "      <td>40.729000</td>\n",
       "      <td>40.740373</td>\n",
       "      <td>40.740373</td>\n",
       "      <td>1.600000</td>\n",
       "      <td>1.0</td>\n",
       "    </tr>\n",
       "    <tr>\n",
       "      <th>2009-01-01 02:17:00</th>\n",
       "      <td>12.811111</td>\n",
       "      <td>4.917250</td>\n",
       "      <td>-73.968889</td>\n",
       "      <td>40.763333</td>\n",
       "      <td>40.739729</td>\n",
       "      <td>40.739729</td>\n",
       "      <td>2.555556</td>\n",
       "      <td>1.0</td>\n",
       "    </tr>\n",
       "    <tr>\n",
       "      <th>2009-01-01 03:17:00</th>\n",
       "      <td>8.470000</td>\n",
       "      <td>3.011235</td>\n",
       "      <td>-73.989000</td>\n",
       "      <td>40.735000</td>\n",
       "      <td>40.739308</td>\n",
       "      <td>40.739308</td>\n",
       "      <td>3.600000</td>\n",
       "      <td>1.0</td>\n",
       "    </tr>\n",
       "  </tbody>\n",
       "</table>\n",
       "</div>"
      ],
      "text/plain": [
       "                     fare_amount  distance  pickup_longitude  pickup_latitude  \\\n",
       "interval                                                                        \n",
       "2008-12-31 23:17:00    11.666667  6.226503        -73.975000        40.768333   \n",
       "2009-01-01 00:17:00     9.666667  3.980113        -73.975333        40.754667   \n",
       "2009-01-01 01:17:00     8.800000  3.161337        -73.984000        40.729000   \n",
       "2009-01-01 02:17:00    12.811111  4.917250        -73.968889        40.763333   \n",
       "2009-01-01 03:17:00     8.470000  3.011235        -73.989000        40.735000   \n",
       "\n",
       "                     dropoff_latitude  dropoff_latitude  pickup_hour  \\\n",
       "interval                                                               \n",
       "2008-12-31 23:17:00         40.773620         40.773620     0.000000   \n",
       "2009-01-01 00:17:00         40.753529         40.753529     0.533333   \n",
       "2009-01-01 01:17:00         40.740373         40.740373     1.600000   \n",
       "2009-01-01 02:17:00         40.739729         40.739729     2.555556   \n",
       "2009-01-01 03:17:00         40.739308         40.739308     3.600000   \n",
       "\n",
       "                     pickup_month  \n",
       "interval                           \n",
       "2008-12-31 23:17:00           1.0  \n",
       "2009-01-01 00:17:00           1.0  \n",
       "2009-01-01 01:17:00           1.0  \n",
       "2009-01-01 02:17:00           1.0  \n",
       "2009-01-01 03:17:00           1.0  "
      ]
     },
     "execution_count": 152,
     "metadata": {},
     "output_type": "execute_result"
    }
   ],
   "source": [
    "df.head()"
   ]
  },
  {
   "cell_type": "code",
   "execution_count": 153,
   "metadata": {},
   "outputs": [],
   "source": [
    "from sklearn.linear_model import LinearRegression"
   ]
  },
  {
   "cell_type": "code",
   "execution_count": 154,
   "metadata": {},
   "outputs": [],
   "source": [
    "x_train = train.drop(['fare_amount'], axis=1)\n",
    "x_test = test.drop(['fare_amount'], axis=1)\n",
    "y_train = train[['fare_amount']]\n",
    "y_test = test[['fare_amount']]"
   ]
  },
  {
   "cell_type": "code",
   "execution_count": 155,
   "metadata": {},
   "outputs": [],
   "source": [
    "y_train= y_train.apply(np.int64)"
   ]
  },
  {
   "cell_type": "code",
   "execution_count": 157,
   "metadata": {},
   "outputs": [
    {
     "data": {
      "text/plain": [
       "(45232, 7)"
      ]
     },
     "execution_count": 157,
     "metadata": {},
     "output_type": "execute_result"
    }
   ],
   "source": [
    "x_train.shape"
   ]
  },
  {
   "cell_type": "code",
   "execution_count": 158,
   "metadata": {},
   "outputs": [],
   "source": [
    "y_test= y_test.apply(np.int64)"
   ]
  },
  {
   "cell_type": "code",
   "execution_count": 159,
   "metadata": {},
   "outputs": [],
   "source": [
    "from statsmodels.tsa.vector_ar.var_model import VAR\n"
   ]
  },
  {
   "cell_type": "code",
   "execution_count": 160,
   "metadata": {},
   "outputs": [
    {
     "data": {
      "text/html": [
       "<div>\n",
       "<style scoped>\n",
       "    .dataframe tbody tr th:only-of-type {\n",
       "        vertical-align: middle;\n",
       "    }\n",
       "\n",
       "    .dataframe tbody tr th {\n",
       "        vertical-align: top;\n",
       "    }\n",
       "\n",
       "    .dataframe thead th {\n",
       "        text-align: right;\n",
       "    }\n",
       "</style>\n",
       "<table border=\"1\" class=\"dataframe\">\n",
       "  <thead>\n",
       "    <tr style=\"text-align: right;\">\n",
       "      <th></th>\n",
       "      <th>distance</th>\n",
       "      <th>pickup_longitude</th>\n",
       "      <th>pickup_latitude</th>\n",
       "      <th>dropoff_latitude</th>\n",
       "      <th>dropoff_latitude</th>\n",
       "      <th>pickup_hour</th>\n",
       "      <th>pickup_month</th>\n",
       "    </tr>\n",
       "    <tr>\n",
       "      <th>interval</th>\n",
       "      <th></th>\n",
       "      <th></th>\n",
       "      <th></th>\n",
       "      <th></th>\n",
       "      <th></th>\n",
       "      <th></th>\n",
       "      <th></th>\n",
       "    </tr>\n",
       "  </thead>\n",
       "  <tbody>\n",
       "    <tr>\n",
       "      <th>2008-12-31 23:17:00</th>\n",
       "      <td>6.226503</td>\n",
       "      <td>-73.975000</td>\n",
       "      <td>40.768333</td>\n",
       "      <td>40.773620</td>\n",
       "      <td>40.773620</td>\n",
       "      <td>0.000000</td>\n",
       "      <td>1.0</td>\n",
       "    </tr>\n",
       "    <tr>\n",
       "      <th>2009-01-01 00:17:00</th>\n",
       "      <td>3.980113</td>\n",
       "      <td>-73.975333</td>\n",
       "      <td>40.754667</td>\n",
       "      <td>40.753529</td>\n",
       "      <td>40.753529</td>\n",
       "      <td>0.533333</td>\n",
       "      <td>1.0</td>\n",
       "    </tr>\n",
       "    <tr>\n",
       "      <th>2009-01-01 01:17:00</th>\n",
       "      <td>3.161337</td>\n",
       "      <td>-73.984000</td>\n",
       "      <td>40.729000</td>\n",
       "      <td>40.740373</td>\n",
       "      <td>40.740373</td>\n",
       "      <td>1.600000</td>\n",
       "      <td>1.0</td>\n",
       "    </tr>\n",
       "    <tr>\n",
       "      <th>2009-01-01 02:17:00</th>\n",
       "      <td>4.917250</td>\n",
       "      <td>-73.968889</td>\n",
       "      <td>40.763333</td>\n",
       "      <td>40.739729</td>\n",
       "      <td>40.739729</td>\n",
       "      <td>2.555556</td>\n",
       "      <td>1.0</td>\n",
       "    </tr>\n",
       "    <tr>\n",
       "      <th>2009-01-01 03:17:00</th>\n",
       "      <td>3.011235</td>\n",
       "      <td>-73.989000</td>\n",
       "      <td>40.735000</td>\n",
       "      <td>40.739308</td>\n",
       "      <td>40.739308</td>\n",
       "      <td>3.600000</td>\n",
       "      <td>1.0</td>\n",
       "    </tr>\n",
       "  </tbody>\n",
       "</table>\n",
       "</div>"
      ],
      "text/plain": [
       "                     distance  pickup_longitude  pickup_latitude  \\\n",
       "interval                                                           \n",
       "2008-12-31 23:17:00  6.226503        -73.975000        40.768333   \n",
       "2009-01-01 00:17:00  3.980113        -73.975333        40.754667   \n",
       "2009-01-01 01:17:00  3.161337        -73.984000        40.729000   \n",
       "2009-01-01 02:17:00  4.917250        -73.968889        40.763333   \n",
       "2009-01-01 03:17:00  3.011235        -73.989000        40.735000   \n",
       "\n",
       "                     dropoff_latitude  dropoff_latitude  pickup_hour  \\\n",
       "interval                                                               \n",
       "2008-12-31 23:17:00         40.773620         40.773620     0.000000   \n",
       "2009-01-01 00:17:00         40.753529         40.753529     0.533333   \n",
       "2009-01-01 01:17:00         40.740373         40.740373     1.600000   \n",
       "2009-01-01 02:17:00         40.739729         40.739729     2.555556   \n",
       "2009-01-01 03:17:00         40.739308         40.739308     3.600000   \n",
       "\n",
       "                     pickup_month  \n",
       "interval                           \n",
       "2008-12-31 23:17:00           1.0  \n",
       "2009-01-01 00:17:00           1.0  \n",
       "2009-01-01 01:17:00           1.0  \n",
       "2009-01-01 02:17:00           1.0  \n",
       "2009-01-01 03:17:00           1.0  "
      ]
     },
     "execution_count": 160,
     "metadata": {},
     "output_type": "execute_result"
    }
   ],
   "source": [
    "x_train.head()"
   ]
  },
  {
   "cell_type": "code",
   "execution_count": 161,
   "metadata": {},
   "outputs": [
    {
     "data": {
      "text/plain": [
       "distance            float64\n",
       "pickup_longitude    float64\n",
       "pickup_latitude     float64\n",
       "dropoff_latitude    float64\n",
       "dropoff_latitude    float64\n",
       "pickup_hour         float64\n",
       "pickup_month        float64\n",
       "dtype: object"
      ]
     },
     "execution_count": 161,
     "metadata": {},
     "output_type": "execute_result"
    }
   ],
   "source": [
    "x_train.dtypes"
   ]
  },
  {
   "cell_type": "code",
   "execution_count": 162,
   "metadata": {},
   "outputs": [
    {
     "data": {
      "text/html": [
       "<div>\n",
       "<style scoped>\n",
       "    .dataframe tbody tr th:only-of-type {\n",
       "        vertical-align: middle;\n",
       "    }\n",
       "\n",
       "    .dataframe tbody tr th {\n",
       "        vertical-align: top;\n",
       "    }\n",
       "\n",
       "    .dataframe thead th {\n",
       "        text-align: right;\n",
       "    }\n",
       "</style>\n",
       "<table border=\"1\" class=\"dataframe\">\n",
       "  <thead>\n",
       "    <tr style=\"text-align: right;\">\n",
       "      <th></th>\n",
       "      <th>distance</th>\n",
       "      <th>pickup_longitude</th>\n",
       "      <th>pickup_latitude</th>\n",
       "      <th>dropoff_latitude</th>\n",
       "      <th>dropoff_latitude</th>\n",
       "      <th>pickup_hour</th>\n",
       "      <th>pickup_month</th>\n",
       "    </tr>\n",
       "  </thead>\n",
       "  <tbody>\n",
       "    <tr>\n",
       "      <th>count</th>\n",
       "      <td>45232.000000</td>\n",
       "      <td>45232.000000</td>\n",
       "      <td>45232.000000</td>\n",
       "      <td>45232.000000</td>\n",
       "      <td>45232.000000</td>\n",
       "      <td>45232.000000</td>\n",
       "      <td>45232.000000</td>\n",
       "    </tr>\n",
       "    <tr>\n",
       "      <th>mean</th>\n",
       "      <td>4.474415</td>\n",
       "      <td>-72.549530</td>\n",
       "      <td>39.933779</td>\n",
       "      <td>39.934022</td>\n",
       "      <td>39.934022</td>\n",
       "      <td>11.571634</td>\n",
       "      <td>6.343729</td>\n",
       "    </tr>\n",
       "    <tr>\n",
       "      <th>std</th>\n",
       "      <td>2.007874</td>\n",
       "      <td>3.586999</td>\n",
       "      <td>2.314521</td>\n",
       "      <td>2.313185</td>\n",
       "      <td>2.313185</td>\n",
       "      <td>6.528072</td>\n",
       "      <td>3.503525</td>\n",
       "    </tr>\n",
       "    <tr>\n",
       "      <th>min</th>\n",
       "      <td>0.000000</td>\n",
       "      <td>-74.882222</td>\n",
       "      <td>-36.242000</td>\n",
       "      <td>-36.187977</td>\n",
       "      <td>-36.187977</td>\n",
       "      <td>0.000000</td>\n",
       "      <td>1.000000</td>\n",
       "    </tr>\n",
       "    <tr>\n",
       "      <th>25%</th>\n",
       "      <td>3.332064</td>\n",
       "      <td>-73.980588</td>\n",
       "      <td>39.483984</td>\n",
       "      <td>39.484799</td>\n",
       "      <td>39.484799</td>\n",
       "      <td>6.294118</td>\n",
       "      <td>3.000000</td>\n",
       "    </tr>\n",
       "    <tr>\n",
       "      <th>50%</th>\n",
       "      <td>4.086274</td>\n",
       "      <td>-73.972500</td>\n",
       "      <td>40.746575</td>\n",
       "      <td>40.747209</td>\n",
       "      <td>40.747209</td>\n",
       "      <td>11.533333</td>\n",
       "      <td>6.000000</td>\n",
       "    </tr>\n",
       "    <tr>\n",
       "      <th>75%</th>\n",
       "      <td>5.078821</td>\n",
       "      <td>-71.670859</td>\n",
       "      <td>40.754286</td>\n",
       "      <td>40.755109</td>\n",
       "      <td>40.755109</td>\n",
       "      <td>17.368421</td>\n",
       "      <td>9.000000</td>\n",
       "    </tr>\n",
       "    <tr>\n",
       "      <th>max</th>\n",
       "      <td>35.807893</td>\n",
       "      <td>9.664000</td>\n",
       "      <td>56.420870</td>\n",
       "      <td>41.147453</td>\n",
       "      <td>41.147453</td>\n",
       "      <td>23.000000</td>\n",
       "      <td>12.000000</td>\n",
       "    </tr>\n",
       "  </tbody>\n",
       "</table>\n",
       "</div>"
      ],
      "text/plain": [
       "           distance  pickup_longitude  pickup_latitude  dropoff_latitude  \\\n",
       "count  45232.000000      45232.000000     45232.000000      45232.000000   \n",
       "mean       4.474415        -72.549530        39.933779         39.934022   \n",
       "std        2.007874          3.586999         2.314521          2.313185   \n",
       "min        0.000000        -74.882222       -36.242000        -36.187977   \n",
       "25%        3.332064        -73.980588        39.483984         39.484799   \n",
       "50%        4.086274        -73.972500        40.746575         40.747209   \n",
       "75%        5.078821        -71.670859        40.754286         40.755109   \n",
       "max       35.807893          9.664000        56.420870         41.147453   \n",
       "\n",
       "       dropoff_latitude   pickup_hour  pickup_month  \n",
       "count      45232.000000  45232.000000  45232.000000  \n",
       "mean          39.934022     11.571634      6.343729  \n",
       "std            2.313185      6.528072      3.503525  \n",
       "min          -36.187977      0.000000      1.000000  \n",
       "25%           39.484799      6.294118      3.000000  \n",
       "50%           40.747209     11.533333      6.000000  \n",
       "75%           40.755109     17.368421      9.000000  \n",
       "max           41.147453     23.000000     12.000000  "
      ]
     },
     "execution_count": 162,
     "metadata": {},
     "output_type": "execute_result"
    }
   ],
   "source": [
    "x_train.describe()"
   ]
  },
  {
   "cell_type": "code",
   "execution_count": 163,
   "metadata": {},
   "outputs": [],
   "source": [
    "from sklearn import datasets, linear_model\n",
    "from sklearn.metrics import mean_squared_error, r2_score"
   ]
  },
  {
   "cell_type": "code",
   "execution_count": 164,
   "metadata": {},
   "outputs": [],
   "source": [
    "# Create linear regression object\n",
    "regr = linear_model.LinearRegression()"
   ]
  },
  {
   "cell_type": "code",
   "execution_count": 165,
   "metadata": {},
   "outputs": [
    {
     "data": {
      "text/plain": [
       "LinearRegression(copy_X=True, fit_intercept=True, n_jobs=1, normalize=False)"
      ]
     },
     "execution_count": 165,
     "metadata": {},
     "output_type": "execute_result"
    }
   ],
   "source": [
    "regr.fit(x_train, y_train)\n"
   ]
  },
  {
   "cell_type": "code",
   "execution_count": 166,
   "metadata": {},
   "outputs": [],
   "source": [
    "x_test = x_test[np.isfinite(x_test['pickup_hour'])]\n",
    "y_test = y_test[np.isfinite(y_test['fare_amount'])]"
   ]
  },
  {
   "cell_type": "code",
   "execution_count": 167,
   "metadata": {},
   "outputs": [],
   "source": [
    "y_pred = regr.predict(x_test)\n"
   ]
  },
  {
   "cell_type": "code",
   "execution_count": 168,
   "metadata": {},
   "outputs": [
    {
     "name": "stdout",
     "output_type": "stream",
     "text": [
      "Coefficients: \n",
      " [[ 1.63272132  0.16555712  0.42110719 -0.16059994 -0.16059994  0.02428985\n",
      "   0.04998559]]\n"
     ]
    }
   ],
   "source": [
    "# The coefficients\n",
    "print('Coefficients: \\n', regr.coef_)"
   ]
  },
  {
   "cell_type": "code",
   "execution_count": 169,
   "metadata": {},
   "outputs": [
    {
     "name": "stdout",
     "output_type": "stream",
     "text": [
      "Mean squared error: 9.22\n",
      "Variance score: 0.57\n"
     ]
    }
   ],
   "source": [
    "print(\"Mean squared error: %.2f\"\n",
    "      % mean_squared_error(y_test, y_pred))\n",
    "# Explained variance score: 1 is perfect prediction\n",
    "print('Variance score: %.2f' % r2_score(y_test, y_pred))"
   ]
  },
  {
   "cell_type": "code",
   "execution_count": 171,
   "metadata": {},
   "outputs": [
    {
     "name": "stdout",
     "output_type": "stream",
     "text": [
      "56.573635803694614 %\n"
     ]
    }
   ],
   "source": [
    "accuracy = regr.score(x_test,y_test)\n",
    "print(accuracy*100,'%')"
   ]
  },
  {
   "cell_type": "code",
   "execution_count": 327,
   "metadata": {},
   "outputs": [],
   "source": [
    "y_test['pred_amount'] = y_pred"
   ]
  },
  {
   "cell_type": "code",
   "execution_count": 328,
   "metadata": {},
   "outputs": [
    {
     "data": {
      "text/html": [
       "<div>\n",
       "<style scoped>\n",
       "    .dataframe tbody tr th:only-of-type {\n",
       "        vertical-align: middle;\n",
       "    }\n",
       "\n",
       "    .dataframe tbody tr th {\n",
       "        vertical-align: top;\n",
       "    }\n",
       "\n",
       "    .dataframe thead th {\n",
       "        text-align: right;\n",
       "    }\n",
       "</style>\n",
       "<table border=\"1\" class=\"dataframe\">\n",
       "  <thead>\n",
       "    <tr style=\"text-align: right;\">\n",
       "      <th></th>\n",
       "      <th>fare_amount</th>\n",
       "      <th>pred_amount</th>\n",
       "    </tr>\n",
       "    <tr>\n",
       "      <th>interval</th>\n",
       "      <th></th>\n",
       "      <th></th>\n",
       "    </tr>\n",
       "  </thead>\n",
       "  <tbody>\n",
       "    <tr>\n",
       "      <th>2014-03-13 05:17:00</th>\n",
       "      <td>8.400000</td>\n",
       "      <td>9.038386</td>\n",
       "    </tr>\n",
       "    <tr>\n",
       "      <th>2014-03-13 06:17:00</th>\n",
       "      <td>20.177333</td>\n",
       "      <td>16.184066</td>\n",
       "    </tr>\n",
       "    <tr>\n",
       "      <th>2014-03-13 07:17:00</th>\n",
       "      <td>13.171935</td>\n",
       "      <td>10.347191</td>\n",
       "    </tr>\n",
       "    <tr>\n",
       "      <th>2014-03-13 08:17:00</th>\n",
       "      <td>11.719787</td>\n",
       "      <td>10.032480</td>\n",
       "    </tr>\n",
       "    <tr>\n",
       "      <th>2014-03-13 09:17:00</th>\n",
       "      <td>10.413043</td>\n",
       "      <td>8.755182</td>\n",
       "    </tr>\n",
       "  </tbody>\n",
       "</table>\n",
       "</div>"
      ],
      "text/plain": [
       "                     fare_amount  pred_amount\n",
       "interval                                     \n",
       "2014-03-13 05:17:00     8.400000     9.038386\n",
       "2014-03-13 06:17:00    20.177333    16.184066\n",
       "2014-03-13 07:17:00    13.171935    10.347191\n",
       "2014-03-13 08:17:00    11.719787    10.032480\n",
       "2014-03-13 09:17:00    10.413043     8.755182"
      ]
     },
     "execution_count": 328,
     "metadata": {},
     "output_type": "execute_result"
    }
   ],
   "source": [
    "y_test.head()"
   ]
  },
  {
   "cell_type": "code",
   "execution_count": 332,
   "metadata": {},
   "outputs": [
    {
     "data": {
      "text/plain": [
       "<matplotlib.legend.Legend at 0x14780550>"
      ]
     },
     "execution_count": 332,
     "metadata": {},
     "output_type": "execute_result"
    },
    {
     "data": {
      "image/png": "[encoded data removed]",
      "text/plain": [
       "<Figure size 864x576 with 1 Axes>"
      ]
     },
     "metadata": {
      "needs_background": "light"
     },
     "output_type": "display_data"
    }
   ],
   "source": [
    "plt.figure(figsize=(12,8))\n",
    "plt.plot(y_train['fare_amount'], label='Train')\n",
    "plt.plot(y_test['fare_amount'], label='Test')\n",
    "plt.plot(y_test['pred_amount'], label='Predicted Forecast')\n",
    "\n",
    "plt.legend(loc='best')"
   ]
  },
  {
   "cell_type": "code",
   "execution_count": 172,
   "metadata": {},
   "outputs": [
    {
     "data": {
      "text/plain": [
       "<matplotlib.axes._subplots.AxesSubplot at 0x1ac7b908>"
      ]
     },
     "execution_count": 172,
     "metadata": {},
     "output_type": "execute_result"
    },
    {
     "data": {
      "image/png": "[encoded data removed]",
      "text/plain": [
       "<Figure size 1080x576 with 1 Axes>"
      ]
     },
     "metadata": {
      "needs_background": "light"
     },
     "output_type": "display_data"
    }
   ],
   "source": [
    "train.fare_amount.plot(figsize=(15,8), title= 'Daily Ridership', fontsize=14)"
   ]
  },
  {
   "cell_type": "code",
   "execution_count": 194,
   "metadata": {},
   "outputs": [
    {
     "data": {
      "text/html": [
       "<div>\n",
       "<style scoped>\n",
       "    .dataframe tbody tr th:only-of-type {\n",
       "        vertical-align: middle;\n",
       "    }\n",
       "\n",
       "    .dataframe tbody tr th {\n",
       "        vertical-align: top;\n",
       "    }\n",
       "\n",
       "    .dataframe thead th {\n",
       "        text-align: right;\n",
       "    }\n",
       "</style>\n",
       "<table border=\"1\" class=\"dataframe\">\n",
       "  <thead>\n",
       "    <tr style=\"text-align: right;\">\n",
       "      <th></th>\n",
       "      <th>fare_amount</th>\n",
       "      <th>distance</th>\n",
       "      <th>pickup_longitude</th>\n",
       "      <th>pickup_latitude</th>\n",
       "      <th>dropoff_latitude</th>\n",
       "      <th>dropoff_latitude</th>\n",
       "      <th>pickup_hour</th>\n",
       "      <th>pickup_month</th>\n",
       "    </tr>\n",
       "    <tr>\n",
       "      <th>interval</th>\n",
       "      <th></th>\n",
       "      <th></th>\n",
       "      <th></th>\n",
       "      <th></th>\n",
       "      <th></th>\n",
       "      <th></th>\n",
       "      <th></th>\n",
       "      <th></th>\n",
       "    </tr>\n",
       "  </thead>\n",
       "  <tbody>\n",
       "    <tr>\n",
       "      <th>2008-12-31 23:17:00</th>\n",
       "      <td>11.666667</td>\n",
       "      <td>6.226503</td>\n",
       "      <td>-73.975000</td>\n",
       "      <td>40.768333</td>\n",
       "      <td>40.773620</td>\n",
       "      <td>40.773620</td>\n",
       "      <td>0.000000</td>\n",
       "      <td>1.0</td>\n",
       "    </tr>\n",
       "    <tr>\n",
       "      <th>2009-01-01 00:17:00</th>\n",
       "      <td>9.666667</td>\n",
       "      <td>3.980113</td>\n",
       "      <td>-73.975333</td>\n",
       "      <td>40.754667</td>\n",
       "      <td>40.753529</td>\n",
       "      <td>40.753529</td>\n",
       "      <td>0.533333</td>\n",
       "      <td>1.0</td>\n",
       "    </tr>\n",
       "    <tr>\n",
       "      <th>2009-01-01 01:17:00</th>\n",
       "      <td>8.800000</td>\n",
       "      <td>3.161337</td>\n",
       "      <td>-73.984000</td>\n",
       "      <td>40.729000</td>\n",
       "      <td>40.740373</td>\n",
       "      <td>40.740373</td>\n",
       "      <td>1.600000</td>\n",
       "      <td>1.0</td>\n",
       "    </tr>\n",
       "    <tr>\n",
       "      <th>2009-01-01 02:17:00</th>\n",
       "      <td>12.811111</td>\n",
       "      <td>4.917250</td>\n",
       "      <td>-73.968889</td>\n",
       "      <td>40.763333</td>\n",
       "      <td>40.739729</td>\n",
       "      <td>40.739729</td>\n",
       "      <td>2.555556</td>\n",
       "      <td>1.0</td>\n",
       "    </tr>\n",
       "    <tr>\n",
       "      <th>2009-01-01 03:17:00</th>\n",
       "      <td>8.470000</td>\n",
       "      <td>3.011235</td>\n",
       "      <td>-73.989000</td>\n",
       "      <td>40.735000</td>\n",
       "      <td>40.739308</td>\n",
       "      <td>40.739308</td>\n",
       "      <td>3.600000</td>\n",
       "      <td>1.0</td>\n",
       "    </tr>\n",
       "  </tbody>\n",
       "</table>\n",
       "</div>"
      ],
      "text/plain": [
       "                     fare_amount  distance  pickup_longitude  pickup_latitude  \\\n",
       "interval                                                                        \n",
       "2008-12-31 23:17:00    11.666667  6.226503        -73.975000        40.768333   \n",
       "2009-01-01 00:17:00     9.666667  3.980113        -73.975333        40.754667   \n",
       "2009-01-01 01:17:00     8.800000  3.161337        -73.984000        40.729000   \n",
       "2009-01-01 02:17:00    12.811111  4.917250        -73.968889        40.763333   \n",
       "2009-01-01 03:17:00     8.470000  3.011235        -73.989000        40.735000   \n",
       "\n",
       "                     dropoff_latitude  dropoff_latitude  pickup_hour  \\\n",
       "interval                                                               \n",
       "2008-12-31 23:17:00         40.773620         40.773620     0.000000   \n",
       "2009-01-01 00:17:00         40.753529         40.753529     0.533333   \n",
       "2009-01-01 01:17:00         40.740373         40.740373     1.600000   \n",
       "2009-01-01 02:17:00         40.739729         40.739729     2.555556   \n",
       "2009-01-01 03:17:00         40.739308         40.739308     3.600000   \n",
       "\n",
       "                     pickup_month  \n",
       "interval                           \n",
       "2008-12-31 23:17:00           1.0  \n",
       "2009-01-01 00:17:00           1.0  \n",
       "2009-01-01 01:17:00           1.0  \n",
       "2009-01-01 02:17:00           1.0  \n",
       "2009-01-01 03:17:00           1.0  "
      ]
     },
     "execution_count": 194,
     "metadata": {},
     "output_type": "execute_result"
    }
   ],
   "source": [
    "train.head()"
   ]
  },
  {
   "cell_type": "code",
   "execution_count": 358,
   "metadata": {},
   "outputs": [],
   "source": []
  },
  {
   "cell_type": "code",
   "execution_count": 359,
   "metadata": {},
   "outputs": [
    {
     "data": {
      "text/html": [
       "<div>\n",
       "<style scoped>\n",
       "    .dataframe tbody tr th:only-of-type {\n",
       "        vertical-align: middle;\n",
       "    }\n",
       "\n",
       "    .dataframe tbody tr th {\n",
       "        vertical-align: top;\n",
       "    }\n",
       "\n",
       "    .dataframe thead th {\n",
       "        text-align: right;\n",
       "    }\n",
       "</style>\n",
       "<table border=\"1\" class=\"dataframe\">\n",
       "  <thead>\n",
       "    <tr style=\"text-align: right;\">\n",
       "      <th></th>\n",
       "      <th>fare_amount</th>\n",
       "      <th>distance</th>\n",
       "      <th>pickup_longitude</th>\n",
       "      <th>pickup_latitude</th>\n",
       "      <th>dropoff_latitude</th>\n",
       "      <th>dropoff_latitude</th>\n",
       "    </tr>\n",
       "    <tr>\n",
       "      <th>interval</th>\n",
       "      <th></th>\n",
       "      <th></th>\n",
       "      <th></th>\n",
       "      <th></th>\n",
       "      <th></th>\n",
       "      <th></th>\n",
       "    </tr>\n",
       "  </thead>\n",
       "  <tbody>\n",
       "  </tbody>\n",
       "</table>\n",
       "</div>"
      ],
      "text/plain": [
       "Empty DataFrame\n",
       "Columns: [fare_amount, distance, pickup_longitude, pickup_latitude, dropoff_latitude, dropoff_latitude]\n",
       "Index: []"
      ]
     },
     "execution_count": 359,
     "metadata": {},
     "output_type": "execute_result"
    }
   ],
   "source": []
  },
  {
   "cell_type": "code",
   "execution_count": 360,
   "metadata": {},
   "outputs": [],
   "source": [
    "train.fare_amount = train['fare_amount'].apply(np.int64)"
   ]
  },
  {
   "cell_type": "code",
   "execution_count": 336,
   "metadata": {},
   "outputs": [],
   "source": [
    "train = train.resample(rule='60T', closed='left', label='left', base=17).mean()"
   ]
  },
  {
   "cell_type": "code",
   "execution_count": null,
   "metadata": {},
   "outputs": [],
   "source": [
    "train = train[np.isfinite(train['fare_amount'])]\n"
   ]
  },
  {
   "cell_type": "code",
   "execution_count": null,
   "metadata": {},
   "outputs": [],
   "source": [
    "train[train['fare_amount'].isnull()]"
   ]
  },
  {
   "cell_type": "code",
   "execution_count": 213,
   "metadata": {},
   "outputs": [],
   "source": [
    "x_train = train.drop(['fare_amount','pickup_hour','pickup_month'], axis=1)\n",
    "x_test = test.drop(['fare_amount','pickup_hour','pickup_month'], axis=1)\n",
    "y_train = train[['fare_amount']]\n",
    "y_test = test[['fare_amount']]"
   ]
  },
  {
   "cell_type": "code",
   "execution_count": 215,
   "metadata": {},
   "outputs": [
    {
     "data": {
      "text/html": [
       "<div>\n",
       "<style scoped>\n",
       "    .dataframe tbody tr th:only-of-type {\n",
       "        vertical-align: middle;\n",
       "    }\n",
       "\n",
       "    .dataframe tbody tr th {\n",
       "        vertical-align: top;\n",
       "    }\n",
       "\n",
       "    .dataframe thead th {\n",
       "        text-align: right;\n",
       "    }\n",
       "</style>\n",
       "<table border=\"1\" class=\"dataframe\">\n",
       "  <thead>\n",
       "    <tr style=\"text-align: right;\">\n",
       "      <th></th>\n",
       "      <th>distance</th>\n",
       "      <th>pickup_longitude</th>\n",
       "      <th>pickup_latitude</th>\n",
       "      <th>dropoff_latitude</th>\n",
       "      <th>dropoff_latitude</th>\n",
       "    </tr>\n",
       "  </thead>\n",
       "  <tbody>\n",
       "    <tr>\n",
       "      <th>count</th>\n",
       "      <td>45232.000000</td>\n",
       "      <td>45232.000000</td>\n",
       "      <td>45232.000000</td>\n",
       "      <td>45232.000000</td>\n",
       "      <td>45232.000000</td>\n",
       "    </tr>\n",
       "    <tr>\n",
       "      <th>mean</th>\n",
       "      <td>4.474415</td>\n",
       "      <td>-72.549530</td>\n",
       "      <td>39.933779</td>\n",
       "      <td>39.934022</td>\n",
       "      <td>39.934022</td>\n",
       "    </tr>\n",
       "    <tr>\n",
       "      <th>std</th>\n",
       "      <td>2.007874</td>\n",
       "      <td>3.586999</td>\n",
       "      <td>2.314521</td>\n",
       "      <td>2.313185</td>\n",
       "      <td>2.313185</td>\n",
       "    </tr>\n",
       "    <tr>\n",
       "      <th>min</th>\n",
       "      <td>0.000000</td>\n",
       "      <td>-74.882222</td>\n",
       "      <td>-36.242000</td>\n",
       "      <td>-36.187977</td>\n",
       "      <td>-36.187977</td>\n",
       "    </tr>\n",
       "    <tr>\n",
       "      <th>25%</th>\n",
       "      <td>3.332064</td>\n",
       "      <td>-73.980588</td>\n",
       "      <td>39.483984</td>\n",
       "      <td>39.484799</td>\n",
       "      <td>39.484799</td>\n",
       "    </tr>\n",
       "    <tr>\n",
       "      <th>50%</th>\n",
       "      <td>4.086274</td>\n",
       "      <td>-73.972500</td>\n",
       "      <td>40.746575</td>\n",
       "      <td>40.747209</td>\n",
       "      <td>40.747209</td>\n",
       "    </tr>\n",
       "    <tr>\n",
       "      <th>75%</th>\n",
       "      <td>5.078821</td>\n",
       "      <td>-71.670859</td>\n",
       "      <td>40.754286</td>\n",
       "      <td>40.755109</td>\n",
       "      <td>40.755109</td>\n",
       "    </tr>\n",
       "    <tr>\n",
       "      <th>max</th>\n",
       "      <td>35.807893</td>\n",
       "      <td>9.664000</td>\n",
       "      <td>56.420870</td>\n",
       "      <td>41.147453</td>\n",
       "      <td>41.147453</td>\n",
       "    </tr>\n",
       "  </tbody>\n",
       "</table>\n",
       "</div>"
      ],
      "text/plain": [
       "           distance  pickup_longitude  pickup_latitude  dropoff_latitude  \\\n",
       "count  45232.000000      45232.000000     45232.000000      45232.000000   \n",
       "mean       4.474415        -72.549530        39.933779         39.934022   \n",
       "std        2.007874          3.586999         2.314521          2.313185   \n",
       "min        0.000000        -74.882222       -36.242000        -36.187977   \n",
       "25%        3.332064        -73.980588        39.483984         39.484799   \n",
       "50%        4.086274        -73.972500        40.746575         40.747209   \n",
       "75%        5.078821        -71.670859        40.754286         40.755109   \n",
       "max       35.807893          9.664000        56.420870         41.147453   \n",
       "\n",
       "       dropoff_latitude  \n",
       "count      45232.000000  \n",
       "mean          39.934022  \n",
       "std            2.313185  \n",
       "min          -36.187977  \n",
       "25%           39.484799  \n",
       "50%           40.747209  \n",
       "75%           40.755109  \n",
       "max           41.147453  "
      ]
     },
     "execution_count": 215,
     "metadata": {},
     "output_type": "execute_result"
    }
   ],
   "source": [
    "x_train.describe()"
   ]
  },
  {
   "cell_type": "code",
   "execution_count": 216,
   "metadata": {},
   "outputs": [
    {
     "data": {
      "text/plain": [
       "<matplotlib.axes._subplots.AxesSubplot at 0x2f6592b0>"
      ]
     },
     "execution_count": 216,
     "metadata": {},
     "output_type": "execute_result"
    },
    {
     "data": {
      "image/png": "[encoded data removed]",
      "text/plain": [
       "<Figure size 1080x576 with 1 Axes>"
      ]
     },
     "metadata": {
      "needs_background": "light"
     },
     "output_type": "display_data"
    }
   ],
   "source": [
    "train.fare_amount.plot(figsize=(15,8), title= 'Daily Ridership', fontsize=14)"
   ]
  },
  {
   "cell_type": "code",
   "execution_count": 217,
   "metadata": {},
   "outputs": [
    {
     "data": {
      "text/html": [
       "<div>\n",
       "<style scoped>\n",
       "    .dataframe tbody tr th:only-of-type {\n",
       "        vertical-align: middle;\n",
       "    }\n",
       "\n",
       "    .dataframe tbody tr th {\n",
       "        vertical-align: top;\n",
       "    }\n",
       "\n",
       "    .dataframe thead th {\n",
       "        text-align: right;\n",
       "    }\n",
       "</style>\n",
       "<table border=\"1\" class=\"dataframe\">\n",
       "  <thead>\n",
       "    <tr style=\"text-align: right;\">\n",
       "      <th></th>\n",
       "      <th>fare_amount</th>\n",
       "    </tr>\n",
       "  </thead>\n",
       "  <tbody>\n",
       "    <tr>\n",
       "      <th>count</th>\n",
       "      <td>45232.000000</td>\n",
       "    </tr>\n",
       "    <tr>\n",
       "      <th>mean</th>\n",
       "      <td>11.309016</td>\n",
       "    </tr>\n",
       "    <tr>\n",
       "      <th>std</th>\n",
       "      <td>3.972370</td>\n",
       "    </tr>\n",
       "    <tr>\n",
       "      <th>min</th>\n",
       "      <td>2.500000</td>\n",
       "    </tr>\n",
       "    <tr>\n",
       "      <th>25%</th>\n",
       "      <td>9.031250</td>\n",
       "    </tr>\n",
       "    <tr>\n",
       "      <th>50%</th>\n",
       "      <td>10.566667</td>\n",
       "    </tr>\n",
       "    <tr>\n",
       "      <th>75%</th>\n",
       "      <td>12.570588</td>\n",
       "    </tr>\n",
       "    <tr>\n",
       "      <th>max</th>\n",
       "      <td>94.766667</td>\n",
       "    </tr>\n",
       "  </tbody>\n",
       "</table>\n",
       "</div>"
      ],
      "text/plain": [
       "        fare_amount\n",
       "count  45232.000000\n",
       "mean      11.309016\n",
       "std        3.972370\n",
       "min        2.500000\n",
       "25%        9.031250\n",
       "50%       10.566667\n",
       "75%       12.570588\n",
       "max       94.766667"
      ]
     },
     "execution_count": 217,
     "metadata": {},
     "output_type": "execute_result"
    }
   ],
   "source": [
    "y_train.describe()"
   ]
  },
  {
   "cell_type": "code",
   "execution_count": 218,
   "metadata": {},
   "outputs": [],
   "source": [
    "# Create linear regression object\n",
    "regr = linear_model.LinearRegression()"
   ]
  },
  {
   "cell_type": "code",
   "execution_count": 219,
   "metadata": {},
   "outputs": [
    {
     "data": {
      "text/plain": [
       "LinearRegression(copy_X=True, fit_intercept=True, n_jobs=1, normalize=False)"
      ]
     },
     "execution_count": 219,
     "metadata": {},
     "output_type": "execute_result"
    }
   ],
   "source": [
    "regr.fit(x_train, y_train)"
   ]
  },
  {
   "cell_type": "code",
   "execution_count": 220,
   "metadata": {},
   "outputs": [
    {
     "data": {
      "text/html": [
       "<div>\n",
       "<style scoped>\n",
       "    .dataframe tbody tr th:only-of-type {\n",
       "        vertical-align: middle;\n",
       "    }\n",
       "\n",
       "    .dataframe tbody tr th {\n",
       "        vertical-align: top;\n",
       "    }\n",
       "\n",
       "    .dataframe thead th {\n",
       "        text-align: right;\n",
       "    }\n",
       "</style>\n",
       "<table border=\"1\" class=\"dataframe\">\n",
       "  <thead>\n",
       "    <tr style=\"text-align: right;\">\n",
       "      <th></th>\n",
       "      <th>distance</th>\n",
       "      <th>pickup_longitude</th>\n",
       "      <th>pickup_latitude</th>\n",
       "      <th>dropoff_latitude</th>\n",
       "      <th>dropoff_latitude</th>\n",
       "    </tr>\n",
       "    <tr>\n",
       "      <th>interval</th>\n",
       "      <th></th>\n",
       "      <th></th>\n",
       "      <th></th>\n",
       "      <th></th>\n",
       "      <th></th>\n",
       "    </tr>\n",
       "  </thead>\n",
       "  <tbody>\n",
       "    <tr>\n",
       "      <th>2014-03-13 05:17:00</th>\n",
       "      <td>3.788830</td>\n",
       "      <td>-73.990000</td>\n",
       "      <td>40.744000</td>\n",
       "      <td>40.754681</td>\n",
       "      <td>40.754681</td>\n",
       "    </tr>\n",
       "    <tr>\n",
       "      <th>2014-03-13 06:17:00</th>\n",
       "      <td>7.464251</td>\n",
       "      <td>-73.962667</td>\n",
       "      <td>40.746667</td>\n",
       "      <td>40.725717</td>\n",
       "      <td>40.725717</td>\n",
       "    </tr>\n",
       "    <tr>\n",
       "      <th>2014-03-13 07:17:00</th>\n",
       "      <td>4.220028</td>\n",
       "      <td>-73.982258</td>\n",
       "      <td>40.752903</td>\n",
       "      <td>40.756682</td>\n",
       "      <td>40.756682</td>\n",
       "    </tr>\n",
       "    <tr>\n",
       "      <th>2014-03-13 08:17:00</th>\n",
       "      <td>3.798852</td>\n",
       "      <td>-73.972553</td>\n",
       "      <td>40.750638</td>\n",
       "      <td>40.756855</td>\n",
       "      <td>40.756855</td>\n",
       "    </tr>\n",
       "    <tr>\n",
       "      <th>2014-03-13 09:17:00</th>\n",
       "      <td>3.039036</td>\n",
       "      <td>-73.983913</td>\n",
       "      <td>40.753043</td>\n",
       "      <td>40.758640</td>\n",
       "      <td>40.758640</td>\n",
       "    </tr>\n",
       "  </tbody>\n",
       "</table>\n",
       "</div>"
      ],
      "text/plain": [
       "                     distance  pickup_longitude  pickup_latitude  \\\n",
       "interval                                                           \n",
       "2014-03-13 05:17:00  3.788830        -73.990000        40.744000   \n",
       "2014-03-13 06:17:00  7.464251        -73.962667        40.746667   \n",
       "2014-03-13 07:17:00  4.220028        -73.982258        40.752903   \n",
       "2014-03-13 08:17:00  3.798852        -73.972553        40.750638   \n",
       "2014-03-13 09:17:00  3.039036        -73.983913        40.753043   \n",
       "\n",
       "                     dropoff_latitude  dropoff_latitude  \n",
       "interval                                                 \n",
       "2014-03-13 05:17:00         40.754681         40.754681  \n",
       "2014-03-13 06:17:00         40.725717         40.725717  \n",
       "2014-03-13 07:17:00         40.756682         40.756682  \n",
       "2014-03-13 08:17:00         40.756855         40.756855  \n",
       "2014-03-13 09:17:00         40.758640         40.758640  "
      ]
     },
     "execution_count": 220,
     "metadata": {},
     "output_type": "execute_result"
    }
   ],
   "source": [
    "x_test.head()"
   ]
  },
  {
   "cell_type": "code",
   "execution_count": 221,
   "metadata": {},
   "outputs": [
    {
     "data": {
      "text/plain": [
       "array([ 7.85, 15.85, 10.65, ..., 16.3 , 10.65, 11.35])"
      ]
     },
     "execution_count": 221,
     "metadata": {},
     "output_type": "execute_result"
    }
   ],
   "source": [
    "y_pred"
   ]
  },
  {
   "cell_type": "code",
   "execution_count": 222,
   "metadata": {},
   "outputs": [],
   "source": [
    "y_pred = regr.predict(x_test)"
   ]
  },
  {
   "cell_type": "code",
   "execution_count": 320,
   "metadata": {},
   "outputs": [
    {
     "name": "stdout",
     "output_type": "stream",
     "text": [
      "Mean squared error: 9.10\n",
      "Variance score: 0.57\n"
     ]
    }
   ],
   "source": [
    "print(\"Mean squared error: %.2f\"\n",
    "      % mean_squared_error(y_test, y_pred))\n",
    "# Explained variance score: 1 is perfect prediction\n",
    "print('Variance score: %.2f' % r2_score(y_test, y_pred))"
   ]
  },
  {
   "cell_type": "code",
   "execution_count": 321,
   "metadata": {},
   "outputs": [
    {
     "name": "stdout",
     "output_type": "stream",
     "text": [
      "56.78548495379063 %\n"
     ]
    }
   ],
   "source": [
    "accuracy = regr.score(x_test,y_test)\n",
    "print(accuracy*100,'%')"
   ]
  },
  {
   "cell_type": "code",
   "execution_count": 324,
   "metadata": {},
   "outputs": [],
   "source": [
    "y_hat_avg = y_test.copy()"
   ]
  },
  {
   "cell_type": "code",
   "execution_count": 325,
   "metadata": {},
   "outputs": [],
   "source": [
    "y_hat_avg['t_fare_amount'] = y_test"
   ]
  },
  {
   "cell_type": "code",
   "execution_count": 326,
   "metadata": {},
   "outputs": [
    {
     "data": {
      "text/html": [
       "<div>\n",
       "<style scoped>\n",
       "    .dataframe tbody tr th:only-of-type {\n",
       "        vertical-align: middle;\n",
       "    }\n",
       "\n",
       "    .dataframe tbody tr th {\n",
       "        vertical-align: top;\n",
       "    }\n",
       "\n",
       "    .dataframe thead th {\n",
       "        text-align: right;\n",
       "    }\n",
       "</style>\n",
       "<table border=\"1\" class=\"dataframe\">\n",
       "  <thead>\n",
       "    <tr style=\"text-align: right;\">\n",
       "      <th></th>\n",
       "      <th>fare_amount</th>\n",
       "      <th>t_fare_amount</th>\n",
       "    </tr>\n",
       "    <tr>\n",
       "      <th>interval</th>\n",
       "      <th></th>\n",
       "      <th></th>\n",
       "    </tr>\n",
       "  </thead>\n",
       "  <tbody>\n",
       "    <tr>\n",
       "      <th>2014-03-13 05:17:00</th>\n",
       "      <td>8.400000</td>\n",
       "      <td>8.400000</td>\n",
       "    </tr>\n",
       "    <tr>\n",
       "      <th>2014-03-13 06:17:00</th>\n",
       "      <td>20.177333</td>\n",
       "      <td>20.177333</td>\n",
       "    </tr>\n",
       "    <tr>\n",
       "      <th>2014-03-13 07:17:00</th>\n",
       "      <td>13.171935</td>\n",
       "      <td>13.171935</td>\n",
       "    </tr>\n",
       "    <tr>\n",
       "      <th>2014-03-13 08:17:00</th>\n",
       "      <td>11.719787</td>\n",
       "      <td>11.719787</td>\n",
       "    </tr>\n",
       "    <tr>\n",
       "      <th>2014-03-13 09:17:00</th>\n",
       "      <td>10.413043</td>\n",
       "      <td>10.413043</td>\n",
       "    </tr>\n",
       "  </tbody>\n",
       "</table>\n",
       "</div>"
      ],
      "text/plain": [
       "                     fare_amount  t_fare_amount\n",
       "interval                                       \n",
       "2014-03-13 05:17:00     8.400000       8.400000\n",
       "2014-03-13 06:17:00    20.177333      20.177333\n",
       "2014-03-13 07:17:00    13.171935      13.171935\n",
       "2014-03-13 08:17:00    11.719787      11.719787\n",
       "2014-03-13 09:17:00    10.413043      10.413043"
      ]
     },
     "execution_count": 326,
     "metadata": {},
     "output_type": "execute_result"
    }
   ],
   "source": [
    "y_hat_avg.head()"
   ]
  },
  {
   "cell_type": "code",
   "execution_count": 322,
   "metadata": {},
   "outputs": [],
   "source": [
    "from sklearn.ensemble import RandomForestRegressor\n"
   ]
  },
  {
   "cell_type": "code",
   "execution_count": 227,
   "metadata": {},
   "outputs": [],
   "source": [
    "regressor = RandomForestRegressor(n_estimators=20, random_state=0)  \n"
   ]
  },
  {
   "cell_type": "code",
   "execution_count": 228,
   "metadata": {},
   "outputs": [
    {
     "name": "stderr",
     "output_type": "stream",
     "text": [
      "C:\\Users\\user\\Anaconda\\lib\\site-packages\\ipykernel_launcher.py:1: DataConversionWarning:\n",
      "\n",
      "A column-vector y was passed when a 1d array was expected. Please change the shape of y to (n_samples,), for example using ravel().\n",
      "\n"
     ]
    }
   ],
   "source": [
    "regressor.fit(x_train, y_train)  \n",
    "y_pred = regressor.predict(x_test) "
   ]
  },
  {
   "cell_type": "code",
   "execution_count": 229,
   "metadata": {},
   "outputs": [
    {
     "name": "stdout",
     "output_type": "stream",
     "text": [
      "Mean squared error: 9.10\n",
      "Variance score: 0.57\n"
     ]
    }
   ],
   "source": [
    "print(\"Mean squared error: %.2f\"\n",
    "      % mean_squared_error(y_test, y_pred))\n",
    "# Explained variance score: 1 is perfect prediction\n",
    "print('Variance score: %.2f' % r2_score(y_test, y_pred))"
   ]
  },
  {
   "cell_type": "code",
   "execution_count": 230,
   "metadata": {},
   "outputs": [
    {
     "name": "stdout",
     "output_type": "stream",
     "text": [
      "56.985328568964974 %\n"
     ]
    }
   ],
   "source": [
    "accuracy = regressor.score(x_test,y_test)\n",
    "print(accuracy*100,'%')"
   ]
  },
  {
   "cell_type": "code",
   "execution_count": 231,
   "metadata": {},
   "outputs": [],
   "source": [
    "from statsmodels.tsa.ar_model import AR\n",
    "from sklearn.metrics import mean_squared_error"
   ]
  },
  {
   "cell_type": "code",
   "execution_count": 232,
   "metadata": {},
   "outputs": [
    {
     "data": {
      "text/html": [
       "<div>\n",
       "<style scoped>\n",
       "    .dataframe tbody tr th:only-of-type {\n",
       "        vertical-align: middle;\n",
       "    }\n",
       "\n",
       "    .dataframe tbody tr th {\n",
       "        vertical-align: top;\n",
       "    }\n",
       "\n",
       "    .dataframe thead th {\n",
       "        text-align: right;\n",
       "    }\n",
       "</style>\n",
       "<table border=\"1\" class=\"dataframe\">\n",
       "  <thead>\n",
       "    <tr style=\"text-align: right;\">\n",
       "      <th></th>\n",
       "      <th>fare_amount</th>\n",
       "    </tr>\n",
       "    <tr>\n",
       "      <th>interval</th>\n",
       "      <th></th>\n",
       "    </tr>\n",
       "  </thead>\n",
       "  <tbody>\n",
       "    <tr>\n",
       "      <th>2008-12-31 23:17:00</th>\n",
       "      <td>11.666667</td>\n",
       "    </tr>\n",
       "    <tr>\n",
       "      <th>2009-01-01 00:17:00</th>\n",
       "      <td>9.666667</td>\n",
       "    </tr>\n",
       "    <tr>\n",
       "      <th>2009-01-01 01:17:00</th>\n",
       "      <td>8.800000</td>\n",
       "    </tr>\n",
       "    <tr>\n",
       "      <th>2009-01-01 02:17:00</th>\n",
       "      <td>12.811111</td>\n",
       "    </tr>\n",
       "    <tr>\n",
       "      <th>2009-01-01 03:17:00</th>\n",
       "      <td>8.470000</td>\n",
       "    </tr>\n",
       "  </tbody>\n",
       "</table>\n",
       "</div>"
      ],
      "text/plain": [
       "                     fare_amount\n",
       "interval                        \n",
       "2008-12-31 23:17:00    11.666667\n",
       "2009-01-01 00:17:00     9.666667\n",
       "2009-01-01 01:17:00     8.800000\n",
       "2009-01-01 02:17:00    12.811111\n",
       "2009-01-01 03:17:00     8.470000"
      ]
     },
     "execution_count": 232,
     "metadata": {},
     "output_type": "execute_result"
    }
   ],
   "source": [
    "y_train.head()"
   ]
  },
  {
   "cell_type": "code",
   "execution_count": 233,
   "metadata": {},
   "outputs": [
    {
     "name": "stderr",
     "output_type": "stream",
     "text": [
      "C:\\Users\\user\\Anaconda\\lib\\site-packages\\statsmodels\\tsa\\base\\tsa_model.py:225: ValueWarning:\n",
      "\n",
      "A date index has been provided, but it has no associated frequency information and so will be ignored when e.g. forecasting.\n",
      "\n"
     ]
    }
   ],
   "source": [
    "# train autoregression\n",
    "model = AR(y_train)"
   ]
  },
  {
   "cell_type": "code",
   "execution_count": 234,
   "metadata": {},
   "outputs": [],
   "source": [
    "model_fit = model.fit()\n"
   ]
  },
  {
   "cell_type": "code",
   "execution_count": 235,
   "metadata": {},
   "outputs": [
    {
     "name": "stdout",
     "output_type": "stream",
     "text": [
      "Lag: 55\n"
     ]
    }
   ],
   "source": [
    "print('Lag: %s' % model_fit.k_ar)\n"
   ]
  },
  {
   "cell_type": "code",
   "execution_count": 236,
   "metadata": {},
   "outputs": [
    {
     "name": "stdout",
     "output_type": "stream",
     "text": [
      "Coefficients: const              1.878941\n",
      "L1.fare_amount     0.079938\n",
      "L2.fare_amount     0.024428\n",
      "L3.fare_amount     0.006988\n",
      "L4.fare_amount     0.017058\n",
      "L5.fare_amount     0.008038\n",
      "L6.fare_amount     0.006353\n",
      "L7.fare_amount     0.009845\n",
      "L8.fare_amount     0.015025\n",
      "L9.fare_amount     0.011915\n",
      "L10.fare_amount    0.021742\n",
      "L11.fare_amount    0.022521\n",
      "L12.fare_amount    0.017033\n",
      "L13.fare_amount    0.017238\n",
      "L14.fare_amount    0.004769\n",
      "L15.fare_amount    0.010604\n",
      "L16.fare_amount    0.004856\n",
      "L17.fare_amount    0.005995\n",
      "L18.fare_amount    0.002878\n",
      "L19.fare_amount    0.005548\n",
      "L20.fare_amount   -0.001570\n",
      "L21.fare_amount    0.006955\n",
      "L22.fare_amount    0.030746\n",
      "L23.fare_amount    0.058837\n",
      "L24.fare_amount    0.071601\n",
      "L25.fare_amount    0.057225\n",
      "L26.fare_amount    0.012078\n",
      "L27.fare_amount    0.000751\n",
      "L28.fare_amount    0.003475\n",
      "L29.fare_amount    0.002350\n",
      "L30.fare_amount    0.001035\n",
      "L31.fare_amount   -0.001923\n",
      "L32.fare_amount   -0.005846\n",
      "L33.fare_amount    0.001371\n",
      "L34.fare_amount    0.003887\n",
      "L35.fare_amount    0.008978\n",
      "L36.fare_amount    0.005819\n",
      "L37.fare_amount    0.008264\n",
      "L38.fare_amount    0.011919\n",
      "L39.fare_amount    0.006459\n",
      "L40.fare_amount    0.002643\n",
      "L41.fare_amount    0.006581\n",
      "L42.fare_amount    0.001868\n",
      "L43.fare_amount    0.009100\n",
      "L44.fare_amount    0.010351\n",
      "L45.fare_amount    0.010161\n",
      "L46.fare_amount    0.022757\n",
      "L47.fare_amount    0.064649\n",
      "L48.fare_amount    0.056256\n",
      "L49.fare_amount    0.043729\n",
      "L50.fare_amount    0.009231\n",
      "L51.fare_amount    0.004940\n",
      "L52.fare_amount    0.000998\n",
      "L53.fare_amount    0.010017\n",
      "L54.fare_amount    0.001529\n",
      "L55.fare_amount    0.004011\n",
      "dtype: float64\n"
     ]
    }
   ],
   "source": [
    "print('Coefficients: %s' % model_fit.params)\n"
   ]
  },
  {
   "cell_type": "code",
   "execution_count": 237,
   "metadata": {},
   "outputs": [
    {
     "name": "stderr",
     "output_type": "stream",
     "text": [
      "C:\\Users\\user\\Anaconda\\lib\\site-packages\\statsmodels\\tsa\\base\\tsa_model.py:531: ValueWarning:\n",
      "\n",
      "No supported index is available. Prediction results will be given with an integer index beginning at `start`.\n",
      "\n"
     ]
    }
   ],
   "source": [
    "predictions = model_fit.predict(start=len(y_train), end=len(y_train)+len(y_test)-1, dynamic=False)\n"
   ]
  },
  {
   "cell_type": "code",
   "execution_count": 238,
   "metadata": {},
   "outputs": [
    {
     "data": {
      "text/plain": [
       "20.17733333333333"
      ]
     },
     "execution_count": 238,
     "metadata": {},
     "output_type": "execute_result"
    }
   ],
   "source": [
    "y_test.reset_index()[\"fare_amount\"][1]\n"
   ]
  },
  {
   "cell_type": "code",
   "execution_count": 239,
   "metadata": {},
   "outputs": [
    {
     "ename": "KeyError",
     "evalue": "0",
     "output_type": "error",
     "traceback": [
      "\u001b[1;31m---------------------------------------------------------------------------\u001b[0m",
      "\u001b[1;31mKeyError\u001b[0m                                  Traceback (most recent call last)",
      "\u001b[1;32m<ipython-input-239-c8cb7fb08bfa>\u001b[0m in \u001b[0;36m<module>\u001b[1;34m()\u001b[0m\n\u001b[0;32m      1\u001b[0m \u001b[1;32mfor\u001b[0m \u001b[0mi\u001b[0m \u001b[1;32min\u001b[0m \u001b[0mrange\u001b[0m\u001b[1;33m(\u001b[0m\u001b[0mlen\u001b[0m\u001b[1;33m(\u001b[0m\u001b[0mpredictions\u001b[0m\u001b[1;33m)\u001b[0m\u001b[1;33m)\u001b[0m\u001b[1;33m:\u001b[0m\u001b[1;33m\u001b[0m\u001b[0m\n\u001b[1;32m----> 2\u001b[1;33m     \u001b[0mprint\u001b[0m\u001b[1;33m(\u001b[0m\u001b[1;34m'predicted=%f, expected=%f'\u001b[0m \u001b[1;33m%\u001b[0m \u001b[1;33m(\u001b[0m\u001b[0mpredictions\u001b[0m\u001b[1;33m[\u001b[0m\u001b[0mi\u001b[0m\u001b[1;33m]\u001b[0m\u001b[1;33m,\u001b[0m \u001b[0my_test\u001b[0m\u001b[1;33m[\u001b[0m\u001b[1;34m\"fare_amount\"\u001b[0m\u001b[1;33m]\u001b[0m\u001b[1;33m[\u001b[0m\u001b[0mi\u001b[0m\u001b[1;33m]\u001b[0m\u001b[1;33m)\u001b[0m\u001b[1;33m)\u001b[0m\u001b[1;33m\u001b[0m\u001b[0m\n\u001b[0m",
      "\u001b[1;32m~\\Anaconda\\lib\\site-packages\\pandas\\core\\series.py\u001b[0m in \u001b[0;36m__getitem__\u001b[1;34m(self, key)\u001b[0m\n\u001b[0;32m    765\u001b[0m         \u001b[0mkey\u001b[0m \u001b[1;33m=\u001b[0m \u001b[0mcom\u001b[0m\u001b[1;33m.\u001b[0m\u001b[0m_apply_if_callable\u001b[0m\u001b[1;33m(\u001b[0m\u001b[0mkey\u001b[0m\u001b[1;33m,\u001b[0m \u001b[0mself\u001b[0m\u001b[1;33m)\u001b[0m\u001b[1;33m\u001b[0m\u001b[0m\n\u001b[0;32m    766\u001b[0m         \u001b[1;32mtry\u001b[0m\u001b[1;33m:\u001b[0m\u001b[1;33m\u001b[0m\u001b[0m\n\u001b[1;32m--> 767\u001b[1;33m             \u001b[0mresult\u001b[0m \u001b[1;33m=\u001b[0m \u001b[0mself\u001b[0m\u001b[1;33m.\u001b[0m\u001b[0mindex\u001b[0m\u001b[1;33m.\u001b[0m\u001b[0mget_value\u001b[0m\u001b[1;33m(\u001b[0m\u001b[0mself\u001b[0m\u001b[1;33m,\u001b[0m \u001b[0mkey\u001b[0m\u001b[1;33m)\u001b[0m\u001b[1;33m\u001b[0m\u001b[0m\n\u001b[0m\u001b[0;32m    768\u001b[0m \u001b[1;33m\u001b[0m\u001b[0m\n\u001b[0;32m    769\u001b[0m             \u001b[1;32mif\u001b[0m \u001b[1;32mnot\u001b[0m \u001b[0mis_scalar\u001b[0m\u001b[1;33m(\u001b[0m\u001b[0mresult\u001b[0m\u001b[1;33m)\u001b[0m\u001b[1;33m:\u001b[0m\u001b[1;33m\u001b[0m\u001b[0m\n",
      "\u001b[1;32m~\\Anaconda\\lib\\site-packages\\pandas\\core\\indexes\\base.py\u001b[0m in \u001b[0;36mget_value\u001b[1;34m(self, series, key)\u001b[0m\n\u001b[0;32m   3116\u001b[0m         \u001b[1;32mtry\u001b[0m\u001b[1;33m:\u001b[0m\u001b[1;33m\u001b[0m\u001b[0m\n\u001b[0;32m   3117\u001b[0m             return self._engine.get_value(s, k,\n\u001b[1;32m-> 3118\u001b[1;33m                                           tz=getattr(series.dtype, 'tz', None))\n\u001b[0m\u001b[0;32m   3119\u001b[0m         \u001b[1;32mexcept\u001b[0m \u001b[0mKeyError\u001b[0m \u001b[1;32mas\u001b[0m \u001b[0me1\u001b[0m\u001b[1;33m:\u001b[0m\u001b[1;33m\u001b[0m\u001b[0m\n\u001b[0;32m   3120\u001b[0m             \u001b[1;32mif\u001b[0m \u001b[0mlen\u001b[0m\u001b[1;33m(\u001b[0m\u001b[0mself\u001b[0m\u001b[1;33m)\u001b[0m \u001b[1;33m>\u001b[0m \u001b[1;36m0\u001b[0m \u001b[1;32mand\u001b[0m \u001b[0mself\u001b[0m\u001b[1;33m.\u001b[0m\u001b[0minferred_type\u001b[0m \u001b[1;32min\u001b[0m \u001b[1;33m[\u001b[0m\u001b[1;34m'integer'\u001b[0m\u001b[1;33m,\u001b[0m \u001b[1;34m'boolean'\u001b[0m\u001b[1;33m]\u001b[0m\u001b[1;33m:\u001b[0m\u001b[1;33m\u001b[0m\u001b[0m\n",
      "\u001b[1;32mpandas\\_libs\\index.pyx\u001b[0m in \u001b[0;36mpandas._libs.index.IndexEngine.get_value\u001b[1;34m()\u001b[0m\n",
      "\u001b[1;32mpandas\\_libs\\index.pyx\u001b[0m in \u001b[0;36mpandas._libs.index.IndexEngine.get_value\u001b[1;34m()\u001b[0m\n",
      "\u001b[1;32mpandas\\_libs\\index.pyx\u001b[0m in \u001b[0;36mpandas._libs.index.IndexEngine.get_loc\u001b[1;34m()\u001b[0m\n",
      "\u001b[1;32mpandas\\_libs\\hashtable_class_helper.pxi\u001b[0m in \u001b[0;36mpandas._libs.hashtable.Int64HashTable.get_item\u001b[1;34m()\u001b[0m\n",
      "\u001b[1;32mpandas\\_libs\\hashtable_class_helper.pxi\u001b[0m in \u001b[0;36mpandas._libs.hashtable.Int64HashTable.get_item\u001b[1;34m()\u001b[0m\n",
      "\u001b[1;31mKeyError\u001b[0m: 0"
     ]
    }
   ],
   "source": [
    "for i in range(len(predictions)):\n",
    "    print('predicted=%f, expected=%f' % (predictions[i], y_test[\"fare_amount\"][i]))"
   ]
  },
  {
   "cell_type": "code",
   "execution_count": 426,
   "metadata": {},
   "outputs": [],
   "source": [
    "from matplotlib import pyplot\n"
   ]
  },
  {
   "cell_type": "code",
   "execution_count": 432,
   "metadata": {},
   "outputs": [
    {
     "data": {
      "text/html": [
       "<div>\n",
       "<style scoped>\n",
       "    .dataframe tbody tr th:only-of-type {\n",
       "        vertical-align: middle;\n",
       "    }\n",
       "\n",
       "    .dataframe tbody tr th {\n",
       "        vertical-align: top;\n",
       "    }\n",
       "\n",
       "    .dataframe thead th {\n",
       "        text-align: right;\n",
       "    }\n",
       "</style>\n",
       "<table border=\"1\" class=\"dataframe\">\n",
       "  <thead>\n",
       "    <tr style=\"text-align: right;\">\n",
       "      <th></th>\n",
       "      <th>interval</th>\n",
       "      <th>fare_amount</th>\n",
       "    </tr>\n",
       "  </thead>\n",
       "  <tbody>\n",
       "    <tr>\n",
       "      <th>0</th>\n",
       "      <td>2013-12-07 16:00:00</td>\n",
       "      <td>6.5</td>\n",
       "    </tr>\n",
       "    <tr>\n",
       "      <th>1</th>\n",
       "      <td>2013-02-16 15:30:00</td>\n",
       "      <td>7.5</td>\n",
       "    </tr>\n",
       "    <tr>\n",
       "      <th>2</th>\n",
       "      <td>2009-01-17 15:15:00</td>\n",
       "      <td>4.1</td>\n",
       "    </tr>\n",
       "    <tr>\n",
       "      <th>3</th>\n",
       "      <td>2013-04-06 15:30:00</td>\n",
       "      <td>12.5</td>\n",
       "    </tr>\n",
       "    <tr>\n",
       "      <th>4</th>\n",
       "      <td>2014-11-01 20:45:00</td>\n",
       "      <td>6.0</td>\n",
       "    </tr>\n",
       "  </tbody>\n",
       "</table>\n",
       "</div>"
      ],
      "text/plain": [
       "             interval  fare_amount\n",
       "0 2013-12-07 16:00:00          6.5\n",
       "1 2013-02-16 15:30:00          7.5\n",
       "2 2009-01-17 15:15:00          4.1\n",
       "3 2013-04-06 15:30:00         12.5\n",
       "4 2014-11-01 20:45:00          6.0"
      ]
     },
     "execution_count": 432,
     "metadata": {},
     "output_type": "execute_result"
    }
   ],
   "source": [
    "y_test.reset_index().head()"
   ]
  },
  {
   "cell_type": "code",
   "execution_count": 433,
   "metadata": {},
   "outputs": [
    {
     "name": "stdout",
     "output_type": "stream",
     "text": [
      "Test MSE: 96.332\n"
     ]
    },
    {
     "data": {
      "image/png": "[encoded data removed]",
      "text/plain": [
       "<Figure size 432x288 with 1 Axes>"
      ]
     },
     "metadata": {
      "needs_background": "light"
     },
     "output_type": "display_data"
    }
   ],
   "source": [
    "error = mean_squared_error(y_test, predictions)\n",
    "print('Test MSE: %.3f' % error)\n",
    "# plot results\n",
    "pyplot.plot(y_test.reset_index()[\"fare_amount\"])\n",
    "pyplot.plot(predictions, color='red')\n",
    "pyplot.show()"
   ]
  },
  {
   "cell_type": "code",
   "execution_count": 274,
   "metadata": {},
   "outputs": [
    {
     "data": {
      "text/html": [
       "<div>\n",
       "<style scoped>\n",
       "    .dataframe tbody tr th:only-of-type {\n",
       "        vertical-align: middle;\n",
       "    }\n",
       "\n",
       "    .dataframe tbody tr th {\n",
       "        vertical-align: top;\n",
       "    }\n",
       "\n",
       "    .dataframe thead th {\n",
       "        text-align: right;\n",
       "    }\n",
       "</style>\n",
       "<table border=\"1\" class=\"dataframe\">\n",
       "  <thead>\n",
       "    <tr style=\"text-align: right;\">\n",
       "      <th></th>\n",
       "      <th>fare_amount</th>\n",
       "      <th>distance</th>\n",
       "      <th>pickup_longitude</th>\n",
       "      <th>pickup_latitude</th>\n",
       "      <th>dropoff_latitude</th>\n",
       "      <th>dropoff_latitude</th>\n",
       "    </tr>\n",
       "    <tr>\n",
       "      <th>interval</th>\n",
       "      <th></th>\n",
       "      <th></th>\n",
       "      <th></th>\n",
       "      <th></th>\n",
       "      <th></th>\n",
       "      <th></th>\n",
       "    </tr>\n",
       "  </thead>\n",
       "  <tbody>\n",
       "    <tr>\n",
       "      <th>2009-06-15 17:15:00</th>\n",
       "      <td>4.5</td>\n",
       "      <td>0.994348</td>\n",
       "      <td>-73.84</td>\n",
       "      <td>40.72</td>\n",
       "      <td>40.712278</td>\n",
       "      <td>40.712278</td>\n",
       "    </tr>\n",
       "    <tr>\n",
       "      <th>2009-08-03 23:00:00</th>\n",
       "      <td>4.5</td>\n",
       "      <td>1.333581</td>\n",
       "      <td>-73.99</td>\n",
       "      <td>40.76</td>\n",
       "      <td>40.768142</td>\n",
       "      <td>40.768142</td>\n",
       "    </tr>\n",
       "    <tr>\n",
       "      <th>2011-07-11 13:00:00</th>\n",
       "      <td>10.9</td>\n",
       "      <td>5.648338</td>\n",
       "      <td>-73.99</td>\n",
       "      <td>40.75</td>\n",
       "      <td>40.718000</td>\n",
       "      <td>40.718000</td>\n",
       "    </tr>\n",
       "    <tr>\n",
       "      <th>2012-12-17 22:45:00</th>\n",
       "      <td>29.0</td>\n",
       "      <td>11.774684</td>\n",
       "      <td>-73.98</td>\n",
       "      <td>40.77</td>\n",
       "      <td>40.677382</td>\n",
       "      <td>40.677382</td>\n",
       "    </tr>\n",
       "    <tr>\n",
       "      <th>2011-02-28 22:00:00</th>\n",
       "      <td>6.1</td>\n",
       "      <td>2.811899</td>\n",
       "      <td>-74.00</td>\n",
       "      <td>40.73</td>\n",
       "      <td>40.721325</td>\n",
       "      <td>40.721325</td>\n",
       "    </tr>\n",
       "  </tbody>\n",
       "</table>\n",
       "</div>"
      ],
      "text/plain": [
       "                     fare_amount   distance  pickup_longitude  \\\n",
       "interval                                                        \n",
       "2009-06-15 17:15:00          4.5   0.994348            -73.84   \n",
       "2009-08-03 23:00:00          4.5   1.333581            -73.99   \n",
       "2011-07-11 13:00:00         10.9   5.648338            -73.99   \n",
       "2012-12-17 22:45:00         29.0  11.774684            -73.98   \n",
       "2011-02-28 22:00:00          6.1   2.811899            -74.00   \n",
       "\n",
       "                     pickup_latitude  dropoff_latitude  dropoff_latitude  \n",
       "interval                                                                  \n",
       "2009-06-15 17:15:00            40.72         40.712278         40.712278  \n",
       "2009-08-03 23:00:00            40.76         40.768142         40.768142  \n",
       "2011-07-11 13:00:00            40.75         40.718000         40.718000  \n",
       "2012-12-17 22:45:00            40.77         40.677382         40.677382  \n",
       "2011-02-28 22:00:00            40.73         40.721325         40.721325  "
      ]
     },
     "execution_count": 274,
     "metadata": {},
     "output_type": "execute_result"
    }
   ],
   "source": [
    "var_train.head()"
   ]
  },
  {
   "cell_type": "code",
   "execution_count": 182,
   "metadata": {},
   "outputs": [
    {
     "ename": "KeyError",
     "evalue": "\"['interval'] not found in axis\"",
     "output_type": "error",
     "traceback": [
      "\u001b[1;31m---------------------------------------------------------------------------\u001b[0m",
      "\u001b[1;31mKeyError\u001b[0m                                  Traceback (most recent call last)",
      "\u001b[1;32m<ipython-input-182-4a5053b05f97>\u001b[0m in \u001b[0;36m<module>\u001b[1;34m()\u001b[0m\n\u001b[1;32m----> 1\u001b[1;33m \u001b[0mvar_train\u001b[0m \u001b[1;33m=\u001b[0m \u001b[0mtrain\u001b[0m\u001b[1;33m.\u001b[0m\u001b[0mdrop\u001b[0m\u001b[1;33m(\u001b[0m\u001b[1;33m[\u001b[0m\u001b[1;34m'interval'\u001b[0m\u001b[1;33m]\u001b[0m\u001b[1;33m,\u001b[0m \u001b[0maxis\u001b[0m\u001b[1;33m=\u001b[0m\u001b[1;36m1\u001b[0m\u001b[1;33m)\u001b[0m\u001b[1;33m\u001b[0m\u001b[0m\n\u001b[0m\u001b[0;32m      2\u001b[0m \u001b[0mvar_test\u001b[0m \u001b[1;33m=\u001b[0m \u001b[0mtest\u001b[0m\u001b[1;33m.\u001b[0m\u001b[0mdrop\u001b[0m\u001b[1;33m(\u001b[0m\u001b[1;33m[\u001b[0m\u001b[1;34m'interval'\u001b[0m\u001b[1;33m]\u001b[0m\u001b[1;33m,\u001b[0m \u001b[0maxis\u001b[0m\u001b[1;33m=\u001b[0m\u001b[1;36m1\u001b[0m\u001b[1;33m)\u001b[0m\u001b[1;33m\u001b[0m\u001b[0m\n",
      "\u001b[1;32m~\\Anaconda\\lib\\site-packages\\pandas\\core\\frame.py\u001b[0m in \u001b[0;36mdrop\u001b[1;34m(self, labels, axis, index, columns, level, inplace, errors)\u001b[0m\n\u001b[0;32m   3695\u001b[0m                                            \u001b[0mindex\u001b[0m\u001b[1;33m=\u001b[0m\u001b[0mindex\u001b[0m\u001b[1;33m,\u001b[0m \u001b[0mcolumns\u001b[0m\u001b[1;33m=\u001b[0m\u001b[0mcolumns\u001b[0m\u001b[1;33m,\u001b[0m\u001b[1;33m\u001b[0m\u001b[0m\n\u001b[0;32m   3696\u001b[0m                                            \u001b[0mlevel\u001b[0m\u001b[1;33m=\u001b[0m\u001b[0mlevel\u001b[0m\u001b[1;33m,\u001b[0m \u001b[0minplace\u001b[0m\u001b[1;33m=\u001b[0m\u001b[0minplace\u001b[0m\u001b[1;33m,\u001b[0m\u001b[1;33m\u001b[0m\u001b[0m\n\u001b[1;32m-> 3697\u001b[1;33m                                            errors=errors)\n\u001b[0m\u001b[0;32m   3698\u001b[0m \u001b[1;33m\u001b[0m\u001b[0m\n\u001b[0;32m   3699\u001b[0m     @rewrite_axis_style_signature('mapper', [('copy', True),\n",
      "\u001b[1;32m~\\Anaconda\\lib\\site-packages\\pandas\\core\\generic.py\u001b[0m in \u001b[0;36mdrop\u001b[1;34m(self, labels, axis, index, columns, level, inplace, errors)\u001b[0m\n\u001b[0;32m   3109\u001b[0m         \u001b[1;32mfor\u001b[0m \u001b[0maxis\u001b[0m\u001b[1;33m,\u001b[0m \u001b[0mlabels\u001b[0m \u001b[1;32min\u001b[0m \u001b[0maxes\u001b[0m\u001b[1;33m.\u001b[0m\u001b[0mitems\u001b[0m\u001b[1;33m(\u001b[0m\u001b[1;33m)\u001b[0m\u001b[1;33m:\u001b[0m\u001b[1;33m\u001b[0m\u001b[0m\n\u001b[0;32m   3110\u001b[0m             \u001b[1;32mif\u001b[0m \u001b[0mlabels\u001b[0m \u001b[1;32mis\u001b[0m \u001b[1;32mnot\u001b[0m \u001b[1;32mNone\u001b[0m\u001b[1;33m:\u001b[0m\u001b[1;33m\u001b[0m\u001b[0m\n\u001b[1;32m-> 3111\u001b[1;33m                 \u001b[0mobj\u001b[0m \u001b[1;33m=\u001b[0m \u001b[0mobj\u001b[0m\u001b[1;33m.\u001b[0m\u001b[0m_drop_axis\u001b[0m\u001b[1;33m(\u001b[0m\u001b[0mlabels\u001b[0m\u001b[1;33m,\u001b[0m \u001b[0maxis\u001b[0m\u001b[1;33m,\u001b[0m \u001b[0mlevel\u001b[0m\u001b[1;33m=\u001b[0m\u001b[0mlevel\u001b[0m\u001b[1;33m,\u001b[0m \u001b[0merrors\u001b[0m\u001b[1;33m=\u001b[0m\u001b[0merrors\u001b[0m\u001b[1;33m)\u001b[0m\u001b[1;33m\u001b[0m\u001b[0m\n\u001b[0m\u001b[0;32m   3112\u001b[0m \u001b[1;33m\u001b[0m\u001b[0m\n\u001b[0;32m   3113\u001b[0m         \u001b[1;32mif\u001b[0m \u001b[0minplace\u001b[0m\u001b[1;33m:\u001b[0m\u001b[1;33m\u001b[0m\u001b[0m\n",
      "\u001b[1;32m~\\Anaconda\\lib\\site-packages\\pandas\\core\\generic.py\u001b[0m in \u001b[0;36m_drop_axis\u001b[1;34m(self, labels, axis, level, errors)\u001b[0m\n\u001b[0;32m   3160\u001b[0m                 \u001b[0mlabels_missing\u001b[0m \u001b[1;33m=\u001b[0m \u001b[1;33m(\u001b[0m\u001b[0maxis\u001b[0m\u001b[1;33m.\u001b[0m\u001b[0mget_indexer_for\u001b[0m\u001b[1;33m(\u001b[0m\u001b[0mlabels\u001b[0m\u001b[1;33m)\u001b[0m \u001b[1;33m==\u001b[0m \u001b[1;33m-\u001b[0m\u001b[1;36m1\u001b[0m\u001b[1;33m)\u001b[0m\u001b[1;33m.\u001b[0m\u001b[0many\u001b[0m\u001b[1;33m(\u001b[0m\u001b[1;33m)\u001b[0m\u001b[1;33m\u001b[0m\u001b[0m\n\u001b[0;32m   3161\u001b[0m                 \u001b[1;32mif\u001b[0m \u001b[0merrors\u001b[0m \u001b[1;33m==\u001b[0m \u001b[1;34m'raise'\u001b[0m \u001b[1;32mand\u001b[0m \u001b[0mlabels_missing\u001b[0m\u001b[1;33m:\u001b[0m\u001b[1;33m\u001b[0m\u001b[0m\n\u001b[1;32m-> 3162\u001b[1;33m                     \u001b[1;32mraise\u001b[0m \u001b[0mKeyError\u001b[0m\u001b[1;33m(\u001b[0m\u001b[1;34m'{} not found in axis'\u001b[0m\u001b[1;33m.\u001b[0m\u001b[0mformat\u001b[0m\u001b[1;33m(\u001b[0m\u001b[0mlabels\u001b[0m\u001b[1;33m)\u001b[0m\u001b[1;33m)\u001b[0m\u001b[1;33m\u001b[0m\u001b[0m\n\u001b[0m\u001b[0;32m   3163\u001b[0m \u001b[1;33m\u001b[0m\u001b[0m\n\u001b[0;32m   3164\u001b[0m             \u001b[0mslicer\u001b[0m \u001b[1;33m=\u001b[0m \u001b[1;33m[\u001b[0m\u001b[0mslice\u001b[0m\u001b[1;33m(\u001b[0m\u001b[1;32mNone\u001b[0m\u001b[1;33m)\u001b[0m\u001b[1;33m]\u001b[0m \u001b[1;33m*\u001b[0m \u001b[0mself\u001b[0m\u001b[1;33m.\u001b[0m\u001b[0mndim\u001b[0m\u001b[1;33m\u001b[0m\u001b[0m\n",
      "\u001b[1;31mKeyError\u001b[0m: \"['interval'] not found in axis\""
     ]
    }
   ],
   "source": [
    "var_train = train.drop(['interval'], axis=1)\n",
    "var_test = test.drop(['interval'], axis=1)"
   ]
  },
  {
   "cell_type": "code",
   "execution_count": 240,
   "metadata": {},
   "outputs": [
    {
     "name": "stderr",
     "output_type": "stream",
     "text": [
      "C:\\Users\\user\\Anaconda\\lib\\site-packages\\statsmodels\\tsa\\base\\tsa_model.py:225: ValueWarning:\n",
      "\n",
      "A date index has been provided, but it has no associated frequency information and so will be ignored when e.g. forecasting.\n",
      "\n"
     ]
    }
   ],
   "source": [
    "model = VAR(endog=train)\n"
   ]
  },
  {
   "cell_type": "code",
   "execution_count": 241,
   "metadata": {},
   "outputs": [],
   "source": [
    "model_fit = model.fit()\n"
   ]
  },
  {
   "cell_type": "code",
   "execution_count": 242,
   "metadata": {},
   "outputs": [],
   "source": [
    "prediction = model_fit.forecast(model_fit.y, steps=len(y_test))"
   ]
  },
  {
   "cell_type": "code",
   "execution_count": 243,
   "metadata": {},
   "outputs": [
    {
     "data": {
      "text/plain": [
       "array([ 11.03744287,   4.40560039, -72.53593626,  39.91476329,\n",
       "        39.91509117,  39.91509117,  11.58228167,   3.12583687])"
      ]
     },
     "execution_count": 243,
     "metadata": {},
     "output_type": "execute_result"
    }
   ],
   "source": [
    "prediction[100]"
   ]
  },
  {
   "cell_type": "code",
   "execution_count": 244,
   "metadata": {},
   "outputs": [],
   "source": [
    "cols=train.columns.values"
   ]
  },
  {
   "cell_type": "code",
   "execution_count": 245,
   "metadata": {
    "scrolled": true
   },
   "outputs": [],
   "source": [
    "#converting predictions to dataframe\n",
    "pred = pd.DataFrame(index=range(0,len(prediction)),columns=[cols])\n",
    "for j in range(0,6):\n",
    "    for i in range(0, len(prediction)):\n",
    "       pred.iloc[i][j] = prediction[i][j]\n",
    "\n"
   ]
  },
  {
   "cell_type": "code",
   "execution_count": 246,
   "metadata": {},
   "outputs": [],
   "source": [
    "import math"
   ]
  },
  {
   "cell_type": "code",
   "execution_count": 247,
   "metadata": {},
   "outputs": [
    {
     "data": {
      "text/plain": [
       "fare_amount         False\n",
       "distance            False\n",
       "pickup_longitude    False\n",
       "pickup_latitude     False\n",
       "dropoff_latitude    False\n",
       "dropoff_latitude    False\n",
       "pickup_hour          True\n",
       "pickup_month         True\n",
       "dtype: bool"
      ]
     },
     "execution_count": 247,
     "metadata": {},
     "output_type": "execute_result"
    }
   ],
   "source": [
    "pred.isnull().any()"
   ]
  },
  {
   "cell_type": "code",
   "execution_count": 248,
   "metadata": {},
   "outputs": [
    {
     "data": {
      "text/plain": [
       "<matplotlib.axes._subplots.AxesSubplot at 0x46f398d0>"
      ]
     },
     "execution_count": 248,
     "metadata": {},
     "output_type": "execute_result"
    },
    {
     "data": {
      "image/png": "[encoded data removed]",
      "text/plain": [
       "<Figure size 432x288 with 1 Axes>"
      ]
     },
     "metadata": {
      "needs_background": "light"
     },
     "output_type": "display_data"
    }
   ],
   "source": [
    "pred['fare_amount'].plot()"
   ]
  },
  {
   "cell_type": "code",
   "execution_count": 251,
   "metadata": {},
   "outputs": [
    {
     "name": "stdout",
     "output_type": "stream",
     "text": [
      "rmse value for pickup_hour is :  5.09378492011544\n"
     ]
    }
   ],
   "source": [
    "print('rmse value for', i, 'is : ', math.sqrt(mean_squared_error(pred['fare_amount'], test['fare_amount'])))"
   ]
  },
  {
   "cell_type": "code",
   "execution_count": 250,
   "metadata": {},
   "outputs": [
    {
     "name": "stdout",
     "output_type": "stream",
     "text": [
      "rmse value for fare_amount is :  5.09378492011544\n",
      "rmse value for distance is :  2.1863567815229965\n",
      "rmse value for pickup_longitude is :  3.3300755692223434\n",
      "rmse value for pickup_latitude is :  1.835902496898132\n",
      "rmse value for dropoff_latitude is :  1.8358778770276316\n",
      "rmse value for dropoff_latitude is :  1.8358778770276316\n"
     ]
    },
    {
     "ename": "ValueError",
     "evalue": "Input contains NaN, infinity or a value too large for dtype('float64').",
     "output_type": "error",
     "traceback": [
      "\u001b[1;31m---------------------------------------------------------------------------\u001b[0m",
      "\u001b[1;31mValueError\u001b[0m                                Traceback (most recent call last)",
      "\u001b[1;32m<ipython-input-250-93ac1cf1669e>\u001b[0m in \u001b[0;36m<module>\u001b[1;34m()\u001b[0m\n\u001b[0;32m      1\u001b[0m \u001b[1;31m#check rmse\u001b[0m\u001b[1;33m\u001b[0m\u001b[1;33m\u001b[0m\u001b[0m\n\u001b[0;32m      2\u001b[0m \u001b[1;32mfor\u001b[0m \u001b[0mi\u001b[0m \u001b[1;32min\u001b[0m \u001b[0mcols\u001b[0m\u001b[1;33m:\u001b[0m\u001b[1;33m\u001b[0m\u001b[0m\n\u001b[1;32m----> 3\u001b[1;33m     \u001b[0mprint\u001b[0m\u001b[1;33m(\u001b[0m\u001b[1;34m'rmse value for'\u001b[0m\u001b[1;33m,\u001b[0m \u001b[0mi\u001b[0m\u001b[1;33m,\u001b[0m \u001b[1;34m'is : '\u001b[0m\u001b[1;33m,\u001b[0m \u001b[0mmath\u001b[0m\u001b[1;33m.\u001b[0m\u001b[0msqrt\u001b[0m\u001b[1;33m(\u001b[0m\u001b[0mmean_squared_error\u001b[0m\u001b[1;33m(\u001b[0m\u001b[0mpred\u001b[0m\u001b[1;33m[\u001b[0m\u001b[0mi\u001b[0m\u001b[1;33m]\u001b[0m\u001b[1;33m,\u001b[0m \u001b[0mtest\u001b[0m\u001b[1;33m[\u001b[0m\u001b[0mi\u001b[0m\u001b[1;33m]\u001b[0m\u001b[1;33m)\u001b[0m\u001b[1;33m)\u001b[0m\u001b[1;33m)\u001b[0m\u001b[1;33m\u001b[0m\u001b[0m\n\u001b[0m",
      "\u001b[1;32m~\\Anaconda\\lib\\site-packages\\sklearn\\metrics\\regression.py\u001b[0m in \u001b[0;36mmean_squared_error\u001b[1;34m(y_true, y_pred, sample_weight, multioutput)\u001b[0m\n\u001b[0;32m    236\u001b[0m     \"\"\"\n\u001b[0;32m    237\u001b[0m     y_type, y_true, y_pred, multioutput = _check_reg_targets(\n\u001b[1;32m--> 238\u001b[1;33m         y_true, y_pred, multioutput)\n\u001b[0m\u001b[0;32m    239\u001b[0m     output_errors = np.average((y_true - y_pred) ** 2, axis=0,\n\u001b[0;32m    240\u001b[0m                                weights=sample_weight)\n",
      "\u001b[1;32m~\\Anaconda\\lib\\site-packages\\sklearn\\metrics\\regression.py\u001b[0m in \u001b[0;36m_check_reg_targets\u001b[1;34m(y_true, y_pred, multioutput)\u001b[0m\n\u001b[0;32m     74\u001b[0m     \"\"\"\n\u001b[0;32m     75\u001b[0m     \u001b[0mcheck_consistent_length\u001b[0m\u001b[1;33m(\u001b[0m\u001b[0my_true\u001b[0m\u001b[1;33m,\u001b[0m \u001b[0my_pred\u001b[0m\u001b[1;33m)\u001b[0m\u001b[1;33m\u001b[0m\u001b[0m\n\u001b[1;32m---> 76\u001b[1;33m     \u001b[0my_true\u001b[0m \u001b[1;33m=\u001b[0m \u001b[0mcheck_array\u001b[0m\u001b[1;33m(\u001b[0m\u001b[0my_true\u001b[0m\u001b[1;33m,\u001b[0m \u001b[0mensure_2d\u001b[0m\u001b[1;33m=\u001b[0m\u001b[1;32mFalse\u001b[0m\u001b[1;33m)\u001b[0m\u001b[1;33m\u001b[0m\u001b[0m\n\u001b[0m\u001b[0;32m     77\u001b[0m     \u001b[0my_pred\u001b[0m \u001b[1;33m=\u001b[0m \u001b[0mcheck_array\u001b[0m\u001b[1;33m(\u001b[0m\u001b[0my_pred\u001b[0m\u001b[1;33m,\u001b[0m \u001b[0mensure_2d\u001b[0m\u001b[1;33m=\u001b[0m\u001b[1;32mFalse\u001b[0m\u001b[1;33m)\u001b[0m\u001b[1;33m\u001b[0m\u001b[0m\n\u001b[0;32m     78\u001b[0m \u001b[1;33m\u001b[0m\u001b[0m\n",
      "\u001b[1;32m~\\Anaconda\\lib\\site-packages\\sklearn\\utils\\validation.py\u001b[0m in \u001b[0;36mcheck_array\u001b[1;34m(array, accept_sparse, dtype, order, copy, force_all_finite, ensure_2d, allow_nd, ensure_min_samples, ensure_min_features, warn_on_dtype, estimator)\u001b[0m\n\u001b[0;32m    451\u001b[0m                              % (array.ndim, estimator_name))\n\u001b[0;32m    452\u001b[0m         \u001b[1;32mif\u001b[0m \u001b[0mforce_all_finite\u001b[0m\u001b[1;33m:\u001b[0m\u001b[1;33m\u001b[0m\u001b[0m\n\u001b[1;32m--> 453\u001b[1;33m             \u001b[0m_assert_all_finite\u001b[0m\u001b[1;33m(\u001b[0m\u001b[0marray\u001b[0m\u001b[1;33m)\u001b[0m\u001b[1;33m\u001b[0m\u001b[0m\n\u001b[0m\u001b[0;32m    454\u001b[0m \u001b[1;33m\u001b[0m\u001b[0m\n\u001b[0;32m    455\u001b[0m     \u001b[0mshape_repr\u001b[0m \u001b[1;33m=\u001b[0m \u001b[0m_shape_repr\u001b[0m\u001b[1;33m(\u001b[0m\u001b[0marray\u001b[0m\u001b[1;33m.\u001b[0m\u001b[0mshape\u001b[0m\u001b[1;33m)\u001b[0m\u001b[1;33m\u001b[0m\u001b[0m\n",
      "\u001b[1;32m~\\Anaconda\\lib\\site-packages\\sklearn\\utils\\validation.py\u001b[0m in \u001b[0;36m_assert_all_finite\u001b[1;34m(X)\u001b[0m\n\u001b[0;32m     42\u001b[0m             and not np.isfinite(X).all()):\n\u001b[0;32m     43\u001b[0m         raise ValueError(\"Input contains NaN, infinity\"\n\u001b[1;32m---> 44\u001b[1;33m                          \" or a value too large for %r.\" % X.dtype)\n\u001b[0m\u001b[0;32m     45\u001b[0m \u001b[1;33m\u001b[0m\u001b[0m\n\u001b[0;32m     46\u001b[0m \u001b[1;33m\u001b[0m\u001b[0m\n",
      "\u001b[1;31mValueError\u001b[0m: Input contains NaN, infinity or a value too large for dtype('float64')."
     ]
    }
   ],
   "source": [
    "#check rmse\n",
    "for i in cols:\n",
    "    print('rmse value for', i, 'is : ', math.sqrt(mean_squared_error(pred[i], test[i])))"
   ]
  },
  {
   "cell_type": "code",
   "execution_count": null,
   "metadata": {},
   "outputs": [],
   "source": [
    "#converting predictions to dataframe\n",
    "pred = pd.DataFrame(index=range(0,len(prediction)),columns=[cols])\n",
    "for j in range(0,13):\n",
    "    for i in range(0, len(prediction)):\n",
    "       pred.iloc[i][j] = prediction[i][j]\n",
    "\n",
    "#check rmse\n",
    "for i in cols:\n",
    "    print('rmse value for', i, 'is : ', sqrt(mean_squared_error(pred[i], valid[i])))"
   ]
  },
  {
   "cell_type": "code",
   "execution_count": 315,
   "metadata": {},
   "outputs": [],
   "source": [
    " pred.index = y_hat_avg.index"
   ]
  },
  {
   "cell_type": "code",
   "execution_count": 316,
   "metadata": {},
   "outputs": [],
   "source": [
    "y_hat_avg[\"t_fare_amount\"] = pred[\"fare_amount\"]"
   ]
  },
  {
   "cell_type": "code",
   "execution_count": 317,
   "metadata": {},
   "outputs": [
    {
     "data": {
      "text/html": [
       "<div>\n",
       "<style scoped>\n",
       "    .dataframe tbody tr th:only-of-type {\n",
       "        vertical-align: middle;\n",
       "    }\n",
       "\n",
       "    .dataframe tbody tr th {\n",
       "        vertical-align: top;\n",
       "    }\n",
       "\n",
       "    .dataframe thead th {\n",
       "        text-align: right;\n",
       "    }\n",
       "</style>\n",
       "<table border=\"1\" class=\"dataframe\">\n",
       "  <thead>\n",
       "    <tr style=\"text-align: right;\">\n",
       "      <th></th>\n",
       "      <th>fare_amount</th>\n",
       "      <th>distance</th>\n",
       "      <th>pickup_longitude</th>\n",
       "      <th>pickup_latitude</th>\n",
       "      <th>dropoff_latitude</th>\n",
       "      <th>dropoff_latitude</th>\n",
       "      <th>pickup_hour</th>\n",
       "      <th>pickup_month</th>\n",
       "      <th>t_fare_amount</th>\n",
       "    </tr>\n",
       "    <tr>\n",
       "      <th>interval</th>\n",
       "      <th></th>\n",
       "      <th></th>\n",
       "      <th></th>\n",
       "      <th></th>\n",
       "      <th></th>\n",
       "      <th></th>\n",
       "      <th></th>\n",
       "      <th></th>\n",
       "      <th></th>\n",
       "    </tr>\n",
       "  </thead>\n",
       "  <tbody>\n",
       "    <tr>\n",
       "      <th>2014-03-13 05:17:00</th>\n",
       "      <td>8.400000</td>\n",
       "      <td>3.788830</td>\n",
       "      <td>-73.990000</td>\n",
       "      <td>40.744000</td>\n",
       "      <td>40.754681</td>\n",
       "      <td>40.754681</td>\n",
       "      <td>5.600000</td>\n",
       "      <td>3.0</td>\n",
       "      <td>12.2906</td>\n",
       "    </tr>\n",
       "    <tr>\n",
       "      <th>2014-03-13 06:17:00</th>\n",
       "      <td>20.177333</td>\n",
       "      <td>7.464251</td>\n",
       "      <td>-73.962667</td>\n",
       "      <td>40.746667</td>\n",
       "      <td>40.725717</td>\n",
       "      <td>40.725717</td>\n",
       "      <td>6.333333</td>\n",
       "      <td>3.0</td>\n",
       "      <td>11.6671</td>\n",
       "    </tr>\n",
       "    <tr>\n",
       "      <th>2014-03-13 07:17:00</th>\n",
       "      <td>13.171935</td>\n",
       "      <td>4.220028</td>\n",
       "      <td>-73.982258</td>\n",
       "      <td>40.752903</td>\n",
       "      <td>40.756682</td>\n",
       "      <td>40.756682</td>\n",
       "      <td>7.516129</td>\n",
       "      <td>3.0</td>\n",
       "      <td>11.4408</td>\n",
       "    </tr>\n",
       "    <tr>\n",
       "      <th>2014-03-13 08:17:00</th>\n",
       "      <td>11.719787</td>\n",
       "      <td>3.798852</td>\n",
       "      <td>-73.972553</td>\n",
       "      <td>40.750638</td>\n",
       "      <td>40.756855</td>\n",
       "      <td>40.756855</td>\n",
       "      <td>8.531915</td>\n",
       "      <td>3.0</td>\n",
       "      <td>11.3467</td>\n",
       "    </tr>\n",
       "    <tr>\n",
       "      <th>2014-03-13 09:17:00</th>\n",
       "      <td>10.413043</td>\n",
       "      <td>3.039036</td>\n",
       "      <td>-73.983913</td>\n",
       "      <td>40.753043</td>\n",
       "      <td>40.758640</td>\n",
       "      <td>40.758640</td>\n",
       "      <td>9.391304</td>\n",
       "      <td>3.0</td>\n",
       "      <td>11.2927</td>\n",
       "    </tr>\n",
       "  </tbody>\n",
       "</table>\n",
       "</div>"
      ],
      "text/plain": [
       "                     fare_amount  distance  pickup_longitude  pickup_latitude  \\\n",
       "interval                                                                        \n",
       "2014-03-13 05:17:00     8.400000  3.788830        -73.990000        40.744000   \n",
       "2014-03-13 06:17:00    20.177333  7.464251        -73.962667        40.746667   \n",
       "2014-03-13 07:17:00    13.171935  4.220028        -73.982258        40.752903   \n",
       "2014-03-13 08:17:00    11.719787  3.798852        -73.972553        40.750638   \n",
       "2014-03-13 09:17:00    10.413043  3.039036        -73.983913        40.753043   \n",
       "\n",
       "                     dropoff_latitude  dropoff_latitude  pickup_hour  \\\n",
       "interval                                                               \n",
       "2014-03-13 05:17:00         40.754681         40.754681     5.600000   \n",
       "2014-03-13 06:17:00         40.725717         40.725717     6.333333   \n",
       "2014-03-13 07:17:00         40.756682         40.756682     7.516129   \n",
       "2014-03-13 08:17:00         40.756855         40.756855     8.531915   \n",
       "2014-03-13 09:17:00         40.758640         40.758640     9.391304   \n",
       "\n",
       "                     pickup_month t_fare_amount  \n",
       "interval                                         \n",
       "2014-03-13 05:17:00           3.0       12.2906  \n",
       "2014-03-13 06:17:00           3.0       11.6671  \n",
       "2014-03-13 07:17:00           3.0       11.4408  \n",
       "2014-03-13 08:17:00           3.0       11.3467  \n",
       "2014-03-13 09:17:00           3.0       11.2927  "
      ]
     },
     "execution_count": 317,
     "metadata": {},
     "output_type": "execute_result"
    }
   ],
   "source": [
    "y_hat_avg.head()"
   ]
  },
  {
   "cell_type": "code",
   "execution_count": 307,
   "metadata": {},
   "outputs": [],
   "source": [
    "y_hat_avg = test.copy()\n"
   ]
  },
  {
   "cell_type": "code",
   "execution_count": 310,
   "metadata": {},
   "outputs": [
    {
     "data": {
      "text/html": [
       "<div>\n",
       "<style scoped>\n",
       "    .dataframe tbody tr th:only-of-type {\n",
       "        vertical-align: middle;\n",
       "    }\n",
       "\n",
       "    .dataframe tbody tr th {\n",
       "        vertical-align: top;\n",
       "    }\n",
       "\n",
       "    .dataframe thead th {\n",
       "        text-align: right;\n",
       "    }\n",
       "</style>\n",
       "<table border=\"1\" class=\"dataframe\">\n",
       "  <thead>\n",
       "    <tr style=\"text-align: right;\">\n",
       "      <th></th>\n",
       "      <th>fare_amount</th>\n",
       "      <th>distance</th>\n",
       "      <th>pickup_longitude</th>\n",
       "      <th>pickup_latitude</th>\n",
       "      <th>dropoff_latitude</th>\n",
       "      <th>dropoff_latitude</th>\n",
       "      <th>pickup_hour</th>\n",
       "      <th>pickup_month</th>\n",
       "    </tr>\n",
       "    <tr>\n",
       "      <th>interval</th>\n",
       "      <th></th>\n",
       "      <th></th>\n",
       "      <th></th>\n",
       "      <th></th>\n",
       "      <th></th>\n",
       "      <th></th>\n",
       "      <th></th>\n",
       "      <th></th>\n",
       "    </tr>\n",
       "  </thead>\n",
       "  <tbody>\n",
       "    <tr>\n",
       "      <th>2014-03-13 05:17:00</th>\n",
       "      <td>8.400000</td>\n",
       "      <td>3.788830</td>\n",
       "      <td>-73.990000</td>\n",
       "      <td>40.744000</td>\n",
       "      <td>40.754681</td>\n",
       "      <td>40.754681</td>\n",
       "      <td>5.600000</td>\n",
       "      <td>3.0</td>\n",
       "    </tr>\n",
       "    <tr>\n",
       "      <th>2014-03-13 06:17:00</th>\n",
       "      <td>20.177333</td>\n",
       "      <td>7.464251</td>\n",
       "      <td>-73.962667</td>\n",
       "      <td>40.746667</td>\n",
       "      <td>40.725717</td>\n",
       "      <td>40.725717</td>\n",
       "      <td>6.333333</td>\n",
       "      <td>3.0</td>\n",
       "    </tr>\n",
       "    <tr>\n",
       "      <th>2014-03-13 07:17:00</th>\n",
       "      <td>13.171935</td>\n",
       "      <td>4.220028</td>\n",
       "      <td>-73.982258</td>\n",
       "      <td>40.752903</td>\n",
       "      <td>40.756682</td>\n",
       "      <td>40.756682</td>\n",
       "      <td>7.516129</td>\n",
       "      <td>3.0</td>\n",
       "    </tr>\n",
       "    <tr>\n",
       "      <th>2014-03-13 08:17:00</th>\n",
       "      <td>11.719787</td>\n",
       "      <td>3.798852</td>\n",
       "      <td>-73.972553</td>\n",
       "      <td>40.750638</td>\n",
       "      <td>40.756855</td>\n",
       "      <td>40.756855</td>\n",
       "      <td>8.531915</td>\n",
       "      <td>3.0</td>\n",
       "    </tr>\n",
       "    <tr>\n",
       "      <th>2014-03-13 09:17:00</th>\n",
       "      <td>10.413043</td>\n",
       "      <td>3.039036</td>\n",
       "      <td>-73.983913</td>\n",
       "      <td>40.753043</td>\n",
       "      <td>40.758640</td>\n",
       "      <td>40.758640</td>\n",
       "      <td>9.391304</td>\n",
       "      <td>3.0</td>\n",
       "    </tr>\n",
       "  </tbody>\n",
       "</table>\n",
       "</div>"
      ],
      "text/plain": [
       "                     fare_amount  distance  pickup_longitude  pickup_latitude  \\\n",
       "interval                                                                        \n",
       "2014-03-13 05:17:00     8.400000  3.788830        -73.990000        40.744000   \n",
       "2014-03-13 06:17:00    20.177333  7.464251        -73.962667        40.746667   \n",
       "2014-03-13 07:17:00    13.171935  4.220028        -73.982258        40.752903   \n",
       "2014-03-13 08:17:00    11.719787  3.798852        -73.972553        40.750638   \n",
       "2014-03-13 09:17:00    10.413043  3.039036        -73.983913        40.753043   \n",
       "\n",
       "                     dropoff_latitude  dropoff_latitude  pickup_hour  \\\n",
       "interval                                                               \n",
       "2014-03-13 05:17:00         40.754681         40.754681     5.600000   \n",
       "2014-03-13 06:17:00         40.725717         40.725717     6.333333   \n",
       "2014-03-13 07:17:00         40.756682         40.756682     7.516129   \n",
       "2014-03-13 08:17:00         40.756855         40.756855     8.531915   \n",
       "2014-03-13 09:17:00         40.758640         40.758640     9.391304   \n",
       "\n",
       "                     pickup_month  \n",
       "interval                           \n",
       "2014-03-13 05:17:00           3.0  \n",
       "2014-03-13 06:17:00           3.0  \n",
       "2014-03-13 07:17:00           3.0  \n",
       "2014-03-13 08:17:00           3.0  \n",
       "2014-03-13 09:17:00           3.0  "
      ]
     },
     "execution_count": 310,
     "metadata": {},
     "output_type": "execute_result"
    }
   ],
   "source": [
    "y_hat_avg.head()"
   ]
  },
  {
   "cell_type": "code",
   "execution_count": 319,
   "metadata": {},
   "outputs": [
    {
     "data": {
      "text/plain": [
       "<matplotlib.legend.Legend at 0x1417ed68>"
      ]
     },
     "execution_count": 319,
     "metadata": {},
     "output_type": "execute_result"
    },
    {
     "data": {
      "image/png": "[encoded data removed]",
      "text/plain": [
       "<Figure size 864x576 with 1 Axes>"
      ]
     },
     "metadata": {
      "needs_background": "light"
     },
     "output_type": "display_data"
    }
   ],
   "source": [
    "plt.figure(figsize=(12,8))\n",
    "plt.plot(train['fare_amount'], label='Train')\n",
    "plt.plot(test['fare_amount'], label='Test')\n",
    "plt.plot(y_hat_avg['t_fare_amount'], label='Average Forecast')\n",
    "\n",
    "plt.legend(loc='best')"
   ]
  },
  {
   "cell_type": "code",
   "execution_count": null,
   "metadata": {},
   "outputs": [],
   "source": [
    "y_hat_avg"
   ]
  },
  {
   "cell_type": "code",
   "execution_count": 253,
   "metadata": {},
   "outputs": [],
   "source": [
    "y_hat_avg = test.copy()\n",
    "y_hat_avg['t_fare_amount'] = train['fare_amount'].mean()"
   ]
  },
  {
   "cell_type": "code",
   "execution_count": 254,
   "metadata": {},
   "outputs": [
    {
     "data": {
      "text/plain": [
       "<matplotlib.legend.Legend at 0xd85c898>"
      ]
     },
     "execution_count": 254,
     "metadata": {},
     "output_type": "execute_result"
    },
    {
     "data": {
      "image/png": "[encoded data removed]",
      "text/plain": [
       "<Figure size 864x576 with 1 Axes>"
      ]
     },
     "metadata": {
      "needs_background": "light"
     },
     "output_type": "display_data"
    }
   ],
   "source": [
    "plt.figure(figsize=(12,8))\n",
    "plt.plot(train['fare_amount'], label='Train')\n",
    "plt.plot(test['fare_amount'], label='Test')\n",
    "plt.plot(y_hat_avg['t_fare_amount'], label='Average Forecast')\n",
    "plt.legend(loc='best')"
   ]
  },
  {
   "cell_type": "code",
   "execution_count": 422,
   "metadata": {},
   "outputs": [],
   "source": [
    "df1 = df.copy()"
   ]
  },
  {
   "cell_type": "code",
   "execution_count": 423,
   "metadata": {},
   "outputs": [],
   "source": [
    "df1['moving_avg_forecast'] = df['fare_amount'].rolling(60).mean()"
   ]
  },
  {
   "cell_type": "code",
   "execution_count": 439,
   "metadata": {},
   "outputs": [],
   "source": [
    "y_hat_avg = test.copy()"
   ]
  },
  {
   "cell_type": "code",
   "execution_count": 433,
   "metadata": {},
   "outputs": [],
   "source": [
    "train_size = int(len(df1) * 0.80)\n",
    "train, test = df1[0:train_size], df1[train_size:len(df)]"
   ]
  },
  {
   "cell_type": "code",
   "execution_count": 436,
   "metadata": {},
   "outputs": [
    {
     "data": {
      "text/html": [
       "<div>\n",
       "<style scoped>\n",
       "    .dataframe tbody tr th:only-of-type {\n",
       "        vertical-align: middle;\n",
       "    }\n",
       "\n",
       "    .dataframe tbody tr th {\n",
       "        vertical-align: top;\n",
       "    }\n",
       "\n",
       "    .dataframe thead th {\n",
       "        text-align: right;\n",
       "    }\n",
       "</style>\n",
       "<table border=\"1\" class=\"dataframe\">\n",
       "  <thead>\n",
       "    <tr style=\"text-align: right;\">\n",
       "      <th></th>\n",
       "      <th>fare_amount</th>\n",
       "      <th>id</th>\n",
       "      <th>moving_avg_forecast</th>\n",
       "    </tr>\n",
       "    <tr>\n",
       "      <th>interval</th>\n",
       "      <th></th>\n",
       "      <th></th>\n",
       "      <th></th>\n",
       "    </tr>\n",
       "  </thead>\n",
       "  <tbody>\n",
       "    <tr>\n",
       "      <th>2014-03-13 14:17:00</th>\n",
       "      <td>10.741500</td>\n",
       "      <td>45544</td>\n",
       "      <td>NaN</td>\n",
       "    </tr>\n",
       "    <tr>\n",
       "      <th>2014-03-13 15:17:00</th>\n",
       "      <td>12.135000</td>\n",
       "      <td>45545</td>\n",
       "      <td>NaN</td>\n",
       "    </tr>\n",
       "    <tr>\n",
       "      <th>2014-03-13 16:17:00</th>\n",
       "      <td>14.221905</td>\n",
       "      <td>45546</td>\n",
       "      <td>NaN</td>\n",
       "    </tr>\n",
       "    <tr>\n",
       "      <th>2014-03-13 17:17:00</th>\n",
       "      <td>10.644783</td>\n",
       "      <td>45547</td>\n",
       "      <td>NaN</td>\n",
       "    </tr>\n",
       "    <tr>\n",
       "      <th>2014-03-13 18:17:00</th>\n",
       "      <td>13.266571</td>\n",
       "      <td>45548</td>\n",
       "      <td>NaN</td>\n",
       "    </tr>\n",
       "  </tbody>\n",
       "</table>\n",
       "</div>"
      ],
      "text/plain": [
       "                     fare_amount     id  moving_avg_forecast\n",
       "interval                                                    \n",
       "2014-03-13 14:17:00    10.741500  45544                  NaN\n",
       "2014-03-13 15:17:00    12.135000  45545                  NaN\n",
       "2014-03-13 16:17:00    14.221905  45546                  NaN\n",
       "2014-03-13 17:17:00    10.644783  45547                  NaN\n",
       "2014-03-13 18:17:00    13.266571  45548                  NaN"
      ]
     },
     "execution_count": 436,
     "metadata": {},
     "output_type": "execute_result"
    }
   ],
   "source": [
    "test.head()"
   ]
  },
  {
   "cell_type": "code",
   "execution_count": 440,
   "metadata": {},
   "outputs": [
    {
     "data": {
      "text/plain": [
       "<matplotlib.legend.Legend at 0xa1a27358>"
      ]
     },
     "execution_count": 440,
     "metadata": {},
     "output_type": "execute_result"
    },
    {
     "data": {
      "image/png": "[encoded data removed]",
      "text/plain": [
       "<Figure size 1152x576 with 1 Axes>"
      ]
     },
     "metadata": {
      "needs_background": "light"
     },
     "output_type": "display_data"
    }
   ],
   "source": [
    "plt.figure(figsize=(16,8))\n",
    "plt.plot(train['fare_amount'], label='Train')\n",
    "plt.plot(test['fare_amount'], label='Test')\n",
    "plt.plot(y_hat_avg['moving_avg_forecast'], label='Moving Average Forecast')\n",
    "plt.legend(loc='best')"
   ]
  },
  {
   "cell_type": "code",
   "execution_count": 381,
   "metadata": {},
   "outputs": [],
   "source": [
    "from statsmodels.tsa.api import ExponentialSmoothing, SimpleExpSmoothing, Holt"
   ]
  },
  {
   "cell_type": "code",
   "execution_count": 378,
   "metadata": {},
   "outputs": [
    {
     "data": {
      "text/plain": [
       "0"
      ]
     },
     "execution_count": 378,
     "metadata": {},
     "output_type": "execute_result"
    }
   ],
   "source": [
    "train['fare_amount'].isnull().sum()"
   ]
  },
  {
   "cell_type": "code",
   "execution_count": 382,
   "metadata": {},
   "outputs": [
    {
     "data": {
      "text/plain": [
       "interval\n",
       "2008-12-31 23:17:00    11\n",
       "2009-01-01 00:17:00     9\n",
       "2009-01-01 01:17:00     8\n",
       "2009-01-01 02:17:00    12\n",
       "2009-01-01 03:17:00     8\n",
       "2009-01-01 04:17:00     8\n",
       "2009-01-01 05:17:00     8\n",
       "2009-01-01 07:17:00    18\n",
       "2009-01-01 08:17:00     5\n",
       "2009-01-01 09:17:00    16\n",
       "2009-01-01 10:17:00     9\n",
       "2009-01-01 11:17:00    11\n",
       "2009-01-01 12:17:00    10\n",
       "2009-01-01 13:17:00    10\n",
       "2009-01-01 14:17:00     7\n",
       "2009-01-01 15:17:00     7\n",
       "2009-01-01 16:17:00     7\n",
       "2009-01-01 17:17:00    13\n",
       "2009-01-01 18:17:00    11\n",
       "2009-01-01 19:17:00    11\n",
       "2009-01-01 20:17:00     6\n",
       "2009-01-01 21:17:00     8\n",
       "2009-01-01 22:17:00     8\n",
       "2009-01-01 23:17:00    12\n",
       "2009-01-02 00:17:00     7\n",
       "2009-01-02 01:17:00    12\n",
       "2009-01-02 02:17:00    11\n",
       "2009-01-02 04:17:00    10\n",
       "2009-01-02 05:17:00    18\n",
       "2009-01-02 06:17:00     5\n",
       "                       ..\n",
       "2015-06-29 18:17:00    15\n",
       "2015-06-29 19:17:00     9\n",
       "2015-06-29 20:17:00    10\n",
       "2015-06-29 21:17:00     9\n",
       "2015-06-29 22:17:00     9\n",
       "2015-06-29 23:17:00    11\n",
       "2015-06-30 00:17:00     6\n",
       "2015-06-30 01:17:00    12\n",
       "2015-06-30 02:17:00     4\n",
       "2015-06-30 03:17:00    13\n",
       "2015-06-30 04:17:00    21\n",
       "2015-06-30 05:17:00    11\n",
       "2015-06-30 06:17:00     9\n",
       "2015-06-30 07:17:00    10\n",
       "2015-06-30 08:17:00    17\n",
       "2015-06-30 09:17:00    12\n",
       "2015-06-30 10:17:00    10\n",
       "2015-06-30 11:17:00    16\n",
       "2015-06-30 12:17:00    12\n",
       "2015-06-30 13:17:00    11\n",
       "2015-06-30 14:17:00    11\n",
       "2015-06-30 15:17:00    12\n",
       "2015-06-30 16:17:00    14\n",
       "2015-06-30 17:17:00    15\n",
       "2015-06-30 18:17:00    11\n",
       "2015-06-30 19:17:00     9\n",
       "2015-06-30 20:17:00    12\n",
       "2015-06-30 21:17:00    16\n",
       "2015-06-30 22:17:00    14\n",
       "2015-06-30 23:17:00    12\n",
       "Name: fare_amount, Length: 48696, dtype: int64"
      ]
     },
     "execution_count": 382,
     "metadata": {},
     "output_type": "execute_result"
    }
   ],
   "source": [
    "train['fare_amount'].fillna(train['fare_amount'].mean())"
   ]
  },
  {
   "cell_type": "code",
   "execution_count": 383,
   "metadata": {},
   "outputs": [
    {
     "name": "stderr",
     "output_type": "stream",
     "text": [
      "C:\\Users\\user\\Anaconda\\lib\\site-packages\\statsmodels\\tsa\\base\\tsa_model.py:225: ValueWarning:\n",
      "\n",
      "A date index has been provided, but it has no associated frequency information and so will be ignored when e.g. forecasting.\n",
      "\n"
     ]
    }
   ],
   "source": [
    "# create class\n",
    "model = SimpleExpSmoothing(train['fare_amount'])"
   ]
  },
  {
   "cell_type": "code",
   "execution_count": 384,
   "metadata": {},
   "outputs": [],
   "source": [
    "# fit model\n",
    "model_fit = model.fit(smoothing_level=0.6,optimized=False)"
   ]
  },
  {
   "cell_type": "code",
   "execution_count": 385,
   "metadata": {},
   "outputs": [],
   "source": [
    "y_hat_avg = test.copy()"
   ]
  },
  {
   "cell_type": "code",
   "execution_count": 386,
   "metadata": {},
   "outputs": [
    {
     "name": "stderr",
     "output_type": "stream",
     "text": [
      "C:\\Users\\user\\Anaconda\\lib\\site-packages\\statsmodels\\tsa\\base\\tsa_model.py:531: ValueWarning:\n",
      "\n",
      "No supported index is available. Prediction results will be given with an integer index beginning at `start`.\n",
      "\n"
     ]
    },
    {
     "data": {
      "text/plain": [
       "48696     12.820929\n",
       "48697     12.820929\n",
       "48698     12.820929\n",
       "48699     12.820929\n",
       "48700     12.820929\n",
       "48701     12.820929\n",
       "48702     12.820929\n",
       "48703     12.820929\n",
       "48704     12.820929\n",
       "48705     12.820929\n",
       "48706     12.820929\n",
       "48707     12.820929\n",
       "48708     12.820929\n",
       "48709     12.820929\n",
       "48710     12.820929\n",
       "48711     12.820929\n",
       "48712     12.820929\n",
       "48713     12.820929\n",
       "48714     12.820929\n",
       "48715     12.820929\n",
       "48716     12.820929\n",
       "48717     12.820929\n",
       "48718     12.820929\n",
       "48719     12.820929\n",
       "48720     12.820929\n",
       "48721     12.820929\n",
       "48722     12.820929\n",
       "48723     12.820929\n",
       "48724     12.820929\n",
       "48725     12.820929\n",
       "            ...    \n",
       "248106    12.820929\n",
       "248107    12.820929\n",
       "248108    12.820929\n",
       "248109    12.820929\n",
       "248110    12.820929\n",
       "248111    12.820929\n",
       "248112    12.820929\n",
       "248113    12.820929\n",
       "248114    12.820929\n",
       "248115    12.820929\n",
       "248116    12.820929\n",
       "248117    12.820929\n",
       "248118    12.820929\n",
       "248119    12.820929\n",
       "248120    12.820929\n",
       "248121    12.820929\n",
       "248122    12.820929\n",
       "248123    12.820929\n",
       "248124    12.820929\n",
       "248125    12.820929\n",
       "248126    12.820929\n",
       "248127    12.820929\n",
       "248128    12.820929\n",
       "248129    12.820929\n",
       "248130    12.820929\n",
       "248131    12.820929\n",
       "248132    12.820929\n",
       "248133    12.820929\n",
       "248134    12.820929\n",
       "248135    12.820929\n",
       "Length: 199440, dtype: float64"
      ]
     },
     "execution_count": 386,
     "metadata": {},
     "output_type": "execute_result"
    }
   ],
   "source": [
    "model_fit.forecast(len(test['fare_amount'])-100)"
   ]
  },
  {
   "cell_type": "code",
   "execution_count": 387,
   "metadata": {},
   "outputs": [
    {
     "ename": "KeyError",
     "evalue": "'SES'",
     "output_type": "error",
     "traceback": [
      "\u001b[1;31m---------------------------------------------------------------------------\u001b[0m",
      "\u001b[1;31mKeyError\u001b[0m                                  Traceback (most recent call last)",
      "\u001b[1;32m~\\Anaconda\\lib\\site-packages\\pandas\\core\\indexes\\base.py\u001b[0m in \u001b[0;36mget_loc\u001b[1;34m(self, key, method, tolerance)\u001b[0m\n\u001b[0;32m   3077\u001b[0m             \u001b[1;32mtry\u001b[0m\u001b[1;33m:\u001b[0m\u001b[1;33m\u001b[0m\u001b[0m\n\u001b[1;32m-> 3078\u001b[1;33m                 \u001b[1;32mreturn\u001b[0m \u001b[0mself\u001b[0m\u001b[1;33m.\u001b[0m\u001b[0m_engine\u001b[0m\u001b[1;33m.\u001b[0m\u001b[0mget_loc\u001b[0m\u001b[1;33m(\u001b[0m\u001b[0mkey\u001b[0m\u001b[1;33m)\u001b[0m\u001b[1;33m\u001b[0m\u001b[0m\n\u001b[0m\u001b[0;32m   3079\u001b[0m             \u001b[1;32mexcept\u001b[0m \u001b[0mKeyError\u001b[0m\u001b[1;33m:\u001b[0m\u001b[1;33m\u001b[0m\u001b[0m\n",
      "\u001b[1;32mpandas\\_libs\\index.pyx\u001b[0m in \u001b[0;36mpandas._libs.index.IndexEngine.get_loc\u001b[1;34m()\u001b[0m\n",
      "\u001b[1;32mpandas\\_libs\\index.pyx\u001b[0m in \u001b[0;36mpandas._libs.index.IndexEngine.get_loc\u001b[1;34m()\u001b[0m\n",
      "\u001b[1;32mpandas\\_libs\\hashtable_class_helper.pxi\u001b[0m in \u001b[0;36mpandas._libs.hashtable.PyObjectHashTable.get_item\u001b[1;34m()\u001b[0m\n",
      "\u001b[1;32mpandas\\_libs\\hashtable_class_helper.pxi\u001b[0m in \u001b[0;36mpandas._libs.hashtable.PyObjectHashTable.get_item\u001b[1;34m()\u001b[0m\n",
      "\u001b[1;31mKeyError\u001b[0m: 'SES'",
      "\nDuring handling of the above exception, another exception occurred:\n",
      "\u001b[1;31mKeyError\u001b[0m                                  Traceback (most recent call last)",
      "\u001b[1;32m<ipython-input-387-8890bcf82e59>\u001b[0m in \u001b[0;36m<module>\u001b[1;34m()\u001b[0m\n\u001b[1;32m----> 1\u001b[1;33m \u001b[0my_hat_avg\u001b[0m\u001b[1;33m[\u001b[0m\u001b[1;34m'SES'\u001b[0m\u001b[1;33m]\u001b[0m\u001b[1;33m\u001b[0m\u001b[0m\n\u001b[0m",
      "\u001b[1;32m~\\Anaconda\\lib\\site-packages\\pandas\\core\\frame.py\u001b[0m in \u001b[0;36m__getitem__\u001b[1;34m(self, key)\u001b[0m\n\u001b[0;32m   2686\u001b[0m             \u001b[1;32mreturn\u001b[0m \u001b[0mself\u001b[0m\u001b[1;33m.\u001b[0m\u001b[0m_getitem_multilevel\u001b[0m\u001b[1;33m(\u001b[0m\u001b[0mkey\u001b[0m\u001b[1;33m)\u001b[0m\u001b[1;33m\u001b[0m\u001b[0m\n\u001b[0;32m   2687\u001b[0m         \u001b[1;32melse\u001b[0m\u001b[1;33m:\u001b[0m\u001b[1;33m\u001b[0m\u001b[0m\n\u001b[1;32m-> 2688\u001b[1;33m             \u001b[1;32mreturn\u001b[0m \u001b[0mself\u001b[0m\u001b[1;33m.\u001b[0m\u001b[0m_getitem_column\u001b[0m\u001b[1;33m(\u001b[0m\u001b[0mkey\u001b[0m\u001b[1;33m)\u001b[0m\u001b[1;33m\u001b[0m\u001b[0m\n\u001b[0m\u001b[0;32m   2689\u001b[0m \u001b[1;33m\u001b[0m\u001b[0m\n\u001b[0;32m   2690\u001b[0m     \u001b[1;32mdef\u001b[0m \u001b[0m_getitem_column\u001b[0m\u001b[1;33m(\u001b[0m\u001b[0mself\u001b[0m\u001b[1;33m,\u001b[0m \u001b[0mkey\u001b[0m\u001b[1;33m)\u001b[0m\u001b[1;33m:\u001b[0m\u001b[1;33m\u001b[0m\u001b[0m\n",
      "\u001b[1;32m~\\Anaconda\\lib\\site-packages\\pandas\\core\\frame.py\u001b[0m in \u001b[0;36m_getitem_column\u001b[1;34m(self, key)\u001b[0m\n\u001b[0;32m   2698\u001b[0m         \u001b[0mresult\u001b[0m \u001b[1;33m=\u001b[0m \u001b[0mself\u001b[0m\u001b[1;33m.\u001b[0m\u001b[0m_constructor\u001b[0m\u001b[1;33m(\u001b[0m\u001b[0mself\u001b[0m\u001b[1;33m.\u001b[0m\u001b[0m_data\u001b[0m\u001b[1;33m.\u001b[0m\u001b[0mget\u001b[0m\u001b[1;33m(\u001b[0m\u001b[0mkey\u001b[0m\u001b[1;33m)\u001b[0m\u001b[1;33m)\u001b[0m\u001b[1;33m\u001b[0m\u001b[0m\n\u001b[0;32m   2699\u001b[0m         \u001b[1;32mif\u001b[0m \u001b[0mresult\u001b[0m\u001b[1;33m.\u001b[0m\u001b[0mcolumns\u001b[0m\u001b[1;33m.\u001b[0m\u001b[0mis_unique\u001b[0m\u001b[1;33m:\u001b[0m\u001b[1;33m\u001b[0m\u001b[0m\n\u001b[1;32m-> 2700\u001b[1;33m             \u001b[0mresult\u001b[0m \u001b[1;33m=\u001b[0m \u001b[0mresult\u001b[0m\u001b[1;33m[\u001b[0m\u001b[0mkey\u001b[0m\u001b[1;33m]\u001b[0m\u001b[1;33m\u001b[0m\u001b[0m\n\u001b[0m\u001b[0;32m   2701\u001b[0m \u001b[1;33m\u001b[0m\u001b[0m\n\u001b[0;32m   2702\u001b[0m         \u001b[1;32mreturn\u001b[0m \u001b[0mresult\u001b[0m\u001b[1;33m\u001b[0m\u001b[0m\n",
      "\u001b[1;32m~\\Anaconda\\lib\\site-packages\\pandas\\core\\frame.py\u001b[0m in \u001b[0;36m__getitem__\u001b[1;34m(self, key)\u001b[0m\n\u001b[0;32m   2686\u001b[0m             \u001b[1;32mreturn\u001b[0m \u001b[0mself\u001b[0m\u001b[1;33m.\u001b[0m\u001b[0m_getitem_multilevel\u001b[0m\u001b[1;33m(\u001b[0m\u001b[0mkey\u001b[0m\u001b[1;33m)\u001b[0m\u001b[1;33m\u001b[0m\u001b[0m\n\u001b[0;32m   2687\u001b[0m         \u001b[1;32melse\u001b[0m\u001b[1;33m:\u001b[0m\u001b[1;33m\u001b[0m\u001b[0m\n\u001b[1;32m-> 2688\u001b[1;33m             \u001b[1;32mreturn\u001b[0m \u001b[0mself\u001b[0m\u001b[1;33m.\u001b[0m\u001b[0m_getitem_column\u001b[0m\u001b[1;33m(\u001b[0m\u001b[0mkey\u001b[0m\u001b[1;33m)\u001b[0m\u001b[1;33m\u001b[0m\u001b[0m\n\u001b[0m\u001b[0;32m   2689\u001b[0m \u001b[1;33m\u001b[0m\u001b[0m\n\u001b[0;32m   2690\u001b[0m     \u001b[1;32mdef\u001b[0m \u001b[0m_getitem_column\u001b[0m\u001b[1;33m(\u001b[0m\u001b[0mself\u001b[0m\u001b[1;33m,\u001b[0m \u001b[0mkey\u001b[0m\u001b[1;33m)\u001b[0m\u001b[1;33m:\u001b[0m\u001b[1;33m\u001b[0m\u001b[0m\n",
      "\u001b[1;32m~\\Anaconda\\lib\\site-packages\\pandas\\core\\frame.py\u001b[0m in \u001b[0;36m_getitem_column\u001b[1;34m(self, key)\u001b[0m\n\u001b[0;32m   2693\u001b[0m         \u001b[1;31m# get column\u001b[0m\u001b[1;33m\u001b[0m\u001b[1;33m\u001b[0m\u001b[0m\n\u001b[0;32m   2694\u001b[0m         \u001b[1;32mif\u001b[0m \u001b[0mself\u001b[0m\u001b[1;33m.\u001b[0m\u001b[0mcolumns\u001b[0m\u001b[1;33m.\u001b[0m\u001b[0mis_unique\u001b[0m\u001b[1;33m:\u001b[0m\u001b[1;33m\u001b[0m\u001b[0m\n\u001b[1;32m-> 2695\u001b[1;33m             \u001b[1;32mreturn\u001b[0m \u001b[0mself\u001b[0m\u001b[1;33m.\u001b[0m\u001b[0m_get_item_cache\u001b[0m\u001b[1;33m(\u001b[0m\u001b[0mkey\u001b[0m\u001b[1;33m)\u001b[0m\u001b[1;33m\u001b[0m\u001b[0m\n\u001b[0m\u001b[0;32m   2696\u001b[0m \u001b[1;33m\u001b[0m\u001b[0m\n\u001b[0;32m   2697\u001b[0m         \u001b[1;31m# duplicate columns & possible reduce dimensionality\u001b[0m\u001b[1;33m\u001b[0m\u001b[1;33m\u001b[0m\u001b[0m\n",
      "\u001b[1;32m~\\Anaconda\\lib\\site-packages\\pandas\\core\\generic.py\u001b[0m in \u001b[0;36m_get_item_cache\u001b[1;34m(self, item)\u001b[0m\n\u001b[0;32m   2487\u001b[0m         \u001b[0mres\u001b[0m \u001b[1;33m=\u001b[0m \u001b[0mcache\u001b[0m\u001b[1;33m.\u001b[0m\u001b[0mget\u001b[0m\u001b[1;33m(\u001b[0m\u001b[0mitem\u001b[0m\u001b[1;33m)\u001b[0m\u001b[1;33m\u001b[0m\u001b[0m\n\u001b[0;32m   2488\u001b[0m         \u001b[1;32mif\u001b[0m \u001b[0mres\u001b[0m \u001b[1;32mis\u001b[0m \u001b[1;32mNone\u001b[0m\u001b[1;33m:\u001b[0m\u001b[1;33m\u001b[0m\u001b[0m\n\u001b[1;32m-> 2489\u001b[1;33m             \u001b[0mvalues\u001b[0m \u001b[1;33m=\u001b[0m \u001b[0mself\u001b[0m\u001b[1;33m.\u001b[0m\u001b[0m_data\u001b[0m\u001b[1;33m.\u001b[0m\u001b[0mget\u001b[0m\u001b[1;33m(\u001b[0m\u001b[0mitem\u001b[0m\u001b[1;33m)\u001b[0m\u001b[1;33m\u001b[0m\u001b[0m\n\u001b[0m\u001b[0;32m   2490\u001b[0m             \u001b[0mres\u001b[0m \u001b[1;33m=\u001b[0m \u001b[0mself\u001b[0m\u001b[1;33m.\u001b[0m\u001b[0m_box_item_values\u001b[0m\u001b[1;33m(\u001b[0m\u001b[0mitem\u001b[0m\u001b[1;33m,\u001b[0m \u001b[0mvalues\u001b[0m\u001b[1;33m)\u001b[0m\u001b[1;33m\u001b[0m\u001b[0m\n\u001b[0;32m   2491\u001b[0m             \u001b[0mcache\u001b[0m\u001b[1;33m[\u001b[0m\u001b[0mitem\u001b[0m\u001b[1;33m]\u001b[0m \u001b[1;33m=\u001b[0m \u001b[0mres\u001b[0m\u001b[1;33m\u001b[0m\u001b[0m\n",
      "\u001b[1;32m~\\Anaconda\\lib\\site-packages\\pandas\\core\\internals.py\u001b[0m in \u001b[0;36mget\u001b[1;34m(self, item, fastpath)\u001b[0m\n\u001b[0;32m   4113\u001b[0m \u001b[1;33m\u001b[0m\u001b[0m\n\u001b[0;32m   4114\u001b[0m             \u001b[1;32mif\u001b[0m \u001b[1;32mnot\u001b[0m \u001b[0misna\u001b[0m\u001b[1;33m(\u001b[0m\u001b[0mitem\u001b[0m\u001b[1;33m)\u001b[0m\u001b[1;33m:\u001b[0m\u001b[1;33m\u001b[0m\u001b[0m\n\u001b[1;32m-> 4115\u001b[1;33m                 \u001b[0mloc\u001b[0m \u001b[1;33m=\u001b[0m \u001b[0mself\u001b[0m\u001b[1;33m.\u001b[0m\u001b[0mitems\u001b[0m\u001b[1;33m.\u001b[0m\u001b[0mget_loc\u001b[0m\u001b[1;33m(\u001b[0m\u001b[0mitem\u001b[0m\u001b[1;33m)\u001b[0m\u001b[1;33m\u001b[0m\u001b[0m\n\u001b[0m\u001b[0;32m   4116\u001b[0m             \u001b[1;32melse\u001b[0m\u001b[1;33m:\u001b[0m\u001b[1;33m\u001b[0m\u001b[0m\n\u001b[0;32m   4117\u001b[0m                 \u001b[0mindexer\u001b[0m \u001b[1;33m=\u001b[0m \u001b[0mnp\u001b[0m\u001b[1;33m.\u001b[0m\u001b[0marange\u001b[0m\u001b[1;33m(\u001b[0m\u001b[0mlen\u001b[0m\u001b[1;33m(\u001b[0m\u001b[0mself\u001b[0m\u001b[1;33m.\u001b[0m\u001b[0mitems\u001b[0m\u001b[1;33m)\u001b[0m\u001b[1;33m)\u001b[0m\u001b[1;33m[\u001b[0m\u001b[0misna\u001b[0m\u001b[1;33m(\u001b[0m\u001b[0mself\u001b[0m\u001b[1;33m.\u001b[0m\u001b[0mitems\u001b[0m\u001b[1;33m)\u001b[0m\u001b[1;33m]\u001b[0m\u001b[1;33m\u001b[0m\u001b[0m\n",
      "\u001b[1;32m~\\Anaconda\\lib\\site-packages\\pandas\\core\\indexes\\base.py\u001b[0m in \u001b[0;36mget_loc\u001b[1;34m(self, key, method, tolerance)\u001b[0m\n\u001b[0;32m   3078\u001b[0m                 \u001b[1;32mreturn\u001b[0m \u001b[0mself\u001b[0m\u001b[1;33m.\u001b[0m\u001b[0m_engine\u001b[0m\u001b[1;33m.\u001b[0m\u001b[0mget_loc\u001b[0m\u001b[1;33m(\u001b[0m\u001b[0mkey\u001b[0m\u001b[1;33m)\u001b[0m\u001b[1;33m\u001b[0m\u001b[0m\n\u001b[0;32m   3079\u001b[0m             \u001b[1;32mexcept\u001b[0m \u001b[0mKeyError\u001b[0m\u001b[1;33m:\u001b[0m\u001b[1;33m\u001b[0m\u001b[0m\n\u001b[1;32m-> 3080\u001b[1;33m                 \u001b[1;32mreturn\u001b[0m \u001b[0mself\u001b[0m\u001b[1;33m.\u001b[0m\u001b[0m_engine\u001b[0m\u001b[1;33m.\u001b[0m\u001b[0mget_loc\u001b[0m\u001b[1;33m(\u001b[0m\u001b[0mself\u001b[0m\u001b[1;33m.\u001b[0m\u001b[0m_maybe_cast_indexer\u001b[0m\u001b[1;33m(\u001b[0m\u001b[0mkey\u001b[0m\u001b[1;33m)\u001b[0m\u001b[1;33m)\u001b[0m\u001b[1;33m\u001b[0m\u001b[0m\n\u001b[0m\u001b[0;32m   3081\u001b[0m \u001b[1;33m\u001b[0m\u001b[0m\n\u001b[0;32m   3082\u001b[0m         \u001b[0mindexer\u001b[0m \u001b[1;33m=\u001b[0m \u001b[0mself\u001b[0m\u001b[1;33m.\u001b[0m\u001b[0mget_indexer\u001b[0m\u001b[1;33m(\u001b[0m\u001b[1;33m[\u001b[0m\u001b[0mkey\u001b[0m\u001b[1;33m]\u001b[0m\u001b[1;33m,\u001b[0m \u001b[0mmethod\u001b[0m\u001b[1;33m=\u001b[0m\u001b[0mmethod\u001b[0m\u001b[1;33m,\u001b[0m \u001b[0mtolerance\u001b[0m\u001b[1;33m=\u001b[0m\u001b[0mtolerance\u001b[0m\u001b[1;33m)\u001b[0m\u001b[1;33m\u001b[0m\u001b[0m\n",
      "\u001b[1;32mpandas\\_libs\\index.pyx\u001b[0m in \u001b[0;36mpandas._libs.index.IndexEngine.get_loc\u001b[1;34m()\u001b[0m\n",
      "\u001b[1;32mpandas\\_libs\\index.pyx\u001b[0m in \u001b[0;36mpandas._libs.index.IndexEngine.get_loc\u001b[1;34m()\u001b[0m\n",
      "\u001b[1;32mpandas\\_libs\\hashtable_class_helper.pxi\u001b[0m in \u001b[0;36mpandas._libs.hashtable.PyObjectHashTable.get_item\u001b[1;34m()\u001b[0m\n",
      "\u001b[1;32mpandas\\_libs\\hashtable_class_helper.pxi\u001b[0m in \u001b[0;36mpandas._libs.hashtable.PyObjectHashTable.get_item\u001b[1;34m()\u001b[0m\n",
      "\u001b[1;31mKeyError\u001b[0m: 'SES'"
     ]
    }
   ],
   "source": [
    "y_hat_avg['SES']"
   ]
  },
  {
   "cell_type": "code",
   "execution_count": 446,
   "metadata": {},
   "outputs": [
    {
     "data": {
      "text/plain": [
       "<matplotlib.legend.Legend at 0x77f4fc88>"
      ]
     },
     "execution_count": 446,
     "metadata": {},
     "output_type": "execute_result"
    },
    {
     "data": {
      "image/png": "[encoded data removed]",
      "text/plain": [
       "<Figure size 1152x576 with 1 Axes>"
      ]
     },
     "metadata": {
      "needs_background": "light"
     },
     "output_type": "display_data"
    }
   ],
   "source": [
    "plt.figure(figsize=(16,8))\n",
    "plt.plot(train['fare_amount'], label='Train')\n",
    "plt.plot(test['fare_amount'], label='Test')\n",
    "plt.plot(y_hat_avg['SES'], label='SES')\n",
    "plt.legend(loc='best')"
   ]
  },
  {
   "cell_type": "code",
   "execution_count": null,
   "metadata": {},
   "outputs": [],
   "source": []
  }
 ],
 "metadata": {
  "kernelspec": {
   "display_name": "Python 3",
   "language": "python",
   "name": "python3"
  },
  "language_info": {
   "codemirror_mode": {
    "name": "ipython",
    "version": 3
   },
   "file_extension": ".py",
   "mimetype": "text/x-python",
   "name": "python",
   "nbconvert_exporter": "python",
   "pygments_lexer": "ipython3",
   "version": "3.7.0"
  }
 },
 "nbformat": 4,
 "nbformat_minor": 2
}
