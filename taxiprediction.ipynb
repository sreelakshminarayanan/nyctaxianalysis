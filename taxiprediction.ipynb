{
 "cells": [
  {
   "cell_type": "code",
   "execution_count": 1,
   "metadata": {},
   "outputs": [],
   "source": [
    "# Initial Python environment setup...\n",
    "import numpy as np # linear algebra\n",
    "import pandas as pd # CSV file I/O (e.g. pd.read_csv)\n",
    "import os # reading the input files we have access to"
   ]
  },
  {
   "cell_type": "code",
   "execution_count": 2,
   "metadata": {},
   "outputs": [],
   "source": [
    "from haversine import haversine\n",
    "# packages for mapping\n"
   ]
  },
  {
   "cell_type": "code",
   "execution_count": 3,
   "metadata": {},
   "outputs": [
    {
     "data": {
      "text/plain": [
       "key                   object\n",
       "fare_amount          float64\n",
       "pickup_datetime       object\n",
       "pickup_longitude     float64\n",
       "pickup_latitude      float64\n",
       "dropoff_longitude    float64\n",
       "dropoff_latitude     float64\n",
       "passenger_count        int64\n",
       "dtype: object"
      ]
     },
     "execution_count": 3,
     "metadata": {},
     "output_type": "execute_result"
    }
   ],
   "source": [
    "train_df =  pd.read_csv('train.csv', nrows = 10_000_00)\n",
    "train_df.dtypes"
   ]
  },
  {
   "cell_type": "code",
   "execution_count": 4,
   "metadata": {},
   "outputs": [
    {
     "data": {
      "text/html": [
       "<div>\n",
       "<style scoped>\n",
       "    .dataframe tbody tr th:only-of-type {\n",
       "        vertical-align: middle;\n",
       "    }\n",
       "\n",
       "    .dataframe tbody tr th {\n",
       "        vertical-align: top;\n",
       "    }\n",
       "\n",
       "    .dataframe thead th {\n",
       "        text-align: right;\n",
       "    }\n",
       "</style>\n",
       "<table border=\"1\" class=\"dataframe\">\n",
       "  <thead>\n",
       "    <tr style=\"text-align: right;\">\n",
       "      <th></th>\n",
       "      <th>key</th>\n",
       "      <th>fare_amount</th>\n",
       "      <th>pickup_datetime</th>\n",
       "      <th>pickup_longitude</th>\n",
       "      <th>pickup_latitude</th>\n",
       "      <th>dropoff_longitude</th>\n",
       "      <th>dropoff_latitude</th>\n",
       "      <th>passenger_count</th>\n",
       "    </tr>\n",
       "  </thead>\n",
       "  <tbody>\n",
       "    <tr>\n",
       "      <th>0</th>\n",
       "      <td>2009-06-15 17:26:21.0000001</td>\n",
       "      <td>4.5</td>\n",
       "      <td>2009-06-15 17:26:21 UTC</td>\n",
       "      <td>-73.844311</td>\n",
       "      <td>40.721319</td>\n",
       "      <td>-73.841610</td>\n",
       "      <td>40.712278</td>\n",
       "      <td>1</td>\n",
       "    </tr>\n",
       "    <tr>\n",
       "      <th>1</th>\n",
       "      <td>2010-01-05 16:52:16.0000002</td>\n",
       "      <td>16.9</td>\n",
       "      <td>2010-01-05 16:52:16 UTC</td>\n",
       "      <td>-74.016048</td>\n",
       "      <td>40.711303</td>\n",
       "      <td>-73.979268</td>\n",
       "      <td>40.782004</td>\n",
       "      <td>1</td>\n",
       "    </tr>\n",
       "    <tr>\n",
       "      <th>2</th>\n",
       "      <td>2011-08-18 00:35:00.00000049</td>\n",
       "      <td>5.7</td>\n",
       "      <td>2011-08-18 00:35:00 UTC</td>\n",
       "      <td>-73.982738</td>\n",
       "      <td>40.761270</td>\n",
       "      <td>-73.991242</td>\n",
       "      <td>40.750562</td>\n",
       "      <td>2</td>\n",
       "    </tr>\n",
       "    <tr>\n",
       "      <th>3</th>\n",
       "      <td>2012-04-21 04:30:42.0000001</td>\n",
       "      <td>7.7</td>\n",
       "      <td>2012-04-21 04:30:42 UTC</td>\n",
       "      <td>-73.987130</td>\n",
       "      <td>40.733143</td>\n",
       "      <td>-73.991567</td>\n",
       "      <td>40.758092</td>\n",
       "      <td>1</td>\n",
       "    </tr>\n",
       "    <tr>\n",
       "      <th>4</th>\n",
       "      <td>2010-03-09 07:51:00.000000135</td>\n",
       "      <td>5.3</td>\n",
       "      <td>2010-03-09 07:51:00 UTC</td>\n",
       "      <td>-73.968095</td>\n",
       "      <td>40.768008</td>\n",
       "      <td>-73.956655</td>\n",
       "      <td>40.783762</td>\n",
       "      <td>1</td>\n",
       "    </tr>\n",
       "  </tbody>\n",
       "</table>\n",
       "</div>"
      ],
      "text/plain": [
       "                             key  fare_amount          pickup_datetime  \\\n",
       "0    2009-06-15 17:26:21.0000001          4.5  2009-06-15 17:26:21 UTC   \n",
       "1    2010-01-05 16:52:16.0000002         16.9  2010-01-05 16:52:16 UTC   \n",
       "2   2011-08-18 00:35:00.00000049          5.7  2011-08-18 00:35:00 UTC   \n",
       "3    2012-04-21 04:30:42.0000001          7.7  2012-04-21 04:30:42 UTC   \n",
       "4  2010-03-09 07:51:00.000000135          5.3  2010-03-09 07:51:00 UTC   \n",
       "\n",
       "   pickup_longitude  pickup_latitude  dropoff_longitude  dropoff_latitude  \\\n",
       "0        -73.844311        40.721319         -73.841610         40.712278   \n",
       "1        -74.016048        40.711303         -73.979268         40.782004   \n",
       "2        -73.982738        40.761270         -73.991242         40.750562   \n",
       "3        -73.987130        40.733143         -73.991567         40.758092   \n",
       "4        -73.968095        40.768008         -73.956655         40.783762   \n",
       "\n",
       "   passenger_count  \n",
       "0                1  \n",
       "1                1  \n",
       "2                2  \n",
       "3                1  \n",
       "4                1  "
      ]
     },
     "execution_count": 4,
     "metadata": {},
     "output_type": "execute_result"
    }
   ],
   "source": [
    "train_df.head()"
   ]
  },
  {
   "cell_type": "code",
   "execution_count": 5,
   "metadata": {},
   "outputs": [],
   "source": [
    "import matplotlib.pyplot as plt\n",
    "import plotly.figure_factory as ff\n",
    "from plotly.offline import init_notebook_mode, iplot\n",
    "import plotly.graph_objs as go\n",
    "import plotly.plotly as py\n",
    "from plotly import tools\n",
    "%matplotlib inline"
   ]
  },
  {
   "cell_type": "code",
   "execution_count": 6,
   "metadata": {},
   "outputs": [],
   "source": [
    "train_df['pickup_datetime']= pd.to_datetime(train_df['pickup_datetime'])\n"
   ]
  },
  {
   "cell_type": "code",
   "execution_count": 18,
   "metadata": {},
   "outputs": [],
   "source": [
    "train_df['pickup_day_of_week']=train_df['pickup_datetime'].dt.dayofweek"
   ]
  },
  {
   "cell_type": "code",
   "execution_count": 19,
   "metadata": {},
   "outputs": [],
   "source": [
    "train_df['pickup_month']=train_df['pickup_datetime'].dt.month"
   ]
  },
  {
   "cell_type": "code",
   "execution_count": 20,
   "metadata": {},
   "outputs": [
    {
     "data": {
      "text/html": [
       "<div>\n",
       "<style scoped>\n",
       "    .dataframe tbody tr th:only-of-type {\n",
       "        vertical-align: middle;\n",
       "    }\n",
       "\n",
       "    .dataframe tbody tr th {\n",
       "        vertical-align: top;\n",
       "    }\n",
       "\n",
       "    .dataframe thead th {\n",
       "        text-align: right;\n",
       "    }\n",
       "</style>\n",
       "<table border=\"1\" class=\"dataframe\">\n",
       "  <thead>\n",
       "    <tr style=\"text-align: right;\">\n",
       "      <th></th>\n",
       "      <th>key</th>\n",
       "      <th>fare_amount</th>\n",
       "      <th>pickup_datetime</th>\n",
       "      <th>pickup_longitude</th>\n",
       "      <th>pickup_latitude</th>\n",
       "      <th>dropoff_longitude</th>\n",
       "      <th>dropoff_latitude</th>\n",
       "      <th>passenger_count</th>\n",
       "      <th>pickup_month</th>\n",
       "      <th>pickup_date</th>\n",
       "      <th>pickup_day_of_week</th>\n",
       "    </tr>\n",
       "  </thead>\n",
       "  <tbody>\n",
       "    <tr>\n",
       "      <th>999995</th>\n",
       "      <td>2014-09-13 21:44:38.0000001</td>\n",
       "      <td>7.0</td>\n",
       "      <td>2014-09-13 21:44:38</td>\n",
       "      <td>-73.976676</td>\n",
       "      <td>40.785630</td>\n",
       "      <td>-73.959196</td>\n",
       "      <td>40.775114</td>\n",
       "      <td>1</td>\n",
       "      <td>9</td>\n",
       "      <td>2014-09-13</td>\n",
       "      <td>5</td>\n",
       "    </tr>\n",
       "    <tr>\n",
       "      <th>999996</th>\n",
       "      <td>2010-09-20 14:50:37.0000002</td>\n",
       "      <td>7.3</td>\n",
       "      <td>2010-09-20 14:50:37</td>\n",
       "      <td>-73.992103</td>\n",
       "      <td>40.671385</td>\n",
       "      <td>-73.992103</td>\n",
       "      <td>40.671385</td>\n",
       "      <td>2</td>\n",
       "      <td>9</td>\n",
       "      <td>2010-09-20</td>\n",
       "      <td>0</td>\n",
       "    </tr>\n",
       "    <tr>\n",
       "      <th>999997</th>\n",
       "      <td>2013-04-26 14:03:00.000000118</td>\n",
       "      <td>10.5</td>\n",
       "      <td>2013-04-26 14:03:00</td>\n",
       "      <td>-73.978423</td>\n",
       "      <td>40.751135</td>\n",
       "      <td>-73.993397</td>\n",
       "      <td>40.762197</td>\n",
       "      <td>5</td>\n",
       "      <td>4</td>\n",
       "      <td>2013-04-26</td>\n",
       "      <td>4</td>\n",
       "    </tr>\n",
       "    <tr>\n",
       "      <th>999998</th>\n",
       "      <td>2011-07-08 00:29:00.00000099</td>\n",
       "      <td>6.9</td>\n",
       "      <td>2011-07-08 00:29:00</td>\n",
       "      <td>-73.980317</td>\n",
       "      <td>40.759482</td>\n",
       "      <td>-73.976832</td>\n",
       "      <td>40.743122</td>\n",
       "      <td>1</td>\n",
       "      <td>7</td>\n",
       "      <td>2011-07-08</td>\n",
       "      <td>4</td>\n",
       "    </tr>\n",
       "    <tr>\n",
       "      <th>999999</th>\n",
       "      <td>2009-12-31 14:30:00.00000021</td>\n",
       "      <td>4.1</td>\n",
       "      <td>2009-12-31 14:30:00</td>\n",
       "      <td>-74.006635</td>\n",
       "      <td>40.741598</td>\n",
       "      <td>-73.999450</td>\n",
       "      <td>40.745702</td>\n",
       "      <td>1</td>\n",
       "      <td>12</td>\n",
       "      <td>2009-12-31</td>\n",
       "      <td>3</td>\n",
       "    </tr>\n",
       "  </tbody>\n",
       "</table>\n",
       "</div>"
      ],
      "text/plain": [
       "                                  key  fare_amount     pickup_datetime  \\\n",
       "999995    2014-09-13 21:44:38.0000001          7.0 2014-09-13 21:44:38   \n",
       "999996    2010-09-20 14:50:37.0000002          7.3 2010-09-20 14:50:37   \n",
       "999997  2013-04-26 14:03:00.000000118         10.5 2013-04-26 14:03:00   \n",
       "999998   2011-07-08 00:29:00.00000099          6.9 2011-07-08 00:29:00   \n",
       "999999   2009-12-31 14:30:00.00000021          4.1 2009-12-31 14:30:00   \n",
       "\n",
       "        pickup_longitude  pickup_latitude  dropoff_longitude  \\\n",
       "999995        -73.976676        40.785630         -73.959196   \n",
       "999996        -73.992103        40.671385         -73.992103   \n",
       "999997        -73.978423        40.751135         -73.993397   \n",
       "999998        -73.980317        40.759482         -73.976832   \n",
       "999999        -74.006635        40.741598         -73.999450   \n",
       "\n",
       "        dropoff_latitude  passenger_count  pickup_month pickup_date  \\\n",
       "999995         40.775114                1             9  2014-09-13   \n",
       "999996         40.671385                2             9  2010-09-20   \n",
       "999997         40.762197                5             4  2013-04-26   \n",
       "999998         40.743122                1             7  2011-07-08   \n",
       "999999         40.745702                1            12  2009-12-31   \n",
       "\n",
       "        pickup_day_of_week  \n",
       "999995                   5  \n",
       "999996                   0  \n",
       "999997                   4  \n",
       "999998                   4  \n",
       "999999                   3  "
      ]
     },
     "execution_count": 20,
     "metadata": {},
     "output_type": "execute_result"
    }
   ],
   "source": [
    "train_df.tail()"
   ]
  },
  {
   "cell_type": "code",
   "execution_count": 21,
   "metadata": {},
   "outputs": [],
   "source": [
    "train_df['pickup_date']=train_df['pickup_datetime'].dt.date"
   ]
  },
  {
   "cell_type": "code",
   "execution_count": 22,
   "metadata": {},
   "outputs": [
    {
     "data": {
      "text/plain": [
       "array(['2009-06-15 17:26:21.0000001', '2010-01-05 16:52:16.0000002',\n",
       "       '2011-08-18 00:35:00.00000049', ...,\n",
       "       '2013-04-26 14:03:00.000000118', '2011-07-08 00:29:00.00000099',\n",
       "       '2009-12-31 14:30:00.00000021'], dtype=object)"
      ]
     },
     "execution_count": 22,
     "metadata": {},
     "output_type": "execute_result"
    }
   ],
   "source": [
    "train_df['key'].unique()\n"
   ]
  },
  {
   "cell_type": "code",
   "execution_count": 23,
   "metadata": {},
   "outputs": [
    {
     "data": {
      "text/html": [
       "<div>\n",
       "<style scoped>\n",
       "    .dataframe tbody tr th:only-of-type {\n",
       "        vertical-align: middle;\n",
       "    }\n",
       "\n",
       "    .dataframe tbody tr th {\n",
       "        vertical-align: top;\n",
       "    }\n",
       "\n",
       "    .dataframe thead th {\n",
       "        text-align: right;\n",
       "    }\n",
       "</style>\n",
       "<table border=\"1\" class=\"dataframe\">\n",
       "  <thead>\n",
       "    <tr style=\"text-align: right;\">\n",
       "      <th></th>\n",
       "      <th>key</th>\n",
       "      <th>fare_amount</th>\n",
       "      <th>pickup_datetime</th>\n",
       "      <th>pickup_longitude</th>\n",
       "      <th>pickup_latitude</th>\n",
       "      <th>dropoff_longitude</th>\n",
       "      <th>dropoff_latitude</th>\n",
       "      <th>passenger_count</th>\n",
       "      <th>pickup_month</th>\n",
       "      <th>pickup_date</th>\n",
       "      <th>pickup_day_of_week</th>\n",
       "    </tr>\n",
       "  </thead>\n",
       "  <tbody>\n",
       "  </tbody>\n",
       "</table>\n",
       "</div>"
      ],
      "text/plain": [
       "Empty DataFrame\n",
       "Columns: [key, fare_amount, pickup_datetime, pickup_longitude, pickup_latitude, dropoff_longitude, dropoff_latitude, passenger_count, pickup_month, pickup_date, pickup_day_of_week]\n",
       "Index: []"
      ]
     },
     "execution_count": 23,
     "metadata": {},
     "output_type": "execute_result"
    }
   ],
   "source": [
    "train_df.loc[train_df[\"pickup_date\"] == \"2009-12-31\"]"
   ]
  },
  {
   "cell_type": "code",
   "execution_count": 24,
   "metadata": {},
   "outputs": [
    {
     "data": {
      "text/html": [
       "<div>\n",
       "<style scoped>\n",
       "    .dataframe tbody tr th:only-of-type {\n",
       "        vertical-align: middle;\n",
       "    }\n",
       "\n",
       "    .dataframe tbody tr th {\n",
       "        vertical-align: top;\n",
       "    }\n",
       "\n",
       "    .dataframe thead th {\n",
       "        text-align: right;\n",
       "    }\n",
       "</style>\n",
       "<table border=\"1\" class=\"dataframe\">\n",
       "  <thead>\n",
       "    <tr style=\"text-align: right;\">\n",
       "      <th></th>\n",
       "      <th>key</th>\n",
       "      <th>fare_amount</th>\n",
       "      <th>pickup_datetime</th>\n",
       "      <th>pickup_longitude</th>\n",
       "      <th>pickup_latitude</th>\n",
       "      <th>dropoff_longitude</th>\n",
       "      <th>dropoff_latitude</th>\n",
       "      <th>passenger_count</th>\n",
       "      <th>pickup_month</th>\n",
       "      <th>pickup_date</th>\n",
       "      <th>pickup_day_of_week</th>\n",
       "    </tr>\n",
       "  </thead>\n",
       "  <tbody>\n",
       "  </tbody>\n",
       "</table>\n",
       "</div>"
      ],
      "text/plain": [
       "Empty DataFrame\n",
       "Columns: [key, fare_amount, pickup_datetime, pickup_longitude, pickup_latitude, dropoff_longitude, dropoff_latitude, passenger_count, pickup_month, pickup_date, pickup_day_of_week]\n",
       "Index: []"
      ]
     },
     "execution_count": 24,
     "metadata": {},
     "output_type": "execute_result"
    }
   ],
   "source": [
    "train_df.loc[train_df[\"key\"] == \"756707\"]"
   ]
  },
  {
   "cell_type": "code",
   "execution_count": 25,
   "metadata": {},
   "outputs": [
    {
     "data": {
      "text/plain": [
       "key                           object\n",
       "fare_amount                  float64\n",
       "pickup_datetime       datetime64[ns]\n",
       "pickup_longitude             float64\n",
       "pickup_latitude              float64\n",
       "dropoff_longitude            float64\n",
       "dropoff_latitude             float64\n",
       "passenger_count                int64\n",
       "pickup_month                   int64\n",
       "pickup_date                   object\n",
       "pickup_day_of_week             int64\n",
       "dtype: object"
      ]
     },
     "execution_count": 25,
     "metadata": {},
     "output_type": "execute_result"
    }
   ],
   "source": [
    "train_df.dtypes"
   ]
  },
  {
   "cell_type": "code",
   "execution_count": 26,
   "metadata": {},
   "outputs": [],
   "source": [
    "train_df['pickup_date'] =train_df['pickup_date'].astype(str)\n"
   ]
  },
  {
   "cell_type": "code",
   "execution_count": 27,
   "metadata": {},
   "outputs": [
    {
     "data": {
      "text/plain": [
       "key                           object\n",
       "fare_amount                  float64\n",
       "pickup_datetime       datetime64[ns]\n",
       "pickup_longitude             float64\n",
       "pickup_latitude              float64\n",
       "dropoff_longitude            float64\n",
       "dropoff_latitude             float64\n",
       "passenger_count                int64\n",
       "pickup_month                   int64\n",
       "pickup_date                   object\n",
       "pickup_day_of_week             int64\n",
       "dtype: object"
      ]
     },
     "execution_count": 27,
     "metadata": {},
     "output_type": "execute_result"
    }
   ],
   "source": [
    "train_df.dtypes"
   ]
  },
  {
   "cell_type": "code",
   "execution_count": 28,
   "metadata": {},
   "outputs": [
    {
     "data": {
      "text/plain": [
       "<matplotlib.axes._subplots.AxesSubplot at 0x268fc9b0>"
      ]
     },
     "execution_count": 28,
     "metadata": {},
     "output_type": "execute_result"
    },
    {
     "data": {
      "image/png": "[encoded data removed]",
      "text/plain": [
       "<Figure size 432x288 with 1 Axes>"
      ]
     },
     "metadata": {
      "needs_background": "light"
     },
     "output_type": "display_data"
    }
   ],
   "source": [
    "train_df[\"pickup_month\"].value_counts().sort_index().plot()"
   ]
  },
  {
   "cell_type": "code",
   "execution_count": 29,
   "metadata": {},
   "outputs": [],
   "source": [
    "train_df.sort_values('pickup_day_of_week', ascending = True, inplace= True)"
   ]
  },
  {
   "cell_type": "code",
   "execution_count": 30,
   "metadata": {},
   "outputs": [
    {
     "data": {
      "text/plain": [
       "<matplotlib.axes._subplots.AxesSubplot at 0x1a804ba8>"
      ]
     },
     "execution_count": 30,
     "metadata": {},
     "output_type": "execute_result"
    },
    {
     "data": {
      "image/png": "[encoded data removed]",
      "text/plain": [
       "<Figure size 432x288 with 1 Axes>"
      ]
     },
     "metadata": {
      "needs_background": "light"
     },
     "output_type": "display_data"
    }
   ],
   "source": [
    "train_df[\"pickup_day_of_week\"].value_counts().sort_index().plot()"
   ]
  },
  {
   "cell_type": "code",
   "execution_count": 31,
   "metadata": {},
   "outputs": [],
   "source": [
    "train_df['pickup_hour']=train_df['pickup_datetime'].dt.hour"
   ]
  },
  {
   "cell_type": "code",
   "execution_count": 32,
   "metadata": {},
   "outputs": [
    {
     "data": {
      "text/plain": [
       "<matplotlib.axes._subplots.AxesSubplot at 0x52ad8d0>"
      ]
     },
     "execution_count": 32,
     "metadata": {},
     "output_type": "execute_result"
    },
    {
     "data": {
      "image/png": "[encoded data removed]",
      "text/plain": [
       "<Figure size 432x288 with 1 Axes>"
      ]
     },
     "metadata": {
      "needs_background": "light"
     },
     "output_type": "display_data"
    }
   ],
   "source": [
    "train_df['pickup_hour'].value_counts().sort_index().plot()"
   ]
  },
  {
   "cell_type": "code",
   "execution_count": 33,
   "metadata": {},
   "outputs": [],
   "source": [
    "train_df['pickup_year']=train_df['pickup_datetime'].dt.year"
   ]
  },
  {
   "cell_type": "code",
   "execution_count": 34,
   "metadata": {},
   "outputs": [
    {
     "data": {
      "text/plain": [
       "<matplotlib.axes._subplots.AxesSubplot at 0x184b5470>"
      ]
     },
     "execution_count": 34,
     "metadata": {},
     "output_type": "execute_result"
    },
    {
     "data": {
      "image/png": "[encoded data removed]",
      "text/plain": [
       "<Figure size 432x288 with 1 Axes>"
      ]
     },
     "metadata": {
      "needs_background": "light"
     },
     "output_type": "display_data"
    }
   ],
   "source": [
    "train_df['pickup_year'].value_counts().sort_index().plot()"
   ]
  },
  {
   "cell_type": "code",
   "execution_count": 35,
   "metadata": {},
   "outputs": [
    {
     "data": {
      "text/plain": [
       "<matplotlib.axes._subplots.AxesSubplot at 0x1850b668>"
      ]
     },
     "execution_count": 35,
     "metadata": {},
     "output_type": "execute_result"
    },
    {
     "data": {
      "image/png": "[encoded data removed]",
      "text/plain": [
       "<Figure size 432x288 with 1 Axes>"
      ]
     },
     "metadata": {
      "needs_background": "light"
     },
     "output_type": "display_data"
    }
   ],
   "source": [
    "train_df.groupby('pickup_hour')['fare_amount'].mean().plot()"
   ]
  },
  {
   "cell_type": "code",
   "execution_count": 36,
   "metadata": {},
   "outputs": [
    {
     "data": {
      "text/plain": [
       "<matplotlib.axes._subplots.AxesSubplot at 0x1856b400>"
      ]
     },
     "execution_count": 36,
     "metadata": {},
     "output_type": "execute_result"
    },
    {
     "data": {
      "image/png": "[encoded data removed]",
      "text/plain": [
       "<Figure size 432x288 with 1 Axes>"
      ]
     },
     "metadata": {
      "needs_background": "light"
     },
     "output_type": "display_data"
    }
   ],
   "source": [
    "train_df.groupby('pickup_day_of_week')['fare_amount'].mean().plot()"
   ]
  },
  {
   "cell_type": "code",
   "execution_count": 37,
   "metadata": {},
   "outputs": [
    {
     "data": {
      "text/plain": [
       "<matplotlib.axes._subplots.AxesSubplot at 0x185b7240>"
      ]
     },
     "execution_count": 37,
     "metadata": {},
     "output_type": "execute_result"
    },
    {
     "data": {
      "image/png": "[encoded data removed]",
      "text/plain": [
       "<Figure size 432x288 with 1 Axes>"
      ]
     },
     "metadata": {
      "needs_background": "light"
     },
     "output_type": "display_data"
    }
   ],
   "source": [
    "train_df.groupby('pickup_month')['fare_amount'].mean().plot()"
   ]
  },
  {
   "cell_type": "code",
   "execution_count": 38,
   "metadata": {},
   "outputs": [
    {
     "name": "stdout",
     "output_type": "stream",
     "text": [
      "<class 'pandas.core.frame.DataFrame'>\n",
      "Int64Index: 1000000 entries, 0 to 305517\n",
      "Data columns (total 13 columns):\n",
      "key                   1000000 non-null object\n",
      "fare_amount           1000000 non-null float64\n",
      "pickup_datetime       1000000 non-null datetime64[ns]\n",
      "pickup_longitude      1000000 non-null float64\n",
      "pickup_latitude       1000000 non-null float64\n",
      "dropoff_longitude     999990 non-null float64\n",
      "dropoff_latitude      999990 non-null float64\n",
      "passenger_count       1000000 non-null int64\n",
      "pickup_month          1000000 non-null int64\n",
      "pickup_date           1000000 non-null object\n",
      "pickup_day_of_week    1000000 non-null int64\n",
      "pickup_hour           1000000 non-null int64\n",
      "pickup_year           1000000 non-null int64\n",
      "dtypes: datetime64[ns](1), float64(5), int64(5), object(2)\n",
      "memory usage: 106.8+ MB\n"
     ]
    }
   ],
   "source": [
    "train_df.info()"
   ]
  },
  {
   "cell_type": "code",
   "execution_count": 39,
   "metadata": {},
   "outputs": [
    {
     "data": {
      "text/html": [
       "<div>\n",
       "<style scoped>\n",
       "    .dataframe tbody tr th:only-of-type {\n",
       "        vertical-align: middle;\n",
       "    }\n",
       "\n",
       "    .dataframe tbody tr th {\n",
       "        vertical-align: top;\n",
       "    }\n",
       "\n",
       "    .dataframe thead th {\n",
       "        text-align: right;\n",
       "    }\n",
       "</style>\n",
       "<table border=\"1\" class=\"dataframe\">\n",
       "  <thead>\n",
       "    <tr style=\"text-align: right;\">\n",
       "      <th></th>\n",
       "      <th>fare_amount</th>\n",
       "      <th>pickup_longitude</th>\n",
       "      <th>pickup_latitude</th>\n",
       "      <th>dropoff_longitude</th>\n",
       "      <th>dropoff_latitude</th>\n",
       "      <th>passenger_count</th>\n",
       "      <th>pickup_month</th>\n",
       "      <th>pickup_day_of_week</th>\n",
       "      <th>pickup_hour</th>\n",
       "      <th>pickup_year</th>\n",
       "    </tr>\n",
       "  </thead>\n",
       "  <tbody>\n",
       "    <tr>\n",
       "      <th>count</th>\n",
       "      <td>1000000.000000</td>\n",
       "      <td>1000000.000000</td>\n",
       "      <td>1000000.000000</td>\n",
       "      <td>999990.000000</td>\n",
       "      <td>999990.000000</td>\n",
       "      <td>1000000.000000</td>\n",
       "      <td>1000000.000000</td>\n",
       "      <td>1000000.000000</td>\n",
       "      <td>1000000.000000</td>\n",
       "      <td>1000000.000000</td>\n",
       "    </tr>\n",
       "    <tr>\n",
       "      <th>mean</th>\n",
       "      <td>11.348079</td>\n",
       "      <td>-72.526640</td>\n",
       "      <td>39.929008</td>\n",
       "      <td>-72.527860</td>\n",
       "      <td>39.919954</td>\n",
       "      <td>1.684924</td>\n",
       "      <td>6.267875</td>\n",
       "      <td>3.039856</td>\n",
       "      <td>13.509477</td>\n",
       "      <td>2011.741106</td>\n",
       "    </tr>\n",
       "    <tr>\n",
       "      <th>std</th>\n",
       "      <td>9.822090</td>\n",
       "      <td>12.057937</td>\n",
       "      <td>7.626154</td>\n",
       "      <td>11.324494</td>\n",
       "      <td>8.201418</td>\n",
       "      <td>1.323911</td>\n",
       "      <td>3.436243</td>\n",
       "      <td>1.949970</td>\n",
       "      <td>6.513840</td>\n",
       "      <td>1.860754</td>\n",
       "    </tr>\n",
       "    <tr>\n",
       "      <th>min</th>\n",
       "      <td>-44.900000</td>\n",
       "      <td>-3377.680935</td>\n",
       "      <td>-3116.285383</td>\n",
       "      <td>-3383.296608</td>\n",
       "      <td>-3114.338567</td>\n",
       "      <td>0.000000</td>\n",
       "      <td>1.000000</td>\n",
       "      <td>0.000000</td>\n",
       "      <td>0.000000</td>\n",
       "      <td>2009.000000</td>\n",
       "    </tr>\n",
       "    <tr>\n",
       "      <th>25%</th>\n",
       "      <td>6.000000</td>\n",
       "      <td>-73.992060</td>\n",
       "      <td>40.734965</td>\n",
       "      <td>-73.991385</td>\n",
       "      <td>40.734046</td>\n",
       "      <td>1.000000</td>\n",
       "      <td>3.000000</td>\n",
       "      <td>1.000000</td>\n",
       "      <td>9.000000</td>\n",
       "      <td>2010.000000</td>\n",
       "    </tr>\n",
       "    <tr>\n",
       "      <th>50%</th>\n",
       "      <td>8.500000</td>\n",
       "      <td>-73.981792</td>\n",
       "      <td>40.752695</td>\n",
       "      <td>-73.980135</td>\n",
       "      <td>40.753166</td>\n",
       "      <td>1.000000</td>\n",
       "      <td>6.000000</td>\n",
       "      <td>3.000000</td>\n",
       "      <td>14.000000</td>\n",
       "      <td>2012.000000</td>\n",
       "    </tr>\n",
       "    <tr>\n",
       "      <th>75%</th>\n",
       "      <td>12.500000</td>\n",
       "      <td>-73.967094</td>\n",
       "      <td>40.767154</td>\n",
       "      <td>-73.963654</td>\n",
       "      <td>40.768129</td>\n",
       "      <td>2.000000</td>\n",
       "      <td>9.000000</td>\n",
       "      <td>5.000000</td>\n",
       "      <td>19.000000</td>\n",
       "      <td>2013.000000</td>\n",
       "    </tr>\n",
       "    <tr>\n",
       "      <th>max</th>\n",
       "      <td>500.000000</td>\n",
       "      <td>2522.271325</td>\n",
       "      <td>2621.628430</td>\n",
       "      <td>45.581619</td>\n",
       "      <td>1651.553433</td>\n",
       "      <td>208.000000</td>\n",
       "      <td>12.000000</td>\n",
       "      <td>6.000000</td>\n",
       "      <td>23.000000</td>\n",
       "      <td>2015.000000</td>\n",
       "    </tr>\n",
       "  </tbody>\n",
       "</table>\n",
       "</div>"
      ],
      "text/plain": [
       "          fare_amount  pickup_longitude  pickup_latitude  dropoff_longitude  \\\n",
       "count  1000000.000000    1000000.000000   1000000.000000      999990.000000   \n",
       "mean        11.348079        -72.526640        39.929008         -72.527860   \n",
       "std          9.822090         12.057937         7.626154          11.324494   \n",
       "min        -44.900000      -3377.680935     -3116.285383       -3383.296608   \n",
       "25%          6.000000        -73.992060        40.734965         -73.991385   \n",
       "50%          8.500000        -73.981792        40.752695         -73.980135   \n",
       "75%         12.500000        -73.967094        40.767154         -73.963654   \n",
       "max        500.000000       2522.271325      2621.628430          45.581619   \n",
       "\n",
       "       dropoff_latitude  passenger_count    pickup_month  pickup_day_of_week  \\\n",
       "count     999990.000000   1000000.000000  1000000.000000      1000000.000000   \n",
       "mean          39.919954         1.684924        6.267875            3.039856   \n",
       "std            8.201418         1.323911        3.436243            1.949970   \n",
       "min        -3114.338567         0.000000        1.000000            0.000000   \n",
       "25%           40.734046         1.000000        3.000000            1.000000   \n",
       "50%           40.753166         1.000000        6.000000            3.000000   \n",
       "75%           40.768129         2.000000        9.000000            5.000000   \n",
       "max         1651.553433       208.000000       12.000000            6.000000   \n",
       "\n",
       "          pickup_hour     pickup_year  \n",
       "count  1000000.000000  1000000.000000  \n",
       "mean        13.509477     2011.741106  \n",
       "std          6.513840        1.860754  \n",
       "min          0.000000     2009.000000  \n",
       "25%          9.000000     2010.000000  \n",
       "50%         14.000000     2012.000000  \n",
       "75%         19.000000     2013.000000  \n",
       "max         23.000000     2015.000000  "
      ]
     },
     "execution_count": 39,
     "metadata": {},
     "output_type": "execute_result"
    }
   ],
   "source": [
    "train_df.describe()"
   ]
  },
  {
   "cell_type": "code",
   "execution_count": 40,
   "metadata": {},
   "outputs": [
    {
     "data": {
      "text/plain": [
       "<matplotlib.axes._subplots.AxesSubplot at 0x1864aa20>"
      ]
     },
     "execution_count": 40,
     "metadata": {},
     "output_type": "execute_result"
    },
    {
     "data": {
      "image/png": "[encoded data removed]",
      "text/plain": [
       "<Figure size 1152x360 with 1 Axes>"
      ]
     },
     "metadata": {
      "needs_background": "light"
     },
     "output_type": "display_data"
    }
   ],
   "source": [
    "train_df[\"fare_amount\"].plot.box(figsize=(16,5))  "
   ]
  },
  {
   "cell_type": "code",
   "execution_count": 41,
   "metadata": {},
   "outputs": [],
   "source": [
    "train_df['id'] = train_df.index"
   ]
  },
  {
   "cell_type": "code",
   "execution_count": 42,
   "metadata": {},
   "outputs": [],
   "source": [
    "new =train_df.groupby(pd.Grouper(key='pickup_datetime', freq='15T')).apply(lambda x: x['id'])"
   ]
  },
  {
   "cell_type": "code",
   "execution_count": 43,
   "metadata": {},
   "outputs": [],
   "source": [
    "train_df['id'] = train_df.index"
   ]
  },
  {
   "cell_type": "code",
   "execution_count": 44,
   "metadata": {},
   "outputs": [
    {
     "data": {
      "text/plain": [
       "pickup_datetime            \n",
       "2009-01-01 00:00:00  880228    880228\n",
       "                     661006    661006\n",
       "                     756707    756707\n",
       "                     745620    745620\n",
       "2009-01-01 00:15:00  964259    964259\n",
       "                     915988    915988\n",
       "2009-01-01 00:30:00  297860    297860\n",
       "                     124750    124750\n",
       "                     876677    876677\n",
       "                     82469      82469\n",
       "2009-01-01 00:45:00  124445    124445\n",
       "                     973236    973236\n",
       "                     965480    965480\n",
       "2009-01-01 01:00:00  760438    760438\n",
       "                     894290    894290\n",
       "                     766885    766885\n",
       "2009-01-01 01:15:00  945037    945037\n",
       "                     76195      76195\n",
       "                     102243    102243\n",
       "                     773755    773755\n",
       "                     542263    542263\n",
       "2009-01-01 01:30:00  12739      12739\n",
       "2009-01-01 01:45:00  709206    709206\n",
       "                     307980    307980\n",
       "                     674362    674362\n",
       "2009-01-01 02:00:00  17546      17546\n",
       "                     25687      25687\n",
       "2009-01-01 02:15:00  719299    719299\n",
       "                     542248    542248\n",
       "                     304112    304112\n",
       "                                ...  \n",
       "2015-06-30 22:30:00  990467    990467\n",
       "                     525126    525126\n",
       "                     701682    701682\n",
       "                     392244    392244\n",
       "                     475897    475897\n",
       "                     569474    569474\n",
       "                     1428        1428\n",
       "                     828099    828099\n",
       "                     194700    194700\n",
       "2015-06-30 22:45:00  114820    114820\n",
       "                     391489    391489\n",
       "                     98082      98082\n",
       "2015-06-30 23:00:00  939905    939905\n",
       "                     337140    337140\n",
       "2015-06-30 23:15:00  450764    450764\n",
       "                     841675    841675\n",
       "                     350061    350061\n",
       "                     179298    179298\n",
       "                     647613    647613\n",
       "                     362807    362807\n",
       "                     182743    182743\n",
       "2015-06-30 23:30:00  506007    506007\n",
       "                     751978    751978\n",
       "                     240182    240182\n",
       "                     323864    323864\n",
       "                     286276    286276\n",
       "2015-06-30 23:45:00  955575    955575\n",
       "                     915826    915826\n",
       "                     751350    751350\n",
       "                     785182    785182\n",
       "Name: id, Length: 1000000, dtype: int64"
      ]
     },
     "execution_count": 44,
     "metadata": {},
     "output_type": "execute_result"
    }
   ],
   "source": [
    "new"
   ]
  },
  {
   "cell_type": "code",
   "execution_count": 45,
   "metadata": {},
   "outputs": [
    {
     "data": {
      "text/plain": [
       "TimeGrouper(key='pickup_datetime', freq=<15 * MonthEnds>, axis=0, sort=True, closed='right', label='right', how='mean', convention='e', base=0)"
      ]
     },
     "execution_count": 45,
     "metadata": {},
     "output_type": "execute_result"
    }
   ],
   "source": [
    "pd.Grouper(key='pickup_datetime', freq='15m')"
   ]
  },
  {
   "cell_type": "code",
   "execution_count": 46,
   "metadata": {},
   "outputs": [
    {
     "data": {
      "text/plain": [
       "DatetimeIndex(['2009-01-01 00:00:00', '2009-01-01 00:00:00',\n",
       "               '2009-01-01 00:00:00', '2009-01-01 00:00:00',\n",
       "               '2009-01-01 00:15:00', '2009-01-01 00:15:00',\n",
       "               '2009-01-01 00:30:00', '2009-01-01 00:30:00',\n",
       "               '2009-01-01 00:30:00', '2009-01-01 00:30:00',\n",
       "               ...\n",
       "               '2015-06-30 23:15:00', '2015-06-30 23:30:00',\n",
       "               '2015-06-30 23:30:00', '2015-06-30 23:30:00',\n",
       "               '2015-06-30 23:30:00', '2015-06-30 23:30:00',\n",
       "               '2015-06-30 23:45:00', '2015-06-30 23:45:00',\n",
       "               '2015-06-30 23:45:00', '2015-06-30 23:45:00'],\n",
       "              dtype='datetime64[ns]', name='pickup_datetime', length=1000000, freq='15T')"
      ]
     },
     "execution_count": 46,
     "metadata": {},
     "output_type": "execute_result"
    }
   ],
   "source": [
    "new.index.get_level_values('pickup_datetime')"
   ]
  },
  {
   "cell_type": "code",
   "execution_count": 47,
   "metadata": {},
   "outputs": [
    {
     "data": {
      "text/html": [
       "<div>\n",
       "<style scoped>\n",
       "    .dataframe tbody tr th:only-of-type {\n",
       "        vertical-align: middle;\n",
       "    }\n",
       "\n",
       "    .dataframe tbody tr th {\n",
       "        vertical-align: top;\n",
       "    }\n",
       "\n",
       "    .dataframe thead th {\n",
       "        text-align: right;\n",
       "    }\n",
       "</style>\n",
       "<table border=\"1\" class=\"dataframe\">\n",
       "  <thead>\n",
       "    <tr style=\"text-align: right;\">\n",
       "      <th></th>\n",
       "      <th>key</th>\n",
       "      <th>fare_amount</th>\n",
       "      <th>pickup_datetime</th>\n",
       "      <th>pickup_longitude</th>\n",
       "      <th>pickup_latitude</th>\n",
       "      <th>dropoff_longitude</th>\n",
       "      <th>dropoff_latitude</th>\n",
       "      <th>passenger_count</th>\n",
       "      <th>pickup_month</th>\n",
       "      <th>pickup_date</th>\n",
       "      <th>pickup_day_of_week</th>\n",
       "      <th>pickup_hour</th>\n",
       "      <th>pickup_year</th>\n",
       "      <th>id</th>\n",
       "    </tr>\n",
       "  </thead>\n",
       "  <tbody>\n",
       "  </tbody>\n",
       "</table>\n",
       "</div>"
      ],
      "text/plain": [
       "Empty DataFrame\n",
       "Columns: [key, fare_amount, pickup_datetime, pickup_longitude, pickup_latitude, dropoff_longitude, dropoff_latitude, passenger_count, pickup_month, pickup_date, pickup_day_of_week, pickup_hour, pickup_year, id]\n",
       "Index: []"
      ]
     },
     "execution_count": 47,
     "metadata": {},
     "output_type": "execute_result"
    }
   ],
   "source": [
    "train_df.loc[train_df[\"key\"] == '799435' ]"
   ]
  },
  {
   "cell_type": "code",
   "execution_count": 48,
   "metadata": {},
   "outputs": [
    {
     "data": {
      "text/plain": [
       "key                           object\n",
       "fare_amount                  float64\n",
       "pickup_datetime       datetime64[ns]\n",
       "pickup_longitude             float64\n",
       "pickup_latitude              float64\n",
       "dropoff_longitude            float64\n",
       "dropoff_latitude             float64\n",
       "passenger_count                int64\n",
       "pickup_month                   int64\n",
       "pickup_date                   object\n",
       "pickup_day_of_week             int64\n",
       "pickup_hour                    int64\n",
       "pickup_year                    int64\n",
       "id                             int64\n",
       "dtype: object"
      ]
     },
     "execution_count": 48,
     "metadata": {},
     "output_type": "execute_result"
    }
   ],
   "source": [
    "train_df.dtypes"
   ]
  },
  {
   "cell_type": "code",
   "execution_count": 49,
   "metadata": {},
   "outputs": [],
   "source": [
    "interval_df=pd.DataFrame({'interval':new.index.get_level_values(0), 'id':new.index.get_level_values(1)})"
   ]
  },
  {
   "cell_type": "code",
   "execution_count": 50,
   "metadata": {},
   "outputs": [
    {
     "data": {
      "text/plain": [
       "Int64Index([880228, 661006, 756707, 745620, 964259, 915988, 297860, 124750,\n",
       "            876677,  82469,\n",
       "            ...\n",
       "            182743, 506007, 751978, 240182, 323864, 286276, 955575, 915826,\n",
       "            751350, 785182],\n",
       "           dtype='int64', length=1000000)"
      ]
     },
     "execution_count": 50,
     "metadata": {},
     "output_type": "execute_result"
    }
   ],
   "source": [
    "new.index.get_level_values(1)"
   ]
  },
  {
   "cell_type": "code",
   "execution_count": 51,
   "metadata": {},
   "outputs": [
    {
     "data": {
      "text/plain": [
       "interval    datetime64[ns]\n",
       "id                   int64\n",
       "dtype: object"
      ]
     },
     "execution_count": 51,
     "metadata": {},
     "output_type": "execute_result"
    }
   ],
   "source": [
    "interval_df.dtypes"
   ]
  },
  {
   "cell_type": "code",
   "execution_count": 52,
   "metadata": {},
   "outputs": [
    {
     "data": {
      "text/html": [
       "<div>\n",
       "<style scoped>\n",
       "    .dataframe tbody tr th:only-of-type {\n",
       "        vertical-align: middle;\n",
       "    }\n",
       "\n",
       "    .dataframe tbody tr th {\n",
       "        vertical-align: top;\n",
       "    }\n",
       "\n",
       "    .dataframe thead th {\n",
       "        text-align: right;\n",
       "    }\n",
       "</style>\n",
       "<table border=\"1\" class=\"dataframe\">\n",
       "  <thead>\n",
       "    <tr style=\"text-align: right;\">\n",
       "      <th></th>\n",
       "      <th>interval</th>\n",
       "      <th>id</th>\n",
       "    </tr>\n",
       "  </thead>\n",
       "  <tbody>\n",
       "    <tr>\n",
       "      <th>999995</th>\n",
       "      <td>2015-06-30 23:30:00</td>\n",
       "      <td>286276</td>\n",
       "    </tr>\n",
       "    <tr>\n",
       "      <th>999996</th>\n",
       "      <td>2015-06-30 23:45:00</td>\n",
       "      <td>955575</td>\n",
       "    </tr>\n",
       "    <tr>\n",
       "      <th>999997</th>\n",
       "      <td>2015-06-30 23:45:00</td>\n",
       "      <td>915826</td>\n",
       "    </tr>\n",
       "    <tr>\n",
       "      <th>999998</th>\n",
       "      <td>2015-06-30 23:45:00</td>\n",
       "      <td>751350</td>\n",
       "    </tr>\n",
       "    <tr>\n",
       "      <th>999999</th>\n",
       "      <td>2015-06-30 23:45:00</td>\n",
       "      <td>785182</td>\n",
       "    </tr>\n",
       "  </tbody>\n",
       "</table>\n",
       "</div>"
      ],
      "text/plain": [
       "                  interval      id\n",
       "999995 2015-06-30 23:30:00  286276\n",
       "999996 2015-06-30 23:45:00  955575\n",
       "999997 2015-06-30 23:45:00  915826\n",
       "999998 2015-06-30 23:45:00  751350\n",
       "999999 2015-06-30 23:45:00  785182"
      ]
     },
     "execution_count": 52,
     "metadata": {},
     "output_type": "execute_result"
    }
   ],
   "source": [
    "interval_df.tail()"
   ]
  },
  {
   "cell_type": "code",
   "execution_count": 53,
   "metadata": {},
   "outputs": [
    {
     "data": {
      "text/html": [
       "<div>\n",
       "<style scoped>\n",
       "    .dataframe tbody tr th:only-of-type {\n",
       "        vertical-align: middle;\n",
       "    }\n",
       "\n",
       "    .dataframe tbody tr th {\n",
       "        vertical-align: top;\n",
       "    }\n",
       "\n",
       "    .dataframe thead th {\n",
       "        text-align: right;\n",
       "    }\n",
       "</style>\n",
       "<table border=\"1\" class=\"dataframe\">\n",
       "  <thead>\n",
       "    <tr style=\"text-align: right;\">\n",
       "      <th></th>\n",
       "      <th>key</th>\n",
       "      <th>fare_amount</th>\n",
       "      <th>pickup_datetime</th>\n",
       "      <th>pickup_longitude</th>\n",
       "      <th>pickup_latitude</th>\n",
       "      <th>dropoff_longitude</th>\n",
       "      <th>dropoff_latitude</th>\n",
       "      <th>passenger_count</th>\n",
       "      <th>pickup_month</th>\n",
       "      <th>pickup_date</th>\n",
       "      <th>pickup_day_of_week</th>\n",
       "      <th>pickup_hour</th>\n",
       "      <th>pickup_year</th>\n",
       "      <th>id</th>\n",
       "    </tr>\n",
       "  </thead>\n",
       "  <tbody>\n",
       "    <tr>\n",
       "      <th>751350</th>\n",
       "      <td>2015-06-30 23:53:23.0000002</td>\n",
       "      <td>3.5</td>\n",
       "      <td>2015-06-30 23:53:23</td>\n",
       "      <td>-73.97802</td>\n",
       "      <td>40.757439</td>\n",
       "      <td>-73.980705</td>\n",
       "      <td>40.753544</td>\n",
       "      <td>1</td>\n",
       "      <td>6</td>\n",
       "      <td>2015-06-30</td>\n",
       "      <td>1</td>\n",
       "      <td>23</td>\n",
       "      <td>2015</td>\n",
       "      <td>751350</td>\n",
       "    </tr>\n",
       "  </tbody>\n",
       "</table>\n",
       "</div>"
      ],
      "text/plain": [
       "                                key  fare_amount     pickup_datetime  \\\n",
       "751350  2015-06-30 23:53:23.0000002          3.5 2015-06-30 23:53:23   \n",
       "\n",
       "        pickup_longitude  pickup_latitude  dropoff_longitude  \\\n",
       "751350         -73.97802        40.757439         -73.980705   \n",
       "\n",
       "        dropoff_latitude  passenger_count  pickup_month pickup_date  \\\n",
       "751350         40.753544                1             6  2015-06-30   \n",
       "\n",
       "        pickup_day_of_week  pickup_hour  pickup_year      id  \n",
       "751350                   1           23         2015  751350  "
      ]
     },
     "execution_count": 53,
     "metadata": {},
     "output_type": "execute_result"
    }
   ],
   "source": [
    "train_df.loc[train_df[\"id\"] == 751350]"
   ]
  },
  {
   "cell_type": "code",
   "execution_count": 54,
   "metadata": {},
   "outputs": [],
   "source": [
    "train_df=pd.merge(train_df, interval_df, left_on = 'id', right_on = 'id', how = 'inner')"
   ]
  },
  {
   "cell_type": "code",
   "execution_count": 55,
   "metadata": {},
   "outputs": [
    {
     "data": {
      "text/html": [
       "<div>\n",
       "<style scoped>\n",
       "    .dataframe tbody tr th:only-of-type {\n",
       "        vertical-align: middle;\n",
       "    }\n",
       "\n",
       "    .dataframe tbody tr th {\n",
       "        vertical-align: top;\n",
       "    }\n",
       "\n",
       "    .dataframe thead th {\n",
       "        text-align: right;\n",
       "    }\n",
       "</style>\n",
       "<table border=\"1\" class=\"dataframe\">\n",
       "  <thead>\n",
       "    <tr style=\"text-align: right;\">\n",
       "      <th></th>\n",
       "      <th>key</th>\n",
       "      <th>fare_amount</th>\n",
       "      <th>pickup_datetime</th>\n",
       "      <th>pickup_longitude</th>\n",
       "      <th>pickup_latitude</th>\n",
       "      <th>dropoff_longitude</th>\n",
       "      <th>dropoff_latitude</th>\n",
       "      <th>passenger_count</th>\n",
       "      <th>pickup_month</th>\n",
       "      <th>pickup_date</th>\n",
       "      <th>pickup_day_of_week</th>\n",
       "      <th>pickup_hour</th>\n",
       "      <th>pickup_year</th>\n",
       "      <th>id</th>\n",
       "      <th>interval</th>\n",
       "    </tr>\n",
       "  </thead>\n",
       "  <tbody>\n",
       "    <tr>\n",
       "      <th>0</th>\n",
       "      <td>2009-06-15 17:26:21.0000001</td>\n",
       "      <td>4.5</td>\n",
       "      <td>2009-06-15 17:26:21</td>\n",
       "      <td>-73.844311</td>\n",
       "      <td>40.721319</td>\n",
       "      <td>-73.841610</td>\n",
       "      <td>40.712278</td>\n",
       "      <td>1</td>\n",
       "      <td>6</td>\n",
       "      <td>2009-06-15</td>\n",
       "      <td>0</td>\n",
       "      <td>17</td>\n",
       "      <td>2009</td>\n",
       "      <td>0</td>\n",
       "      <td>2009-06-15 17:15:00</td>\n",
       "    </tr>\n",
       "    <tr>\n",
       "      <th>1</th>\n",
       "      <td>2009-08-03 23:01:00.00000077</td>\n",
       "      <td>4.5</td>\n",
       "      <td>2009-08-03 23:01:00</td>\n",
       "      <td>-73.992147</td>\n",
       "      <td>40.762532</td>\n",
       "      <td>-73.984915</td>\n",
       "      <td>40.768142</td>\n",
       "      <td>5</td>\n",
       "      <td>8</td>\n",
       "      <td>2009-08-03</td>\n",
       "      <td>0</td>\n",
       "      <td>23</td>\n",
       "      <td>2009</td>\n",
       "      <td>410475</td>\n",
       "      <td>2009-08-03 23:00:00</td>\n",
       "    </tr>\n",
       "    <tr>\n",
       "      <th>2</th>\n",
       "      <td>2011-07-11 13:08:09.0000001</td>\n",
       "      <td>10.9</td>\n",
       "      <td>2011-07-11 13:08:09</td>\n",
       "      <td>-73.993900</td>\n",
       "      <td>40.750800</td>\n",
       "      <td>-74.014800</td>\n",
       "      <td>40.718000</td>\n",
       "      <td>1</td>\n",
       "      <td>7</td>\n",
       "      <td>2011-07-11</td>\n",
       "      <td>0</td>\n",
       "      <td>13</td>\n",
       "      <td>2011</td>\n",
       "      <td>410487</td>\n",
       "      <td>2011-07-11 13:00:00</td>\n",
       "    </tr>\n",
       "    <tr>\n",
       "      <th>3</th>\n",
       "      <td>2012-12-17 22:58:00.000000163</td>\n",
       "      <td>29.0</td>\n",
       "      <td>2012-12-17 22:58:00</td>\n",
       "      <td>-73.979827</td>\n",
       "      <td>40.766015</td>\n",
       "      <td>-73.962497</td>\n",
       "      <td>40.677382</td>\n",
       "      <td>3</td>\n",
       "      <td>12</td>\n",
       "      <td>2012-12-17</td>\n",
       "      <td>0</td>\n",
       "      <td>22</td>\n",
       "      <td>2012</td>\n",
       "      <td>410491</td>\n",
       "      <td>2012-12-17 22:45:00</td>\n",
       "    </tr>\n",
       "    <tr>\n",
       "      <th>4</th>\n",
       "      <td>2011-02-28 22:03:00.000000115</td>\n",
       "      <td>6.1</td>\n",
       "      <td>2011-02-28 22:03:00</td>\n",
       "      <td>-73.995742</td>\n",
       "      <td>40.726778</td>\n",
       "      <td>-73.978080</td>\n",
       "      <td>40.721325</td>\n",
       "      <td>1</td>\n",
       "      <td>2</td>\n",
       "      <td>2011-02-28</td>\n",
       "      <td>0</td>\n",
       "      <td>22</td>\n",
       "      <td>2011</td>\n",
       "      <td>410493</td>\n",
       "      <td>2011-02-28 22:00:00</td>\n",
       "    </tr>\n",
       "  </tbody>\n",
       "</table>\n",
       "</div>"
      ],
      "text/plain": [
       "                             key  fare_amount     pickup_datetime  \\\n",
       "0    2009-06-15 17:26:21.0000001          4.5 2009-06-15 17:26:21   \n",
       "1   2009-08-03 23:01:00.00000077          4.5 2009-08-03 23:01:00   \n",
       "2    2011-07-11 13:08:09.0000001         10.9 2011-07-11 13:08:09   \n",
       "3  2012-12-17 22:58:00.000000163         29.0 2012-12-17 22:58:00   \n",
       "4  2011-02-28 22:03:00.000000115          6.1 2011-02-28 22:03:00   \n",
       "\n",
       "   pickup_longitude  pickup_latitude  dropoff_longitude  dropoff_latitude  \\\n",
       "0        -73.844311        40.721319         -73.841610         40.712278   \n",
       "1        -73.992147        40.762532         -73.984915         40.768142   \n",
       "2        -73.993900        40.750800         -74.014800         40.718000   \n",
       "3        -73.979827        40.766015         -73.962497         40.677382   \n",
       "4        -73.995742        40.726778         -73.978080         40.721325   \n",
       "\n",
       "   passenger_count  pickup_month pickup_date  pickup_day_of_week  pickup_hour  \\\n",
       "0                1             6  2009-06-15                   0           17   \n",
       "1                5             8  2009-08-03                   0           23   \n",
       "2                1             7  2011-07-11                   0           13   \n",
       "3                3            12  2012-12-17                   0           22   \n",
       "4                1             2  2011-02-28                   0           22   \n",
       "\n",
       "   pickup_year      id            interval  \n",
       "0         2009       0 2009-06-15 17:15:00  \n",
       "1         2009  410475 2009-08-03 23:00:00  \n",
       "2         2011  410487 2011-07-11 13:00:00  \n",
       "3         2012  410491 2012-12-17 22:45:00  \n",
       "4         2011  410493 2011-02-28 22:00:00  "
      ]
     },
     "execution_count": 55,
     "metadata": {},
     "output_type": "execute_result"
    }
   ],
   "source": [
    "train_df.head()"
   ]
  },
  {
   "cell_type": "code",
   "execution_count": 56,
   "metadata": {},
   "outputs": [],
   "source": [
    "train_df['interval_time']=train_df['interval'].dt.time"
   ]
  },
  {
   "cell_type": "code",
   "execution_count": 57,
   "metadata": {},
   "outputs": [
    {
     "data": {
      "text/html": [
       "<div>\n",
       "<style scoped>\n",
       "    .dataframe tbody tr th:only-of-type {\n",
       "        vertical-align: middle;\n",
       "    }\n",
       "\n",
       "    .dataframe tbody tr th {\n",
       "        vertical-align: top;\n",
       "    }\n",
       "\n",
       "    .dataframe thead th {\n",
       "        text-align: right;\n",
       "    }\n",
       "</style>\n",
       "<table border=\"1\" class=\"dataframe\">\n",
       "  <thead>\n",
       "    <tr style=\"text-align: right;\">\n",
       "      <th></th>\n",
       "      <th>key</th>\n",
       "      <th>fare_amount</th>\n",
       "      <th>pickup_datetime</th>\n",
       "      <th>pickup_longitude</th>\n",
       "      <th>pickup_latitude</th>\n",
       "      <th>dropoff_longitude</th>\n",
       "      <th>dropoff_latitude</th>\n",
       "      <th>passenger_count</th>\n",
       "      <th>pickup_month</th>\n",
       "      <th>pickup_date</th>\n",
       "      <th>pickup_day_of_week</th>\n",
       "      <th>pickup_hour</th>\n",
       "      <th>pickup_year</th>\n",
       "      <th>id</th>\n",
       "      <th>interval</th>\n",
       "      <th>interval_time</th>\n",
       "    </tr>\n",
       "  </thead>\n",
       "  <tbody>\n",
       "    <tr>\n",
       "      <th>0</th>\n",
       "      <td>2009-06-15 17:26:21.0000001</td>\n",
       "      <td>4.5</td>\n",
       "      <td>2009-06-15 17:26:21</td>\n",
       "      <td>-73.844311</td>\n",
       "      <td>40.721319</td>\n",
       "      <td>-73.841610</td>\n",
       "      <td>40.712278</td>\n",
       "      <td>1</td>\n",
       "      <td>6</td>\n",
       "      <td>2009-06-15</td>\n",
       "      <td>0</td>\n",
       "      <td>17</td>\n",
       "      <td>2009</td>\n",
       "      <td>0</td>\n",
       "      <td>2009-06-15 17:15:00</td>\n",
       "      <td>17:15:00</td>\n",
       "    </tr>\n",
       "    <tr>\n",
       "      <th>1</th>\n",
       "      <td>2009-08-03 23:01:00.00000077</td>\n",
       "      <td>4.5</td>\n",
       "      <td>2009-08-03 23:01:00</td>\n",
       "      <td>-73.992147</td>\n",
       "      <td>40.762532</td>\n",
       "      <td>-73.984915</td>\n",
       "      <td>40.768142</td>\n",
       "      <td>5</td>\n",
       "      <td>8</td>\n",
       "      <td>2009-08-03</td>\n",
       "      <td>0</td>\n",
       "      <td>23</td>\n",
       "      <td>2009</td>\n",
       "      <td>410475</td>\n",
       "      <td>2009-08-03 23:00:00</td>\n",
       "      <td>23:00:00</td>\n",
       "    </tr>\n",
       "    <tr>\n",
       "      <th>2</th>\n",
       "      <td>2011-07-11 13:08:09.0000001</td>\n",
       "      <td>10.9</td>\n",
       "      <td>2011-07-11 13:08:09</td>\n",
       "      <td>-73.993900</td>\n",
       "      <td>40.750800</td>\n",
       "      <td>-74.014800</td>\n",
       "      <td>40.718000</td>\n",
       "      <td>1</td>\n",
       "      <td>7</td>\n",
       "      <td>2011-07-11</td>\n",
       "      <td>0</td>\n",
       "      <td>13</td>\n",
       "      <td>2011</td>\n",
       "      <td>410487</td>\n",
       "      <td>2011-07-11 13:00:00</td>\n",
       "      <td>13:00:00</td>\n",
       "    </tr>\n",
       "    <tr>\n",
       "      <th>3</th>\n",
       "      <td>2012-12-17 22:58:00.000000163</td>\n",
       "      <td>29.0</td>\n",
       "      <td>2012-12-17 22:58:00</td>\n",
       "      <td>-73.979827</td>\n",
       "      <td>40.766015</td>\n",
       "      <td>-73.962497</td>\n",
       "      <td>40.677382</td>\n",
       "      <td>3</td>\n",
       "      <td>12</td>\n",
       "      <td>2012-12-17</td>\n",
       "      <td>0</td>\n",
       "      <td>22</td>\n",
       "      <td>2012</td>\n",
       "      <td>410491</td>\n",
       "      <td>2012-12-17 22:45:00</td>\n",
       "      <td>22:45:00</td>\n",
       "    </tr>\n",
       "    <tr>\n",
       "      <th>4</th>\n",
       "      <td>2011-02-28 22:03:00.000000115</td>\n",
       "      <td>6.1</td>\n",
       "      <td>2011-02-28 22:03:00</td>\n",
       "      <td>-73.995742</td>\n",
       "      <td>40.726778</td>\n",
       "      <td>-73.978080</td>\n",
       "      <td>40.721325</td>\n",
       "      <td>1</td>\n",
       "      <td>2</td>\n",
       "      <td>2011-02-28</td>\n",
       "      <td>0</td>\n",
       "      <td>22</td>\n",
       "      <td>2011</td>\n",
       "      <td>410493</td>\n",
       "      <td>2011-02-28 22:00:00</td>\n",
       "      <td>22:00:00</td>\n",
       "    </tr>\n",
       "  </tbody>\n",
       "</table>\n",
       "</div>"
      ],
      "text/plain": [
       "                             key  fare_amount     pickup_datetime  \\\n",
       "0    2009-06-15 17:26:21.0000001          4.5 2009-06-15 17:26:21   \n",
       "1   2009-08-03 23:01:00.00000077          4.5 2009-08-03 23:01:00   \n",
       "2    2011-07-11 13:08:09.0000001         10.9 2011-07-11 13:08:09   \n",
       "3  2012-12-17 22:58:00.000000163         29.0 2012-12-17 22:58:00   \n",
       "4  2011-02-28 22:03:00.000000115          6.1 2011-02-28 22:03:00   \n",
       "\n",
       "   pickup_longitude  pickup_latitude  dropoff_longitude  dropoff_latitude  \\\n",
       "0        -73.844311        40.721319         -73.841610         40.712278   \n",
       "1        -73.992147        40.762532         -73.984915         40.768142   \n",
       "2        -73.993900        40.750800         -74.014800         40.718000   \n",
       "3        -73.979827        40.766015         -73.962497         40.677382   \n",
       "4        -73.995742        40.726778         -73.978080         40.721325   \n",
       "\n",
       "   passenger_count  pickup_month pickup_date  pickup_day_of_week  pickup_hour  \\\n",
       "0                1             6  2009-06-15                   0           17   \n",
       "1                5             8  2009-08-03                   0           23   \n",
       "2                1             7  2011-07-11                   0           13   \n",
       "3                3            12  2012-12-17                   0           22   \n",
       "4                1             2  2011-02-28                   0           22   \n",
       "\n",
       "   pickup_year      id            interval interval_time  \n",
       "0         2009       0 2009-06-15 17:15:00      17:15:00  \n",
       "1         2009  410475 2009-08-03 23:00:00      23:00:00  \n",
       "2         2011  410487 2011-07-11 13:00:00      13:00:00  \n",
       "3         2012  410491 2012-12-17 22:45:00      22:45:00  \n",
       "4         2011  410493 2011-02-28 22:00:00      22:00:00  "
      ]
     },
     "execution_count": 57,
     "metadata": {},
     "output_type": "execute_result"
    }
   ],
   "source": [
    "train_df.head()"
   ]
  },
  {
   "cell_type": "code",
   "execution_count": 58,
   "metadata": {},
   "outputs": [
    {
     "data": {
      "text/plain": [
       "<matplotlib.axes._subplots.AxesSubplot at 0x1862b240>"
      ]
     },
     "execution_count": 58,
     "metadata": {},
     "output_type": "execute_result"
    },
    {
     "data": {
      "image/png": "[encoded data removed]",
      "text/plain": [
       "<Figure size 432x288 with 1 Axes>"
      ]
     },
     "metadata": {
      "needs_background": "light"
     },
     "output_type": "display_data"
    }
   ],
   "source": [
    "train_df['interval_time'].value_counts().sort_index().plot()"
   ]
  },
  {
   "cell_type": "code",
   "execution_count": 59,
   "metadata": {},
   "outputs": [],
   "source": [
    "train_df[\"pickup_longitude\"] = train_df['pickup_longitude'].apply(lambda x:round(x,2))\n"
   ]
  },
  {
   "cell_type": "code",
   "execution_count": 60,
   "metadata": {},
   "outputs": [],
   "source": [
    "train_df[\"pickup_latitude\"] = train_df['pickup_latitude'].apply(lambda x:round(x,2))\n"
   ]
  },
  {
   "cell_type": "code",
   "execution_count": 61,
   "metadata": {},
   "outputs": [
    {
     "data": {
      "text/html": [
       "<div>\n",
       "<style scoped>\n",
       "    .dataframe tbody tr th:only-of-type {\n",
       "        vertical-align: middle;\n",
       "    }\n",
       "\n",
       "    .dataframe tbody tr th {\n",
       "        vertical-align: top;\n",
       "    }\n",
       "\n",
       "    .dataframe thead th {\n",
       "        text-align: right;\n",
       "    }\n",
       "</style>\n",
       "<table border=\"1\" class=\"dataframe\">\n",
       "  <thead>\n",
       "    <tr style=\"text-align: right;\">\n",
       "      <th></th>\n",
       "      <th>key</th>\n",
       "      <th>fare_amount</th>\n",
       "      <th>pickup_datetime</th>\n",
       "      <th>pickup_longitude</th>\n",
       "      <th>pickup_latitude</th>\n",
       "      <th>dropoff_longitude</th>\n",
       "      <th>dropoff_latitude</th>\n",
       "      <th>passenger_count</th>\n",
       "      <th>pickup_month</th>\n",
       "      <th>pickup_date</th>\n",
       "      <th>pickup_day_of_week</th>\n",
       "      <th>pickup_hour</th>\n",
       "      <th>pickup_year</th>\n",
       "      <th>id</th>\n",
       "      <th>interval</th>\n",
       "      <th>interval_time</th>\n",
       "    </tr>\n",
       "  </thead>\n",
       "  <tbody>\n",
       "    <tr>\n",
       "      <th>0</th>\n",
       "      <td>2009-06-15 17:26:21.0000001</td>\n",
       "      <td>4.5</td>\n",
       "      <td>2009-06-15 17:26:21</td>\n",
       "      <td>-73.84</td>\n",
       "      <td>40.72</td>\n",
       "      <td>-73.841610</td>\n",
       "      <td>40.712278</td>\n",
       "      <td>1</td>\n",
       "      <td>6</td>\n",
       "      <td>2009-06-15</td>\n",
       "      <td>0</td>\n",
       "      <td>17</td>\n",
       "      <td>2009</td>\n",
       "      <td>0</td>\n",
       "      <td>2009-06-15 17:15:00</td>\n",
       "      <td>17:15:00</td>\n",
       "    </tr>\n",
       "    <tr>\n",
       "      <th>1</th>\n",
       "      <td>2009-08-03 23:01:00.00000077</td>\n",
       "      <td>4.5</td>\n",
       "      <td>2009-08-03 23:01:00</td>\n",
       "      <td>-73.99</td>\n",
       "      <td>40.76</td>\n",
       "      <td>-73.984915</td>\n",
       "      <td>40.768142</td>\n",
       "      <td>5</td>\n",
       "      <td>8</td>\n",
       "      <td>2009-08-03</td>\n",
       "      <td>0</td>\n",
       "      <td>23</td>\n",
       "      <td>2009</td>\n",
       "      <td>410475</td>\n",
       "      <td>2009-08-03 23:00:00</td>\n",
       "      <td>23:00:00</td>\n",
       "    </tr>\n",
       "    <tr>\n",
       "      <th>2</th>\n",
       "      <td>2011-07-11 13:08:09.0000001</td>\n",
       "      <td>10.9</td>\n",
       "      <td>2011-07-11 13:08:09</td>\n",
       "      <td>-73.99</td>\n",
       "      <td>40.75</td>\n",
       "      <td>-74.014800</td>\n",
       "      <td>40.718000</td>\n",
       "      <td>1</td>\n",
       "      <td>7</td>\n",
       "      <td>2011-07-11</td>\n",
       "      <td>0</td>\n",
       "      <td>13</td>\n",
       "      <td>2011</td>\n",
       "      <td>410487</td>\n",
       "      <td>2011-07-11 13:00:00</td>\n",
       "      <td>13:00:00</td>\n",
       "    </tr>\n",
       "    <tr>\n",
       "      <th>3</th>\n",
       "      <td>2012-12-17 22:58:00.000000163</td>\n",
       "      <td>29.0</td>\n",
       "      <td>2012-12-17 22:58:00</td>\n",
       "      <td>-73.98</td>\n",
       "      <td>40.77</td>\n",
       "      <td>-73.962497</td>\n",
       "      <td>40.677382</td>\n",
       "      <td>3</td>\n",
       "      <td>12</td>\n",
       "      <td>2012-12-17</td>\n",
       "      <td>0</td>\n",
       "      <td>22</td>\n",
       "      <td>2012</td>\n",
       "      <td>410491</td>\n",
       "      <td>2012-12-17 22:45:00</td>\n",
       "      <td>22:45:00</td>\n",
       "    </tr>\n",
       "    <tr>\n",
       "      <th>4</th>\n",
       "      <td>2011-02-28 22:03:00.000000115</td>\n",
       "      <td>6.1</td>\n",
       "      <td>2011-02-28 22:03:00</td>\n",
       "      <td>-74.00</td>\n",
       "      <td>40.73</td>\n",
       "      <td>-73.978080</td>\n",
       "      <td>40.721325</td>\n",
       "      <td>1</td>\n",
       "      <td>2</td>\n",
       "      <td>2011-02-28</td>\n",
       "      <td>0</td>\n",
       "      <td>22</td>\n",
       "      <td>2011</td>\n",
       "      <td>410493</td>\n",
       "      <td>2011-02-28 22:00:00</td>\n",
       "      <td>22:00:00</td>\n",
       "    </tr>\n",
       "  </tbody>\n",
       "</table>\n",
       "</div>"
      ],
      "text/plain": [
       "                             key  fare_amount     pickup_datetime  \\\n",
       "0    2009-06-15 17:26:21.0000001          4.5 2009-06-15 17:26:21   \n",
       "1   2009-08-03 23:01:00.00000077          4.5 2009-08-03 23:01:00   \n",
       "2    2011-07-11 13:08:09.0000001         10.9 2011-07-11 13:08:09   \n",
       "3  2012-12-17 22:58:00.000000163         29.0 2012-12-17 22:58:00   \n",
       "4  2011-02-28 22:03:00.000000115          6.1 2011-02-28 22:03:00   \n",
       "\n",
       "   pickup_longitude  pickup_latitude  dropoff_longitude  dropoff_latitude  \\\n",
       "0            -73.84            40.72         -73.841610         40.712278   \n",
       "1            -73.99            40.76         -73.984915         40.768142   \n",
       "2            -73.99            40.75         -74.014800         40.718000   \n",
       "3            -73.98            40.77         -73.962497         40.677382   \n",
       "4            -74.00            40.73         -73.978080         40.721325   \n",
       "\n",
       "   passenger_count  pickup_month pickup_date  pickup_day_of_week  pickup_hour  \\\n",
       "0                1             6  2009-06-15                   0           17   \n",
       "1                5             8  2009-08-03                   0           23   \n",
       "2                1             7  2011-07-11                   0           13   \n",
       "3                3            12  2012-12-17                   0           22   \n",
       "4                1             2  2011-02-28                   0           22   \n",
       "\n",
       "   pickup_year      id            interval interval_time  \n",
       "0         2009       0 2009-06-15 17:15:00      17:15:00  \n",
       "1         2009  410475 2009-08-03 23:00:00      23:00:00  \n",
       "2         2011  410487 2011-07-11 13:00:00      13:00:00  \n",
       "3         2012  410491 2012-12-17 22:45:00      22:45:00  \n",
       "4         2011  410493 2011-02-28 22:00:00      22:00:00  "
      ]
     },
     "execution_count": 61,
     "metadata": {},
     "output_type": "execute_result"
    }
   ],
   "source": [
    "train_df.head()"
   ]
  },
  {
   "cell_type": "code",
   "execution_count": 62,
   "metadata": {},
   "outputs": [],
   "source": [
    "train_df['demand']=train_df.groupby(['interval','pickup_longitude','pickup_latitude'])['interval'].transform('count')"
   ]
  },
  {
   "cell_type": "code",
   "execution_count": 63,
   "metadata": {},
   "outputs": [
    {
     "data": {
      "text/html": [
       "<div>\n",
       "<style scoped>\n",
       "    .dataframe tbody tr th:only-of-type {\n",
       "        vertical-align: middle;\n",
       "    }\n",
       "\n",
       "    .dataframe tbody tr th {\n",
       "        vertical-align: top;\n",
       "    }\n",
       "\n",
       "    .dataframe thead th {\n",
       "        text-align: right;\n",
       "    }\n",
       "</style>\n",
       "<table border=\"1\" class=\"dataframe\">\n",
       "  <thead>\n",
       "    <tr style=\"text-align: right;\">\n",
       "      <th></th>\n",
       "      <th>key</th>\n",
       "      <th>fare_amount</th>\n",
       "      <th>pickup_datetime</th>\n",
       "      <th>pickup_longitude</th>\n",
       "      <th>pickup_latitude</th>\n",
       "      <th>dropoff_longitude</th>\n",
       "      <th>dropoff_latitude</th>\n",
       "      <th>passenger_count</th>\n",
       "      <th>pickup_month</th>\n",
       "      <th>pickup_date</th>\n",
       "      <th>pickup_day_of_week</th>\n",
       "      <th>pickup_hour</th>\n",
       "      <th>pickup_year</th>\n",
       "      <th>id</th>\n",
       "      <th>interval</th>\n",
       "      <th>interval_time</th>\n",
       "      <th>demand</th>\n",
       "    </tr>\n",
       "  </thead>\n",
       "  <tbody>\n",
       "    <tr>\n",
       "      <th>0</th>\n",
       "      <td>2009-06-15 17:26:21.0000001</td>\n",
       "      <td>4.5</td>\n",
       "      <td>2009-06-15 17:26:21</td>\n",
       "      <td>-73.84</td>\n",
       "      <td>40.72</td>\n",
       "      <td>-73.841610</td>\n",
       "      <td>40.712278</td>\n",
       "      <td>1</td>\n",
       "      <td>6</td>\n",
       "      <td>2009-06-15</td>\n",
       "      <td>0</td>\n",
       "      <td>17</td>\n",
       "      <td>2009</td>\n",
       "      <td>0</td>\n",
       "      <td>2009-06-15 17:15:00</td>\n",
       "      <td>17:15:00</td>\n",
       "      <td>1</td>\n",
       "    </tr>\n",
       "    <tr>\n",
       "      <th>1</th>\n",
       "      <td>2009-08-03 23:01:00.00000077</td>\n",
       "      <td>4.5</td>\n",
       "      <td>2009-08-03 23:01:00</td>\n",
       "      <td>-73.99</td>\n",
       "      <td>40.76</td>\n",
       "      <td>-73.984915</td>\n",
       "      <td>40.768142</td>\n",
       "      <td>5</td>\n",
       "      <td>8</td>\n",
       "      <td>2009-08-03</td>\n",
       "      <td>0</td>\n",
       "      <td>23</td>\n",
       "      <td>2009</td>\n",
       "      <td>410475</td>\n",
       "      <td>2009-08-03 23:00:00</td>\n",
       "      <td>23:00:00</td>\n",
       "      <td>1</td>\n",
       "    </tr>\n",
       "    <tr>\n",
       "      <th>2</th>\n",
       "      <td>2011-07-11 13:08:09.0000001</td>\n",
       "      <td>10.9</td>\n",
       "      <td>2011-07-11 13:08:09</td>\n",
       "      <td>-73.99</td>\n",
       "      <td>40.75</td>\n",
       "      <td>-74.014800</td>\n",
       "      <td>40.718000</td>\n",
       "      <td>1</td>\n",
       "      <td>7</td>\n",
       "      <td>2011-07-11</td>\n",
       "      <td>0</td>\n",
       "      <td>13</td>\n",
       "      <td>2011</td>\n",
       "      <td>410487</td>\n",
       "      <td>2011-07-11 13:00:00</td>\n",
       "      <td>13:00:00</td>\n",
       "      <td>3</td>\n",
       "    </tr>\n",
       "    <tr>\n",
       "      <th>3</th>\n",
       "      <td>2012-12-17 22:58:00.000000163</td>\n",
       "      <td>29.0</td>\n",
       "      <td>2012-12-17 22:58:00</td>\n",
       "      <td>-73.98</td>\n",
       "      <td>40.77</td>\n",
       "      <td>-73.962497</td>\n",
       "      <td>40.677382</td>\n",
       "      <td>3</td>\n",
       "      <td>12</td>\n",
       "      <td>2012-12-17</td>\n",
       "      <td>0</td>\n",
       "      <td>22</td>\n",
       "      <td>2012</td>\n",
       "      <td>410491</td>\n",
       "      <td>2012-12-17 22:45:00</td>\n",
       "      <td>22:45:00</td>\n",
       "      <td>1</td>\n",
       "    </tr>\n",
       "    <tr>\n",
       "      <th>4</th>\n",
       "      <td>2011-02-28 22:03:00.000000115</td>\n",
       "      <td>6.1</td>\n",
       "      <td>2011-02-28 22:03:00</td>\n",
       "      <td>-74.00</td>\n",
       "      <td>40.73</td>\n",
       "      <td>-73.978080</td>\n",
       "      <td>40.721325</td>\n",
       "      <td>1</td>\n",
       "      <td>2</td>\n",
       "      <td>2011-02-28</td>\n",
       "      <td>0</td>\n",
       "      <td>22</td>\n",
       "      <td>2011</td>\n",
       "      <td>410493</td>\n",
       "      <td>2011-02-28 22:00:00</td>\n",
       "      <td>22:00:00</td>\n",
       "      <td>1</td>\n",
       "    </tr>\n",
       "  </tbody>\n",
       "</table>\n",
       "</div>"
      ],
      "text/plain": [
       "                             key  fare_amount     pickup_datetime  \\\n",
       "0    2009-06-15 17:26:21.0000001          4.5 2009-06-15 17:26:21   \n",
       "1   2009-08-03 23:01:00.00000077          4.5 2009-08-03 23:01:00   \n",
       "2    2011-07-11 13:08:09.0000001         10.9 2011-07-11 13:08:09   \n",
       "3  2012-12-17 22:58:00.000000163         29.0 2012-12-17 22:58:00   \n",
       "4  2011-02-28 22:03:00.000000115          6.1 2011-02-28 22:03:00   \n",
       "\n",
       "   pickup_longitude  pickup_latitude  dropoff_longitude  dropoff_latitude  \\\n",
       "0            -73.84            40.72         -73.841610         40.712278   \n",
       "1            -73.99            40.76         -73.984915         40.768142   \n",
       "2            -73.99            40.75         -74.014800         40.718000   \n",
       "3            -73.98            40.77         -73.962497         40.677382   \n",
       "4            -74.00            40.73         -73.978080         40.721325   \n",
       "\n",
       "   passenger_count  pickup_month pickup_date  pickup_day_of_week  pickup_hour  \\\n",
       "0                1             6  2009-06-15                   0           17   \n",
       "1                5             8  2009-08-03                   0           23   \n",
       "2                1             7  2011-07-11                   0           13   \n",
       "3                3            12  2012-12-17                   0           22   \n",
       "4                1             2  2011-02-28                   0           22   \n",
       "\n",
       "   pickup_year      id            interval interval_time  demand  \n",
       "0         2009       0 2009-06-15 17:15:00      17:15:00       1  \n",
       "1         2009  410475 2009-08-03 23:00:00      23:00:00       1  \n",
       "2         2011  410487 2011-07-11 13:00:00      13:00:00       3  \n",
       "3         2012  410491 2012-12-17 22:45:00      22:45:00       1  \n",
       "4         2011  410493 2011-02-28 22:00:00      22:00:00       1  "
      ]
     },
     "execution_count": 63,
     "metadata": {},
     "output_type": "execute_result"
    }
   ],
   "source": [
    "train_df.head()"
   ]
  },
  {
   "cell_type": "code",
   "execution_count": 64,
   "metadata": {},
   "outputs": [
    {
     "data": {
      "text/plain": [
       "<matplotlib.axes._subplots.AxesSubplot at 0x538d0320>"
      ]
     },
     "execution_count": 64,
     "metadata": {},
     "output_type": "execute_result"
    },
    {
     "data": {
      "image/png": "[encoded data removed]",
      "text/plain": [
       "<Figure size 432x288 with 1 Axes>"
      ]
     },
     "metadata": {
      "needs_background": "light"
     },
     "output_type": "display_data"
    }
   ],
   "source": [
    "train_df['demand'].value_counts().sort_index().plot()"
   ]
  },
  {
   "cell_type": "code",
   "execution_count": 65,
   "metadata": {},
   "outputs": [
    {
     "data": {
      "text/plain": [
       "<matplotlib.axes._subplots.AxesSubplot at 0x3707d0f0>"
      ]
     },
     "execution_count": 65,
     "metadata": {},
     "output_type": "execute_result"
    },
    {
     "data": {
      "image/png": "[encoded data removed]",
      "text/plain": [
       "<Figure size 432x288 with 1 Axes>"
      ]
     },
     "metadata": {
      "needs_background": "light"
     },
     "output_type": "display_data"
    }
   ],
   "source": [
    "train_df.groupby('demand')['fare_amount'].mean().plot()"
   ]
  },
  {
   "cell_type": "code",
   "execution_count": 66,
   "metadata": {},
   "outputs": [],
   "source": [
    "def distance(lat1, lon1, lat2, lon2):\n",
    "    \"\"\"\n",
    "    calculates the Manhattan distance between 2 points using their coordinates   \n",
    "    Returns\n",
    "    -------\n",
    "    d: float\n",
    "        The Manhattan distance between the two points in kilometers\n",
    "    \"\"\"\n",
    "    d = haversine((lat1, lon1), (lat2, lon1)) + haversine((lat2, lon1), (lat2, lon2))\n",
    "    return d\n",
    "\n",
    "# The distance is calculated in kilometers\n",
    "train_df[\"distance\"] = train_df.apply(lambda row: distance(row[\"pickup_latitude\"], \n",
    "                                               row[\"pickup_longitude\"], \n",
    "                                               row[\"dropoff_latitude\"], \n",
    "                                               row[\"dropoff_longitude\"]), axis=1)"
   ]
  },
  {
   "cell_type": "code",
   "execution_count": 67,
   "metadata": {},
   "outputs": [
    {
     "data": {
      "text/plain": [
       "0          0.994348\n",
       "1          1.333581\n",
       "2          5.648338\n",
       "3         11.774684\n",
       "4          2.811899\n",
       "5          2.236873\n",
       "6          1.916328\n",
       "7          2.848470\n",
       "8          5.543908\n",
       "9          0.307994\n",
       "10         1.779232\n",
       "11         9.505639\n",
       "12         1.700778\n",
       "13         2.724473\n",
       "14         3.071089\n",
       "15        21.839867\n",
       "16         2.755513\n",
       "17         4.304596\n",
       "18         0.542047\n",
       "19         0.701315\n",
       "20         1.481350\n",
       "21         3.030238\n",
       "22         6.008949\n",
       "23         2.902709\n",
       "24         9.485814\n",
       "25         0.582736\n",
       "26         1.227529\n",
       "27         4.691100\n",
       "28         4.743672\n",
       "29         0.000000\n",
       "            ...    \n",
       "999970     8.208024\n",
       "999971     5.758488\n",
       "999972     5.287813\n",
       "999973     1.778609\n",
       "999974     0.823994\n",
       "999975     3.533078\n",
       "999976     1.085037\n",
       "999977    34.915028\n",
       "999978     7.348836\n",
       "999979     0.982604\n",
       "999980    23.386542\n",
       "999981     8.747947\n",
       "999982     1.553576\n",
       "999983     1.728682\n",
       "999984     2.445260\n",
       "999985     1.607214\n",
       "999986     3.056351\n",
       "999987    15.560204\n",
       "999988     7.503730\n",
       "999989     6.343163\n",
       "999990     5.495309\n",
       "999991     2.917594\n",
       "999992     8.636808\n",
       "999993    10.314731\n",
       "999994     0.940635\n",
       "999995     4.114250\n",
       "999996     4.432105\n",
       "999997     7.178145\n",
       "999998     1.260764\n",
       "999999     1.695467\n",
       "Name: distance, Length: 1000000, dtype: float64"
      ]
     },
     "execution_count": 67,
     "metadata": {},
     "output_type": "execute_result"
    }
   ],
   "source": [
    "train_df[\"distance\"]"
   ]
  },
  {
   "cell_type": "code",
   "execution_count": 68,
   "metadata": {},
   "outputs": [
    {
     "data": {
      "text/plain": [
       "<matplotlib.axes._subplots.AxesSubplot at 0x309ffcc0>"
      ]
     },
     "execution_count": 68,
     "metadata": {},
     "output_type": "execute_result"
    },
    {
     "data": {
      "image/png": "[encoded data removed]",
      "text/plain": [
       "<Figure size 432x288 with 1 Axes>"
      ]
     },
     "metadata": {
      "needs_background": "light"
     },
     "output_type": "display_data"
    }
   ],
   "source": [
    "train_df.groupby('distance')['fare_amount'].mean().plot()"
   ]
  },
  {
   "cell_type": "code",
   "execution_count": 69,
   "metadata": {},
   "outputs": [
    {
     "ename": "SyntaxError",
     "evalue": "invalid syntax (<ipython-input-69-dbfb18408d70>, line 1)",
     "output_type": "error",
     "traceback": [
      "\u001b[1;36m  File \u001b[1;32m\"<ipython-input-69-dbfb18408d70>\"\u001b[1;36m, line \u001b[1;32m1\u001b[0m\n\u001b[1;33m    train_df[\"fare_amount\"].\u001b[0m\n\u001b[1;37m                            ^\u001b[0m\n\u001b[1;31mSyntaxError\u001b[0m\u001b[1;31m:\u001b[0m invalid syntax\n"
     ]
    }
   ],
   "source": [
    "train_df[\"fare_amount\"]."
   ]
  },
  {
   "cell_type": "code",
   "execution_count": null,
   "metadata": {},
   "outputs": [],
   "source": [
    "train_df['distance'].max()"
   ]
  },
  {
   "cell_type": "code",
   "execution_count": null,
   "metadata": {},
   "outputs": [],
   "source": [
    "train_df.to_csv(\"train_formatted.csv\")"
   ]
  },
  {
   "cell_type": "code",
   "execution_count": 71,
   "metadata": {},
   "outputs": [
    {
     "data": {
      "text/html": [
       "<div>\n",
       "<style scoped>\n",
       "    .dataframe tbody tr th:only-of-type {\n",
       "        vertical-align: middle;\n",
       "    }\n",
       "\n",
       "    .dataframe tbody tr th {\n",
       "        vertical-align: top;\n",
       "    }\n",
       "\n",
       "    .dataframe thead th {\n",
       "        text-align: right;\n",
       "    }\n",
       "</style>\n",
       "<table border=\"1\" class=\"dataframe\">\n",
       "  <thead>\n",
       "    <tr style=\"text-align: right;\">\n",
       "      <th></th>\n",
       "      <th>count</th>\n",
       "      <th>mean</th>\n",
       "      <th>std</th>\n",
       "      <th>min</th>\n",
       "      <th>25%</th>\n",
       "      <th>50%</th>\n",
       "      <th>75%</th>\n",
       "      <th>max</th>\n",
       "    </tr>\n",
       "  </thead>\n",
       "  <tbody>\n",
       "    <tr>\n",
       "      <th>fare_amount</th>\n",
       "      <td>1000000.0</td>\n",
       "      <td>11.348079</td>\n",
       "      <td>9.822090</td>\n",
       "      <td>-44.900000</td>\n",
       "      <td>6.000000</td>\n",
       "      <td>8.500000</td>\n",
       "      <td>12.500000</td>\n",
       "      <td>500.000000</td>\n",
       "    </tr>\n",
       "    <tr>\n",
       "      <th>pickup_longitude</th>\n",
       "      <td>1000000.0</td>\n",
       "      <td>-72.526588</td>\n",
       "      <td>12.057929</td>\n",
       "      <td>-3377.680000</td>\n",
       "      <td>-73.990000</td>\n",
       "      <td>-73.980000</td>\n",
       "      <td>-73.970000</td>\n",
       "      <td>2522.270000</td>\n",
       "    </tr>\n",
       "    <tr>\n",
       "      <th>pickup_latitude</th>\n",
       "      <td>1000000.0</td>\n",
       "      <td>39.928901</td>\n",
       "      <td>7.626147</td>\n",
       "      <td>-3116.290000</td>\n",
       "      <td>40.730000</td>\n",
       "      <td>40.750000</td>\n",
       "      <td>40.770000</td>\n",
       "      <td>2621.630000</td>\n",
       "    </tr>\n",
       "    <tr>\n",
       "      <th>dropoff_longitude</th>\n",
       "      <td>999990.0</td>\n",
       "      <td>-72.527860</td>\n",
       "      <td>11.324494</td>\n",
       "      <td>-3383.296608</td>\n",
       "      <td>-73.991385</td>\n",
       "      <td>-73.980135</td>\n",
       "      <td>-73.963654</td>\n",
       "      <td>45.581619</td>\n",
       "    </tr>\n",
       "    <tr>\n",
       "      <th>dropoff_latitude</th>\n",
       "      <td>999990.0</td>\n",
       "      <td>39.919954</td>\n",
       "      <td>8.201418</td>\n",
       "      <td>-3114.338567</td>\n",
       "      <td>40.734046</td>\n",
       "      <td>40.753166</td>\n",
       "      <td>40.768129</td>\n",
       "      <td>1651.553433</td>\n",
       "    </tr>\n",
       "    <tr>\n",
       "      <th>passenger_count</th>\n",
       "      <td>1000000.0</td>\n",
       "      <td>1.684924</td>\n",
       "      <td>1.323911</td>\n",
       "      <td>0.000000</td>\n",
       "      <td>1.000000</td>\n",
       "      <td>1.000000</td>\n",
       "      <td>2.000000</td>\n",
       "      <td>208.000000</td>\n",
       "    </tr>\n",
       "    <tr>\n",
       "      <th>pickup_month</th>\n",
       "      <td>1000000.0</td>\n",
       "      <td>6.267875</td>\n",
       "      <td>3.436243</td>\n",
       "      <td>1.000000</td>\n",
       "      <td>3.000000</td>\n",
       "      <td>6.000000</td>\n",
       "      <td>9.000000</td>\n",
       "      <td>12.000000</td>\n",
       "    </tr>\n",
       "    <tr>\n",
       "      <th>pickup_day_of_week</th>\n",
       "      <td>1000000.0</td>\n",
       "      <td>3.039856</td>\n",
       "      <td>1.949970</td>\n",
       "      <td>0.000000</td>\n",
       "      <td>1.000000</td>\n",
       "      <td>3.000000</td>\n",
       "      <td>5.000000</td>\n",
       "      <td>6.000000</td>\n",
       "    </tr>\n",
       "    <tr>\n",
       "      <th>pickup_hour</th>\n",
       "      <td>1000000.0</td>\n",
       "      <td>13.509477</td>\n",
       "      <td>6.513840</td>\n",
       "      <td>0.000000</td>\n",
       "      <td>9.000000</td>\n",
       "      <td>14.000000</td>\n",
       "      <td>19.000000</td>\n",
       "      <td>23.000000</td>\n",
       "    </tr>\n",
       "    <tr>\n",
       "      <th>pickup_year</th>\n",
       "      <td>1000000.0</td>\n",
       "      <td>2011.741106</td>\n",
       "      <td>1.860754</td>\n",
       "      <td>2009.000000</td>\n",
       "      <td>2010.000000</td>\n",
       "      <td>2012.000000</td>\n",
       "      <td>2013.000000</td>\n",
       "      <td>2015.000000</td>\n",
       "    </tr>\n",
       "    <tr>\n",
       "      <th>id</th>\n",
       "      <td>1000000.0</td>\n",
       "      <td>499999.500000</td>\n",
       "      <td>288675.278933</td>\n",
       "      <td>0.000000</td>\n",
       "      <td>249999.750000</td>\n",
       "      <td>499999.500000</td>\n",
       "      <td>749999.250000</td>\n",
       "      <td>999999.000000</td>\n",
       "    </tr>\n",
       "    <tr>\n",
       "      <th>demand</th>\n",
       "      <td>1000000.0</td>\n",
       "      <td>1.178272</td>\n",
       "      <td>0.446575</td>\n",
       "      <td>1.000000</td>\n",
       "      <td>1.000000</td>\n",
       "      <td>1.000000</td>\n",
       "      <td>1.000000</td>\n",
       "      <td>6.000000</td>\n",
       "    </tr>\n",
       "    <tr>\n",
       "      <th>distance</th>\n",
       "      <td>999990.0</td>\n",
       "      <td>24.987805</td>\n",
       "      <td>482.911957</td>\n",
       "      <td>0.000000</td>\n",
       "      <td>1.576720</td>\n",
       "      <td>2.764460</td>\n",
       "      <td>5.039720</td>\n",
       "      <td>22139.911397</td>\n",
       "    </tr>\n",
       "  </tbody>\n",
       "</table>\n",
       "</div>"
      ],
      "text/plain": [
       "                        count           mean            std          min  \\\n",
       "fare_amount         1000000.0      11.348079       9.822090   -44.900000   \n",
       "pickup_longitude    1000000.0     -72.526588      12.057929 -3377.680000   \n",
       "pickup_latitude     1000000.0      39.928901       7.626147 -3116.290000   \n",
       "dropoff_longitude    999990.0     -72.527860      11.324494 -3383.296608   \n",
       "dropoff_latitude     999990.0      39.919954       8.201418 -3114.338567   \n",
       "passenger_count     1000000.0       1.684924       1.323911     0.000000   \n",
       "pickup_month        1000000.0       6.267875       3.436243     1.000000   \n",
       "pickup_day_of_week  1000000.0       3.039856       1.949970     0.000000   \n",
       "pickup_hour         1000000.0      13.509477       6.513840     0.000000   \n",
       "pickup_year         1000000.0    2011.741106       1.860754  2009.000000   \n",
       "id                  1000000.0  499999.500000  288675.278933     0.000000   \n",
       "demand              1000000.0       1.178272       0.446575     1.000000   \n",
       "distance             999990.0      24.987805     482.911957     0.000000   \n",
       "\n",
       "                              25%            50%            75%            max  \n",
       "fare_amount              6.000000       8.500000      12.500000     500.000000  \n",
       "pickup_longitude       -73.990000     -73.980000     -73.970000    2522.270000  \n",
       "pickup_latitude         40.730000      40.750000      40.770000    2621.630000  \n",
       "dropoff_longitude      -73.991385     -73.980135     -73.963654      45.581619  \n",
       "dropoff_latitude        40.734046      40.753166      40.768129    1651.553433  \n",
       "passenger_count          1.000000       1.000000       2.000000     208.000000  \n",
       "pickup_month             3.000000       6.000000       9.000000      12.000000  \n",
       "pickup_day_of_week       1.000000       3.000000       5.000000       6.000000  \n",
       "pickup_hour              9.000000      14.000000      19.000000      23.000000  \n",
       "pickup_year           2010.000000    2012.000000    2013.000000    2015.000000  \n",
       "id                  249999.750000  499999.500000  749999.250000  999999.000000  \n",
       "demand                   1.000000       1.000000       1.000000       6.000000  \n",
       "distance                 1.576720       2.764460       5.039720   22139.911397  "
      ]
     },
     "execution_count": 71,
     "metadata": {},
     "output_type": "execute_result"
    }
   ],
   "source": [
    "train_df.describe().transpose()"
   ]
  },
  {
   "cell_type": "code",
   "execution_count": 72,
   "metadata": {},
   "outputs": [
    {
     "data": {
      "text/plain": [
       "0        2009-06-15 17:15:00\n",
       "1        2009-08-03 23:00:00\n",
       "2        2011-07-11 13:00:00\n",
       "3        2012-12-17 22:45:00\n",
       "4        2011-02-28 22:00:00\n",
       "5        2010-03-29 13:00:00\n",
       "6        2012-03-26 02:00:00\n",
       "7        2011-04-18 14:00:00\n",
       "8        2012-07-02 22:30:00\n",
       "9        2012-10-01 00:15:00\n",
       "10       2009-09-21 20:45:00\n",
       "11       2012-06-18 21:45:00\n",
       "12       2009-06-15 14:45:00\n",
       "13       2013-05-06 07:30:00\n",
       "14       2010-01-11 17:00:00\n",
       "15       2013-06-17 16:15:00\n",
       "16       2012-03-26 17:15:00\n",
       "17       2009-05-04 15:30:00\n",
       "18       2015-02-02 10:30:00\n",
       "19       2015-06-15 15:30:00\n",
       "20       2011-02-07 09:15:00\n",
       "21       2012-09-10 22:30:00\n",
       "22       2014-10-27 17:15:00\n",
       "23       2009-03-16 10:15:00\n",
       "24       2009-08-31 01:00:00\n",
       "25       2013-02-11 09:00:00\n",
       "26       2015-03-02 13:30:00\n",
       "27       2012-04-02 22:00:00\n",
       "28       2010-02-22 09:45:00\n",
       "29       2009-12-28 20:15:00\n",
       "                 ...        \n",
       "999970   2014-02-09 20:45:00\n",
       "999971   2014-05-11 16:15:00\n",
       "999972   2014-06-01 12:15:00\n",
       "999973   2013-12-08 21:15:00\n",
       "999974   2014-11-02 00:00:00\n",
       "999975   2012-06-03 19:45:00\n",
       "999976   2009-04-19 17:15:00\n",
       "999977   2014-02-23 17:45:00\n",
       "999978   2010-01-03 15:15:00\n",
       "999979   2012-04-29 15:45:00\n",
       "999980   2013-10-13 15:30:00\n",
       "999981   2010-02-28 06:45:00\n",
       "999982   2015-02-08 11:30:00\n",
       "999983   2011-12-25 11:15:00\n",
       "999984   2012-01-29 00:30:00\n",
       "999985   2011-07-31 03:45:00\n",
       "999986   2012-11-18 01:15:00\n",
       "999987   2009-04-19 23:45:00\n",
       "999988   2011-09-18 15:15:00\n",
       "999989   2011-10-09 23:30:00\n",
       "999990   2012-08-12 17:15:00\n",
       "999991   2014-08-03 20:00:00\n",
       "999992   2015-03-08 23:00:00\n",
       "999993   2011-11-20 12:15:00\n",
       "999994   2009-07-26 06:30:00\n",
       "999995   2012-06-24 15:45:00\n",
       "999996   2012-09-30 04:00:00\n",
       "999997   2012-10-07 12:30:00\n",
       "999998   2011-04-17 20:30:00\n",
       "999999   2015-05-10 13:00:00\n",
       "Name: interval, Length: 1000000, dtype: datetime64[ns]"
      ]
     },
     "execution_count": 72,
     "metadata": {},
     "output_type": "execute_result"
    }
   ],
   "source": [
    "train_df[\"interval\"]"
   ]
  },
  {
   "cell_type": "code",
   "execution_count": 73,
   "metadata": {},
   "outputs": [
    {
     "name": "stdout",
     "output_type": "stream",
     "text": [
      "<class 'pandas.core.frame.DataFrame'>\n",
      "Int64Index: 1000000 entries, 0 to 999999\n",
      "Data columns (total 18 columns):\n",
      "key                   1000000 non-null object\n",
      "fare_amount           1000000 non-null float64\n",
      "pickup_datetime       1000000 non-null datetime64[ns]\n",
      "pickup_longitude      1000000 non-null float64\n",
      "pickup_latitude       1000000 non-null float64\n",
      "dropoff_longitude     999990 non-null float64\n",
      "dropoff_latitude      999990 non-null float64\n",
      "passenger_count       1000000 non-null int64\n",
      "pickup_month          1000000 non-null int64\n",
      "pickup_date           1000000 non-null object\n",
      "pickup_day_of_week    1000000 non-null int64\n",
      "pickup_hour           1000000 non-null int64\n",
      "pickup_year           1000000 non-null int64\n",
      "id                    1000000 non-null int64\n",
      "interval              1000000 non-null datetime64[ns]\n",
      "interval_time         1000000 non-null object\n",
      "demand                1000000 non-null int64\n",
      "distance              999990 non-null float64\n",
      "dtypes: datetime64[ns](2), float64(6), int64(7), object(3)\n",
      "memory usage: 145.0+ MB\n"
     ]
    }
   ],
   "source": [
    "train_df.info()"
   ]
  },
  {
   "cell_type": "code",
   "execution_count": 74,
   "metadata": {},
   "outputs": [],
   "source": [
    "train_df.to_csv(\"formatted.csv\")"
   ]
  },
  {
   "cell_type": "code",
   "execution_count": 160,
   "metadata": {},
   "outputs": [],
   "source": [
    "df = pd.read_csv('formatted.csv')"
   ]
  },
  {
   "cell_type": "code",
   "execution_count": 161,
   "metadata": {},
   "outputs": [
    {
     "name": "stdout",
     "output_type": "stream",
     "text": [
      "<class 'pandas.core.frame.DataFrame'>\n",
      "RangeIndex: 1000000 entries, 0 to 999999\n",
      "Data columns (total 19 columns):\n",
      "Unnamed: 0            1000000 non-null int64\n",
      "key                   1000000 non-null object\n",
      "fare_amount           1000000 non-null float64\n",
      "pickup_datetime       1000000 non-null object\n",
      "pickup_longitude      1000000 non-null float64\n",
      "pickup_latitude       1000000 non-null float64\n",
      "dropoff_longitude     999990 non-null float64\n",
      "dropoff_latitude      999990 non-null float64\n",
      "passenger_count       1000000 non-null int64\n",
      "pickup_month          1000000 non-null int64\n",
      "pickup_date           1000000 non-null object\n",
      "pickup_day_of_week    1000000 non-null int64\n",
      "pickup_hour           1000000 non-null int64\n",
      "pickup_year           1000000 non-null int64\n",
      "id                    1000000 non-null int64\n",
      "interval              1000000 non-null object\n",
      "interval_time         1000000 non-null object\n",
      "demand                1000000 non-null int64\n",
      "distance              999990 non-null float64\n",
      "dtypes: float64(6), int64(8), object(5)\n",
      "memory usage: 145.0+ MB\n"
     ]
    }
   ],
   "source": [
    "df.info()"
   ]
  },
  {
   "cell_type": "code",
   "execution_count": 135,
   "metadata": {},
   "outputs": [
    {
     "data": {
      "text/plain": [
       "0         2009-06-15 17:15:00\n",
       "1         2009-08-03 23:00:00\n",
       "2         2011-07-11 13:00:00\n",
       "3         2012-12-17 22:45:00\n",
       "4         2011-02-28 22:00:00\n",
       "5         2010-03-29 13:00:00\n",
       "6         2012-03-26 02:00:00\n",
       "7         2011-04-18 14:00:00\n",
       "8         2012-07-02 22:30:00\n",
       "9         2012-10-01 00:15:00\n",
       "10        2009-09-21 20:45:00\n",
       "11        2012-06-18 21:45:00\n",
       "12        2009-06-15 14:45:00\n",
       "13        2013-05-06 07:30:00\n",
       "14        2010-01-11 17:00:00\n",
       "15        2013-06-17 16:15:00\n",
       "16        2012-03-26 17:15:00\n",
       "17        2009-05-04 15:30:00\n",
       "18        2015-02-02 10:30:00\n",
       "19        2015-06-15 15:30:00\n",
       "20        2011-02-07 09:15:00\n",
       "21        2012-09-10 22:30:00\n",
       "22        2014-10-27 17:15:00\n",
       "23        2009-03-16 10:15:00\n",
       "24        2009-08-31 01:00:00\n",
       "25        2013-02-11 09:00:00\n",
       "26        2015-03-02 13:30:00\n",
       "27        2012-04-02 22:00:00\n",
       "28        2010-02-22 09:45:00\n",
       "29        2009-12-28 20:15:00\n",
       "                 ...         \n",
       "999970    2014-02-09 20:45:00\n",
       "999971    2014-05-11 16:15:00\n",
       "999972    2014-06-01 12:15:00\n",
       "999973    2013-12-08 21:15:00\n",
       "999974    2014-11-02 00:00:00\n",
       "999975    2012-06-03 19:45:00\n",
       "999976    2009-04-19 17:15:00\n",
       "999977    2014-02-23 17:45:00\n",
       "999978    2010-01-03 15:15:00\n",
       "999979    2012-04-29 15:45:00\n",
       "999980    2013-10-13 15:30:00\n",
       "999981    2010-02-28 06:45:00\n",
       "999982    2015-02-08 11:30:00\n",
       "999983    2011-12-25 11:15:00\n",
       "999984    2012-01-29 00:30:00\n",
       "999985    2011-07-31 03:45:00\n",
       "999986    2012-11-18 01:15:00\n",
       "999987    2009-04-19 23:45:00\n",
       "999988    2011-09-18 15:15:00\n",
       "999989    2011-10-09 23:30:00\n",
       "999990    2012-08-12 17:15:00\n",
       "999991    2014-08-03 20:00:00\n",
       "999992    2015-03-08 23:00:00\n",
       "999993    2011-11-20 12:15:00\n",
       "999994    2009-07-26 06:30:00\n",
       "999995    2012-06-24 15:45:00\n",
       "999996    2012-09-30 04:00:00\n",
       "999997    2012-10-07 12:30:00\n",
       "999998    2011-04-17 20:30:00\n",
       "999999    2015-05-10 13:00:00\n",
       "Name: interval, Length: 1000000, dtype: object"
      ]
     },
     "execution_count": 135,
     "metadata": {},
     "output_type": "execute_result"
    }
   ],
   "source": [
    "df[\"interval\"]"
   ]
  },
  {
   "cell_type": "code",
   "execution_count": 130,
   "metadata": {},
   "outputs": [],
   "source": [
    "df = train_df"
   ]
  },
  {
   "cell_type": "code",
   "execution_count": 162,
   "metadata": {},
   "outputs": [],
   "source": [
    "\n",
    "df = df[[\"interval\",\"fare_amount\"]]"
   ]
  },
  {
   "cell_type": "code",
   "execution_count": 165,
   "metadata": {},
   "outputs": [
    {
     "data": {
      "text/html": [
       "<div>\n",
       "<style scoped>\n",
       "    .dataframe tbody tr th:only-of-type {\n",
       "        vertical-align: middle;\n",
       "    }\n",
       "\n",
       "    .dataframe tbody tr th {\n",
       "        vertical-align: top;\n",
       "    }\n",
       "\n",
       "    .dataframe thead th {\n",
       "        text-align: right;\n",
       "    }\n",
       "</style>\n",
       "<table border=\"1\" class=\"dataframe\">\n",
       "  <thead>\n",
       "    <tr style=\"text-align: right;\">\n",
       "      <th></th>\n",
       "      <th>interval</th>\n",
       "      <th>fare_amount</th>\n",
       "    </tr>\n",
       "  </thead>\n",
       "  <tbody>\n",
       "    <tr>\n",
       "      <th>0</th>\n",
       "      <td>2009-06-15 17:15:00</td>\n",
       "      <td>4.5</td>\n",
       "    </tr>\n",
       "    <tr>\n",
       "      <th>1</th>\n",
       "      <td>2009-08-03 23:00:00</td>\n",
       "      <td>4.5</td>\n",
       "    </tr>\n",
       "    <tr>\n",
       "      <th>2</th>\n",
       "      <td>2011-07-11 13:00:00</td>\n",
       "      <td>10.9</td>\n",
       "    </tr>\n",
       "    <tr>\n",
       "      <th>3</th>\n",
       "      <td>2012-12-17 22:45:00</td>\n",
       "      <td>29.0</td>\n",
       "    </tr>\n",
       "    <tr>\n",
       "      <th>4</th>\n",
       "      <td>2011-02-28 22:00:00</td>\n",
       "      <td>6.1</td>\n",
       "    </tr>\n",
       "  </tbody>\n",
       "</table>\n",
       "</div>"
      ],
      "text/plain": [
       "             interval  fare_amount\n",
       "0 2009-06-15 17:15:00          4.5\n",
       "1 2009-08-03 23:00:00          4.5\n",
       "2 2011-07-11 13:00:00         10.9\n",
       "3 2012-12-17 22:45:00         29.0\n",
       "4 2011-02-28 22:00:00          6.1"
      ]
     },
     "execution_count": 165,
     "metadata": {},
     "output_type": "execute_result"
    }
   ],
   "source": [
    "df.head()"
   ]
  },
  {
   "cell_type": "code",
   "execution_count": 141,
   "metadata": {},
   "outputs": [],
   "source": [
    "df.index = df.interval \n"
   ]
  },
  {
   "cell_type": "code",
   "execution_count": 92,
   "metadata": {},
   "outputs": [
    {
     "data": {
      "text/plain": [
       "interval       datetime64[ns]\n",
       "fare_amount           float64\n",
       "dtype: object"
      ]
     },
     "execution_count": 92,
     "metadata": {},
     "output_type": "execute_result"
    }
   ],
   "source": [
    "df.dtypes"
   ]
  },
  {
   "cell_type": "code",
   "execution_count": 164,
   "metadata": {},
   "outputs": [],
   "source": [
    "df.interval = pd.to_datetime(df.interval)"
   ]
  },
  {
   "cell_type": "code",
   "execution_count": null,
   "metadata": {},
   "outputs": [],
   "source": []
  },
  {
   "cell_type": "code",
   "execution_count": 143,
   "metadata": {},
   "outputs": [],
   "source": [
    "df = df.resample(rule='24H', closed='left', label='left', base=17).mean()"
   ]
  },
  {
   "cell_type": "code",
   "execution_count": 145,
   "metadata": {},
   "outputs": [
    {
     "data": {
      "text/plain": [
       "<matplotlib.axes._subplots.AxesSubplot at 0x68cf3b70>"
      ]
     },
     "execution_count": 145,
     "metadata": {},
     "output_type": "execute_result"
    },
    {
     "data": {
      "image/png": "[encoded data removed]",
      "text/plain": [
       "<Figure size 1080x576 with 1 Axes>"
      ]
     },
     "metadata": {
      "needs_background": "light"
     },
     "output_type": "display_data"
    }
   ],
   "source": [
    "df.fare_amount.plot(figsize=(15,8), title= 'Daily Ridership', fontsize=14)"
   ]
  },
  {
   "cell_type": "code",
   "execution_count": 99,
   "metadata": {},
   "outputs": [],
   "source": [
    "import datetime"
   ]
  },
  {
   "cell_type": "code",
   "execution_count": 153,
   "metadata": {},
   "outputs": [],
   "source": [
    "df.interval = df.index"
   ]
  },
  {
   "cell_type": "code",
   "execution_count": 197,
   "metadata": {},
   "outputs": [
    {
     "data": {
      "text/html": [
       "<div>\n",
       "<style scoped>\n",
       "    .dataframe tbody tr th:only-of-type {\n",
       "        vertical-align: middle;\n",
       "    }\n",
       "\n",
       "    .dataframe tbody tr th {\n",
       "        vertical-align: top;\n",
       "    }\n",
       "\n",
       "    .dataframe thead th {\n",
       "        text-align: right;\n",
       "    }\n",
       "</style>\n",
       "<table border=\"1\" class=\"dataframe\">\n",
       "  <thead>\n",
       "    <tr style=\"text-align: right;\">\n",
       "      <th></th>\n",
       "      <th>interval</th>\n",
       "      <th>fare_amount</th>\n",
       "    </tr>\n",
       "  </thead>\n",
       "  <tbody>\n",
       "    <tr>\n",
       "      <th>0</th>\n",
       "      <td>2009-06-15 17:15:00</td>\n",
       "      <td>4.5</td>\n",
       "    </tr>\n",
       "    <tr>\n",
       "      <th>1</th>\n",
       "      <td>2009-08-03 23:00:00</td>\n",
       "      <td>4.5</td>\n",
       "    </tr>\n",
       "    <tr>\n",
       "      <th>2</th>\n",
       "      <td>2011-07-11 13:00:00</td>\n",
       "      <td>10.9</td>\n",
       "    </tr>\n",
       "    <tr>\n",
       "      <th>3</th>\n",
       "      <td>2012-12-17 22:45:00</td>\n",
       "      <td>29.0</td>\n",
       "    </tr>\n",
       "    <tr>\n",
       "      <th>4</th>\n",
       "      <td>2011-02-28 22:00:00</td>\n",
       "      <td>6.1</td>\n",
       "    </tr>\n",
       "  </tbody>\n",
       "</table>\n",
       "</div>"
      ],
      "text/plain": [
       "             interval  fare_amount\n",
       "0 2009-06-15 17:15:00          4.5\n",
       "1 2009-08-03 23:00:00          4.5\n",
       "2 2011-07-11 13:00:00         10.9\n",
       "3 2012-12-17 22:45:00         29.0\n",
       "4 2011-02-28 22:00:00          6.1"
      ]
     },
     "execution_count": 197,
     "metadata": {},
     "output_type": "execute_result"
    }
   ],
   "source": [
    "df.head()"
   ]
  },
  {
   "cell_type": "code",
   "execution_count": 211,
   "metadata": {},
   "outputs": [
    {
     "name": "stderr",
     "output_type": "stream",
     "text": [
      "C:\\Users\\user\\Anaconda\\lib\\site-packages\\ipykernel_launcher.py:1: FutureWarning:\n",
      "\n",
      "Comparing Series of datetimes with 'datetime.date'.  Currently, the\n",
      "'datetime.date' is coerced to a datetime. In the future pandas will\n",
      "not coerce, and a TypeError will be raised. To retain the current\n",
      "behavior, convert the 'datetime.date' to a datetime with\n",
      "'pd.Timestamp'.\n",
      "\n"
     ]
    }
   ],
   "source": [
    "train_df = df[(df['interval']<datetime.date(2015,1,1))]"
   ]
  },
  {
   "cell_type": "code",
   "execution_count": 212,
   "metadata": {},
   "outputs": [
    {
     "name": "stderr",
     "output_type": "stream",
     "text": [
      "C:\\Users\\user\\Anaconda\\lib\\site-packages\\ipykernel_launcher.py:1: FutureWarning:\n",
      "\n",
      "Comparing Series of datetimes with 'datetime.date'.  Currently, the\n",
      "'datetime.date' is coerced to a datetime. In the future pandas will\n",
      "not coerce, and a TypeError will be raised. To retain the current\n",
      "behavior, convert the 'datetime.date' to a datetime with\n",
      "'pd.Timestamp'.\n",
      "\n"
     ]
    }
   ],
   "source": [
    "test_df = df[(df['interval']>datetime.date(2015,1,1))]"
   ]
  },
  {
   "cell_type": "code",
   "execution_count": 223,
   "metadata": {},
   "outputs": [
    {
     "data": {
      "text/html": [
       "<div>\n",
       "<style scoped>\n",
       "    .dataframe tbody tr th:only-of-type {\n",
       "        vertical-align: middle;\n",
       "    }\n",
       "\n",
       "    .dataframe tbody tr th {\n",
       "        vertical-align: top;\n",
       "    }\n",
       "\n",
       "    .dataframe thead th {\n",
       "        text-align: right;\n",
       "    }\n",
       "</style>\n",
       "<table border=\"1\" class=\"dataframe\">\n",
       "  <thead>\n",
       "    <tr style=\"text-align: right;\">\n",
       "      <th></th>\n",
       "      <th>fare_amount</th>\n",
       "    </tr>\n",
       "    <tr>\n",
       "      <th>interval</th>\n",
       "      <th></th>\n",
       "    </tr>\n",
       "  </thead>\n",
       "  <tbody>\n",
       "    <tr>\n",
       "      <th>2014-12-27 15:17:00</th>\n",
       "      <td>11.444167</td>\n",
       "    </tr>\n",
       "    <tr>\n",
       "      <th>2014-12-27 16:17:00</th>\n",
       "      <td>11.846154</td>\n",
       "    </tr>\n",
       "    <tr>\n",
       "      <th>2014-12-27 17:17:00</th>\n",
       "      <td>18.332941</td>\n",
       "    </tr>\n",
       "    <tr>\n",
       "      <th>2014-12-27 18:17:00</th>\n",
       "      <td>15.484545</td>\n",
       "    </tr>\n",
       "    <tr>\n",
       "      <th>2014-12-27 19:17:00</th>\n",
       "      <td>10.588235</td>\n",
       "    </tr>\n",
       "    <tr>\n",
       "      <th>2014-12-27 20:17:00</th>\n",
       "      <td>8.558824</td>\n",
       "    </tr>\n",
       "    <tr>\n",
       "      <th>2014-12-27 21:17:00</th>\n",
       "      <td>16.741176</td>\n",
       "    </tr>\n",
       "    <tr>\n",
       "      <th>2014-12-27 22:17:00</th>\n",
       "      <td>10.690476</td>\n",
       "    </tr>\n",
       "    <tr>\n",
       "      <th>2014-12-27 23:17:00</th>\n",
       "      <td>17.559286</td>\n",
       "    </tr>\n",
       "    <tr>\n",
       "      <th>2014-12-28 00:17:00</th>\n",
       "      <td>10.928571</td>\n",
       "    </tr>\n",
       "    <tr>\n",
       "      <th>2014-12-28 01:17:00</th>\n",
       "      <td>10.300000</td>\n",
       "    </tr>\n",
       "    <tr>\n",
       "      <th>2014-12-28 02:17:00</th>\n",
       "      <td>13.722222</td>\n",
       "    </tr>\n",
       "    <tr>\n",
       "      <th>2014-12-28 03:17:00</th>\n",
       "      <td>11.583333</td>\n",
       "    </tr>\n",
       "    <tr>\n",
       "      <th>2014-12-28 04:17:00</th>\n",
       "      <td>8.000000</td>\n",
       "    </tr>\n",
       "    <tr>\n",
       "      <th>2014-12-28 05:17:00</th>\n",
       "      <td>6.000000</td>\n",
       "    </tr>\n",
       "    <tr>\n",
       "      <th>2014-12-28 06:17:00</th>\n",
       "      <td>7.166667</td>\n",
       "    </tr>\n",
       "    <tr>\n",
       "      <th>2014-12-28 07:17:00</th>\n",
       "      <td>11.818182</td>\n",
       "    </tr>\n",
       "    <tr>\n",
       "      <th>2014-12-28 08:17:00</th>\n",
       "      <td>19.221667</td>\n",
       "    </tr>\n",
       "    <tr>\n",
       "      <th>2014-12-28 09:17:00</th>\n",
       "      <td>15.687500</td>\n",
       "    </tr>\n",
       "    <tr>\n",
       "      <th>2014-12-28 10:17:00</th>\n",
       "      <td>18.881667</td>\n",
       "    </tr>\n",
       "    <tr>\n",
       "      <th>2014-12-28 11:17:00</th>\n",
       "      <td>11.555556</td>\n",
       "    </tr>\n",
       "    <tr>\n",
       "      <th>2014-12-28 12:17:00</th>\n",
       "      <td>10.733000</td>\n",
       "    </tr>\n",
       "    <tr>\n",
       "      <th>2014-12-28 13:17:00</th>\n",
       "      <td>12.029412</td>\n",
       "    </tr>\n",
       "    <tr>\n",
       "      <th>2014-12-28 14:17:00</th>\n",
       "      <td>9.954545</td>\n",
       "    </tr>\n",
       "    <tr>\n",
       "      <th>2014-12-28 15:17:00</th>\n",
       "      <td>13.142857</td>\n",
       "    </tr>\n",
       "    <tr>\n",
       "      <th>2014-12-28 16:17:00</th>\n",
       "      <td>14.961818</td>\n",
       "    </tr>\n",
       "    <tr>\n",
       "      <th>2014-12-28 17:17:00</th>\n",
       "      <td>13.102308</td>\n",
       "    </tr>\n",
       "    <tr>\n",
       "      <th>2014-12-28 18:17:00</th>\n",
       "      <td>9.025385</td>\n",
       "    </tr>\n",
       "    <tr>\n",
       "      <th>2014-12-28 19:17:00</th>\n",
       "      <td>11.718750</td>\n",
       "    </tr>\n",
       "    <tr>\n",
       "      <th>2014-12-28 20:17:00</th>\n",
       "      <td>11.266667</td>\n",
       "    </tr>\n",
       "    <tr>\n",
       "      <th>...</th>\n",
       "      <td>...</td>\n",
       "    </tr>\n",
       "    <tr>\n",
       "      <th>2014-12-30 18:17:00</th>\n",
       "      <td>11.210526</td>\n",
       "    </tr>\n",
       "    <tr>\n",
       "      <th>2014-12-30 19:17:00</th>\n",
       "      <td>11.098182</td>\n",
       "    </tr>\n",
       "    <tr>\n",
       "      <th>2014-12-30 20:17:00</th>\n",
       "      <td>10.777619</td>\n",
       "    </tr>\n",
       "    <tr>\n",
       "      <th>2014-12-30 21:17:00</th>\n",
       "      <td>10.233333</td>\n",
       "    </tr>\n",
       "    <tr>\n",
       "      <th>2014-12-30 22:17:00</th>\n",
       "      <td>9.166667</td>\n",
       "    </tr>\n",
       "    <tr>\n",
       "      <th>2014-12-30 23:17:00</th>\n",
       "      <td>15.060000</td>\n",
       "    </tr>\n",
       "    <tr>\n",
       "      <th>2014-12-31 00:17:00</th>\n",
       "      <td>15.666667</td>\n",
       "    </tr>\n",
       "    <tr>\n",
       "      <th>2014-12-31 01:17:00</th>\n",
       "      <td>14.166667</td>\n",
       "    </tr>\n",
       "    <tr>\n",
       "      <th>2014-12-31 02:17:00</th>\n",
       "      <td>14.666667</td>\n",
       "    </tr>\n",
       "    <tr>\n",
       "      <th>2014-12-31 03:17:00</th>\n",
       "      <td>23.000000</td>\n",
       "    </tr>\n",
       "    <tr>\n",
       "      <th>2014-12-31 04:17:00</th>\n",
       "      <td>18.083333</td>\n",
       "    </tr>\n",
       "    <tr>\n",
       "      <th>2014-12-31 05:17:00</th>\n",
       "      <td>12.750000</td>\n",
       "    </tr>\n",
       "    <tr>\n",
       "      <th>2014-12-31 06:17:00</th>\n",
       "      <td>7.750000</td>\n",
       "    </tr>\n",
       "    <tr>\n",
       "      <th>2014-12-31 07:17:00</th>\n",
       "      <td>10.607143</td>\n",
       "    </tr>\n",
       "    <tr>\n",
       "      <th>2014-12-31 08:17:00</th>\n",
       "      <td>10.809286</td>\n",
       "    </tr>\n",
       "    <tr>\n",
       "      <th>2014-12-31 09:17:00</th>\n",
       "      <td>9.062500</td>\n",
       "    </tr>\n",
       "    <tr>\n",
       "      <th>2014-12-31 10:17:00</th>\n",
       "      <td>8.958333</td>\n",
       "    </tr>\n",
       "    <tr>\n",
       "      <th>2014-12-31 11:17:00</th>\n",
       "      <td>14.635556</td>\n",
       "    </tr>\n",
       "    <tr>\n",
       "      <th>2014-12-31 12:17:00</th>\n",
       "      <td>8.095238</td>\n",
       "    </tr>\n",
       "    <tr>\n",
       "      <th>2014-12-31 13:17:00</th>\n",
       "      <td>10.968750</td>\n",
       "    </tr>\n",
       "    <tr>\n",
       "      <th>2014-12-31 14:17:00</th>\n",
       "      <td>7.205882</td>\n",
       "    </tr>\n",
       "    <tr>\n",
       "      <th>2014-12-31 15:17:00</th>\n",
       "      <td>12.066500</td>\n",
       "    </tr>\n",
       "    <tr>\n",
       "      <th>2014-12-31 16:17:00</th>\n",
       "      <td>8.125000</td>\n",
       "    </tr>\n",
       "    <tr>\n",
       "      <th>2014-12-31 17:17:00</th>\n",
       "      <td>14.382069</td>\n",
       "    </tr>\n",
       "    <tr>\n",
       "      <th>2014-12-31 18:17:00</th>\n",
       "      <td>12.240556</td>\n",
       "    </tr>\n",
       "    <tr>\n",
       "      <th>2014-12-31 19:17:00</th>\n",
       "      <td>9.365385</td>\n",
       "    </tr>\n",
       "    <tr>\n",
       "      <th>2014-12-31 20:17:00</th>\n",
       "      <td>9.060606</td>\n",
       "    </tr>\n",
       "    <tr>\n",
       "      <th>2014-12-31 21:17:00</th>\n",
       "      <td>10.645833</td>\n",
       "    </tr>\n",
       "    <tr>\n",
       "      <th>2014-12-31 22:17:00</th>\n",
       "      <td>11.315789</td>\n",
       "    </tr>\n",
       "    <tr>\n",
       "      <th>2014-12-31 23:17:00</th>\n",
       "      <td>13.569167</td>\n",
       "    </tr>\n",
       "  </tbody>\n",
       "</table>\n",
       "<p>105 rows × 1 columns</p>\n",
       "</div>"
      ],
      "text/plain": [
       "                     fare_amount\n",
       "interval                        \n",
       "2014-12-27 15:17:00    11.444167\n",
       "2014-12-27 16:17:00    11.846154\n",
       "2014-12-27 17:17:00    18.332941\n",
       "2014-12-27 18:17:00    15.484545\n",
       "2014-12-27 19:17:00    10.588235\n",
       "2014-12-27 20:17:00     8.558824\n",
       "2014-12-27 21:17:00    16.741176\n",
       "2014-12-27 22:17:00    10.690476\n",
       "2014-12-27 23:17:00    17.559286\n",
       "2014-12-28 00:17:00    10.928571\n",
       "2014-12-28 01:17:00    10.300000\n",
       "2014-12-28 02:17:00    13.722222\n",
       "2014-12-28 03:17:00    11.583333\n",
       "2014-12-28 04:17:00     8.000000\n",
       "2014-12-28 05:17:00     6.000000\n",
       "2014-12-28 06:17:00     7.166667\n",
       "2014-12-28 07:17:00    11.818182\n",
       "2014-12-28 08:17:00    19.221667\n",
       "2014-12-28 09:17:00    15.687500\n",
       "2014-12-28 10:17:00    18.881667\n",
       "2014-12-28 11:17:00    11.555556\n",
       "2014-12-28 12:17:00    10.733000\n",
       "2014-12-28 13:17:00    12.029412\n",
       "2014-12-28 14:17:00     9.954545\n",
       "2014-12-28 15:17:00    13.142857\n",
       "2014-12-28 16:17:00    14.961818\n",
       "2014-12-28 17:17:00    13.102308\n",
       "2014-12-28 18:17:00     9.025385\n",
       "2014-12-28 19:17:00    11.718750\n",
       "2014-12-28 20:17:00    11.266667\n",
       "...                          ...\n",
       "2014-12-30 18:17:00    11.210526\n",
       "2014-12-30 19:17:00    11.098182\n",
       "2014-12-30 20:17:00    10.777619\n",
       "2014-12-30 21:17:00    10.233333\n",
       "2014-12-30 22:17:00     9.166667\n",
       "2014-12-30 23:17:00    15.060000\n",
       "2014-12-31 00:17:00    15.666667\n",
       "2014-12-31 01:17:00    14.166667\n",
       "2014-12-31 02:17:00    14.666667\n",
       "2014-12-31 03:17:00    23.000000\n",
       "2014-12-31 04:17:00    18.083333\n",
       "2014-12-31 05:17:00    12.750000\n",
       "2014-12-31 06:17:00     7.750000\n",
       "2014-12-31 07:17:00    10.607143\n",
       "2014-12-31 08:17:00    10.809286\n",
       "2014-12-31 09:17:00     9.062500\n",
       "2014-12-31 10:17:00     8.958333\n",
       "2014-12-31 11:17:00    14.635556\n",
       "2014-12-31 12:17:00     8.095238\n",
       "2014-12-31 13:17:00    10.968750\n",
       "2014-12-31 14:17:00     7.205882\n",
       "2014-12-31 15:17:00    12.066500\n",
       "2014-12-31 16:17:00     8.125000\n",
       "2014-12-31 17:17:00    14.382069\n",
       "2014-12-31 18:17:00    12.240556\n",
       "2014-12-31 19:17:00     9.365385\n",
       "2014-12-31 20:17:00     9.060606\n",
       "2014-12-31 21:17:00    10.645833\n",
       "2014-12-31 22:17:00    11.315789\n",
       "2014-12-31 23:17:00    13.569167\n",
       "\n",
       "[105 rows x 1 columns]"
      ]
     },
     "execution_count": 223,
     "metadata": {},
     "output_type": "execute_result"
    }
   ],
   "source": [
    "train_df.tail(105)"
   ]
  },
  {
   "cell_type": "code",
   "execution_count": 214,
   "metadata": {},
   "outputs": [],
   "source": [
    "train_df.index = train_df.interval"
   ]
  },
  {
   "cell_type": "code",
   "execution_count": 215,
   "metadata": {},
   "outputs": [],
   "source": [
    "test_df.index = test_df.interval"
   ]
  },
  {
   "cell_type": "code",
   "execution_count": 216,
   "metadata": {},
   "outputs": [],
   "source": [
    "train_df = train_df.resample(rule='60T', closed='left', label='left', base=17).mean()"
   ]
  },
  {
   "cell_type": "code",
   "execution_count": 217,
   "metadata": {},
   "outputs": [
    {
     "data": {
      "text/html": [
       "<div>\n",
       "<style scoped>\n",
       "    .dataframe tbody tr th:only-of-type {\n",
       "        vertical-align: middle;\n",
       "    }\n",
       "\n",
       "    .dataframe tbody tr th {\n",
       "        vertical-align: top;\n",
       "    }\n",
       "\n",
       "    .dataframe thead th {\n",
       "        text-align: right;\n",
       "    }\n",
       "</style>\n",
       "<table border=\"1\" class=\"dataframe\">\n",
       "  <thead>\n",
       "    <tr style=\"text-align: right;\">\n",
       "      <th></th>\n",
       "      <th>fare_amount</th>\n",
       "    </tr>\n",
       "    <tr>\n",
       "      <th>interval</th>\n",
       "      <th></th>\n",
       "    </tr>\n",
       "  </thead>\n",
       "  <tbody>\n",
       "    <tr>\n",
       "      <th>2008-12-31 23:17:00</th>\n",
       "      <td>11.666667</td>\n",
       "    </tr>\n",
       "    <tr>\n",
       "      <th>2009-01-01 00:17:00</th>\n",
       "      <td>9.666667</td>\n",
       "    </tr>\n",
       "    <tr>\n",
       "      <th>2009-01-01 01:17:00</th>\n",
       "      <td>8.800000</td>\n",
       "    </tr>\n",
       "    <tr>\n",
       "      <th>2009-01-01 02:17:00</th>\n",
       "      <td>12.811111</td>\n",
       "    </tr>\n",
       "    <tr>\n",
       "      <th>2009-01-01 03:17:00</th>\n",
       "      <td>8.470000</td>\n",
       "    </tr>\n",
       "    <tr>\n",
       "      <th>2009-01-01 04:17:00</th>\n",
       "      <td>8.711111</td>\n",
       "    </tr>\n",
       "    <tr>\n",
       "      <th>2009-01-01 05:17:00</th>\n",
       "      <td>8.166667</td>\n",
       "    </tr>\n",
       "    <tr>\n",
       "      <th>2009-01-01 06:17:00</th>\n",
       "      <td>NaN</td>\n",
       "    </tr>\n",
       "    <tr>\n",
       "      <th>2009-01-01 07:17:00</th>\n",
       "      <td>18.200000</td>\n",
       "    </tr>\n",
       "    <tr>\n",
       "      <th>2009-01-01 08:17:00</th>\n",
       "      <td>5.700000</td>\n",
       "    </tr>\n",
       "    <tr>\n",
       "      <th>2009-01-01 09:17:00</th>\n",
       "      <td>16.300000</td>\n",
       "    </tr>\n",
       "    <tr>\n",
       "      <th>2009-01-01 10:17:00</th>\n",
       "      <td>9.328571</td>\n",
       "    </tr>\n",
       "    <tr>\n",
       "      <th>2009-01-01 11:17:00</th>\n",
       "      <td>11.700000</td>\n",
       "    </tr>\n",
       "    <tr>\n",
       "      <th>2009-01-01 12:17:00</th>\n",
       "      <td>10.520000</td>\n",
       "    </tr>\n",
       "    <tr>\n",
       "      <th>2009-01-01 13:17:00</th>\n",
       "      <td>10.344118</td>\n",
       "    </tr>\n",
       "    <tr>\n",
       "      <th>2009-01-01 14:17:00</th>\n",
       "      <td>7.490909</td>\n",
       "    </tr>\n",
       "    <tr>\n",
       "      <th>2009-01-01 15:17:00</th>\n",
       "      <td>7.646667</td>\n",
       "    </tr>\n",
       "    <tr>\n",
       "      <th>2009-01-01 16:17:00</th>\n",
       "      <td>7.866667</td>\n",
       "    </tr>\n",
       "    <tr>\n",
       "      <th>2009-01-01 17:17:00</th>\n",
       "      <td>13.138889</td>\n",
       "    </tr>\n",
       "    <tr>\n",
       "      <th>2009-01-01 18:17:00</th>\n",
       "      <td>11.758696</td>\n",
       "    </tr>\n",
       "    <tr>\n",
       "      <th>2009-01-01 19:17:00</th>\n",
       "      <td>11.025000</td>\n",
       "    </tr>\n",
       "    <tr>\n",
       "      <th>2009-01-01 20:17:00</th>\n",
       "      <td>6.427273</td>\n",
       "    </tr>\n",
       "    <tr>\n",
       "      <th>2009-01-01 21:17:00</th>\n",
       "      <td>8.390000</td>\n",
       "    </tr>\n",
       "    <tr>\n",
       "      <th>2009-01-01 22:17:00</th>\n",
       "      <td>8.035294</td>\n",
       "    </tr>\n",
       "    <tr>\n",
       "      <th>2009-01-01 23:17:00</th>\n",
       "      <td>12.406250</td>\n",
       "    </tr>\n",
       "    <tr>\n",
       "      <th>2009-01-02 00:17:00</th>\n",
       "      <td>7.450000</td>\n",
       "    </tr>\n",
       "    <tr>\n",
       "      <th>2009-01-02 01:17:00</th>\n",
       "      <td>12.266667</td>\n",
       "    </tr>\n",
       "    <tr>\n",
       "      <th>2009-01-02 02:17:00</th>\n",
       "      <td>11.200000</td>\n",
       "    </tr>\n",
       "    <tr>\n",
       "      <th>2009-01-02 03:17:00</th>\n",
       "      <td>NaN</td>\n",
       "    </tr>\n",
       "    <tr>\n",
       "      <th>2009-01-02 04:17:00</th>\n",
       "      <td>10.700000</td>\n",
       "    </tr>\n",
       "    <tr>\n",
       "      <th>...</th>\n",
       "      <td>...</td>\n",
       "    </tr>\n",
       "    <tr>\n",
       "      <th>2014-12-30 18:17:00</th>\n",
       "      <td>11.210526</td>\n",
       "    </tr>\n",
       "    <tr>\n",
       "      <th>2014-12-30 19:17:00</th>\n",
       "      <td>11.098182</td>\n",
       "    </tr>\n",
       "    <tr>\n",
       "      <th>2014-12-30 20:17:00</th>\n",
       "      <td>10.777619</td>\n",
       "    </tr>\n",
       "    <tr>\n",
       "      <th>2014-12-30 21:17:00</th>\n",
       "      <td>10.233333</td>\n",
       "    </tr>\n",
       "    <tr>\n",
       "      <th>2014-12-30 22:17:00</th>\n",
       "      <td>9.166667</td>\n",
       "    </tr>\n",
       "    <tr>\n",
       "      <th>2014-12-30 23:17:00</th>\n",
       "      <td>15.060000</td>\n",
       "    </tr>\n",
       "    <tr>\n",
       "      <th>2014-12-31 00:17:00</th>\n",
       "      <td>15.666667</td>\n",
       "    </tr>\n",
       "    <tr>\n",
       "      <th>2014-12-31 01:17:00</th>\n",
       "      <td>14.166667</td>\n",
       "    </tr>\n",
       "    <tr>\n",
       "      <th>2014-12-31 02:17:00</th>\n",
       "      <td>14.666667</td>\n",
       "    </tr>\n",
       "    <tr>\n",
       "      <th>2014-12-31 03:17:00</th>\n",
       "      <td>23.000000</td>\n",
       "    </tr>\n",
       "    <tr>\n",
       "      <th>2014-12-31 04:17:00</th>\n",
       "      <td>18.083333</td>\n",
       "    </tr>\n",
       "    <tr>\n",
       "      <th>2014-12-31 05:17:00</th>\n",
       "      <td>12.750000</td>\n",
       "    </tr>\n",
       "    <tr>\n",
       "      <th>2014-12-31 06:17:00</th>\n",
       "      <td>7.750000</td>\n",
       "    </tr>\n",
       "    <tr>\n",
       "      <th>2014-12-31 07:17:00</th>\n",
       "      <td>10.607143</td>\n",
       "    </tr>\n",
       "    <tr>\n",
       "      <th>2014-12-31 08:17:00</th>\n",
       "      <td>10.809286</td>\n",
       "    </tr>\n",
       "    <tr>\n",
       "      <th>2014-12-31 09:17:00</th>\n",
       "      <td>9.062500</td>\n",
       "    </tr>\n",
       "    <tr>\n",
       "      <th>2014-12-31 10:17:00</th>\n",
       "      <td>8.958333</td>\n",
       "    </tr>\n",
       "    <tr>\n",
       "      <th>2014-12-31 11:17:00</th>\n",
       "      <td>14.635556</td>\n",
       "    </tr>\n",
       "    <tr>\n",
       "      <th>2014-12-31 12:17:00</th>\n",
       "      <td>8.095238</td>\n",
       "    </tr>\n",
       "    <tr>\n",
       "      <th>2014-12-31 13:17:00</th>\n",
       "      <td>10.968750</td>\n",
       "    </tr>\n",
       "    <tr>\n",
       "      <th>2014-12-31 14:17:00</th>\n",
       "      <td>7.205882</td>\n",
       "    </tr>\n",
       "    <tr>\n",
       "      <th>2014-12-31 15:17:00</th>\n",
       "      <td>12.066500</td>\n",
       "    </tr>\n",
       "    <tr>\n",
       "      <th>2014-12-31 16:17:00</th>\n",
       "      <td>8.125000</td>\n",
       "    </tr>\n",
       "    <tr>\n",
       "      <th>2014-12-31 17:17:00</th>\n",
       "      <td>14.382069</td>\n",
       "    </tr>\n",
       "    <tr>\n",
       "      <th>2014-12-31 18:17:00</th>\n",
       "      <td>12.240556</td>\n",
       "    </tr>\n",
       "    <tr>\n",
       "      <th>2014-12-31 19:17:00</th>\n",
       "      <td>9.365385</td>\n",
       "    </tr>\n",
       "    <tr>\n",
       "      <th>2014-12-31 20:17:00</th>\n",
       "      <td>9.060606</td>\n",
       "    </tr>\n",
       "    <tr>\n",
       "      <th>2014-12-31 21:17:00</th>\n",
       "      <td>10.645833</td>\n",
       "    </tr>\n",
       "    <tr>\n",
       "      <th>2014-12-31 22:17:00</th>\n",
       "      <td>11.315789</td>\n",
       "    </tr>\n",
       "    <tr>\n",
       "      <th>2014-12-31 23:17:00</th>\n",
       "      <td>13.569167</td>\n",
       "    </tr>\n",
       "  </tbody>\n",
       "</table>\n",
       "<p>52585 rows × 1 columns</p>\n",
       "</div>"
      ],
      "text/plain": [
       "                     fare_amount\n",
       "interval                        \n",
       "2008-12-31 23:17:00    11.666667\n",
       "2009-01-01 00:17:00     9.666667\n",
       "2009-01-01 01:17:00     8.800000\n",
       "2009-01-01 02:17:00    12.811111\n",
       "2009-01-01 03:17:00     8.470000\n",
       "2009-01-01 04:17:00     8.711111\n",
       "2009-01-01 05:17:00     8.166667\n",
       "2009-01-01 06:17:00          NaN\n",
       "2009-01-01 07:17:00    18.200000\n",
       "2009-01-01 08:17:00     5.700000\n",
       "2009-01-01 09:17:00    16.300000\n",
       "2009-01-01 10:17:00     9.328571\n",
       "2009-01-01 11:17:00    11.700000\n",
       "2009-01-01 12:17:00    10.520000\n",
       "2009-01-01 13:17:00    10.344118\n",
       "2009-01-01 14:17:00     7.490909\n",
       "2009-01-01 15:17:00     7.646667\n",
       "2009-01-01 16:17:00     7.866667\n",
       "2009-01-01 17:17:00    13.138889\n",
       "2009-01-01 18:17:00    11.758696\n",
       "2009-01-01 19:17:00    11.025000\n",
       "2009-01-01 20:17:00     6.427273\n",
       "2009-01-01 21:17:00     8.390000\n",
       "2009-01-01 22:17:00     8.035294\n",
       "2009-01-01 23:17:00    12.406250\n",
       "2009-01-02 00:17:00     7.450000\n",
       "2009-01-02 01:17:00    12.266667\n",
       "2009-01-02 02:17:00    11.200000\n",
       "2009-01-02 03:17:00          NaN\n",
       "2009-01-02 04:17:00    10.700000\n",
       "...                          ...\n",
       "2014-12-30 18:17:00    11.210526\n",
       "2014-12-30 19:17:00    11.098182\n",
       "2014-12-30 20:17:00    10.777619\n",
       "2014-12-30 21:17:00    10.233333\n",
       "2014-12-30 22:17:00     9.166667\n",
       "2014-12-30 23:17:00    15.060000\n",
       "2014-12-31 00:17:00    15.666667\n",
       "2014-12-31 01:17:00    14.166667\n",
       "2014-12-31 02:17:00    14.666667\n",
       "2014-12-31 03:17:00    23.000000\n",
       "2014-12-31 04:17:00    18.083333\n",
       "2014-12-31 05:17:00    12.750000\n",
       "2014-12-31 06:17:00     7.750000\n",
       "2014-12-31 07:17:00    10.607143\n",
       "2014-12-31 08:17:00    10.809286\n",
       "2014-12-31 09:17:00     9.062500\n",
       "2014-12-31 10:17:00     8.958333\n",
       "2014-12-31 11:17:00    14.635556\n",
       "2014-12-31 12:17:00     8.095238\n",
       "2014-12-31 13:17:00    10.968750\n",
       "2014-12-31 14:17:00     7.205882\n",
       "2014-12-31 15:17:00    12.066500\n",
       "2014-12-31 16:17:00     8.125000\n",
       "2014-12-31 17:17:00    14.382069\n",
       "2014-12-31 18:17:00    12.240556\n",
       "2014-12-31 19:17:00     9.365385\n",
       "2014-12-31 20:17:00     9.060606\n",
       "2014-12-31 21:17:00    10.645833\n",
       "2014-12-31 22:17:00    11.315789\n",
       "2014-12-31 23:17:00    13.569167\n",
       "\n",
       "[52585 rows x 1 columns]"
      ]
     },
     "execution_count": 217,
     "metadata": {},
     "output_type": "execute_result"
    }
   ],
   "source": [
    "train_df.resample(rule='60T', closed='left', label='left', base=17).mean()"
   ]
  },
  {
   "cell_type": "code",
   "execution_count": 224,
   "metadata": {},
   "outputs": [],
   "source": [
    "test_df = test_df.resample(rule='15T', closed='left', label='left', base=17).mean()"
   ]
  },
  {
   "cell_type": "code",
   "execution_count": 225,
   "metadata": {},
   "outputs": [
    {
     "data": {
      "text/plain": [
       "<matplotlib.axes._subplots.AxesSubplot at 0x70fa82e8>"
      ]
     },
     "execution_count": 225,
     "metadata": {},
     "output_type": "execute_result"
    },
    {
     "data": {
      "image/png": "[encoded data removed]",
      "text/plain": [
       "<Figure size 1080x576 with 1 Axes>"
      ]
     },
     "metadata": {
      "needs_background": "light"
     },
     "output_type": "display_data"
    }
   ],
   "source": [
    "train_df.fare_amount.plot(figsize=(15,8), title= 'Daily Ridership', fontsize=14)"
   ]
  },
  {
   "cell_type": "code",
   "execution_count": 226,
   "metadata": {},
   "outputs": [
    {
     "data": {
      "text/plain": [
       "<matplotlib.axes._subplots.AxesSubplot at 0x72201c88>"
      ]
     },
     "execution_count": 226,
     "metadata": {},
     "output_type": "execute_result"
    },
    {
     "data": {
      "image/png": "[encoded data removed]",
      "text/plain": [
       "<Figure size 1080x576 with 1 Axes>"
      ]
     },
     "metadata": {
      "needs_background": "light"
     },
     "output_type": "display_data"
    }
   ],
   "source": [
    "test_df.fare_amount.plot(figsize=(15,8), title= 'Daily Ridership', fontsize=14)"
   ]
  },
  {
   "cell_type": "code",
   "execution_count": 227,
   "metadata": {},
   "outputs": [],
   "source": [
    "#fit the model\n",
    "from statsmodels.tsa.vector_ar.var_model import VAR"
   ]
  },
  {
   "cell_type": "code",
   "execution_count": 228,
   "metadata": {},
   "outputs": [
    {
     "data": {
      "text/html": [
       "<div>\n",
       "<style scoped>\n",
       "    .dataframe tbody tr th:only-of-type {\n",
       "        vertical-align: middle;\n",
       "    }\n",
       "\n",
       "    .dataframe tbody tr th {\n",
       "        vertical-align: top;\n",
       "    }\n",
       "\n",
       "    .dataframe thead th {\n",
       "        text-align: right;\n",
       "    }\n",
       "</style>\n",
       "<table border=\"1\" class=\"dataframe\">\n",
       "  <thead>\n",
       "    <tr style=\"text-align: right;\">\n",
       "      <th></th>\n",
       "      <th>fare_amount</th>\n",
       "    </tr>\n",
       "    <tr>\n",
       "      <th>interval</th>\n",
       "      <th></th>\n",
       "    </tr>\n",
       "  </thead>\n",
       "  <tbody>\n",
       "    <tr>\n",
       "      <th>2008-12-31 23:17:00</th>\n",
       "      <td>11.666667</td>\n",
       "    </tr>\n",
       "    <tr>\n",
       "      <th>2009-01-01 00:17:00</th>\n",
       "      <td>9.666667</td>\n",
       "    </tr>\n",
       "    <tr>\n",
       "      <th>2009-01-01 01:17:00</th>\n",
       "      <td>8.800000</td>\n",
       "    </tr>\n",
       "    <tr>\n",
       "      <th>2009-01-01 02:17:00</th>\n",
       "      <td>12.811111</td>\n",
       "    </tr>\n",
       "    <tr>\n",
       "      <th>2009-01-01 03:17:00</th>\n",
       "      <td>8.470000</td>\n",
       "    </tr>\n",
       "  </tbody>\n",
       "</table>\n",
       "</div>"
      ],
      "text/plain": [
       "                     fare_amount\n",
       "interval                        \n",
       "2008-12-31 23:17:00    11.666667\n",
       "2009-01-01 00:17:00     9.666667\n",
       "2009-01-01 01:17:00     8.800000\n",
       "2009-01-01 02:17:00    12.811111\n",
       "2009-01-01 03:17:00     8.470000"
      ]
     },
     "execution_count": 228,
     "metadata": {},
     "output_type": "execute_result"
    }
   ],
   "source": [
    "train_df.head()"
   ]
  },
  {
   "cell_type": "code",
   "execution_count": 229,
   "metadata": {},
   "outputs": [
    {
     "data": {
      "text/html": [
       "<div>\n",
       "<style scoped>\n",
       "    .dataframe tbody tr th:only-of-type {\n",
       "        vertical-align: middle;\n",
       "    }\n",
       "\n",
       "    .dataframe tbody tr th {\n",
       "        vertical-align: top;\n",
       "    }\n",
       "\n",
       "    .dataframe thead th {\n",
       "        text-align: right;\n",
       "    }\n",
       "</style>\n",
       "<table border=\"1\" class=\"dataframe\">\n",
       "  <thead>\n",
       "    <tr style=\"text-align: right;\">\n",
       "      <th></th>\n",
       "      <th>fare_amount</th>\n",
       "    </tr>\n",
       "    <tr>\n",
       "      <th>interval</th>\n",
       "      <th></th>\n",
       "    </tr>\n",
       "  </thead>\n",
       "  <tbody>\n",
       "    <tr>\n",
       "      <th>2014-12-31 19:17:00</th>\n",
       "      <td>9.365385</td>\n",
       "    </tr>\n",
       "    <tr>\n",
       "      <th>2014-12-31 20:17:00</th>\n",
       "      <td>9.060606</td>\n",
       "    </tr>\n",
       "    <tr>\n",
       "      <th>2014-12-31 21:17:00</th>\n",
       "      <td>10.645833</td>\n",
       "    </tr>\n",
       "    <tr>\n",
       "      <th>2014-12-31 22:17:00</th>\n",
       "      <td>11.315789</td>\n",
       "    </tr>\n",
       "    <tr>\n",
       "      <th>2014-12-31 23:17:00</th>\n",
       "      <td>13.569167</td>\n",
       "    </tr>\n",
       "  </tbody>\n",
       "</table>\n",
       "</div>"
      ],
      "text/plain": [
       "                     fare_amount\n",
       "interval                        \n",
       "2014-12-31 19:17:00     9.365385\n",
       "2014-12-31 20:17:00     9.060606\n",
       "2014-12-31 21:17:00    10.645833\n",
       "2014-12-31 22:17:00    11.315789\n",
       "2014-12-31 23:17:00    13.569167"
      ]
     },
     "execution_count": 229,
     "metadata": {},
     "output_type": "execute_result"
    }
   ],
   "source": [
    "train_df.tail()"
   ]
  },
  {
   "cell_type": "code",
   "execution_count": null,
   "metadata": {},
   "outputs": [],
   "source": []
  }
 ],
 "metadata": {
  "kernelspec": {
   "display_name": "Python 3",
   "language": "python",
   "name": "python3"
  },
  "language_info": {
   "codemirror_mode": {
    "name": "ipython",
    "version": 3
   },
   "file_extension": ".py",
   "mimetype": "text/x-python",
   "name": "python",
   "nbconvert_exporter": "python",
   "pygments_lexer": "ipython3",
   "version": "3.7.0"
  }
 },
 "nbformat": 4,
 "nbformat_minor": 2
}
