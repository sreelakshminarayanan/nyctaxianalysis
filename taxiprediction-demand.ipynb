{
 "cells": [
  {
   "cell_type": "code",
   "execution_count": 2,
   "metadata": {},
   "outputs": [],
   "source": [
    "# Initial Python environment setup...\n",
    "import numpy as np # linear algebra\n",
    "import pandas as pd # CSV file I/O (e.g. pd.read_csv)\n",
    "import os # reading the input files we have access to"
   ]
  },
  {
   "cell_type": "code",
   "execution_count": 3,
   "metadata": {},
   "outputs": [],
   "source": [
    "from haversine import haversine\n",
    "# packages for mapping\n"
   ]
  },
  {
   "cell_type": "code",
   "execution_count": 4,
   "metadata": {},
   "outputs": [],
   "source": [
    "import matplotlib.pyplot as plt\n",
    "import plotly.figure_factory as ff\n",
    "from plotly.offline import init_notebook_mode, iplot\n",
    "import plotly.graph_objs as go\n",
    "import plotly.plotly as py\n",
    "from plotly import tools\n",
    "%matplotlib inline"
   ]
  },
  {
   "cell_type": "code",
   "execution_count": 5,
   "metadata": {},
   "outputs": [
    {
     "data": {
      "text/plain": [
       "key                   object\n",
       "fare_amount          float64\n",
       "pickup_datetime       object\n",
       "pickup_longitude     float64\n",
       "pickup_latitude      float64\n",
       "dropoff_longitude    float64\n",
       "dropoff_latitude     float64\n",
       "passenger_count        int64\n",
       "dtype: object"
      ]
     },
     "execution_count": 5,
     "metadata": {},
     "output_type": "execute_result"
    }
   ],
   "source": [
    "train_df =  pd.read_csv('train.csv', nrows = 10_000_00)\n",
    "train_df.dtypes"
   ]
  },
  {
   "cell_type": "code",
   "execution_count": 5,
   "metadata": {},
   "outputs": [
    {
     "data": {
      "text/html": [
       "<div>\n",
       "<style scoped>\n",
       "    .dataframe tbody tr th:only-of-type {\n",
       "        vertical-align: middle;\n",
       "    }\n",
       "\n",
       "    .dataframe tbody tr th {\n",
       "        vertical-align: top;\n",
       "    }\n",
       "\n",
       "    .dataframe thead th {\n",
       "        text-align: right;\n",
       "    }\n",
       "</style>\n",
       "<table border=\"1\" class=\"dataframe\">\n",
       "  <thead>\n",
       "    <tr style=\"text-align: right;\">\n",
       "      <th></th>\n",
       "      <th>key</th>\n",
       "      <th>fare_amount</th>\n",
       "      <th>pickup_datetime</th>\n",
       "      <th>pickup_longitude</th>\n",
       "      <th>pickup_latitude</th>\n",
       "      <th>dropoff_longitude</th>\n",
       "      <th>dropoff_latitude</th>\n",
       "      <th>passenger_count</th>\n",
       "    </tr>\n",
       "  </thead>\n",
       "  <tbody>\n",
       "    <tr>\n",
       "      <th>0</th>\n",
       "      <td>2009-06-15 17:26:21.0000001</td>\n",
       "      <td>4.5</td>\n",
       "      <td>2009-06-15 17:26:21 UTC</td>\n",
       "      <td>-73.844311</td>\n",
       "      <td>40.721319</td>\n",
       "      <td>-73.841610</td>\n",
       "      <td>40.712278</td>\n",
       "      <td>1</td>\n",
       "    </tr>\n",
       "    <tr>\n",
       "      <th>1</th>\n",
       "      <td>2010-01-05 16:52:16.0000002</td>\n",
       "      <td>16.9</td>\n",
       "      <td>2010-01-05 16:52:16 UTC</td>\n",
       "      <td>-74.016048</td>\n",
       "      <td>40.711303</td>\n",
       "      <td>-73.979268</td>\n",
       "      <td>40.782004</td>\n",
       "      <td>1</td>\n",
       "    </tr>\n",
       "    <tr>\n",
       "      <th>2</th>\n",
       "      <td>2011-08-18 00:35:00.00000049</td>\n",
       "      <td>5.7</td>\n",
       "      <td>2011-08-18 00:35:00 UTC</td>\n",
       "      <td>-73.982738</td>\n",
       "      <td>40.761270</td>\n",
       "      <td>-73.991242</td>\n",
       "      <td>40.750562</td>\n",
       "      <td>2</td>\n",
       "    </tr>\n",
       "    <tr>\n",
       "      <th>3</th>\n",
       "      <td>2012-04-21 04:30:42.0000001</td>\n",
       "      <td>7.7</td>\n",
       "      <td>2012-04-21 04:30:42 UTC</td>\n",
       "      <td>-73.987130</td>\n",
       "      <td>40.733143</td>\n",
       "      <td>-73.991567</td>\n",
       "      <td>40.758092</td>\n",
       "      <td>1</td>\n",
       "    </tr>\n",
       "    <tr>\n",
       "      <th>4</th>\n",
       "      <td>2010-03-09 07:51:00.000000135</td>\n",
       "      <td>5.3</td>\n",
       "      <td>2010-03-09 07:51:00 UTC</td>\n",
       "      <td>-73.968095</td>\n",
       "      <td>40.768008</td>\n",
       "      <td>-73.956655</td>\n",
       "      <td>40.783762</td>\n",
       "      <td>1</td>\n",
       "    </tr>\n",
       "  </tbody>\n",
       "</table>\n",
       "</div>"
      ],
      "text/plain": [
       "                             key  fare_amount          pickup_datetime  \\\n",
       "0    2009-06-15 17:26:21.0000001          4.5  2009-06-15 17:26:21 UTC   \n",
       "1    2010-01-05 16:52:16.0000002         16.9  2010-01-05 16:52:16 UTC   \n",
       "2   2011-08-18 00:35:00.00000049          5.7  2011-08-18 00:35:00 UTC   \n",
       "3    2012-04-21 04:30:42.0000001          7.7  2012-04-21 04:30:42 UTC   \n",
       "4  2010-03-09 07:51:00.000000135          5.3  2010-03-09 07:51:00 UTC   \n",
       "\n",
       "   pickup_longitude  pickup_latitude  dropoff_longitude  dropoff_latitude  \\\n",
       "0        -73.844311        40.721319         -73.841610         40.712278   \n",
       "1        -74.016048        40.711303         -73.979268         40.782004   \n",
       "2        -73.982738        40.761270         -73.991242         40.750562   \n",
       "3        -73.987130        40.733143         -73.991567         40.758092   \n",
       "4        -73.968095        40.768008         -73.956655         40.783762   \n",
       "\n",
       "   passenger_count  \n",
       "0                1  \n",
       "1                1  \n",
       "2                2  \n",
       "3                1  \n",
       "4                1  "
      ]
     },
     "execution_count": 5,
     "metadata": {},
     "output_type": "execute_result"
    }
   ],
   "source": [
    "train_df.head()"
   ]
  },
  {
   "cell_type": "code",
   "execution_count": 6,
   "metadata": {},
   "outputs": [],
   "source": [
    "# tranform pickup date time to datetimeobject\n",
    "train_df['pickup_datetime']= pd.to_datetime(train_df['pickup_datetime'])\n"
   ]
  },
  {
   "cell_type": "code",
   "execution_count": 7,
   "metadata": {},
   "outputs": [],
   "source": [
    " # Compute the day of week\n",
    "\n",
    "train_df['pickup_day_of_week']=train_df['pickup_datetime'].dt.dayofweek"
   ]
  },
  {
   "cell_type": "code",
   "execution_count": 8,
   "metadata": {},
   "outputs": [],
   "source": [
    " #Compute the month\n",
    "train_df['pickup_month']=train_df['pickup_datetime'].dt.month"
   ]
  },
  {
   "cell_type": "code",
   "execution_count": 9,
   "metadata": {},
   "outputs": [
    {
     "data": {
      "text/html": [
       "<div>\n",
       "<style scoped>\n",
       "    .dataframe tbody tr th:only-of-type {\n",
       "        vertical-align: middle;\n",
       "    }\n",
       "\n",
       "    .dataframe tbody tr th {\n",
       "        vertical-align: top;\n",
       "    }\n",
       "\n",
       "    .dataframe thead th {\n",
       "        text-align: right;\n",
       "    }\n",
       "</style>\n",
       "<table border=\"1\" class=\"dataframe\">\n",
       "  <thead>\n",
       "    <tr style=\"text-align: right;\">\n",
       "      <th></th>\n",
       "      <th>key</th>\n",
       "      <th>fare_amount</th>\n",
       "      <th>pickup_datetime</th>\n",
       "      <th>pickup_longitude</th>\n",
       "      <th>pickup_latitude</th>\n",
       "      <th>dropoff_longitude</th>\n",
       "      <th>dropoff_latitude</th>\n",
       "      <th>passenger_count</th>\n",
       "      <th>pickup_day_of_week</th>\n",
       "      <th>pickup_month</th>\n",
       "    </tr>\n",
       "  </thead>\n",
       "  <tbody>\n",
       "    <tr>\n",
       "      <th>999995</th>\n",
       "      <td>2014-09-13 21:44:38.0000001</td>\n",
       "      <td>7.0</td>\n",
       "      <td>2014-09-13 21:44:38</td>\n",
       "      <td>-73.976676</td>\n",
       "      <td>40.785630</td>\n",
       "      <td>-73.959196</td>\n",
       "      <td>40.775114</td>\n",
       "      <td>1</td>\n",
       "      <td>5</td>\n",
       "      <td>9</td>\n",
       "    </tr>\n",
       "    <tr>\n",
       "      <th>999996</th>\n",
       "      <td>2010-09-20 14:50:37.0000002</td>\n",
       "      <td>7.3</td>\n",
       "      <td>2010-09-20 14:50:37</td>\n",
       "      <td>-73.992103</td>\n",
       "      <td>40.671385</td>\n",
       "      <td>-73.992103</td>\n",
       "      <td>40.671385</td>\n",
       "      <td>2</td>\n",
       "      <td>0</td>\n",
       "      <td>9</td>\n",
       "    </tr>\n",
       "    <tr>\n",
       "      <th>999997</th>\n",
       "      <td>2013-04-26 14:03:00.000000118</td>\n",
       "      <td>10.5</td>\n",
       "      <td>2013-04-26 14:03:00</td>\n",
       "      <td>-73.978423</td>\n",
       "      <td>40.751135</td>\n",
       "      <td>-73.993397</td>\n",
       "      <td>40.762197</td>\n",
       "      <td>5</td>\n",
       "      <td>4</td>\n",
       "      <td>4</td>\n",
       "    </tr>\n",
       "    <tr>\n",
       "      <th>999998</th>\n",
       "      <td>2011-07-08 00:29:00.00000099</td>\n",
       "      <td>6.9</td>\n",
       "      <td>2011-07-08 00:29:00</td>\n",
       "      <td>-73.980317</td>\n",
       "      <td>40.759482</td>\n",
       "      <td>-73.976832</td>\n",
       "      <td>40.743122</td>\n",
       "      <td>1</td>\n",
       "      <td>4</td>\n",
       "      <td>7</td>\n",
       "    </tr>\n",
       "    <tr>\n",
       "      <th>999999</th>\n",
       "      <td>2009-12-31 14:30:00.00000021</td>\n",
       "      <td>4.1</td>\n",
       "      <td>2009-12-31 14:30:00</td>\n",
       "      <td>-74.006635</td>\n",
       "      <td>40.741598</td>\n",
       "      <td>-73.999450</td>\n",
       "      <td>40.745702</td>\n",
       "      <td>1</td>\n",
       "      <td>3</td>\n",
       "      <td>12</td>\n",
       "    </tr>\n",
       "  </tbody>\n",
       "</table>\n",
       "</div>"
      ],
      "text/plain": [
       "                                  key  fare_amount     pickup_datetime  \\\n",
       "999995    2014-09-13 21:44:38.0000001          7.0 2014-09-13 21:44:38   \n",
       "999996    2010-09-20 14:50:37.0000002          7.3 2010-09-20 14:50:37   \n",
       "999997  2013-04-26 14:03:00.000000118         10.5 2013-04-26 14:03:00   \n",
       "999998   2011-07-08 00:29:00.00000099          6.9 2011-07-08 00:29:00   \n",
       "999999   2009-12-31 14:30:00.00000021          4.1 2009-12-31 14:30:00   \n",
       "\n",
       "        pickup_longitude  pickup_latitude  dropoff_longitude  \\\n",
       "999995        -73.976676        40.785630         -73.959196   \n",
       "999996        -73.992103        40.671385         -73.992103   \n",
       "999997        -73.978423        40.751135         -73.993397   \n",
       "999998        -73.980317        40.759482         -73.976832   \n",
       "999999        -74.006635        40.741598         -73.999450   \n",
       "\n",
       "        dropoff_latitude  passenger_count  pickup_day_of_week  pickup_month  \n",
       "999995         40.775114                1                   5             9  \n",
       "999996         40.671385                2                   0             9  \n",
       "999997         40.762197                5                   4             4  \n",
       "999998         40.743122                1                   4             7  \n",
       "999999         40.745702                1                   3            12  "
      ]
     },
     "execution_count": 9,
     "metadata": {},
     "output_type": "execute_result"
    }
   ],
   "source": [
    "train_df.tail()"
   ]
  },
  {
   "cell_type": "code",
   "execution_count": 10,
   "metadata": {},
   "outputs": [],
   "source": [
    "train_df['pickup_date']=train_df['pickup_datetime'].dt.date"
   ]
  },
  {
   "cell_type": "code",
   "execution_count": 11,
   "metadata": {},
   "outputs": [
    {
     "data": {
      "text/plain": [
       "<matplotlib.axes._subplots.AxesSubplot at 0x50e5eb8>"
      ]
     },
     "execution_count": 11,
     "metadata": {},
     "output_type": "execute_result"
    },
    {
     "data": {
      "image/png": "[encoded data removed]",
      "text/plain": [
       "<Figure size 432x288 with 1 Axes>"
      ]
     },
     "metadata": {
      "needs_background": "light"
     },
     "output_type": "display_data"
    }
   ],
   "source": [
    "train_df[\"pickup_month\"].value_counts().sort_index().plot()"
   ]
  },
  {
   "cell_type": "code",
   "execution_count": 12,
   "metadata": {},
   "outputs": [],
   "source": [
    "train_df.sort_values('pickup_day_of_week', ascending = True, inplace= True)"
   ]
  },
  {
   "cell_type": "code",
   "execution_count": 13,
   "metadata": {},
   "outputs": [
    {
     "data": {
      "text/plain": [
       "<matplotlib.axes._subplots.AxesSubplot at 0xd49b080>"
      ]
     },
     "execution_count": 13,
     "metadata": {},
     "output_type": "execute_result"
    },
    {
     "data": {
      "image/png": "[encoded data removed]",
      "text/plain": [
       "<Figure size 432x288 with 1 Axes>"
      ]
     },
     "metadata": {
      "needs_background": "light"
     },
     "output_type": "display_data"
    }
   ],
   "source": [
    "train_df[\"pickup_day_of_week\"].value_counts().sort_index().plot()"
   ]
  },
  {
   "cell_type": "code",
   "execution_count": 14,
   "metadata": {},
   "outputs": [],
   "source": [
    "train_df['pickup_hour']=train_df['pickup_datetime'].dt.hour"
   ]
  },
  {
   "cell_type": "code",
   "execution_count": 15,
   "metadata": {},
   "outputs": [
    {
     "data": {
      "text/plain": [
       "<matplotlib.axes._subplots.AxesSubplot at 0xd5015f8>"
      ]
     },
     "execution_count": 15,
     "metadata": {},
     "output_type": "execute_result"
    },
    {
     "data": {
      "image/png": "[encoded data removed]",
      "text/plain": [
       "<Figure size 432x288 with 1 Axes>"
      ]
     },
     "metadata": {
      "needs_background": "light"
     },
     "output_type": "display_data"
    }
   ],
   "source": [
    "train_df['pickup_hour'].value_counts().sort_index().plot()"
   ]
  },
  {
   "cell_type": "code",
   "execution_count": 16,
   "metadata": {},
   "outputs": [],
   "source": [
    "train_df['pickup_year']=train_df['pickup_datetime'].dt.year"
   ]
  },
  {
   "cell_type": "code",
   "execution_count": 17,
   "metadata": {},
   "outputs": [
    {
     "data": {
      "text/plain": [
       "<matplotlib.axes._subplots.AxesSubplot at 0xd5607f0>"
      ]
     },
     "execution_count": 17,
     "metadata": {},
     "output_type": "execute_result"
    },
    {
     "data": {
      "image/png": "[encoded data removed]",
      "text/plain": [
       "<Figure size 432x288 with 1 Axes>"
      ]
     },
     "metadata": {
      "needs_background": "light"
     },
     "output_type": "display_data"
    }
   ],
   "source": [
    "train_df['pickup_year'].value_counts().sort_index().plot()"
   ]
  },
  {
   "cell_type": "code",
   "execution_count": 18,
   "metadata": {},
   "outputs": [
    {
     "data": {
      "text/plain": [
       "<matplotlib.axes._subplots.AxesSubplot at 0xd5cc7f0>"
      ]
     },
     "execution_count": 18,
     "metadata": {},
     "output_type": "execute_result"
    },
    {
     "data": {
      "image/png": "[encoded data removed]",
      "text/plain": [
       "<Figure size 432x288 with 1 Axes>"
      ]
     },
     "metadata": {
      "needs_background": "light"
     },
     "output_type": "display_data"
    }
   ],
   "source": [
    "train_df.groupby('pickup_hour')['fare_amount'].mean().plot()"
   ]
  },
  {
   "cell_type": "code",
   "execution_count": 19,
   "metadata": {},
   "outputs": [
    {
     "data": {
      "text/plain": [
       "<matplotlib.axes._subplots.AxesSubplot at 0xd610908>"
      ]
     },
     "execution_count": 19,
     "metadata": {},
     "output_type": "execute_result"
    },
    {
     "data": {
      "image/png": "[encoded data removed]",
      "text/plain": [
       "<Figure size 432x288 with 1 Axes>"
      ]
     },
     "metadata": {
      "needs_background": "light"
     },
     "output_type": "display_data"
    }
   ],
   "source": [
    "train_df.groupby('pickup_day_of_week')['fare_amount'].mean().plot()"
   ]
  },
  {
   "cell_type": "code",
   "execution_count": 20,
   "metadata": {},
   "outputs": [
    {
     "data": {
      "text/plain": [
       "<matplotlib.axes._subplots.AxesSubplot at 0xd67f208>"
      ]
     },
     "execution_count": 20,
     "metadata": {},
     "output_type": "execute_result"
    },
    {
     "data": {
      "image/png": "[encoded data removed]",
      "text/plain": [
       "<Figure size 432x288 with 1 Axes>"
      ]
     },
     "metadata": {
      "needs_background": "light"
     },
     "output_type": "display_data"
    }
   ],
   "source": [
    "train_df.groupby('pickup_month')['fare_amount'].mean().plot()"
   ]
  },
  {
   "cell_type": "code",
   "execution_count": 21,
   "metadata": {},
   "outputs": [
    {
     "data": {
      "text/plain": [
       "<matplotlib.axes._subplots.AxesSubplot at 0x1ad788d0>"
      ]
     },
     "execution_count": 21,
     "metadata": {},
     "output_type": "execute_result"
    },
    {
     "data": {
      "image/png": "[encoded data removed]",
      "text/plain": [
       "<Figure size 1152x360 with 1 Axes>"
      ]
     },
     "metadata": {
      "needs_background": "light"
     },
     "output_type": "display_data"
    }
   ],
   "source": [
    "train_df[\"fare_amount\"].plot.box(figsize=(16,5))  "
   ]
  },
  {
   "cell_type": "code",
   "execution_count": 27,
   "metadata": {},
   "outputs": [
    {
     "data": {
      "text/html": [
       "<div>\n",
       "<style scoped>\n",
       "    .dataframe tbody tr th:only-of-type {\n",
       "        vertical-align: middle;\n",
       "    }\n",
       "\n",
       "    .dataframe tbody tr th {\n",
       "        vertical-align: top;\n",
       "    }\n",
       "\n",
       "    .dataframe thead th {\n",
       "        text-align: right;\n",
       "    }\n",
       "</style>\n",
       "<table border=\"1\" class=\"dataframe\">\n",
       "  <thead>\n",
       "    <tr style=\"text-align: right;\">\n",
       "      <th></th>\n",
       "      <th>key</th>\n",
       "      <th>fare_amount</th>\n",
       "      <th>pickup_datetime</th>\n",
       "      <th>pickup_longitude</th>\n",
       "      <th>pickup_latitude</th>\n",
       "      <th>dropoff_longitude</th>\n",
       "      <th>dropoff_latitude</th>\n",
       "      <th>passenger_count</th>\n",
       "      <th>pickup_day_of_week</th>\n",
       "      <th>pickup_month</th>\n",
       "      <th>pickup_date</th>\n",
       "      <th>pickup_hour</th>\n",
       "      <th>pickup_year</th>\n",
       "    </tr>\n",
       "  </thead>\n",
       "  <tbody>\n",
       "    <tr>\n",
       "      <th>0</th>\n",
       "      <td>2009-06-15 17:26:21.0000001</td>\n",
       "      <td>4.5</td>\n",
       "      <td>2009-06-15 17:26:21</td>\n",
       "      <td>-73.844311</td>\n",
       "      <td>40.721319</td>\n",
       "      <td>-73.841610</td>\n",
       "      <td>40.712278</td>\n",
       "      <td>1</td>\n",
       "      <td>0</td>\n",
       "      <td>6</td>\n",
       "      <td>2009-06-15</td>\n",
       "      <td>17</td>\n",
       "      <td>2009</td>\n",
       "    </tr>\n",
       "    <tr>\n",
       "      <th>410475</th>\n",
       "      <td>2009-08-03 23:01:00.00000077</td>\n",
       "      <td>4.5</td>\n",
       "      <td>2009-08-03 23:01:00</td>\n",
       "      <td>-73.992147</td>\n",
       "      <td>40.762532</td>\n",
       "      <td>-73.984915</td>\n",
       "      <td>40.768142</td>\n",
       "      <td>5</td>\n",
       "      <td>0</td>\n",
       "      <td>8</td>\n",
       "      <td>2009-08-03</td>\n",
       "      <td>23</td>\n",
       "      <td>2009</td>\n",
       "    </tr>\n",
       "    <tr>\n",
       "      <th>410487</th>\n",
       "      <td>2011-07-11 13:08:09.0000001</td>\n",
       "      <td>10.9</td>\n",
       "      <td>2011-07-11 13:08:09</td>\n",
       "      <td>-73.993900</td>\n",
       "      <td>40.750800</td>\n",
       "      <td>-74.014800</td>\n",
       "      <td>40.718000</td>\n",
       "      <td>1</td>\n",
       "      <td>0</td>\n",
       "      <td>7</td>\n",
       "      <td>2011-07-11</td>\n",
       "      <td>13</td>\n",
       "      <td>2011</td>\n",
       "    </tr>\n",
       "    <tr>\n",
       "      <th>410491</th>\n",
       "      <td>2012-12-17 22:58:00.000000163</td>\n",
       "      <td>29.0</td>\n",
       "      <td>2012-12-17 22:58:00</td>\n",
       "      <td>-73.979827</td>\n",
       "      <td>40.766015</td>\n",
       "      <td>-73.962497</td>\n",
       "      <td>40.677382</td>\n",
       "      <td>3</td>\n",
       "      <td>0</td>\n",
       "      <td>12</td>\n",
       "      <td>2012-12-17</td>\n",
       "      <td>22</td>\n",
       "      <td>2012</td>\n",
       "    </tr>\n",
       "    <tr>\n",
       "      <th>410493</th>\n",
       "      <td>2011-02-28 22:03:00.000000115</td>\n",
       "      <td>6.1</td>\n",
       "      <td>2011-02-28 22:03:00</td>\n",
       "      <td>-73.995742</td>\n",
       "      <td>40.726778</td>\n",
       "      <td>-73.978080</td>\n",
       "      <td>40.721325</td>\n",
       "      <td>1</td>\n",
       "      <td>0</td>\n",
       "      <td>2</td>\n",
       "      <td>2011-02-28</td>\n",
       "      <td>22</td>\n",
       "      <td>2011</td>\n",
       "    </tr>\n",
       "  </tbody>\n",
       "</table>\n",
       "</div>"
      ],
      "text/plain": [
       "                                  key  fare_amount     pickup_datetime  \\\n",
       "0         2009-06-15 17:26:21.0000001          4.5 2009-06-15 17:26:21   \n",
       "410475   2009-08-03 23:01:00.00000077          4.5 2009-08-03 23:01:00   \n",
       "410487    2011-07-11 13:08:09.0000001         10.9 2011-07-11 13:08:09   \n",
       "410491  2012-12-17 22:58:00.000000163         29.0 2012-12-17 22:58:00   \n",
       "410493  2011-02-28 22:03:00.000000115          6.1 2011-02-28 22:03:00   \n",
       "\n",
       "        pickup_longitude  pickup_latitude  dropoff_longitude  \\\n",
       "0             -73.844311        40.721319         -73.841610   \n",
       "410475        -73.992147        40.762532         -73.984915   \n",
       "410487        -73.993900        40.750800         -74.014800   \n",
       "410491        -73.979827        40.766015         -73.962497   \n",
       "410493        -73.995742        40.726778         -73.978080   \n",
       "\n",
       "        dropoff_latitude  passenger_count  pickup_day_of_week  pickup_month  \\\n",
       "0              40.712278                1                   0             6   \n",
       "410475         40.768142                5                   0             8   \n",
       "410487         40.718000                1                   0             7   \n",
       "410491         40.677382                3                   0            12   \n",
       "410493         40.721325                1                   0             2   \n",
       "\n",
       "       pickup_date  pickup_hour  pickup_year  \n",
       "0       2009-06-15           17         2009  \n",
       "410475  2009-08-03           23         2009  \n",
       "410487  2011-07-11           13         2011  \n",
       "410491  2012-12-17           22         2012  \n",
       "410493  2011-02-28           22         2011  "
      ]
     },
     "execution_count": 27,
     "metadata": {},
     "output_type": "execute_result"
    }
   ],
   "source": [
    "train_df.head()"
   ]
  },
  {
   "cell_type": "code",
   "execution_count": 28,
   "metadata": {},
   "outputs": [],
   "source": [
    "train_df['id'] = train_df.index"
   ]
  },
  {
   "cell_type": "code",
   "execution_count": 314,
   "metadata": {},
   "outputs": [],
   "source": [
    "new =train_df.groupby(pd.Grouper(key='pickup_datetime', freq='30T')).apply(lambda x: x['id'])"
   ]
  },
  {
   "cell_type": "code",
   "execution_count": 315,
   "metadata": {},
   "outputs": [],
   "source": [
    "train_df['id'] = train_df.index"
   ]
  },
  {
   "cell_type": "code",
   "execution_count": 316,
   "metadata": {},
   "outputs": [
    {
     "data": {
      "text/plain": [
       "pickup_datetime            \n",
       "2009-01-01 00:00:00  496831    880228\n",
       "                     476205    661006\n",
       "                     455668    756707\n",
       "                     463490    745620\n",
       "                     497968    964259\n",
       "                     429612    915988\n",
       "2009-01-01 00:30:00  534793    297860\n",
       "                     551639    124750\n",
       "                     475925    876677\n",
       "                     543219     82469\n",
       "                     553673    124445\n",
       "                     481315    973236\n",
       "                     492985    965480\n",
       "2009-01-01 01:00:00  452273    760438\n",
       "                     473058    894290\n",
       "                     462003    766885\n",
       "                     467958    945037\n",
       "                     501683     76195\n",
       "                     506057    102243\n",
       "                     491811    773755\n",
       "                     413667    542263\n",
       "2009-01-01 01:30:00  470098     12739\n",
       "                     425369    709206\n",
       "                     525187    307980\n",
       "                     416679    674362\n",
       "2009-01-01 02:00:00  445246     17546\n",
       "                     482801     25687\n",
       "                     475710    719299\n",
       "                     414945    542248\n",
       "                     526737    304112\n",
       "                                ...  \n",
       "2015-06-30 22:30:00  265947    990467\n",
       "                     198065    525126\n",
       "                     136498    701682\n",
       "                     223827    392244\n",
       "                     198318    475897\n",
       "                     185718    569474\n",
       "                     259067      1428\n",
       "                     159471    828099\n",
       "                     254095    194700\n",
       "                     268431    114820\n",
       "                     222546    391489\n",
       "                     160395     98082\n",
       "2015-06-30 23:00:00  256779    939905\n",
       "                     137854    337140\n",
       "                     174863    450764\n",
       "                     156421    841675\n",
       "                     139440    350061\n",
       "                     249852    179298\n",
       "                     207301    647613\n",
       "                     208742    362807\n",
       "                     243818    182743\n",
       "2015-06-30 23:30:00  194077    506007\n",
       "                     133754    751978\n",
       "                     160836    240182\n",
       "                     142686    323864\n",
       "                     164262    286276\n",
       "                     234133    955575\n",
       "                     246934    915826\n",
       "                     133822    751350\n",
       "                     172083    785182\n",
       "Name: id, Length: 1000000, dtype: int64"
      ]
     },
     "execution_count": 316,
     "metadata": {},
     "output_type": "execute_result"
    }
   ],
   "source": [
    "new"
   ]
  },
  {
   "cell_type": "code",
   "execution_count": 317,
   "metadata": {},
   "outputs": [
    {
     "data": {
      "text/plain": [
       "TimeGrouper(key='pickup_datetime', freq=<30 * MonthEnds>, axis=0, sort=True, closed='right', label='right', how='mean', convention='e', base=0)"
      ]
     },
     "execution_count": 317,
     "metadata": {},
     "output_type": "execute_result"
    }
   ],
   "source": [
    "pd.Grouper(key='pickup_datetime', freq='30m')"
   ]
  },
  {
   "cell_type": "code",
   "execution_count": 318,
   "metadata": {},
   "outputs": [
    {
     "data": {
      "text/plain": [
       "DatetimeIndex(['2009-01-01 00:00:00', '2009-01-01 00:00:00',\n",
       "               '2009-01-01 00:00:00', '2009-01-01 00:00:00',\n",
       "               '2009-01-01 00:00:00', '2009-01-01 00:00:00',\n",
       "               '2009-01-01 00:30:00', '2009-01-01 00:30:00',\n",
       "               '2009-01-01 00:30:00', '2009-01-01 00:30:00',\n",
       "               ...\n",
       "               '2015-06-30 23:00:00', '2015-06-30 23:30:00',\n",
       "               '2015-06-30 23:30:00', '2015-06-30 23:30:00',\n",
       "               '2015-06-30 23:30:00', '2015-06-30 23:30:00',\n",
       "               '2015-06-30 23:30:00', '2015-06-30 23:30:00',\n",
       "               '2015-06-30 23:30:00', '2015-06-30 23:30:00'],\n",
       "              dtype='datetime64[ns]', name='pickup_datetime', length=1000000, freq='30T')"
      ]
     },
     "execution_count": 318,
     "metadata": {},
     "output_type": "execute_result"
    }
   ],
   "source": [
    "new.index.get_level_values('pickup_datetime')"
   ]
  },
  {
   "cell_type": "code",
   "execution_count": 319,
   "metadata": {},
   "outputs": [
    {
     "data": {
      "text/html": [
       "<div>\n",
       "<style scoped>\n",
       "    .dataframe tbody tr th:only-of-type {\n",
       "        vertical-align: middle;\n",
       "    }\n",
       "\n",
       "    .dataframe tbody tr th {\n",
       "        vertical-align: top;\n",
       "    }\n",
       "\n",
       "    .dataframe thead th {\n",
       "        text-align: right;\n",
       "    }\n",
       "</style>\n",
       "<table border=\"1\" class=\"dataframe\">\n",
       "  <thead>\n",
       "    <tr style=\"text-align: right;\">\n",
       "      <th></th>\n",
       "      <th>key</th>\n",
       "      <th>fare_amount</th>\n",
       "      <th>pickup_datetime</th>\n",
       "      <th>pickup_longitude</th>\n",
       "      <th>pickup_latitude</th>\n",
       "      <th>dropoff_longitude</th>\n",
       "      <th>dropoff_latitude</th>\n",
       "      <th>passenger_count</th>\n",
       "      <th>pickup_day_of_week</th>\n",
       "      <th>pickup_month</th>\n",
       "      <th>pickup_date</th>\n",
       "      <th>pickup_hour</th>\n",
       "      <th>pickup_year</th>\n",
       "      <th>id</th>\n",
       "      <th>interval</th>\n",
       "      <th>interval_time</th>\n",
       "      <th>demand</th>\n",
       "      <th>distance</th>\n",
       "    </tr>\n",
       "  </thead>\n",
       "  <tbody>\n",
       "  </tbody>\n",
       "</table>\n",
       "</div>"
      ],
      "text/plain": [
       "Empty DataFrame\n",
       "Columns: [key, fare_amount, pickup_datetime, pickup_longitude, pickup_latitude, dropoff_longitude, dropoff_latitude, passenger_count, pickup_day_of_week, pickup_month, pickup_date, pickup_hour, pickup_year, id, interval, interval_time, demand, distance]\n",
       "Index: []"
      ]
     },
     "execution_count": 319,
     "metadata": {},
     "output_type": "execute_result"
    }
   ],
   "source": [
    "train_df.loc[train_df[\"key\"] == '799435' ]"
   ]
  },
  {
   "cell_type": "code",
   "execution_count": 320,
   "metadata": {},
   "outputs": [
    {
     "data": {
      "text/plain": [
       "key                           object\n",
       "fare_amount                  float64\n",
       "pickup_datetime       datetime64[ns]\n",
       "pickup_longitude             float64\n",
       "pickup_latitude              float64\n",
       "dropoff_longitude            float64\n",
       "dropoff_latitude             float64\n",
       "passenger_count                int64\n",
       "pickup_day_of_week             int64\n",
       "pickup_month                   int64\n",
       "pickup_date                   object\n",
       "pickup_hour                    int64\n",
       "pickup_year                    int64\n",
       "id                             int64\n",
       "interval              datetime64[ns]\n",
       "interval_time                 object\n",
       "demand                         int64\n",
       "distance                     float64\n",
       "dtype: object"
      ]
     },
     "execution_count": 320,
     "metadata": {},
     "output_type": "execute_result"
    }
   ],
   "source": [
    "train_df.dtypes"
   ]
  },
  {
   "cell_type": "code",
   "execution_count": 321,
   "metadata": {},
   "outputs": [],
   "source": [
    "interval_df=pd.DataFrame({'interval':new.index.get_level_values(0), 'id':new.index.get_level_values(1)})"
   ]
  },
  {
   "cell_type": "code",
   "execution_count": 322,
   "metadata": {},
   "outputs": [
    {
     "data": {
      "text/plain": [
       "Int64Index([496831, 476205, 455668, 463490, 497968, 429612, 534793, 551639,\n",
       "            475925, 543219,\n",
       "            ...\n",
       "            243818, 194077, 133754, 160836, 142686, 164262, 234133, 246934,\n",
       "            133822, 172083],\n",
       "           dtype='int64', length=1000000)"
      ]
     },
     "execution_count": 322,
     "metadata": {},
     "output_type": "execute_result"
    }
   ],
   "source": [
    "new.index.get_level_values(1)"
   ]
  },
  {
   "cell_type": "code",
   "execution_count": 323,
   "metadata": {},
   "outputs": [
    {
     "data": {
      "text/plain": [
       "interval    datetime64[ns]\n",
       "id                   int64\n",
       "dtype: object"
      ]
     },
     "execution_count": 323,
     "metadata": {},
     "output_type": "execute_result"
    }
   ],
   "source": [
    "interval_df.dtypes"
   ]
  },
  {
   "cell_type": "code",
   "execution_count": 324,
   "metadata": {},
   "outputs": [
    {
     "data": {
      "text/html": [
       "<div>\n",
       "<style scoped>\n",
       "    .dataframe tbody tr th:only-of-type {\n",
       "        vertical-align: middle;\n",
       "    }\n",
       "\n",
       "    .dataframe tbody tr th {\n",
       "        vertical-align: top;\n",
       "    }\n",
       "\n",
       "    .dataframe thead th {\n",
       "        text-align: right;\n",
       "    }\n",
       "</style>\n",
       "<table border=\"1\" class=\"dataframe\">\n",
       "  <thead>\n",
       "    <tr style=\"text-align: right;\">\n",
       "      <th></th>\n",
       "      <th>interval</th>\n",
       "      <th>id</th>\n",
       "    </tr>\n",
       "  </thead>\n",
       "  <tbody>\n",
       "    <tr>\n",
       "      <th>999995</th>\n",
       "      <td>2015-06-30 23:30:00</td>\n",
       "      <td>164262</td>\n",
       "    </tr>\n",
       "    <tr>\n",
       "      <th>999996</th>\n",
       "      <td>2015-06-30 23:30:00</td>\n",
       "      <td>234133</td>\n",
       "    </tr>\n",
       "    <tr>\n",
       "      <th>999997</th>\n",
       "      <td>2015-06-30 23:30:00</td>\n",
       "      <td>246934</td>\n",
       "    </tr>\n",
       "    <tr>\n",
       "      <th>999998</th>\n",
       "      <td>2015-06-30 23:30:00</td>\n",
       "      <td>133822</td>\n",
       "    </tr>\n",
       "    <tr>\n",
       "      <th>999999</th>\n",
       "      <td>2015-06-30 23:30:00</td>\n",
       "      <td>172083</td>\n",
       "    </tr>\n",
       "  </tbody>\n",
       "</table>\n",
       "</div>"
      ],
      "text/plain": [
       "                  interval      id\n",
       "999995 2015-06-30 23:30:00  164262\n",
       "999996 2015-06-30 23:30:00  234133\n",
       "999997 2015-06-30 23:30:00  246934\n",
       "999998 2015-06-30 23:30:00  133822\n",
       "999999 2015-06-30 23:30:00  172083"
      ]
     },
     "execution_count": 324,
     "metadata": {},
     "output_type": "execute_result"
    }
   ],
   "source": [
    "interval_df.tail()"
   ]
  },
  {
   "cell_type": "code",
   "execution_count": 325,
   "metadata": {},
   "outputs": [
    {
     "data": {
      "text/html": [
       "<div>\n",
       "<style scoped>\n",
       "    .dataframe tbody tr th:only-of-type {\n",
       "        vertical-align: middle;\n",
       "    }\n",
       "\n",
       "    .dataframe tbody tr th {\n",
       "        vertical-align: top;\n",
       "    }\n",
       "\n",
       "    .dataframe thead th {\n",
       "        text-align: right;\n",
       "    }\n",
       "</style>\n",
       "<table border=\"1\" class=\"dataframe\">\n",
       "  <thead>\n",
       "    <tr style=\"text-align: right;\">\n",
       "      <th></th>\n",
       "      <th>key</th>\n",
       "      <th>fare_amount</th>\n",
       "      <th>pickup_datetime</th>\n",
       "      <th>pickup_longitude</th>\n",
       "      <th>pickup_latitude</th>\n",
       "      <th>dropoff_longitude</th>\n",
       "      <th>dropoff_latitude</th>\n",
       "      <th>passenger_count</th>\n",
       "      <th>pickup_day_of_week</th>\n",
       "      <th>pickup_month</th>\n",
       "      <th>pickup_date</th>\n",
       "      <th>pickup_hour</th>\n",
       "      <th>pickup_year</th>\n",
       "      <th>id</th>\n",
       "      <th>interval</th>\n",
       "      <th>interval_time</th>\n",
       "      <th>demand</th>\n",
       "      <th>distance</th>\n",
       "    </tr>\n",
       "  </thead>\n",
       "  <tbody>\n",
       "    <tr>\n",
       "      <th>751350</th>\n",
       "      <td>2015-02-07 10:22:55.0000002</td>\n",
       "      <td>4.5</td>\n",
       "      <td>2015-02-07 10:22:55</td>\n",
       "      <td>-74.0</td>\n",
       "      <td>40.76</td>\n",
       "      <td>-73.988281</td>\n",
       "      <td>40.767265</td>\n",
       "      <td>1</td>\n",
       "      <td>5</td>\n",
       "      <td>2</td>\n",
       "      <td>2015-02-07</td>\n",
       "      <td>10</td>\n",
       "      <td>2015</td>\n",
       "      <td>751350</td>\n",
       "      <td>2015-02-07 10:00:00</td>\n",
       "      <td>10:00:00</td>\n",
       "      <td>2</td>\n",
       "      <td>1.79477</td>\n",
       "    </tr>\n",
       "  </tbody>\n",
       "</table>\n",
       "</div>"
      ],
      "text/plain": [
       "                                key  fare_amount     pickup_datetime  \\\n",
       "751350  2015-02-07 10:22:55.0000002          4.5 2015-02-07 10:22:55   \n",
       "\n",
       "        pickup_longitude  pickup_latitude  dropoff_longitude  \\\n",
       "751350             -74.0            40.76         -73.988281   \n",
       "\n",
       "        dropoff_latitude  passenger_count  pickup_day_of_week  pickup_month  \\\n",
       "751350         40.767265                1                   5             2   \n",
       "\n",
       "       pickup_date  pickup_hour  pickup_year      id            interval  \\\n",
       "751350  2015-02-07           10         2015  751350 2015-02-07 10:00:00   \n",
       "\n",
       "       interval_time  demand  distance  \n",
       "751350      10:00:00       2   1.79477  "
      ]
     },
     "execution_count": 325,
     "metadata": {},
     "output_type": "execute_result"
    }
   ],
   "source": [
    "train_df.loc[train_df[\"id\"] == 751350]"
   ]
  },
  {
   "cell_type": "code",
   "execution_count": 337,
   "metadata": {},
   "outputs": [],
   "source": [
    "train_df=pd.merge(train_df, interval_df, left_on = 'id', right_on = 'id', how = 'inner')"
   ]
  },
  {
   "cell_type": "code",
   "execution_count": 339,
   "metadata": {},
   "outputs": [
    {
     "data": {
      "text/html": [
       "<div>\n",
       "<style scoped>\n",
       "    .dataframe tbody tr th:only-of-type {\n",
       "        vertical-align: middle;\n",
       "    }\n",
       "\n",
       "    .dataframe tbody tr th {\n",
       "        vertical-align: top;\n",
       "    }\n",
       "\n",
       "    .dataframe thead th {\n",
       "        text-align: right;\n",
       "    }\n",
       "</style>\n",
       "<table border=\"1\" class=\"dataframe\">\n",
       "  <thead>\n",
       "    <tr style=\"text-align: right;\">\n",
       "      <th></th>\n",
       "      <th>key</th>\n",
       "      <th>fare_amount</th>\n",
       "      <th>pickup_datetime</th>\n",
       "      <th>pickup_longitude</th>\n",
       "      <th>pickup_latitude</th>\n",
       "      <th>dropoff_longitude</th>\n",
       "      <th>dropoff_latitude</th>\n",
       "      <th>passenger_count</th>\n",
       "      <th>pickup_day_of_week</th>\n",
       "      <th>pickup_month</th>\n",
       "      <th>pickup_date</th>\n",
       "      <th>pickup_hour</th>\n",
       "      <th>pickup_year</th>\n",
       "      <th>id</th>\n",
       "      <th>interval_x</th>\n",
       "      <th>interval_time</th>\n",
       "      <th>demand</th>\n",
       "      <th>distance</th>\n",
       "      <th>interval_y</th>\n",
       "      <th>interval</th>\n",
       "    </tr>\n",
       "  </thead>\n",
       "  <tbody>\n",
       "    <tr>\n",
       "      <th>0</th>\n",
       "      <td>2009-06-15 17:26:21.0000001</td>\n",
       "      <td>4.5</td>\n",
       "      <td>2009-06-15 17:26:21</td>\n",
       "      <td>-73.8</td>\n",
       "      <td>40.72</td>\n",
       "      <td>-73.841610</td>\n",
       "      <td>40.712278</td>\n",
       "      <td>1</td>\n",
       "      <td>0</td>\n",
       "      <td>6</td>\n",
       "      <td>2009-06-15</td>\n",
       "      <td>17</td>\n",
       "      <td>2009</td>\n",
       "      <td>0</td>\n",
       "      <td>2009-06-15 17:00:00</td>\n",
       "      <td>17:00:00</td>\n",
       "      <td>1</td>\n",
       "      <td>4.365758</td>\n",
       "      <td>2009-06-15 17:00:00</td>\n",
       "      <td>2009-06-15 17:00:00</td>\n",
       "    </tr>\n",
       "    <tr>\n",
       "      <th>1</th>\n",
       "      <td>2009-08-03 23:01:00.00000077</td>\n",
       "      <td>4.5</td>\n",
       "      <td>2009-08-03 23:01:00</td>\n",
       "      <td>-74.0</td>\n",
       "      <td>40.76</td>\n",
       "      <td>-73.984915</td>\n",
       "      <td>40.768142</td>\n",
       "      <td>5</td>\n",
       "      <td>0</td>\n",
       "      <td>8</td>\n",
       "      <td>2009-08-03</td>\n",
       "      <td>23</td>\n",
       "      <td>2009</td>\n",
       "      <td>1</td>\n",
       "      <td>2009-08-03 23:00:00</td>\n",
       "      <td>23:00:00</td>\n",
       "      <td>3</td>\n",
       "      <td>2.175726</td>\n",
       "      <td>2009-08-03 23:00:00</td>\n",
       "      <td>2009-08-03 23:00:00</td>\n",
       "    </tr>\n",
       "    <tr>\n",
       "      <th>2</th>\n",
       "      <td>2011-07-11 13:08:09.0000001</td>\n",
       "      <td>10.9</td>\n",
       "      <td>2011-07-11 13:08:09</td>\n",
       "      <td>-74.0</td>\n",
       "      <td>40.75</td>\n",
       "      <td>-74.014800</td>\n",
       "      <td>40.718000</td>\n",
       "      <td>1</td>\n",
       "      <td>0</td>\n",
       "      <td>7</td>\n",
       "      <td>2011-07-11</td>\n",
       "      <td>13</td>\n",
       "      <td>2011</td>\n",
       "      <td>2</td>\n",
       "      <td>2011-07-11 13:00:00</td>\n",
       "      <td>13:00:00</td>\n",
       "      <td>3</td>\n",
       "      <td>4.805557</td>\n",
       "      <td>2011-07-11 13:00:00</td>\n",
       "      <td>2011-07-11 13:00:00</td>\n",
       "    </tr>\n",
       "    <tr>\n",
       "      <th>3</th>\n",
       "      <td>2012-12-17 22:58:00.000000163</td>\n",
       "      <td>29.0</td>\n",
       "      <td>2012-12-17 22:58:00</td>\n",
       "      <td>-74.0</td>\n",
       "      <td>40.77</td>\n",
       "      <td>-73.962497</td>\n",
       "      <td>40.677382</td>\n",
       "      <td>3</td>\n",
       "      <td>0</td>\n",
       "      <td>12</td>\n",
       "      <td>2012-12-17</td>\n",
       "      <td>22</td>\n",
       "      <td>2012</td>\n",
       "      <td>3</td>\n",
       "      <td>2012-12-17 22:00:00</td>\n",
       "      <td>22:00:00</td>\n",
       "      <td>3</td>\n",
       "      <td>13.461272</td>\n",
       "      <td>2012-12-17 22:30:00</td>\n",
       "      <td>2012-12-17 22:30:00</td>\n",
       "    </tr>\n",
       "    <tr>\n",
       "      <th>4</th>\n",
       "      <td>2011-02-28 22:03:00.000000115</td>\n",
       "      <td>6.1</td>\n",
       "      <td>2011-02-28 22:03:00</td>\n",
       "      <td>-74.0</td>\n",
       "      <td>40.73</td>\n",
       "      <td>-73.978080</td>\n",
       "      <td>40.721325</td>\n",
       "      <td>1</td>\n",
       "      <td>0</td>\n",
       "      <td>2</td>\n",
       "      <td>2011-02-28</td>\n",
       "      <td>22</td>\n",
       "      <td>2011</td>\n",
       "      <td>4</td>\n",
       "      <td>2011-02-28 22:00:00</td>\n",
       "      <td>22:00:00</td>\n",
       "      <td>6</td>\n",
       "      <td>2.811899</td>\n",
       "      <td>2011-02-28 22:00:00</td>\n",
       "      <td>2011-02-28 22:00:00</td>\n",
       "    </tr>\n",
       "  </tbody>\n",
       "</table>\n",
       "</div>"
      ],
      "text/plain": [
       "                             key  fare_amount     pickup_datetime  \\\n",
       "0    2009-06-15 17:26:21.0000001          4.5 2009-06-15 17:26:21   \n",
       "1   2009-08-03 23:01:00.00000077          4.5 2009-08-03 23:01:00   \n",
       "2    2011-07-11 13:08:09.0000001         10.9 2011-07-11 13:08:09   \n",
       "3  2012-12-17 22:58:00.000000163         29.0 2012-12-17 22:58:00   \n",
       "4  2011-02-28 22:03:00.000000115          6.1 2011-02-28 22:03:00   \n",
       "\n",
       "   pickup_longitude  pickup_latitude  dropoff_longitude  dropoff_latitude  \\\n",
       "0             -73.8            40.72         -73.841610         40.712278   \n",
       "1             -74.0            40.76         -73.984915         40.768142   \n",
       "2             -74.0            40.75         -74.014800         40.718000   \n",
       "3             -74.0            40.77         -73.962497         40.677382   \n",
       "4             -74.0            40.73         -73.978080         40.721325   \n",
       "\n",
       "   passenger_count  pickup_day_of_week  pickup_month pickup_date  pickup_hour  \\\n",
       "0                1                   0             6  2009-06-15           17   \n",
       "1                5                   0             8  2009-08-03           23   \n",
       "2                1                   0             7  2011-07-11           13   \n",
       "3                3                   0            12  2012-12-17           22   \n",
       "4                1                   0             2  2011-02-28           22   \n",
       "\n",
       "   pickup_year  id          interval_x interval_time  demand   distance  \\\n",
       "0         2009   0 2009-06-15 17:00:00      17:00:00       1   4.365758   \n",
       "1         2009   1 2009-08-03 23:00:00      23:00:00       3   2.175726   \n",
       "2         2011   2 2011-07-11 13:00:00      13:00:00       3   4.805557   \n",
       "3         2012   3 2012-12-17 22:00:00      22:00:00       3  13.461272   \n",
       "4         2011   4 2011-02-28 22:00:00      22:00:00       6   2.811899   \n",
       "\n",
       "           interval_y            interval  \n",
       "0 2009-06-15 17:00:00 2009-06-15 17:00:00  \n",
       "1 2009-08-03 23:00:00 2009-08-03 23:00:00  \n",
       "2 2011-07-11 13:00:00 2011-07-11 13:00:00  \n",
       "3 2012-12-17 22:30:00 2012-12-17 22:30:00  \n",
       "4 2011-02-28 22:00:00 2011-02-28 22:00:00  "
      ]
     },
     "execution_count": 339,
     "metadata": {},
     "output_type": "execute_result"
    }
   ],
   "source": [
    "train_df.head()"
   ]
  },
  {
   "cell_type": "code",
   "execution_count": 340,
   "metadata": {},
   "outputs": [],
   "source": [
    "train_df['interval_time']=train_df['interval'].dt.time"
   ]
  },
  {
   "cell_type": "code",
   "execution_count": 342,
   "metadata": {},
   "outputs": [
    {
     "data": {
      "text/html": [
       "<div>\n",
       "<style scoped>\n",
       "    .dataframe tbody tr th:only-of-type {\n",
       "        vertical-align: middle;\n",
       "    }\n",
       "\n",
       "    .dataframe tbody tr th {\n",
       "        vertical-align: top;\n",
       "    }\n",
       "\n",
       "    .dataframe thead th {\n",
       "        text-align: right;\n",
       "    }\n",
       "</style>\n",
       "<table border=\"1\" class=\"dataframe\">\n",
       "  <thead>\n",
       "    <tr style=\"text-align: right;\">\n",
       "      <th></th>\n",
       "      <th>key</th>\n",
       "      <th>fare_amount</th>\n",
       "      <th>pickup_datetime</th>\n",
       "      <th>pickup_longitude</th>\n",
       "      <th>pickup_latitude</th>\n",
       "      <th>dropoff_longitude</th>\n",
       "      <th>dropoff_latitude</th>\n",
       "      <th>passenger_count</th>\n",
       "      <th>pickup_day_of_week</th>\n",
       "      <th>pickup_month</th>\n",
       "      <th>pickup_date</th>\n",
       "      <th>pickup_hour</th>\n",
       "      <th>pickup_year</th>\n",
       "      <th>id</th>\n",
       "      <th>interval_x</th>\n",
       "      <th>interval_time</th>\n",
       "      <th>demand</th>\n",
       "      <th>distance</th>\n",
       "      <th>interval_y</th>\n",
       "      <th>interval</th>\n",
       "    </tr>\n",
       "  </thead>\n",
       "  <tbody>\n",
       "    <tr>\n",
       "      <th>0</th>\n",
       "      <td>2009-06-15 17:26:21.0000001</td>\n",
       "      <td>4.5</td>\n",
       "      <td>2009-06-15 17:26:21</td>\n",
       "      <td>-73.8</td>\n",
       "      <td>40.72</td>\n",
       "      <td>-73.841610</td>\n",
       "      <td>40.712278</td>\n",
       "      <td>1</td>\n",
       "      <td>0</td>\n",
       "      <td>6</td>\n",
       "      <td>2009-06-15</td>\n",
       "      <td>17</td>\n",
       "      <td>2009</td>\n",
       "      <td>0</td>\n",
       "      <td>2009-06-15 17:00:00</td>\n",
       "      <td>17:00:00</td>\n",
       "      <td>1</td>\n",
       "      <td>4.365758</td>\n",
       "      <td>2009-06-15 17:00:00</td>\n",
       "      <td>2009-06-15 17:00:00</td>\n",
       "    </tr>\n",
       "    <tr>\n",
       "      <th>1</th>\n",
       "      <td>2009-08-03 23:01:00.00000077</td>\n",
       "      <td>4.5</td>\n",
       "      <td>2009-08-03 23:01:00</td>\n",
       "      <td>-74.0</td>\n",
       "      <td>40.76</td>\n",
       "      <td>-73.984915</td>\n",
       "      <td>40.768142</td>\n",
       "      <td>5</td>\n",
       "      <td>0</td>\n",
       "      <td>8</td>\n",
       "      <td>2009-08-03</td>\n",
       "      <td>23</td>\n",
       "      <td>2009</td>\n",
       "      <td>1</td>\n",
       "      <td>2009-08-03 23:00:00</td>\n",
       "      <td>23:00:00</td>\n",
       "      <td>3</td>\n",
       "      <td>2.175726</td>\n",
       "      <td>2009-08-03 23:00:00</td>\n",
       "      <td>2009-08-03 23:00:00</td>\n",
       "    </tr>\n",
       "    <tr>\n",
       "      <th>2</th>\n",
       "      <td>2011-07-11 13:08:09.0000001</td>\n",
       "      <td>10.9</td>\n",
       "      <td>2011-07-11 13:08:09</td>\n",
       "      <td>-74.0</td>\n",
       "      <td>40.75</td>\n",
       "      <td>-74.014800</td>\n",
       "      <td>40.718000</td>\n",
       "      <td>1</td>\n",
       "      <td>0</td>\n",
       "      <td>7</td>\n",
       "      <td>2011-07-11</td>\n",
       "      <td>13</td>\n",
       "      <td>2011</td>\n",
       "      <td>2</td>\n",
       "      <td>2011-07-11 13:00:00</td>\n",
       "      <td>13:00:00</td>\n",
       "      <td>3</td>\n",
       "      <td>4.805557</td>\n",
       "      <td>2011-07-11 13:00:00</td>\n",
       "      <td>2011-07-11 13:00:00</td>\n",
       "    </tr>\n",
       "    <tr>\n",
       "      <th>3</th>\n",
       "      <td>2012-12-17 22:58:00.000000163</td>\n",
       "      <td>29.0</td>\n",
       "      <td>2012-12-17 22:58:00</td>\n",
       "      <td>-74.0</td>\n",
       "      <td>40.77</td>\n",
       "      <td>-73.962497</td>\n",
       "      <td>40.677382</td>\n",
       "      <td>3</td>\n",
       "      <td>0</td>\n",
       "      <td>12</td>\n",
       "      <td>2012-12-17</td>\n",
       "      <td>22</td>\n",
       "      <td>2012</td>\n",
       "      <td>3</td>\n",
       "      <td>2012-12-17 22:00:00</td>\n",
       "      <td>22:30:00</td>\n",
       "      <td>3</td>\n",
       "      <td>13.461272</td>\n",
       "      <td>2012-12-17 22:30:00</td>\n",
       "      <td>2012-12-17 22:30:00</td>\n",
       "    </tr>\n",
       "    <tr>\n",
       "      <th>4</th>\n",
       "      <td>2011-02-28 22:03:00.000000115</td>\n",
       "      <td>6.1</td>\n",
       "      <td>2011-02-28 22:03:00</td>\n",
       "      <td>-74.0</td>\n",
       "      <td>40.73</td>\n",
       "      <td>-73.978080</td>\n",
       "      <td>40.721325</td>\n",
       "      <td>1</td>\n",
       "      <td>0</td>\n",
       "      <td>2</td>\n",
       "      <td>2011-02-28</td>\n",
       "      <td>22</td>\n",
       "      <td>2011</td>\n",
       "      <td>4</td>\n",
       "      <td>2011-02-28 22:00:00</td>\n",
       "      <td>22:00:00</td>\n",
       "      <td>6</td>\n",
       "      <td>2.811899</td>\n",
       "      <td>2011-02-28 22:00:00</td>\n",
       "      <td>2011-02-28 22:00:00</td>\n",
       "    </tr>\n",
       "  </tbody>\n",
       "</table>\n",
       "</div>"
      ],
      "text/plain": [
       "                             key  fare_amount     pickup_datetime  \\\n",
       "0    2009-06-15 17:26:21.0000001          4.5 2009-06-15 17:26:21   \n",
       "1   2009-08-03 23:01:00.00000077          4.5 2009-08-03 23:01:00   \n",
       "2    2011-07-11 13:08:09.0000001         10.9 2011-07-11 13:08:09   \n",
       "3  2012-12-17 22:58:00.000000163         29.0 2012-12-17 22:58:00   \n",
       "4  2011-02-28 22:03:00.000000115          6.1 2011-02-28 22:03:00   \n",
       "\n",
       "   pickup_longitude  pickup_latitude  dropoff_longitude  dropoff_latitude  \\\n",
       "0             -73.8            40.72         -73.841610         40.712278   \n",
       "1             -74.0            40.76         -73.984915         40.768142   \n",
       "2             -74.0            40.75         -74.014800         40.718000   \n",
       "3             -74.0            40.77         -73.962497         40.677382   \n",
       "4             -74.0            40.73         -73.978080         40.721325   \n",
       "\n",
       "   passenger_count  pickup_day_of_week  pickup_month pickup_date  pickup_hour  \\\n",
       "0                1                   0             6  2009-06-15           17   \n",
       "1                5                   0             8  2009-08-03           23   \n",
       "2                1                   0             7  2011-07-11           13   \n",
       "3                3                   0            12  2012-12-17           22   \n",
       "4                1                   0             2  2011-02-28           22   \n",
       "\n",
       "   pickup_year  id          interval_x interval_time  demand   distance  \\\n",
       "0         2009   0 2009-06-15 17:00:00      17:00:00       1   4.365758   \n",
       "1         2009   1 2009-08-03 23:00:00      23:00:00       3   2.175726   \n",
       "2         2011   2 2011-07-11 13:00:00      13:00:00       3   4.805557   \n",
       "3         2012   3 2012-12-17 22:00:00      22:30:00       3  13.461272   \n",
       "4         2011   4 2011-02-28 22:00:00      22:00:00       6   2.811899   \n",
       "\n",
       "           interval_y            interval  \n",
       "0 2009-06-15 17:00:00 2009-06-15 17:00:00  \n",
       "1 2009-08-03 23:00:00 2009-08-03 23:00:00  \n",
       "2 2011-07-11 13:00:00 2011-07-11 13:00:00  \n",
       "3 2012-12-17 22:30:00 2012-12-17 22:30:00  \n",
       "4 2011-02-28 22:00:00 2011-02-28 22:00:00  "
      ]
     },
     "execution_count": 342,
     "metadata": {},
     "output_type": "execute_result"
    }
   ],
   "source": [
    "train_df.head()"
   ]
  },
  {
   "cell_type": "code",
   "execution_count": 343,
   "metadata": {},
   "outputs": [
    {
     "data": {
      "text/plain": [
       "<matplotlib.axes._subplots.AxesSubplot at 0x5ea7a588>"
      ]
     },
     "execution_count": 343,
     "metadata": {},
     "output_type": "execute_result"
    },
    {
     "data": {
      "image/png": "[encoded data removed]",
      "text/plain": [
       "<Figure size 432x288 with 1 Axes>"
      ]
     },
     "metadata": {
      "needs_background": "light"
     },
     "output_type": "display_data"
    }
   ],
   "source": [
    "train_df['interval_time'].value_counts().sort_index().plot()"
   ]
  },
  {
   "cell_type": "code",
   "execution_count": 344,
   "metadata": {},
   "outputs": [],
   "source": [
    "train_df[\"pickup_longitude\"] = train_df['pickup_longitude'].apply(lambda x:round(x,1))\n"
   ]
  },
  {
   "cell_type": "code",
   "execution_count": 345,
   "metadata": {},
   "outputs": [],
   "source": [
    "train_df[\"pickup_latitude\"] = train_df['pickup_latitude'].apply(lambda x:round(x,2))\n"
   ]
  },
  {
   "cell_type": "code",
   "execution_count": 346,
   "metadata": {},
   "outputs": [
    {
     "data": {
      "text/html": [
       "<div>\n",
       "<style scoped>\n",
       "    .dataframe tbody tr th:only-of-type {\n",
       "        vertical-align: middle;\n",
       "    }\n",
       "\n",
       "    .dataframe tbody tr th {\n",
       "        vertical-align: top;\n",
       "    }\n",
       "\n",
       "    .dataframe thead th {\n",
       "        text-align: right;\n",
       "    }\n",
       "</style>\n",
       "<table border=\"1\" class=\"dataframe\">\n",
       "  <thead>\n",
       "    <tr style=\"text-align: right;\">\n",
       "      <th></th>\n",
       "      <th>key</th>\n",
       "      <th>fare_amount</th>\n",
       "      <th>pickup_datetime</th>\n",
       "      <th>pickup_longitude</th>\n",
       "      <th>pickup_latitude</th>\n",
       "      <th>dropoff_longitude</th>\n",
       "      <th>dropoff_latitude</th>\n",
       "      <th>passenger_count</th>\n",
       "      <th>pickup_day_of_week</th>\n",
       "      <th>pickup_month</th>\n",
       "      <th>pickup_date</th>\n",
       "      <th>pickup_hour</th>\n",
       "      <th>pickup_year</th>\n",
       "      <th>id</th>\n",
       "      <th>interval_x</th>\n",
       "      <th>interval_time</th>\n",
       "      <th>demand</th>\n",
       "      <th>distance</th>\n",
       "      <th>interval_y</th>\n",
       "      <th>interval</th>\n",
       "    </tr>\n",
       "  </thead>\n",
       "  <tbody>\n",
       "    <tr>\n",
       "      <th>0</th>\n",
       "      <td>2009-06-15 17:26:21.0000001</td>\n",
       "      <td>4.5</td>\n",
       "      <td>2009-06-15 17:26:21</td>\n",
       "      <td>-73.8</td>\n",
       "      <td>40.72</td>\n",
       "      <td>-73.841610</td>\n",
       "      <td>40.712278</td>\n",
       "      <td>1</td>\n",
       "      <td>0</td>\n",
       "      <td>6</td>\n",
       "      <td>2009-06-15</td>\n",
       "      <td>17</td>\n",
       "      <td>2009</td>\n",
       "      <td>0</td>\n",
       "      <td>2009-06-15 17:00:00</td>\n",
       "      <td>17:00:00</td>\n",
       "      <td>1</td>\n",
       "      <td>4.365758</td>\n",
       "      <td>2009-06-15 17:00:00</td>\n",
       "      <td>2009-06-15 17:00:00</td>\n",
       "    </tr>\n",
       "    <tr>\n",
       "      <th>1</th>\n",
       "      <td>2009-08-03 23:01:00.00000077</td>\n",
       "      <td>4.5</td>\n",
       "      <td>2009-08-03 23:01:00</td>\n",
       "      <td>-74.0</td>\n",
       "      <td>40.76</td>\n",
       "      <td>-73.984915</td>\n",
       "      <td>40.768142</td>\n",
       "      <td>5</td>\n",
       "      <td>0</td>\n",
       "      <td>8</td>\n",
       "      <td>2009-08-03</td>\n",
       "      <td>23</td>\n",
       "      <td>2009</td>\n",
       "      <td>1</td>\n",
       "      <td>2009-08-03 23:00:00</td>\n",
       "      <td>23:00:00</td>\n",
       "      <td>3</td>\n",
       "      <td>2.175726</td>\n",
       "      <td>2009-08-03 23:00:00</td>\n",
       "      <td>2009-08-03 23:00:00</td>\n",
       "    </tr>\n",
       "    <tr>\n",
       "      <th>2</th>\n",
       "      <td>2011-07-11 13:08:09.0000001</td>\n",
       "      <td>10.9</td>\n",
       "      <td>2011-07-11 13:08:09</td>\n",
       "      <td>-74.0</td>\n",
       "      <td>40.75</td>\n",
       "      <td>-74.014800</td>\n",
       "      <td>40.718000</td>\n",
       "      <td>1</td>\n",
       "      <td>0</td>\n",
       "      <td>7</td>\n",
       "      <td>2011-07-11</td>\n",
       "      <td>13</td>\n",
       "      <td>2011</td>\n",
       "      <td>2</td>\n",
       "      <td>2011-07-11 13:00:00</td>\n",
       "      <td>13:00:00</td>\n",
       "      <td>3</td>\n",
       "      <td>4.805557</td>\n",
       "      <td>2011-07-11 13:00:00</td>\n",
       "      <td>2011-07-11 13:00:00</td>\n",
       "    </tr>\n",
       "    <tr>\n",
       "      <th>3</th>\n",
       "      <td>2012-12-17 22:58:00.000000163</td>\n",
       "      <td>29.0</td>\n",
       "      <td>2012-12-17 22:58:00</td>\n",
       "      <td>-74.0</td>\n",
       "      <td>40.77</td>\n",
       "      <td>-73.962497</td>\n",
       "      <td>40.677382</td>\n",
       "      <td>3</td>\n",
       "      <td>0</td>\n",
       "      <td>12</td>\n",
       "      <td>2012-12-17</td>\n",
       "      <td>22</td>\n",
       "      <td>2012</td>\n",
       "      <td>3</td>\n",
       "      <td>2012-12-17 22:00:00</td>\n",
       "      <td>22:30:00</td>\n",
       "      <td>3</td>\n",
       "      <td>13.461272</td>\n",
       "      <td>2012-12-17 22:30:00</td>\n",
       "      <td>2012-12-17 22:30:00</td>\n",
       "    </tr>\n",
       "    <tr>\n",
       "      <th>4</th>\n",
       "      <td>2011-02-28 22:03:00.000000115</td>\n",
       "      <td>6.1</td>\n",
       "      <td>2011-02-28 22:03:00</td>\n",
       "      <td>-74.0</td>\n",
       "      <td>40.73</td>\n",
       "      <td>-73.978080</td>\n",
       "      <td>40.721325</td>\n",
       "      <td>1</td>\n",
       "      <td>0</td>\n",
       "      <td>2</td>\n",
       "      <td>2011-02-28</td>\n",
       "      <td>22</td>\n",
       "      <td>2011</td>\n",
       "      <td>4</td>\n",
       "      <td>2011-02-28 22:00:00</td>\n",
       "      <td>22:00:00</td>\n",
       "      <td>6</td>\n",
       "      <td>2.811899</td>\n",
       "      <td>2011-02-28 22:00:00</td>\n",
       "      <td>2011-02-28 22:00:00</td>\n",
       "    </tr>\n",
       "  </tbody>\n",
       "</table>\n",
       "</div>"
      ],
      "text/plain": [
       "                             key  fare_amount     pickup_datetime  \\\n",
       "0    2009-06-15 17:26:21.0000001          4.5 2009-06-15 17:26:21   \n",
       "1   2009-08-03 23:01:00.00000077          4.5 2009-08-03 23:01:00   \n",
       "2    2011-07-11 13:08:09.0000001         10.9 2011-07-11 13:08:09   \n",
       "3  2012-12-17 22:58:00.000000163         29.0 2012-12-17 22:58:00   \n",
       "4  2011-02-28 22:03:00.000000115          6.1 2011-02-28 22:03:00   \n",
       "\n",
       "   pickup_longitude  pickup_latitude  dropoff_longitude  dropoff_latitude  \\\n",
       "0             -73.8            40.72         -73.841610         40.712278   \n",
       "1             -74.0            40.76         -73.984915         40.768142   \n",
       "2             -74.0            40.75         -74.014800         40.718000   \n",
       "3             -74.0            40.77         -73.962497         40.677382   \n",
       "4             -74.0            40.73         -73.978080         40.721325   \n",
       "\n",
       "   passenger_count  pickup_day_of_week  pickup_month pickup_date  pickup_hour  \\\n",
       "0                1                   0             6  2009-06-15           17   \n",
       "1                5                   0             8  2009-08-03           23   \n",
       "2                1                   0             7  2011-07-11           13   \n",
       "3                3                   0            12  2012-12-17           22   \n",
       "4                1                   0             2  2011-02-28           22   \n",
       "\n",
       "   pickup_year  id          interval_x interval_time  demand   distance  \\\n",
       "0         2009   0 2009-06-15 17:00:00      17:00:00       1   4.365758   \n",
       "1         2009   1 2009-08-03 23:00:00      23:00:00       3   2.175726   \n",
       "2         2011   2 2011-07-11 13:00:00      13:00:00       3   4.805557   \n",
       "3         2012   3 2012-12-17 22:00:00      22:30:00       3  13.461272   \n",
       "4         2011   4 2011-02-28 22:00:00      22:00:00       6   2.811899   \n",
       "\n",
       "           interval_y            interval  \n",
       "0 2009-06-15 17:00:00 2009-06-15 17:00:00  \n",
       "1 2009-08-03 23:00:00 2009-08-03 23:00:00  \n",
       "2 2011-07-11 13:00:00 2011-07-11 13:00:00  \n",
       "3 2012-12-17 22:30:00 2012-12-17 22:30:00  \n",
       "4 2011-02-28 22:00:00 2011-02-28 22:00:00  "
      ]
     },
     "execution_count": 346,
     "metadata": {},
     "output_type": "execute_result"
    }
   ],
   "source": [
    "train_df.head()"
   ]
  },
  {
   "cell_type": "code",
   "execution_count": 347,
   "metadata": {},
   "outputs": [],
   "source": [
    "train_df['demand']=train_df.groupby(['interval','pickup_longitude','pickup_latitude'])['interval'].transform('count')"
   ]
  },
  {
   "cell_type": "code",
   "execution_count": 348,
   "metadata": {},
   "outputs": [
    {
     "data": {
      "text/html": [
       "<div>\n",
       "<style scoped>\n",
       "    .dataframe tbody tr th:only-of-type {\n",
       "        vertical-align: middle;\n",
       "    }\n",
       "\n",
       "    .dataframe tbody tr th {\n",
       "        vertical-align: top;\n",
       "    }\n",
       "\n",
       "    .dataframe thead th {\n",
       "        text-align: right;\n",
       "    }\n",
       "</style>\n",
       "<table border=\"1\" class=\"dataframe\">\n",
       "  <thead>\n",
       "    <tr style=\"text-align: right;\">\n",
       "      <th></th>\n",
       "      <th>key</th>\n",
       "      <th>fare_amount</th>\n",
       "      <th>pickup_datetime</th>\n",
       "      <th>pickup_longitude</th>\n",
       "      <th>pickup_latitude</th>\n",
       "      <th>dropoff_longitude</th>\n",
       "      <th>dropoff_latitude</th>\n",
       "      <th>passenger_count</th>\n",
       "      <th>pickup_day_of_week</th>\n",
       "      <th>pickup_month</th>\n",
       "      <th>pickup_date</th>\n",
       "      <th>pickup_hour</th>\n",
       "      <th>pickup_year</th>\n",
       "      <th>id</th>\n",
       "      <th>interval_x</th>\n",
       "      <th>interval_time</th>\n",
       "      <th>demand</th>\n",
       "      <th>distance</th>\n",
       "      <th>interval_y</th>\n",
       "      <th>interval</th>\n",
       "    </tr>\n",
       "  </thead>\n",
       "  <tbody>\n",
       "    <tr>\n",
       "      <th>0</th>\n",
       "      <td>2009-06-15 17:26:21.0000001</td>\n",
       "      <td>4.5</td>\n",
       "      <td>2009-06-15 17:26:21</td>\n",
       "      <td>-73.8</td>\n",
       "      <td>40.72</td>\n",
       "      <td>-73.841610</td>\n",
       "      <td>40.712278</td>\n",
       "      <td>1</td>\n",
       "      <td>0</td>\n",
       "      <td>6</td>\n",
       "      <td>2009-06-15</td>\n",
       "      <td>17</td>\n",
       "      <td>2009</td>\n",
       "      <td>0</td>\n",
       "      <td>2009-06-15 17:00:00</td>\n",
       "      <td>17:00:00</td>\n",
       "      <td>1</td>\n",
       "      <td>4.365758</td>\n",
       "      <td>2009-06-15 17:00:00</td>\n",
       "      <td>2009-06-15 17:00:00</td>\n",
       "    </tr>\n",
       "    <tr>\n",
       "      <th>1</th>\n",
       "      <td>2009-08-03 23:01:00.00000077</td>\n",
       "      <td>4.5</td>\n",
       "      <td>2009-08-03 23:01:00</td>\n",
       "      <td>-74.0</td>\n",
       "      <td>40.76</td>\n",
       "      <td>-73.984915</td>\n",
       "      <td>40.768142</td>\n",
       "      <td>5</td>\n",
       "      <td>0</td>\n",
       "      <td>8</td>\n",
       "      <td>2009-08-03</td>\n",
       "      <td>23</td>\n",
       "      <td>2009</td>\n",
       "      <td>1</td>\n",
       "      <td>2009-08-03 23:00:00</td>\n",
       "      <td>23:00:00</td>\n",
       "      <td>1</td>\n",
       "      <td>2.175726</td>\n",
       "      <td>2009-08-03 23:00:00</td>\n",
       "      <td>2009-08-03 23:00:00</td>\n",
       "    </tr>\n",
       "    <tr>\n",
       "      <th>2</th>\n",
       "      <td>2011-07-11 13:08:09.0000001</td>\n",
       "      <td>10.9</td>\n",
       "      <td>2011-07-11 13:08:09</td>\n",
       "      <td>-74.0</td>\n",
       "      <td>40.75</td>\n",
       "      <td>-74.014800</td>\n",
       "      <td>40.718000</td>\n",
       "      <td>1</td>\n",
       "      <td>0</td>\n",
       "      <td>7</td>\n",
       "      <td>2011-07-11</td>\n",
       "      <td>13</td>\n",
       "      <td>2011</td>\n",
       "      <td>2</td>\n",
       "      <td>2011-07-11 13:00:00</td>\n",
       "      <td>13:00:00</td>\n",
       "      <td>3</td>\n",
       "      <td>4.805557</td>\n",
       "      <td>2011-07-11 13:00:00</td>\n",
       "      <td>2011-07-11 13:00:00</td>\n",
       "    </tr>\n",
       "    <tr>\n",
       "      <th>3</th>\n",
       "      <td>2012-12-17 22:58:00.000000163</td>\n",
       "      <td>29.0</td>\n",
       "      <td>2012-12-17 22:58:00</td>\n",
       "      <td>-74.0</td>\n",
       "      <td>40.77</td>\n",
       "      <td>-73.962497</td>\n",
       "      <td>40.677382</td>\n",
       "      <td>3</td>\n",
       "      <td>0</td>\n",
       "      <td>12</td>\n",
       "      <td>2012-12-17</td>\n",
       "      <td>22</td>\n",
       "      <td>2012</td>\n",
       "      <td>3</td>\n",
       "      <td>2012-12-17 22:00:00</td>\n",
       "      <td>22:30:00</td>\n",
       "      <td>2</td>\n",
       "      <td>13.461272</td>\n",
       "      <td>2012-12-17 22:30:00</td>\n",
       "      <td>2012-12-17 22:30:00</td>\n",
       "    </tr>\n",
       "    <tr>\n",
       "      <th>4</th>\n",
       "      <td>2011-02-28 22:03:00.000000115</td>\n",
       "      <td>6.1</td>\n",
       "      <td>2011-02-28 22:03:00</td>\n",
       "      <td>-74.0</td>\n",
       "      <td>40.73</td>\n",
       "      <td>-73.978080</td>\n",
       "      <td>40.721325</td>\n",
       "      <td>1</td>\n",
       "      <td>0</td>\n",
       "      <td>2</td>\n",
       "      <td>2011-02-28</td>\n",
       "      <td>22</td>\n",
       "      <td>2011</td>\n",
       "      <td>4</td>\n",
       "      <td>2011-02-28 22:00:00</td>\n",
       "      <td>22:00:00</td>\n",
       "      <td>4</td>\n",
       "      <td>2.811899</td>\n",
       "      <td>2011-02-28 22:00:00</td>\n",
       "      <td>2011-02-28 22:00:00</td>\n",
       "    </tr>\n",
       "  </tbody>\n",
       "</table>\n",
       "</div>"
      ],
      "text/plain": [
       "                             key  fare_amount     pickup_datetime  \\\n",
       "0    2009-06-15 17:26:21.0000001          4.5 2009-06-15 17:26:21   \n",
       "1   2009-08-03 23:01:00.00000077          4.5 2009-08-03 23:01:00   \n",
       "2    2011-07-11 13:08:09.0000001         10.9 2011-07-11 13:08:09   \n",
       "3  2012-12-17 22:58:00.000000163         29.0 2012-12-17 22:58:00   \n",
       "4  2011-02-28 22:03:00.000000115          6.1 2011-02-28 22:03:00   \n",
       "\n",
       "   pickup_longitude  pickup_latitude  dropoff_longitude  dropoff_latitude  \\\n",
       "0             -73.8            40.72         -73.841610         40.712278   \n",
       "1             -74.0            40.76         -73.984915         40.768142   \n",
       "2             -74.0            40.75         -74.014800         40.718000   \n",
       "3             -74.0            40.77         -73.962497         40.677382   \n",
       "4             -74.0            40.73         -73.978080         40.721325   \n",
       "\n",
       "   passenger_count  pickup_day_of_week  pickup_month pickup_date  pickup_hour  \\\n",
       "0                1                   0             6  2009-06-15           17   \n",
       "1                5                   0             8  2009-08-03           23   \n",
       "2                1                   0             7  2011-07-11           13   \n",
       "3                3                   0            12  2012-12-17           22   \n",
       "4                1                   0             2  2011-02-28           22   \n",
       "\n",
       "   pickup_year  id          interval_x interval_time  demand   distance  \\\n",
       "0         2009   0 2009-06-15 17:00:00      17:00:00       1   4.365758   \n",
       "1         2009   1 2009-08-03 23:00:00      23:00:00       1   2.175726   \n",
       "2         2011   2 2011-07-11 13:00:00      13:00:00       3   4.805557   \n",
       "3         2012   3 2012-12-17 22:00:00      22:30:00       2  13.461272   \n",
       "4         2011   4 2011-02-28 22:00:00      22:00:00       4   2.811899   \n",
       "\n",
       "           interval_y            interval  \n",
       "0 2009-06-15 17:00:00 2009-06-15 17:00:00  \n",
       "1 2009-08-03 23:00:00 2009-08-03 23:00:00  \n",
       "2 2011-07-11 13:00:00 2011-07-11 13:00:00  \n",
       "3 2012-12-17 22:30:00 2012-12-17 22:30:00  \n",
       "4 2011-02-28 22:00:00 2011-02-28 22:00:00  "
      ]
     },
     "execution_count": 348,
     "metadata": {},
     "output_type": "execute_result"
    }
   ],
   "source": [
    "train_df.head()"
   ]
  },
  {
   "cell_type": "code",
   "execution_count": 349,
   "metadata": {},
   "outputs": [
    {
     "data": {
      "text/plain": [
       "<matplotlib.axes._subplots.AxesSubplot at 0x35bb7e10>"
      ]
     },
     "execution_count": 349,
     "metadata": {},
     "output_type": "execute_result"
    },
    {
     "data": {
      "image/png": "[encoded data removed]",
      "text/plain": [
       "<Figure size 432x288 with 1 Axes>"
      ]
     },
     "metadata": {
      "needs_background": "light"
     },
     "output_type": "display_data"
    }
   ],
   "source": [
    "train_df['demand'].value_counts().sort_index().plot()"
   ]
  },
  {
   "cell_type": "code",
   "execution_count": 350,
   "metadata": {},
   "outputs": [
    {
     "data": {
      "text/plain": [
       "<matplotlib.axes._subplots.AxesSubplot at 0x48bef0f0>"
      ]
     },
     "execution_count": 350,
     "metadata": {},
     "output_type": "execute_result"
    },
    {
     "data": {
      "image/png": "[encoded data removed]",
      "text/plain": [
       "<Figure size 432x288 with 1 Axes>"
      ]
     },
     "metadata": {
      "needs_background": "light"
     },
     "output_type": "display_data"
    }
   ],
   "source": [
    "train_df.groupby('demand')['fare_amount'].mean().plot()"
   ]
  },
  {
   "cell_type": "code",
   "execution_count": 351,
   "metadata": {},
   "outputs": [],
   "source": [
    "def distance(lat1, lon1, lat2, lon2):\n",
    "    \"\"\"\n",
    "    calculates the Manhattan distance between 2 points using their coordinates   \n",
    "    Returns\n",
    "    -------\n",
    "    d: float\n",
    "        The Manhattan distance between the two points in kilometers\n",
    "    \"\"\"\n",
    "    d = haversine((lat1, lon1), (lat2, lon1)) + haversine((lat2, lon1), (lat2, lon2))\n",
    "    return d\n",
    "\n",
    "# The distance is calculated in kilometers\n",
    "train_df[\"distance\"] = train_df.apply(lambda row: distance(row[\"pickup_latitude\"], \n",
    "                                               row[\"pickup_longitude\"], \n",
    "                                               row[\"dropoff_latitude\"], \n",
    "                                               row[\"dropoff_longitude\"]), axis=1)"
   ]
  },
  {
   "cell_type": "code",
   "execution_count": 352,
   "metadata": {},
   "outputs": [
    {
     "data": {
      "text/plain": [
       "0          4.365758\n",
       "1          2.175726\n",
       "2          4.805557\n",
       "3         13.461272\n",
       "4          2.811899\n",
       "5          2.236704\n",
       "6          2.759051\n",
       "7          3.779220\n",
       "8          7.227713\n",
       "9          0.758220\n",
       "10         0.936794\n",
       "11         6.980522\n",
       "12         0.858484\n",
       "13         4.409194\n",
       "14         5.597084\n",
       "15        20.155024\n",
       "16         2.769499\n",
       "17         3.462153\n",
       "18         4.028002\n",
       "19         2.386084\n",
       "20         2.323553\n",
       "21         5.556529\n",
       "22         7.693177\n",
       "23         3.795712\n",
       "24         5.689749\n",
       "25         1.425140\n",
       "26         2.069988\n",
       "27         4.691100\n",
       "28         3.058164\n",
       "29         0.000000\n",
       "            ...    \n",
       "999970     8.208024\n",
       "999971     4.013119\n",
       "999972     4.445124\n",
       "999973     4.751429\n",
       "999974     3.350710\n",
       "999975     4.375909\n",
       "999976     1.765962\n",
       "999977    33.232364\n",
       "999978     8.190792\n",
       "999979     5.135354\n",
       "999980    21.703501\n",
       "999981    10.432956\n",
       "999982     2.734151\n",
       "999983     1.729356\n",
       "999984     2.445260\n",
       "999985     4.390693\n",
       "999986     4.740688\n",
       "999987    17.242261\n",
       "999988     7.503730\n",
       "999989     5.500275\n",
       "999990     5.495309\n",
       "999991     2.917594\n",
       "999992     5.268885\n",
       "999993    14.528045\n",
       "999994     1.708432\n",
       "999995     3.271881\n",
       "999996     1.904782\n",
       "999997     7.750297\n",
       "999998     0.589235\n",
       "999999     3.043615\n",
       "Name: distance, Length: 1000000, dtype: float64"
      ]
     },
     "execution_count": 352,
     "metadata": {},
     "output_type": "execute_result"
    }
   ],
   "source": [
    "train_df[\"distance\"]"
   ]
  },
  {
   "cell_type": "code",
   "execution_count": 353,
   "metadata": {},
   "outputs": [
    {
     "data": {
      "text/plain": [
       "<matplotlib.axes._subplots.AxesSubplot at 0x8771c8d0>"
      ]
     },
     "execution_count": 353,
     "metadata": {},
     "output_type": "execute_result"
    },
    {
     "data": {
      "image/png": "[encoded data removed]",
      "text/plain": [
       "<Figure size 432x288 with 1 Axes>"
      ]
     },
     "metadata": {
      "needs_background": "light"
     },
     "output_type": "display_data"
    }
   ],
   "source": [
    "train_df.groupby('distance')['fare_amount'].mean().plot()"
   ]
  },
  {
   "cell_type": "code",
   "execution_count": 354,
   "metadata": {},
   "outputs": [
    {
     "data": {
      "text/plain": [
       "0          4.50\n",
       "1          4.50\n",
       "2         10.90\n",
       "3         29.00\n",
       "4          6.10\n",
       "5          6.90\n",
       "6          6.10\n",
       "7          7.70\n",
       "8          8.10\n",
       "9         56.80\n",
       "10         4.50\n",
       "11        22.89\n",
       "12         4.10\n",
       "13        13.50\n",
       "14         6.10\n",
       "15        44.00\n",
       "16         6.90\n",
       "17         7.30\n",
       "18         5.00\n",
       "19         4.50\n",
       "20         4.90\n",
       "21         7.00\n",
       "22        14.00\n",
       "23         6.50\n",
       "24        16.10\n",
       "25         6.50\n",
       "26         7.50\n",
       "27         9.70\n",
       "28        10.50\n",
       "29         4.90\n",
       "          ...  \n",
       "999970    15.50\n",
       "999971    15.00\n",
       "999972    11.00\n",
       "999973     7.00\n",
       "999974     4.50\n",
       "999975     8.90\n",
       "999976     7.30\n",
       "999977    57.33\n",
       "999978    12.10\n",
       "999979     4.90\n",
       "999980    48.33\n",
       "999981    15.70\n",
       "999982     6.50\n",
       "999983     6.50\n",
       "999984     6.50\n",
       "999985     5.30\n",
       "999986    10.00\n",
       "999987    17.30\n",
       "999988    10.90\n",
       "999989    10.10\n",
       "999990    13.70\n",
       "999991     9.50\n",
       "999992    31.83\n",
       "999993    19.30\n",
       "999994     3.70\n",
       "999995    14.90\n",
       "999996    11.50\n",
       "999997    24.00\n",
       "999998     4.90\n",
       "999999     7.50\n",
       "Name: fare_amount, Length: 1000000, dtype: float64"
      ]
     },
     "execution_count": 354,
     "metadata": {},
     "output_type": "execute_result"
    }
   ],
   "source": [
    "train_df[\"fare_amount\"]"
   ]
  },
  {
   "cell_type": "code",
   "execution_count": 355,
   "metadata": {},
   "outputs": [
    {
     "data": {
      "text/plain": [
       "22138.03906981074"
      ]
     },
     "execution_count": 355,
     "metadata": {},
     "output_type": "execute_result"
    }
   ],
   "source": [
    "train_df['distance'].max()"
   ]
  },
  {
   "cell_type": "code",
   "execution_count": 356,
   "metadata": {},
   "outputs": [],
   "source": [
    "train_df.to_csv(\"train_formatted_demand.csv\")"
   ]
  },
  {
   "cell_type": "code",
   "execution_count": 357,
   "metadata": {},
   "outputs": [
    {
     "data": {
      "text/html": [
       "<div>\n",
       "<style scoped>\n",
       "    .dataframe tbody tr th:only-of-type {\n",
       "        vertical-align: middle;\n",
       "    }\n",
       "\n",
       "    .dataframe tbody tr th {\n",
       "        vertical-align: top;\n",
       "    }\n",
       "\n",
       "    .dataframe thead th {\n",
       "        text-align: right;\n",
       "    }\n",
       "</style>\n",
       "<table border=\"1\" class=\"dataframe\">\n",
       "  <thead>\n",
       "    <tr style=\"text-align: right;\">\n",
       "      <th></th>\n",
       "      <th>count</th>\n",
       "      <th>mean</th>\n",
       "      <th>std</th>\n",
       "      <th>min</th>\n",
       "      <th>25%</th>\n",
       "      <th>50%</th>\n",
       "      <th>75%</th>\n",
       "      <th>max</th>\n",
       "    </tr>\n",
       "  </thead>\n",
       "  <tbody>\n",
       "    <tr>\n",
       "      <th>fare_amount</th>\n",
       "      <td>1000000.0</td>\n",
       "      <td>11.348079</td>\n",
       "      <td>9.822090</td>\n",
       "      <td>-44.900000</td>\n",
       "      <td>6.000000</td>\n",
       "      <td>8.500000</td>\n",
       "      <td>12.500000</td>\n",
       "      <td>500.000000</td>\n",
       "    </tr>\n",
       "    <tr>\n",
       "      <th>pickup_longitude</th>\n",
       "      <td>1000000.0</td>\n",
       "      <td>-72.541486</td>\n",
       "      <td>12.059714</td>\n",
       "      <td>-3377.700000</td>\n",
       "      <td>-74.000000</td>\n",
       "      <td>-74.000000</td>\n",
       "      <td>-74.000000</td>\n",
       "      <td>2522.300000</td>\n",
       "    </tr>\n",
       "    <tr>\n",
       "      <th>pickup_latitude</th>\n",
       "      <td>1000000.0</td>\n",
       "      <td>39.928901</td>\n",
       "      <td>7.626147</td>\n",
       "      <td>-3116.290000</td>\n",
       "      <td>40.730000</td>\n",
       "      <td>40.750000</td>\n",
       "      <td>40.770000</td>\n",
       "      <td>2621.630000</td>\n",
       "    </tr>\n",
       "    <tr>\n",
       "      <th>dropoff_longitude</th>\n",
       "      <td>999990.0</td>\n",
       "      <td>-72.527860</td>\n",
       "      <td>11.324494</td>\n",
       "      <td>-3383.296608</td>\n",
       "      <td>-73.991385</td>\n",
       "      <td>-73.980135</td>\n",
       "      <td>-73.963654</td>\n",
       "      <td>45.581619</td>\n",
       "    </tr>\n",
       "    <tr>\n",
       "      <th>dropoff_latitude</th>\n",
       "      <td>999990.0</td>\n",
       "      <td>39.919954</td>\n",
       "      <td>8.201418</td>\n",
       "      <td>-3114.338567</td>\n",
       "      <td>40.734046</td>\n",
       "      <td>40.753166</td>\n",
       "      <td>40.768129</td>\n",
       "      <td>1651.553433</td>\n",
       "    </tr>\n",
       "    <tr>\n",
       "      <th>passenger_count</th>\n",
       "      <td>1000000.0</td>\n",
       "      <td>1.684924</td>\n",
       "      <td>1.323911</td>\n",
       "      <td>0.000000</td>\n",
       "      <td>1.000000</td>\n",
       "      <td>1.000000</td>\n",
       "      <td>2.000000</td>\n",
       "      <td>208.000000</td>\n",
       "    </tr>\n",
       "    <tr>\n",
       "      <th>pickup_day_of_week</th>\n",
       "      <td>1000000.0</td>\n",
       "      <td>3.039856</td>\n",
       "      <td>1.949970</td>\n",
       "      <td>0.000000</td>\n",
       "      <td>1.000000</td>\n",
       "      <td>3.000000</td>\n",
       "      <td>5.000000</td>\n",
       "      <td>6.000000</td>\n",
       "    </tr>\n",
       "    <tr>\n",
       "      <th>pickup_month</th>\n",
       "      <td>1000000.0</td>\n",
       "      <td>6.267875</td>\n",
       "      <td>3.436243</td>\n",
       "      <td>1.000000</td>\n",
       "      <td>3.000000</td>\n",
       "      <td>6.000000</td>\n",
       "      <td>9.000000</td>\n",
       "      <td>12.000000</td>\n",
       "    </tr>\n",
       "    <tr>\n",
       "      <th>pickup_hour</th>\n",
       "      <td>1000000.0</td>\n",
       "      <td>13.509477</td>\n",
       "      <td>6.513840</td>\n",
       "      <td>0.000000</td>\n",
       "      <td>9.000000</td>\n",
       "      <td>14.000000</td>\n",
       "      <td>19.000000</td>\n",
       "      <td>23.000000</td>\n",
       "    </tr>\n",
       "    <tr>\n",
       "      <th>pickup_year</th>\n",
       "      <td>1000000.0</td>\n",
       "      <td>2011.741106</td>\n",
       "      <td>1.860754</td>\n",
       "      <td>2009.000000</td>\n",
       "      <td>2010.000000</td>\n",
       "      <td>2012.000000</td>\n",
       "      <td>2013.000000</td>\n",
       "      <td>2015.000000</td>\n",
       "    </tr>\n",
       "    <tr>\n",
       "      <th>id</th>\n",
       "      <td>1000000.0</td>\n",
       "      <td>499999.500000</td>\n",
       "      <td>288675.278933</td>\n",
       "      <td>0.000000</td>\n",
       "      <td>249999.750000</td>\n",
       "      <td>499999.500000</td>\n",
       "      <td>749999.250000</td>\n",
       "      <td>999999.000000</td>\n",
       "    </tr>\n",
       "    <tr>\n",
       "      <th>demand</th>\n",
       "      <td>1000000.0</td>\n",
       "      <td>2.228720</td>\n",
       "      <td>1.384743</td>\n",
       "      <td>1.000000</td>\n",
       "      <td>1.000000</td>\n",
       "      <td>2.000000</td>\n",
       "      <td>3.000000</td>\n",
       "      <td>13.000000</td>\n",
       "    </tr>\n",
       "    <tr>\n",
       "      <th>distance</th>\n",
       "      <td>999990.0</td>\n",
       "      <td>25.555126</td>\n",
       "      <td>482.917576</td>\n",
       "      <td>0.000000</td>\n",
       "      <td>2.237175</td>\n",
       "      <td>3.617448</td>\n",
       "      <td>5.619264</td>\n",
       "      <td>22138.039070</td>\n",
       "    </tr>\n",
       "  </tbody>\n",
       "</table>\n",
       "</div>"
      ],
      "text/plain": [
       "                        count           mean            std          min  \\\n",
       "fare_amount         1000000.0      11.348079       9.822090   -44.900000   \n",
       "pickup_longitude    1000000.0     -72.541486      12.059714 -3377.700000   \n",
       "pickup_latitude     1000000.0      39.928901       7.626147 -3116.290000   \n",
       "dropoff_longitude    999990.0     -72.527860      11.324494 -3383.296608   \n",
       "dropoff_latitude     999990.0      39.919954       8.201418 -3114.338567   \n",
       "passenger_count     1000000.0       1.684924       1.323911     0.000000   \n",
       "pickup_day_of_week  1000000.0       3.039856       1.949970     0.000000   \n",
       "pickup_month        1000000.0       6.267875       3.436243     1.000000   \n",
       "pickup_hour         1000000.0      13.509477       6.513840     0.000000   \n",
       "pickup_year         1000000.0    2011.741106       1.860754  2009.000000   \n",
       "id                  1000000.0  499999.500000  288675.278933     0.000000   \n",
       "demand              1000000.0       2.228720       1.384743     1.000000   \n",
       "distance             999990.0      25.555126     482.917576     0.000000   \n",
       "\n",
       "                              25%            50%            75%            max  \n",
       "fare_amount              6.000000       8.500000      12.500000     500.000000  \n",
       "pickup_longitude       -74.000000     -74.000000     -74.000000    2522.300000  \n",
       "pickup_latitude         40.730000      40.750000      40.770000    2621.630000  \n",
       "dropoff_longitude      -73.991385     -73.980135     -73.963654      45.581619  \n",
       "dropoff_latitude        40.734046      40.753166      40.768129    1651.553433  \n",
       "passenger_count          1.000000       1.000000       2.000000     208.000000  \n",
       "pickup_day_of_week       1.000000       3.000000       5.000000       6.000000  \n",
       "pickup_month             3.000000       6.000000       9.000000      12.000000  \n",
       "pickup_hour              9.000000      14.000000      19.000000      23.000000  \n",
       "pickup_year           2010.000000    2012.000000    2013.000000    2015.000000  \n",
       "id                  249999.750000  499999.500000  749999.250000  999999.000000  \n",
       "demand                   1.000000       2.000000       3.000000      13.000000  \n",
       "distance                 2.237175       3.617448       5.619264   22138.039070  "
      ]
     },
     "execution_count": 357,
     "metadata": {},
     "output_type": "execute_result"
    }
   ],
   "source": [
    "train_df.describe().transpose()"
   ]
  },
  {
   "cell_type": "code",
   "execution_count": 358,
   "metadata": {},
   "outputs": [
    {
     "data": {
      "text/plain": [
       "0        2009-06-15 17:00:00\n",
       "1        2009-08-03 23:00:00\n",
       "2        2011-07-11 13:00:00\n",
       "3        2012-12-17 22:30:00\n",
       "4        2011-02-28 22:00:00\n",
       "5        2010-03-29 13:00:00\n",
       "6        2012-03-26 02:00:00\n",
       "7        2011-04-18 14:00:00\n",
       "8        2012-07-02 22:30:00\n",
       "9        2012-10-01 00:00:00\n",
       "10       2009-09-21 20:30:00\n",
       "11       2012-06-18 21:30:00\n",
       "12       2009-06-15 14:30:00\n",
       "13       2013-05-06 07:30:00\n",
       "14       2010-01-11 17:00:00\n",
       "15       2013-06-17 16:00:00\n",
       "16       2012-03-26 17:00:00\n",
       "17       2009-05-04 15:30:00\n",
       "18       2015-02-02 10:30:00\n",
       "19       2015-06-15 15:30:00\n",
       "20       2011-02-07 09:00:00\n",
       "21       2012-09-10 22:30:00\n",
       "22       2014-10-27 17:00:00\n",
       "23       2009-03-16 10:00:00\n",
       "24       2009-08-31 01:00:00\n",
       "25       2013-02-11 09:00:00\n",
       "26       2015-03-02 13:30:00\n",
       "27       2012-04-02 22:00:00\n",
       "28       2010-02-22 09:30:00\n",
       "29       2009-12-28 20:00:00\n",
       "                 ...        \n",
       "999970   2014-02-09 20:30:00\n",
       "999971   2014-05-11 16:00:00\n",
       "999972   2014-06-01 12:00:00\n",
       "999973   2013-12-08 21:00:00\n",
       "999974   2014-11-02 00:00:00\n",
       "999975   2012-06-03 19:30:00\n",
       "999976   2009-04-19 17:00:00\n",
       "999977   2014-02-23 17:30:00\n",
       "999978   2010-01-03 15:00:00\n",
       "999979   2012-04-29 15:30:00\n",
       "999980   2013-10-13 15:30:00\n",
       "999981   2010-02-28 06:30:00\n",
       "999982   2015-02-08 11:30:00\n",
       "999983   2011-12-25 11:00:00\n",
       "999984   2012-01-29 00:30:00\n",
       "999985   2011-07-31 03:30:00\n",
       "999986   2012-11-18 01:00:00\n",
       "999987   2009-04-19 23:30:00\n",
       "999988   2011-09-18 15:00:00\n",
       "999989   2011-10-09 23:30:00\n",
       "999990   2012-08-12 17:00:00\n",
       "999991   2014-08-03 20:00:00\n",
       "999992   2015-03-08 23:00:00\n",
       "999993   2011-11-20 12:00:00\n",
       "999994   2009-07-26 06:30:00\n",
       "999995   2012-06-24 15:30:00\n",
       "999996   2012-09-30 04:00:00\n",
       "999997   2012-10-07 12:30:00\n",
       "999998   2011-04-17 20:30:00\n",
       "999999   2015-05-10 13:00:00\n",
       "Name: interval, Length: 1000000, dtype: datetime64[ns]"
      ]
     },
     "execution_count": 358,
     "metadata": {},
     "output_type": "execute_result"
    }
   ],
   "source": [
    "train_df[\"interval\"]"
   ]
  },
  {
   "cell_type": "code",
   "execution_count": 359,
   "metadata": {},
   "outputs": [
    {
     "name": "stdout",
     "output_type": "stream",
     "text": [
      "<class 'pandas.core.frame.DataFrame'>\n",
      "Int64Index: 1000000 entries, 0 to 999999\n",
      "Data columns (total 20 columns):\n",
      "key                   1000000 non-null object\n",
      "fare_amount           1000000 non-null float64\n",
      "pickup_datetime       1000000 non-null datetime64[ns]\n",
      "pickup_longitude      1000000 non-null float64\n",
      "pickup_latitude       1000000 non-null float64\n",
      "dropoff_longitude     999990 non-null float64\n",
      "dropoff_latitude      999990 non-null float64\n",
      "passenger_count       1000000 non-null int64\n",
      "pickup_day_of_week    1000000 non-null int64\n",
      "pickup_month          1000000 non-null int64\n",
      "pickup_date           1000000 non-null object\n",
      "pickup_hour           1000000 non-null int64\n",
      "pickup_year           1000000 non-null int64\n",
      "id                    1000000 non-null int64\n",
      "interval_x            1000000 non-null datetime64[ns]\n",
      "interval_time         1000000 non-null object\n",
      "demand                1000000 non-null int64\n",
      "distance              999990 non-null float64\n",
      "interval_y            1000000 non-null datetime64[ns]\n",
      "interval              1000000 non-null datetime64[ns]\n",
      "dtypes: datetime64[ns](4), float64(6), int64(7), object(3)\n",
      "memory usage: 160.2+ MB\n"
     ]
    }
   ],
   "source": [
    "train_df.info()"
   ]
  },
  {
   "cell_type": "code",
   "execution_count": 11,
   "metadata": {},
   "outputs": [],
   "source": [
    "df = pd.read_csv('formatted_demand.csv')"
   ]
  },
  {
   "cell_type": "code",
   "execution_count": 12,
   "metadata": {},
   "outputs": [],
   "source": [
    "\n",
    "df = df[[\"demand\",\"fare_amount\",\"pickup_longitude\",\"pickup_latitude\",\"pickup_hour\",\"interval\",\"pickup_day_of_week\"]]"
   ]
  },
  {
   "cell_type": "code",
   "execution_count": 13,
   "metadata": {},
   "outputs": [],
   "source": [
    "df.interval = pd.to_datetime(df.interval)"
   ]
  },
  {
   "cell_type": "code",
   "execution_count": 14,
   "metadata": {},
   "outputs": [],
   "source": [
    "df =df.loc[df.pickup_longitude<80]"
   ]
  },
  {
   "cell_type": "code",
   "execution_count": 15,
   "metadata": {},
   "outputs": [],
   "source": [
    "df=df.loc[df.demand<7]"
   ]
  },
  {
   "cell_type": "code",
   "execution_count": 16,
   "metadata": {
    "scrolled": true
   },
   "outputs": [
    {
     "data": {
      "text/html": [
       "<div>\n",
       "<style scoped>\n",
       "    .dataframe tbody tr th:only-of-type {\n",
       "        vertical-align: middle;\n",
       "    }\n",
       "\n",
       "    .dataframe tbody tr th {\n",
       "        vertical-align: top;\n",
       "    }\n",
       "\n",
       "    .dataframe thead th {\n",
       "        text-align: right;\n",
       "    }\n",
       "</style>\n",
       "<table border=\"1\" class=\"dataframe\">\n",
       "  <thead>\n",
       "    <tr style=\"text-align: right;\">\n",
       "      <th></th>\n",
       "      <th>demand</th>\n",
       "      <th>fare_amount</th>\n",
       "      <th>pickup_longitude</th>\n",
       "      <th>pickup_latitude</th>\n",
       "      <th>pickup_hour</th>\n",
       "      <th>pickup_day_of_week</th>\n",
       "    </tr>\n",
       "  </thead>\n",
       "  <tbody>\n",
       "    <tr>\n",
       "      <th>count</th>\n",
       "      <td>988663.000000</td>\n",
       "      <td>988663.000000</td>\n",
       "      <td>988663.000000</td>\n",
       "      <td>988663.000000</td>\n",
       "      <td>988663.000000</td>\n",
       "      <td>988663.000000</td>\n",
       "    </tr>\n",
       "    <tr>\n",
       "      <th>mean</th>\n",
       "      <td>2.168129</td>\n",
       "      <td>11.364076</td>\n",
       "      <td>-72.529627</td>\n",
       "      <td>39.915132</td>\n",
       "      <td>13.478199</td>\n",
       "      <td>3.044598</td>\n",
       "    </tr>\n",
       "    <tr>\n",
       "      <th>std</th>\n",
       "      <td>1.267691</td>\n",
       "      <td>9.846900</td>\n",
       "      <td>11.632511</td>\n",
       "      <td>7.019797</td>\n",
       "      <td>6.516761</td>\n",
       "      <td>1.951764</td>\n",
       "    </tr>\n",
       "    <tr>\n",
       "      <th>min</th>\n",
       "      <td>1.000000</td>\n",
       "      <td>-44.900000</td>\n",
       "      <td>-3377.700000</td>\n",
       "      <td>-3116.290000</td>\n",
       "      <td>0.000000</td>\n",
       "      <td>0.000000</td>\n",
       "    </tr>\n",
       "    <tr>\n",
       "      <th>25%</th>\n",
       "      <td>1.000000</td>\n",
       "      <td>6.000000</td>\n",
       "      <td>-74.000000</td>\n",
       "      <td>40.730000</td>\n",
       "      <td>9.000000</td>\n",
       "      <td>1.000000</td>\n",
       "    </tr>\n",
       "    <tr>\n",
       "      <th>50%</th>\n",
       "      <td>2.000000</td>\n",
       "      <td>8.500000</td>\n",
       "      <td>-74.000000</td>\n",
       "      <td>40.750000</td>\n",
       "      <td>14.000000</td>\n",
       "      <td>3.000000</td>\n",
       "    </tr>\n",
       "    <tr>\n",
       "      <th>75%</th>\n",
       "      <td>3.000000</td>\n",
       "      <td>12.500000</td>\n",
       "      <td>-74.000000</td>\n",
       "      <td>40.770000</td>\n",
       "      <td>19.000000</td>\n",
       "      <td>5.000000</td>\n",
       "    </tr>\n",
       "    <tr>\n",
       "      <th>max</th>\n",
       "      <td>6.000000</td>\n",
       "      <td>500.000000</td>\n",
       "      <td>40.900000</td>\n",
       "      <td>424.080000</td>\n",
       "      <td>23.000000</td>\n",
       "      <td>6.000000</td>\n",
       "    </tr>\n",
       "  </tbody>\n",
       "</table>\n",
       "</div>"
      ],
      "text/plain": [
       "              demand    fare_amount  pickup_longitude  pickup_latitude  \\\n",
       "count  988663.000000  988663.000000     988663.000000    988663.000000   \n",
       "mean        2.168129      11.364076        -72.529627        39.915132   \n",
       "std         1.267691       9.846900         11.632511         7.019797   \n",
       "min         1.000000     -44.900000      -3377.700000     -3116.290000   \n",
       "25%         1.000000       6.000000        -74.000000        40.730000   \n",
       "50%         2.000000       8.500000        -74.000000        40.750000   \n",
       "75%         3.000000      12.500000        -74.000000        40.770000   \n",
       "max         6.000000     500.000000         40.900000       424.080000   \n",
       "\n",
       "         pickup_hour  pickup_day_of_week  \n",
       "count  988663.000000       988663.000000  \n",
       "mean       13.478199            3.044598  \n",
       "std         6.516761            1.951764  \n",
       "min         0.000000            0.000000  \n",
       "25%         9.000000            1.000000  \n",
       "50%        14.000000            3.000000  \n",
       "75%        19.000000            5.000000  \n",
       "max        23.000000            6.000000  "
      ]
     },
     "execution_count": 16,
     "metadata": {},
     "output_type": "execute_result"
    }
   ],
   "source": [
    "df.describe()"
   ]
  },
  {
   "cell_type": "code",
   "execution_count": 17,
   "metadata": {},
   "outputs": [
    {
     "data": {
      "text/html": [
       "<div>\n",
       "<style scoped>\n",
       "    .dataframe tbody tr th:only-of-type {\n",
       "        vertical-align: middle;\n",
       "    }\n",
       "\n",
       "    .dataframe tbody tr th {\n",
       "        vertical-align: top;\n",
       "    }\n",
       "\n",
       "    .dataframe thead th {\n",
       "        text-align: right;\n",
       "    }\n",
       "</style>\n",
       "<table border=\"1\" class=\"dataframe\">\n",
       "  <thead>\n",
       "    <tr style=\"text-align: right;\">\n",
       "      <th></th>\n",
       "      <th>demand</th>\n",
       "      <th>fare_amount</th>\n",
       "      <th>pickup_longitude</th>\n",
       "      <th>pickup_latitude</th>\n",
       "      <th>pickup_hour</th>\n",
       "      <th>pickup_day_of_week</th>\n",
       "    </tr>\n",
       "  </thead>\n",
       "  <tbody>\n",
       "    <tr>\n",
       "      <th>demand</th>\n",
       "      <td>1.000000</td>\n",
       "      <td>-0.112045</td>\n",
       "      <td>-0.094769</td>\n",
       "      <td>0.089643</td>\n",
       "      <td>0.119948</td>\n",
       "      <td>-0.021290</td>\n",
       "    </tr>\n",
       "    <tr>\n",
       "      <th>fare_amount</th>\n",
       "      <td>-0.112045</td>\n",
       "      <td>1.000000</td>\n",
       "      <td>0.008863</td>\n",
       "      <td>-0.008412</td>\n",
       "      <td>-0.018264</td>\n",
       "      <td>0.002116</td>\n",
       "    </tr>\n",
       "    <tr>\n",
       "      <th>pickup_longitude</th>\n",
       "      <td>-0.094769</td>\n",
       "      <td>0.008863</td>\n",
       "      <td>1.000000</td>\n",
       "      <td>-0.731132</td>\n",
       "      <td>0.001008</td>\n",
       "      <td>0.001039</td>\n",
       "    </tr>\n",
       "    <tr>\n",
       "      <th>pickup_latitude</th>\n",
       "      <td>0.089643</td>\n",
       "      <td>-0.008412</td>\n",
       "      <td>-0.731132</td>\n",
       "      <td>1.000000</td>\n",
       "      <td>0.000418</td>\n",
       "      <td>-0.003277</td>\n",
       "    </tr>\n",
       "    <tr>\n",
       "      <th>pickup_hour</th>\n",
       "      <td>0.119948</td>\n",
       "      <td>-0.018264</td>\n",
       "      <td>0.001008</td>\n",
       "      <td>0.000418</td>\n",
       "      <td>1.000000</td>\n",
       "      <td>-0.085874</td>\n",
       "    </tr>\n",
       "    <tr>\n",
       "      <th>pickup_day_of_week</th>\n",
       "      <td>-0.021290</td>\n",
       "      <td>0.002116</td>\n",
       "      <td>0.001039</td>\n",
       "      <td>-0.003277</td>\n",
       "      <td>-0.085874</td>\n",
       "      <td>1.000000</td>\n",
       "    </tr>\n",
       "  </tbody>\n",
       "</table>\n",
       "</div>"
      ],
      "text/plain": [
       "                      demand  fare_amount  pickup_longitude  pickup_latitude  \\\n",
       "demand              1.000000    -0.112045         -0.094769         0.089643   \n",
       "fare_amount        -0.112045     1.000000          0.008863        -0.008412   \n",
       "pickup_longitude   -0.094769     0.008863          1.000000        -0.731132   \n",
       "pickup_latitude     0.089643    -0.008412         -0.731132         1.000000   \n",
       "pickup_hour         0.119948    -0.018264          0.001008         0.000418   \n",
       "pickup_day_of_week -0.021290     0.002116          0.001039        -0.003277   \n",
       "\n",
       "                    pickup_hour  pickup_day_of_week  \n",
       "demand                 0.119948           -0.021290  \n",
       "fare_amount           -0.018264            0.002116  \n",
       "pickup_longitude       0.001008            0.001039  \n",
       "pickup_latitude        0.000418           -0.003277  \n",
       "pickup_hour            1.000000           -0.085874  \n",
       "pickup_day_of_week    -0.085874            1.000000  "
      ]
     },
     "execution_count": 17,
     "metadata": {},
     "output_type": "execute_result"
    }
   ],
   "source": [
    "df.corr()"
   ]
  },
  {
   "cell_type": "code",
   "execution_count": 18,
   "metadata": {},
   "outputs": [],
   "source": [
    "df.index = df.interval"
   ]
  },
  {
   "cell_type": "code",
   "execution_count": 19,
   "metadata": {},
   "outputs": [],
   "source": [
    "df = df.resample(rule='60T', closed='left', label='left', base=17).mean()"
   ]
  },
  {
   "cell_type": "code",
   "execution_count": 20,
   "metadata": {},
   "outputs": [],
   "source": [
    "df = df[df.columns].apply(pd.to_numeric, errors='coerce')"
   ]
  },
  {
   "cell_type": "code",
   "execution_count": null,
   "metadata": {},
   "outputs": [],
   "source": []
  },
  {
   "cell_type": "code",
   "execution_count": 21,
   "metadata": {},
   "outputs": [
    {
     "data": {
      "text/html": [
       "<div>\n",
       "<style scoped>\n",
       "    .dataframe tbody tr th:only-of-type {\n",
       "        vertical-align: middle;\n",
       "    }\n",
       "\n",
       "    .dataframe tbody tr th {\n",
       "        vertical-align: top;\n",
       "    }\n",
       "\n",
       "    .dataframe thead th {\n",
       "        text-align: right;\n",
       "    }\n",
       "</style>\n",
       "<table border=\"1\" class=\"dataframe\">\n",
       "  <thead>\n",
       "    <tr style=\"text-align: right;\">\n",
       "      <th></th>\n",
       "      <th>demand</th>\n",
       "      <th>fare_amount</th>\n",
       "      <th>pickup_longitude</th>\n",
       "      <th>pickup_latitude</th>\n",
       "      <th>pickup_hour</th>\n",
       "      <th>pickup_day_of_week</th>\n",
       "    </tr>\n",
       "    <tr>\n",
       "      <th>interval</th>\n",
       "      <th></th>\n",
       "      <th></th>\n",
       "      <th></th>\n",
       "      <th></th>\n",
       "      <th></th>\n",
       "      <th></th>\n",
       "    </tr>\n",
       "  </thead>\n",
       "  <tbody>\n",
       "    <tr>\n",
       "      <th>2008-12-31 23:17:00</th>\n",
       "      <td>1.333333</td>\n",
       "      <td>11.666667</td>\n",
       "      <td>-74.000000</td>\n",
       "      <td>40.768333</td>\n",
       "      <td>0.000000</td>\n",
       "      <td>3.0</td>\n",
       "    </tr>\n",
       "    <tr>\n",
       "      <th>2009-01-01 00:17:00</th>\n",
       "      <td>1.400000</td>\n",
       "      <td>9.666667</td>\n",
       "      <td>-73.993333</td>\n",
       "      <td>40.754667</td>\n",
       "      <td>0.533333</td>\n",
       "      <td>3.0</td>\n",
       "    </tr>\n",
       "    <tr>\n",
       "      <th>2009-01-01 01:17:00</th>\n",
       "      <td>1.200000</td>\n",
       "      <td>8.800000</td>\n",
       "      <td>-74.000000</td>\n",
       "      <td>40.729000</td>\n",
       "      <td>1.600000</td>\n",
       "      <td>3.0</td>\n",
       "    </tr>\n",
       "    <tr>\n",
       "      <th>2009-01-01 02:17:00</th>\n",
       "      <td>1.000000</td>\n",
       "      <td>12.811111</td>\n",
       "      <td>-73.988889</td>\n",
       "      <td>40.763333</td>\n",
       "      <td>2.555556</td>\n",
       "      <td>3.0</td>\n",
       "    </tr>\n",
       "    <tr>\n",
       "      <th>2009-01-01 03:17:00</th>\n",
       "      <td>1.400000</td>\n",
       "      <td>8.470000</td>\n",
       "      <td>-74.000000</td>\n",
       "      <td>40.735000</td>\n",
       "      <td>3.600000</td>\n",
       "      <td>3.0</td>\n",
       "    </tr>\n",
       "  </tbody>\n",
       "</table>\n",
       "</div>"
      ],
      "text/plain": [
       "                       demand  fare_amount  pickup_longitude  pickup_latitude  \\\n",
       "interval                                                                        \n",
       "2008-12-31 23:17:00  1.333333    11.666667        -74.000000        40.768333   \n",
       "2009-01-01 00:17:00  1.400000     9.666667        -73.993333        40.754667   \n",
       "2009-01-01 01:17:00  1.200000     8.800000        -74.000000        40.729000   \n",
       "2009-01-01 02:17:00  1.000000    12.811111        -73.988889        40.763333   \n",
       "2009-01-01 03:17:00  1.400000     8.470000        -74.000000        40.735000   \n",
       "\n",
       "                     pickup_hour  pickup_day_of_week  \n",
       "interval                                              \n",
       "2008-12-31 23:17:00     0.000000                 3.0  \n",
       "2009-01-01 00:17:00     0.533333                 3.0  \n",
       "2009-01-01 01:17:00     1.600000                 3.0  \n",
       "2009-01-01 02:17:00     2.555556                 3.0  \n",
       "2009-01-01 03:17:00     3.600000                 3.0  "
      ]
     },
     "execution_count": 21,
     "metadata": {},
     "output_type": "execute_result"
    }
   ],
   "source": [
    "df.head()\n"
   ]
  },
  {
   "cell_type": "code",
   "execution_count": 332,
   "metadata": {},
   "outputs": [
    {
     "data": {
      "text/plain": [
       "True"
      ]
     },
     "execution_count": 332,
     "metadata": {},
     "output_type": "execute_result"
    }
   ],
   "source": [
    "df.isnull().values.any()\n"
   ]
  },
  {
   "cell_type": "code",
   "execution_count": 22,
   "metadata": {},
   "outputs": [
    {
     "data": {
      "text/plain": [
       "<60 * Minutes>"
      ]
     },
     "execution_count": 22,
     "metadata": {},
     "output_type": "execute_result"
    }
   ],
   "source": [
    "df.index.freq"
   ]
  },
  {
   "cell_type": "code",
   "execution_count": 23,
   "metadata": {},
   "outputs": [],
   "source": [
    "df.fillna(df.mean(), inplace=True)"
   ]
  },
  {
   "cell_type": "code",
   "execution_count": 24,
   "metadata": {},
   "outputs": [
    {
     "data": {
      "text/plain": [
       "demand                float64\n",
       "fare_amount           float64\n",
       "pickup_longitude      float64\n",
       "pickup_latitude       float64\n",
       "pickup_hour           float64\n",
       "pickup_day_of_week    float64\n",
       "dtype: object"
      ]
     },
     "execution_count": 24,
     "metadata": {},
     "output_type": "execute_result"
    }
   ],
   "source": [
    "df.dtypes"
   ]
  },
  {
   "cell_type": "code",
   "execution_count": 25,
   "metadata": {},
   "outputs": [],
   "source": [
    "train_size = int(len(df) * 0.80)\n",
    "train, test = df[0:train_size], df[train_size:len(df)]"
   ]
  },
  {
   "cell_type": "code",
   "execution_count": 26,
   "metadata": {},
   "outputs": [
    {
     "data": {
      "text/plain": [
       "demand                float64\n",
       "fare_amount           float64\n",
       "pickup_longitude      float64\n",
       "pickup_latitude       float64\n",
       "pickup_hour           float64\n",
       "pickup_day_of_week    float64\n",
       "dtype: object"
      ]
     },
     "execution_count": 26,
     "metadata": {},
     "output_type": "execute_result"
    }
   ],
   "source": [
    "df.dtypes"
   ]
  },
  {
   "cell_type": "code",
   "execution_count": 27,
   "metadata": {},
   "outputs": [
    {
     "data": {
      "text/plain": [
       "<matplotlib.axes._subplots.AxesSubplot at 0x26da6eb8>"
      ]
     },
     "execution_count": 27,
     "metadata": {},
     "output_type": "execute_result"
    },
    {
     "data": {
      "image/png": "[encoded data removed]",
      "text/plain": [
       "<Figure size 1080x576 with 1 Axes>"
      ]
     },
     "metadata": {
      "needs_background": "light"
     },
     "output_type": "display_data"
    }
   ],
   "source": [
    "df.demand.plot(figsize=(15,8), title= 'Daily Ridership', fontsize=14)"
   ]
  },
  {
   "cell_type": "code",
   "execution_count": 28,
   "metadata": {},
   "outputs": [
    {
     "data": {
      "text/html": [
       "<div>\n",
       "<style scoped>\n",
       "    .dataframe tbody tr th:only-of-type {\n",
       "        vertical-align: middle;\n",
       "    }\n",
       "\n",
       "    .dataframe tbody tr th {\n",
       "        vertical-align: top;\n",
       "    }\n",
       "\n",
       "    .dataframe thead th {\n",
       "        text-align: right;\n",
       "    }\n",
       "</style>\n",
       "<table border=\"1\" class=\"dataframe\">\n",
       "  <thead>\n",
       "    <tr style=\"text-align: right;\">\n",
       "      <th></th>\n",
       "      <th>demand</th>\n",
       "      <th>fare_amount</th>\n",
       "      <th>pickup_longitude</th>\n",
       "      <th>pickup_latitude</th>\n",
       "      <th>pickup_hour</th>\n",
       "      <th>pickup_day_of_week</th>\n",
       "    </tr>\n",
       "    <tr>\n",
       "      <th>interval</th>\n",
       "      <th></th>\n",
       "      <th></th>\n",
       "      <th></th>\n",
       "      <th></th>\n",
       "      <th></th>\n",
       "      <th></th>\n",
       "    </tr>\n",
       "  </thead>\n",
       "  <tbody>\n",
       "    <tr>\n",
       "      <th>2015-06-30 19:17:00</th>\n",
       "      <td>2.769231</td>\n",
       "      <td>9.653846</td>\n",
       "      <td>-71.153846</td>\n",
       "      <td>39.185000</td>\n",
       "      <td>19.423077</td>\n",
       "      <td>1.0</td>\n",
       "    </tr>\n",
       "    <tr>\n",
       "      <th>2015-06-30 20:17:00</th>\n",
       "      <td>1.875000</td>\n",
       "      <td>12.375000</td>\n",
       "      <td>-69.362500</td>\n",
       "      <td>38.198750</td>\n",
       "      <td>20.500000</td>\n",
       "      <td>1.0</td>\n",
       "    </tr>\n",
       "    <tr>\n",
       "      <th>2015-06-30 21:17:00</th>\n",
       "      <td>1.526316</td>\n",
       "      <td>16.556842</td>\n",
       "      <td>-70.084211</td>\n",
       "      <td>38.613158</td>\n",
       "      <td>21.473684</td>\n",
       "      <td>1.0</td>\n",
       "    </tr>\n",
       "    <tr>\n",
       "      <th>2015-06-30 22:17:00</th>\n",
       "      <td>2.583333</td>\n",
       "      <td>14.522500</td>\n",
       "      <td>-70.908333</td>\n",
       "      <td>39.040417</td>\n",
       "      <td>22.375000</td>\n",
       "      <td>1.0</td>\n",
       "    </tr>\n",
       "    <tr>\n",
       "      <th>2015-06-30 23:17:00</th>\n",
       "      <td>1.888889</td>\n",
       "      <td>12.722222</td>\n",
       "      <td>-65.777778</td>\n",
       "      <td>36.220000</td>\n",
       "      <td>23.000000</td>\n",
       "      <td>1.0</td>\n",
       "    </tr>\n",
       "  </tbody>\n",
       "</table>\n",
       "</div>"
      ],
      "text/plain": [
       "                       demand  fare_amount  pickup_longitude  pickup_latitude  \\\n",
       "interval                                                                        \n",
       "2015-06-30 19:17:00  2.769231     9.653846        -71.153846        39.185000   \n",
       "2015-06-30 20:17:00  1.875000    12.375000        -69.362500        38.198750   \n",
       "2015-06-30 21:17:00  1.526316    16.556842        -70.084211        38.613158   \n",
       "2015-06-30 22:17:00  2.583333    14.522500        -70.908333        39.040417   \n",
       "2015-06-30 23:17:00  1.888889    12.722222        -65.777778        36.220000   \n",
       "\n",
       "                     pickup_hour  pickup_day_of_week  \n",
       "interval                                              \n",
       "2015-06-30 19:17:00    19.423077                 1.0  \n",
       "2015-06-30 20:17:00    20.500000                 1.0  \n",
       "2015-06-30 21:17:00    21.473684                 1.0  \n",
       "2015-06-30 22:17:00    22.375000                 1.0  \n",
       "2015-06-30 23:17:00    23.000000                 1.0  "
      ]
     },
     "execution_count": 28,
     "metadata": {},
     "output_type": "execute_result"
    }
   ],
   "source": [
    "test.tail()"
   ]
  },
  {
   "cell_type": "code",
   "execution_count": 29,
   "metadata": {},
   "outputs": [
    {
     "data": {
      "text/plain": [
       "<matplotlib.axes._subplots.AxesSubplot at 0x14ce2c88>"
      ]
     },
     "execution_count": 29,
     "metadata": {},
     "output_type": "execute_result"
    },
    {
     "data": {
      "image/png": "[encoded data removed]",
      "text/plain": [
       "<Figure size 1080x576 with 1 Axes>"
      ]
     },
     "metadata": {
      "needs_background": "light"
     },
     "output_type": "display_data"
    }
   ],
   "source": [
    "train.demand.plot(figsize=(15,8), title= 'Daily Ridership', fontsize=14)"
   ]
  },
  {
   "cell_type": "code",
   "execution_count": 30,
   "metadata": {},
   "outputs": [
    {
     "data": {
      "text/plain": [
       "<matplotlib.axes._subplots.AxesSubplot at 0x26d960f0>"
      ]
     },
     "execution_count": 30,
     "metadata": {},
     "output_type": "execute_result"
    },
    {
     "data": {
      "image/png": "[encoded data removed]",
      "text/plain": [
       "<Figure size 1080x576 with 1 Axes>"
      ]
     },
     "metadata": {
      "needs_background": "light"
     },
     "output_type": "display_data"
    }
   ],
   "source": [
    "test.demand.plot(figsize=(15,8), title= 'Daily Ridership', fontsize=14)"
   ]
  },
  {
   "cell_type": "code",
   "execution_count": 31,
   "metadata": {},
   "outputs": [],
   "source": [
    "from sklearn.linear_model import LinearRegression"
   ]
  },
  {
   "cell_type": "code",
   "execution_count": 32,
   "metadata": {},
   "outputs": [],
   "source": [
    "x_train = train[['pickup_hour','pickup_longitude','pickup_latitude','pickup_day_of_week']]\n",
    "x_test = test[['pickup_hour','pickup_longitude','pickup_latitude','pickup_day_of_week']]\n",
    "y_train = train[['fare_amount']]\n",
    "y_test = test[['fare_amount']]"
   ]
  },
  {
   "cell_type": "code",
   "execution_count": 33,
   "metadata": {},
   "outputs": [
    {
     "data": {
      "text/plain": [
       "count    56929.000000\n",
       "mean         1.916833\n",
       "std          0.614832\n",
       "min          1.000000\n",
       "25%          1.444444\n",
       "50%          1.900000\n",
       "75%          2.333333\n",
       "max          5.000000\n",
       "Name: demand, dtype: float64"
      ]
     },
     "execution_count": 33,
     "metadata": {},
     "output_type": "execute_result"
    }
   ],
   "source": [
    "df.demand.describe()"
   ]
  },
  {
   "cell_type": "code",
   "execution_count": 34,
   "metadata": {},
   "outputs": [],
   "source": [
    "y_train= y_train.apply(np.int64)"
   ]
  },
  {
   "cell_type": "code",
   "execution_count": 35,
   "metadata": {},
   "outputs": [
    {
     "data": {
      "text/plain": [
       "array(['pickup_hour', 'pickup_longitude', 'pickup_latitude',\n",
       "       'pickup_day_of_week'], dtype=object)"
      ]
     },
     "execution_count": 35,
     "metadata": {},
     "output_type": "execute_result"
    }
   ],
   "source": [
    "x_train.columns.values"
   ]
  },
  {
   "cell_type": "code",
   "execution_count": 36,
   "metadata": {},
   "outputs": [],
   "source": [
    "y_test= y_test.apply(np.int64)"
   ]
  },
  {
   "cell_type": "code",
   "execution_count": 37,
   "metadata": {},
   "outputs": [],
   "source": [
    "from statsmodels.tsa.vector_ar.var_model import VAR\n"
   ]
  },
  {
   "cell_type": "code",
   "execution_count": 38,
   "metadata": {},
   "outputs": [
    {
     "data": {
      "text/plain": [
       "<60 * Minutes>"
      ]
     },
     "execution_count": 38,
     "metadata": {},
     "output_type": "execute_result"
    }
   ],
   "source": [
    "train.index.freq"
   ]
  },
  {
   "cell_type": "code",
   "execution_count": 39,
   "metadata": {},
   "outputs": [
    {
     "data": {
      "text/plain": [
       "pickup_hour           float64\n",
       "pickup_longitude      float64\n",
       "pickup_latitude       float64\n",
       "pickup_day_of_week    float64\n",
       "dtype: object"
      ]
     },
     "execution_count": 39,
     "metadata": {},
     "output_type": "execute_result"
    }
   ],
   "source": [
    "x_train.dtypes"
   ]
  },
  {
   "cell_type": "code",
   "execution_count": 40,
   "metadata": {},
   "outputs": [
    {
     "data": {
      "text/html": [
       "<div>\n",
       "<style scoped>\n",
       "    .dataframe tbody tr th:only-of-type {\n",
       "        vertical-align: middle;\n",
       "    }\n",
       "\n",
       "    .dataframe tbody tr th {\n",
       "        vertical-align: top;\n",
       "    }\n",
       "\n",
       "    .dataframe thead th {\n",
       "        text-align: right;\n",
       "    }\n",
       "</style>\n",
       "<table border=\"1\" class=\"dataframe\">\n",
       "  <thead>\n",
       "    <tr style=\"text-align: right;\">\n",
       "      <th></th>\n",
       "      <th>pickup_hour</th>\n",
       "      <th>pickup_longitude</th>\n",
       "      <th>pickup_latitude</th>\n",
       "      <th>pickup_day_of_week</th>\n",
       "    </tr>\n",
       "  </thead>\n",
       "  <tbody>\n",
       "    <tr>\n",
       "      <th>count</th>\n",
       "      <td>45543.000000</td>\n",
       "      <td>45543.000000</td>\n",
       "      <td>45543.000000</td>\n",
       "      <td>45543.000000</td>\n",
       "    </tr>\n",
       "    <tr>\n",
       "      <th>mean</th>\n",
       "      <td>11.570437</td>\n",
       "      <td>-72.520607</td>\n",
       "      <td>39.901661</td>\n",
       "      <td>3.006394</td>\n",
       "    </tr>\n",
       "    <tr>\n",
       "      <th>std</th>\n",
       "      <td>6.505984</td>\n",
       "      <td>4.045862</td>\n",
       "      <td>2.445415</td>\n",
       "      <td>1.979397</td>\n",
       "    </tr>\n",
       "    <tr>\n",
       "      <th>min</th>\n",
       "      <td>0.000000</td>\n",
       "      <td>-397.577778</td>\n",
       "      <td>-62.404839</td>\n",
       "      <td>0.000000</td>\n",
       "    </tr>\n",
       "    <tr>\n",
       "      <th>25%</th>\n",
       "      <td>6.333333</td>\n",
       "      <td>-73.996875</td>\n",
       "      <td>39.428871</td>\n",
       "      <td>1.000000</td>\n",
       "    </tr>\n",
       "    <tr>\n",
       "      <th>50%</th>\n",
       "      <td>11.560000</td>\n",
       "      <td>-73.986957</td>\n",
       "      <td>40.746111</td>\n",
       "      <td>3.000000</td>\n",
       "    </tr>\n",
       "    <tr>\n",
       "      <th>75%</th>\n",
       "      <td>17.333333</td>\n",
       "      <td>-71.533333</td>\n",
       "      <td>40.754167</td>\n",
       "      <td>5.000000</td>\n",
       "    </tr>\n",
       "    <tr>\n",
       "      <th>max</th>\n",
       "      <td>23.000000</td>\n",
       "      <td>9.680000</td>\n",
       "      <td>77.167000</td>\n",
       "      <td>6.000000</td>\n",
       "    </tr>\n",
       "  </tbody>\n",
       "</table>\n",
       "</div>"
      ],
      "text/plain": [
       "        pickup_hour  pickup_longitude  pickup_latitude  pickup_day_of_week\n",
       "count  45543.000000      45543.000000     45543.000000        45543.000000\n",
       "mean      11.570437        -72.520607        39.901661            3.006394\n",
       "std        6.505984          4.045862         2.445415            1.979397\n",
       "min        0.000000       -397.577778       -62.404839            0.000000\n",
       "25%        6.333333        -73.996875        39.428871            1.000000\n",
       "50%       11.560000        -73.986957        40.746111            3.000000\n",
       "75%       17.333333        -71.533333        40.754167            5.000000\n",
       "max       23.000000          9.680000        77.167000            6.000000"
      ]
     },
     "execution_count": 40,
     "metadata": {},
     "output_type": "execute_result"
    }
   ],
   "source": [
    "x_train.describe()"
   ]
  },
  {
   "cell_type": "code",
   "execution_count": 41,
   "metadata": {},
   "outputs": [],
   "source": [
    "from sklearn import datasets, linear_model\n",
    "from sklearn.metrics import mean_squared_error, r2_score"
   ]
  },
  {
   "cell_type": "code",
   "execution_count": 42,
   "metadata": {},
   "outputs": [],
   "source": [
    "# Create linear regression object\n",
    "regr = linear_model.LinearRegression()"
   ]
  },
  {
   "cell_type": "code",
   "execution_count": 43,
   "metadata": {},
   "outputs": [
    {
     "data": {
      "text/plain": [
       "LinearRegression(copy_X=True, fit_intercept=True, n_jobs=1, normalize=False)"
      ]
     },
     "execution_count": 43,
     "metadata": {},
     "output_type": "execute_result"
    }
   ],
   "source": [
    "regr.fit(x_train, y_train)\n"
   ]
  },
  {
   "cell_type": "code",
   "execution_count": 44,
   "metadata": {},
   "outputs": [],
   "source": [
    "x_test = x_test[np.isfinite(x_test['pickup_hour'])]\n",
    "y_test = y_test[np.isfinite(y_test['fare_amount'])]"
   ]
  },
  {
   "cell_type": "code",
   "execution_count": 45,
   "metadata": {},
   "outputs": [],
   "source": [
    "y_pred = regr.predict(x_test)\n"
   ]
  },
  {
   "cell_type": "code",
   "execution_count": 46,
   "metadata": {},
   "outputs": [
    {
     "name": "stdout",
     "output_type": "stream",
     "text": [
      "Coefficients: \n",
      " [[-0.07462924  0.00893669 -0.00940529 -0.01715573]]\n"
     ]
    }
   ],
   "source": [
    "# The coefficients\n",
    "print('Coefficients: \\n', regr.coef_)"
   ]
  },
  {
   "cell_type": "code",
   "execution_count": 47,
   "metadata": {},
   "outputs": [
    {
     "name": "stdout",
     "output_type": "stream",
     "text": [
      "Mean squared error: 25.14\n",
      "Variance score: -0.21\n"
     ]
    }
   ],
   "source": [
    "print(\"Mean squared error: %.2f\"\n",
    "      % mean_squared_error(y_test, y_pred))\n",
    "# Explained variance score: 1 is perfect prediction\n",
    "print('Variance score: %.2f' % r2_score(y_test, y_pred))"
   ]
  },
  {
   "cell_type": "code",
   "execution_count": 50,
   "metadata": {},
   "outputs": [
    {
     "name": "stderr",
     "output_type": "stream",
     "text": [
      "C:\\Users\\user\\Anaconda\\lib\\site-packages\\sklearn\\ensemble\\weight_boosting.py:29: DeprecationWarning:\n",
      "\n",
      "numpy.core.umath_tests is an internal NumPy module and should not be imported. It will be removed in a future NumPy release.\n",
      "\n"
     ]
    }
   ],
   "source": [
    "from sklearn.ensemble import RandomForestRegressor\n"
   ]
  },
  {
   "cell_type": "code",
   "execution_count": 51,
   "metadata": {},
   "outputs": [],
   "source": [
    "regressor = RandomForestRegressor(n_estimators=20, random_state=0)  \n"
   ]
  },
  {
   "cell_type": "code",
   "execution_count": 52,
   "metadata": {},
   "outputs": [
    {
     "name": "stderr",
     "output_type": "stream",
     "text": [
      "C:\\Users\\user\\Anaconda\\lib\\site-packages\\ipykernel_launcher.py:1: DataConversionWarning:\n",
      "\n",
      "A column-vector y was passed when a 1d array was expected. Please change the shape of y to (n_samples,), for example using ravel().\n",
      "\n"
     ]
    }
   ],
   "source": [
    "regressor.fit(x_train, y_train)  \n",
    "y_pred = regressor.predict(x_test) "
   ]
  },
  {
   "cell_type": "code",
   "execution_count": 53,
   "metadata": {},
   "outputs": [
    {
     "name": "stdout",
     "output_type": "stream",
     "text": [
      "Mean squared error: 0.26\n",
      "Variance score: 0.20\n"
     ]
    }
   ],
   "source": [
    "print(\"Mean squared error: %.2f\"\n",
    "      % mean_squared_error(y_test, y_pred))\n",
    "# Explained variance score: 1 is perfect prediction\n",
    "print('Variance score: %.2f' % r2_score(y_test, y_pred))"
   ]
  },
  {
   "cell_type": "code",
   "execution_count": 98,
   "metadata": {},
   "outputs": [],
   "source": [
    "from sklearn.tree import DecisionTreeRegressor"
   ]
  },
  {
   "cell_type": "code",
   "execution_count": 111,
   "metadata": {},
   "outputs": [],
   "source": [
    "regressor  = DecisionTreeRegressor(max_depth=5)"
   ]
  },
  {
   "cell_type": "code",
   "execution_count": 112,
   "metadata": {},
   "outputs": [],
   "source": [
    "regressor.fit(x_train, y_train)  \n",
    "y_pred = regressor.predict(x_test) "
   ]
  },
  {
   "cell_type": "code",
   "execution_count": 113,
   "metadata": {},
   "outputs": [
    {
     "name": "stdout",
     "output_type": "stream",
     "text": [
      "Mean squared error: 0.25\n",
      "Variance score: 0.23\n"
     ]
    }
   ],
   "source": [
    "print(\"Mean squared error: %.2f\"\n",
    "    % mean_squared_error(y_test, y_pred))\n",
    "# Explained variance score: 1 is perfect prediction\n",
    "print('Variance score: %.2f' % r2_score(y_test, y_pred))"
   ]
  },
  {
   "cell_type": "code",
   "execution_count": 115,
   "metadata": {},
   "outputs": [],
   "source": [
    "import xgboost as xgb\n"
   ]
  },
  {
   "cell_type": "code",
   "execution_count": 119,
   "metadata": {},
   "outputs": [],
   "source": [
    "xg_reg = xgb.XGBRegressor(objective ='reg:linear', colsample_bytree = 0.3, learning_rate = 0.2,\n",
    "                max_depth = 5, alpha = 10, n_estimators = 10)"
   ]
  },
  {
   "cell_type": "code",
   "execution_count": 120,
   "metadata": {},
   "outputs": [],
   "source": [
    "xg_reg.fit(x_train,y_train)\n",
    "preds = xg_reg.predict(x_test)"
   ]
  },
  {
   "cell_type": "code",
   "execution_count": 121,
   "metadata": {},
   "outputs": [
    {
     "name": "stdout",
     "output_type": "stream",
     "text": [
      "Mean squared error: 0.25\n",
      "Variance score: 0.23\n"
     ]
    }
   ],
   "source": [
    "print(\"Mean squared error: %.2f\"\n",
    "    % mean_squared_error(y_test, y_pred))\n",
    "# Explained variance score: 1 is perfect prediction\n",
    "print('Variance score: %.2f' % r2_score(y_test, y_pred))"
   ]
  },
  {
   "cell_type": "code",
   "execution_count": 55,
   "metadata": {},
   "outputs": [],
   "source": [
    "from statsmodels.tsa.ar_model import AR\n",
    "from sklearn.metrics import mean_squared_error"
   ]
  },
  {
   "cell_type": "code",
   "execution_count": 56,
   "metadata": {},
   "outputs": [
    {
     "data": {
      "text/plain": [
       "<60 * Minutes>"
      ]
     },
     "execution_count": 56,
     "metadata": {},
     "output_type": "execute_result"
    }
   ],
   "source": [
    "df.index.freq"
   ]
  },
  {
   "cell_type": "code",
   "execution_count": 57,
   "metadata": {},
   "outputs": [],
   "source": [
    "# train autoregression\n",
    "model = AR(y_train)"
   ]
  },
  {
   "cell_type": "code",
   "execution_count": 58,
   "metadata": {},
   "outputs": [],
   "source": [
    "model_fit = model.fit()\n"
   ]
  },
  {
   "cell_type": "code",
   "execution_count": 59,
   "metadata": {},
   "outputs": [
    {
     "name": "stdout",
     "output_type": "stream",
     "text": [
      "Lag: 55\n"
     ]
    }
   ],
   "source": [
    "print('Lag: %s' % model_fit.k_ar)\n"
   ]
  },
  {
   "cell_type": "code",
   "execution_count": 60,
   "metadata": {},
   "outputs": [
    {
     "name": "stdout",
     "output_type": "stream",
     "text": [
      "Coefficients: const         0.702579\n",
      "L1.demand     0.162802\n",
      "L2.demand     0.095635\n",
      "L3.demand     0.052560\n",
      "L4.demand     0.024558\n",
      "L5.demand     0.004197\n",
      "L6.demand    -0.009174\n",
      "L7.demand    -0.028387\n",
      "L8.demand    -0.028328\n",
      "L9.demand    -0.015319\n",
      "L10.demand    0.012529\n",
      "L11.demand    0.008629\n",
      "L12.demand    0.014961\n",
      "L13.demand    0.003621\n",
      "L14.demand    0.007762\n",
      "L15.demand   -0.018156\n",
      "L16.demand   -0.030276\n",
      "L17.demand   -0.024111\n",
      "L18.demand   -0.018494\n",
      "L19.demand   -0.000753\n",
      "L20.demand    0.005049\n",
      "L21.demand    0.016303\n",
      "L22.demand    0.041006\n",
      "L23.demand    0.064503\n",
      "L24.demand    0.099904\n",
      "L25.demand    0.061250\n",
      "L26.demand    0.036749\n",
      "L27.demand    0.009136\n",
      "L28.demand    0.009229\n",
      "L29.demand    0.003180\n",
      "L30.demand   -0.012268\n",
      "L31.demand   -0.023193\n",
      "L32.demand   -0.027028\n",
      "L33.demand   -0.015128\n",
      "L34.demand    0.001276\n",
      "L35.demand   -0.000301\n",
      "L36.demand    0.003961\n",
      "L37.demand   -0.007007\n",
      "L38.demand   -0.006221\n",
      "L39.demand   -0.002771\n",
      "L40.demand   -0.007749\n",
      "L41.demand   -0.005110\n",
      "L42.demand    0.006452\n",
      "L43.demand    0.001555\n",
      "L44.demand    0.004115\n",
      "L45.demand    0.006520\n",
      "L46.demand    0.000595\n",
      "L47.demand    0.027499\n",
      "L48.demand    0.045227\n",
      "L49.demand    0.009779\n",
      "L50.demand    0.004537\n",
      "L51.demand   -0.005508\n",
      "L52.demand   -0.005599\n",
      "L53.demand   -0.005104\n",
      "L54.demand   -0.005018\n",
      "L55.demand   -0.006923\n",
      "dtype: float64\n"
     ]
    }
   ],
   "source": [
    "print('Coefficients: %s' % model_fit.params)\n"
   ]
  },
  {
   "cell_type": "code",
   "execution_count": 61,
   "metadata": {},
   "outputs": [],
   "source": [
    "predictions = model_fit.predict(start=len(y_train), end=len(y_train)+len(y_test)-1, dynamic=False)\n"
   ]
  },
  {
   "cell_type": "code",
   "execution_count": 62,
   "metadata": {},
   "outputs": [],
   "source": [
    "from sklearn.metrics import r2_score"
   ]
  },
  {
   "cell_type": "code",
   "execution_count": 63,
   "metadata": {},
   "outputs": [],
   "source": [
    "ar_pred = np.array(predictions)"
   ]
  },
  {
   "cell_type": "code",
   "execution_count": 64,
   "metadata": {},
   "outputs": [
    {
     "name": "stdout",
     "output_type": "stream",
     "text": [
      "Mean squared error: 0.33\n",
      "Variance score: -0.01\n"
     ]
    }
   ],
   "source": [
    "print(\"Mean squared error: %.2f\"\n",
    "      % mean_squared_error(y_test, ar_pred))\n",
    "# Explained variance score: 1 is perfect prediction\n",
    "print('Variance score: %.2f' % r2_score(y_test, ar_pred))"
   ]
  },
  {
   "cell_type": "code",
   "execution_count": 65,
   "metadata": {},
   "outputs": [],
   "source": [
    "from matplotlib import pyplot\n"
   ]
  },
  {
   "cell_type": "code",
   "execution_count": 66,
   "metadata": {},
   "outputs": [
    {
     "data": {
      "text/html": [
       "<div>\n",
       "<style scoped>\n",
       "    .dataframe tbody tr th:only-of-type {\n",
       "        vertical-align: middle;\n",
       "    }\n",
       "\n",
       "    .dataframe tbody tr th {\n",
       "        vertical-align: top;\n",
       "    }\n",
       "\n",
       "    .dataframe thead th {\n",
       "        text-align: right;\n",
       "    }\n",
       "</style>\n",
       "<table border=\"1\" class=\"dataframe\">\n",
       "  <thead>\n",
       "    <tr style=\"text-align: right;\">\n",
       "      <th></th>\n",
       "      <th>interval</th>\n",
       "      <th>demand</th>\n",
       "    </tr>\n",
       "  </thead>\n",
       "  <tbody>\n",
       "    <tr>\n",
       "      <th>0</th>\n",
       "      <td>2014-03-13 14:17:00</td>\n",
       "      <td>2</td>\n",
       "    </tr>\n",
       "    <tr>\n",
       "      <th>1</th>\n",
       "      <td>2014-03-13 15:17:00</td>\n",
       "      <td>1</td>\n",
       "    </tr>\n",
       "    <tr>\n",
       "      <th>2</th>\n",
       "      <td>2014-03-13 16:17:00</td>\n",
       "      <td>2</td>\n",
       "    </tr>\n",
       "    <tr>\n",
       "      <th>3</th>\n",
       "      <td>2014-03-13 17:17:00</td>\n",
       "      <td>2</td>\n",
       "    </tr>\n",
       "    <tr>\n",
       "      <th>4</th>\n",
       "      <td>2014-03-13 18:17:00</td>\n",
       "      <td>2</td>\n",
       "    </tr>\n",
       "  </tbody>\n",
       "</table>\n",
       "</div>"
      ],
      "text/plain": [
       "             interval  demand\n",
       "0 2014-03-13 14:17:00       2\n",
       "1 2014-03-13 15:17:00       1\n",
       "2 2014-03-13 16:17:00       2\n",
       "3 2014-03-13 17:17:00       2\n",
       "4 2014-03-13 18:17:00       2"
      ]
     },
     "execution_count": 66,
     "metadata": {},
     "output_type": "execute_result"
    }
   ],
   "source": [
    "y_test.reset_index().head()"
   ]
  },
  {
   "cell_type": "code",
   "execution_count": 67,
   "metadata": {},
   "outputs": [],
   "source": [
    "model = VAR(endog=train)\n"
   ]
  },
  {
   "cell_type": "code",
   "execution_count": 68,
   "metadata": {},
   "outputs": [],
   "source": [
    "model_fit = model.fit()\n"
   ]
  },
  {
   "cell_type": "code",
   "execution_count": 69,
   "metadata": {},
   "outputs": [],
   "source": [
    "prediction = model_fit.forecast(model_fit.y, steps=len(y_test))"
   ]
  },
  {
   "cell_type": "code",
   "execution_count": 70,
   "metadata": {},
   "outputs": [],
   "source": [
    "cols=train.columns.values"
   ]
  },
  {
   "cell_type": "code",
   "execution_count": 71,
   "metadata": {
    "scrolled": true
   },
   "outputs": [],
   "source": [
    "#converting predictions to dataframe\n",
    "pred = pd.DataFrame(index=range(0,len(prediction)),columns=[cols])\n",
    "for j in range(0,5):\n",
    "    for i in range(0, len(prediction)):\n",
    "       pred.iloc[i][j] = prediction[i][j]\n",
    "\n"
   ]
  },
  {
   "cell_type": "code",
   "execution_count": 72,
   "metadata": {},
   "outputs": [],
   "source": [
    "import math"
   ]
  },
  {
   "cell_type": "code",
   "execution_count": 73,
   "metadata": {},
   "outputs": [
    {
     "name": "stdout",
     "output_type": "stream",
     "text": [
      "rmse value for 11385 is :  0.58582727236348\n"
     ]
    }
   ],
   "source": [
    "print('rmse value for', i, 'is : ', math.sqrt(mean_squared_error(pred['demand'], test['demand'])))"
   ]
  },
  {
   "cell_type": "code",
   "execution_count": 76,
   "metadata": {},
   "outputs": [],
   "source": [
    "from statsmodels.tsa.api import ExponentialSmoothing, SimpleExpSmoothing, Holt\n"
   ]
  },
  {
   "cell_type": "code",
   "execution_count": 77,
   "metadata": {},
   "outputs": [],
   "source": [
    "# Exponential Smoothing\n",
    "fit2 = SimpleExpSmoothing(np.asarray(train['demand'])).fit(smoothing_level=0.6,optimized=False)"
   ]
  },
  {
   "cell_type": "code",
   "execution_count": 79,
   "metadata": {},
   "outputs": [],
   "source": [
    "pred  = fit2.forecast(len(test))"
   ]
  },
  {
   "cell_type": "code",
   "execution_count": 80,
   "metadata": {},
   "outputs": [
    {
     "data": {
      "text/plain": [
       "array([2.18554509, 2.18554509, 2.18554509, ..., 2.18554509, 2.18554509,\n",
       "       2.18554509])"
      ]
     },
     "execution_count": 80,
     "metadata": {},
     "output_type": "execute_result"
    }
   ],
   "source": [
    "pred"
   ]
  },
  {
   "cell_type": "code",
   "execution_count": 81,
   "metadata": {},
   "outputs": [
    {
     "name": "stdout",
     "output_type": "stream",
     "text": [
      "rmse value for pickup_day_of_week is :  0.6658102745096396\n"
     ]
    }
   ],
   "source": [
    "print('rmse value for', i, 'is : ', math.sqrt(mean_squared_error(pred, test['demand'])))"
   ]
  },
  {
   "cell_type": "code",
   "execution_count": 82,
   "metadata": {},
   "outputs": [
    {
     "name": "stderr",
     "output_type": "stream",
     "text": [
      "C:\\Users\\user\\Anaconda\\lib\\site-packages\\mkl_fft\\_numpy_fft.py:1044: FutureWarning:\n",
      "\n",
      "Using a non-tuple sequence for multidimensional indexing is deprecated; use `arr[tuple(seq)]` instead of `arr[seq]`. In the future this will be interpreted as an array index, `arr[np.array(seq)]`, which will result either in an error or a different result.\n",
      "\n"
     ]
    },
    {
     "data": {
      "image/png": "[encoded data removed]",
      "text/plain": [
       "<Figure size 432x288 with 4 Axes>"
      ]
     },
     "metadata": {
      "needs_background": "light"
     },
     "output_type": "display_data"
    }
   ],
   "source": [
    "import statsmodels.api as sm\n",
    "sm.tsa.seasonal_decompose(train.demand).plot()\n",
    "result = sm.tsa.stattools.adfuller(train.demand)\n",
    "plt.show()"
   ]
  },
  {
   "cell_type": "code",
   "execution_count": null,
   "metadata": {},
   "outputs": [],
   "source": [
    "# Holt Linear Trend Method..."
   ]
  },
  {
   "cell_type": "code",
   "execution_count": 83,
   "metadata": {},
   "outputs": [],
   "source": [
    "fit1 = Holt(np.asarray(train['demand'])).fit(smoothing_level = 0.3,smoothing_slope = 0.1)\n",
    "pred= fit1.forecast(len(test))"
   ]
  },
  {
   "cell_type": "code",
   "execution_count": 84,
   "metadata": {},
   "outputs": [
    {
     "name": "stdout",
     "output_type": "stream",
     "text": [
      "rmse value for pickup_day_of_week is :  250.5814058722232\n"
     ]
    }
   ],
   "source": [
    "print('rmse value for', i, 'is : ', math.sqrt(mean_squared_error(pred, test['demand'])))"
   ]
  },
  {
   "cell_type": "code",
   "execution_count": 85,
   "metadata": {},
   "outputs": [],
   "source": [
    "fit1 = ExponentialSmoothing(np.asarray(train['demand']) ,seasonal_periods=7 ,trend='add', seasonal='add',).fit()"
   ]
  },
  {
   "cell_type": "code",
   "execution_count": 86,
   "metadata": {},
   "outputs": [],
   "source": [
    "pred= fit1.forecast(len(test))"
   ]
  },
  {
   "cell_type": "code",
   "execution_count": 87,
   "metadata": {},
   "outputs": [
    {
     "name": "stdout",
     "output_type": "stream",
     "text": [
      "rmse value for pickup_day_of_week is :  0.7952281782404124\n"
     ]
    }
   ],
   "source": [
    "print('rmse value for', i, 'is : ', math.sqrt(mean_squared_error(pred, test['demand'])))"
   ]
  },
  {
   "cell_type": "code",
   "execution_count": 88,
   "metadata": {},
   "outputs": [],
   "source": [
    "fit1 = sm.tsa.statespace.SARIMAX(train.demand, order=(2, 1, 4),seasonal_order=(0,1,1,7)).fit()\n"
   ]
  },
  {
   "cell_type": "code",
   "execution_count": 89,
   "metadata": {},
   "outputs": [
    {
     "data": {
      "text/html": [
       "<div>\n",
       "<style scoped>\n",
       "    .dataframe tbody tr th:only-of-type {\n",
       "        vertical-align: middle;\n",
       "    }\n",
       "\n",
       "    .dataframe tbody tr th {\n",
       "        vertical-align: top;\n",
       "    }\n",
       "\n",
       "    .dataframe thead th {\n",
       "        text-align: right;\n",
       "    }\n",
       "</style>\n",
       "<table border=\"1\" class=\"dataframe\">\n",
       "  <thead>\n",
       "    <tr style=\"text-align: right;\">\n",
       "      <th></th>\n",
       "      <th>demand</th>\n",
       "      <th>fare_amount</th>\n",
       "      <th>pickup_longitude</th>\n",
       "      <th>pickup_latitude</th>\n",
       "      <th>pickup_hour</th>\n",
       "      <th>pickup_day_of_week</th>\n",
       "    </tr>\n",
       "    <tr>\n",
       "      <th>interval</th>\n",
       "      <th></th>\n",
       "      <th></th>\n",
       "      <th></th>\n",
       "      <th></th>\n",
       "      <th></th>\n",
       "      <th></th>\n",
       "    </tr>\n",
       "  </thead>\n",
       "  <tbody>\n",
       "    <tr>\n",
       "      <th>2014-03-13 14:17:00</th>\n",
       "      <td>2.100000</td>\n",
       "      <td>10.741500</td>\n",
       "      <td>-73.995000</td>\n",
       "      <td>40.752500</td>\n",
       "      <td>14.650000</td>\n",
       "      <td>3.0</td>\n",
       "    </tr>\n",
       "    <tr>\n",
       "      <th>2014-03-13 15:17:00</th>\n",
       "      <td>1.250000</td>\n",
       "      <td>12.135000</td>\n",
       "      <td>-69.362500</td>\n",
       "      <td>38.209375</td>\n",
       "      <td>15.375000</td>\n",
       "      <td>3.0</td>\n",
       "    </tr>\n",
       "    <tr>\n",
       "      <th>2014-03-13 16:17:00</th>\n",
       "      <td>2.619048</td>\n",
       "      <td>14.221905</td>\n",
       "      <td>-73.995238</td>\n",
       "      <td>40.758095</td>\n",
       "      <td>16.666667</td>\n",
       "      <td>3.0</td>\n",
       "    </tr>\n",
       "    <tr>\n",
       "      <th>2014-03-13 17:17:00</th>\n",
       "      <td>2.652174</td>\n",
       "      <td>10.644783</td>\n",
       "      <td>-73.995652</td>\n",
       "      <td>40.747826</td>\n",
       "      <td>17.391304</td>\n",
       "      <td>3.0</td>\n",
       "    </tr>\n",
       "    <tr>\n",
       "      <th>2014-03-13 18:17:00</th>\n",
       "      <td>2.314286</td>\n",
       "      <td>13.266571</td>\n",
       "      <td>-69.762857</td>\n",
       "      <td>38.425429</td>\n",
       "      <td>18.600000</td>\n",
       "      <td>3.0</td>\n",
       "    </tr>\n",
       "  </tbody>\n",
       "</table>\n",
       "</div>"
      ],
      "text/plain": [
       "                       demand  fare_amount  pickup_longitude  pickup_latitude  \\\n",
       "interval                                                                        \n",
       "2014-03-13 14:17:00  2.100000    10.741500        -73.995000        40.752500   \n",
       "2014-03-13 15:17:00  1.250000    12.135000        -69.362500        38.209375   \n",
       "2014-03-13 16:17:00  2.619048    14.221905        -73.995238        40.758095   \n",
       "2014-03-13 17:17:00  2.652174    10.644783        -73.995652        40.747826   \n",
       "2014-03-13 18:17:00  2.314286    13.266571        -69.762857        38.425429   \n",
       "\n",
       "                     pickup_hour  pickup_day_of_week  \n",
       "interval                                              \n",
       "2014-03-13 14:17:00    14.650000                 3.0  \n",
       "2014-03-13 15:17:00    15.375000                 3.0  \n",
       "2014-03-13 16:17:00    16.666667                 3.0  \n",
       "2014-03-13 17:17:00    17.391304                 3.0  \n",
       "2014-03-13 18:17:00    18.600000                 3.0  "
      ]
     },
     "execution_count": 89,
     "metadata": {},
     "output_type": "execute_result"
    }
   ],
   "source": [
    "test.head()"
   ]
  },
  {
   "cell_type": "code",
   "execution_count": 96,
   "metadata": {},
   "outputs": [
    {
     "name": "stderr",
     "output_type": "stream",
     "text": [
      "C:\\Users\\user\\Anaconda\\lib\\site-packages\\statsmodels\\tsa\\statespace\\kalman_filter.py:1740: ValueWarning:\n",
      "\n",
      "Dynamic prediction specified to begin during out-of-sample forecasting period, and so has no effect.\n",
      "\n"
     ]
    }
   ],
   "source": [
    "pred = fit1.predict(start=len(train)+1, end=len(train)+1+len(test)-1, dynamic=True)"
   ]
  },
  {
   "cell_type": "code",
   "execution_count": 97,
   "metadata": {},
   "outputs": [
    {
     "name": "stdout",
     "output_type": "stream",
     "text": [
      "rmse value for pickup_day_of_week is :  0.6024895928111502\n"
     ]
    }
   ],
   "source": [
    "print('rmse value for', i, 'is : ', math.sqrt(mean_squared_error(pred, test['demand'])))"
   ]
  },
  {
   "cell_type": "code",
   "execution_count": null,
   "metadata": {},
   "outputs": [],
   "source": []
  }
 ],
 "metadata": {
  "kernelspec": {
   "display_name": "Python 3",
   "language": "python",
   "name": "python3"
  },
  "language_info": {
   "codemirror_mode": {
    "name": "ipython",
    "version": 3
   },
   "file_extension": ".py",
   "mimetype": "text/x-python",
   "name": "python",
   "nbconvert_exporter": "python",
   "pygments_lexer": "ipython3",
   "version": "3.7.0"
  }
 },
 "nbformat": 4,
 "nbformat_minor": 2
}
